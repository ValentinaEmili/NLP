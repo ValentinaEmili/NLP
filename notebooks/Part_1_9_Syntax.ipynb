{
 "cells": [
  {
   "cell_type": "markdown",
   "metadata": {},
   "source": [
    "<img src='https://www.di.uniroma1.it/sites/all/themes/sapienza_bootstrap/logo.png' width=\"200\"/>  \n",
    "\n",
    "# Part_1_1_Syntax_and_CKY  \n",
    "\n",
    "In Natural Language Processing (`NLP`), syntax helps analyze and generate human language. **Context-free grammars (`CFGs`)** describe sentence structures and are used in tasks like parsing and translation.\n",
    "\n",
    "The **Cocke–Younger–Kasami (`CKY`) algorithm** is a key method for processing `CFGs`, efficiently checking if a sentence matches a grammar and building its parse tree. This notebook covers `CFGs` basics and explains the `CKY` algorithm.\n",
    "\n",
    "### **Objectives:**  \n",
    "In this notebook, Parham introduces **context-free grammars** as a foundation for syntactic parsing in `NLP` and demonstrates their role in defining sentence structure. The tutorial will then cover the `CKY` algorithm, explaining its theory and practical implementation with hands-on examples.\n",
    "\n",
    "### **References:**  \n",
    "- [https://web.stanford.edu/class/archive/cs/cs103/cs103.1164/lectures/18/Small18.pdf](https://web.stanford.edu/class/archive/cs/cs103/cs103.1164/lectures/18/Small18.pdf)  \n",
    "- [https://www.nltk.org/api/nltk.html#nltk.tree.Tree](https://www.nltk.org/api/nltk.html#nltk.tree.Tree) \n",
    "- [https://github.com/NLie2/CYK-algorithm-for-CFG](https://github.com/NLie2/CYK-algorithm-for-CFG)  \n",
    "- [https://github.com/Huntersxsx/CKY-Parser](https://github.com/Huntersxsx/CKY-Parser)\n",
    "\n",
    "### **Contributors:**  \n",
    "- Parham Membari  \n",
    "    - <img src=\"https://upload.wikimedia.org/wikipedia/commons/7/7e/Gmail_icon_%282020%29.svg\" alt=\"Logo\" width=\"20\" height=\"20\"> **Email**: p.membari96@gmail.com  \n",
    "    - <img src=\"https://www.iconsdb.com/icons/preview/red/linkedin-6-xxl.png\" alt=\"Logo\" width=\"20\" height=\"20\"> **LinkedIn**: [LinkedIn](https://www.linkedin.com/in/p-mem/)  \n",
    "    - <img src=\"https://upload.wikimedia.org/wikipedia/commons/a/ae/Github-desktop-logo-symbol.svg\" alt=\"Logo\" width=\"20\" height=\"20\"> **GitHub**: [GitHub](https://github.com/parham075)  \n",
    "    - <img src=\"https://upload.wikimedia.org/wikipedia/commons/e/ec/Medium_logo_Monogram.svg\" alt=\"Logo\" width=\"20\" height=\"20\"> **Medium**: [Medium](https://medium.com/@p.membari96)  \n",
    "\n",
    "**Table of Contents:**  \n",
    "1. Import Libraries  \n",
    "2. Introduction to Syntax in NLP  \n",
    "3. Context-Free Grammars (`CFGs`)   \n",
    "4. The Cocke–Younger–Kasami (`CKY`) Algorithm    \n",
    "5. Conclusion  "
   ]
  },
  {
   "cell_type": "markdown",
   "metadata": {},
   "source": [
    "## 1. Import Libraries "
   ]
  },
  {
   "cell_type": "code",
   "execution_count": 1,
   "metadata": {},
   "outputs": [],
   "source": [
    "import nltk\n",
    "from nltk import CFG\n",
    "from nltk.parse.chart import ChartParser"
   ]
  },
  {
   "cell_type": "markdown",
   "metadata": {},
   "source": [
    "## 2. Introduction to Syntax in NLP"
   ]
  },
  {
   "cell_type": "markdown",
   "metadata": {},
   "source": [
    "Syntax is a key aspect of linguistics that focuses on the arrangement of words and phrases to form valid sentences. In Natural Language Processing (`NLP`), understanding syntax is crucial for analyzing the grammatical structure of text, enabling machines to interpret and generate language more effectively.  \n",
    "\n",
    "Syntactic analysis involves identifying the relation of words to each other in a sentence, demonstrating the underlying structure. For example, in the sentence:  \n",
    "\n",
    "``` The dog chased the cat. ``` \n",
    "\n",
    "Syntax helps determine relationships like *\"the dog\"* as the subject and *\"chased the cat\"* as the predicate.  \n",
    "\n",
    "In the following sections, we focus on **context-free grammars (`CFGs`)**, a key formalism for syntactic analysis, and the **Cocke–Younger–Kasami (`CKY`) algorithm**, a method for parsing sentences using CFGs.  "
   ]
  },
  {
   "cell_type": "code",
   "execution_count": null,
   "metadata": {},
   "outputs": [],
   "source": []
  },
  {
   "cell_type": "markdown",
   "metadata": {},
   "source": [
    "### **3. Context-Free Grammars (`CFGs`)**  \n",
    "\n",
    "Parham explores two foundational models for regular languages:  \n",
    "1. **[Regular Expressions](notebooks/Part_1_3_Regular_Expressions.ipynb)**:  \n",
    "   These describe the strings in a language, match strings belonging to the language, and define the general structure of all valid strings.  \n",
    "\n",
    "2. **[Finite Automata](notebooks/Part_1_4_REs_and_finite_state_automata.ipynb)**:  \n",
    "   These accept strings in the language, recognize valid strings, and perform computations to determine membership of specific strings.  \n",
    "\n",
    "While these models are powerful for defining **regular languages**, more complex languages require additional formalism.  \n",
    "\n",
    "#### **What is a Context-Free Grammar?**  \n",
    "A **context-free grammar (`CFG`)** is a formalism for defining languages beyond the capabilities of regular expressions and finite automata. Unlike regular languages, `CFGs` focus on generating valid strings in a language through a structured process, often producing hierarchical structures like parse trees. The primary goal of `CFGs` is to provide a procedure for listing all strings in a language, making them essential for syntactic analysis in `NLP`. \n",
    "\n",
    "#### **Explain CFG with example:**\n",
    "A **context-free grammar (CFG)** provides a systematic way to generate all valid strings in a language. Unlike regular expressions and finite automata, which are limited to regular languages, `CFGs` can handle more complex languages with hierarchical structures, such as arithmetic expressions or programming languages.  \n",
    "\n",
    "**Arithmetic Expressions**  \n",
    "Suppose we want to describe all valid arithmetic expressions using addition, subtraction, multiplication, and division. Here’s a possible CFG for this:  \n",
    "\n",
    "```  \n",
    "E → int  \n",
    "E → E Op E  \n",
    "E → (E)  \n",
    "Op → +  \n",
    "Op → -  \n",
    "Op → *  \n",
    "Op → /  \n",
    "```  \n",
    "\n",
    "This grammar defines valid expressions like `int + int`, `int * (int - int)`, or `(int + int) / int`. Let's look at a derivation step-by-step:  \n",
    "\n",
    "**Derivation Example 1**  \n",
    "To derive the expression `int * (int + int)`:  \n",
    "1. Start with `E`.  \n",
    "2. Apply `E → E Op E` → `E * E`.  \n",
    "3. Replace the first `E` with `int` → `int * E`.  \n",
    "4. Apply `E → (E)` to the second `E` → `int * (E)`.  \n",
    "5. Apply `E → E Op E` → `int * (E + E)`.  \n",
    "6. Replace both `E`s with `int` → `int * (int + int)`.  \n",
    "\n",
    "**Derivation Example 2**  \n",
    "To derive the expression `int / int`:  \n",
    "1. Start with `E`.  \n",
    "2. Apply `E → E Op E` → `E / E`.  \n",
    "3. Replace both `E`s with `int` → `int / int`.  \n",
    "\n",
    "**Formal Definition of a CFG**  \n",
    "A **context-free grammar** is defined as a collection of four components:  \n",
    "1. **Nonterminal Symbols**: Variables representing intermediate structures (e.g., `E`, `Op`).  \n",
    "2. **Terminal Symbols**: The alphabet of the language (e.g., `int`, `+`, `-`).  \n",
    "3. **Production Rules**: Specify how nonterminals can be replaced by a string of terminals and/or other nonterminals (e.g., `E → int`, `E → E Op E`).  \n",
    "4. **Start Symbol**: A special nonterminal (e.g., `E`) from which derivations begin.  \n",
    "\n",
    "**Notation and Shorthand**  \n",
    "- **Nonterminals**: Represented with capital letters (e.g., `E`, `Op`).  \n",
    "- **Terminals**: Represented with lowercase or symbolic characters (e.g., `int`, `+`).  \n",
    "- **Derivations**: A sequence of steps replacing nonterminals by the right-hand side of a production.  \n",
    "\n",
    "For example:  \n",
    "```\n",
    "E → int | E Op E | (E)  \n",
    "Op → + | - | * | /  \n",
    "```  \n",
    "This shorthand combines rules for readability.  \n",
    "\n",
    "**Language of a CFG**  \n",
    "If `G` is a CFG with an alphabet `Σ` and start symbol `S`, the **language** of `G`, denoted as `ℒ(G)`, is the set of all strings derivable from `S` using the grammar's rules.  \n",
    "\n",
    "Formally:  \n",
    "```\n",
    "ℒ(G) = { ω ∈ Σ* | S ⇒* ω }  \n",
    "```\n",
    "Where `ω` is a string of terminals, and `⇒*` means \"derivable in zero or more steps.\"  \n",
    "\n",
    "#### **Context-Free Languages (CFLs)**  \n",
    "A language `L` is called a **context-free language (CFL)** if there exists a CFG `G` such that `L = ℒ(G)`. \n"
   ]
  },
  {
   "cell_type": "code",
   "execution_count": 4,
   "metadata": {},
   "outputs": [
    {
     "name": "stdout",
     "output_type": "stream",
     "text": [
      "Context-Free Grammar Rules:\n",
      "Grammar with 7 productions (start state = E)\n",
      "    E -> 'int'\n",
      "    E -> E Op E\n",
      "    E -> '(' E ')'\n",
      "    Op -> '+'\n",
      "    Op -> '-'\n",
      "    Op -> '*'\n",
      "    Op -> '/'\n",
      "\n",
      "Tokens: ['int', '*', '(', 'int', '+', 'int', ')']\n",
      "\n",
      "Parse Trees:\n",
      "(E (E int) (Op *) (E ( (E (E int) (Op +) (E int)) )))\n",
      "             E             \n",
      "  ___________|___           \n",
      " |   |           E         \n",
      " |   |    _______|___       \n",
      " |   |   |   |       E     \n",
      " |   |   |   |    ___|___   \n",
      " E   Op  |   |   E   Op  E \n",
      " |   |   |   |   |   |   |  \n",
      "int  *   (   )  int  +  int\n",
      "\n"
     ]
    }
   ],
   "source": [
    "import nltk\n",
    "from nltk import CFG\n",
    "from nltk.parse.chart import ChartParser\n",
    "\n",
    "# Define a context-free grammar (CFG) correctly\n",
    "cfg_grammar = CFG.fromstring(\"\"\"\n",
    "  E -> 'int' | E Op E | '(' E ')'\n",
    "  Op -> '+' | '-' | '*' | '/'\n",
    "\"\"\")\n",
    "\n",
    "# Print the grammar rules\n",
    "print(\"Context-Free Grammar Rules:\")\n",
    "print(cfg_grammar)\n",
    "\n",
    "# Example arithmetic expression to parse\n",
    "expression = \"int * ( int + int )\"\n",
    "\n",
    "# Tokenize the expression\n",
    "tokens = expression.split()\n",
    "print(\"\\nTokens:\", tokens)\n",
    "\n",
    "# Create a chart parser with the defined CFG\n",
    "parser = ChartParser(cfg_grammar)\n",
    "\n",
    "# Parse the tokens and print all valid parse trees\n",
    "print(\"\\nParse Trees:\")\n",
    "for tree in parser.parse(tokens):\n",
    "    print(tree)\n",
    "    tree.pretty_print()\n"
   ]
  },
  {
   "cell_type": "markdown",
   "metadata": {},
   "source": [
    "## 4. The Cocke–Younger–Kasami (`CKY`) Algorithm  "
   ]
  },
  {
   "cell_type": "code",
   "execution_count": null,
   "metadata": {},
   "outputs": [],
   "source": []
  },
  {
   "cell_type": "markdown",
   "metadata": {},
   "source": [
    "## 5. Conclusion "
   ]
  }
 ],
 "metadata": {
  "kernelspec": {
   "display_name": "nlp",
   "language": "python",
   "name": "python3"
  },
  "language_info": {
   "codemirror_mode": {
    "name": "ipython",
    "version": 3
   },
   "file_extension": ".py",
   "mimetype": "text/x-python",
   "name": "python",
   "nbconvert_exporter": "python",
   "pygments_lexer": "ipython3",
   "version": "3.10.15"
  }
 },
 "nbformat": 4,
 "nbformat_minor": 2
}
