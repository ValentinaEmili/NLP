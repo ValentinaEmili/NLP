{
  "cells": [
    {
      "cell_type": "markdown",
      "metadata": {
        "id": "QdhvdUzmtkzI"
      },
      "source": [
        "# Part 1.3 - Regular Expressions\n",
        "A regular expression (shortened as regex or `RegEx`), sometimes referred to as a rational expression, is a sequence of characters that specifies a match pattern in text. Usually, such patterns are used by string-searching algorithms for \"**find**\" or \"**find & replace**\" operations on strings, or for input validation. Regular expression techniques are developed in theoretical computer science and formal language theory.\n",
        "\n",
        "**Objectives:**\n",
        "\n",
        "By the end of this notebook, Parham will have learned what `Regular Expressions` are and their use cases in `NLP`. He will acquire the basic concepts and syntax, such as **Quantifiers**, **Anchors**, **Groups**, etc. Subsequently, he will dive into more practical problems, such as **Matching and Extracting data**, and **Substitution and Splitting**. Last but not least, Parham will grasp some advanced techniques in the aforementioned scope, including **Named Groups**, **Non-Capturing Groups**, and **Conditional Statements**. Finally, he will challenge himself with a set of small tasks in this context.\n",
        "\n",
        "**Tabel of Content:**\n",
        "\n",
        "1. Import Libraries\n",
        "2. Introduction to Regular Expressions\n",
        "3. Basic Concepts and Syntax\n",
        "4. Practical Applications\n",
        "5. Advanced Techniques\n",
        "6. Exercises and Challenges\n",
        "7.  Closing Thoughts"
      ]
    },
    {
      "cell_type": "markdown",
      "metadata": {
        "id": "WUmX7sO71Hra"
      },
      "source": [
        "## 1) Import Libraries"
      ]
    },
    {
      "cell_type": "code",
      "execution_count": 3,
      "metadata": {
        "id": "-vf7lt-Z1w9F"
      },
      "outputs": [],
      "source": [
        "import re"
      ]
    },
    {
      "cell_type": "markdown",
      "metadata": {
        "id": "9MnBh_WJ17a9"
      },
      "source": [
        "## 2) Introduction to Regular Expressions\n",
        "\n",
        "In this part of the notebook, Parham will gain basic knowledge about `RegEx`, and some of his questions will be answered. These answers will help him understand the core concepts of `RegEx` and prepare him to dive into practical tasks with more confidence.\n",
        "\n",
        "### 1. What are Regular Expressions? \n",
        "Regular expressions (shortened as `regex` or `regexp`) are sequences of characters that define a search pattern. Some operations such as searching, matching, and manipulating text based on specific condition can be achieved by leveraging these patterns. `RegEx` are integral to string-processing algorithms and are used extensively for tasks such as:\n",
        "\n",
        "- **Finding and Replacing:** Searching for specific patterns within text and replacing them with new strings.\n",
        "- **Input Validation:** Ensuring that input strings meet specific formats (e.g., email addresses, phone numbers).\n",
        "- **Text Parsing and Extraction:** Extracting specific data from larger text structures, such as dates, URLs, or particular text segments.\n",
        "\n",
        "Regular expressions are supported by various programming languages and tools, making them a versatile and powerful tool in text processing and data analysis.\n",
        "\n",
        "### 2. How are `RegEx` useful in NLP?\n",
        "\n",
        "Regular expressions are extremely useful in Natural Language Processing (NLP) for several reasons:\n",
        "\n",
        "- **Text Cleaning and Preprocessing:** Regular expressions help in removing irrelevant and redundant characters, normalizing text, and preparing data for further analysis.\n",
        "- **Tokenization:** Splitting text into tokens (words, sentences) based on patterns is a crucial step in many NLP tasks.\n",
        "- **Pattern Matching:** Identifying specific patterns in text, such as dates, phone numbers, email addresses, etc.\n",
        "- **Information Extraction:** Extracting structured information from unstructured text data.\n",
        "- **Data Validation:** Ensuring that input data conforms to expected formats, such as validating email addresses and phone numbers.\n",
        "\n",
        "### 3. How `RegEx` works in the core?\n",
        "\n",
        "To address this question the user will expand his knowledge about the `Regex Engine`. A RegEx engine is the software component that interprets and executes regular expressions. It processes the pattern specified by the `RegEx` and performs the matching operation against the target text. Understanding how the regex engine works can help in writing efficient and effective regular expressions. \n",
        "\n",
        "There are primarily two types of regex engines:\n",
        "\n",
        "- **DFA (Deterministic Finite Automaton) Engine:**\n",
        "  - **Characteristics:** \n",
        "    - Processes the input text in a single pass.\n",
        "    - Always finds the longest possible match.\n",
        "    - No backtracking is involved.\n",
        "  - **Advantages:**\n",
        "    - Fast and efficient, especially for simple patterns.\n",
        "  - **Disadvantages:**\n",
        "    - Limited in terms of features and flexibility.\n",
        "  - **Examples:** Lexical analyzers in compilers often use DFA engines.\n",
        "\n",
        "- **NFA (Non-deterministic Finite Automaton) Engine:**\n",
        "  - **Characteristics:**\n",
        "    - Can backtrack to find matches.\n",
        "    - Supports more complex patterns, including those with nested and recursive structures.\n",
        "  - **Advantages:**\n",
        "    - More flexible and powerful, supporting advanced regex features.\n",
        "  - **Disadvantages:**\n",
        "    - Can be slower due to backtracking, especially with complex patterns.\n",
        "  - **Examples:** Most modern regex implementations, such as those in Perl, Python, and JavaScript, use NFA engines.\n",
        "\n",
        "When you use a regular expression to search through text, the regex engine follows these general steps:\n",
        "\n",
        "- **Compile the Pattern:**\n",
        "  - The regex pattern is parsed and compiled into an internal representation that the engine can work with.\n",
        "\n",
        "- **Search the Text:**\n",
        "  - The engine begins scanning the target text from the start (or from the specified position).\n",
        "  - It tries to match the pattern against the text character by character.\n",
        "\n",
        "- **Backtracking (NFA Engines):**\n",
        "  - If a partial match fails, the engine backtracks to try alternative paths in the pattern. This allows it to handle more complex matching scenarios.\n",
        "\n",
        "- **Return the Result:**\n",
        "  - Once a match is found, the engine returns the match object.\n",
        "  - If no match is found, the engine returns a result indicating no match.\n",
        "\n",
        "**Explain with an example:**\n",
        "\n",
        "  Suppose the user is looking for a specific pattern in a text, namely `/coding/`, in the following sentence:\n",
        "\n",
        "  `coding is a cool hobby.`\n",
        "\n",
        "  Steps Followed by the Regex Engine:\n",
        "\n",
        "  0. **Encoding the Pattern:** The pattern `/coding/` is encoded into tokens that can be interpreted by the regex engine.\n",
        "    \n",
        "  1. **Searching for the Pattern:** The engine begins to search for the specific pattern in the text. In this example, the first character `c` is the first matched candidate, followed by `o` as the second, and so on, until the entire pattern is matched. \n",
        "  \n",
        "  - > The `/g` at the end of the pattern stands for a **global** match, indicating that the engine should find all matches in the text. Without the global flag, the regex engine would return only the first match.\n",
        "\n",
        "  2. **Backtracking:** If a partial match is found but not completed, the engine backtracks. For example, when matching `coding` in `cool`, the engine matches `c` and `o`, but `o` does not match the third character `d` in `coding`. Therefore, the engine backtracks to the beginning of `cool` and continues searching.\n",
        "\n",
        "  3. **Returning Match Objects:** Once all global matches are found, the engine returns the match object(s).\n",
        "\n",
        "  **Step-by-Step Matching**\n",
        "\n",
        "  - The engine starts at the beginning of the text: `coding is a cool hobby.`\n",
        "  - It matches `c`, `o`, `d`, `i`, `n`, `g` with the corresponding characters in `coding` and completes the pattern match.\n",
        "  - The global flag `/g` ensures the engine continues searching through the text, but since there are no other instances of `coding`, the search ends.\n",
        "\n",
        "  **Diagram Illustration**\n",
        "\n",
        "  1. Initial Matching:\n",
        "\n",
        "  ```\n",
        "  coding is a cool hobby.\n",
        "  ^\n",
        "  c\n",
        "  ```\n",
        "\n",
        "  2. Continuing Match:\n",
        "\n",
        "  ```\n",
        "  coding is a cool hobby.\n",
        "  ^^^^^^\n",
        "  coding\n",
        "  ```\n",
        "\n",
        "  3. Backtracking (if needed):\n",
        "\n",
        "  ```\n",
        "  coding is a cool hobby.\n",
        "                ^\n",
        "                d (does not match next part of \"coding\")\n",
        "  ```\n",
        "\n",
        "  4. Completion:\n",
        "  - Once all matches are found, the engine returns the results.\n",
        "\n"
      ]
    },
    {
      "cell_type": "markdown",
      "metadata": {},
      "source": [
        "## 3) Basic Concepts and Syntax\n",
        "\n",
        "In this section, Parham will learn about fundamental concepts and syntax used in `RegEx` including:\n",
        "- Literals and Meta-characters\n",
        "- Character Classes and Sets\n",
        "- Quantifiers\n",
        "- Anchors\n",
        "- Groups and Ranges\n",
        "- Escape Sequences"
      ]
    },
    {
      "cell_type": "markdown",
      "metadata": {},
      "source": [
        "### 3.1) Literals and Meta-characters\n",
        "The most basic regular expression consists of a single literal character, such as `a`. It matches the first occurrence of that character in the string. If the string is `Jack is a boy`, it matches the `a` after the `J`. The fact that this `a` is in the middle of the word does not matter to the regex engine. If it matters to you, you will need to tell that to the regex engine by using [word boundaries](https://www.regular-expressions.info/wordboundaries.html). We will get to that later."
      ]
    },
    {
      "cell_type": "code",
      "execution_count": null,
      "metadata": {
        "id": "BadqVnjB1HRc"
      },
      "outputs": [],
      "source": []
    }
  ],
  "metadata": {
    "colab": {
      "provenance": []
    },
    "kernelspec": {
      "display_name": "Python 3",
      "name": "python3"
    },
    "language_info": {
      "name": "python"
    }
  },
  "nbformat": 4,
  "nbformat_minor": 0
}
