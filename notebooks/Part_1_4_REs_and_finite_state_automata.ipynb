{
 "cells": [
  {
   "cell_type": "markdown",
   "metadata": {},
   "source": [
    "# Part 1.4 - REs and finite state automata\n",
    "\n",
    "In Natural Language Processing (`NLP`), Finite Automata plays a crucial role in recognizing and processing patterns within text. They are used to model the sequence of states and transitions that a system undergoes in response to a string of inputs, making them particularly effective for tasks like lexical analysis, tokenization, and syntax parsing. The theory of Finite Automata is deeply intertwined with Regular Expressions (`Regex`), as every regular expression can be converted into an equivalent finite automaton, and vice versa. This relationship is significant because it provides a formal and efficient way to implement regex patterns using finite state machines. By understanding Finite Automata, Parham can gain insight into how `Regex` operate at a fundamental level, allowing him to better grasp how patterns are matched and how text is processed in various NLP tasks.\n",
    "\n",
    "\n",
    "**Objectives:**\n",
    "\n",
    "By the end of this notebook, Parham will have learned the theory of finite automata and how to apply it in code. He will leverage the well-known Python library, `automata-lib`, to gain hands-on experience with the `Automaton` class. Subsequently, Parham will use the available functions of the library to convert finite automata patterns into `Regex` patterns. Additionally, various exception classes will be discussed to ensure that errors are handled appropriately.\n",
    "\n",
    "**Tabel of Content:**\n",
    "\n",
    "1. Import Libraries\n",
    "2. Introduction to the theory of finit-autonama\n",
    "3. Class Automation\n",
    "4. Regular Expressions\n",
    "5. Exceptions and Errors\n",
    "6. Closing Thoughts"
   ]
  },
  {
   "cell_type": "markdown",
   "metadata": {},
   "source": [
    "## 1) Import Libraries"
   ]
  },
  {
   "cell_type": "code",
   "execution_count": 1,
   "metadata": {},
   "outputs": [],
   "source": [
    "import os\n",
    "import sys\n",
    "import numpy as np\n",
    "import pandas as pd\n",
    "import automata\n",
    "from automata.base.automaton import Automaton\n",
    "from automata.fa.dfa import DFA\n",
    "from automata.fa.fa import FA\n",
    "from automata.fa.nfa import NFA\n",
    "from automata.fa.gnfa import GNFA\n",
    "from automata.pda.dpda import DPDA\n",
    "from automata.pda.npda import NPDA\n",
    "from automata.tm.ntm import NTM\n",
    "from automata.tm.mntm import MNTM\n",
    "import automata.regex as re\n",
    "import automata.base.exceptions as exceptions\n",
    "import automata.tm.exceptions as tm_exceptions\n",
    "\n"
   ]
  },
  {
   "cell_type": "markdown",
   "metadata": {},
   "source": [
    "## 2) Introduction to the Theory of Finite Automata\n",
    "\n",
    "Finite Automata are a foundational concept in computer science, particularly within formal language theory and natural language processing (NLP). A Finite Automaton is a simple computational model designed to recognize patterns within input data, making it crucial for tasks such as lexical analysis, pattern matching, and syntax parsing. Essentially, a Finite Automaton is an abstract machine that processes a sequence of input symbols, transitioning through a series of states according to a predefined set of rules. The machine comprises the following key components:\n",
    "\n",
    "- **A finite set of states**: These represent the various configurations in which the machine can exist.\n",
    "- **An input alphabet**: A finite set of symbols that the machine can read and process.\n",
    "- **A transition function**: This defines how the machine moves from one state to another based on the current input symbol.\n",
    "- **A start state**: The initial state where the machine begins processing the input.\n",
    "- **Accepting (final) states**: Specific states that determine if the input is accepted (i.e., if the pattern is recognized) when the machine finishes processing.\n",
    "\n",
    "There are two primary types of Finite Automata:\n",
    "\n",
    "- **Deterministic Finite Automaton (DFA)**: In a DFA, each state has exactly one transition for each possible input symbol. This ensures that for any given state and input, the next state is uniquely determined.\n",
    "\n",
    "- **Non-deterministic Finite Automaton (NFA)**: In an NFA, a state may have multiple transitions for the same input symbol or may transition to a new state without consuming any input (ε-transitions). This non-determinism allows the NFA to explore multiple computational paths simultaneously.\n",
    "\n",
    "### Example: Converting a Non-deterministic Finite Automaton (NFA) to a Deterministic Finite Automaton (DFA)\n",
    "\n",
    "Consider a system designed to detect a specific sequence of heads (H) and tails (T) from a series of coin tosses. The system is particularly interested in identifying a sequence where tails occur in the last two flips:\n",
    "\n",
    "`sequence = (H , T)* TT`\n",
    "\n",
    "The goal is to construct a state diagram that recognizes this sequence. The state diagram can be illustrated as follows:\n",
    "\n",
    "<p align=\"center\"><img src=\"../imgs/finite_auto_diagram.png\" alt=\"Picture\" width=\"50%\" height=\"10%\" style=\"display: block; margin: 20px auto;\"/></p>\n",
    "\n",
    "In the diagram above, each symbol is defined as follows:\n",
    "- **a** : \"Ends with heads\"\n",
    "- **b** : \"Ends with 1 tail\"\n",
    "- **c** : \"Ends with 2 tails\"\n",
    "- **e** : \"Error\"\n",
    "- **H** : Head\n",
    "- **T** : Tail\n",
    "\n",
    "Below is a simplified procedure that outlines how the system processes a sequence of heads (`H`) and tails (`T`) to detect when two consecutive tails (`TT`) occur:\n",
    "\n",
    "- Start at State `a`:\n",
    "  - Initial state where the system begins.\n",
    "\n",
    "- If Input Symbol is `T`:\n",
    "  - If in State `a`:\n",
    "    - Transition to State `b`.\n",
    "  - If in State `b`:\n",
    "    - Transition to State `c` (final state).\n",
    "\n",
    "- If Input Symbol is `H`:\n",
    "  - From Any State (`a`, `b`, or `c`):\n",
    "    - Transition back to State `a`.\n",
    "- If Input Symbol is not one of `H` or `T`:\n",
    "  - From Any State (`a`, `b`, or `c`):\n",
    "      - Transition back to State `e`.\n",
    "- If in State `c` (Final State):\n",
    "  - Sequence \"TT\" has been detected, meaning the system has recognized the pattern. \n",
    "\n",
    "The transition table for such system can be reported as below:\n",
    "| Current State/ Inputs | H               | T                                          | O.W |\n",
    "|----------------|-----------------| ----------------------------------------------| -----|\n",
    "| a  |            a                 |                 b                       | e|\n",
    "| b    |               a             |               c                     |  e|\n",
    "| c    |             a               |                 c                   |  e|\n",
    "\n",
    "In the cell below, the practitioner will implement the above system."
   ]
  },
  {
   "cell_type": "code",
   "execution_count": 1,
   "metadata": {},
   "outputs": [
    {
     "name": "stdout",
     "output_type": "stream",
     "text": [
      "Current State: Ends with heads | Input: H  ---> Next State: Ends with heads\n",
      "Current State: Ends with heads | Input: T  ---> Next State: Ends with 1 tails\n",
      "Current State: Ends with 1 tails | Input: T  ---> Next State: Ends with 2 tails\n",
      "Current State: Ends with 2 tails | Input: H  ---> Next State: Ends with heads\n",
      "Current State: Ends with heads | Input: T  ---> Next State: Ends with 1 tails\n",
      "Current State: Ends with 1 tails | Input: T  ---> Next State: Ends with 2 tails\n",
      "Current State: Ends with 2 tails | Input: T  ---> Next State: Ends with 2 tails\n",
      "Current State: Ends with 2 tails | Input: H  ---> Next State: Ends with heads\n",
      "Current State: Ends with heads | Input: T  ---> Next State: Ends with 1 tails\n",
      "Current State: Ends with 1 tails | Input: H  ---> Next State: Ends with heads\n",
      "\n",
      "********************\n",
      "Summary of Accepting States:\n",
      "********************\n",
      "Accepting State: Ends with 2 tails | Number of Occurrences: 3\n"
     ]
    }
   ],
   "source": [
    "# Define states and transitions for the finite automaton\n",
    "states = [\"Ends with heads\", \"Ends with 1 tails\", \"Ends with 2 tails\", \"Error\"]\n",
    "initial_state = states[0]\n",
    "accepting_states = [states[2]]  # List of accepting states\n",
    "input_alphabet = \"HT\"\n",
    "\n",
    "# Transition table maps state indices to their respective transitions\n",
    "transition_table = {\n",
    "    0: [states[0], states[1]],  # From \"Ends with heads\", \"H\" -> state 0, \"T\" -> state 1\n",
    "    1: [states[0], states[2]],  # From \"Ends with 1 tails\", \"H\" -> state 0, \"T\" -> state 2\n",
    "    2: [states[0], states[2]],  # From \"Ends with 2 tails\", \"H\" -> state 0, \"T\" -> state 2\n",
    "    3: [states[3], states[3]]   # From \"Error\", always stays in \"Error\"\n",
    "}\n",
    "error_state = states[3]\n",
    "def return_next_state(current_state, current_input):\n",
    "    \"\"\"\n",
    "    Given the current state and input, return the next state based on the transition table.\n",
    "    \"\"\"\n",
    "    state_index = states.index(current_state)\n",
    "    input_index = input_alphabet.index(current_input)\n",
    "    return transition_table[state_index][input_index]\n",
    "\n",
    "# Initialize the automaton's current state and the input sequence to process\n",
    "current_state = initial_state\n",
    "input_sequence = \"HTTHTTTHTH\"\n",
    "\n",
    "# Dictionary to track the number of occurrences for each accepting state\n",
    "accepting_state_info = {state: {'state_name': state, 'count': 0} for state in accepting_states}\n",
    "\n",
    "# Process the input sequence\n",
    "for current_input in input_sequence:\n",
    "    sys.stdout.write(f\"Current State: {current_state} | Input: {current_input}\")\n",
    "    if not(current_input in input_alphabet):\n",
    "        current_state = error_state\n",
    "    else:\n",
    "      current_state = return_next_state(current_state, current_input)\n",
    "    print(f\"  ---> Next State: {current_state}\")\n",
    "    \n",
    "    # Increment the count if the current state is an accepting state\n",
    "    if current_state in accepting_states:\n",
    "        accepting_state_info[current_state]['count'] += 1\n",
    "\n",
    "# Output the results\n",
    "print(\"\\n********************\\nSummary of Accepting States:\\n********************\")\n",
    "for state, info in accepting_state_info.items():\n",
    "    print(f\"Accepting State: {info['state_name']} | Number of Occurrences: {info['count']}\")\n"
   ]
  },
  {
   "cell_type": "markdown",
   "metadata": {},
   "source": [
    "## 3) Class Automation"
   ]
  },
  {
   "cell_type": "code",
   "execution_count": null,
   "metadata": {},
   "outputs": [],
   "source": []
  },
  {
   "cell_type": "markdown",
   "metadata": {},
   "source": [
    "## 4) Regular Expressions"
   ]
  },
  {
   "cell_type": "code",
   "execution_count": null,
   "metadata": {},
   "outputs": [],
   "source": []
  },
  {
   "cell_type": "markdown",
   "metadata": {},
   "source": [
    "## 5) Exceptions and Errors"
   ]
  },
  {
   "cell_type": "code",
   "execution_count": null,
   "metadata": {},
   "outputs": [],
   "source": []
  },
  {
   "cell_type": "markdown",
   "metadata": {},
   "source": [
    "## 6) Closing Thoughts"
   ]
  },
  {
   "cell_type": "code",
   "execution_count": null,
   "metadata": {},
   "outputs": [],
   "source": []
  }
 ],
 "metadata": {
  "kernelspec": {
   "display_name": "nlp",
   "language": "python",
   "name": "python3"
  },
  "language_info": {
   "codemirror_mode": {
    "name": "ipython",
    "version": 3
   },
   "file_extension": ".py",
   "mimetype": "text/x-python",
   "name": "python",
   "nbconvert_exporter": "python",
   "pygments_lexer": "ipython3",
   "version": "3.10.14"
  }
 },
 "nbformat": 4,
 "nbformat_minor": 2
}
