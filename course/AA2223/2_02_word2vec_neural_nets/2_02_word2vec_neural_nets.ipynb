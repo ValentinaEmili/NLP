{
 "cells": [
  {
   "cell_type": "markdown",
   "metadata": {
    "slideshow": {
     "slide_type": "slide"
    }
   },
   "source": [
    "# Natural Language Processing\n",
    "\n",
    "### 2.2 Scaling word2vec and introduction to Neural Nets for NLP\n",
    "<br><br>\n",
    "Prof. Iacopo Masi and Prof. Stefano Faralli"
   ]
  },
  {
   "cell_type": "code",
   "execution_count": 1,
   "metadata": {
    "hide_input": true,
    "slideshow": {
     "slide_type": "skip"
    }
   },
   "outputs": [],
   "source": [
    "import matplotlib.pyplot as plt\n",
    "import scipy\n",
    "import random\n",
    "import numpy as np\n",
    "import pandas as pd\n",
    "pd.set_option('display.colheader_justify', 'center')"
   ]
  },
  {
   "cell_type": "code",
   "execution_count": 2,
   "metadata": {
    "hide_input": true,
    "run_control": {
     "marked": false
    },
    "scrolled": true,
    "slideshow": {
     "slide_type": "skip"
    }
   },
   "outputs": [],
   "source": [
    "import matplotlib\n",
    "import matplotlib.pyplot as plt\n",
    "import numpy as np\n",
    "%matplotlib inline\n",
    "#plt.style.use('seaborn-whitegrid')\n",
    "\n",
    "font = {'family' : 'Times',\n",
    "        'weight' : 'bold',\n",
    "        'size'   : 12}\n",
    "\n",
    "matplotlib.rc('font', **font)\n",
    "\n",
    "\n",
    "# Aux functions\n",
    "\n",
    "def plot_grid(Xs, Ys, axs=None):\n",
    "    ''' Aux function to plot a grid'''\n",
    "    t = np.arange(Xs.size) # define progression of int for indexing colormap\n",
    "    if axs:\n",
    "        axs.plot(0, 0, marker='*', color='r', linestyle='none') #plot origin\n",
    "        axs.scatter(Xs,Ys, c=t, cmap='jet', marker='.') # scatter x vs y\n",
    "        axs.axis('scaled') # axis scaled\n",
    "    else:\n",
    "        plt.plot(0, 0, marker='*', color='r', linestyle='none') #plot origin\n",
    "        plt.scatter(Xs,Ys, c=t, cmap='jet', marker='.') # scatter x vs y\n",
    "        plt.axis('scaled') # axis scaled\n",
    "        \n",
    "def linear_map(A, Xs, Ys):\n",
    "    '''Map src points with A'''\n",
    "    # [NxN,NxN] -> NxNx2 # add 3-rd axis, like adding another layer\n",
    "    src = np.stack((Xs,Ys), axis=Xs.ndim)\n",
    "    # flatten first two dimension\n",
    "    # (NN)x2\n",
    "    src_r = src.reshape(-1,src.shape[-1]) #ask reshape to keep last dimension and adjust the rest\n",
    "    # 2x2 @ 2x(NN)\n",
    "    dst = A @ src_r.T # 2xNN\n",
    "    #(NN)x2 and then reshape as NxNx2\n",
    "    dst = (dst.T).reshape(src.shape)\n",
    "    # Access X and Y\n",
    "    return dst[...,0], dst[...,1]\n",
    "\n",
    "\n",
    "def plot_points(ax, Xs, Ys, col='red', unit=None, linestyle='solid'):\n",
    "    '''Plots points'''\n",
    "    ax.set_aspect('equal')\n",
    "    ax.grid(True, which='both')\n",
    "    ax.axhline(y=0, color='gray', linestyle=\"--\")\n",
    "    ax.axvline(x=0, color='gray',  linestyle=\"--\")\n",
    "    ax.plot(Xs, Ys, color=col)\n",
    "    if unit is None:\n",
    "        plotVectors(ax, [[0,1],[1,0]], ['gray']*2, alpha=1, linestyle=linestyle)\n",
    "    else:\n",
    "        plotVectors(ax, unit, [col]*2, alpha=1, linestyle=linestyle)\n",
    "\n",
    "def plotVectors(ax, vecs, cols, alpha=1, linestyle='solid'):\n",
    "    '''Plot set of vectors.'''\n",
    "    for i in range(len(vecs)):\n",
    "        x = np.concatenate([[0,0], vecs[i]])\n",
    "        ax.quiver([x[0]],\n",
    "                   [x[1]],\n",
    "                   [x[2]],\n",
    "                   [x[3]],\n",
    "                   angles='xy', scale_units='xy', scale=1, color=cols[i],\n",
    "                   alpha=alpha, linestyle=linestyle, linewidth=2)"
   ]
  },
  {
   "cell_type": "markdown",
   "metadata": {
    "hide_input": true,
    "slideshow": {
     "slide_type": "skip"
    }
   },
   "source": [
    "## My own latex definitions\n",
    "\n",
    "$$\\def\\mbf#1{\\mathbf{#1}}$$\n",
    "$$\\def\\bmf#1{\\boldsymbol{#1}}$$\n",
    "$$\\def\\bx{\\mbf{x}}$$\n",
    "$$\\def\\bxt#1{\\mbf{x}_{\\text{#1}}}$$\n",
    "$$\\def\\bv{\\mbf{v}}$$\n",
    "$$\\def\\bz{\\mbf{z}}$$\n",
    "$$\\def\\bmu{\\bmf{\\mu}}$$\n",
    "$$\\def\\bsigma{\\bmf{\\Sigma}}$$\n",
    "$$\\def\\Rd#1{\\in \\mathbb{R}^{#1}}$$\n",
    "$$\\def\\chain#1#2{\\frac{\\partial #1}{\\partial #2}}$$\n",
    "$$\\def\\loss{\\mathcal{L}}$$\n",
    "$$\\def\\params{\\bmf{\\theta}}$$\n"
   ]
  },
  {
   "cell_type": "markdown",
   "metadata": {
    "slideshow": {
     "slide_type": "slide"
    }
   },
   "source": [
    "# Today's lecture\n",
    "## - Skip-Gram and Continuous Bag of Words (CBOW)\n",
    "## - How to scale word2vec\n",
    "### - Negative Sampling\n",
    "### - Hierarchical Softmax\n",
    "## - Introduction to Neural Nets for NLP"
   ]
  },
  {
   "cell_type": "markdown",
   "metadata": {
    "slideshow": {
     "slide_type": "slide"
    }
   },
   "source": [
    "# This lecture material is taken from\n",
    "📘 **Chapter 6 Jurafsky Book**\n",
    "\n",
    "📘 **Chapter 14.5 Eisenstein Book**\n",
    "- [Stanford Slide Word2Vec](http://web.stanford.edu/class/cs224n/slides/cs224n-2022-lecture01-wordvecs2.pdf)\n",
    "- [Stanford Lecture Word2Vec](https://www.youtube.com/watch?v=rmVRLeJRkl4&list=PLoROMvodv4rOSH4v6133s9LFPRHjEmbmJ&index=1)\n",
    "- [Stanford Notes on Word2Vec](http://web.stanford.edu/class/cs224n/readings/cs224n-2019-notes01-wordvecs1.pdf)\n",
    "\n",
    "Another good yet short resource is [[d2l.ai] Word embedding](https://d2l.ai/chapter_natural-language-processing-pretraining/word2vec.html)\n",
    "\n",
    "📝 Research papers on word2vec and hierarchical softmax:\n",
    "- [First paper: word2vec + hierarchical softmax](https://arxiv.org/pdf/1301.3781.pdf)\n",
    "- [Negative Sampling paper](https://proceedings.neurips.cc/paper/2013/file/9aa42b31882ec039965f3c4923ce901b-Paper.pdf)\n",
    "- [A Scalable Hierarchical Distributed Language Model](http://papers.nips.cc/paper/3583-a-scalable-hierarchical-distributed-language-model.pdf)"
   ]
  },
  {
   "cell_type": "markdown",
   "metadata": {
    "cell_style": "split",
    "slideshow": {
     "slide_type": "subslide"
    }
   },
   "source": [
    "# word2vec is a generic framework \n",
    "\n",
    "`word2vec` presents two algorithms:\n",
    " 1. ~~Skip-Gram~~\n",
    " 2. **Continuous Bag-of-Word** (CBOW)  _(we see it today!)_\n",
    " "
   ]
  },
  {
   "cell_type": "markdown",
   "metadata": {
    "cell_style": "split",
    "slideshow": {
     "slide_type": "fragment"
    }
   },
   "source": [
    "<br><br>\n",
    "\n",
    "Also it offers different training methods:\n",
    " - ~~with naive softmax~~  \n",
    " - **negative sampling** from [Mikolov et al. 2013]\n",
    " - **hierarchical softmax** _(we see them today!)_"
   ]
  },
  {
   "cell_type": "markdown",
   "metadata": {
    "slideshow": {
     "slide_type": "subslide"
    }
   },
   "source": [
    "# word2vec: Skip-Gram Self-Supervision\n",
    "\n",
    "⚠️ With **strong naive conditional independence assumption** \n",
    "<br/>\n",
    "\n",
    "$$ p(w_{t-2},w_{t-1},w_{t+1},w_{t+2}|w_t;\\bmf{\\theta}) \\approx \\prod_{-m\\leq j\\leq m}^m p(c_{t+j}|w_t;\\bmf{\\theta})$$\n",
    "\n",
    "<br/>\n",
    "\n",
    "|   | ~~lemon~~, | ~~a~~ | [tablespoon | of | apricot | jam | a] | ~~pinch~~ |\n",
    "|:-:|:------:|:-:|:-----------:|:--:|:-------:|:---:|:--:|:-----:|\n",
    "|   |        |   |      w_{t-2}     | w_{t-1} |    **$w_t$**    |  w_{t+1} | w_{t+2} |       |\n"
   ]
  },
  {
   "cell_type": "markdown",
   "metadata": {
    "slideshow": {
     "slide_type": "subslide"
    }
   },
   "source": [
    "# word2vec: Skip-Gram Self-Supervision\n",
    "\n",
    "Given the example below, we have to compute:\n",
    "<br/>\n",
    "\n",
    "$$p(w_{t-2}|w_t)\\cdot p(w_{t-1}|w_t)\\cdot p(w_{t+1}|w_t)\\cdot p(w_{t+2}|w_t)$$\n",
    "<br/><br/>\n",
    "<div align='center'><img src=\"figs/word2vec_skipgram.png\" width='65%' ></div>"
   ]
  },
  {
   "cell_type": "markdown",
   "metadata": {
    "slideshow": {
     "slide_type": "subslide"
    }
   },
   "source": [
    "# word2vec: Skip-Gram with softmax\n",
    "\n",
    "Parameters to learn: $$\\bmf{\\theta} = [\\bmf{\\theta}_W;\\bmf{\\theta}_C]$$\n",
    "\n",
    "<div align='center'><img src=\"figs/word2vec_params.png\" width='45%' ></div>"
   ]
  },
  {
   "cell_type": "markdown",
   "metadata": {
    "slideshow": {
     "slide_type": "subslide"
    }
   },
   "source": [
    "# word2vec with Skip-Gram at a glance\n",
    "\n",
    "... and why it can be seen as a tiny neural net.\n",
    "\n",
    "<div align='center'><img src=\"figs/word2vec_layers.png\" width='65%' ></div>"
   ]
  },
  {
   "cell_type": "markdown",
   "metadata": {
    "slideshow": {
     "slide_type": "subslide"
    }
   },
   "source": [
    "# Loss function: compare two discrete distributions\n",
    " \n",
    "$$\\mbf{p}=\\operatorname{softmax}\\big(\\bmf{\\theta}_C\\cdot\\bmf{\\theta}_{W}[i]^T\\big) $$\n",
    "\n",
    "You can think $\\mbf{p}$ as of this form:\n",
    "\n",
    "|    \t| lemon   \t| tablespoon \t| gelato             \t| ...\t | jam\t|\n",
    "|----------|----------\t|--------\t|--------------------\t|--------\t|--------\t|\n",
    "|**p (word2vec prediction)**        | 0.001 | 0.1 | 0.03  | ... | 0.15 |\n",
    "\n",
    "\n",
    "Let's consider the label as a one-hot encoding vector where 1 is over the ground-truth word given by the text.\n",
    "\n",
    "|    \t| lemon   \t| tablespoon \t| gelato             \t| ...\t | jam\t|\n",
    "|----------|----------\t|--------\t|--------------------\t|--------\t|--------\t|\n",
    "|**y label (ground-truth $w_{t-1}$)** | 0 | 1 | 0  | ... | 0 |\n",
    "\n",
    "### We want to adjust the weights $\\bmf{\\theta}$ so that $\\mbf{p}$ matches the label!"
   ]
  },
  {
   "cell_type": "markdown",
   "metadata": {
    "slideshow": {
     "slide_type": "subslide"
    }
   },
   "source": [
    "# One-hot encoding is a selector!\n",
    "\n",
    "\n",
    "- $\\mbf{y}=[0,0,0,1,0]$ $\\rightarrow$ works as a selector of probability of the actual ground-truth word that we removed!\n",
    "- Of the probabilites returned by `word2vec` select that for which the index $gt$ corresponds to the `1` in the label $\\mbf{y}$\n",
    "- in our case, $gt$ is the index of `tablespoon` in $|V|$.\n",
    "\n",
    "$$ \\mathcal{L}(w_{t-1},w_{t};\\mbf{\\theta}) = -\\log \\big[\\mbf{p}\\big(w_{t-1}|w_{t}\\big)\\big]{[gt]}$$"
   ]
  },
  {
   "cell_type": "markdown",
   "metadata": {
    "slideshow": {
     "slide_type": "subslide"
    }
   },
   "source": [
    "# Loss function simplified\n",
    "\n",
    "We can select immediately $[gt]$ in the numerator.\n",
    "\n",
    "$$\n",
    "\\mathcal{L}(w_{t-1},w_{t};\\mbf{\\theta}) = -\\log \\left(\\frac{\\exp \\big( \\bmf{\\theta}_{C}[gt]\\cdot\\bmf{\\theta}_{W}[i]^T \\big)}{\\sum_{v=1}^{V} \\exp \\big(\\bmf{\\theta}_{C}[v]\\cdot\\bmf{\\theta}_{W}[i]^T\\big)}\\right)\n",
    "$$\n",
    "\n",
    "Sometimes is shown as:\n",
    "\n",
    "$$\n",
    "\\mathcal{L}(w_{t-1},w_{t};\\mbf{\\theta}) = \\underbrace{-\\bmf{\\theta}_{C}[gt]\\cdot\\bmf{\\theta}_{W}[i]^T}_{\\text{similarity center vs context}} + \\underbrace{\\log\\Big(\\sum_{v=1}^{V} \\exp \\big(\\bmf{\\theta}_{C}[v]\\cdot\\bmf{\\theta}_{W}[i]^T\\big)\\Big)}_{\\text{make sure it is a probability}}\n",
    "$$"
   ]
  },
  {
   "cell_type": "markdown",
   "metadata": {
    "slideshow": {
     "slide_type": "slide"
    }
   },
   "source": [
    "# word2vec: Continuous Bag-of-Word (C-BOW)"
   ]
  },
  {
   "cell_type": "markdown",
   "metadata": {
    "cell_style": "split",
    "slideshow": {
     "slide_type": "subslide"
    }
   },
   "source": [
    "# Skip-Gram\n",
    "\n",
    "$$ p(w_{t-2},w_{t-1},w_{t+1},w_{t+2}|w_t;\\bmf{\\theta})$$"
   ]
  },
  {
   "cell_type": "markdown",
   "metadata": {
    "cell_style": "split",
    "slideshow": {
     "slide_type": "fragment"
    }
   },
   "source": [
    "# C-BOW\n",
    "\n",
    "$$ p(w_t|w_{t-2},w_{t-1},w_{t+1},w_{t+2};\\bmf{\\theta})$$"
   ]
  },
  {
   "cell_type": "markdown",
   "metadata": {
    "slideshow": {
     "slide_type": "subslide"
    }
   },
   "source": [
    "# word2vec: C-BOW\n",
    "\n",
    "Given the context $w_{t-2},w_{t-1},w_{t+1},w_{t+2} \\longrightarrow p(w_t)$\n",
    "<br><br>\n",
    "\n",
    "\n",
    "|   | ~~lemon~~, | ~~a~~ | [tablespoon | of | ----?---| jam | a] | ~~pinch~~ |\n",
    "|:-:|:------:|:-:|:-----------:|:--:|:-------:|:---:|:--:|:-----:|\n",
    "|   |        |   |      w_{t-2}     | w_{t-1} |    **$w_t$**    |  w_{t+1} | w_{t+2} |       |"
   ]
  },
  {
   "cell_type": "markdown",
   "metadata": {
    "slideshow": {
     "slide_type": "slide"
    }
   },
   "source": [
    "# word2vec: Continuous Bag-of-Word (CBOW)\n",
    "\n",
    "$$w_{t-2},w_{t-1},w_{t+1},w_{t+2} \\longrightarrow p(w_t)$$<br>\n",
    " \n",
    "$$\\bmf{\\theta}_{C_{avg}} = \\sum_{-m\\leq j\\leq m,~j \\neq 0} \\bmf{\\theta}_{C}[t+j]$$\n",
    "<br>\n",
    "<div align='center'><img src=\"figs/word2vec_cbow.png\" width='65%' ></div>"
   ]
  },
  {
   "cell_type": "markdown",
   "metadata": {
    "slideshow": {
     "slide_type": "subslide"
    }
   },
   "source": [
    "# word2vec: Continuous Bag-of-Word (CBOW)\n",
    "\n",
    "<div align='center'><img src=\"figs/word2vec_layers_cbow.png\" width='65%' ></div>"
   ]
  },
  {
   "cell_type": "markdown",
   "metadata": {
    "slideshow": {
     "slide_type": "subslide"
    }
   },
   "source": [
    "# How to compute $p(w_{t-1}|w_{avg})$?\n",
    "1. $\\bmf{\\theta}_{C_{avg}}$ is the average embedding from the context parameters $\\bmf{\\theta}_{C}$. The average is computed once defined the context window size.\n",
    "\n",
    "$$\\underbrace{\\mbf{z}}_{|V|\\times 1}=\\overbrace{\\underbrace{\\bmf{\\theta}_C}_{|V|\\times D}}^{\\text{as center}}\\cdot\\overbrace{\\underbrace{\\bmf{\\theta}_{C_{avg}}^T}_{D\\times 1}}^{\\text{as context}} $$\n",
    "\n",
    "2. $\\mbf{z}$ is logits and encodes the similarity via dot product of the average context word embedding $\\bmf{\\theta}_{C_{avg}}$ **against all vocabulary words** taken as center $\\bmf{\\theta}_C$\n",
    "\n",
    "3. We pass $\\mbf{z}$ through softmax operator to get a distribution over $|V|$ as: $$\\mbf{p}=\\operatorname{softmax}(\\mbf{z}) $$\n",
    "\n",
    "You can think $\\mbf{p}$ as of this form:\n",
    "\n",
    "|    \t| lemon   \t| tablespoon \t| gelato             \t| ...\t | jam\t|\n",
    "|----------|----------\t|--------\t|--------------------\t|--------\t|--------\t|\n",
    "|**p** | 0.001 | 0.1 | 0.03  | ... | 0.15 |"
   ]
  },
  {
   "cell_type": "markdown",
   "metadata": {
    "slideshow": {
     "slide_type": "slide"
    }
   },
   "source": [
    "# Skipgram vs CBOW at a glance\n",
    "\n",
    "<div align='center'><img src=\"figs/skip_vs_cbow.png\" width='65%' ></div>"
   ]
  },
  {
   "cell_type": "markdown",
   "metadata": {
    "slideshow": {
     "slide_type": "subslide"
    }
   },
   "source": [
    "# Computational Complexity\n",
    "\n",
    "- word2vec computes a **normalized probability over\n",
    "word tokens (over the vocabulary $V$)**\n",
    "- A naive  implementation of this probability requires <ins>summing over the entire vocabulary $V$</ins>\n",
    "\n",
    "$$\n",
    "\\mathcal{L}(w_{t-1},w_{t};\\mbf{\\theta}) = -\\log \\left(\\frac{\\exp \\big( \\bmf{\\theta}_{C}[gt]\\cdot\\bmf{\\theta}_{W}[i]^T \\big)}{\\sum_{v=1}^{V} \\exp \\big(\\bmf{\\theta}_{C}[v]\\cdot\\bmf{\\theta}_{W}[i]^T\\big)}\\right)\n",
    "$$\n",
    "\n",
    "The normalization in the denominator is of the order of: $$ \\mathcal{O}(|V|\\times D)$$ where:\n",
    "- $|V|$ is the vocabulary size and e.g. $|V|=3M$ \n",
    "- $D$ is the dimension of the embeddings e.g. $D=300$."
   ]
  },
  {
   "cell_type": "markdown",
   "metadata": {
    "slideshow": {
     "slide_type": "subslide"
    }
   },
   "source": [
    "# Two solutions to approximate the denominator\n",
    "\n",
    "\n",
    "1. Negative sampling (Contrastive method)\n",
    "2. Hierarchical Softmax (Tree-based solution)"
   ]
  },
  {
   "cell_type": "markdown",
   "metadata": {
    "slideshow": {
     "slide_type": "slide"
    }
   },
   "source": [
    "# Scaling word2vec with Negative Sampling"
   ]
  },
  {
   "cell_type": "markdown",
   "metadata": {
    "slideshow": {
     "slide_type": "subslide"
    }
   },
   "source": [
    "# Skip-gram with Negative Sampling (SGNS)\n",
    "\n",
    "Instead of doing:\n",
    "\n",
    "1. **Center word vs ground-truth context embedding** $\\longrightarrow \\bmf{\\theta}_{C}[gt]\\cdot\\bmf{\\theta}_{W}[i]^T$\n",
    "2. normalize as a distribution: **all context vs center word** $\\longrightarrow \\sum_{v=1}^{V} \\exp \\big(\\bmf{\\theta}_{C}[v]\\cdot\\bmf{\\theta}_{W}[i]^T\\big)$\n",
    "\n",
    "$$\n",
    "\\mathcal{L}(w_{t-1},w_{t};\\mbf{\\theta}) = \\underbrace{-\\bmf{\\theta}_{C}[gt]\\cdot\\bmf{\\theta}_{W}[i]^T}_{\\text{similarity center vs context}} + \\underbrace{\\log\\Big(\\sum_{v=1}^{V} \\exp \\big(\\bmf{\\theta}_{C}[v]\\cdot\\bmf{\\theta}_{W}[i]^T\\big)\\Big)}_{\\text{make sure it is a probability}}\n",
    "$$"
   ]
  },
  {
   "cell_type": "markdown",
   "metadata": {
    "slideshow": {
     "slide_type": "subslide"
    }
   },
   "source": [
    "# Skip-gram with Negative Sampling (SGNS)\n",
    "\n",
    "We \"relax\" the denominator and do:\n",
    "\n",
    "1. _[Same as before]_ **Center word vs ground-truth context embedding** $\\longrightarrow \\bmf{\\theta}_{C}[gt]\\cdot\\bmf{\\theta}_{W}[i]^T$\n",
    "2. Approximate the denominator as:\n",
    " - Sample a $k$ context words from $V$.\n",
    " - Compare **each $k$-th sampled word vs center word**"
   ]
  },
  {
   "cell_type": "markdown",
   "metadata": {
    "slideshow": {
     "slide_type": "subslide"
    }
   },
   "source": [
    "# Negative Sampling is a form of Contrastive Method\n",
    "\n",
    "<br><div align='center'><img src=\"figs/word2vec_contrastive.png?1\" width='45%' ></div>"
   ]
  },
  {
   "cell_type": "markdown",
   "metadata": {
    "slideshow": {
     "slide_type": "subslide"
    }
   },
   "source": [
    "# Negative Sampling is a form of Contrastive Method\n",
    "\n",
    "- **Positive Constraint:**\n",
    "    - Pull $\\bmf{\\theta}_{C}[gt]$ and $\\bmf{\\theta}_{W}$ to be \"close\" in space (give high dot-product score)\n",
    "    - Center and ground-truth context need to have high similarity\n",
    "    - In doing so we may make other words unrelated to be close in the space, so **we have to push them away**\n",
    "- **Negative Constraint:**\n",
    "    - We have to push away $\\bmf{\\theta}_{W}$ for any other remaining $\\bmf{\\theta}_{C}[i] \\quad \\forall i \\in V, i \\neq gt$ \n",
    "    - Before, this was done by forcing the total \"mass\" over the vocabulary distribution to sum to 1."
   ]
  },
  {
   "cell_type": "markdown",
   "metadata": {
    "slideshow": {
     "slide_type": "subslide"
    }
   },
   "source": [
    "# Consider the simplified case: a center vs a context word\n",
    "\n",
    "<br><div align='center'><img src=\"figs/word2vec_negative_onesample.png\" width='65%' ></div>"
   ]
  },
  {
   "cell_type": "markdown",
   "metadata": {
    "slideshow": {
     "slide_type": "subslide"
    }
   },
   "source": [
    "# Skip-gram with Negative Sampling (SGNS)\n",
    "\n",
    "- Given $w_t$ the center word and $w_{t-2}$ the context word to be predicted; \n",
    "- Assuming $gt$ is the index of $w_{t-2}$ in $V$ and $i$ is the index of $w_t$ in $V$: \n",
    "<br><br>\n",
    "1. **[Positive] Center word vs ground-truth context embedding** $\\longrightarrow \\bmf{\\theta}_{C}[gt]\\cdot\\bmf{\\theta}_{W}[i]^T$\n",
    "2. **[Negative]** Sample $k$ negative indexes $v$ from $V$ such that: $v \\in V, v \\neq gt$\n",
    "\n",
    "### Dot Products:\n",
    "$$ \\underbrace{1}_{\\text{positive; center vs context}} ~~~\\text{vs}~~~ \\underbrace{k}_{\\text{negative; center vs non-context}}$$"
   ]
  },
  {
   "cell_type": "markdown",
   "metadata": {
    "slideshow": {
     "slide_type": "subslide"
    }
   },
   "source": [
    "# Skip-gram with Negative Sampling (SGNS) over a window\n",
    "- Window size is $m=2$ ($m$ is one side of the window, so total context words are $2m$)\n",
    "- Number of negative $k=2$\n",
    "\n",
    "|   | ~~lemon~~, | ~~a~~ | [tablespoon | of | apricot| jam | a] | ~~pinch~~ |\n",
    "|:-:|:------:|:-:|:-----------:|:--:|:-------:|:---:|:--:|:-----:|\n",
    "|   |        |   |      w_{t-2}     | w_{t-1} |    **$w_t$**    |  w_{t+1} | w_{t+2} |       |"
   ]
  },
  {
   "cell_type": "markdown",
   "metadata": {
    "cell_style": "split",
    "slideshow": {
     "slide_type": "-"
    }
   },
   "source": [
    "<br>\n",
    "<div align='center'><img src=\"figs/positive.png\" width='35%' ></div>"
   ]
  },
  {
   "cell_type": "markdown",
   "metadata": {
    "cell_style": "split",
    "slideshow": {
     "slide_type": "-"
    }
   },
   "source": [
    "<br>\n",
    "<div align='center'><img src=\"figs/negative.png\" width='55%' ></div>"
   ]
  },
  {
   "cell_type": "markdown",
   "metadata": {
    "slideshow": {
     "slide_type": "subslide"
    }
   },
   "source": [
    "# so, how do we model that?"
   ]
  },
  {
   "cell_type": "markdown",
   "metadata": {
    "slideshow": {
     "slide_type": "subslide"
    }
   },
   "source": [
    "# From global softmax to binary classification for each pair\n",
    "\n",
    "Recall: words are assumed all conditionally independent [it is not true in pratice!]\n",
    "\n",
    "1. We instantiate a **binary classifier as Logistic Regression** (same as softmax but just two classes, either positive pair $y=+1$ or negative pair $y=0$)\n",
    "2. We use the sigmoid function $\\bmf{\\sigma}$ to map the dot-product result to a probability"
   ]
  },
  {
   "cell_type": "markdown",
   "metadata": {
    "cell_style": "split",
    "slideshow": {
     "slide_type": "subslide"
    }
   },
   "source": [
    "# Binary Logistic Regression\n",
    "\n",
    "\n",
    "$$f_{\\boldsymbol{\\theta}}(\\mbf{x}) \\doteq \\sigma\\left(  \\bmf{\\theta}^T\\mbf{x} \\right)$$\n",
    "\n",
    "where:\n",
    "\n",
    "$$ \\sigma(z)= \\frac{1}{1+\\exp^{-z}} \\quad \\text{sigmoid or logistic function}$$\n",
    "\n",
    "Other important properties:\n",
    "\n",
    "$$\\sigma(z)= \\frac{\\exp^{z}}{1+\\exp^{z}}; \\quad \\sigma(z)= 1-\\sigma(-z) $$"
   ]
  },
  {
   "cell_type": "markdown",
   "metadata": {
    "cell_style": "split",
    "slideshow": {
     "slide_type": "-"
    },
    "variables": {
     "import numpy as np;import matplotlib.pyplot as plt;x = np.arange(-20.0, 20.0, 0.1);y = 1/(1+np.exp(-x));_=plt.plot(x,y);": "<img src=\"data:image/png;base64,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\n\"/>"
    }
   },
   "source": [
    "<br><br> <center>Smooth and Differentiable alternative to sign</center>\n",
    "{{import numpy as np;import matplotlib.pyplot as plt;x = np.arange(-20.0, 20.0, 0.1);y = 1/(1+np.exp(-x));_=plt.plot(x,y);}}"
   ]
  },
  {
   "cell_type": "markdown",
   "metadata": {
    "slideshow": {
     "slide_type": "subslide"
    }
   },
   "source": [
    "# Likelihood with negative sampling\n",
    "<br>\n",
    "<div align='center'><img src=\"figs/word2vec_negative_onesample.png\" width='45%' ></div>\n",
    "<br>\n",
    "$$ \\max_{\\params} \\underbrace{p(y=+1|w_{t-1},w_t;\\params)}_{\\text{pos. center vs context}}\\cdot \\underbrace{\\prod_{k=1}^K p(y=0|w_k,w_t;\\params)}_{\\text{neg. center vs k samples}}$$"
   ]
  },
  {
   "cell_type": "markdown",
   "metadata": {
    "slideshow": {
     "slide_type": "subslide"
    }
   },
   "source": [
    "# Likelihood with negative sampling\n",
    "\n",
    "$$ \\max_{\\params} \\underbrace{p(y=+1|w_{t-1},w_t;\\params)}_{\\text{pos. center vs context}}\\cdot \\underbrace{\\prod_{k=1}^K p(y=0|w_k,w_t;\\params)}_{\\text{neg. center vs k samples}}$$\n",
    "\n",
    "We can apply $\\log$ since is strictly monotonic, will not change the optimization:\n",
    "\n",
    "$$ \\max_{\\params} \\log p(y=+1|w_{t-1},w_t;\\params)+ \\log \\sum_{k=1}^K p(y=0|w_k,w_t;\\params)$$"
   ]
  },
  {
   "cell_type": "markdown",
   "metadata": {
    "slideshow": {
     "slide_type": "fragment"
    }
   },
   "source": [
    "$$ \\max_{\\params} \\log p(y=+1|w_{t-1},w_t;\\params)+ \\log \\sum_{k=1}^K \\underbrace{1- p(y=+1|w_k,w_t;\\params)}_{\\text{it is a binary classifier!}}$$"
   ]
  },
  {
   "cell_type": "markdown",
   "metadata": {
    "slideshow": {
     "slide_type": "subslide"
    }
   },
   "source": [
    "# Likelihood with negative sampling\n",
    "\n",
    "$$ \\max_{\\params} \\log p(y=+1|w_{t-1},w_t;\\params)+  \\sum_{k=1}^K \\log\\big[1- p(y=+1|w_k,w_t;\\params)\\big]$$\n",
    "\n",
    "We replace $p(\\cdot)$ with the logistic regression and using $\\sigma(-z)= 1-\\sigma(z)$, we get:\n",
    "\n",
    "$$ \\max_{\\params} \\log \\sigma \\left(\\params_{C}[gt]^T\\params_W[i]\\right)+ \\sum_{k=1}^K \\log \\big[ \\sigma\\left(-\\params_{C}[k]^T\\params_W[i]\\right)\\big]$$"
   ]
  },
  {
   "cell_type": "markdown",
   "metadata": {
    "slideshow": {
     "slide_type": "subslide"
    }
   },
   "source": [
    "# Loss with negative sampling\n",
    "\n",
    "If we minimize, we have to invert the sign:\n",
    "\n",
    "$$ \\min_{\\params} -\\log \\sigma \\left(\\params_{C}[gt]^T\\params_W[i]\\right) - \\sum_{k=1}^K \\log \\big[ \\sigma\\left(-\\params_{C}[k]^T\\params_W[i]\\right)\\big]$$"
   ]
  },
  {
   "cell_type": "markdown",
   "metadata": {
    "slideshow": {
     "slide_type": "subslide"
    }
   },
   "source": [
    "# Visualization\n",
    "\n",
    "\n",
    "<div align='center'><img src=\"figs/negative_params.png\" width='65%' ></div>"
   ]
  },
  {
   "cell_type": "markdown",
   "metadata": {
    "slideshow": {
     "slide_type": "subslide"
    }
   },
   "source": [
    "# How to sample the negatives\n",
    "\n",
    "Which is, how to select the indexes $k \\in \\{1\\ldots K\\}, k \\neq gt$ in $\\sum_{k=1}^K \\log \\big[ \\sigma\\left(-\\params_{C}[k]^T\\params_W[i]\\right)\\big]$ ?\n",
    "\n",
    "We sample from an **Unigram model** defined over the corpus $V$ as:\n",
    "\n",
    "$$ P(v)_{\\alpha} = \\frac{\\operatorname{count(v)^\\alpha}}{\\sum_{v^{\\prime}}\\operatorname{count(v^{\\prime})^\\alpha}}$$\n",
    "and fixing $\\alpha=\\frac{3}{4}=0.75$\n",
    "\n",
    "<br>\n",
    "Setting $\\alpha=0.75$ gives better performance because <b>gives rare noise words slightly\n",
    "higher probability.</b> For rare words, $P(v)_{\\alpha} > P(v)$ while <b>common words are more or less kept the same.</b>"
   ]
  },
  {
   "cell_type": "markdown",
   "metadata": {
    "slideshow": {
     "slide_type": "slide"
    }
   },
   "source": [
    "# How to sample the negatives\n",
    "\n",
    "$$ P(v)_{\\alpha} = \\frac{\\operatorname{count(v)^\\alpha}}{\\sum_{v^{\\prime}}\\operatorname{count(v^{\\prime})^\\alpha}}$$\n",
    "and fixing $\\alpha=\\frac{3}{4}=0.75$\n",
    "<br><br>\n",
    "**Example:**\n",
    "$$\\text{is:} \\quad {0.9}^{.75} = 0.92\\\\\n",
    "\\text{Constitution:} \\quad {0.09}^{.75} = 0.16\\\\\n",
    "\\text{bombastic:} \\quad 0.01^{.75} = 0.032$$"
   ]
  },
  {
   "cell_type": "markdown",
   "metadata": {
    "slideshow": {
     "slide_type": "subslide"
    }
   },
   "source": [
    "# Sparse Gradients\n",
    "\n",
    "- We iteratively take gradients at each window for SGD\n",
    "- In each window, we only have at most $2m + 1$ words plus $2km$ negative words with negative sampling, so the gradient over a window $\\nabla_{\\params}\\mathcal{L}_t({\\params})$ is very sparse!\n",
    "- Computationally, it is important to not have to send gigantic updates around.\n",
    "\n",
    "$$\n",
    "\\nabla_\\theta \\mathcal{L}(\\theta)=\\left[\\begin{array}{l}\n",
    "\\mbf{0} \\\\\n",
    "\\vdots \\\\\n",
    "\\nabla_{\\params_W{_{l i k e}}} \\\\\n",
    "\\vdots \\\\\n",
    "\\mbf{0} \\\\\n",
    "\\nabla_{\\params_W{_{am}}} \\\\\n",
    "\\vdots \\\\\n",
    "\\nabla_{\\params_W{_{learning}}} \\\\\n",
    "\\vdots\n",
    "\\end{array}\\right] \\in \\mathbb{R}^{2 d V}\n",
    "$$"
   ]
  },
  {
   "cell_type": "markdown",
   "metadata": {
    "slideshow": {
     "slide_type": "slide"
    }
   },
   "source": [
    "# Scaling word2vec with Hierarchical Softmax"
   ]
  },
  {
   "cell_type": "markdown",
   "metadata": {
    "slideshow": {
     "slide_type": "slide"
    }
   },
   "source": [
    "# Hierarchical Softmax in NLP\n",
    "\n",
    "It is an alternative to **Negative Sampling.** We do not use a contrastive method yet we approximate the normalization over the large vocabulary with a **balanced binary tree structure**.\n",
    "\n",
    "Computational cost reduces from $\\mathcal{O} \\big( |V| \\big)$ to $\\mathcal{O}\\big(\\log_2(|V|)\\big)$ **in the best case.**\n"
   ]
  },
  {
   "cell_type": "markdown",
   "metadata": {
    "slideshow": {
     "slide_type": "subslide"
    }
   },
   "source": [
    "# Regular Softmax is a degenerate tree!\n",
    "\n",
    "We change point of view: softmax is a tree of depth=1 and $|V|$ children that are leaf too!\n",
    "\n",
    "Corpus `this is an example of a huffman tree` and assume <ins>**word tokens are characters** to simplify.</ins>\n",
    "<br><br>\n",
    "<div align='center'><img src=\"figs/softmax_tree_linear.png\" width='45%' ></div>\n"
   ]
  },
  {
   "cell_type": "markdown",
   "metadata": {
    "slideshow": {
     "slide_type": "subslide"
    }
   },
   "source": [
    "# Hierarchical Softmax in NLP\n",
    "\n",
    "1. Given a vocabulary of word token $V$ how to construct the tree (there are multiple ways of doing it)\n",
    "2. How to train with the tree\n",
    "3. How to perform inference"
   ]
  },
  {
   "cell_type": "markdown",
   "metadata": {
    "slideshow": {
     "slide_type": "subslide"
    }
   },
   "source": [
    "# Huffman tree\n",
    "\n",
    "Given a vocabulary of word token $V$ how to construct the tree? We use **Huffman trees**\n",
    "\n",
    "The corpus is `this is an example of a huffman tree` and assume <ins>**word tokens are characters** to simplify.</ins>\n",
    "\n",
    "| **chars** | **e** | **a** | **n** | **t** | **m** | **o** | **u** | **i** | **h** | **s** | **x** | **p** | **' '** | **f** | **r** | **l** |\n",
    "|-----------|-------|-------|-------|-------|-------|-------|-------|-------|-------|-------|-------|-------|---------|-------|-------|-------|\n",
    "| **freq**  | 4     | 4     | 2     | 2     | 2     | 1     | 1     | 2     | 2     | 2     | 1     | 1     | 7       | 3     | 1     | 1     |\n",
    "\n",
    "<div align='center'><img src=\"https://upload.wikimedia.org/wikipedia/commons/thumb/8/82/Huffman_tree_2.svg/938px-Huffman_tree_2.svg.png\" width='35%' ></div>\n",
    "\n",
    "<small>picture from Wikipedia</small>"
   ]
  },
  {
   "cell_type": "markdown",
   "metadata": {
    "cell_style": "split",
    "slideshow": {
     "slide_type": "subslide"
    }
   },
   "source": [
    "# Huffman tree\n",
    "\n",
    "- vocabulary $V \\rightarrow$ word frequencies with **Unigram model.**\n",
    "- More frequent word tokens are placed closer to the root; rare words are at deeper layers.\n",
    "    - If you think Information Theory, we \"spend\" less in encoding frequent words and each word has a variable code length.\n",
    "    - We want to encode `'e'` with a bit string. Convention: left is `0` and right is `1`\n",
    "    -  Then encoding of `'e'` is `left->left->left` which is `000` 3 bits\n",
    "    - Yet the encoding of `'p'` is `right->left->left->right->right` which is `10011` 5 bits\n",
    "- Each node has always two children"
   ]
  },
  {
   "cell_type": "markdown",
   "metadata": {
    "cell_style": "split",
    "slideshow": {
     "slide_type": "-"
    }
   },
   "source": [
    "# Huffman tree\n",
    "\n",
    "| **chars** | **e** | **a** | **n** | **t** | **m** | **o** | **u** | **i** | **h** | **s** | **x** | **p** | **' '** | **f** | **r** | **l** |\n",
    "|-----------|-------|-------|-------|-------|-------|-------|-------|-------|-------|-------|-------|-------|---------|-------|-------|-------|\n",
    "| **freq**  | 4     | 4     | 2     | 2     | 2     | 1     | 1     | 2     | 2     | 2     | 1     | 1     | 7       | 3     | 1     | 1     |\n",
    "\n",
    "<br><br>\n",
    "<div align='center'><img src=\"https://upload.wikimedia.org/wikipedia/commons/thumb/8/82/Huffman_tree_2.svg/938px-Huffman_tree_2.svg.png\" width='55%' ></div>\n",
    "\n",
    "<small>picture from Wikipedia</small>"
   ]
  },
  {
   "cell_type": "markdown",
   "metadata": {
    "slideshow": {
     "slide_type": "subslide"
    }
   },
   "source": [
    "# Training with Hierarchical Softmax\n",
    "\n",
    "We do not model anymore $\\params$ as the number of words in $V$, yet we model $\\params$ as the number of internal nodes in the tree $V-1$.\n",
    "\n",
    "We have a feature vector to be learned at each node $i$ of the tree for a total of $2V-1$ vectors to be learned (context and center).\n",
    "\n",
    "We assume Skip-gram and we want to compute $p(w_{t-1}|w_t = \\text{natural})$; we also assume the ground-truth $w_{t-1}$ is language.\n",
    "\n",
    "<div align='center'><img src=\"figs/hsoftmax_1.png\" width='35%' ></div>\n"
   ]
  },
  {
   "cell_type": "markdown",
   "metadata": {
    "slideshow": {
     "slide_type": "subslide"
    }
   },
   "source": [
    "# Training with Hierarchical Softmax\n",
    "\n",
    "Assume Skip-gram and we want to compute $p(w_{t-1}|w_t = \\text{natural})$ and we assume the ground-truth $w_{t-1}$ is language. \n",
    "\n",
    "So we \"bypass\" all paths except the one that from root leads to `language`.\n",
    "\n",
    "<div align='center'><img src=\"figs/hsoftmax_2.png\" width='35%' ></div>\n"
   ]
  },
  {
   "cell_type": "markdown",
   "metadata": {
    "cell_style": "split",
    "slideshow": {
     "slide_type": "subslide"
    }
   },
   "source": [
    "# Training with Hierarchical Softmax\n",
    "\n",
    "$p(w_{t-1}|w_t = \\text{natural})$ and we assume the ground-truth $w_{t-1}$ is \"language\". \n",
    "\n",
    "$$p(w_{t-1}|w_t = \\text{natural}) = \\prod_{n~\\in~path(\\text{root}\\rightarrow \\text{language})} p_{\\operatorname{branch}}\\big(n,i\\big)$$\n",
    "\n",
    "where: \n",
    "$$ \n",
    "p_{\\operatorname{branch}}(n,i) = \\begin{cases} \\sigma\\big(\\boldsymbol{\\theta}_C[n]^T\\boldsymbol{\\theta}_W[i])\\big), & \\mbox{if } \\mbox{left} \\\\ \n",
    "1-\\sigma\\big(\\boldsymbol{\\theta}_C[n]^T\\boldsymbol{\\theta}_W[i])\\big), & \\mbox{if } \\mbox{right} \\end{cases} \n",
    "$$\n",
    "<br>"
   ]
  },
  {
   "cell_type": "markdown",
   "metadata": {
    "cell_style": "split",
    "slideshow": {
     "slide_type": "-"
    }
   },
   "source": [
    "<div align='center'><img src=\"figs/hsoftmax_3.png?2\" width='65%' ></div>"
   ]
  },
  {
   "cell_type": "markdown",
   "metadata": {
    "slideshow": {
     "slide_type": "subslide"
    }
   },
   "source": [
    "# Exercise: compute the loss with Hierarchical Softmax\n",
    "\n",
    "$p(w_{t-1}|w_t = \\text{natural})$ and we assume the ground-truth $w_{t-1}$ is language. \n",
    "\n",
    "<div align='center'><img src=\"figs/hsoftmax_3a.png?2\" width='45%' ></div>"
   ]
  },
  {
   "cell_type": "markdown",
   "metadata": {
    "cell_style": "split",
    "slideshow": {
     "slide_type": "subslide"
    }
   },
   "source": [
    "# Exercise: compute the loss with Hierarchical Softmax\n",
    "<br>\n",
    "<div align='center'><img src=\"figs/hsoftmax_3b.png?2\" width='75%' ></div>"
   ]
  },
  {
   "cell_type": "markdown",
   "metadata": {
    "cell_style": "split",
    "slideshow": {
     "slide_type": "-"
    }
   },
   "source": [
    "# Embeddings as a Matrix\n",
    "\n",
    "The embedding $\\params_C$ are still in a matrix, where each row of the matrix is indexed by the node $n$ index.\n",
    "\n",
    "<div align='center'><img src=\"figs/hsoftmax_matrix.png?2\" width='45%' ></div>"
   ]
  },
  {
   "cell_type": "markdown",
   "metadata": {
    "slideshow": {
     "slide_type": "subslide"
    }
   },
   "source": [
    "# Exercise: compute the loss with Hierarchical Softmax\n",
    "\n",
    "$p(w_{t-1}|w_t = \\text{natural})$ and we assume the ground-truth $w_{t-1}$ is language. \n",
    "\n",
    "<div align='center'><img src=\"figs/hsoftmax_3b.png?2\" width='45%' ></div>"
   ]
  },
  {
   "cell_type": "markdown",
   "metadata": {
    "slideshow": {
     "slide_type": "subslide"
    }
   },
   "source": [
    "# Exercise: compute the loss with Hierarchical Softmax\n",
    "\n",
    "$p(w_{t-1}|w_t = \\text{natural})$ and we assume the ground-truth $w_{t-1}$ is language. \n",
    "\n",
    "<div align='center'><img src=\"figs/hsoftmax_3c.png?2\" width='45%' ></div>"
   ]
  },
  {
   "cell_type": "markdown",
   "metadata": {
    "slideshow": {
     "slide_type": "subslide"
    }
   },
   "source": [
    "# Exercise: compute the loss with Hierarchical Softmax\n",
    "\n",
    "$p(w_{t-1}|w_t = \\text{natural})$ and we assume the ground-truth $w_{t-1}$ is language. \n",
    "\n",
    "<div align='center'><img src=\"figs/hsoftmax_3d.png?2\" width='45%' ></div>"
   ]
  },
  {
   "cell_type": "markdown",
   "metadata": {
    "slideshow": {
     "slide_type": "subslide"
    }
   },
   "source": [
    "# Exercise: compute the loss with Hierarchical Softmax\n",
    "\n",
    "$p(w_{t-1}|w_t = \\text{natural})$ and we assume the ground-truth $w_{t-1}$ is language. \n",
    "\n",
    "<div align='center'><img src=\"figs/hsoftmax_3e.png?2\" width='45%' ></div>"
   ]
  },
  {
   "cell_type": "markdown",
   "metadata": {
    "slideshow": {
     "slide_type": "subslide"
    }
   },
   "source": [
    "# Exercise: compute the loss with Hierarchical Softmax\n",
    "\n",
    "$p(w_{t-1}|w_t = \\text{natural})$ and we assume the ground-truth $w_{t-1}$ is language. \n",
    "\n",
    "<div align='center'><img src=\"figs/hsoftmax_3f.png?2\" width='45%' ></div>"
   ]
  },
  {
   "cell_type": "markdown",
   "metadata": {
    "slideshow": {
     "slide_type": "subslide"
    }
   },
   "source": [
    "# Exercise: compute the loss with Hierarchical Softmax\n",
    "\n",
    "$p(w_{t-1}|w_t = \\text{natural})$ and we assume the ground-truth $w_{t-1}$ is language. \n",
    "\n",
    "<div align='center'><img src=\"figs/hsoftmax_3g.png?2\" width='45%' ></div>"
   ]
  },
  {
   "cell_type": "markdown",
   "metadata": {
    "slideshow": {
     "slide_type": "subslide"
    }
   },
   "source": [
    "# Exercise: compute the loss with Hierarchical Softmax\n",
    "\n",
    "$p(w_{t-1}|w_t = \\text{natural}) = 1 \\cdot 0.9\\cdot0.95\\cdot0.65\\cdot0.2 = 0.11115$\n",
    "\n",
    "Loss is $-\\log\\big(p(w_{t-1}|w_t = \\text{natural})\\big) = -\\log(0.11115)$\n",
    "\n",
    "<div align='center'><img src=\"figs/hsoftmax_3g.png?2\" width='45%' ></div>"
   ]
  },
  {
   "cell_type": "markdown",
   "metadata": {
    "slideshow": {
     "slide_type": "subslide"
    }
   },
   "source": [
    "# Inference with Hierarchical Softmax\n",
    "\n",
    "**Important:** In inference with do not have the label!\n",
    "\n",
    "1. Exhaustive search [too complex]\n",
    "2. Greedy search (at each branch take the branch at maximum probability) [too greedy]\n",
    "3. **Beam search** (we will cover later on)\n",
    "\n"
   ]
  },
  {
   "cell_type": "markdown",
   "metadata": {
    "slideshow": {
     "slide_type": "subslide"
    }
   },
   "source": [
    "# Google Allo project used Beam search/Hierarchical Softmax\n",
    "Google (now dead ☠️ ) project Allo used a Hierarchical tree to speed up inference.\n",
    "<br>\n",
    "<div align='center'><img src=\"figs/allo_2016.png\" width='35%' ></div>\n",
    "\n",
    "<small>Taken from https://ai.googleblog.com/2016/05/chat-smarter-with-allo.html</small>"
   ]
  },
  {
   "cell_type": "markdown",
   "metadata": {
    "slideshow": {
     "slide_type": "subslide"
    }
   },
   "source": [
    "# Google Allo project used Beam search/Hierarchical Softmax\n",
    "\n",
    "Google (now dead ☠️ ) project Allo used a Hierarchical tree to speed up inference.\n",
    "<br>\n",
    "<div align='center'><img src=\"figs/allo_2016_beam_search.png\" width='45%' ></div>\n",
    "\n",
    "<small>Taken from https://ai.googleblog.com/2016/05/chat-smarter-with-allo.html</small>"
   ]
  },
  {
   "cell_type": "markdown",
   "metadata": {
    "slideshow": {
     "slide_type": "subslide"
    }
   },
   "source": [
    "# Google Allo project used Hierarchical Softmax\n",
    "\n",
    "> As with any large-scale product, there were several engineering challenges we had to solve in generating a set of high-quality responses efficiently. For example, in spite of the two staged architecture, our first few networks were very slow and required about half a second to generate a response. This was obviously a deal breaker when we are talking about real time communication apps! \n",
    "\n",
    "> So we had to evolve our neural network architecture further to reduce the latency to less than 200ms. We moved from using **a softmax layer to a hierarchical softmax layer which traverses a tree of words instead of traversing a list of words thus making it more efficient.**\n",
    "\n",
    "<small>Taken from https://ai.googleblog.com/2016/05/chat-smarter-with-allo.html</small>"
   ]
  },
  {
   "cell_type": "markdown",
   "metadata": {
    "slideshow": {
     "slide_type": "slide"
    }
   },
   "source": [
    "# Hints on fastText\n",
    "\n",
    "<div align='center'><img src=https://radimrehurek.com/gensim/_images/sphx_glr_run_fasttext_001.png width='25%' ></div>\n",
    "\n",
    "- Morphological structure of a word carries important information about the meaning of the word.\n",
    "- fastText attempts to solve this by treating **each word as the aggregation of its subwords.**\n",
    "- Morphologically rich languages (German, Turkish) in which a single word can have a large number of morphological forms, each of which might occur rarely, thus making it hard to train good word embeddings.\n"
   ]
  },
  {
   "cell_type": "markdown",
   "metadata": {
    "slideshow": {
     "slide_type": "subslide"
    }
   },
   "source": [
    "\n",
    "# Subword Embedding\n",
    "\n",
    "In English,\n",
    "words such as\n",
    ">\"helps\", \"helped\", and \"helping\" are \n",
    "\n",
    "**inflected forms of the same word \"help\".**\n",
    "The relationship \n",
    "between \"dog\" and \"dogs\"\n",
    "is the same as \n",
    "that between \"cat\" and \"cats\",\n",
    "and \n",
    "the relationship \n",
    "between \"boy\" and \"boyfriend\"\n",
    "is the same as \n",
    "that between \"girl\" and \"girlfriend\".\n",
    "\n",
    "In other languages\n",
    "such as French and Spanish,\n",
    "**many verbs have over 40 inflected forms,**\n",
    "while in Finnish,\n",
    "a noun may have up to 15 cases.\n",
    "\n",
    "**In linguistics,\n",
    "morphology studies word formation and word relationships.**\n",
    "However,\n",
    "the internal structure of words\n",
    "was neither explored in word2vec\n",
    "nor in GloVe."
   ]
  },
  {
   "cell_type": "markdown",
   "metadata": {
    "slideshow": {
     "slide_type": "subslide"
    }
   },
   "source": [
    "## The fastText Model\n",
    "\n",
    "To use morphological information,\n",
    "the *fastText* model\n",
    "proposed a *subword embedding* approach,\n",
    "where a **subword is a character $n$-gram**.\n",
    "\n",
    "Instead of learning word-level vector representations,\n",
    "fastText can be considered as:\n",
    "- the **subword-level skip-gram**,\n",
    "- where each *center word* is represented by the **sum of  its subword vectors**."
   ]
  },
  {
   "cell_type": "markdown",
   "metadata": {
    "slideshow": {
     "slide_type": "subslide"
    }
   },
   "source": [
    "## The fastText Model\n",
    "\n",
    "Let's illustrate how to obtain \n",
    "subwords for each center word in fastText\n",
    "using the word \"where\".\n",
    "1. First, add special characters “&lt;” and “&gt;” \n",
    "at the beginning and end of the word to distinguish prefixes and suffixes from other subwords. \n",
    "2. Then, extract character $n$-grams from the word.\n",
    "For example, when $n=3$,\n",
    "we obtain all subwords of length 3: \"&lt;wh\", \"whe\", \"her\", \"ere\", \"re&gt;\", and the **special subword \"&lt;where&gt;\".**\n",
    "\n",
    "```python\n",
    "S = '<where>'; n=3;\n",
    "for i in range(0, len(S)-n+1):\n",
    "    print(S[i:i+n])\n",
    "```"
   ]
  },
  {
   "cell_type": "markdown",
   "metadata": {
    "slideshow": {
     "slide_type": "subslide"
    }
   },
   "source": [
    "## The fastText Model\n",
    "\n",
    "In fastText, for any word $w$,\n",
    "denote by $\\mathcal{G}_w$\n",
    "the **union of all its subwords of length between 3 and 6\n",
    "and its special subword.**\n",
    "<ins>The vocabulary \n",
    "is the union of the subwords of all words.</ins>\n",
    "Letting $\\mathbf{z}_g$\n",
    "be the vector of subword $g$ in the dictionary,\n",
    "the vector $\\mathbf{v}_w$ for \n",
    "word $w$ as a center word\n",
    "in the skip-gram model\n",
    "is the sum of its subword vectors:\n",
    "\n",
    "$$\\mathbf{v}_w = \\sum_{g\\in\\mathcal{G}_w} \\mathbf{z}_g.$$"
   ]
  },
  {
   "cell_type": "markdown",
   "metadata": {
    "slideshow": {
     "slide_type": "fragment"
    }
   },
   "source": [
    "The rest of fastText is the same as the skip-gram model. Compared with the skip-gram model, \n",
    "**the vocabulary in fastText is larger,**\n",
    "resulting in **more model parameters.**\n",
    "Besides, \n",
    "to calculate the representation of a word,\n",
    "all its subword vectors\n",
    "have to be summed,\n",
    "leading to higher computational complexity.\n",
    "**However,\n",
    "thanks to shared parameters from subwords among words with similar structures,\n",
    "rare words and even out-of-vocabulary words\n",
    "may obtain better vector representations in fastText.**"
   ]
  },
  {
   "cell_type": "markdown",
   "metadata": {
    "slideshow": {
     "slide_type": "slide"
    }
   },
   "source": [
    "# Evaluating Word Embeddings\n",
    "\n",
    "Related to general evaluation in NLP/Machine Learning: **Intrinsic vs. Extrinsic**\n",
    "\n",
    "- **Intrinsic**:\n",
    "\t- Evaluation on a specific/intermediate subtask\n",
    "\t- Fast to compute\n",
    "\t- Helps to understand that system\n",
    "\t- Not clear if really helpful unless correlation to real task is established\n",
    "    - Often involve **correlation with human judgments**\n"
   ]
  },
  {
   "cell_type": "markdown",
   "metadata": {
    "slideshow": {
     "slide_type": "subslide"
    }
   },
   "source": [
    "# Evaluating Word Embeddings\n",
    "\n",
    "Related to general evaluation in NLP/Machine Learning: **Intrinsic vs. Extrinsic**\n",
    "\n",
    "- **Extrinsic**:\n",
    "\t- Evaluation on a real downstream task\n",
    "\t- Can take a long time to compute accuracy\n",
    "\t- Unclear if the subsystem is the problem or its interaction or other subsystems\n",
    "\t- If replacing exactly one subsystem with another improves accuracy $\\rightarrow$ Winner! **(Ablation study)**\n",
    "\t- Always perform validation of the hyper-parameter on a validation (or dev) set; when you are sure then test once.\n",
    "\n",
    "<small>Taken from cs224n Stanford NLP with Deep learning</small>"
   ]
  },
  {
   "cell_type": "markdown",
   "metadata": {
    "slideshow": {
     "slide_type": "slide"
    }
   },
   "source": [
    "# Embedding and Historical Semantics\n",
    "<br>\n",
    "<div align='center'><img src=\"figs/historical.png\" width='65%' ></div>\n"
   ]
  },
  {
   "cell_type": "markdown",
   "metadata": {
    "slideshow": {
     "slide_type": "slide"
    }
   },
   "source": [
    "# Bias and Embeddings ⚠️\n",
    "\n",
    "In addition to their ability to learn word meaning from text, embeddings, alas, also **reproduce the implicit biases and stereotypes** that were **latent in the text**\n",
    "\n",
    "Besides the notorious $$ \\text{man} : \\text{king} = \\text{woman} : \\text{queen}  $$\n",
    "\n",
    "the same embeddings analogies also **exhibit gender bias**"
   ]
  },
  {
   "cell_type": "markdown",
   "metadata": {
    "slideshow": {
     "slide_type": "fragment"
    }
   },
   "source": [
    "$$ \\text{man} : \\text{computer programmer} = \\text{woman} : \\text{homemaker}  $$"
   ]
  },
  {
   "cell_type": "markdown",
   "metadata": {
    "slideshow": {
     "slide_type": "fragment"
    }
   },
   "source": [
    "$$ \\text{father} : \\text{doctor} = \\text{mother} : \\text{nurse}  $$"
   ]
  },
  {
   "cell_type": "markdown",
   "metadata": {
    "slideshow": {
     "slide_type": "subslide"
    }
   },
   "source": [
    "# Bias and Embeddings ⚠️\n",
    "\n",
    "Bias in the embeddings can cause **allocational harm**\n",
    "\n",
    ">when a system allocates resources (jobs or credit) unfairly to different groups. For example algorithms\n",
    "that use embeddings as part of a search for hiring potential programmers or doctors\n",
    "might thus incorrectly downweight documents with women's names"
   ]
  },
  {
   "cell_type": "markdown",
   "metadata": {
    "slideshow": {
     "slide_type": "subslide"
    }
   },
   "source": [
    "# Bias and Embeddings ⚠️\n",
    "\n",
    "Bias in the embeddings can cause **representational harm** as in bias towards the ethnicity groups\n",
    "\n",
    "> Using such methods, people\n",
    "in the United States have been shown to associate African-American names with\n",
    "unpleasant words (more than European-American names), male names more with\n",
    "mathematics and female names with the arts, and old people’s names with unpleasant words"
   ]
  },
  {
   "cell_type": "markdown",
   "metadata": {
    "slideshow": {
     "slide_type": "slide"
    }
   },
   "source": [
    "# Debiasing and Fairness in NLP/Machine Learning \n",
    "# is an Open-Problem"
   ]
  },
  {
   "cell_type": "markdown",
   "metadata": {
    "slideshow": {
     "slide_type": "subslide"
    }
   },
   "source": [
    "# Word Embedding: Topics we did NOT cover\n",
    "\n",
    "- **Global Vector - GloVe** Model: taking the best of both word (SVD-based and iterative, word2vec based). Invented by Stanford.\n",
    "- We only skimmed through **[fastext](https://fasttext.cc/)**: extension of word2vec to deal with the **Out of Vocabulary (OOV) problem**\n",
    "    - [Fastext demo with Gensim](https://radimrehurek.com/gensim/auto_examples/tutorials/run_fasttext.html#sphx-glr-auto-examples-tutorials-run-fasttext-py)"
   ]
  },
  {
   "cell_type": "markdown",
   "metadata": {
    "slideshow": {
     "slide_type": "slide"
    }
   },
   "source": [
    "# Natural Language Processing with Deep Learning"
   ]
  },
  {
   "cell_type": "markdown",
   "metadata": {
    "slideshow": {
     "slide_type": "subslide"
    }
   },
   "source": [
    "# Brief recap of Neural Networks"
   ]
  },
  {
   "cell_type": "markdown",
   "metadata": {
    "slideshow": {
     "slide_type": "slide"
    }
   },
   "source": [
    "# Today's lecture\n",
    "## Supervised, <ins>Parametric</ins> Models\n",
    "#### Propaedeutic part for Deep Learning\n",
    "\n",
    "### 0) Optimization in Deep Learning\n",
    "### 1) Network Structure: Multi-Layer Perceptron (MLP) is a Fully-Connected Neural Net\n",
    "### 2) Backpropagation "
   ]
  },
  {
   "cell_type": "markdown",
   "metadata": {
    "slideshow": {
     "slide_type": "slide"
    }
   },
   "source": [
    "# This lecture material is taken from\n",
    "📘 **Chapter 7 Jurafsky Book**\n",
    "\n",
    "Another good yet short resource is [[d2l.ai] Word embedding](https://d2l.ai/chapter_natural-language-processing-pretraining/word2vec.html)\n",
    "\n",
    "- [d2l.ai - Multi Variable Calculus](https://d2l.ai/chapter_appendix-mathematics-for-deep-learning/multivariable-calculus.html)\n",
    "- [Karpathy (Tesla Machine Learning Directory) Lecture on Backprop](https://www.youtube.com/watch?v=i94OvYb6noo&t=2985s)\n",
    "- [Stanford Neural Nets and Backprop lecture](https://www.youtube.com/watch?v=mpJ2bFF6o8s)\n",
    "- [Stanford ML notes on Neural Nets](http://cs229.stanford.edu/summer2019/cs229-notes-deep_learning.pdf)\n",
    "- [Stanford ML notes on Backprop](http://cs229.stanford.edu/notes-spring2019/backprop.pdf)\n",
    "- [Animation from jermwatt.github.io  ](https://jermwatt.github.io/machine_learning_refined/notes/3_First_order_methods/3_8_Momentum.html)\n"
   ]
  },
  {
   "cell_type": "markdown",
   "metadata": {
    "slideshow": {
     "slide_type": "slide"
    }
   },
   "source": [
    "# Deep Learning\n",
    "\n",
    "### 0) Quick Intro to Optimization in Deep Learning\n",
    "### 1) What is a Neural Net (just Multi-Layer Perceptron)\n",
    "### 2) How to obtain gradients on the weights"
   ]
  },
  {
   "cell_type": "markdown",
   "metadata": {
    "cell_style": "split",
    "slideshow": {
     "slide_type": "subslide"
    }
   },
   "source": [
    "# Gradient Descent or Batch GD\n",
    "\n",
    "- Compute the gradient of the loss wrt to params for **all $n$ training samples**\n",
    "- $\\bmf{\\theta} -\\gamma \\sum_{i=1}^n \\bmf{\\nabla}_{\\bmf{\\theta}}\\mathcal{J}(\\mbf{\\theta};\\mbf{x}_i,y_i)$"
   ]
  },
  {
   "cell_type": "markdown",
   "metadata": {
    "cell_style": "split",
    "slideshow": {
     "slide_type": "fragment"
    }
   },
   "source": [
    "# Stochastic Gradient Descent or SGD\n",
    "\n",
    "- Compute the gradient of the loss wrt to params for **a single random training samples**\n",
    "- $\\bmf{\\theta} -\\gamma \\bmf{\\nabla}_{\\bmf{\\theta}}\\mathcal{J}(\\mbf{\\theta};\\mbf{x}_i,y_i)$"
   ]
  },
  {
   "cell_type": "markdown",
   "metadata": {
    "slideshow": {
     "slide_type": "subslide"
    }
   },
   "source": [
    "# How to optimize a Neural Net - SGD over mini-batches\n",
    "\n",
    "\n",
    "1. In-between Batch GD and SGD with a single sample\n",
    "2. We load randomly $k$ samples over the $n$; usually $k$ is a power of 2.\n",
    "    - mini batch of `32, 64, 128` but could also be `100`\n",
    "3. $\\bmf{\\theta} -\\gamma \\sum_{i=1}^k \\bmf{\\nabla}_{\\bmf{\\theta}}\\mathcal{J}(\\mbf{\\theta};\\mbf{x}_i,y_i)$\n",
    "4. Practically you take your training set $\\mathcal{X}$ and you **shuffle** it, then go over it $k$ by $k$. _Simulate uniform random sampling without replacement._\n",
    "    - When the list is over, re-start and shuffle again.\n",
    "5. When you have perfomed a full pass on the shuffled data, this is called an **EPOCH**\n",
    "6. You can train NN over iterations or over **EPOCHS**"
   ]
  },
  {
   "cell_type": "markdown",
   "metadata": {
    "slideshow": {
     "slide_type": "subslide"
    }
   },
   "source": [
    "# Training scheme Pseudo-code\n",
    "\n",
    "```python\n",
    "from random import shuffle\n",
    "training = list(range(1,11)) # each index points to a training sample, \n",
    "                             # could be a matrix x=HxWx3, label y\n",
    "                             # with text could be a matrix x=T where T is #of word tokens\n",
    "shuffle(training)\n",
    "converge, it, max_it, k, epoch = False, 0, 100, 3, 0\n",
    "```"
   ]
  },
  {
   "cell_type": "markdown",
   "metadata": {
    "slideshow": {
     "slide_type": "subslide"
    }
   },
   "source": [
    "# Training scheme Pseudo-code\n",
    "\n",
    "```python\n",
    "while not converge and it < max_it: # you training convergence scheme\n",
    "    print(f'[Epoch {epoch}]')\n",
    "    for b in range(0, len(training), k): # Data Loader gives you a batch k x matrices\n",
    "        mini_batch = training[b:b+k] # so mini-batch is a tensor HxWx3xk or Txk\n",
    "        if len(mini_batch) != k: # a possible way of handling the offset\n",
    "            continue\n",
    "        print('SGD step taken over', mini_batch) # compute the loss/gradients \n",
    "                                                 # and update your model\n",
    "        loss.backward()  # get the gradients\n",
    "        optimizer.step() # incorporate in the model\n",
    "        # check convergence and set it to True in case\n",
    "        it += 1\n",
    "    epoch += 1 # an epoch is done, we reshuffle the training set\n",
    "    shuffle(training)\n",
    "```"
   ]
  },
  {
   "cell_type": "markdown",
   "metadata": {
    "slideshow": {
     "slide_type": "subslide"
    }
   },
   "source": [
    "```python\n",
    "> Original unshuffled training set [1, 2, 3, 4, 5, 6, 7, 8, 9, 10]\n",
    "> Training set [10, 8, 1, 2, 6, 4, 9, 7, 5, 3]\n",
    "[Epoch 0]\n",
    "SGD step taken over [10, 8, 1]\n",
    "SGD step taken over [2, 6, 4]\n",
    "SGD step taken over [9, 7, 5]\n",
    "> Training set [1, 10, 6, 9, 3, 7, 8, 4, 5, 2]\n",
    "[Epoch 1]\n",
    "SGD step taken over [1, 10, 6]\n",
    "SGD step taken over [9, 3, 7]\n",
    "SGD step taken over [8, 4, 5]\n",
    "> Training set [6, 3, 10, 5, 9, 8, 4, 7, 2, 1]\n",
    "[Epoch 2]\n",
    "SGD step taken over [6, 3, 10]\n",
    "SGD step taken over [5, 9, 8]\n",
    "SGD step taken over [4, 7, 2]\n",
    "> Training set [1, 2, 5, 10, 6, 7, 9, 8, 3, 4]\n",
    "[Epoch 3]\n",
    "SGD step taken over [1, 2, 5]\n",
    "SGD step taken over [10, 6, 7]\n",
    "SGD step taken over [9, 8, 3]\n",
    "> Training set [2, 3, 1, 9, 6, 8, 4, 10, 7, 5]\n",
    "[Epoch 4]\n",
    "```"
   ]
  },
  {
   "cell_type": "markdown",
   "metadata": {
    "slideshow": {
     "slide_type": "subslide"
    }
   },
   "source": [
    "# 1) SGD over mini-batches\n",
    "\n",
    "\n",
    "1. **<ins>Initialization - Very Important if the function is not strictly convex</ins>** \n",
    "$$\\bmf{\\theta} \\sim \\mathcal{N}(\\cdot)~~~\\text{omit details for now}$$ With NN random initialization from a distribution (There are different methods). **We do not set them all to zero**\n",
    "2. Repeat until **convergence**:\n",
    "    - Compute the gradient of the loss wrt to the parameters $\\bmf{\\theta}$ given **the mini-batch**\n",
    "    - Take a small step in the opposite direction of steepest ascent **(so steepest descent).**<br/><br/>\n",
    "     $$\\bmf{\\theta} \\leftarrow  \\bmf{\\theta} -\\sum_{i=1}^k \\gamma \\bmf{\\nabla}_{\\bmf{\\theta}}\\mathcal{J}(\\mbf{\\theta};\\mbf{x},y)$$\n",
    "3. When convergence is reached, you final estimate is in $\\bmf{\\theta}$"
   ]
  },
  {
   "cell_type": "markdown",
   "metadata": {
    "slideshow": {
     "slide_type": "subslide"
    }
   },
   "source": [
    "# Change of vocabulary - A bunch of training samples is a mini-batch\n",
    "\n",
    "- We train NN **Stochastic Gradient Descent** over mini-batches with momentum (or variations thereof)\n",
    "- When you train NN you 'sample' a mini-batch $\\mbf{X}_b$ from your big dataset $\\mbf{X}$.\n",
    "\n",
    "\n",
    "Below this holds for the final linear layer:\n",
    "$$ \\underbrace{\\mbf{Y}}_{\\mathbb{R}^{Kxn}} = \\underbrace{\\mbf{W}}_{\\mathbb{R}^{K\\times d}}\\underbrace{\\mbf{X}_b}_{\\mathbb{R}^{d\\times n}} + \\underbrace{\\mbf{b}}_{\\mathbb{R}^K}$$"
   ]
  },
  {
   "cell_type": "markdown",
   "metadata": {
    "slideshow": {
     "slide_type": "subslide"
    }
   },
   "source": [
    "# Mini-Batch, Visually\n",
    "<br>\n",
    "<div align='center'><img src=\"figs/batch_SGD_01.png\" width='75%' ></div>"
   ]
  },
  {
   "cell_type": "markdown",
   "metadata": {
    "slideshow": {
     "slide_type": "subslide"
    }
   },
   "source": [
    "# Mini-Batch SGD vs ~~[Batch]~~ GD\n",
    "\n",
    "Loss in NN in **non-convex** with lots of local-minima so stochasticity adds noise that let the optmization escape from local minima.\n",
    "\n",
    "<div align='center'><img src=\"figs/batch_SGD_02.png\" width='75%' ></div>"
   ]
  },
  {
   "cell_type": "markdown",
   "metadata": {
    "slideshow": {
     "slide_type": "subslide"
    }
   },
   "source": [
    "# Mini-batch is a sort of smoothing of the single point SGD"
   ]
  },
  {
   "cell_type": "markdown",
   "metadata": {
    "slideshow": {
     "slide_type": "subslide"
    }
   },
   "source": [
    "# There is another smoothing technique: Momentum"
   ]
  },
  {
   "cell_type": "markdown",
   "metadata": {
    "slideshow": {
     "slide_type": "subslide"
    }
   },
   "source": [
    "**Top:** SGD: **Bottom:** SGD with momentum increasing memory of previous steps\n",
    "<div align='center'><img src=\"figs/batch_SGD_03.png\" width='65%' ></div>"
   ]
  },
  {
   "cell_type": "markdown",
   "metadata": {
    "slideshow": {
     "slide_type": "subslide"
    }
   },
   "source": [
    "# SGD over mini-batches with Momentum\n",
    "\n",
    "\n",
    "1. **Initialization - Very Important if the function is not strictly convex** \n",
    "$$\\bmf{\\theta} \\sim \\mathcal{N}~~~\\text{omit details}$$ With NN random initialization from a distribution (There are different methods). **We do not set them all to zero**\n",
    "2. Repeat until **convergence**:\n",
    "    - Compute the gradient of the loss wrt to the parameters $\\bmf{\\theta}$ given **the mini-batch**\n",
    "    - Take a small step in the opposite direction of steepest ascent **(so steepest descent).**<br/><br/>\n",
    "$$\\bmf{\\Delta}_{t+1} = \\alpha\\bmf{\\Delta}_{t} + (1-\\alpha)\\underbrace{\\sum_{i=1}^k\\bmf{\\nabla}_{\\bmf{\\theta}}\\mathcal{J}(\\mbf{\\theta};\\mbf{x}_i,y_i)}_{\\text{new update}}$$\n",
    "\n",
    " $$\\bmf{\\theta} \\leftarrow  \\bmf{\\theta} - \\gamma \\bmf{\\Delta}_{t+1}$$\n",
    "3. When convergence is reached (or **EARLY STOPPING**), you final estimate is in $\\bmf{\\theta}$"
   ]
  },
  {
   "cell_type": "markdown",
   "metadata": {
    "slideshow": {
     "slide_type": "subslide"
    }
   },
   "source": [
    "# Loss Surface for Linear Regression $\\ell_2^2$ loss with $d=2$ parameters in $\\bmf{\\theta}$\n",
    "\n",
    "<div align='center'><img src=\"figs/loss.png\" width='50%' ></div>"
   ]
  },
  {
   "cell_type": "code",
   "execution_count": 20,
   "metadata": {
    "hide_input": false,
    "slideshow": {
     "slide_type": "skip"
    }
   },
   "outputs": [
    {
     "data": {
      "image/png": "[encoded data removed]",
      "text/plain": [
       "<Figure size 700x700 with 1 Axes>"
      ]
     },
     "metadata": {},
     "output_type": "display_data"
    }
   ],
   "source": [
    "%matplotlib inline\n",
    "from sklearn import linear_model, datasets\n",
    "from matplotlib import pyplot as plt\n",
    "import numpy as np\n",
    "\n",
    "n_samples = 100\n",
    "size = 7\n",
    "\n",
    "X, y, coef_gt = datasets.make_regression(\n",
    "    n_samples=n_samples,\n",
    "    n_features=1,\n",
    "    n_informative=1,\n",
    "    noise=20,\n",
    "    coef=True,\n",
    "    random_state=42,\n",
    ")\n",
    "fig = plt.figure(figsize=(size, size))\n",
    "ax = fig.add_subplot()\n",
    "# Linear Regression\n",
    "bias = np.ones((X.shape[0], 1))\n",
    "X = np.hstack((X, bias))\n",
    "theta = np.linalg.inv(X.T@X)@X.T@y\n",
    "# Now MeshGrid\n",
    "Xmin, Xmax = X.min(), X.max()\n",
    "x_interp = np.linspace(Xmin, Xmax, 100)\n",
    "x_interp = x_interp.reshape(-1,1)\n",
    "x_interp = np.c_[x_interp,np.ones_like(x_interp)]\n",
    "y_interp = np.dot(theta, x_interp.T)\n",
    "ax.scatter(x_interp[:,0], y_interp, alpha=0.7, marker='.')\n",
    "ax.scatter(X[..., 0], y, c='red', marker='o')\n",
    "ax.set_xlabel('$x$');\n",
    "ax.set_ylabel('$y$');"
   ]
  },
  {
   "cell_type": "code",
   "execution_count": 21,
   "metadata": {
    "slideshow": {
     "slide_type": "skip"
    }
   },
   "outputs": [],
   "source": [
    "# do mesh grid on possible theta, evaluate the loss and plot the countf\n",
    "theta_sampling = 50\n",
    "theta_space = np.linspace(-200, 200, theta_sampling)\n",
    "xxt, yyt = np.meshgrid(theta_space, theta_space)\n",
    "xxt = xxt.flatten()\n",
    "yyt = yyt.flatten()\n",
    "all_coeff = np.stack((xxt, yyt), axis=1)\n",
    "loss = 0.5*1"
   ]
  },
  {
   "cell_type": "code",
   "execution_count": 22,
   "metadata": {
    "slideshow": {
     "slide_type": "skip"
    }
   },
   "outputs": [],
   "source": [
    "losses = []\n",
    "for coeff in all_coeff:\n",
    "    diff = np.dot(X, coeff.T) - y\n",
    "    losses.append(0.5*np.dot(diff.T, diff))\n",
    "losses = np.array(losses)\n",
    "losses = losses.reshape(theta_sampling, theta_sampling)\n",
    "xxt = xxt.reshape(theta_sampling, theta_sampling)\n",
    "yyt = yyt.reshape(theta_sampling, theta_sampling)"
   ]
  },
  {
   "cell_type": "code",
   "execution_count": 23,
   "metadata": {
    "slideshow": {
     "slide_type": "skip"
    }
   },
   "outputs": [
    {
     "data": {
      "image/png": "[encoded data removed]",
      "text/plain": [
       "<Figure size 640x480 with 2 Axes>"
      ]
     },
     "metadata": {},
     "output_type": "display_data"
    }
   ],
   "source": [
    "plt.rcParams['axes.grid'] = False\n",
    "plt.contourf(xxt, yyt, losses, levels=50, cmap='jet')\n",
    "plt.colorbar()\n",
    "plt.scatter(coef_gt, 0, color='red', marker='o', s=50)\n",
    "plt.axis('scaled')\n",
    "plt.xlabel('$theta_1$')\n",
    "plt.ylabel('$theta_2$');"
   ]
  },
  {
   "cell_type": "code",
   "execution_count": 24,
   "metadata": {
    "slideshow": {
     "slide_type": "skip"
    }
   },
   "outputs": [],
   "source": [
    "figsize = 8"
   ]
  },
  {
   "cell_type": "markdown",
   "metadata": {
    "slideshow": {
     "slide_type": "subslide"
    }
   },
   "source": [
    "# Ready for an awesome demo?"
   ]
  },
  {
   "cell_type": "code",
   "execution_count": 25,
   "metadata": {
    "hide_input": true,
    "scrolled": true,
    "slideshow": {
     "slide_type": "subslide"
    }
   },
   "outputs": [
    {
     "data": {
      "application/javascript": [
       "/* Put everything inside the global mpl namespace */\n",
       "/* global mpl */\n",
       "window.mpl = {};\n",
       "\n",
       "mpl.get_websocket_type = function () {\n",
       "    if (typeof WebSocket !== 'undefined') {\n",
       "        return WebSocket;\n",
       "    } else if (typeof MozWebSocket !== 'undefined') {\n",
       "        return MozWebSocket;\n",
       "    } else {\n",
       "        alert(\n",
       "            'Your browser does not have WebSocket support. ' +\n",
       "                'Please try Chrome, Safari or Firefox ≥ 6. ' +\n",
       "                'Firefox 4 and 5 are also supported but you ' +\n",
       "                'have to enable WebSockets in about:config.'\n",
       "        );\n",
       "    }\n",
       "};\n",
       "\n",
       "mpl.figure = function (figure_id, websocket, ondownload, parent_element) {\n",
       "    this.id = figure_id;\n",
       "\n",
       "    this.ws = websocket;\n",
       "\n",
       "    this.supports_binary = this.ws.binaryType !== undefined;\n",
       "\n",
       "    if (!this.supports_binary) {\n",
       "        var warnings = document.getElementById('mpl-warnings');\n",
       "        if (warnings) {\n",
       "            warnings.style.display = 'block';\n",
       "            warnings.textContent =\n",
       "                'This browser does not support binary websocket messages. ' +\n",
       "                'Performance may be slow.';\n",
       "        }\n",
       "    }\n",
       "\n",
       "    this.imageObj = new Image();\n",
       "\n",
       "    this.context = undefined;\n",
       "    this.message = undefined;\n",
       "    this.canvas = undefined;\n",
       "    this.rubberband_canvas = undefined;\n",
       "    this.rubberband_context = undefined;\n",
       "    this.format_dropdown = undefined;\n",
       "\n",
       "    this.image_mode = 'full';\n",
       "\n",
       "    this.root = document.createElement('div');\n",
       "    this.root.setAttribute('style', 'display: inline-block');\n",
       "    this._root_extra_style(this.root);\n",
       "\n",
       "    parent_element.appendChild(this.root);\n",
       "\n",
       "    this._init_header(this);\n",
       "    this._init_canvas(this);\n",
       "    this._init_toolbar(this);\n",
       "\n",
       "    var fig = this;\n",
       "\n",
       "    this.waiting = false;\n",
       "\n",
       "    this.ws.onopen = function () {\n",
       "        fig.send_message('supports_binary', { value: fig.supports_binary });\n",
       "        fig.send_message('send_image_mode', {});\n",
       "        if (fig.ratio !== 1) {\n",
       "            fig.send_message('set_device_pixel_ratio', {\n",
       "                device_pixel_ratio: fig.ratio,\n",
       "            });\n",
       "        }\n",
       "        fig.send_message('refresh', {});\n",
       "    };\n",
       "\n",
       "    this.imageObj.onload = function () {\n",
       "        if (fig.image_mode === 'full') {\n",
       "            // Full images could contain transparency (where diff images\n",
       "            // almost always do), so we need to clear the canvas so that\n",
       "            // there is no ghosting.\n",
       "            fig.context.clearRect(0, 0, fig.canvas.width, fig.canvas.height);\n",
       "        }\n",
       "        fig.context.drawImage(fig.imageObj, 0, 0);\n",
       "    };\n",
       "\n",
       "    this.imageObj.onunload = function () {\n",
       "        fig.ws.close();\n",
       "    };\n",
       "\n",
       "    this.ws.onmessage = this._make_on_message_function(this);\n",
       "\n",
       "    this.ondownload = ondownload;\n",
       "};\n",
       "\n",
       "mpl.figure.prototype._init_header = function () {\n",
       "    var titlebar = document.createElement('div');\n",
       "    titlebar.classList =\n",
       "        'ui-dialog-titlebar ui-widget-header ui-corner-all ui-helper-clearfix';\n",
       "    var titletext = document.createElement('div');\n",
       "    titletext.classList = 'ui-dialog-title';\n",
       "    titletext.setAttribute(\n",
       "        'style',\n",
       "        'width: 100%; text-align: center; padding: 3px;'\n",
       "    );\n",
       "    titlebar.appendChild(titletext);\n",
       "    this.root.appendChild(titlebar);\n",
       "    this.header = titletext;\n",
       "};\n",
       "\n",
       "mpl.figure.prototype._canvas_extra_style = function (_canvas_div) {};\n",
       "\n",
       "mpl.figure.prototype._root_extra_style = function (_canvas_div) {};\n",
       "\n",
       "mpl.figure.prototype._init_canvas = function () {\n",
       "    var fig = this;\n",
       "\n",
       "    var canvas_div = (this.canvas_div = document.createElement('div'));\n",
       "    canvas_div.setAttribute('tabindex', '0');\n",
       "    canvas_div.setAttribute(\n",
       "        'style',\n",
       "        'border: 1px solid #ddd;' +\n",
       "            'box-sizing: content-box;' +\n",
       "            'clear: both;' +\n",
       "            'min-height: 1px;' +\n",
       "            'min-width: 1px;' +\n",
       "            'outline: 0;' +\n",
       "            'overflow: hidden;' +\n",
       "            'position: relative;' +\n",
       "            'resize: both;' +\n",
       "            'z-index: 2;'\n",
       "    );\n",
       "\n",
       "    function on_keyboard_event_closure(name) {\n",
       "        return function (event) {\n",
       "            return fig.key_event(event, name);\n",
       "        };\n",
       "    }\n",
       "\n",
       "    canvas_div.addEventListener(\n",
       "        'keydown',\n",
       "        on_keyboard_event_closure('key_press')\n",
       "    );\n",
       "    canvas_div.addEventListener(\n",
       "        'keyup',\n",
       "        on_keyboard_event_closure('key_release')\n",
       "    );\n",
       "\n",
       "    this._canvas_extra_style(canvas_div);\n",
       "    this.root.appendChild(canvas_div);\n",
       "\n",
       "    var canvas = (this.canvas = document.createElement('canvas'));\n",
       "    canvas.classList.add('mpl-canvas');\n",
       "    canvas.setAttribute(\n",
       "        'style',\n",
       "        'box-sizing: content-box;' +\n",
       "            'pointer-events: none;' +\n",
       "            'position: relative;' +\n",
       "            'z-index: 0;'\n",
       "    );\n",
       "\n",
       "    this.context = canvas.getContext('2d');\n",
       "\n",
       "    var backingStore =\n",
       "        this.context.backingStorePixelRatio ||\n",
       "        this.context.webkitBackingStorePixelRatio ||\n",
       "        this.context.mozBackingStorePixelRatio ||\n",
       "        this.context.msBackingStorePixelRatio ||\n",
       "        this.context.oBackingStorePixelRatio ||\n",
       "        this.context.backingStorePixelRatio ||\n",
       "        1;\n",
       "\n",
       "    this.ratio = (window.devicePixelRatio || 1) / backingStore;\n",
       "\n",
       "    var rubberband_canvas = (this.rubberband_canvas = document.createElement(\n",
       "        'canvas'\n",
       "    ));\n",
       "    rubberband_canvas.setAttribute(\n",
       "        'style',\n",
       "        'box-sizing: content-box;' +\n",
       "            'left: 0;' +\n",
       "            'pointer-events: none;' +\n",
       "            'position: absolute;' +\n",
       "            'top: 0;' +\n",
       "            'z-index: 1;'\n",
       "    );\n",
       "\n",
       "    // Apply a ponyfill if ResizeObserver is not implemented by browser.\n",
       "    if (this.ResizeObserver === undefined) {\n",
       "        if (window.ResizeObserver !== undefined) {\n",
       "            this.ResizeObserver = window.ResizeObserver;\n",
       "        } else {\n",
       "            var obs = _JSXTOOLS_RESIZE_OBSERVER({});\n",
       "            this.ResizeObserver = obs.ResizeObserver;\n",
       "        }\n",
       "    }\n",
       "\n",
       "    this.resizeObserverInstance = new this.ResizeObserver(function (entries) {\n",
       "        var nentries = entries.length;\n",
       "        for (var i = 0; i < nentries; i++) {\n",
       "            var entry = entries[i];\n",
       "            var width, height;\n",
       "            if (entry.contentBoxSize) {\n",
       "                if (entry.contentBoxSize instanceof Array) {\n",
       "                    // Chrome 84 implements new version of spec.\n",
       "                    width = entry.contentBoxSize[0].inlineSize;\n",
       "                    height = entry.contentBoxSize[0].blockSize;\n",
       "                } else {\n",
       "                    // Firefox implements old version of spec.\n",
       "                    width = entry.contentBoxSize.inlineSize;\n",
       "                    height = entry.contentBoxSize.blockSize;\n",
       "                }\n",
       "            } else {\n",
       "                // Chrome <84 implements even older version of spec.\n",
       "                width = entry.contentRect.width;\n",
       "                height = entry.contentRect.height;\n",
       "            }\n",
       "\n",
       "            // Keep the size of the canvas and rubber band canvas in sync with\n",
       "            // the canvas container.\n",
       "            if (entry.devicePixelContentBoxSize) {\n",
       "                // Chrome 84 implements new version of spec.\n",
       "                canvas.setAttribute(\n",
       "                    'width',\n",
       "                    entry.devicePixelContentBoxSize[0].inlineSize\n",
       "                );\n",
       "                canvas.setAttribute(\n",
       "                    'height',\n",
       "                    entry.devicePixelContentBoxSize[0].blockSize\n",
       "                );\n",
       "            } else {\n",
       "                canvas.setAttribute('width', width * fig.ratio);\n",
       "                canvas.setAttribute('height', height * fig.ratio);\n",
       "            }\n",
       "            /* This rescales the canvas back to display pixels, so that it\n",
       "             * appears correct on HiDPI screens. */\n",
       "            canvas.style.width = width + 'px';\n",
       "            canvas.style.height = height + 'px';\n",
       "\n",
       "            rubberband_canvas.setAttribute('width', width);\n",
       "            rubberband_canvas.setAttribute('height', height);\n",
       "\n",
       "            // And update the size in Python. We ignore the initial 0/0 size\n",
       "            // that occurs as the element is placed into the DOM, which should\n",
       "            // otherwise not happen due to the minimum size styling.\n",
       "            if (fig.ws.readyState == 1 && width != 0 && height != 0) {\n",
       "                fig.request_resize(width, height);\n",
       "            }\n",
       "        }\n",
       "    });\n",
       "    this.resizeObserverInstance.observe(canvas_div);\n",
       "\n",
       "    function on_mouse_event_closure(name) {\n",
       "        /* User Agent sniffing is bad, but WebKit is busted:\n",
       "         * https://bugs.webkit.org/show_bug.cgi?id=144526\n",
       "         * https://bugs.webkit.org/show_bug.cgi?id=181818\n",
       "         * The worst that happens here is that they get an extra browser\n",
       "         * selection when dragging, if this check fails to catch them.\n",
       "         */\n",
       "        var UA = navigator.userAgent;\n",
       "        var isWebKit = /AppleWebKit/.test(UA) && !/Chrome/.test(UA);\n",
       "        if(isWebKit) {\n",
       "            return function (event) {\n",
       "                /* This prevents the web browser from automatically changing to\n",
       "                 * the text insertion cursor when the button is pressed. We\n",
       "                 * want to control all of the cursor setting manually through\n",
       "                 * the 'cursor' event from matplotlib */\n",
       "                event.preventDefault()\n",
       "                return fig.mouse_event(event, name);\n",
       "            };\n",
       "        } else {\n",
       "            return function (event) {\n",
       "                return fig.mouse_event(event, name);\n",
       "            };\n",
       "        }\n",
       "    }\n",
       "\n",
       "    canvas_div.addEventListener(\n",
       "        'mousedown',\n",
       "        on_mouse_event_closure('button_press')\n",
       "    );\n",
       "    canvas_div.addEventListener(\n",
       "        'mouseup',\n",
       "        on_mouse_event_closure('button_release')\n",
       "    );\n",
       "    canvas_div.addEventListener(\n",
       "        'dblclick',\n",
       "        on_mouse_event_closure('dblclick')\n",
       "    );\n",
       "    // Throttle sequential mouse events to 1 every 20ms.\n",
       "    canvas_div.addEventListener(\n",
       "        'mousemove',\n",
       "        on_mouse_event_closure('motion_notify')\n",
       "    );\n",
       "\n",
       "    canvas_div.addEventListener(\n",
       "        'mouseenter',\n",
       "        on_mouse_event_closure('figure_enter')\n",
       "    );\n",
       "    canvas_div.addEventListener(\n",
       "        'mouseleave',\n",
       "        on_mouse_event_closure('figure_leave')\n",
       "    );\n",
       "\n",
       "    canvas_div.addEventListener('wheel', function (event) {\n",
       "        if (event.deltaY < 0) {\n",
       "            event.step = 1;\n",
       "        } else {\n",
       "            event.step = -1;\n",
       "        }\n",
       "        on_mouse_event_closure('scroll')(event);\n",
       "    });\n",
       "\n",
       "    canvas_div.appendChild(canvas);\n",
       "    canvas_div.appendChild(rubberband_canvas);\n",
       "\n",
       "    this.rubberband_context = rubberband_canvas.getContext('2d');\n",
       "    this.rubberband_context.strokeStyle = '#000000';\n",
       "\n",
       "    this._resize_canvas = function (width, height, forward) {\n",
       "        if (forward) {\n",
       "            canvas_div.style.width = width + 'px';\n",
       "            canvas_div.style.height = height + 'px';\n",
       "        }\n",
       "    };\n",
       "\n",
       "    // Disable right mouse context menu.\n",
       "    canvas_div.addEventListener('contextmenu', function (_e) {\n",
       "        event.preventDefault();\n",
       "        return false;\n",
       "    });\n",
       "\n",
       "    function set_focus() {\n",
       "        canvas.focus();\n",
       "        canvas_div.focus();\n",
       "    }\n",
       "\n",
       "    window.setTimeout(set_focus, 100);\n",
       "};\n",
       "\n",
       "mpl.figure.prototype._init_toolbar = function () {\n",
       "    var fig = this;\n",
       "\n",
       "    var toolbar = document.createElement('div');\n",
       "    toolbar.classList = 'mpl-toolbar';\n",
       "    this.root.appendChild(toolbar);\n",
       "\n",
       "    function on_click_closure(name) {\n",
       "        return function (_event) {\n",
       "            return fig.toolbar_button_onclick(name);\n",
       "        };\n",
       "    }\n",
       "\n",
       "    function on_mouseover_closure(tooltip) {\n",
       "        return function (event) {\n",
       "            if (!event.currentTarget.disabled) {\n",
       "                return fig.toolbar_button_onmouseover(tooltip);\n",
       "            }\n",
       "        };\n",
       "    }\n",
       "\n",
       "    fig.buttons = {};\n",
       "    var buttonGroup = document.createElement('div');\n",
       "    buttonGroup.classList = 'mpl-button-group';\n",
       "    for (var toolbar_ind in mpl.toolbar_items) {\n",
       "        var name = mpl.toolbar_items[toolbar_ind][0];\n",
       "        var tooltip = mpl.toolbar_items[toolbar_ind][1];\n",
       "        var image = mpl.toolbar_items[toolbar_ind][2];\n",
       "        var method_name = mpl.toolbar_items[toolbar_ind][3];\n",
       "\n",
       "        if (!name) {\n",
       "            /* Instead of a spacer, we start a new button group. */\n",
       "            if (buttonGroup.hasChildNodes()) {\n",
       "                toolbar.appendChild(buttonGroup);\n",
       "            }\n",
       "            buttonGroup = document.createElement('div');\n",
       "            buttonGroup.classList = 'mpl-button-group';\n",
       "            continue;\n",
       "        }\n",
       "\n",
       "        var button = (fig.buttons[name] = document.createElement('button'));\n",
       "        button.classList = 'mpl-widget';\n",
       "        button.setAttribute('role', 'button');\n",
       "        button.setAttribute('aria-disabled', 'false');\n",
       "        button.addEventListener('click', on_click_closure(method_name));\n",
       "        button.addEventListener('mouseover', on_mouseover_closure(tooltip));\n",
       "\n",
       "        var icon_img = document.createElement('img');\n",
       "        icon_img.src = '_images/' + image + '.png';\n",
       "        icon_img.srcset = '_images/' + image + '_large.png 2x';\n",
       "        icon_img.alt = tooltip;\n",
       "        button.appendChild(icon_img);\n",
       "\n",
       "        buttonGroup.appendChild(button);\n",
       "    }\n",
       "\n",
       "    if (buttonGroup.hasChildNodes()) {\n",
       "        toolbar.appendChild(buttonGroup);\n",
       "    }\n",
       "\n",
       "    var fmt_picker = document.createElement('select');\n",
       "    fmt_picker.classList = 'mpl-widget';\n",
       "    toolbar.appendChild(fmt_picker);\n",
       "    this.format_dropdown = fmt_picker;\n",
       "\n",
       "    for (var ind in mpl.extensions) {\n",
       "        var fmt = mpl.extensions[ind];\n",
       "        var option = document.createElement('option');\n",
       "        option.selected = fmt === mpl.default_extension;\n",
       "        option.innerHTML = fmt;\n",
       "        fmt_picker.appendChild(option);\n",
       "    }\n",
       "\n",
       "    var status_bar = document.createElement('span');\n",
       "    status_bar.classList = 'mpl-message';\n",
       "    toolbar.appendChild(status_bar);\n",
       "    this.message = status_bar;\n",
       "};\n",
       "\n",
       "mpl.figure.prototype.request_resize = function (x_pixels, y_pixels) {\n",
       "    // Request matplotlib to resize the figure. Matplotlib will then trigger a resize in the client,\n",
       "    // which will in turn request a refresh of the image.\n",
       "    this.send_message('resize', { width: x_pixels, height: y_pixels });\n",
       "};\n",
       "\n",
       "mpl.figure.prototype.send_message = function (type, properties) {\n",
       "    properties['type'] = type;\n",
       "    properties['figure_id'] = this.id;\n",
       "    this.ws.send(JSON.stringify(properties));\n",
       "};\n",
       "\n",
       "mpl.figure.prototype.send_draw_message = function () {\n",
       "    if (!this.waiting) {\n",
       "        this.waiting = true;\n",
       "        this.ws.send(JSON.stringify({ type: 'draw', figure_id: this.id }));\n",
       "    }\n",
       "};\n",
       "\n",
       "mpl.figure.prototype.handle_save = function (fig, _msg) {\n",
       "    var format_dropdown = fig.format_dropdown;\n",
       "    var format = format_dropdown.options[format_dropdown.selectedIndex].value;\n",
       "    fig.ondownload(fig, format);\n",
       "};\n",
       "\n",
       "mpl.figure.prototype.handle_resize = function (fig, msg) {\n",
       "    var size = msg['size'];\n",
       "    if (size[0] !== fig.canvas.width || size[1] !== fig.canvas.height) {\n",
       "        fig._resize_canvas(size[0], size[1], msg['forward']);\n",
       "        fig.send_message('refresh', {});\n",
       "    }\n",
       "};\n",
       "\n",
       "mpl.figure.prototype.handle_rubberband = function (fig, msg) {\n",
       "    var x0 = msg['x0'] / fig.ratio;\n",
       "    var y0 = (fig.canvas.height - msg['y0']) / fig.ratio;\n",
       "    var x1 = msg['x1'] / fig.ratio;\n",
       "    var y1 = (fig.canvas.height - msg['y1']) / fig.ratio;\n",
       "    x0 = Math.floor(x0) + 0.5;\n",
       "    y0 = Math.floor(y0) + 0.5;\n",
       "    x1 = Math.floor(x1) + 0.5;\n",
       "    y1 = Math.floor(y1) + 0.5;\n",
       "    var min_x = Math.min(x0, x1);\n",
       "    var min_y = Math.min(y0, y1);\n",
       "    var width = Math.abs(x1 - x0);\n",
       "    var height = Math.abs(y1 - y0);\n",
       "\n",
       "    fig.rubberband_context.clearRect(\n",
       "        0,\n",
       "        0,\n",
       "        fig.canvas.width / fig.ratio,\n",
       "        fig.canvas.height / fig.ratio\n",
       "    );\n",
       "\n",
       "    fig.rubberband_context.strokeRect(min_x, min_y, width, height);\n",
       "};\n",
       "\n",
       "mpl.figure.prototype.handle_figure_label = function (fig, msg) {\n",
       "    // Updates the figure title.\n",
       "    fig.header.textContent = msg['label'];\n",
       "};\n",
       "\n",
       "mpl.figure.prototype.handle_cursor = function (fig, msg) {\n",
       "    fig.canvas_div.style.cursor = msg['cursor'];\n",
       "};\n",
       "\n",
       "mpl.figure.prototype.handle_message = function (fig, msg) {\n",
       "    fig.message.textContent = msg['message'];\n",
       "};\n",
       "\n",
       "mpl.figure.prototype.handle_draw = function (fig, _msg) {\n",
       "    // Request the server to send over a new figure.\n",
       "    fig.send_draw_message();\n",
       "};\n",
       "\n",
       "mpl.figure.prototype.handle_image_mode = function (fig, msg) {\n",
       "    fig.image_mode = msg['mode'];\n",
       "};\n",
       "\n",
       "mpl.figure.prototype.handle_history_buttons = function (fig, msg) {\n",
       "    for (var key in msg) {\n",
       "        if (!(key in fig.buttons)) {\n",
       "            continue;\n",
       "        }\n",
       "        fig.buttons[key].disabled = !msg[key];\n",
       "        fig.buttons[key].setAttribute('aria-disabled', !msg[key]);\n",
       "    }\n",
       "};\n",
       "\n",
       "mpl.figure.prototype.handle_navigate_mode = function (fig, msg) {\n",
       "    if (msg['mode'] === 'PAN') {\n",
       "        fig.buttons['Pan'].classList.add('active');\n",
       "        fig.buttons['Zoom'].classList.remove('active');\n",
       "    } else if (msg['mode'] === 'ZOOM') {\n",
       "        fig.buttons['Pan'].classList.remove('active');\n",
       "        fig.buttons['Zoom'].classList.add('active');\n",
       "    } else {\n",
       "        fig.buttons['Pan'].classList.remove('active');\n",
       "        fig.buttons['Zoom'].classList.remove('active');\n",
       "    }\n",
       "};\n",
       "\n",
       "mpl.figure.prototype.updated_canvas_event = function () {\n",
       "    // Called whenever the canvas gets updated.\n",
       "    this.send_message('ack', {});\n",
       "};\n",
       "\n",
       "// A function to construct a web socket function for onmessage handling.\n",
       "// Called in the figure constructor.\n",
       "mpl.figure.prototype._make_on_message_function = function (fig) {\n",
       "    return function socket_on_message(evt) {\n",
       "        if (evt.data instanceof Blob) {\n",
       "            var img = evt.data;\n",
       "            if (img.type !== 'image/png') {\n",
       "                /* FIXME: We get \"Resource interpreted as Image but\n",
       "                 * transferred with MIME type text/plain:\" errors on\n",
       "                 * Chrome.  But how to set the MIME type?  It doesn't seem\n",
       "                 * to be part of the websocket stream */\n",
       "                img.type = 'image/png';\n",
       "            }\n",
       "\n",
       "            /* Free the memory for the previous frames */\n",
       "            if (fig.imageObj.src) {\n",
       "                (window.URL || window.webkitURL).revokeObjectURL(\n",
       "                    fig.imageObj.src\n",
       "                );\n",
       "            }\n",
       "\n",
       "            fig.imageObj.src = (window.URL || window.webkitURL).createObjectURL(\n",
       "                img\n",
       "            );\n",
       "            fig.updated_canvas_event();\n",
       "            fig.waiting = false;\n",
       "            return;\n",
       "        } else if (\n",
       "            typeof evt.data === 'string' &&\n",
       "            evt.data.slice(0, 21) === 'data:image/png;base64'\n",
       "        ) {\n",
       "            fig.imageObj.src = evt.data;\n",
       "            fig.updated_canvas_event();\n",
       "            fig.waiting = false;\n",
       "            return;\n",
       "        }\n",
       "\n",
       "        var msg = JSON.parse(evt.data);\n",
       "        var msg_type = msg['type'];\n",
       "\n",
       "        // Call the  \"handle_{type}\" callback, which takes\n",
       "        // the figure and JSON message as its only arguments.\n",
       "        try {\n",
       "            var callback = fig['handle_' + msg_type];\n",
       "        } catch (e) {\n",
       "            console.log(\n",
       "                \"No handler for the '\" + msg_type + \"' message type: \",\n",
       "                msg\n",
       "            );\n",
       "            return;\n",
       "        }\n",
       "\n",
       "        if (callback) {\n",
       "            try {\n",
       "                // console.log(\"Handling '\" + msg_type + \"' message: \", msg);\n",
       "                callback(fig, msg);\n",
       "            } catch (e) {\n",
       "                console.log(\n",
       "                    \"Exception inside the 'handler_\" + msg_type + \"' callback:\",\n",
       "                    e,\n",
       "                    e.stack,\n",
       "                    msg\n",
       "                );\n",
       "            }\n",
       "        }\n",
       "    };\n",
       "};\n",
       "\n",
       "\n",
       "/*\n",
       " * return a copy of an object with only non-object keys\n",
       " * we need this to avoid circular references\n",
       " * https://stackoverflow.com/a/24161582/3208463\n",
       " */\n",
       "function simpleKeys(original) {\n",
       "    return Object.keys(original).reduce(function (obj, key) {\n",
       "        if (typeof original[key] !== 'object') {\n",
       "            obj[key] = original[key];\n",
       "        }\n",
       "        return obj;\n",
       "    }, {});\n",
       "}\n",
       "\n",
       "mpl.figure.prototype.mouse_event = function (event, name) {\n",
       "    if (name === 'button_press') {\n",
       "        this.canvas.focus();\n",
       "        this.canvas_div.focus();\n",
       "    }\n",
       "\n",
       "    // from https://stackoverflow.com/q/1114465\n",
       "    var boundingRect = this.canvas.getBoundingClientRect();\n",
       "    var x = (event.clientX - boundingRect.left) * this.ratio;\n",
       "    var y = (event.clientY - boundingRect.top) * this.ratio;\n",
       "\n",
       "    this.send_message(name, {\n",
       "        x: x,\n",
       "        y: y,\n",
       "        button: event.button,\n",
       "        step: event.step,\n",
       "        guiEvent: simpleKeys(event),\n",
       "    });\n",
       "\n",
       "    return false;\n",
       "};\n",
       "\n",
       "mpl.figure.prototype._key_event_extra = function (_event, _name) {\n",
       "    // Handle any extra behaviour associated with a key event\n",
       "};\n",
       "\n",
       "mpl.figure.prototype.key_event = function (event, name) {\n",
       "    // Prevent repeat events\n",
       "    if (name === 'key_press') {\n",
       "        if (event.key === this._key) {\n",
       "            return;\n",
       "        } else {\n",
       "            this._key = event.key;\n",
       "        }\n",
       "    }\n",
       "    if (name === 'key_release') {\n",
       "        this._key = null;\n",
       "    }\n",
       "\n",
       "    var value = '';\n",
       "    if (event.ctrlKey && event.key !== 'Control') {\n",
       "        value += 'ctrl+';\n",
       "    }\n",
       "    else if (event.altKey && event.key !== 'Alt') {\n",
       "        value += 'alt+';\n",
       "    }\n",
       "    else if (event.shiftKey && event.key !== 'Shift') {\n",
       "        value += 'shift+';\n",
       "    }\n",
       "\n",
       "    value += 'k' + event.key;\n",
       "\n",
       "    this._key_event_extra(event, name);\n",
       "\n",
       "    this.send_message(name, { key: value, guiEvent: simpleKeys(event) });\n",
       "    return false;\n",
       "};\n",
       "\n",
       "mpl.figure.prototype.toolbar_button_onclick = function (name) {\n",
       "    if (name === 'download') {\n",
       "        this.handle_save(this, null);\n",
       "    } else {\n",
       "        this.send_message('toolbar_button', { name: name });\n",
       "    }\n",
       "};\n",
       "\n",
       "mpl.figure.prototype.toolbar_button_onmouseover = function (tooltip) {\n",
       "    this.message.textContent = tooltip;\n",
       "};\n",
       "\n",
       "///////////////// REMAINING CONTENT GENERATED BY embed_js.py /////////////////\n",
       "// prettier-ignore\n",
       "var _JSXTOOLS_RESIZE_OBSERVER=function(A){var t,i=new WeakMap,n=new WeakMap,a=new WeakMap,r=new WeakMap,o=new Set;function s(e){if(!(this instanceof s))throw new TypeError(\"Constructor requires 'new' operator\");i.set(this,e)}function h(){throw new TypeError(\"Function is not a constructor\")}function c(e,t,i,n){e=0 in arguments?Number(arguments[0]):0,t=1 in arguments?Number(arguments[1]):0,i=2 in arguments?Number(arguments[2]):0,n=3 in arguments?Number(arguments[3]):0,this.right=(this.x=this.left=e)+(this.width=i),this.bottom=(this.y=this.top=t)+(this.height=n),Object.freeze(this)}function d(){t=requestAnimationFrame(d);var s=new WeakMap,p=new Set;o.forEach((function(t){r.get(t).forEach((function(i){var r=t instanceof window.SVGElement,o=a.get(t),d=r?0:parseFloat(o.paddingTop),f=r?0:parseFloat(o.paddingRight),l=r?0:parseFloat(o.paddingBottom),u=r?0:parseFloat(o.paddingLeft),g=r?0:parseFloat(o.borderTopWidth),m=r?0:parseFloat(o.borderRightWidth),w=r?0:parseFloat(o.borderBottomWidth),b=u+f,F=d+l,v=(r?0:parseFloat(o.borderLeftWidth))+m,W=g+w,y=r?0:t.offsetHeight-W-t.clientHeight,E=r?0:t.offsetWidth-v-t.clientWidth,R=b+v,z=F+W,M=r?t.width:parseFloat(o.width)-R-E,O=r?t.height:parseFloat(o.height)-z-y;if(n.has(t)){var k=n.get(t);if(k[0]===M&&k[1]===O)return}n.set(t,[M,O]);var S=Object.create(h.prototype);S.target=t,S.contentRect=new c(u,d,M,O),s.has(i)||(s.set(i,[]),p.add(i)),s.get(i).push(S)}))})),p.forEach((function(e){i.get(e).call(e,s.get(e),e)}))}return s.prototype.observe=function(i){if(i instanceof window.Element){r.has(i)||(r.set(i,new Set),o.add(i),a.set(i,window.getComputedStyle(i)));var n=r.get(i);n.has(this)||n.add(this),cancelAnimationFrame(t),t=requestAnimationFrame(d)}},s.prototype.unobserve=function(i){if(i instanceof window.Element&&r.has(i)){var n=r.get(i);n.has(this)&&(n.delete(this),n.size||(r.delete(i),o.delete(i))),n.size||r.delete(i),o.size||cancelAnimationFrame(t)}},A.DOMRectReadOnly=c,A.ResizeObserver=s,A.ResizeObserverEntry=h,A}; // eslint-disable-line\n",
       "mpl.toolbar_items = [[\"Home\", \"Reset original view\", \"fa fa-home\", \"home\"], [\"Back\", \"Back to previous view\", \"fa fa-arrow-left\", \"back\"], [\"Forward\", \"Forward to next view\", \"fa fa-arrow-right\", \"forward\"], [\"\", \"\", \"\", \"\"], [\"Pan\", \"Left button pans, Right button zooms\\nx/y fixes axis, CTRL fixes aspect\", \"fa fa-arrows\", \"pan\"], [\"Zoom\", \"Zoom to rectangle\\nx/y fixes axis\", \"fa fa-square-o\", \"zoom\"], [\"\", \"\", \"\", \"\"], [\"Download\", \"Download plot\", \"fa fa-floppy-o\", \"download\"]];\n",
       "\n",
       "mpl.extensions = [\"eps\", \"jpeg\", \"pgf\", \"pdf\", \"png\", \"ps\", \"raw\", \"svg\", \"tif\", \"webp\"];\n",
       "\n",
       "mpl.default_extension = \"png\";/* global mpl */\n",
       "\n",
       "var comm_websocket_adapter = function (comm) {\n",
       "    // Create a \"websocket\"-like object which calls the given IPython comm\n",
       "    // object with the appropriate methods. Currently this is a non binary\n",
       "    // socket, so there is still some room for performance tuning.\n",
       "    var ws = {};\n",
       "\n",
       "    ws.binaryType = comm.kernel.ws.binaryType;\n",
       "    ws.readyState = comm.kernel.ws.readyState;\n",
       "    function updateReadyState(_event) {\n",
       "        if (comm.kernel.ws) {\n",
       "            ws.readyState = comm.kernel.ws.readyState;\n",
       "        } else {\n",
       "            ws.readyState = 3; // Closed state.\n",
       "        }\n",
       "    }\n",
       "    comm.kernel.ws.addEventListener('open', updateReadyState);\n",
       "    comm.kernel.ws.addEventListener('close', updateReadyState);\n",
       "    comm.kernel.ws.addEventListener('error', updateReadyState);\n",
       "\n",
       "    ws.close = function () {\n",
       "        comm.close();\n",
       "    };\n",
       "    ws.send = function (m) {\n",
       "        //console.log('sending', m);\n",
       "        comm.send(m);\n",
       "    };\n",
       "    // Register the callback with on_msg.\n",
       "    comm.on_msg(function (msg) {\n",
       "        //console.log('receiving', msg['content']['data'], msg);\n",
       "        var data = msg['content']['data'];\n",
       "        if (data['blob'] !== undefined) {\n",
       "            data = {\n",
       "                data: new Blob(msg['buffers'], { type: data['blob'] }),\n",
       "            };\n",
       "        }\n",
       "        // Pass the mpl event to the overridden (by mpl) onmessage function.\n",
       "        ws.onmessage(data);\n",
       "    });\n",
       "    return ws;\n",
       "};\n",
       "\n",
       "mpl.mpl_figure_comm = function (comm, msg) {\n",
       "    // This is the function which gets called when the mpl process\n",
       "    // starts-up an IPython Comm through the \"matplotlib\" channel.\n",
       "\n",
       "    var id = msg.content.data.id;\n",
       "    // Get hold of the div created by the display call when the Comm\n",
       "    // socket was opened in Python.\n",
       "    var element = document.getElementById(id);\n",
       "    var ws_proxy = comm_websocket_adapter(comm);\n",
       "\n",
       "    function ondownload(figure, _format) {\n",
       "        window.open(figure.canvas.toDataURL());\n",
       "    }\n",
       "\n",
       "    var fig = new mpl.figure(id, ws_proxy, ondownload, element);\n",
       "\n",
       "    // Call onopen now - mpl needs it, as it is assuming we've passed it a real\n",
       "    // web socket which is closed, not our websocket->open comm proxy.\n",
       "    ws_proxy.onopen();\n",
       "\n",
       "    fig.parent_element = element;\n",
       "    fig.cell_info = mpl.find_output_cell(\"<div id='\" + id + \"'></div>\");\n",
       "    if (!fig.cell_info) {\n",
       "        console.error('Failed to find cell for figure', id, fig);\n",
       "        return;\n",
       "    }\n",
       "    fig.cell_info[0].output_area.element.on(\n",
       "        'cleared',\n",
       "        { fig: fig },\n",
       "        fig._remove_fig_handler\n",
       "    );\n",
       "};\n",
       "\n",
       "mpl.figure.prototype.handle_close = function (fig, msg) {\n",
       "    var width = fig.canvas.width / fig.ratio;\n",
       "    fig.cell_info[0].output_area.element.off(\n",
       "        'cleared',\n",
       "        fig._remove_fig_handler\n",
       "    );\n",
       "    fig.resizeObserverInstance.unobserve(fig.canvas_div);\n",
       "\n",
       "    // Update the output cell to use the data from the current canvas.\n",
       "    fig.push_to_output();\n",
       "    var dataURL = fig.canvas.toDataURL();\n",
       "    // Re-enable the keyboard manager in IPython - without this line, in FF,\n",
       "    // the notebook keyboard shortcuts fail.\n",
       "    IPython.keyboard_manager.enable();\n",
       "    fig.parent_element.innerHTML =\n",
       "        '<img src=\"' + dataURL + '\" width=\"' + width + '\">';\n",
       "    fig.close_ws(fig, msg);\n",
       "};\n",
       "\n",
       "mpl.figure.prototype.close_ws = function (fig, msg) {\n",
       "    fig.send_message('closing', msg);\n",
       "    // fig.ws.close()\n",
       "};\n",
       "\n",
       "mpl.figure.prototype.push_to_output = function (_remove_interactive) {\n",
       "    // Turn the data on the canvas into data in the output cell.\n",
       "    var width = this.canvas.width / this.ratio;\n",
       "    var dataURL = this.canvas.toDataURL();\n",
       "    this.cell_info[1]['text/html'] =\n",
       "        '<img src=\"' + dataURL + '\" width=\"' + width + '\">';\n",
       "};\n",
       "\n",
       "mpl.figure.prototype.updated_canvas_event = function () {\n",
       "    // Tell IPython that the notebook contents must change.\n",
       "    IPython.notebook.set_dirty(true);\n",
       "    this.send_message('ack', {});\n",
       "    var fig = this;\n",
       "    // Wait a second, then push the new image to the DOM so\n",
       "    // that it is saved nicely (might be nice to debounce this).\n",
       "    setTimeout(function () {\n",
       "        fig.push_to_output();\n",
       "    }, 1000);\n",
       "};\n",
       "\n",
       "mpl.figure.prototype._init_toolbar = function () {\n",
       "    var fig = this;\n",
       "\n",
       "    var toolbar = document.createElement('div');\n",
       "    toolbar.classList = 'btn-toolbar';\n",
       "    this.root.appendChild(toolbar);\n",
       "\n",
       "    function on_click_closure(name) {\n",
       "        return function (_event) {\n",
       "            return fig.toolbar_button_onclick(name);\n",
       "        };\n",
       "    }\n",
       "\n",
       "    function on_mouseover_closure(tooltip) {\n",
       "        return function (event) {\n",
       "            if (!event.currentTarget.disabled) {\n",
       "                return fig.toolbar_button_onmouseover(tooltip);\n",
       "            }\n",
       "        };\n",
       "    }\n",
       "\n",
       "    fig.buttons = {};\n",
       "    var buttonGroup = document.createElement('div');\n",
       "    buttonGroup.classList = 'btn-group';\n",
       "    var button;\n",
       "    for (var toolbar_ind in mpl.toolbar_items) {\n",
       "        var name = mpl.toolbar_items[toolbar_ind][0];\n",
       "        var tooltip = mpl.toolbar_items[toolbar_ind][1];\n",
       "        var image = mpl.toolbar_items[toolbar_ind][2];\n",
       "        var method_name = mpl.toolbar_items[toolbar_ind][3];\n",
       "\n",
       "        if (!name) {\n",
       "            /* Instead of a spacer, we start a new button group. */\n",
       "            if (buttonGroup.hasChildNodes()) {\n",
       "                toolbar.appendChild(buttonGroup);\n",
       "            }\n",
       "            buttonGroup = document.createElement('div');\n",
       "            buttonGroup.classList = 'btn-group';\n",
       "            continue;\n",
       "        }\n",
       "\n",
       "        button = fig.buttons[name] = document.createElement('button');\n",
       "        button.classList = 'btn btn-default';\n",
       "        button.href = '#';\n",
       "        button.title = name;\n",
       "        button.innerHTML = '<i class=\"fa ' + image + ' fa-lg\"></i>';\n",
       "        button.addEventListener('click', on_click_closure(method_name));\n",
       "        button.addEventListener('mouseover', on_mouseover_closure(tooltip));\n",
       "        buttonGroup.appendChild(button);\n",
       "    }\n",
       "\n",
       "    if (buttonGroup.hasChildNodes()) {\n",
       "        toolbar.appendChild(buttonGroup);\n",
       "    }\n",
       "\n",
       "    // Add the status bar.\n",
       "    var status_bar = document.createElement('span');\n",
       "    status_bar.classList = 'mpl-message pull-right';\n",
       "    toolbar.appendChild(status_bar);\n",
       "    this.message = status_bar;\n",
       "\n",
       "    // Add the close button to the window.\n",
       "    var buttongrp = document.createElement('div');\n",
       "    buttongrp.classList = 'btn-group inline pull-right';\n",
       "    button = document.createElement('button');\n",
       "    button.classList = 'btn btn-mini btn-primary';\n",
       "    button.href = '#';\n",
       "    button.title = 'Stop Interaction';\n",
       "    button.innerHTML = '<i class=\"fa fa-power-off icon-remove icon-large\"></i>';\n",
       "    button.addEventListener('click', function (_evt) {\n",
       "        fig.handle_close(fig, {});\n",
       "    });\n",
       "    button.addEventListener(\n",
       "        'mouseover',\n",
       "        on_mouseover_closure('Stop Interaction')\n",
       "    );\n",
       "    buttongrp.appendChild(button);\n",
       "    var titlebar = this.root.querySelector('.ui-dialog-titlebar');\n",
       "    titlebar.insertBefore(buttongrp, titlebar.firstChild);\n",
       "};\n",
       "\n",
       "mpl.figure.prototype._remove_fig_handler = function (event) {\n",
       "    var fig = event.data.fig;\n",
       "    if (event.target !== this) {\n",
       "        // Ignore bubbled events from children.\n",
       "        return;\n",
       "    }\n",
       "    fig.close_ws(fig, {});\n",
       "};\n",
       "\n",
       "mpl.figure.prototype._root_extra_style = function (el) {\n",
       "    el.style.boxSizing = 'content-box'; // override notebook setting of border-box.\n",
       "};\n",
       "\n",
       "mpl.figure.prototype._canvas_extra_style = function (el) {\n",
       "    // this is important to make the div 'focusable\n",
       "    el.setAttribute('tabindex', 0);\n",
       "    // reach out to IPython and tell the keyboard manager to turn it's self\n",
       "    // off when our div gets focus\n",
       "\n",
       "    // location in version 3\n",
       "    if (IPython.notebook.keyboard_manager) {\n",
       "        IPython.notebook.keyboard_manager.register_events(el);\n",
       "    } else {\n",
       "        // location in version 2\n",
       "        IPython.keyboard_manager.register_events(el);\n",
       "    }\n",
       "};\n",
       "\n",
       "mpl.figure.prototype._key_event_extra = function (event, _name) {\n",
       "    // Check for shift+enter\n",
       "    if (event.shiftKey && event.which === 13) {\n",
       "        this.canvas_div.blur();\n",
       "        // select the cell after this one\n",
       "        var index = IPython.notebook.find_cell_index(this.cell_info[0]);\n",
       "        IPython.notebook.select(index + 1);\n",
       "    }\n",
       "};\n",
       "\n",
       "mpl.figure.prototype.handle_save = function (fig, _msg) {\n",
       "    fig.ondownload(fig, null);\n",
       "};\n",
       "\n",
       "mpl.find_output_cell = function (html_output) {\n",
       "    // Return the cell and output element which can be found *uniquely* in the notebook.\n",
       "    // Note - this is a bit hacky, but it is done because the \"notebook_saving.Notebook\"\n",
       "    // IPython event is triggered only after the cells have been serialised, which for\n",
       "    // our purposes (turning an active figure into a static one), is too late.\n",
       "    var cells = IPython.notebook.get_cells();\n",
       "    var ncells = cells.length;\n",
       "    for (var i = 0; i < ncells; i++) {\n",
       "        var cell = cells[i];\n",
       "        if (cell.cell_type === 'code') {\n",
       "            for (var j = 0; j < cell.output_area.outputs.length; j++) {\n",
       "                var data = cell.output_area.outputs[j];\n",
       "                if (data.data) {\n",
       "                    // IPython >= 3 moved mimebundle to data attribute of output\n",
       "                    data = data.data;\n",
       "                }\n",
       "                if (data['text/html'] === html_output) {\n",
       "                    return [cell, data, j];\n",
       "                }\n",
       "            }\n",
       "        }\n",
       "    }\n",
       "};\n",
       "\n",
       "// Register the function which deals with the matplotlib target/channel.\n",
       "// The kernel may be null if the page has been refreshed.\n",
       "if (IPython.notebook.kernel !== null) {\n",
       "    IPython.notebook.kernel.comm_manager.register_target(\n",
       "        'matplotlib',\n",
       "        mpl.mpl_figure_comm\n",
       "    );\n",
       "}\n"
      ],
      "text/plain": [
       "<IPython.core.display.Javascript object>"
      ]
     },
     "metadata": {},
     "output_type": "display_data"
    },
    {
     "data": {
      "text/html": [
       "<img src=\"data:image/png;base64,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\" width=\"800.25\">"
      ],
      "text/plain": [
       "<IPython.core.display.HTML object>"
      ]
     },
     "metadata": {},
     "output_type": "display_data"
    },
    {
     "name": "stdout",
     "output_type": "stream",
     "text": [
      "[46.09610615] [1.80913084]\n"
     ]
    }
   ],
   "source": [
    "## Implementation of Gradient Descent for Logistic Regression\n",
    "import time\n",
    "%matplotlib notebook\n",
    "\n",
    "\n",
    "def get_diff(X, theta, y):\n",
    "    return X@theta - y[..., np.newaxis]\n",
    "\n",
    "\n",
    "def get_loss(diff): \n",
    "    return 0.5*np.dot(diff.T, diff)\n",
    "\n",
    "\n",
    "def plot_line(plot3, theta):\n",
    "    x_interp = np.linspace(Xmin, Xmax, 100)\n",
    "    x_interp = x_interp.reshape(-1, 1)\n",
    "    x_interp = np.c_[x_interp, np.ones_like(x_interp)]\n",
    "    y_interp = np.dot(x_interp, theta)\n",
    "    if plot3:\n",
    "        plot3.set_xdata(x_interp[:, 0])\n",
    "        plot3.set_ydata(y_interp)\n",
    "    else:\n",
    "        return x_interp, y_interp\n",
    "\n",
    "Xmin, Xmax = X.min(), X.max()\n",
    "plt.ion()\n",
    "figure, (axes_1, axes_2) = plt.subplots(2, 2, figsize=(figsize, figsize))\n",
    "plt.rcParams['axes.grid'] = False\n",
    "ax0, ax1 = axes_1\n",
    "ax2, ax3 = axes_2\n",
    "ax0.contourf(xxt, yyt, losses, levels=50, cmap='jet')\n",
    "ax0.scatter(coef_gt, 0, color='red', marker='o', s=50)\n",
    "ax0.set_xlabel('$theta_1$',fontsize=18)\n",
    "ax0.set_ylabel('$theta_2$',fontsize=18)\n",
    "ax1.set_ylabel('$loss$',fontsize=18)\n",
    "ax1.set_xlabel('$iter$',fontsize=18)\n",
    "ax1.set(xlim=(0, 100), ylim=(0, 1.28e6))\n",
    "ax2.scatter(X[..., 0], y, c='red', marker='o')\n",
    "ax2.set_xlabel('$x$',fontsize=18)\n",
    "ax2.set_ylabel('$y$',fontsize=18)\n",
    "ax3.set_ylabel('$Grad. Norm.$',fontsize=18)\n",
    "ax3.set_xlabel('$iter$',fontsize=18)\n",
    "ax3.set(xlim=(0, 100), ylim=(0, 20000))\n",
    "\n",
    "theta_curr = np.array([[-100, -100]]).T\n",
    "losses_track = [get_loss(get_diff(X, theta_curr, y))]\n",
    "grad_norm_track = [1000]\n",
    "\n",
    "theta_track = np.array(theta_curr)\n",
    "lr = 1e-3\n",
    "loss_tol = 10\n",
    "\n",
    "plot1, = ax0.plot(*theta_curr, color='violet',\n",
    "                  marker='.', markersize=5, linestyle='-')\n",
    "plot2, = ax1.plot(*losses_track, color='blue',\n",
    "                  marker='.', markersize=10, linestyle='--')\n",
    "xi, yi = plot_line(None, theta_curr)\n",
    "plot3a,plot3b = ax2.plot(xi, yi, color='blue', marker='.',\n",
    "                  markersize=3, linestyle='--')\n",
    "plot4, = ax3.plot(1000, color='blue',\n",
    "                  marker='.', markersize=10, linestyle='--')\n",
    "while True:\n",
    "    diff = get_diff(X, theta_curr, y)\n",
    "    grad = (diff * X).sum(axis=0, keepdims=True).T\n",
    "    theta_curr = theta_curr - lr*grad\n",
    "    theta_track = np.append(theta_track, theta_curr, axis=1)\n",
    "    diff = get_diff(X, theta_curr, y)\n",
    "    losses_track.append(get_loss(diff))\n",
    "    grad_norm_track.append(np.linalg.norm(grad,2))\n",
    "    if abs(losses_track[-2]-losses_track[-1]) < loss_tol:\n",
    "        break\n",
    "    plot1.set_xdata(theta_track[0, :])\n",
    "    plot1.set_ydata(theta_track[1, :])\n",
    "    plot2.set_xdata(range(len(losses_track)))\n",
    "    plot2.set_ydata(losses_track)\n",
    "    plot4.set_xdata(range(len(grad_norm_track[1:])))\n",
    "    plot4.set_ydata(grad_norm_track[1:])\n",
    "    plot_line(plot3a, theta_curr)\n",
    "    plot_line(plot3b, theta_curr)\n",
    "    figure.canvas.draw()\n",
    "    figure.canvas.flush_events()\n",
    "    time.sleep(0.1)\n",
    "print(*theta_curr)\n",
    "plt.show()"
   ]
  },
  {
   "cell_type": "code",
   "execution_count": 9,
   "metadata": {
    "slideshow": {
     "slide_type": "skip"
    }
   },
   "outputs": [],
   "source": [
    "%matplotlib inline"
   ]
  },
  {
   "cell_type": "markdown",
   "metadata": {
    "slideshow": {
     "slide_type": "subslide"
    }
   },
   "source": [
    "# With Deep Learning optimization is highly non-convex and #params explode!"
   ]
  },
  {
   "cell_type": "markdown",
   "metadata": {
    "slideshow": {
     "slide_type": "subslide"
    }
   },
   "source": [
    "# Loss Surface for ResNet-20 with no skip connection on ImageNet\n",
    "\n",
    "## ResNet-20, number of parameters $\\bmf{\\theta}$ of the order of.....millions!\n",
    "## GPT-3 (LM behind ChatGPT) has 150 billions parameters\n",
    "\n",
    "Visualization of mode connectivity for ResNet-20 with no skip connections on ImageNet dataset. The visualization by Javier Ideami\n",
    "\n",
    "<center><img src=https://izmailovpavel.github.io/curves_blogpost/images/image34.jpg width='50%'/></center>\n",
    "\n",
    "Taken from [https://izmailovpavel.github.io/curves_blogpost/](https://izmailovpavel.github.io/curves_blogpost/)\n",
    "\n",
    "[Video for the curious student](https://www.youtube.com/watch?time_continue=5&v=dqX2LBcp5Hs&feature=emb_title)\n"
   ]
  },
  {
   "cell_type": "markdown",
   "metadata": {
    "slideshow": {
     "slide_type": "subslide"
    }
   },
   "source": [
    "# Learning rate is very important\n",
    "<br><br>\n",
    "<center><img src=https://github.com/jermwatt/machine_learning_refined/blob/gh-pages/html/gifs/steplength_1D.gif?raw=true width='85%'/></center>"
   ]
  },
  {
   "cell_type": "markdown",
   "metadata": {
    "slideshow": {
     "slide_type": "subslide"
    }
   },
   "source": [
    "# Babysitting the training process\n",
    "### Loss in function of epochs\n",
    "\n",
    "<div align='center'><img src=\"figs/loss_types.png\" width='35%' ></div>"
   ]
  },
  {
   "cell_type": "markdown",
   "metadata": {
    "slideshow": {
     "slide_type": "subslide"
    }
   },
   "source": [
    "# Valleys, Hills, Noisy Surface\n",
    "<br>\n",
    "<center><img src=https://izmailovpavel.github.io/curves_blogpost/images/image1.jpg width='80%'/></center>"
   ]
  },
  {
   "cell_type": "markdown",
   "metadata": {
    "cell_style": "center",
    "slideshow": {
     "slide_type": "subslide"
    }
   },
   "source": [
    "# Dynamics  of Training\n",
    "\n",
    "<center><img src='http://2.bp.blogspot.com/-q6l20Vs4P_w/VPmIC7sEhnI/AAAAAAAACC4/g3UOUX2r_yA/s400/s25RsOr%2B-%2BImgur.gif' width='30%'><center/>\n",
    "    \n",
    "_**Noisy moons**: This is logistic regression on noisy moons dataset from sklearn which shows the smoothing effects of momentum based techniques (which also results in over shooting and correction). The error surface is visualized as an average over the whole dataset empirically, but the trajectories show the dynamics of minibatches on noisy data. The bottom chart is an accuracy plot._\n",
    "    \n",
    "[taken from here](http://www.denizyuret.com/2015/03/alec-radfords-animations-for.html)"
   ]
  },
  {
   "cell_type": "markdown",
   "metadata": {
    "slideshow": {
     "slide_type": "subslide"
    }
   },
   "source": [
    "# Dynamics  of Training\n",
    "\n",
    "<center><img src='http://3.bp.blogspot.com/-nrtJPrdBWuE/VPmIB46F2aI/AAAAAAAACCw/vaE_B0SVy5k/s400/Long%2BValley%2B-%2BImgur.gif' width='30%'><center/>\n",
    "   \n",
    "_**Long valley**: Algos without scaling based on gradient information really struggle to break symmetry here - SGD gets no where and Nesterov Accelerated Gradient / Momentum exhibits oscillations until they build up velocity in the optimization direction. Algos that scale step size based on the gradient quickly break symmetry and begin descent._"
   ]
  },
  {
   "cell_type": "markdown",
   "metadata": {
    "slideshow": {
     "slide_type": "subslide"
    }
   },
   "source": [
    "# Just to give you an hint on where the community is headed with Deep Learning"
   ]
  },
  {
   "cell_type": "markdown",
   "metadata": {
    "slideshow": {
     "slide_type": "subslide"
    }
   },
   "source": [
    "# DALL-E OpenAI (January 2021)\n",
    "<br>\n",
    "<div align='center'><img src=\"figs/dalle.png\" width='85%' ></div>"
   ]
  },
  {
   "cell_type": "markdown",
   "metadata": {
    "slideshow": {
     "slide_type": "subslide"
    }
   },
   "source": [
    "# DALL-E OpenAI \n",
    "\n",
    "<div align='center'><img src=\"figs/dalle2.png\" width='85%' ></div>"
   ]
  },
  {
   "cell_type": "markdown",
   "metadata": {
    "slideshow": {
     "slide_type": "subslide"
    }
   },
   "source": [
    "# OpenAI DALL-E - 12-billion parameters trained with self-supervision\n",
    "\n",
    "Yikes! $12\\times 10^9$ floating points parameters to train\n",
    "\n",
    "> DALL·E is a **12-billion parameter** version of GPT-3 trained to generate images from text descriptions, using a dataset of text–image pairs. We’ve found that it has a diverse set of capabilities, including creating anthropomorphized versions of animals and objects, combining unrelated concepts in plausible ways, rendering text, and applying transformations to existing images."
   ]
  },
  {
   "cell_type": "markdown",
   "metadata": {
    "slideshow": {
     "slide_type": "subslide"
    }
   },
   "source": [
    "### ~~0) Quick Intro to Optimization in Deep Learning~~\n",
    "### 1) Network Structure: Multi-Layer Perceptron (MLP) is a Fully-Connected Neural Net\n",
    "### 2) Backpropagation "
   ]
  },
  {
   "cell_type": "markdown",
   "metadata": {
    "slideshow": {
     "slide_type": "slide"
    }
   },
   "source": [
    "# 1) Network Structure: Multi-Layer Perceptron (MLP) \n",
    "# is a Fully-Connected Neural Net"
   ]
  },
  {
   "cell_type": "markdown",
   "metadata": {
    "slideshow": {
     "slide_type": "subslide"
    }
   },
   "source": [
    "# Networks and Topics that we do NOT cover\n",
    "\n",
    "You will meet them at **Deep Learning** course\n",
    "\n",
    "- **Convolutional** Neural Nets (good for images or any matrix data like as input)\n",
    "- Generative Adversarial Networks **(GAN)** and adversarial training\n",
    "- AutoEncoders or Variational Autoencoders\n",
    "- Adversarial Attacks to NN"
   ]
  },
  {
   "cell_type": "markdown",
   "metadata": {
    "slideshow": {
     "slide_type": "subslide"
    }
   },
   "source": [
    "# Networks and Topics we will cover\n",
    "\n",
    "- Brief Recap on Feedforward NN\n",
    "- Recurrent Neural Nets (RNN such as GRU, LSTM)\n",
    "- Transformer Networks\n",
    "- BERT, GPT-3 (base for ChatGPT, GPT4)\n",
    "- Contrastive Methods and Diffusion Models (base for Dalle-E, GPT4)"
   ]
  },
  {
   "cell_type": "markdown",
   "metadata": {
    "slideshow": {
     "slide_type": "subslide"
    }
   },
   "source": [
    "# Let's go back to single layer, linear soft-max regression or \"linear\" neural network"
   ]
  },
  {
   "cell_type": "markdown",
   "metadata": {
    "slideshow": {
     "slide_type": "subslide"
    }
   },
   "source": [
    "# Let's recall last classification layer of a neural net as pipeline\n",
    "## $\\mbf{x} \\implies \\mbf{z}= \\mbf{W}\\mbf{x} + \\mbf{b} \\implies e^{\\mbf{z}}  \\implies \\mbf{p} = \\frac{e^{\\mbf{z}}}{\\sum_k e^{\\mbf{z}}} \\implies -\\ln(\\mbf{p}_y) $"
   ]
  },
  {
   "cell_type": "markdown",
   "metadata": {
    "slideshow": {
     "slide_type": "subslide"
    }
   },
   "source": [
    "# word2vec with Skip-Gram at a glance\n",
    "\n",
    "... and why it can be seen as a tiny neural net.\n",
    "\n",
    "<div align='center'><img src=\"figs/word2vec_layers.png\" width='65%' ></div>"
   ]
  },
  {
   "cell_type": "markdown",
   "metadata": {
    "slideshow": {
     "slide_type": "subslide"
    }
   },
   "source": [
    "# Representation of a Single Layer\n",
    "\n",
    "Let's consider our linear softmax regressor\n",
    "\n",
    "$$ \\underbrace{\\mbf{z}}_{\\mathbb{R}^{Kx1}} = \\underbrace{\\mbf{W}}_{\\mathbb{R}^{K\\times d}}\\underbrace{\\mbf{x}}_{\\mathbb{R}^{d\\times1}} + \\underbrace{\\mbf{b}}_{\\mathbb{R}^K}$$\n",
    "\n",
    "We interpret as **Linear Layer** $\\mathbf{W} \\mathbf{x}+\\bmf{b}$  followed by  **Non-Linear Activation function** $\\sigma$\n",
    "\n",
    "$$\n",
    "\\sigma(\\mathbf{W} \\mathbf{x}  + \\bmf{b})=\\sigma \\circ\\left(\\begin{array}{cccc}\n",
    "w_{11} & w_{12} & \\cdots & w_{1 d} \\\\\n",
    "w_{21} & w_{22} & \\cdots & w_{2 d} \\\\\n",
    "\\vdots & \\cdots & \\ddots & \\vdots \\\\\n",
    "w_{k 1} & w_{m 2} & \\cdots & w_{k d}\n",
    "\\end{array}\\right)\\left(\\begin{array}{c}\n",
    "x_{1} \\\\\n",
    "x_{2} \\\\\n",
    "\\vdots \\\\\n",
    "x_{d}\n",
    "\\end{array}\\right)+\n",
    "\\left(\\begin{array}{c}\n",
    "b_{1} \\\\\n",
    "b_{2} \\\\\n",
    "\\vdots \\\\\n",
    "b_{k}\n",
    "\\end{array}\\right)\n",
    "=\\sigma \\circ\\left(\\begin{array}{c}\n",
    "z_{1} \\\\\n",
    "z_{2} \\\\\n",
    "\\vdots \\\\\n",
    "z_{k}\n",
    "\\end{array}\\right)\n",
    "$$"
   ]
  },
  {
   "cell_type": "markdown",
   "metadata": {
    "slideshow": {
     "slide_type": "subslide"
    }
   },
   "source": [
    "# Representation of a Single Layer\n",
    "\n",
    "$$\n",
    "\\sigma(\\mathbf{W} \\mathbf{x}  + \\bmf{b})=\\sigma \\circ\\left(\\begin{array}{cccc}\n",
    "\\underline{w_{11}} & \\underline{w_{12}} & \\cdots & \\underline{w_{1 d}} \\\\\n",
    "w_{21} & w_{22} & \\cdots & w_{2 d} \\\\\n",
    "\\vdots & \\cdots & \\ddots & \\vdots \\\\\n",
    "w_{k 1} & w_{m 2} & \\cdots & w_{k d}\n",
    "\\end{array}\\right)\\left(\\begin{array}{c}\n",
    "x_{1} \\\\\n",
    "x_{2} \\\\\n",
    "\\vdots \\\\\n",
    "x_{d}\n",
    "\\end{array}\\right)+\n",
    "\\left(\\begin{array}{c}\n",
    "b_{1} \\\\\n",
    "b_{2} \\\\\n",
    "\\vdots \\\\\n",
    "b_{k}\n",
    "\\end{array}\\right)\n",
    "=\\sigma \\circ\\left(\\begin{array}{c}\n",
    "z_{1} \\\\\n",
    "z_{2} \\\\\n",
    "\\vdots \\\\\n",
    "z_{k}\n",
    "\\end{array}\\right)\n",
    "$$\n",
    "\n",
    "\n",
    "<br><br>\n",
    "<center><img src='figs/neuron.png' width='70%'/></center>"
   ]
  },
  {
   "cell_type": "markdown",
   "metadata": {
    "slideshow": {
     "slide_type": "subslide"
    }
   },
   "source": [
    "# Representation of a Single Layer\n",
    "\n",
    "$$\n",
    "\\sigma(\\mathbf{W} \\mathbf{x}  + \\bmf{b})=\\sigma \\circ\\left(\\begin{array}{cccc}\n",
    "{w_{11}} & {w_{12}} & \\cdots & {w_{1 d}} \\\\\n",
    "w_{21} & w_{22} & \\cdots & w_{2 d} \\\\\n",
    "\\vdots & \\cdots & \\ddots & \\vdots \\\\\n",
    "\\underline{w_{k 1}} & \\underline{w_{m 2}} & \\cdots & \\underline{w_{k d}}\n",
    "\\end{array}\\right)\\left(\\begin{array}{c}\n",
    "x_{1} \\\\\n",
    "x_{2} \\\\\n",
    "\\vdots \\\\\n",
    "x_{d}\n",
    "\\end{array}\\right)+\n",
    "\\left(\\begin{array}{c}\n",
    "b_{1} \\\\\n",
    "b_{2} \\\\\n",
    "\\vdots \\\\\n",
    "b_{k}\n",
    "\\end{array}\\right)\n",
    "=\\sigma \\circ\\left(\\begin{array}{c}\n",
    "z_{1} \\\\\n",
    "z_{2} \\\\\n",
    "\\vdots \\\\\n",
    "z_{k}\n",
    "\\end{array}\\right)\n",
    "$$\n",
    "\n",
    "\n",
    "<br><br>\n",
    "<center><img src='figs/neuron_2.png' width='70%'/></center>"
   ]
  },
  {
   "cell_type": "markdown",
   "metadata": {
    "slideshow": {
     "slide_type": "subslide"
    }
   },
   "source": [
    "# Representation of a Single Layer: Linear plus non-Linear\n",
    "\n",
    "$$\n",
    "\\sigma(\\mathbf{W} \\mathbf{x}  + \\bmf{b})=\\sigma \\circ\\left(\\begin{array}{cccc}\n",
    "{w_{11}} & {w_{12}} & \\cdots & {w_{1 d}} \\\\\n",
    "w_{21} & w_{22} & \\cdots & w_{2 d} \\\\\n",
    "\\vdots & \\cdots & \\ddots & \\vdots \\\\\n",
    "\\underline{w_{k 1}} & \\underline{w_{m 2}} & \\cdots & \\underline{w_{k d}}\n",
    "\\end{array}\\right)\\left(\\begin{array}{c}\n",
    "x_{1} \\\\\n",
    "x_{2} \\\\\n",
    "\\vdots \\\\\n",
    "x_{d}\n",
    "\\end{array}\\right)+\n",
    "\\left(\\begin{array}{c}\n",
    "b_{1} \\\\\n",
    "b_{2} \\\\\n",
    "\\vdots \\\\\n",
    "b_{k}\n",
    "\\end{array}\\right)\n",
    "=\\sigma \\circ\\left(\\begin{array}{c}\n",
    "z_{1} \\\\\n",
    "z_{2} \\\\\n",
    "\\vdots \\\\\n",
    "z_{k}\n",
    "\\end{array}\\right)\n",
    "$$\n",
    "\n",
    "\n",
    "<br><br>\n",
    "<center><img src='figs/neuron_3.png' width='70%'/></center>"
   ]
  },
  {
   "cell_type": "markdown",
   "metadata": {
    "slideshow": {
     "slide_type": "subslide"
    }
   },
   "source": [
    "# Representation of a Single Layer: Linear plus non-Linear\n",
    "\n",
    "$$\n",
    "\\mathbf{W} \\mathbf{x}=\\left(\\begin{array}{c}\n",
    "-\\text { unit - } \\\\\n",
    "\\vdots \\\\\n",
    "-\\text { unit }-\n",
    "\\end{array}\\right)\\left(\\begin{array}{c}\n",
    "\\mid \\\\\n",
    "\\mathbf{x} \\\\\n",
    "\\mid\n",
    "\\end{array}\\right)\n",
    "$$\n",
    "\n",
    "\n",
    "<br><br>\n",
    "<center><img src='figs/neuron_4.png' width='70%'/></center>"
   ]
  },
  {
   "cell_type": "markdown",
   "metadata": {
    "slideshow": {
     "slide_type": "subslide"
    }
   },
   "source": [
    "# Representation as a computational graph\n",
    "<br>\n",
    "\n",
    "<div align='center'><img src=\"figs/graph_00.png\" width='60%' ></div>"
   ]
  },
  {
   "cell_type": "markdown",
   "metadata": {
    "slideshow": {
     "slide_type": "subslide"
    }
   },
   "source": [
    "# Damn, until now is all linear. So now the \"Deep\"!\n",
    "\n",
    "- Damn, until now is all linear.\n",
    "- Our **beloved SoftMax+CE linear layer** is there **in the end (classifier).**\n",
    "\n",
    "<br>\n",
    "<center><img src=https://www.datasciencecentral.com/wp-content/uploads/2021/10/1-19.png width='70%'/></center>\n"
   ]
  },
  {
   "cell_type": "markdown",
   "metadata": {
    "slideshow": {
     "slide_type": "subslide"
    }
   },
   "source": [
    "# A single linear layer is not enough for highly  non-linear problems\n",
    "\n",
    "<br><br>\n",
    "<center><img src='https://media-exp1.licdn.com/dms/image/C5112AQEt1wEHRWi21w/article-cover_image-shrink_600_2000/0/1533914799998?e=2147483647&v=beta&t=GsPd5qJePijN7BPx2BEkNiu2OmcixkJGFA5u_XjukVg' width='50%'></center>"
   ]
  },
  {
   "cell_type": "markdown",
   "metadata": {
    "slideshow": {
     "slide_type": "subslide"
    }
   },
   "source": [
    "# Adding another non-linear layer before the classifier\n",
    "\n",
    "- We improve the _expressivness_ of our learned function by adding another linear layer **before** the classification layer.\n",
    "- Think this new layer as a feature map $\\mbf{x}  \\mapsto \\phi(\\mbf{x})$; it maps our attribute to a feature space\n",
    "- Now the classifier does not classify anymore directly $\\mbf{x}$ but the feature $\\phi(x)$.\n",
    "- Sorry, notation becomes complex. Upper script means layer index; lower-script selects the unit\n",
    "- $\\mathbf{W}^1 \\in \\mathbb{R}^{d\\times p}$, $\\bmf{b}^1 \\in \\mathbb{R}^{p}$ so then $\\mathbf{W}^2 \\in \\mathbb{R}^{p\\times k}$,   $\\bmf{b}^2 \\in \\mathbb{R}^{k}$\n",
    "\n",
    "$$\\mbf{p}=\\sigma(\\mathbf{W}^2\\underbrace{\\left(\\sigma(\\mathbf{W}^1 \\mathbf{x}  + \\bmf{b}^1) \\right)}_{\\bmf{\\phi}(x)}   + \\bmf{b}^2)$$\n",
    "\n",
    "$$\\text{dim. analysis:} \\quad d \\mapsto p \\mapsto k$$"
   ]
  },
  {
   "cell_type": "markdown",
   "metadata": {
    "slideshow": {
     "slide_type": "subslide"
    }
   },
   "source": [
    "# $\\mathbf{W}^1 \\in \\mathbb{R}^{d\\times p}$ is an Hidden Layer\n",
    "\n",
    "Because it maps the original attribute in $d$ from an dimensionality $p$ and then $p$ is used for classifying.\n",
    "\n",
    "A priori you do not know what $\\mathbf{W}^1$ may learn.\n",
    "\n",
    "$$\\mbf{p}=\\sigma(\\mathbf{W}^2\\underbrace{\\left(\\sigma(\\mathbf{W}^1 \\mathbf{x}  + \\bmf{b}^1) \\right)}_{\\bmf{\\phi}(x)}   + \\bmf{b}^2)$$\n",
    "\n",
    "$$\\text{dim. analysis:} \\quad d \\mapsto p \\mapsto k$$"
   ]
  },
  {
   "cell_type": "markdown",
   "metadata": {
    "slideshow": {
     "slide_type": "subslide"
    }
   },
   "source": [
    "# Let's update our visualizations"
   ]
  },
  {
   "cell_type": "markdown",
   "metadata": {
    "slideshow": {
     "slide_type": "subslide"
    }
   },
   "source": [
    "# Multi-Layer Perceptron (MLP) with one hidden layer\n",
    "\n",
    "## Given the nature of these layers, they're called Fully-Connected NN\n",
    "\n",
    "<br><br>\n",
    "<center><img src='figs/neuron_5.png' width='70%'/></center>"
   ]
  },
  {
   "cell_type": "markdown",
   "metadata": {
    "slideshow": {
     "slide_type": "subslide"
    }
   },
   "source": [
    "# Multi-Layer Perceptron with one hidden layer\n",
    "<br><br>\n",
    "<center><img src='figs/neuron_6.png' width='90%'/></center>"
   ]
  },
  {
   "cell_type": "markdown",
   "metadata": {
    "slideshow": {
     "slide_type": "subslide"
    }
   },
   "source": [
    "# Non-linear activation functions:  Sigmoid\n",
    "\n",
    "Very important: **Activation Functions are computed element-wise.**\n",
    "\n",
    "$$ \\sigma(z)= \\frac{1}{1+\\exp^{-z}} \\quad \\text{sigmoid or logistic function}$$\n",
    "\n",
    "<br><br> \n",
    "<div align='center'>Smooth and Differentiable alternative to sign<img src=\"figs/sigmoid.png\" width='35%' ></div>\n"
   ]
  },
  {
   "cell_type": "markdown",
   "metadata": {
    "slideshow": {
     "slide_type": "subslide"
    },
    "variables": {
     "import numpy as np; import matplotlib.pyplot as plt; step=0.1; x = np.arange(-20.0, 20.0, step); fig, axes = plt.subplots(1,2,figsize=(12,5)); y = 1/(1+np.exp(-x)); dy = np.diff(y); axes[0].plot(x,y); axes[0].legend(['sigmoid']); axes[1].plot(x[1:],dy/step); _=axes[1].legend(['derivative of sigmoid']);": "<img src=\"data:image/png;base64,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\n\"/>"
    }
   },
   "source": [
    "# Non-linear activation functions:  Sigmoid\n",
    "\n",
    "Very important: **Activation Functions are computed element-wise.**\n",
    "\n",
    "$$ \\sigma(z)= \\frac{1}{1+\\exp^{-z}} \\quad \\text{sigmoid or logistic function}$$\n",
    "<br><br> <center>Smooth and Differentiable alternative to sign</center>\n",
    "\n",
    "{{import numpy as np; import matplotlib.pyplot as plt; step=0.1; x = np.arange(-20.0, 20.0, step); fig, axes = plt.subplots(1,2,figsize=(12,5)); y = 1/(1+np.exp(-x)); dy = np.diff(y); axes[0].plot(x,y); axes[0].legend(['sigmoid']); axes[1].plot(x[1:],dy/step); _=axes[1].legend(['derivative of sigmoid']);}}\n"
   ]
  },
  {
   "cell_type": "code",
   "execution_count": 10,
   "metadata": {
    "slideshow": {
     "slide_type": "skip"
    }
   },
   "outputs": [
    {
     "data": {
      "image/png": "[encoded data removed]",
      "text/plain": [
       "<Figure size 1200x500 with 2 Axes>"
      ]
     },
     "metadata": {},
     "output_type": "display_data"
    }
   ],
   "source": [
    "import numpy as np;\n",
    "import matplotlib.pyplot as plt; step=0.1;\n",
    "x = np.arange(-20.0, 20.0, step);\n",
    "fig, axes = plt.subplots(1,2,figsize=(12,5));\n",
    "y = 1/(1+np.exp(-x));\n",
    "dy = np.diff(y);\n",
    "axes[0].plot(x,y)\n",
    "axes[0].legend(['sigmoid'])\n",
    "axes[1].plot(x[1:],dy/step);\n",
    "axes[1].legend(['derivative of sigmoid']);"
   ]
  },
  {
   "cell_type": "markdown",
   "metadata": {
    "slideshow": {
     "slide_type": "subslide"
    },
    "variables": {
     "import numpy as np; import matplotlib.pyplot as plt; step=0.1; x = np.arange(-20.0, 20.0, step); fig, axes = plt.subplots(1,2,figsize=(12,5)); y = np.maximum(0,x); dy = np.diff(y); axes[0].plot(x,y); axes[1].plot(x[1:],dy/step); axes[0].legend(['ReLu']); _=axes[1].legend(['Deriv of ReLU']);": "<img src=\"data:image/png;base64,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\n\"/>"
    }
   },
   "source": [
    "# Non-linear activation functions:  ReLu - Rectified Linear Unit\n",
    "\n",
    "Very important: **Activation Functions are computed element-wise.**\n",
    "\n",
    "$$ \\sigma(z)= \\max(0,z) \\quad \\text{ReLu}$$\n",
    "<br> <center>ReLu is piece-wise linear function</center>\n",
    "{{import numpy as np; import matplotlib.pyplot as plt; step=0.1; x = np.arange(-20.0, 20.0, step); fig, axes = plt.subplots(1,2,figsize=(12,5)); y = np.maximum(0,x); dy = np.diff(y); axes[0].plot(x,y); axes[1].plot(x[1:],dy/step); axes[0].legend(['ReLu']); _=axes[1].legend(['Deriv of ReLU']);}}"
   ]
  },
  {
   "cell_type": "code",
   "execution_count": 11,
   "metadata": {
    "slideshow": {
     "slide_type": "skip"
    }
   },
   "outputs": [
    {
     "data": {
      "image/png": "[encoded data removed]",
      "text/plain": [
       "<Figure size 1200x500 with 2 Axes>"
      ]
     },
     "metadata": {},
     "output_type": "display_data"
    }
   ],
   "source": [
    "import numpy as np;\n",
    "import matplotlib.pyplot as plt; step=0.1;\n",
    "x = np.arange(-20.0, 20.0, step);\n",
    "fig, axes = plt.subplots(1,2,figsize=(12,5));\n",
    "y = np.maximum(0,x);\n",
    "dy = np.diff(y);\n",
    "axes[0].plot(x,y)\n",
    "axes[1].plot(x[1:],dy/step);\n",
    "axes[0].legend(['ReLu'])\n",
    "_=axes[1].legend(['Deriv of ReLU']);"
   ]
  },
  {
   "cell_type": "markdown",
   "metadata": {
    "cell_style": "split",
    "slideshow": {
     "slide_type": "subslide"
    }
   },
   "source": [
    "# Sigmoid\n",
    "\n",
    "- Used to model output probability\n",
    "- Nowdays not used in middle layers\n",
    "- Have to compute $\\exp()$\n",
    "- **Vanishing gradients** for large input magnitude"
   ]
  },
  {
   "cell_type": "markdown",
   "metadata": {
    "cell_style": "split",
    "slideshow": {
     "slide_type": "fragment"
    }
   },
   "source": [
    "# ReLU\n",
    "\n",
    "- Computationally efficient (no exp!)\n",
    "- No vanishing gradients but do not let pass gradients for negative values\n",
    "- Converge much faster than sigmoid (6x)\n",
    "- Not differentiable in zero (subgradients)"
   ]
  },
  {
   "cell_type": "markdown",
   "metadata": {
    "slideshow": {
     "slide_type": "subslide"
    }
   },
   "source": [
    "# There are other activation functions we do not cover\n",
    "###  TanH, Leaky ReLU, parametrized ReLU, ELU, SIREN"
   ]
  },
  {
   "cell_type": "markdown",
   "metadata": {
    "slideshow": {
     "slide_type": "subslide"
    }
   },
   "source": [
    "### ~~0) Quick Intro to Optimization in Deep Learning~~\n",
    "### ~~1) Network Structure: Multi-Layer Perceptron (MLP) is a Fully-Connected Neural Net~~\n",
    "### 2) Backpropagation "
   ]
  },
  {
   "cell_type": "markdown",
   "metadata": {
    "slideshow": {
     "slide_type": "subslide"
    }
   },
   "source": [
    "# Backpropagation and Differential Programming\n",
    "## AutoDiff"
   ]
  },
  {
   "cell_type": "markdown",
   "metadata": {
    "slideshow": {
     "slide_type": "subslide"
    }
   },
   "source": [
    "# NN can be huge composition of functions! 😱\n",
    "<br>\n",
    "<center><img src=https://www.researchgate.net/profile/Tiago-Carvalho-8/publication/330478807/figure/fig1/AS:756995804110849@1557493272678/VGG16-VGG19-Inception-V3-Xception-and-ResNet-50-architectures_W640.jpg width='35%'/></center>\n",
    "\n"
   ]
  },
  {
   "cell_type": "markdown",
   "metadata": {
    "cell_style": "center",
    "slideshow": {
     "slide_type": "subslide"
    }
   },
   "source": [
    "# Three ways of computing the gradients $\\nabla_{\\mbf{w}}\\mathcal{L}(x,y;\\mbf{w})$\n",
    "\n",
    "1. **Manually** (if we change the network, we have to adjust it for a 100 layer neural net) maybe not a good idea, does not scale, even if we use symbolic derivation tools such as Mathematica ✍🏼\n",
    "2. **Finite Difference** good to check the gradients once you have an automatic way of computing it; **very slow, unfeasible in training!** 👩🏾‍💻\n",
    "3. **Backpropagation**: application of chain rule of calculus to tensors with a computational graph with caching **(differential programming with automatic differentiation)** 💻"
   ]
  },
  {
   "cell_type": "markdown",
   "metadata": {
    "slideshow": {
     "slide_type": "slide"
    }
   },
   "source": [
    "# Backpropagation"
   ]
  },
  {
   "cell_type": "markdown",
   "metadata": {
    "slideshow": {
     "slide_type": "subslide"
    }
   },
   "source": [
    "# Let's be clear on what we need to compute\n",
    "\n",
    "$\\forall l \\in [1\\ldots,L]$:\n",
    "1. $\\nabla_{\\mbf{W}^l}\\mathcal{L}(\\mbf{x},y;\\{\\mbf{W},b\\})$\n",
    "1. $\\nabla_{\\mbf{b}^l}\\mathcal{L}(\\mbf{x},y;\\{\\mbf{W},b\\})$\n",
    "<br><br>\n",
    "<center><img src='figs/neuron_6.png' width='90%'/></center>"
   ]
  },
  {
   "cell_type": "markdown",
   "metadata": {
    "slideshow": {
     "slide_type": "subslide"
    }
   },
   "source": [
    "# Once you have gradients on ALL weights $\\implies$ We can update\n",
    "\n",
    "$\\forall l \\in [1\\ldots,L]$:\n",
    "1. $\\mbf{W}^l \\leftarrow \\mbf{W}^l - \\gamma \\nabla_{\\mbf{W}^l}\\mathcal{L}(\\mbf{x},y;\\{\\mbf{W},b\\})$\n",
    "1. $\\mbf{b}^l \\leftarrow \\mbf{b}^l - \\gamma \\nabla_{\\mbf{b}^l}\\mathcal{L}(\\mbf{x},y;\\{\\mbf{W},b\\})$\n",
    "<br><br>\n",
    "\n",
    "\n",
    "<center><img src='figs/neuron_7.png' width='90%'/></center>"
   ]
  },
  {
   "cell_type": "markdown",
   "metadata": {
    "slideshow": {
     "slide_type": "subslide"
    }
   },
   "source": [
    "# How do we get all the weight updates?\n",
    "\n",
    "[Mostly taken from here](https://www.youtube.com/watch?v=i94OvYb6noo)"
   ]
  },
  {
   "cell_type": "markdown",
   "metadata": {
    "slideshow": {
     "slide_type": "subslide"
    }
   },
   "source": [
    "# Chain Rule\n",
    "\n",
    "Returning to functions of a single variable,\n",
    "suppose that $y = f(g(x))$\n",
    "and that the underlying functions \n",
    "$y=f(u)$ and $u=g(x)$ \n",
    "are both differentiable.\n",
    "The chain rule states that \n",
    "\n",
    "\n",
    "$$\\frac{dy}{dx} = \\frac{dy}{du} \\frac{du}{dx}.$$\n",
    "\n",
    "\n",
    "What is the **derivative of loss wrt to x in the equation below**? $$y = loss\\big(g(h(i(x)))\\big)$$"
   ]
  },
  {
   "cell_type": "markdown",
   "metadata": {
    "slideshow": {
     "slide_type": "fragment"
    }
   },
   "source": [
    "$$\\frac{\\partial loss}{\\partial x} = \\frac{\\partial loss}{\\partial g} \\frac{\\partial g}{\\partial h}\\frac{\\partial h}{\\partial i}\\frac{\\partial i}{\\partial x}$$"
   ]
  },
  {
   "cell_type": "markdown",
   "metadata": {
    "slideshow": {
     "slide_type": "subslide"
    }
   },
   "source": [
    "# Chain Rule on Directed Acyclic Graph (DAG)\n",
    "\n",
    "### Automate the computation of derivatives with computer science\n",
    "\n"
   ]
  },
  {
   "cell_type": "markdown",
   "metadata": {
    "slideshow": {
     "slide_type": "subslide"
    }
   },
   "source": [
    "$$\\mathcal{L}(x,y,z) = (x+y)z$$\n",
    "\n",
    "$$x=-2;~y=5;~z=-4;$$"
   ]
  },
  {
   "cell_type": "markdown",
   "metadata": {
    "slideshow": {
     "slide_type": "subslide"
    }
   },
   "source": [
    "# Now with Chain Rule\n",
    "$$\\mathcal{L}(x,y,z) = (x+y)z$$\n",
    "\n",
    "$$x=-2;~y=5;~z=-4;$$\n",
    "\n",
    "but we can re-write it with the chain rule:\n",
    "\n",
    "$$\\frac{\\partial\\mathcal{L}(x,y,z)}{\\partial x} =  \\big(\\underbrace{(\\mbf{x}+y)}_{q}z\\big)^{\\prime}=\\frac{\\partial\\mathcal{L}}{\\partial q}\\frac{\\partial q}{\\partial x}$$"
   ]
  },
  {
   "cell_type": "markdown",
   "metadata": {
    "slideshow": {
     "slide_type": "subslide"
    }
   },
   "source": [
    "# Now with Chain Rule\n",
    "$$\\mathcal{L}(x,y,z) = (x+y)z$$\n",
    "\n",
    "$$x=-2;~y=5;~z=-4;$$\n",
    "\n",
    "but we can re-write it with the chain rule:\n",
    "\n",
    "$$\\frac{\\partial\\mathcal{L}(x,y,z)}{\\partial x} =  \\big(\\underbrace{(\\mbf{x}+y)}_{q}z\\big)^{\\prime}=\\frac{\\partial\\mathcal{L}}{\\partial q}\\frac{\\partial q}{\\partial x} = z\\frac{\\partial q}{\\partial x} $$"
   ]
  },
  {
   "cell_type": "markdown",
   "metadata": {
    "slideshow": {
     "slide_type": "subslide"
    }
   },
   "source": [
    "# Now with Chain Rule\n",
    "$$\\mathcal{L}(x,y,z) = (x+y)z$$\n",
    "\n",
    "$$x=-2;~y=5;~z=-4;$$\n",
    "\n",
    "but we can re-write it with the chain rule:\n",
    "\n",
    "$$\\frac{\\partial\\mathcal{L}(x,y,z)}{\\partial x} =  \\big(\\underbrace{(\\mbf{x}+y)}_{q}z\\big)^{\\prime}=\\frac{\\partial\\mathcal{L}}{\\partial q}\\frac{\\partial q}{\\partial x} = z\\cdot 1= z $$"
   ]
  },
  {
   "cell_type": "markdown",
   "metadata": {
    "slideshow": {
     "slide_type": "subslide"
    }
   },
   "source": [
    "# Chain Rule on Directed Acyclic Graph (DAG)\n",
    "\n",
    "$$\\mathcal{L}(x,y,z) = (x+y)z$$\n",
    "\n",
    "$$x=-2;~y=5;~z=-4;$$\n",
    "\n",
    "**The computer science way:**\n",
    "\n",
    "<div align='center'><img src=\"figs/dag_00.png\" width='35%' ></div>\n",
    "\n",
    "$$\\frac{\\partial\\mathcal{L}}{\\partial x},\\frac{\\partial\\mathcal{L}}{\\partial y},\\frac{\\partial\\mathcal{L}}{\\partial z}$$"
   ]
  },
  {
   "cell_type": "markdown",
   "metadata": {
    "slideshow": {
     "slide_type": "subslide"
    }
   },
   "source": [
    "# Chain Rule on Directed Acyclic Graph (DAG)\n",
    "Even if the problem is very small, we break it down to subproblem so that we can **automate** it:\n",
    "<div align='center'><img src=\"figs/dag_00.png\" width='35%' ></div>\n",
    "\n",
    "\n",
    "$$\\frac{\\partial\\mathcal{L}}{\\partial x},\\frac{\\partial\\mathcal{L}}{\\partial y},\\frac{\\partial\\mathcal{L}}{\\partial z}$$\n",
    " Who is input of $\\mathcal{L}$?"
   ]
  },
  {
   "cell_type": "markdown",
   "metadata": {
    "slideshow": {
     "slide_type": "fragment"
    }
   },
   "source": [
    "$q$ and $z$ are input of $\\mathcal{L}$.\n",
    "$$\\frac{\\partial\\mathcal{L}}{\\partial q}, \\frac{\\partial\\mathcal{L}}{\\partial z}$$"
   ]
  },
  {
   "cell_type": "markdown",
   "metadata": {
    "slideshow": {
     "slide_type": "subslide"
    }
   },
   "source": [
    "# Chain Rule on Directed Acyclic Graph (DAG)\n",
    "Even if the problem is very small, we break it down to subproblem so that we can **automate** it:\n",
    "<div align='center'><img src=\"figs/dag_00.png\" width='35%' ></div>\n",
    "\n",
    "$$\\frac{\\partial\\mathcal{L}}{\\partial x},\\frac{\\partial\\mathcal{L}}{\\partial y},\\frac{\\partial\\mathcal{L}}{\\partial z}$$\n",
    "\n",
    "What is the derivate? (Just check the operation at the gate)\n",
    "$$\\frac{\\partial\\mathcal{L}}{\\partial q}, \\frac{\\partial\\mathcal{L}}{\\partial z}$$"
   ]
  },
  {
   "cell_type": "markdown",
   "metadata": {
    "slideshow": {
     "slide_type": "subslide"
    }
   },
   "source": [
    "# Chain Rule on Directed Acyclic Graph (DAG)\n",
    "Even if the problem is very small, we break it down to subproblem so that we can **automate** it:\n",
    "<div align='center'><img src=\"figs/dag_00.png\" width='35%' ></div>>\n",
    "\n",
    "\n",
    "$$\\frac{\\partial\\mathcal{L}}{\\partial x},\\frac{\\partial\\mathcal{L}}{\\partial y},\\frac{\\partial\\mathcal{L}}{\\partial z}$$\n",
    "\n",
    "What is the derivate? (Just check the operation at the gate)?\n",
    "$$\\frac{\\partial\\mathcal{L}}{\\partial q}=z, \\frac{\\partial\\mathcal{L}}{\\partial z}=q$$"
   ]
  },
  {
   "cell_type": "markdown",
   "metadata": {
    "slideshow": {
     "slide_type": "subslide"
    }
   },
   "source": [
    "# Chain Rule on Directed Acyclic Graph (DAG)\n",
    "Even if the problem is very small, we break it down to subproblem so that we can **automate** it:\n",
    "<div align='center'><img src=\"figs/dag_00.png\" width='35%' ></div>\n",
    "\n",
    "\n",
    "$$\\frac{\\partial\\mathcal{L}}{\\partial x},\\frac{\\partial\\mathcal{L}}{\\partial y},\\frac{\\partial\\mathcal{L}}{\\partial z}$$\n",
    "\n",
    "What is the derivate? (Just check the operation at the gate)?\n",
    "$$\\frac{\\partial\\mathcal{q}}{\\partial x}=1, \\frac{\\partial\\mathcal{q}}{\\partial y}=1$$"
   ]
  },
  {
   "cell_type": "markdown",
   "metadata": {
    "slideshow": {
     "slide_type": "subslide"
    }
   },
   "source": [
    "# Chain Rule on Directed Acyclic Graph (DAG)\n",
    "Even if the problem is very small, we break it down to subproblem so that we can **automate** it:\n",
    "<div align='center'><img src=\"figs/dag_00.png\" width='35%' ></div>\n",
    "\n",
    "\n",
    "$$\\frac{\\partial\\mathcal{L}}{\\partial x},\\frac{\\partial\\mathcal{L}}{\\partial y},\\frac{\\partial\\mathcal{L}}{\\partial z}$$\n",
    "\n",
    "OK now we have all the **analytical \"local\" partial derivatives, we can compute something**\n",
    "\n",
    "$$\\frac{\\partial\\mathcal{L}}{\\partial q}=z, \\frac{\\partial\\mathcal{L}}{\\partial z}=q, \\frac{\\partial\\mathcal{q}}{\\partial x}=1, \\frac{\\partial\\mathcal{q}}{\\partial y}=1$$"
   ]
  },
  {
   "cell_type": "markdown",
   "metadata": {
    "slideshow": {
     "slide_type": "subslide"
    }
   },
   "source": [
    "# Forward Pass\n",
    "\n",
    "<div align='center'><img src=\"figs/dag_01.png\" width='37%' ></div>\n",
    "\n",
    "\n",
    "$$\\frac{\\partial\\mathcal{L}}{\\partial x},\\frac{\\partial\\mathcal{L}}{\\partial y},\\frac{\\partial\\mathcal{L}}{\\partial z}$$\n",
    "\n",
    "OK now we have all the **analytical partial derivatives, we can compute something**\n",
    "\n",
    "$$\\frac{\\partial\\mathcal{L}}{\\partial q}=z, \\frac{\\partial\\mathcal{L}}{\\partial z}=q, \\frac{\\partial\\mathcal{q}}{\\partial x}=1, \\frac{\\partial\\mathcal{q}}{\\partial y}=1$$"
   ]
  },
  {
   "cell_type": "markdown",
   "metadata": {
    "slideshow": {
     "slide_type": "subslide"
    }
   },
   "source": [
    "# Forward Pass\n",
    "\n",
    "<div align='center'><img src=\"figs/dag_02.png\" width='37%' ></div>\n",
    "\n",
    "\n",
    "$$\\frac{\\partial\\mathcal{L}}{\\partial x},\\frac{\\partial\\mathcal{L}}{\\partial y},\\frac{\\partial\\mathcal{L}}{\\partial z}$$\n",
    "\n",
    "OK now we have all the **analytical partial derivatives, we can compute something**\n",
    "\n",
    "$$\\frac{\\partial\\mathcal{L}}{\\partial q}=z, \\frac{\\partial\\mathcal{L}}{\\partial z}=q, \\frac{\\partial\\mathcal{q}}{\\partial x}=1, \\frac{\\partial\\mathcal{q}}{\\partial y}=1$$"
   ]
  },
  {
   "cell_type": "markdown",
   "metadata": {
    "slideshow": {
     "slide_type": "subslide"
    }
   },
   "source": [
    "# Forward Pass\n",
    "\n",
    "<div align='center'><img src=\"figs/dag_03.png\" width='37%' ></div>\n",
    "\n",
    "**This is what we wanted:**\n",
    "$$\\frac{\\partial\\mathcal{L}}{\\partial x},\\frac{\\partial\\mathcal{L}}{\\partial y},\\frac{\\partial\\mathcal{L}}{\\partial z}$$\n",
    "\n",
    "**This is what we have**\n",
    "\n",
    "$$\\frac{\\partial\\mathcal{L}}{\\partial q}=z, \\frac{\\partial\\mathcal{L}}{\\partial z}=q, \\frac{\\partial\\mathcal{q}}{\\partial x}=1, \\frac{\\partial\\mathcal{q}}{\\partial y}=1$$"
   ]
  },
  {
   "cell_type": "markdown",
   "metadata": {
    "slideshow": {
     "slide_type": "subslide"
    }
   },
   "source": [
    "# Backward Pass\n",
    "\n",
    "<div align='center'><img src=\"figs/dag_03.png\" width='37%' ></div>\n",
    "\n",
    "**Act as a base case for the recursion:** $$\\frac{\\partial\\mathcal{L}}{\\partial \\mathcal{L}}=?$$\n",
    "\n",
    "**This is what we wanted:**\n",
    "$$\\frac{\\partial\\mathcal{L}}{\\partial x},\\frac{\\partial\\mathcal{L}}{\\partial y},\\frac{\\partial\\mathcal{L}}{\\partial z}$$\n",
    "\n",
    "**This is what we have**\n",
    "\n",
    "$$\\frac{\\partial\\mathcal{L}}{\\partial q}=z, \\frac{\\partial\\mathcal{L}}{\\partial z}=q, \\frac{\\partial\\mathcal{q}}{\\partial x}=1, \\frac{\\partial\\mathcal{q}}{\\partial y}=1$$"
   ]
  },
  {
   "cell_type": "markdown",
   "metadata": {
    "slideshow": {
     "slide_type": "subslide"
    }
   },
   "source": [
    "# Backward Pass\n",
    "\n",
    "<div align='center'><img src=\"figs/dag_04.png\" width='37%' ></div>\n",
    "\n",
    "**Act as a base case for the recursion:** $$\\frac{\\partial\\mathcal{L}}{\\partial \\mathcal{L}}=1$$\n",
    "\n",
    "**This is what we wanted:**\n",
    "$$\\frac{\\partial\\mathcal{L}}{\\partial x},\\frac{\\partial\\mathcal{L}}{\\partial y},\\frac{\\partial\\mathcal{L}}{\\partial z}$$\n",
    "\n",
    "**This is what we have**\n",
    "\n",
    "$$\\frac{\\partial\\mathcal{L}}{\\partial q}=z, \\frac{\\partial\\mathcal{L}}{\\partial z}=q, \\frac{\\partial\\mathcal{q}}{\\partial x}=1, \\frac{\\partial\\mathcal{q}}{\\partial y}=1$$"
   ]
  },
  {
   "cell_type": "markdown",
   "metadata": {
    "slideshow": {
     "slide_type": "subslide"
    }
   },
   "source": [
    "# Backward Pass\n",
    "\n",
    "<div align='center'><img src=\"figs/dag_04.png\" width='37%' ></div>\n",
    "\n",
    "**What is the value of the gradient of $\\mathcal{L}$ on $z$?**: \n",
    "\n",
    "\n",
    "**This is what we wanted:**\n",
    "$$\\frac{\\partial\\mathcal{L}}{\\partial x},\\frac{\\partial\\mathcal{L}}{\\partial y},\\frac{\\partial\\mathcal{L}}{\\partial z}$$\n",
    "\n",
    "**This is what we have**\n",
    "\n",
    "$$\\frac{\\partial\\mathcal{L}}{\\partial q}=z, \\frac{\\partial\\mathcal{L}}{\\partial z}=q, \\frac{\\partial\\mathcal{q}}{\\partial x}=1, \\frac{\\partial\\mathcal{q}}{\\partial y}=1$$"
   ]
  },
  {
   "cell_type": "markdown",
   "metadata": {
    "slideshow": {
     "slide_type": "subslide"
    }
   },
   "source": [
    "# Backward Pass\n",
    "\n",
    "<div align='center'><img src=\"figs/dag_05.png\" width='37%' ></div>\n",
    "\n",
    "**What is the value of the gradient of $\\mathcal{L}$ on $z$?**: \n",
    "\n",
    "$$\\frac{\\partial\\mathcal{L}}{\\partial z}= q = 3$$\n",
    "\n",
    "**This is what we wanted:**\n",
    "$$\\frac{\\partial\\mathcal{L}}{\\partial x},\\frac{\\partial\\mathcal{L}}{\\partial y},\\frac{\\partial\\mathcal{L}}{\\partial z}$$\n",
    "\n",
    "**This is what we have**\n",
    "\n",
    "$$\\frac{\\partial\\mathcal{L}}{\\partial q}=z, \\frac{\\partial\\mathcal{L}}{\\partial z}=q, \\frac{\\partial\\mathcal{q}}{\\partial x}=1, \\frac{\\partial\\mathcal{q}}{\\partial y}=1$$"
   ]
  },
  {
   "cell_type": "markdown",
   "metadata": {
    "slideshow": {
     "slide_type": "subslide"
    }
   },
   "source": [
    "# Backward Pass\n",
    "\n",
    "<div align='center'><img src=\"figs/dag_05.png\" width='37%' ></div>\n",
    "\n",
    "**What is the value of the gradient of $\\mathcal{L}$ on $q$?**: \n",
    "\n",
    "\n",
    "**This is what we wanted:**\n",
    "$$\\frac{\\partial\\mathcal{L}}{\\partial x},\\frac{\\partial\\mathcal{L}}{\\partial y},\\frac{\\partial\\mathcal{L}}{\\partial z}$$\n",
    "\n",
    "**This is what we have**\n",
    "\n",
    "$$\\frac{\\partial\\mathcal{L}}{\\partial q}=z, \\frac{\\partial\\mathcal{L}}{\\partial z}=q, \\frac{\\partial\\mathcal{q}}{\\partial x}=1, \\frac{\\partial\\mathcal{q}}{\\partial y}=1$$"
   ]
  },
  {
   "cell_type": "markdown",
   "metadata": {
    "slideshow": {
     "slide_type": "subslide"
    }
   },
   "source": [
    "# Backward Pass\n",
    "\n",
    "<div align='center'><img src=\"figs/dag_06.png\" width='37%' ></div>\n",
    "\n",
    "**What is the value of the gradient of $\\mathcal{L}$ on $q$?**: \n",
    "\n",
    "$$\\frac{\\partial\\mathcal{L}}{\\partial q}= z = -4$$\n",
    "\n",
    "**This is what we wanted:**\n",
    "$$\\frac{\\partial\\mathcal{L}}{\\partial x},\\frac{\\partial\\mathcal{L}}{\\partial y},\\frac{\\partial\\mathcal{L}}{\\partial z}$$\n",
    "\n",
    "**This is what we have**\n",
    "\n",
    "$$\\frac{\\partial\\mathcal{L}}{\\partial q}=z, \\frac{\\partial\\mathcal{L}}{\\partial z}=q, \\frac{\\partial\\mathcal{q}}{\\partial x}=1, \\frac{\\partial\\mathcal{q}}{\\partial y}=1$$"
   ]
  },
  {
   "cell_type": "markdown",
   "metadata": {
    "slideshow": {
     "slide_type": "subslide"
    }
   },
   "source": [
    "# Backward Pass\n",
    "\n",
    "<div align='center'><img src=\"figs/dag_06.png\" width='37%' ></div>\n",
    "\n",
    "**What is the value of the gradient of $\\mathcal{L}$ on $y$?**: \n",
    "\n",
    "\n",
    "**This is what we wanted:**\n",
    "$$\\frac{\\partial\\mathcal{L}}{\\partial x},\\frac{\\partial\\mathcal{L}}{\\partial y},\\frac{\\partial\\mathcal{L}}{\\partial z}$$\n",
    "\n",
    "**This is what we have**\n",
    "\n",
    "$$\\frac{\\partial\\mathcal{L}}{\\partial q}=z, \\frac{\\partial\\mathcal{L}}{\\partial z}=q, \\frac{\\partial\\mathcal{q}}{\\partial x}=1, \\frac{\\partial\\mathcal{q}}{\\partial y}=1$$"
   ]
  },
  {
   "cell_type": "markdown",
   "metadata": {
    "slideshow": {
     "slide_type": "subslide"
    }
   },
   "source": [
    "# Backward Pass\n",
    "\n",
    "<div align='center'><img src=\"figs/dag_06.png\" width='37%' ></div>\n",
    "\n",
    "**What is the value of the gradient of $\\mathcal{L}$ on $y$?**: \n",
    "$$\\frac{\\partial\\mathcal{L}}{\\partial y} = \\frac{\\partial\\mathcal{L}}{\\partial q}\\frac{\\partial q}{\\partial y} = z\\cdot 1= -4$$\n",
    "\n",
    "**This is what we wanted:**\n",
    "$$\\frac{\\partial\\mathcal{L}}{\\partial x},\\frac{\\partial\\mathcal{L}}{\\partial y},\\frac{\\partial\\mathcal{L}}{\\partial z}$$\n",
    "\n",
    "**This is what we have**\n",
    "\n",
    "$$\\frac{\\partial\\mathcal{L}}{\\partial q}=z, \\frac{\\partial\\mathcal{L}}{\\partial z}=q, \\frac{\\partial\\mathcal{q}}{\\partial x}=1, \\frac{\\partial\\mathcal{q}}{\\partial y}=1$$"
   ]
  },
  {
   "cell_type": "markdown",
   "metadata": {
    "slideshow": {
     "slide_type": "subslide"
    }
   },
   "source": [
    "# Backward Pass\n",
    "<div align='center'><img src=\"figs/dag_07.png\" width='37%' ></div>\n",
    "\n",
    "**This is what we wanted:**\n",
    "$$\\frac{\\partial\\mathcal{L}}{\\partial x},\\frac{\\partial\\mathcal{L}}{\\partial y},\\frac{\\partial\\mathcal{L}}{\\partial z}$$\n",
    "\n",
    "**This is what we have**\n",
    "\n",
    "$$\\frac{\\partial\\mathcal{L}}{\\partial q}=z, \\frac{\\partial\\mathcal{L}}{\\partial z}=q, \\frac{\\partial\\mathcal{q}}{\\partial x}=1, \\frac{\\partial\\mathcal{q}}{\\partial y}=1$$"
   ]
  },
  {
   "cell_type": "markdown",
   "metadata": {
    "slideshow": {
     "slide_type": "subslide"
    }
   },
   "source": [
    "# Check with our manual derivation ✅\n",
    "\n",
    "<div align='center'><img src=\"figs/dag_08.png\" width='37%' ></div>\n",
    "\n",
    "The high school way (as we did until now):\n",
    "\n",
    "$$\\frac{\\partial\\mathcal{L}(x,y,z)}{\\partial x} =  (\\mbf{x}z+yz)^{\\prime}=(\\mbf{x}z)^{\\prime}+(yz)^{\\prime} = z = -4$$\n",
    "$$\\frac{\\partial\\mathcal{L}(x,y,z)}{\\partial y} =  (xz+\\mbf{y}z)^{\\prime}=(xz)^{\\prime}+(\\mbf{y}z)^{\\prime} = z = -4$$\n",
    "$$\\frac{\\partial\\mathcal{L}(x,y,z)}{\\partial z} =  x+y = +3 $$"
   ]
  },
  {
   "cell_type": "markdown",
   "metadata": {
    "slideshow": {
     "slide_type": "subslide"
    }
   },
   "source": [
    "# You know what? I do not trust math, I want to verify with a machine ✅"
   ]
  },
  {
   "cell_type": "markdown",
   "metadata": {
    "slideshow": {
     "slide_type": "subslide"
    }
   },
   "source": [
    "# Pytorch check\n",
    "```python\n",
    "from torch import tensor\n",
    "def neural_net(x,y,z):\n",
    "    return (x+y)*z\n",
    "\n",
    "x, y, z = tensor(-2., requires_grad=True), tensor(5.,requires_grad=True), tensor(-4., requires_grad=True)\n",
    "loss = neural_net(x,y,z) # forward pass\n",
    "loss.backward()          # backward (after this I can check the gradients)\n",
    "for el in [x,y,z]:\n",
    "    print(el.grad)\n",
    "```\n",
    "```\n",
    "tensor(-4.)\n",
    "tensor(-4.)\n",
    "tensor(3.)\n",
    "```"
   ]
  },
  {
   "cell_type": "code",
   "execution_count": 12,
   "metadata": {
    "slideshow": {
     "slide_type": "skip"
    }
   },
   "outputs": [
    {
     "name": "stdout",
     "output_type": "stream",
     "text": [
      "tensor(-4.)\n",
      "tensor(-4.)\n",
      "tensor(3.)\n"
     ]
    }
   ],
   "source": [
    "from torch import tensor\n",
    "\n",
    "def neural_net(x,y,z):\n",
    "    loss = (x+y)*z\n",
    "    return loss\n",
    "\n",
    "x, y, z = tensor(-2., requires_grad=True), tensor(5.,requires_grad=True), tensor(-4., requires_grad=True)\n",
    "loss = neural_net(x,y,z) # forward pass\n",
    "\n",
    "loss.backward() #backward (ok now I can check the gradients)\n",
    "for el in [x,y,z]:\n",
    "    print(el.grad)"
   ]
  },
  {
   "cell_type": "markdown",
   "metadata": {
    "slideshow": {
     "slide_type": "subslide"
    }
   },
   "source": [
    "# General Recipe for Chain Rule over DAGs [Forward]\n",
    "\n",
    "**Just remember what you have to do at a generic gate:**\n",
    "\n",
    "\n",
    "<div align='center'><img src=\"figs/local_grad.png\" width='52%' ></div>"
   ]
  },
  {
   "cell_type": "markdown",
   "metadata": {
    "slideshow": {
     "slide_type": "subslide"
    }
   },
   "source": [
    "# General Recipe for Chain Rule over DAGs  [Backward]\n",
    "\n",
    "**Multiply the gradient that you receive with your local gradient**\n",
    "\n",
    "\n",
    "<div align='center'><img src=\"figs/local_grad_01.png\" width='52%' ></div>"
   ]
  },
  {
   "cell_type": "markdown",
   "metadata": {
    "slideshow": {
     "slide_type": "subslide"
    }
   },
   "source": [
    "# Logistic Regression Computational Graph could be simplified\n",
    "\n",
    "$$\n",
    "f(w, x)=\\frac{1}{1+e^{-\\left(w_{0} x_{0}+w_{1} x_{1}+b\\right)}}\n",
    "$$\n",
    "\n",
    "This is what implement the **Sigmoid Layer in Pytorch:**\n",
    "\n",
    "<div align='center'><img src=\"figs/dag_logistic_reg.png\" width='57%' ></div>\n"
   ]
  },
  {
   "cell_type": "markdown",
   "metadata": {
    "slideshow": {
     "slide_type": "subslide"
    }
   },
   "source": [
    "# Are we done with training neural nets?"
   ]
  },
  {
   "cell_type": "markdown",
   "metadata": {
    "slideshow": {
     "slide_type": "fragment"
    }
   },
   "source": [
    "# Not completely: till now scalars, but we have matrices and vectors!"
   ]
  },
  {
   "cell_type": "markdown",
   "metadata": {
    "slideshow": {
     "slide_type": "subslide"
    }
   },
   "source": [
    "# Now this looks more familiar\n",
    "\n",
    "$\\forall l \\in [1\\ldots,L]$:\n",
    "1. $\\mbf{W}^l \\leftarrow \\mbf{W}^l - \\gamma \\nabla_{\\mbf{W}^l}\\mathcal{L}(\\mbf{x},y;\\{\\mbf{W},b\\})$\n",
    "1. $\\mbf{b}^l \\leftarrow \\mbf{b}^l - \\gamma \\nabla_{\\mbf{b}^l}\\mathcal{L}(\\mbf{x},y;\\{\\mbf{W},b\\})$\n",
    "<br><br>\n",
    "<div align='center'><img src=\"figs/graph_01.png\" width='80%' ></div>"
   ]
  },
  {
   "cell_type": "markdown",
   "metadata": {
    "slideshow": {
     "slide_type": "subslide"
    }
   },
   "source": [
    "$$\\chain{\\mathcal{L}}{\\mbf{W}^1} = \\chain{\\loss}{\\mbf{z}}\\chain{\\mbf{z}}{\\mbf{W}^1}$$"
   ]
  },
  {
   "cell_type": "markdown",
   "metadata": {
    "slideshow": {
     "slide_type": "fragment"
    }
   },
   "source": [
    "$$\\chain{\\mathcal{L}}{\\mbf{W}^1} = \\chain{\\loss}{\\mbf{z}}\\underbrace{\\chain{\\mbf{z}}{\\sigma}\\chain{\\mbf{\\sigma}}{\\mbf{W}^1}}_{\\chain{\\mbf{z}}{\\mbf{W}^1}}$$"
   ]
  },
  {
   "cell_type": "markdown",
   "metadata": {
    "slideshow": {
     "slide_type": "fragment"
    }
   },
   "source": [
    "$$\\chain{\\mathcal{L}}{\\mbf{W}^1} = \\chain{\\loss}{\\mbf{z}}\\chain{\\mbf{z}}{\\sigma}\\underbrace{\\chain{\\mbf{\\sigma}}{\\mbf{h}}\\chain{\\mbf{h}}{\\mbf{W}^1}}_{\\chain{\\mbf{\\sigma}}{\\mbf{W}^1}}$$"
   ]
  },
  {
   "cell_type": "markdown",
   "metadata": {
    "slideshow": {
     "slide_type": "subslide"
    }
   },
   "source": [
    "# Backprop $\\loss$ to $\\mbf{W}_{ij}^{[1]}$\n",
    "\n",
    "<div align='center'><img src=\"figs/graph_02.png\" width='80%' ></div>"
   ]
  },
  {
   "cell_type": "markdown",
   "metadata": {
    "slideshow": {
     "slide_type": "slide"
    }
   },
   "source": [
    "# Natural Language Processing with Deep Learning"
   ]
  },
  {
   "cell_type": "markdown",
   "metadata": {
    "slideshow": {
     "slide_type": "subslide"
    }
   },
   "source": [
    "# NLP Task\n",
    "# Sentiment Analysis as a classification problem"
   ]
  },
  {
   "cell_type": "markdown",
   "metadata": {
    "slideshow": {
     "slide_type": "subslide"
    }
   },
   "source": [
    "# Sentiment Analysis\n",
    "\n",
    "- We focus on one common text **categorization task: sentiment analysis**. \n",
    "- The extraction of sentiment, the positive or negative orientation that a writer expresses toward some object\n",
    "\n",
    "> A review of a movie, book, or product on the web expresses the\n",
    "author’s sentiment toward the product, while an editorial or political text expresses\n",
    "sentiment toward a candidate or political action. Extracting consumer or public sentiment is thus relevant for fields from marketing to politics."
   ]
  },
  {
   "cell_type": "markdown",
   "metadata": {
    "slideshow": {
     "slide_type": "subslide"
    }
   },
   "source": [
    "# Sentiment Analysis\n",
    "\n",
    "<div align='center'><img src=\"figs/reviews.png\" width='45%' ></div>"
   ]
  },
  {
   "cell_type": "markdown",
   "metadata": {
    "slideshow": {
     "slide_type": "subslide"
    }
   },
   "source": [
    "# Sentiment Analysis: what we want\n",
    "<br>\n",
    "<div align='center'><img src=\"figs/sentiment_analysis.png\" width='80%' ></div>"
   ]
  },
  {
   "cell_type": "markdown",
   "metadata": {
    "slideshow": {
     "slide_type": "subslide"
    }
   },
   "source": [
    "# Sentiment Analysis: what we have\n",
    "<br>\n",
    "<div align='center'><img src=\"figs/sentiment_analysis_training.png\" width='60%' ></div>"
   ]
  },
  {
   "cell_type": "markdown",
   "metadata": {
    "cell_style": "split",
    "slideshow": {
     "slide_type": "subslide"
    }
   },
   "source": [
    "#  Feedforward Neural Net for Sentiment Analysis \n",
    "## w/ \"hand-designed features\"\n",
    "\n",
    "<br>\n",
    "$$\n",
    "\\begin{aligned}\n",
    "& \\mathbf{x}=\\left[\\mathbf{x}_1, \\mathbf{x}_2, \\ldots \\mathbf{x}_N\\right] \\quad\\left(\\text { each } \\mathbf{x}_i \\text { is a hand-designed feature }\\right)\\\\\n",
    "& \\mathbf{h}=\\boldsymbol{\\sigma}(\\mathbf{W} \\mathbf{x}+\\mathbf{b}) \\quad\\left(\\text{ hidden layer }\\right) \\\\\n",
    "& \\mathbf{z}=\\mathbf{U h} \\quad\\left(\\text{ classification layer }\\right) \\\\\n",
    "& \\hat{\\mathbf{y}}=\\operatorname{softmax}(\\mathbf{z})\n",
    "\\end{aligned}\n",
    "$$"
   ]
  },
  {
   "cell_type": "markdown",
   "metadata": {
    "cell_style": "split",
    "slideshow": {
     "slide_type": "-"
    }
   },
   "source": [
    "<div align='center'><img src=\"figs/sentiment_analysis_NN_01.png\" width='110%' ></div>"
   ]
  },
  {
   "cell_type": "markdown",
   "metadata": {
    "slideshow": {
     "slide_type": "subslide"
    }
   },
   "source": [
    "<div align='center'><img src=\"figs/sentiment_analysis_NN_01.png\" width='50%' ></div>"
   ]
  },
  {
   "cell_type": "markdown",
   "metadata": {
    "cell_style": "split",
    "slideshow": {
     "slide_type": "subslide"
    }
   },
   "source": [
    "#  Feedforward Neural Net for Sentiment Analysis \n",
    "## w/ word embeddings\n",
    "\n",
    "We **pool** all the embeddings across the $N$ word tokens we have, using arithmetic mean **(early fusion).**\n",
    "\n",
    "$$\n",
    "\\begin{aligned}\n",
    "& \\mathbf{x}=\\text{mean}\\left(\\mathbf{e}_1, \\mathbf{e}_2, \\ldots \\mathbf{e}_N\\right) \\quad\\left(\\text { each } \\mathbf{e}_i \\text { is a word2vec embedding}\\right) \\\\\n",
    "& \\mathbf{h}=\\boldsymbol{\\sigma}(\\mathbf{W} \\mathbf{x}+\\mathbf{b}) \\quad\\left(\\text{ hidden layer }\\right) \\\\\n",
    "& \\mathbf{z}=\\mathbf{U h} \\quad\\left(\\text{ classification layer }\\right) \\\\\n",
    "& \\hat{\\mathbf{y}}=\\operatorname{softmax}(\\mathbf{z})\n",
    "\\end{aligned}\n",
    "$$\n"
   ]
  },
  {
   "cell_type": "markdown",
   "metadata": {
    "cell_style": "split",
    "slideshow": {
     "slide_type": "-"
    }
   },
   "source": [
    "<br><br><br>\n",
    "<div align='center'><img src=\"figs/sentiment_analysis_NN_02.png\" width='120%' ></div>"
   ]
  },
  {
   "cell_type": "markdown",
   "metadata": {
    "slideshow": {
     "slide_type": "subslide"
    }
   },
   "source": [
    "# Pretraining\n",
    "\n",
    "Learning a representation on top of another is a very important concept which is related to **pretraining** in Deep Learning. \n",
    "You can think of two alternatives:\n",
    "- **Pretrain** word2vec (**offline**); then tune a 2 layer NN on top of them\n",
    "- **Pretrain** word2vec (**offline**) but also tune the word2vec embeddings as you train the 2 layer NN\n",
    "<div align='center'><img src=\"figs/sentiment_analysis_NN_02.png\" width='50%' ></div>\n"
   ]
  },
  {
   "cell_type": "markdown",
   "metadata": {
    "slideshow": {
     "slide_type": "subslide"
    }
   },
   "source": [
    "# NLP Task\n",
    "# Neural Language Model with Feedforward Neural Net\n",
    "\n",
    "<small>Bengio et al, 2003</small>"
   ]
  },
  {
   "cell_type": "markdown",
   "metadata": {
    "cell_style": "split",
    "slideshow": {
     "slide_type": "subslide"
    }
   },
   "source": [
    "# Neural Language Model (Pros)\n",
    "\n",
    "\n",
    "Neural language models can handle:\n",
    "- much longer histories, can generalize better over contexts of similar words and;\n",
    "- are more accurate at word-prediction. "
   ]
  },
  {
   "cell_type": "markdown",
   "metadata": {
    "cell_style": "split",
    "slideshow": {
     "slide_type": "fragment"
    }
   },
   "source": [
    "# Neural Language Model (Cons)\n",
    "\n",
    "On the other hand, neural net language models\n",
    "are:\n",
    "- much more complex, are slower and need more energy to train\n",
    "- are less interpretable than n-gram models"
   ]
  },
  {
   "cell_type": "markdown",
   "metadata": {
    "slideshow": {
     "slide_type": "subslide"
    }
   },
   "source": [
    "# Language Model (LM)\n",
    "\n",
    "**Language Modeling (LM)** is the task of predicting what word comes next:\n",
    "\n",
    "> the students opened their _________"
   ]
  },
  {
   "cell_type": "markdown",
   "metadata": {
    "slideshow": {
     "slide_type": "fragment"
    }
   },
   "source": [
    "books, laptops, exams, minds?"
   ]
  },
  {
   "cell_type": "markdown",
   "metadata": {
    "slideshow": {
     "slide_type": "subslide"
    }
   },
   "source": [
    "# Language Model (LM)\n",
    "More formally, given a sequence of words $w_1,\\ldots,w_t$, compute the probabilities distributions over the text words $w_{t+1}$ where the support of the probability is a vocabulary $V$.\n",
    "\n",
    "$$ p(w_{t+1}|w_t,\\ldots,w_1)$$\n",
    "\n",
    "where $w_{t+1}$ can be any word in $V = \\{w_1,\\ldots,w_{|V|}\\}$\n",
    "\n",
    "A system that does this is called a **Language Model**"
   ]
  },
  {
   "cell_type": "markdown",
   "metadata": {
    "slideshow": {
     "slide_type": "subslide"
    }
   },
   "source": [
    "# Language Model (LM)\n",
    "\n",
    "You can also think a LM as a **machinery that assign a probability to a piece of text of T words:**\n",
    "\n",
    "$$ p(w_t,\\ldots,w_1) = \\underbrace{p(w_t,\\ldots,w_2|w_1)}_{\\text{recursion}} \\cdot \\underbrace{p(w_1)}_{\\text{base case}}$$"
   ]
  },
  {
   "cell_type": "markdown",
   "metadata": {
    "slideshow": {
     "slide_type": "fragment"
    }
   },
   "source": [
    "$$ = p(w_t,\\ldots,w_2|w_1) \\cdot p(w_1) = p(w_t,\\ldots,w_3|w_1,w_2)\\cdot p(w_2|w_1) \\cdot p(w_1) $$"
   ]
  },
  {
   "cell_type": "markdown",
   "metadata": {
    "slideshow": {
     "slide_type": "fragment"
    }
   },
   "source": [
    "$$= p(w_t,\\ldots,w_3|w_1,w_2)\\cdot p(w_2|w_1) \\cdot p(w_1) = \\prod_{t=2}^N p(w_{t}|w_{t-1},\\ldots,w_1) \\cdot p(w_1)$$"
   ]
  },
  {
   "cell_type": "markdown",
   "metadata": {
    "slideshow": {
     "slide_type": "subslide"
    }
   },
   "source": [
    "# We use LM everyday!\n",
    "\n",
    "<div align='center'><img src=\"figs/swiftk_lm.png\" width='50%' ></div>"
   ]
  },
  {
   "cell_type": "markdown",
   "metadata": {
    "slideshow": {
     "slide_type": "subslide"
    }
   },
   "source": [
    "# We use LM everyday!\n",
    "\n",
    "<div align='center'><img src=\"figs/google_lm.png\" width='50%' ></div>"
   ]
  },
  {
   "cell_type": "markdown",
   "metadata": {
    "slideshow": {
     "slide_type": "subslide"
    }
   },
   "source": [
    "# Language Model: the order matters!\n",
    "\n",
    "> the cat is small\n",
    "\n",
    "| 0   | 1   | 2  | 3     |\n",
    "|-----|-----|----|-------|\n",
    "| the | cat | is | small |\n",
    "\n",
    "$$p(\\text{the}, \\text{cat}, \\text{is}, \\text{small}) = 0.035$$\n",
    "\n",
    ">small the is cat\n",
    "\n",
    "| 0     | 1   | 2   | 3  |\n",
    "|-------|-----|-----|----|\n",
    "| small | the | cat | is |\n",
    "\n",
    "$$p(\\text{small}, \\text{the}, \\text{cat}, \\text{is}) = 0.000001$$"
   ]
  },
  {
   "cell_type": "markdown",
   "metadata": {
    "slideshow": {
     "slide_type": "subslide"
    }
   },
   "source": [
    "# Language Model:  N-gram\n",
    "\n",
    "\n",
    "> the students opened their _________\n",
    "\n",
    "- unigrams: \"the\", \"students\", \"opened\", \"their\"\n",
    "- bigrams: \"the students\", \"students opened\", \"opened their\"\n",
    "- trigrams: \"the students opened\", \"students opened their\"\n",
    "- four-grams: \"the students opened their\"\n",
    "\n",
    "\\begin{equation} \\label{eq1}\n",
    "\\begin{split}\n",
    "p(\\text{the}|\\text{its water is so transparent that})=\\\\\n",
    "\\frac{\\text{count}(\\text{its water is so transparent that the})}{\\text{count}(\\text{its water is so transparent that)}}\n",
    "\\end{split}\n",
    "\\end{equation}"
   ]
  },
  {
   "cell_type": "markdown",
   "metadata": {
    "slideshow": {
     "slide_type": "subslide"
    }
   },
   "source": [
    "# Language Model:  N-gram problems\n",
    "\n",
    "As you increase the \"window\" of your context:\n",
    "\n",
    "1. ❌  Sparsity issue increases\n",
    "2. ❌  Storage problem increases\n",
    "\n",
    "**Neural LM** took over N-gram"
   ]
  },
  {
   "cell_type": "markdown",
   "metadata": {
    "slideshow": {
     "slide_type": "subslide"
    }
   },
   "source": [
    "# A fixed-window Neural LM\n",
    "\n",
    "- Like in N-gram, we consider only a portion of text $N$ **window or context size, not the entire text.**\n",
    "\n",
    "$$ p(w_{t+1}|w_t,\\ldots,w_1) \\approx p(w_{t+1}|w_t,\\ldots,w_{t-N})$$\n",
    "- Given the context we use a Feedforward NN to predict the next word (similarly to word2vec).\n",
    "\n",
    "> ~~As the proctor started the clock,~~ the students opened their ______________\n",
    "\n",
    "- Unlike N-gram, it uses **distributed representations**"
   ]
  },
  {
   "cell_type": "markdown",
   "metadata": {
    "slideshow": {
     "slide_type": "subslide"
    }
   },
   "source": [
    "# A fixed-window Neural LM\n",
    "\n",
    "<div align='center'><img src=\"figs/NL_01.png\" width='30%' ></div>"
   ]
  },
  {
   "cell_type": "markdown",
   "metadata": {
    "cell_style": "split",
    "slideshow": {
     "slide_type": "subslide"
    }
   },
   "source": [
    "# A fixed-window Neural LM\n",
    "\n",
    "<div align='center'><img src=\"figs/NL_math_00.png\" width='50%' ></div>"
   ]
  },
  {
   "cell_type": "markdown",
   "metadata": {
    "cell_style": "split",
    "slideshow": {
     "slide_type": "fragment"
    }
   },
   "source": [
    "<br><br><div align='center'><img src=\"figs/NL_01.png\" width='50%' ></div>"
   ]
  },
  {
   "cell_type": "markdown",
   "metadata": {
    "cell_style": "split",
    "slideshow": {
     "slide_type": "subslide"
    }
   },
   "source": [
    "# A fixed-window Neural LM\n",
    "\n",
    "✅ Improvements over n-gram LM \n",
    "- No sparsity problem\n",
    "- No need to store all observed n-grams!\n",
    "\n",
    "❌ Remaining problems:\n",
    "- Fixed window is too small\n",
    "- Enlarging window enlarges $\\mbf{W}$\n",
    "- Window can never be large enough!\n",
    "- No symmetry in how the inputs are processed."
   ]
  },
  {
   "cell_type": "markdown",
   "metadata": {
    "cell_style": "split",
    "slideshow": {
     "slide_type": "fragment"
    }
   },
   "source": [
    "<br><br><div align='center'><img src=\"figs/NL_01.png\" width='50%' ></div>"
   ]
  },
  {
   "cell_type": "markdown",
   "metadata": {
    "slideshow": {
     "slide_type": "subslide"
    }
   },
   "source": [
    "# A fixed-window Neural LM: \n",
    "\n",
    "<br><div align='center'><img src=\"figs/bengio_2003_00.png\" width='50%' ></div>"
   ]
  },
  {
   "cell_type": "markdown",
   "metadata": {
    "slideshow": {
     "slide_type": "subslide"
    }
   },
   "source": [
    "# A fixed-window Neural LM: \n",
    "<br><div align='center'><img src=\"figs/bengio_2003_01.png\" width='60%' ></div>"
   ]
  },
  {
   "cell_type": "markdown",
   "metadata": {
    "slideshow": {
     "slide_type": "subslide"
    }
   },
   "source": [
    "# Training the Neural LM: sliding window\n",
    "\n",
    "<br><div align='center'><img src=\"figs/NL_03.png\" width='50%' ></div>"
   ]
  },
  {
   "cell_type": "markdown",
   "metadata": {
    "slideshow": {
     "slide_type": "subslide"
    }
   },
   "source": [
    "# A fixed-window Neural LM: What we need to move forward\n",
    "\n",
    "- An architecture that can process **any arbitrary length of context**\n",
    "- **Handle word order in a better way** than concatenating embeddings."
   ]
  },
  {
   "cell_type": "markdown",
   "metadata": {
    "slideshow": {
     "slide_type": "subslide"
    }
   },
   "source": [
    "# Appendix on Deep Learning"
   ]
  },
  {
   "cell_type": "markdown",
   "metadata": {
    "cell_style": "split",
    "slideshow": {
     "slide_type": "subslide"
    }
   },
   "source": [
    "# Gradient Descent or Batch GD\n",
    "\n",
    "- Compute the gradient of the loss wrt to params for **all $n$ training samples**\n",
    "- $\\bmf{\\theta} -\\gamma \\sum_{i=1}^n \\bmf{\\nabla}_{\\bmf{\\theta}}\\mathcal{J}(\\mbf{\\theta};\\mbf{x}_i,y_i)$"
   ]
  },
  {
   "cell_type": "markdown",
   "metadata": {
    "cell_style": "split",
    "slideshow": {
     "slide_type": "fragment"
    }
   },
   "source": [
    "# Stochastic Gradient Descent or SGD\n",
    "\n",
    "- Compute the gradient of the loss wrt to params for **a single random training samples**\n",
    "- $\\bmf{\\theta} -\\gamma \\bmf{\\nabla}_{\\bmf{\\theta}}\\mathcal{J}(\\mbf{\\theta};\\mbf{x}_i,y_i)$"
   ]
  },
  {
   "cell_type": "markdown",
   "metadata": {
    "slideshow": {
     "slide_type": "subslide"
    }
   },
   "source": [
    "# How to optimize a Neural Net - SGD over mini-batches\n",
    "\n",
    "\n",
    "1. In-between Batch GD and SGD with a single sample\n",
    "2. We load randomly $k$ samples over the $n$; usually $k$ is a power of 2.\n",
    "    - mini batch of `32, 64, 128` but could also be `100`\n",
    "3. $\\bmf{\\theta} -\\gamma \\sum_{i=1}^k \\bmf{\\nabla}_{\\bmf{\\theta}}\\mathcal{J}(\\mbf{\\theta};\\mbf{x}_i,y_i)$\n",
    "4. Practically you take your training set $\\mathcal{X}$ and you **shuffle** it, then go over it $k$ by $k$. _Simulate uniform random sampling without replacement._\n",
    "    - When the list is over, re-start and shuffle again.\n",
    "5. When you have perfomed a full pass on the shuffled data, this is called an **EPOCH**\n",
    "6. You can train NN over iterations or over **EPOCHS**"
   ]
  },
  {
   "cell_type": "markdown",
   "metadata": {
    "slideshow": {
     "slide_type": "subslide"
    }
   },
   "source": [
    "# Training scheme Pseudo-code\n",
    "\n",
    "```python\n",
    "from random import shuffle\n",
    "training = list(range(1,11)) # each index points to a training sample, could be a matrix x=HxWx3, label y\n",
    "shuffle(training)\n",
    "converge, it, max_it, k, epoch = False, 0, 100, 3, 0\n",
    "while not converge and it < max_it: # you training convergence scheme\n",
    "    print(f'[Epoch {epoch}]')\n",
    "    for b in range(0, len(training), k): # Data Loader gives you a batch k x matrices\n",
    "        mini_batch = training[b:b+k] # so mini-batch is a tensor HxWx3xk\n",
    "        if len(mini_batch) != k: # a possible way of handling the offset\n",
    "            continue\n",
    "        print('SGD step taken over', mini_batch) # compute the loss/gradients and upate your model\n",
    "        loss.backward()  # get the gradients\n",
    "        optimizer.step() # incorporate in the model\n",
    "        # check convergence and set it to True\n",
    "        it += 1\n",
    "    epoch += 1 # an epoch is done, we reshuffle the training set\n",
    "    shuffle(training)\n",
    "```"
   ]
  },
  {
   "cell_type": "markdown",
   "metadata": {
    "slideshow": {
     "slide_type": "subslide"
    }
   },
   "source": [
    "```python\n",
    "> Original unshuffled training set [1, 2, 3, 4, 5, 6, 7, 8, 9, 10]\n",
    "> Training set [10, 8, 1, 2, 6, 4, 9, 7, 5, 3]\n",
    "[Epoch 0]\n",
    "SGD step taken over [10, 8, 1]\n",
    "SGD step taken over [2, 6, 4]\n",
    "SGD step taken over [9, 7, 5]\n",
    "> Training set [1, 10, 6, 9, 3, 7, 8, 4, 5, 2]\n",
    "[Epoch 1]\n",
    "SGD step taken over [1, 10, 6]\n",
    "SGD step taken over [9, 3, 7]\n",
    "SGD step taken over [8, 4, 5]\n",
    "> Training set [6, 3, 10, 5, 9, 8, 4, 7, 2, 1]\n",
    "[Epoch 2]\n",
    "SGD step taken over [6, 3, 10]\n",
    "SGD step taken over [5, 9, 8]\n",
    "SGD step taken over [4, 7, 2]\n",
    "> Training set [1, 2, 5, 10, 6, 7, 9, 8, 3, 4]\n",
    "[Epoch 3]\n",
    "SGD step taken over [1, 2, 5]\n",
    "SGD step taken over [10, 6, 7]\n",
    "SGD step taken over [9, 8, 3]\n",
    "> Training set [2, 3, 1, 9, 6, 8, 4, 10, 7, 5]\n",
    "[Epoch 4]\n",
    "```"
   ]
  },
  {
   "cell_type": "markdown",
   "metadata": {
    "slideshow": {
     "slide_type": "subslide"
    }
   },
   "source": [
    "# Images - Mini-batch is a tensor `HxWx3xk`\n",
    "### as an example with RGB images of size $H\\times W$, you have a tensor that contains $k$ images in the mini-batch"
   ]
  },
  {
   "cell_type": "markdown",
   "metadata": {
    "slideshow": {
     "slide_type": "subslide"
    }
   },
   "source": [
    "# Video Frames - Mini-batch is a tensor `HxWx3xtxk` \n",
    "### as set of frames from a video, you have a tensor that contains $k$ frames over $t$ time instants of the videos in the mini-batch\n"
   ]
  },
  {
   "cell_type": "code",
   "execution_count": 13,
   "metadata": {
    "slideshow": {
     "slide_type": "skip"
    }
   },
   "outputs": [
    {
     "name": "stdout",
     "output_type": "stream",
     "text": [
      "> Training set [2, 7, 9, 1, 4, 8, 6, 10, 3, 5]\n",
      "[Epoch 0]\n",
      "SGD step taken over [2, 7, 9]\n",
      "SGD step taken over [1, 4, 8]\n",
      "SGD step taken over [6, 10, 3]\n",
      "> Training set [10, 4, 8, 6, 7, 9, 3, 2, 1, 5]\n",
      "[Epoch 1]\n",
      "SGD step taken over [10, 4, 8]\n",
      "SGD step taken over [6, 7, 9]\n",
      "SGD step taken over [3, 2, 1]\n",
      "> Training set [7, 1, 10, 8, 9, 3, 5, 4, 6, 2]\n",
      "[Epoch 2]\n",
      "SGD step taken over [7, 1, 10]\n",
      "SGD step taken over [8, 9, 3]\n",
      "SGD step taken over [5, 4, 6]\n",
      "> Training set [2, 10, 5, 8, 7, 9, 6, 4, 3, 1]\n",
      "[Epoch 3]\n",
      "SGD step taken over [2, 10, 5]\n",
      "SGD step taken over [8, 7, 9]\n",
      "SGD step taken over [6, 4, 3]\n",
      "> Training set [8, 6, 1, 7, 3, 9, 4, 2, 10, 5]\n",
      "[Epoch 4]\n",
      "SGD step taken over [8, 6, 1]\n",
      "SGD step taken over [7, 3, 9]\n",
      "SGD step taken over [4, 2, 10]\n",
      "> Training set [8, 5, 7, 4, 2, 3, 6, 1, 10, 9]\n",
      "[Epoch 5]\n",
      "SGD step taken over [8, 5, 7]\n",
      "SGD step taken over [4, 2, 3]\n",
      "SGD step taken over [6, 1, 10]\n",
      "> Training set [9, 1, 8, 7, 2, 3, 10, 6, 4, 5]\n",
      "[Epoch 6]\n",
      "SGD step taken over [9, 1, 8]\n",
      "SGD step taken over [7, 2, 3]\n",
      "SGD step taken over [10, 6, 4]\n",
      "> Training set [1, 10, 2, 6, 3, 9, 8, 4, 5, 7]\n",
      "[Epoch 7]\n",
      "SGD step taken over [1, 10, 2]\n",
      "SGD step taken over [6, 3, 9]\n",
      "SGD step taken over [8, 4, 5]\n",
      "> Training set [5, 2, 3, 6, 7, 1, 4, 10, 9, 8]\n",
      "[Epoch 8]\n",
      "SGD step taken over [5, 2, 3]\n",
      "SGD step taken over [6, 7, 1]\n",
      "SGD step taken over [4, 10, 9]\n",
      "> Training set [7, 1, 5, 4, 3, 8, 10, 9, 6, 2]\n",
      "[Epoch 9]\n",
      "SGD step taken over [7, 1, 5]\n",
      "SGD step taken over [4, 3, 8]\n",
      "SGD step taken over [10, 9, 6]\n",
      "> Training set [5, 6, 10, 4, 2, 8, 1, 7, 3, 9]\n",
      "[Epoch 10]\n",
      "SGD step taken over [5, 6, 10]\n",
      "SGD step taken over [4, 2, 8]\n",
      "SGD step taken over [1, 7, 3]\n",
      "> Training set [5, 3, 1, 10, 7, 9, 6, 4, 2, 8]\n",
      "[Epoch 11]\n",
      "SGD step taken over [5, 3, 1]\n",
      "SGD step taken over [10, 7, 9]\n",
      "SGD step taken over [6, 4, 2]\n",
      "> Training set [8, 4, 9, 6, 2, 5, 10, 1, 7, 3]\n",
      "[Epoch 12]\n",
      "SGD step taken over [8, 4, 9]\n",
      "SGD step taken over [6, 2, 5]\n",
      "SGD step taken over [10, 1, 7]\n",
      "> Training set [9, 8, 3, 4, 6, 10, 5, 1, 2, 7]\n",
      "[Epoch 13]\n",
      "SGD step taken over [9, 8, 3]\n",
      "SGD step taken over [4, 6, 10]\n",
      "SGD step taken over [5, 1, 2]\n",
      "> Training set [1, 10, 9, 2, 3, 7, 8, 6, 5, 4]\n",
      "[Epoch 14]\n",
      "SGD step taken over [1, 10, 9]\n",
      "SGD step taken over [2, 3, 7]\n",
      "SGD step taken over [8, 6, 5]\n",
      "> Training set [4, 5, 3, 2, 6, 1, 10, 8, 9, 7]\n",
      "[Epoch 15]\n",
      "SGD step taken over [4, 5, 3]\n",
      "SGD step taken over [2, 6, 1]\n",
      "SGD step taken over [10, 8, 9]\n",
      "> Training set [3, 4, 6, 8, 1, 10, 9, 5, 2, 7]\n",
      "[Epoch 16]\n",
      "SGD step taken over [3, 4, 6]\n",
      "SGD step taken over [8, 1, 10]\n",
      "SGD step taken over [9, 5, 2]\n",
      "> Training set [1, 5, 8, 6, 2, 4, 7, 10, 9, 3]\n",
      "[Epoch 17]\n",
      "SGD step taken over [1, 5, 8]\n",
      "SGD step taken over [6, 2, 4]\n",
      "SGD step taken over [7, 10, 9]\n",
      "> Training set [6, 5, 9, 10, 7, 1, 2, 4, 8, 3]\n",
      "[Epoch 18]\n",
      "SGD step taken over [6, 5, 9]\n",
      "SGD step taken over [10, 7, 1]\n",
      "SGD step taken over [2, 4, 8]\n",
      "> Training set [3, 1, 10, 9, 5, 7, 6, 2, 8, 4]\n",
      "[Epoch 19]\n",
      "SGD step taken over [3, 1, 10]\n",
      "SGD step taken over [9, 5, 7]\n",
      "SGD step taken over [6, 2, 8]\n",
      "> Training set [3, 8, 6, 7, 5, 10, 9, 1, 4, 2]\n",
      "[Epoch 20]\n",
      "SGD step taken over [3, 8, 6]\n",
      "SGD step taken over [7, 5, 10]\n",
      "SGD step taken over [9, 1, 4]\n",
      "> Training set [8, 1, 9, 5, 2, 7, 10, 4, 6, 3]\n",
      "[Epoch 21]\n",
      "SGD step taken over [8, 1, 9]\n",
      "SGD step taken over [5, 2, 7]\n",
      "SGD step taken over [10, 4, 6]\n",
      "> Training set [2, 8, 3, 5, 4, 9, 7, 10, 6, 1]\n",
      "[Epoch 22]\n",
      "SGD step taken over [2, 8, 3]\n",
      "SGD step taken over [5, 4, 9]\n",
      "SGD step taken over [7, 10, 6]\n",
      "> Training set [5, 9, 10, 8, 2, 7, 6, 1, 4, 3]\n",
      "[Epoch 23]\n",
      "SGD step taken over [5, 9, 10]\n",
      "SGD step taken over [8, 2, 7]\n",
      "SGD step taken over [6, 1, 4]\n",
      "> Training set [10, 4, 6, 8, 2, 5, 7, 1, 3, 9]\n",
      "[Epoch 24]\n",
      "SGD step taken over [10, 4, 6]\n",
      "SGD step taken over [8, 2, 5]\n",
      "SGD step taken over [7, 1, 3]\n",
      "> Training set [8, 7, 5, 1, 4, 3, 9, 6, 10, 2]\n",
      "[Epoch 25]\n",
      "SGD step taken over [8, 7, 5]\n",
      "SGD step taken over [1, 4, 3]\n",
      "SGD step taken over [9, 6, 10]\n",
      "> Training set [7, 1, 3, 4, 9, 5, 6, 8, 2, 10]\n",
      "[Epoch 26]\n",
      "SGD step taken over [7, 1, 3]\n",
      "SGD step taken over [4, 9, 5]\n",
      "SGD step taken over [6, 8, 2]\n",
      "> Training set [5, 3, 4, 6, 10, 8, 1, 7, 9, 2]\n",
      "[Epoch 27]\n",
      "SGD step taken over [5, 3, 4]\n",
      "SGD step taken over [6, 10, 8]\n",
      "SGD step taken over [1, 7, 9]\n",
      "> Training set [4, 1, 8, 3, 9, 6, 2, 7, 10, 5]\n",
      "[Epoch 28]\n",
      "SGD step taken over [4, 1, 8]\n",
      "SGD step taken over [3, 9, 6]\n",
      "SGD step taken over [2, 7, 10]\n",
      "> Training set [9, 4, 10, 3, 7, 1, 5, 6, 8, 2]\n",
      "[Epoch 29]\n",
      "SGD step taken over [9, 4, 10]\n",
      "SGD step taken over [3, 7, 1]\n",
      "SGD step taken over [5, 6, 8]\n",
      "> Training set [3, 6, 2, 8, 10, 4, 9, 1, 7, 5]\n",
      "[Epoch 30]\n",
      "SGD step taken over [3, 6, 2]\n",
      "SGD step taken over [8, 10, 4]\n",
      "SGD step taken over [9, 1, 7]\n",
      "> Training set [3, 2, 4, 10, 1, 5, 8, 9, 6, 7]\n",
      "[Epoch 31]\n",
      "SGD step taken over [3, 2, 4]\n",
      "SGD step taken over [10, 1, 5]\n",
      "SGD step taken over [8, 9, 6]\n",
      "> Training set [6, 10, 1, 4, 3, 8, 9, 7, 2, 5]\n",
      "[Epoch 32]\n",
      "SGD step taken over [6, 10, 1]\n",
      "SGD step taken over [4, 3, 8]\n",
      "SGD step taken over [9, 7, 2]\n",
      "> Training set [4, 8, 2, 7, 3, 10, 5, 9, 1, 6]\n",
      "[Epoch 33]\n",
      "SGD step taken over [4, 8, 2]\n",
      "SGD step taken over [7, 3, 10]\n",
      "SGD step taken over [5, 9, 1]\n",
      "> Training set [9, 7, 1, 4, 8, 5, 2, 3, 6, 10]\n"
     ]
    }
   ],
   "source": [
    "from random import shuffle\n",
    "training = list(range(1,11))\n",
    "shuffle(training)\n",
    "print('> Training set', training)\n",
    "converge, it, max_it, k, epoch = False, 0, 100, 3, 0\n",
    "while not converge and it < max_it: # you training converge scheme\n",
    "    print(f'[Epoch {epoch}]')\n",
    "    for b in range(0, len(training), k): # Data Loader\n",
    "        mini_batch = training[b:b+k]\n",
    "        if len(mini_batch) != k:\n",
    "            continue\n",
    "        print('SGD step taken over', mini_batch) # compute the loss and upate your model\n",
    "        it += 1\n",
    "    epoch += 1 # epoch is done we reshuffle the training set\n",
    "    shuffle(training)\n",
    "    print('> Training set', training)"
   ]
  },
  {
   "cell_type": "markdown",
   "metadata": {
    "slideshow": {
     "slide_type": "subslide"
    }
   },
   "source": [
    "# 1) SGD over mini-batches\n",
    "\n",
    "\n",
    "1. **<ins>Initialization - Very Important if the function is not strictly convex</ins>** \n",
    "$$\\bmf{\\theta} \\sim \\mathcal{N}(\\cdot)~~~\\text{omit details for now}$$ With NN random initialization from a distribution (There are different methods). **We do not set them all to zero**\n",
    "2. Repeat until **convergence**:\n",
    "    - Compute the gradient of the loss wrt to the parameters $\\bmf{\\theta}$ given **the mini-batch**\n",
    "    - Take a small step in the opposite direction of steepest ascent **(so steepest descent).**<br/><br/>\n",
    "     $$\\bmf{\\theta} \\leftarrow  \\bmf{\\theta} -\\sum_{i=1}^k \\gamma \\bmf{\\nabla}_{\\bmf{\\theta}}\\mathcal{J}(\\mbf{\\theta};\\mbf{x},y)$$\n",
    "3. When convergence is reached, you final estimate is in $\\bmf{\\theta}$"
   ]
  },
  {
   "cell_type": "markdown",
   "metadata": {
    "slideshow": {
     "slide_type": "subslide"
    }
   },
   "source": [
    "# Change of vocabulary - A bunch of training samples is a mini-batch\n",
    "\n",
    "- We train NN **Stochastic Gradient Descent** over mini-batches with momentum (or variations thereof)\n",
    "- When you train NN you 'sample' a mini-batch $\\mbf{X}_b$ from your big dataset $\\mbf{X}$.\n",
    "\n",
    "\n",
    "Below this holds for the final linear layer:\n",
    "$$ \\underbrace{\\mbf{Y}}_{\\mathbb{R}^{Kxn}} = \\underbrace{\\mbf{W}}_{\\mathbb{R}^{K\\times d}}\\underbrace{\\mbf{X}_b}_{\\mathbb{R}^{d\\times n}} + \\underbrace{\\mbf{b}}_{\\mathbb{R}^K}$$"
   ]
  },
  {
   "cell_type": "markdown",
   "metadata": {
    "slideshow": {
     "slide_type": "subslide"
    }
   },
   "source": [
    "# Mini-Batch, Visually\n",
    "<br>\n",
    "<div align='center'><img src=\"figs/batch_SGD_01.png\" width='75%' ></div>"
   ]
  },
  {
   "cell_type": "markdown",
   "metadata": {
    "slideshow": {
     "slide_type": "subslide"
    }
   },
   "source": [
    "# Mini-Batch SGD vs ~~[Batch]~~ GD\n",
    "\n",
    "Loss in NN in **non-convex** with lots of local-minima so stochasticity adds noise that let the optmization escape from local minima.\n",
    "\n",
    "<div align='center'><img src=\"figs/batch_SGD_02.png\" width='75%' ></div>"
   ]
  },
  {
   "cell_type": "markdown",
   "metadata": {
    "slideshow": {
     "slide_type": "subslide"
    }
   },
   "source": [
    "# Mini-batch is a sort of smoothing of the single point SGD"
   ]
  },
  {
   "cell_type": "markdown",
   "metadata": {
    "slideshow": {
     "slide_type": "subslide"
    }
   },
   "source": [
    "# There is another smoothing technique: Momentum"
   ]
  },
  {
   "cell_type": "markdown",
   "metadata": {
    "slideshow": {
     "slide_type": "subslide"
    }
   },
   "source": [
    "**Top:** SGD: **Bottom:** SGD with momentum increasing memory of previous steps\n",
    "<div align='center'><img src=\"figs/batch_SGD_03.png\" width='65%' ></div>"
   ]
  },
  {
   "cell_type": "markdown",
   "metadata": {
    "slideshow": {
     "slide_type": "subslide"
    }
   },
   "source": [
    "# SGD over mini-batches with Momentum\n",
    "\n",
    "- We introduce an additional term **to remember what happened to the gradient in the\n",
    "previous iteration.** \n",
    "- This memory dampens oscillations and smoothes out the gradient updates.\n",
    "- The memory is implemented with a **exponential moving average**\n",
    "- Usualy $\\alpha$ (the memory param) is set to $0.9$, is a good value.\n",
    "\n",
    "\n",
    "$$\\bmf{\\Delta}_{t} = \\alpha\\bmf{\\Delta}_{t-1} + (1-\\alpha)\\underbrace{\\sum_{i=1}^k\\bmf{\\nabla}_{\\bmf{\\theta}}\\mathcal{J}(\\mbf{\\theta};\\mbf{x}_i,y_i)}_{\\text{new update}}$$\n",
    "\n",
    " $$\\bmf{\\theta} \\leftarrow  \\bmf{\\theta} - \\gamma \\bmf{\\Delta}_{t}$$"
   ]
  },
  {
   "cell_type": "markdown",
   "metadata": {
    "slideshow": {
     "slide_type": "subslide"
    }
   },
   "source": [
    "# SGD over mini-batches with Momentum\n",
    "\n",
    "\n",
    "1. **Initialization - Very Important if the function is not strictly convex** \n",
    "$$\\bmf{\\theta} \\sim \\mathcal{N}~~~\\text{omit details}$$ With NN random initialization from a distribution (There are different methods). **We do not set them all to zero**\n",
    "2. Repeat until **convergence**:\n",
    "    - Compute the gradient of the loss wrt to the parameters $\\bmf{\\theta}$ given **the mini-batch**\n",
    "    - Take a small step in the opposite direction of steepest ascent **(so steepest descent).**<br/><br/>\n",
    "$$\\bmf{\\Delta}_{t+1} = \\alpha\\bmf{\\Delta}_{t} + (1-\\alpha)\\underbrace{\\sum_{i=1}^k\\bmf{\\nabla}_{\\bmf{\\theta}}\\mathcal{J}(\\mbf{\\theta};\\mbf{x}_i,y_i)}_{\\text{new update}}$$\n",
    "\n",
    " $$\\bmf{\\theta} \\leftarrow  \\bmf{\\theta} - \\gamma \\bmf{\\Delta}_{t+1}$$\n",
    "3. When convergence is reached (or **EARLY STOPPING**), you final estimate is in $\\bmf{\\theta}$"
   ]
  },
  {
   "cell_type": "markdown",
   "metadata": {
    "slideshow": {
     "slide_type": "subslide"
    }
   },
   "source": [
    "# Loss Surface for Linear Regression $\\ell_2^2$ loss with $d=2$ parameters in $\\bmf{\\theta}$\n",
    "\n",
    "<div align='center'><img src=\"figs/loss.png\" width='50%' ></div>"
   ]
  },
  {
   "cell_type": "markdown",
   "metadata": {
    "slideshow": {
     "slide_type": "subslide"
    }
   },
   "source": [
    "# With Deep Learning optimization is highly non-convex and #params explode!"
   ]
  },
  {
   "cell_type": "markdown",
   "metadata": {
    "slideshow": {
     "slide_type": "subslide"
    }
   },
   "source": [
    "# Loss Surface for ResNet-20 with no skip connection on ImageNet\n",
    "\n",
    "## ResNet-20, number of parameters $\\bmf{\\theta}$ of the order of.....millions!\n",
    "## GPT-3 (LM behind chatpGPT) has 150 billions parameters\n",
    "\n",
    "Visualization of mode connectivity for ResNet-20 with no skip connections on ImageNet dataset. The visualization by Javier Ideami\n",
    "\n",
    "<center><img src=https://izmailovpavel.github.io/curves_blogpost/images/image34.jpg width='50%'/></center>\n",
    "\n",
    "Taken from [https://izmailovpavel.github.io/curves_blogpost/](https://izmailovpavel.github.io/curves_blogpost/)\n",
    "\n",
    "[Video for the curious student](https://www.youtube.com/watch?time_continue=5&v=dqX2LBcp5Hs&feature=emb_title)\n"
   ]
  },
  {
   "cell_type": "markdown",
   "metadata": {
    "slideshow": {
     "slide_type": "subslide"
    }
   },
   "source": [
    "# Learning rate is very important\n",
    "<br><br>\n",
    "<center><img src=https://github.com/jermwatt/machine_learning_refined/blob/gh-pages/html/gifs/steplength_1D.gif?raw=true width='85%'/></center>"
   ]
  },
  {
   "cell_type": "markdown",
   "metadata": {
    "slideshow": {
     "slide_type": "subslide"
    }
   },
   "source": [
    "# Babysitting the training process\n",
    "### Loss in function of epochs\n",
    "\n",
    "<div align='center'><img src=\"figs/loss_types.png\" width='35%' ></div>"
   ]
  },
  {
   "cell_type": "markdown",
   "metadata": {
    "slideshow": {
     "slide_type": "subslide"
    }
   },
   "source": [
    "# Valleys, Hills, Noisy Surface\n",
    "<br>\n",
    "<center><img src=https://izmailovpavel.github.io/curves_blogpost/images/image1.jpg width='80%'/></center>"
   ]
  },
  {
   "cell_type": "markdown",
   "metadata": {
    "slideshow": {
     "slide_type": "subslide"
    }
   },
   "source": [
    "# Dynamics  of Training\n",
    "\n",
    "<center><img src='http://2.bp.blogspot.com/-q6l20Vs4P_w/VPmIC7sEhnI/AAAAAAAACC4/g3UOUX2r_yA/s400/s25RsOr%2B-%2BImgur.gif' width='30%'><center/>\n",
    "    \n",
    "_**Noisy moons**: This is logistic regression on noisy moons dataset from sklearn which shows the smoothing effects of momentum based techniques (which also results in over shooting and correction). The error surface is visualized as an average over the whole dataset empirically, but the trajectories show the dynamics of minibatches on noisy data. The bottom chart is an accuracy plot._\n",
    "    \n",
    "[taken from here](http://www.denizyuret.com/2015/03/alec-radfords-animations-for.html)"
   ]
  },
  {
   "cell_type": "markdown",
   "metadata": {
    "slideshow": {
     "slide_type": "subslide"
    }
   },
   "source": [
    "# Dynamics  of Training\n",
    "\n",
    "<center><img src='http://3.bp.blogspot.com/-nrtJPrdBWuE/VPmIB46F2aI/AAAAAAAACCw/vaE_B0SVy5k/s400/Long%2BValley%2B-%2BImgur.gif' width='30%'><center/>\n",
    "   \n",
    "_**Long valley**: Algos without scaling based on gradient information really struggle to break symmetry here - SGD gets no where and Nesterov Accelerated Gradient / Momentum exhibits oscillations until they build up velocity in the optimization direction. Algos that scale step size based on the gradient quickly break symmetry and begin descent._"
   ]
  },
  {
   "cell_type": "markdown",
   "metadata": {
    "slideshow": {
     "slide_type": "subslide"
    }
   },
   "source": [
    "# Just to give you an hint on where the community is headed with Deep Learning"
   ]
  },
  {
   "cell_type": "markdown",
   "metadata": {
    "slideshow": {
     "slide_type": "subslide"
    }
   },
   "source": [
    "# DALL-E OpenAI (January 2021)\n",
    "<br>\n",
    "<div align='center'><img src=\"figs/dalle.png\" width='85%' ></div>"
   ]
  },
  {
   "cell_type": "markdown",
   "metadata": {
    "slideshow": {
     "slide_type": "subslide"
    }
   },
   "source": [
    "# DALL-E OpenAI \n",
    "\n",
    "<div align='center'><img src=\"figs/dalle2.png\" width='85%' ></div>"
   ]
  },
  {
   "cell_type": "markdown",
   "metadata": {
    "slideshow": {
     "slide_type": "subslide"
    }
   },
   "source": [
    "# OpenAI DALL-E - 12-billion parameters trained with self-supervision\n",
    "\n",
    "Yikes! $12\\times 10^9$ floating points parameters to train\n",
    "\n",
    "> DALL·E is a **12-billion parameter** version of GPT-3 trained to generate images from text descriptions, using a dataset of text–image pairs. We’ve found that it has a diverse set of capabilities, including creating anthropomorphized versions of animals and objects, combining unrelated concepts in plausible ways, rendering text, and applying transformations to existing images."
   ]
  },
  {
   "cell_type": "markdown",
   "metadata": {
    "slideshow": {
     "slide_type": "subslide"
    }
   },
   "source": [
    "### ~~0) Quick Intro to Optimization in Deep Learning~~\n",
    "### 1) Network Structure: Multi-Layer Perceptron (MLP) is a Fully-Connected Neural Net\n",
    "### 2) Backpropagation "
   ]
  },
  {
   "cell_type": "markdown",
   "metadata": {
    "slideshow": {
     "slide_type": "slide"
    }
   },
   "source": [
    "# 1) Network Structure: Multi-Layer Perceptron (MLP) \n",
    "# is a Fully-Connected Neural Net"
   ]
  },
  {
   "cell_type": "markdown",
   "metadata": {
    "slideshow": {
     "slide_type": "subslide"
    }
   },
   "source": [
    "# Networks and Topics that we do NOT cover\n",
    "\n",
    "You will meet them at **Deep Learning** course\n",
    "\n",
    "- **Convolutional** Neural Nets (good for images or any matrix data like as input)\n",
    "- Generative Adversarial Networks **(GAN)** and adversarial training\n",
    "- AutoEncoders or Variational Autoencoders\n",
    "- Adversarial Attacks to NN"
   ]
  },
  {
   "cell_type": "markdown",
   "metadata": {
    "slideshow": {
     "slide_type": "subslide"
    }
   },
   "source": [
    "# Networks and Topics we will cover\n",
    "\n",
    "- Brief Recap on Feedforward NN\n",
    "- Recurrent Neural Nets (RNN such as GRU, LSTM)\n",
    "- Transformer Networks\n",
    "- BERT, GPT-3"
   ]
  },
  {
   "cell_type": "markdown",
   "metadata": {
    "slideshow": {
     "slide_type": "subslide"
    }
   },
   "source": [
    "# Let's go back to single layer, linear soft-max regression or \"linear\" neural network"
   ]
  },
  {
   "cell_type": "markdown",
   "metadata": {
    "slideshow": {
     "slide_type": "subslide"
    }
   },
   "source": [
    "# Let's recall last classification layer of a neural net as pipeline\n",
    "## $\\mbf{x} \\implies \\mbf{z}= \\mbf{W}\\mbf{x} + \\mbf{b} \\implies e^{\\mbf{z}}  \\implies \\mbf{p} = \\frac{e^{\\mbf{z}}}{\\sum_k e^{\\mbf{z}}} \\implies -\\ln(\\mbf{p}_y) $"
   ]
  },
  {
   "cell_type": "markdown",
   "metadata": {
    "slideshow": {
     "slide_type": "subslide"
    }
   },
   "source": [
    "# word2vec with Skip-Gram at a glance\n",
    "\n",
    "... and why it can be seen as a tiny neural net.\n",
    "\n",
    "<div align='center'><img src=\"figs/word2vec_layers.png\" width='65%' ></div>"
   ]
  },
  {
   "cell_type": "markdown",
   "metadata": {
    "slideshow": {
     "slide_type": "subslide"
    }
   },
   "source": [
    "# Representation of a Single Layer\n",
    "\n",
    "Let's consider our linear softmax regressor\n",
    "\n",
    "$$ \\underbrace{\\mbf{z}}_{\\mathbb{R}^{Kx1}} = \\underbrace{\\mbf{W}}_{\\mathbb{R}^{K\\times d}}\\underbrace{\\mbf{x}}_{\\mathbb{R}^{d\\times1}} + \\underbrace{\\mbf{b}}_{\\mathbb{R}^K}$$\n",
    "\n",
    "We interpret as **Linear Layer** $\\mathbf{W} \\mathbf{x}+\\bmf{b}$  followed by  **Non-Linear Activation function** $\\sigma$\n",
    "\n",
    "$$\n",
    "\\sigma(\\mathbf{W} \\mathbf{x}  + \\bmf{b})=\\sigma \\circ\\left(\\begin{array}{cccc}\n",
    "w_{11} & w_{12} & \\cdots & w_{1 d} \\\\\n",
    "w_{21} & w_{22} & \\cdots & w_{2 d} \\\\\n",
    "\\vdots & \\cdots & \\ddots & \\vdots \\\\\n",
    "w_{k 1} & w_{m 2} & \\cdots & w_{k d}\n",
    "\\end{array}\\right)\\left(\\begin{array}{c}\n",
    "x_{1} \\\\\n",
    "x_{2} \\\\\n",
    "\\vdots \\\\\n",
    "x_{d}\n",
    "\\end{array}\\right)+\n",
    "\\left(\\begin{array}{c}\n",
    "b_{1} \\\\\n",
    "b_{2} \\\\\n",
    "\\vdots \\\\\n",
    "b_{k}\n",
    "\\end{array}\\right)\n",
    "=\\sigma \\circ\\left(\\begin{array}{c}\n",
    "z_{1} \\\\\n",
    "z_{2} \\\\\n",
    "\\vdots \\\\\n",
    "z_{k}\n",
    "\\end{array}\\right)\n",
    "$$"
   ]
  },
  {
   "cell_type": "markdown",
   "metadata": {
    "slideshow": {
     "slide_type": "subslide"
    }
   },
   "source": [
    "# Representation of a Single Layer\n",
    "\n",
    "$$\n",
    "\\sigma(\\mathbf{W} \\mathbf{x}  + \\bmf{b})=\\sigma \\circ\\left(\\begin{array}{cccc}\n",
    "\\underline{w_{11}} & \\underline{w_{12}} & \\cdots & \\underline{w_{1 d}} \\\\\n",
    "w_{21} & w_{22} & \\cdots & w_{2 d} \\\\\n",
    "\\vdots & \\cdots & \\ddots & \\vdots \\\\\n",
    "w_{k 1} & w_{m 2} & \\cdots & w_{k d}\n",
    "\\end{array}\\right)\\left(\\begin{array}{c}\n",
    "x_{1} \\\\\n",
    "x_{2} \\\\\n",
    "\\vdots \\\\\n",
    "x_{d}\n",
    "\\end{array}\\right)+\n",
    "\\left(\\begin{array}{c}\n",
    "b_{1} \\\\\n",
    "b_{2} \\\\\n",
    "\\vdots \\\\\n",
    "b_{k}\n",
    "\\end{array}\\right)\n",
    "=\\sigma \\circ\\left(\\begin{array}{c}\n",
    "z_{1} \\\\\n",
    "z_{2} \\\\\n",
    "\\vdots \\\\\n",
    "z_{k}\n",
    "\\end{array}\\right)\n",
    "$$\n",
    "\n",
    "\n",
    "<br><br>\n",
    "<center><img src='figs/neuron.png' width='70%'/></center>"
   ]
  },
  {
   "cell_type": "markdown",
   "metadata": {
    "slideshow": {
     "slide_type": "subslide"
    }
   },
   "source": [
    "# Representation of a Single Layer\n",
    "\n",
    "$$\n",
    "\\sigma(\\mathbf{W} \\mathbf{x}  + \\bmf{b})=\\sigma \\circ\\left(\\begin{array}{cccc}\n",
    "{w_{11}} & {w_{12}} & \\cdots & {w_{1 d}} \\\\\n",
    "w_{21} & w_{22} & \\cdots & w_{2 d} \\\\\n",
    "\\vdots & \\cdots & \\ddots & \\vdots \\\\\n",
    "\\underline{w_{k 1}} & \\underline{w_{m 2}} & \\cdots & \\underline{w_{k d}}\n",
    "\\end{array}\\right)\\left(\\begin{array}{c}\n",
    "x_{1} \\\\\n",
    "x_{2} \\\\\n",
    "\\vdots \\\\\n",
    "x_{d}\n",
    "\\end{array}\\right)+\n",
    "\\left(\\begin{array}{c}\n",
    "b_{1} \\\\\n",
    "b_{2} \\\\\n",
    "\\vdots \\\\\n",
    "b_{k}\n",
    "\\end{array}\\right)\n",
    "=\\sigma \\circ\\left(\\begin{array}{c}\n",
    "z_{1} \\\\\n",
    "z_{2} \\\\\n",
    "\\vdots \\\\\n",
    "z_{k}\n",
    "\\end{array}\\right)\n",
    "$$\n",
    "\n",
    "\n",
    "<br><br>\n",
    "<center><img src='figs/neuron_2.png' width='70%'/></center>"
   ]
  },
  {
   "cell_type": "markdown",
   "metadata": {
    "slideshow": {
     "slide_type": "subslide"
    }
   },
   "source": [
    "# Representation of a Single Layer: Linear plus non-Linear\n",
    "\n",
    "$$\n",
    "\\sigma(\\mathbf{W} \\mathbf{x}  + \\bmf{b})=\\sigma \\circ\\left(\\begin{array}{cccc}\n",
    "{w_{11}} & {w_{12}} & \\cdots & {w_{1 d}} \\\\\n",
    "w_{21} & w_{22} & \\cdots & w_{2 d} \\\\\n",
    "\\vdots & \\cdots & \\ddots & \\vdots \\\\\n",
    "\\underline{w_{k 1}} & \\underline{w_{m 2}} & \\cdots & \\underline{w_{k d}}\n",
    "\\end{array}\\right)\\left(\\begin{array}{c}\n",
    "x_{1} \\\\\n",
    "x_{2} \\\\\n",
    "\\vdots \\\\\n",
    "x_{d}\n",
    "\\end{array}\\right)+\n",
    "\\left(\\begin{array}{c}\n",
    "b_{1} \\\\\n",
    "b_{2} \\\\\n",
    "\\vdots \\\\\n",
    "b_{k}\n",
    "\\end{array}\\right)\n",
    "=\\sigma \\circ\\left(\\begin{array}{c}\n",
    "z_{1} \\\\\n",
    "z_{2} \\\\\n",
    "\\vdots \\\\\n",
    "z_{k}\n",
    "\\end{array}\\right)\n",
    "$$\n",
    "\n",
    "\n",
    "<br><br>\n",
    "<center><img src='figs/neuron_3.png' width='70%'/></center>"
   ]
  },
  {
   "cell_type": "markdown",
   "metadata": {
    "slideshow": {
     "slide_type": "subslide"
    }
   },
   "source": [
    "# Representation of a Single Layer: Linear plus non-Linear\n",
    "\n",
    "$$\n",
    "\\mathbf{W} \\mathbf{x}=\\left(\\begin{array}{c}\n",
    "-\\text { unit - } \\\\\n",
    "\\vdots \\\\\n",
    "-\\text { unit }-\n",
    "\\end{array}\\right)\\left(\\begin{array}{c}\n",
    "\\mid \\\\\n",
    "\\mathbf{x} \\\\\n",
    "\\mid\n",
    "\\end{array}\\right)\n",
    "$$\n",
    "\n",
    "\n",
    "<br><br>\n",
    "<center><img src='figs/neuron_4.png' width='70%'/></center>"
   ]
  },
  {
   "cell_type": "markdown",
   "metadata": {
    "slideshow": {
     "slide_type": "subslide"
    }
   },
   "source": [
    "# Representation as a computational graph\n",
    "<br>\n",
    "\n",
    "<div align='center'><img src=\"figs/graph_00.png\" width='60%' ></div>"
   ]
  },
  {
   "cell_type": "markdown",
   "metadata": {
    "slideshow": {
     "slide_type": "subslide"
    }
   },
   "source": [
    "# Damn, until now is all linear. So now the \"Deep\"!\n",
    "\n",
    "- Damn, until now is all linear.\n",
    "- Our **beloved SoftMax+CE linear layer** is there **in the end (classifier).**\n",
    "\n",
    "<br>\n",
    "<center><img src=https://www.datasciencecentral.com/wp-content/uploads/2021/10/1-19.png width='70%'/></center>\n"
   ]
  },
  {
   "cell_type": "markdown",
   "metadata": {
    "slideshow": {
     "slide_type": "subslide"
    }
   },
   "source": [
    "# A single linear layer is not enough for highly  non-linear problems\n",
    "\n",
    "<br><br>\n",
    "<center><img src='https://media-exp1.licdn.com/dms/image/C5112AQEt1wEHRWi21w/article-cover_image-shrink_600_2000/0/1533914799998?e=2147483647&v=beta&t=GsPd5qJePijN7BPx2BEkNiu2OmcixkJGFA5u_XjukVg' width='50%'></center>"
   ]
  },
  {
   "cell_type": "markdown",
   "metadata": {
    "slideshow": {
     "slide_type": "subslide"
    }
   },
   "source": [
    "# Adding another non-linear layer before the classifier\n",
    "\n",
    "- We improve the _expressivness_ of our learned function by adding another linear layer **before** the classification layer.\n",
    "- Think this new layer as a feature map $\\mbf{x}  \\mapsto \\phi(\\mbf{x})$; it maps our attribute to a feature space\n",
    "- Now the classifier does not classify anymore directly $\\mbf{x}$ but the feature $\\phi(x)$.\n",
    "- Sorry, notation becomes complex. Upper script means layer index; lower-script selects the unit\n",
    "- $\\mathbf{W}^1 \\in \\mathbb{R}^{d\\times p}$, $\\bmf{b}^1 \\in \\mathbb{R}^{p}$ so then $\\mathbf{W}^2 \\in \\mathbb{R}^{p\\times k}$,   $\\bmf{b}^2 \\in \\mathbb{R}^{k}$\n",
    "\n",
    "$$\\mbf{p}=\\sigma(\\mathbf{W}^2\\underbrace{\\left(\\sigma(\\mathbf{W}^1 \\mathbf{x}  + \\bmf{b}^1) \\right)}_{\\bmf{\\phi}(x)}   + \\bmf{b}^2)$$\n",
    "\n",
    "$$\\text{dim. analysis:} \\quad d \\mapsto p \\mapsto k$$"
   ]
  },
  {
   "cell_type": "markdown",
   "metadata": {
    "slideshow": {
     "slide_type": "subslide"
    }
   },
   "source": [
    "# $\\mathbf{W}^1 \\in \\mathbb{R}^{d\\times p}$ is an Hidden Layer\n",
    "\n",
    "Because it maps the original attribute in $d$ from an dimensionality $p$ and then $p$ is used for classifying.\n",
    "\n",
    "A priori you do not know what $\\mathbf{W}^1$ may learn.\n",
    "\n",
    "$$\\mbf{p}=\\sigma(\\mathbf{W}^2\\underbrace{\\left(\\sigma(\\mathbf{W}^1 \\mathbf{x}  + \\bmf{b}^1) \\right)}_{\\bmf{\\phi}(x)}   + \\bmf{b}^2)$$\n",
    "\n",
    "$$\\text{dim. analysis:} \\quad d \\mapsto p \\mapsto k$$"
   ]
  },
  {
   "cell_type": "markdown",
   "metadata": {
    "slideshow": {
     "slide_type": "subslide"
    }
   },
   "source": [
    "# Let's update our visualizations"
   ]
  },
  {
   "cell_type": "markdown",
   "metadata": {
    "slideshow": {
     "slide_type": "subslide"
    }
   },
   "source": [
    "# Multi-Layer Perceptron (MLP) with one hidden layer\n",
    "\n",
    "## Given the nature of these layers, they're called Fully-Connected NN\n",
    "\n",
    "<br><br>\n",
    "<center><img src='figs/neuron_5.png' width='70%'/></center>"
   ]
  },
  {
   "cell_type": "markdown",
   "metadata": {
    "slideshow": {
     "slide_type": "subslide"
    }
   },
   "source": [
    "# Multi-Layer Perceptron with one hidden layer\n",
    "<br><br>\n",
    "<center><img src='figs/neuron_6.png' width='90%'/></center>"
   ]
  },
  {
   "cell_type": "markdown",
   "metadata": {
    "slideshow": {
     "slide_type": "subslide"
    }
   },
   "source": [
    "# Non-linear activation functions:  Sigmoid\n",
    "\n",
    "Very important: **Activation Functions are computed element-wise.**\n",
    "\n",
    "$$ \\sigma(z)= \\frac{1}{1+\\exp^{-z}} \\quad \\text{sigmoid or logistic function}$$\n",
    "\n",
    "<br><br> \n",
    "<div align='center'>Smooth and Differentiable alternative to sign<img src=\"figs/sigmoid.png\" width='35%' ></div>\n"
   ]
  },
  {
   "cell_type": "markdown",
   "metadata": {
    "slideshow": {
     "slide_type": "subslide"
    },
    "variables": {
     "import numpy as np; import matplotlib.pyplot as plt; step=0.1; x = np.arange(-20.0, 20.0, step); fig, axes = plt.subplots(1,2,figsize=(12,5)); y = 1/(1+np.exp(-x)); dy = np.diff(y); axes[0].plot(x,y); axes[0].legend(['sigmoid']); axes[1].plot(x[1:],dy/step); _=axes[1].legend(['derivative of sigmoid']);": "<img src=\"data:image/png;base64,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\n\"/>"
    }
   },
   "source": [
    "# Non-linear activation functions:  Sigmoid\n",
    "\n",
    "Very important: **Activation Functions are computed element-wise.**\n",
    "\n",
    "$$ \\sigma(z)= \\frac{1}{1+\\exp^{-z}} \\quad \\text{sigmoid or logistic function}$$\n",
    "<br><br> <center>Smooth and Differentiable alternative to sign</center>\n",
    "\n",
    "{{import numpy as np; import matplotlib.pyplot as plt; step=0.1; x = np.arange(-20.0, 20.0, step); fig, axes = plt.subplots(1,2,figsize=(12,5)); y = 1/(1+np.exp(-x)); dy = np.diff(y); axes[0].plot(x,y); axes[0].legend(['sigmoid']); axes[1].plot(x[1:],dy/step); _=axes[1].legend(['derivative of sigmoid']);}}\n"
   ]
  },
  {
   "cell_type": "code",
   "execution_count": 14,
   "metadata": {
    "slideshow": {
     "slide_type": "skip"
    }
   },
   "outputs": [
    {
     "data": {
      "image/png": "[encoded data removed]",
      "text/plain": [
       "<Figure size 1200x500 with 2 Axes>"
      ]
     },
     "metadata": {},
     "output_type": "display_data"
    }
   ],
   "source": [
    "import numpy as np;\n",
    "import matplotlib.pyplot as plt; step=0.1;\n",
    "x = np.arange(-20.0, 20.0, step);\n",
    "fig, axes = plt.subplots(1,2,figsize=(12,5));\n",
    "y = 1/(1+np.exp(-x));\n",
    "dy = np.diff(y);\n",
    "axes[0].plot(x,y)\n",
    "axes[0].legend(['sigmoid'])\n",
    "axes[1].plot(x[1:],dy/step);\n",
    "axes[1].legend(['derivative of sigmoid']);"
   ]
  },
  {
   "cell_type": "markdown",
   "metadata": {
    "slideshow": {
     "slide_type": "subslide"
    },
    "variables": {
     "import numpy as np; import matplotlib.pyplot as plt; step=0.1; x = np.arange(-20.0, 20.0, step); fig, axes = plt.subplots(1,2,figsize=(12,5)); y = np.maximum(0,x); dy = np.diff(y); axes[0].plot(x,y); axes[1].plot(x[1:],dy/step); axes[0].legend(['ReLu']); _=axes[1].legend(['Deriv of ReLU']);": "<img src=\"data:image/png;base64,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\n\"/>"
    }
   },
   "source": [
    "# Non-linear activation functions:  ReLu - Rectified Linear Unit\n",
    "\n",
    "Very important: **Activation Functions are computed element-wise.**\n",
    "\n",
    "$$ \\sigma(z)= \\max(0,z) \\quad \\text{ReLu}$$\n",
    "<br> <center>ReLu is piece-wise linear function</center>\n",
    "{{import numpy as np; import matplotlib.pyplot as plt; step=0.1; x = np.arange(-20.0, 20.0, step); fig, axes = plt.subplots(1,2,figsize=(12,5)); y = np.maximum(0,x); dy = np.diff(y); axes[0].plot(x,y); axes[1].plot(x[1:],dy/step); axes[0].legend(['ReLu']); _=axes[1].legend(['Deriv of ReLU']);}}"
   ]
  },
  {
   "cell_type": "code",
   "execution_count": 15,
   "metadata": {
    "slideshow": {
     "slide_type": "skip"
    }
   },
   "outputs": [
    {
     "data": {
      "image/png": "[encoded data removed]",
      "text/plain": [
       "<Figure size 1200x500 with 2 Axes>"
      ]
     },
     "metadata": {},
     "output_type": "display_data"
    }
   ],
   "source": [
    "import numpy as np;\n",
    "import matplotlib.pyplot as plt; step=0.1;\n",
    "x = np.arange(-20.0, 20.0, step);\n",
    "fig, axes = plt.subplots(1,2,figsize=(12,5));\n",
    "y = np.maximum(0,x);\n",
    "dy = np.diff(y);\n",
    "axes[0].plot(x,y)\n",
    "axes[1].plot(x[1:],dy/step);\n",
    "axes[0].legend(['ReLu'])\n",
    "_=axes[1].legend(['Deriv of ReLU']);"
   ]
  },
  {
   "cell_type": "markdown",
   "metadata": {
    "cell_style": "split",
    "slideshow": {
     "slide_type": "subslide"
    }
   },
   "source": [
    "# Sigmoid\n",
    "\n",
    "- Used to model output probability\n",
    "- Nowdays not used in middle layers\n",
    "- Have to compute $\\exp()$\n",
    "- **Vanishing gradients** for large input magnitude"
   ]
  },
  {
   "cell_type": "markdown",
   "metadata": {
    "cell_style": "split",
    "slideshow": {
     "slide_type": "fragment"
    }
   },
   "source": [
    "# ReLU\n",
    "\n",
    "- Computationally efficient (no exp!)\n",
    "- No vanishing gradients but do not let pass gradients for negative values\n",
    "- Converge much faster than sigmoid (6x)\n",
    "- Not differentiable in zero (subgradients)"
   ]
  },
  {
   "cell_type": "markdown",
   "metadata": {
    "slideshow": {
     "slide_type": "subslide"
    }
   },
   "source": [
    "# There are other activation functions we do not cover\n",
    "###  TanH, Leaky ReLU, parametrized ReLU, ELU"
   ]
  },
  {
   "cell_type": "markdown",
   "metadata": {
    "slideshow": {
     "slide_type": "subslide"
    }
   },
   "source": [
    "# Backpropagation and Differential Programming"
   ]
  },
  {
   "cell_type": "markdown",
   "metadata": {
    "slideshow": {
     "slide_type": "subslide"
    }
   },
   "source": [
    "# NN can be huge composition of functions! 😱\n",
    "<br>\n",
    "<center><img src=https://www.researchgate.net/profile/Tiago-Carvalho-8/publication/330478807/figure/fig1/AS:756995804110849@1557493272678/VGG16-VGG19-Inception-V3-Xception-and-ResNet-50-architectures_W640.jpg width='35%'/></center>\n",
    "\n"
   ]
  },
  {
   "cell_type": "markdown",
   "metadata": {
    "cell_style": "center",
    "slideshow": {
     "slide_type": "subslide"
    }
   },
   "source": [
    "# Three ways of computing the gradients $\\nabla_{\\mbf{w}}\\mathcal{L}(x,y;\\mbf{w})$\n",
    "\n",
    "1. **Manually** (if we change the network, we have to adjust it for a 100 layer neural net) maybe not a good idea, does not scale, even if we use symbolic derivation tools such as Mathematica ✍🏼\n",
    "2. **Finite Difference** good to check the gradients once you have an automatic way of computing it; **very slow, unfeasible in training!** 👩🏾‍💻\n",
    "3. **Backpropagation**: application of chain rule of calculus to tensors with a computational graph with caching **(differential programming with automatic differentiation)** 💻"
   ]
  },
  {
   "cell_type": "markdown",
   "metadata": {
    "slideshow": {
     "slide_type": "slide"
    }
   },
   "source": [
    "# Backpropagation"
   ]
  },
  {
   "cell_type": "markdown",
   "metadata": {
    "slideshow": {
     "slide_type": "subslide"
    }
   },
   "source": [
    "# Let's be clear on what we need to compute\n",
    "\n",
    "$\\forall l \\in [1\\ldots,L]$:\n",
    "1. $\\nabla_{\\mbf{W}^l}\\mathcal{L}(\\mbf{x},y;\\{\\mbf{W},b\\})$\n",
    "1. $\\nabla_{\\mbf{b}^l}\\mathcal{L}(\\mbf{x},y;\\{\\mbf{W},b\\})$\n",
    "<br><br>\n",
    "<center><img src='figs/neuron_6.png' width='90%'/></center>"
   ]
  },
  {
   "cell_type": "markdown",
   "metadata": {
    "slideshow": {
     "slide_type": "subslide"
    }
   },
   "source": [
    "# Once you have gradients on ALL weights $\\implies$ We can update\n",
    "\n",
    "$\\forall l \\in [1\\ldots,L]$:\n",
    "1. $\\mbf{W}^l \\leftarrow \\mbf{W}^l - \\gamma \\nabla_{\\mbf{W}^l}\\mathcal{L}(\\mbf{x},y;\\{\\mbf{W},b\\})$\n",
    "1. $\\mbf{b}^l \\leftarrow \\mbf{b}^l - \\gamma \\nabla_{\\mbf{b}^l}\\mathcal{L}(\\mbf{x},y;\\{\\mbf{W},b\\})$\n",
    "<br><br>\n",
    "\n",
    "\n",
    "<center><img src='figs/neuron_7.png' width='90%'/></center>"
   ]
  },
  {
   "cell_type": "markdown",
   "metadata": {
    "slideshow": {
     "slide_type": "subslide"
    }
   },
   "source": [
    "# How do we get all the weight updates?\n",
    "\n",
    "[Mostly taken from here](https://www.youtube.com/watch?v=i94OvYb6noo)"
   ]
  },
  {
   "cell_type": "markdown",
   "metadata": {
    "slideshow": {
     "slide_type": "subslide"
    }
   },
   "source": [
    "# Chain Rule\n",
    "\n",
    "Returning to functions of a single variable,\n",
    "suppose that $y = f(g(x))$\n",
    "and that the underlying functions \n",
    "$y=f(u)$ and $u=g(x)$ \n",
    "are both differentiable.\n",
    "The chain rule states that \n",
    "\n",
    "\n",
    "$$\\frac{dy}{dx} = \\frac{dy}{du} \\frac{du}{dx}.$$\n",
    "\n",
    "\n",
    "What is the **derivative of loss wrt to x in the equation below**? $$y = loss\\big(g(h(i(x)))\\big)$$"
   ]
  },
  {
   "cell_type": "markdown",
   "metadata": {
    "slideshow": {
     "slide_type": "fragment"
    }
   },
   "source": [
    "$$\\frac{\\partial loss}{\\partial x} = \\frac{\\partial loss}{\\partial g} \\frac{\\partial g}{\\partial h}\\frac{\\partial h}{\\partial i}\\frac{\\partial i}{\\partial x}$$"
   ]
  },
  {
   "cell_type": "markdown",
   "metadata": {
    "slideshow": {
     "slide_type": "subslide"
    }
   },
   "source": [
    "# Chain Rule on Directed Acyclic Graph (DAG)\n",
    "\n",
    "### Automate the computation of derivatives with computer science\n",
    "\n"
   ]
  },
  {
   "cell_type": "markdown",
   "metadata": {
    "slideshow": {
     "slide_type": "subslide"
    }
   },
   "source": [
    "$$\\mathcal{L}(x,y,z) = (x+y)z$$\n",
    "\n",
    "$$x=-2;~y=5;~z=-4;$$\n",
    "\n",
    "The high school way\n",
    "\n",
    "$$\\frac{\\partial\\mathcal{L}(x,y,z)}{\\partial x} =  ?$$"
   ]
  },
  {
   "cell_type": "markdown",
   "metadata": {
    "slideshow": {
     "slide_type": "subslide"
    }
   },
   "source": [
    "$$\\mathcal{L}(x,y,z) = (x+y)z$$\n",
    "\n",
    "$$x=-2;~y=5;~z=-4;$$\n",
    "\n",
    "The high school way (as we did until now):\n",
    "\n",
    "$$\\frac{\\partial\\mathcal{L}(x,y,z)}{\\partial x} =  (\\mbf{x}z+yz)^{\\prime}=(\\mbf{x}z)^{\\prime}+(yz)^{\\prime} = z$$\n",
    "$$\\frac{\\partial\\mathcal{L}(x,y,z)}{\\partial y} =  (xz+\\mbf{y}z)^{\\prime}=(xz)^{\\prime}+(\\mbf{y}z)^{\\prime} = z$$\n",
    "$$\\frac{\\partial\\mathcal{L}(x,y,z)}{\\partial z} =  x+y $$"
   ]
  },
  {
   "cell_type": "markdown",
   "metadata": {
    "slideshow": {
     "slide_type": "subslide"
    }
   },
   "source": [
    "# Now with Chain Rule\n",
    "$$\\mathcal{L}(x,y,z) = (x+y)z$$\n",
    "\n",
    "$$x=-2;~y=5;~z=-4;$$\n",
    "\n",
    "but we can re-write it with the chain rule:\n",
    "\n",
    "$$\\frac{\\partial\\mathcal{L}(x,y,z)}{\\partial x} =  \\big(\\underbrace{(\\mbf{x}+y)}_{q}z\\big)^{\\prime}=\\frac{\\partial\\mathcal{L}}{\\partial q}\\frac{\\partial q}{\\partial x}$$"
   ]
  },
  {
   "cell_type": "markdown",
   "metadata": {
    "slideshow": {
     "slide_type": "subslide"
    }
   },
   "source": [
    "# Now with Chain Rule\n",
    "$$\\mathcal{L}(x,y,z) = (x+y)z$$\n",
    "\n",
    "$$x=-2;~y=5;~z=-4;$$\n",
    "\n",
    "but we can re-write it with the chain rule:\n",
    "\n",
    "$$\\frac{\\partial\\mathcal{L}(x,y,z)}{\\partial x} =  \\big(\\underbrace{(\\mbf{x}+y)}_{q}z\\big)^{\\prime}=\\frac{\\partial\\mathcal{L}}{\\partial q}\\frac{\\partial q}{\\partial x} = z\\frac{\\partial q}{\\partial x} $$"
   ]
  },
  {
   "cell_type": "markdown",
   "metadata": {
    "slideshow": {
     "slide_type": "subslide"
    }
   },
   "source": [
    "# Now with Chain Rule\n",
    "$$\\mathcal{L}(x,y,z) = (x+y)z$$\n",
    "\n",
    "$$x=-2;~y=5;~z=-4;$$\n",
    "\n",
    "but we can re-write it with the chain rule:\n",
    "\n",
    "$$\\frac{\\partial\\mathcal{L}(x,y,z)}{\\partial x} =  \\big(\\underbrace{(\\mbf{x}+y)}_{q}z\\big)^{\\prime}=\\frac{\\partial\\mathcal{L}}{\\partial q}\\frac{\\partial q}{\\partial x} = z\\cdot 1= z $$"
   ]
  },
  {
   "cell_type": "markdown",
   "metadata": {
    "slideshow": {
     "slide_type": "subslide"
    }
   },
   "source": [
    "# Chain Rule on Directed Acyclic Graph (DAG)\n",
    "\n",
    "$$\\mathcal{L}(x,y,z) = (x+y)z$$\n",
    "\n",
    "$$x=-2;~y=5;~z=-4;$$\n",
    "\n",
    "**The computer science way:**\n",
    "\n",
    "<div align='center'><img src=\"figs/dag_00.png\" width='35%' ></div>\n",
    "\n",
    "$$\\frac{\\partial\\mathcal{L}}{\\partial x},\\frac{\\partial\\mathcal{L}}{\\partial y},\\frac{\\partial\\mathcal{L}}{\\partial z}$$"
   ]
  },
  {
   "cell_type": "markdown",
   "metadata": {
    "slideshow": {
     "slide_type": "subslide"
    }
   },
   "source": [
    "# Chain Rule on Directed Acyclic Graph (DAG)\n",
    "Even if the problem is very small, we break it down to subproblem so that we can **automate** it:\n",
    "<div align='center'><img src=\"figs/dag_00.png\" width='35%' ></div>\n",
    "\n",
    "\n",
    "$$\\frac{\\partial\\mathcal{L}}{\\partial x},\\frac{\\partial\\mathcal{L}}{\\partial y},\\frac{\\partial\\mathcal{L}}{\\partial z}$$\n",
    " Who is input of $\\mathcal{L}$?"
   ]
  },
  {
   "cell_type": "markdown",
   "metadata": {
    "slideshow": {
     "slide_type": "fragment"
    }
   },
   "source": [
    "$q$ and $z$ are input of $\\mathcal{L}$.\n",
    "$$\\frac{\\partial\\mathcal{L}}{\\partial q}, \\frac{\\partial\\mathcal{L}}{\\partial z}$$"
   ]
  },
  {
   "cell_type": "markdown",
   "metadata": {
    "slideshow": {
     "slide_type": "subslide"
    }
   },
   "source": [
    "# Chain Rule on Directed Acyclic Graph (DAG)\n",
    "Even if the problem is very small, we break it down to subproblem so that we can **automate** it:\n",
    "<div align='center'><img src=\"figs/dag_00.png\" width='35%' ></div>\n",
    "\n",
    "$$\\frac{\\partial\\mathcal{L}}{\\partial x},\\frac{\\partial\\mathcal{L}}{\\partial y},\\frac{\\partial\\mathcal{L}}{\\partial z}$$\n",
    "\n",
    "What is the derivate? (Just check the operation at the gate)\n",
    "$$\\frac{\\partial\\mathcal{L}}{\\partial q}, \\frac{\\partial\\mathcal{L}}{\\partial z}$$"
   ]
  },
  {
   "cell_type": "markdown",
   "metadata": {
    "slideshow": {
     "slide_type": "subslide"
    }
   },
   "source": [
    "# Chain Rule on Directed Acyclic Graph (DAG)\n",
    "Even if the problem is very small, we break it down to subproblem so that we can **automate** it:\n",
    "<div align='center'><img src=\"figs/dag_00.png\" width='35%' ></div>>\n",
    "\n",
    "\n",
    "$$\\frac{\\partial\\mathcal{L}}{\\partial x},\\frac{\\partial\\mathcal{L}}{\\partial y},\\frac{\\partial\\mathcal{L}}{\\partial z}$$\n",
    "\n",
    "What is the derivate? (Just check the operation at the gate)?\n",
    "$$\\frac{\\partial\\mathcal{L}}{\\partial q}=z, \\frac{\\partial\\mathcal{L}}{\\partial z}=q$$"
   ]
  },
  {
   "cell_type": "markdown",
   "metadata": {
    "slideshow": {
     "slide_type": "subslide"
    }
   },
   "source": [
    "# Chain Rule on Directed Acyclic Graph (DAG)\n",
    "Even if the problem is very small, we break it down to subproblem so that we can **automate** it:\n",
    "<div align='center'><img src=\"figs/dag_00.png\" width='35%' ></div>\n",
    "\n",
    "\n",
    "$$\\frac{\\partial\\mathcal{L}}{\\partial x},\\frac{\\partial\\mathcal{L}}{\\partial y},\\frac{\\partial\\mathcal{L}}{\\partial z}$$\n",
    "\n",
    "What is the derivate? (Just check the operation at the gate)?\n",
    "$$\\frac{\\partial\\mathcal{q}}{\\partial x}=1, \\frac{\\partial\\mathcal{q}}{\\partial y}=1$$"
   ]
  },
  {
   "cell_type": "markdown",
   "metadata": {
    "slideshow": {
     "slide_type": "subslide"
    }
   },
   "source": [
    "# Chain Rule on Directed Acyclic Graph (DAG)\n",
    "Even if the problem is very small, we break it down to subproblem so that we can **automate** it:\n",
    "<div align='center'><img src=\"figs/dag_00.png\" width='35%' ></div>\n",
    "\n",
    "\n",
    "$$\\frac{\\partial\\mathcal{L}}{\\partial x},\\frac{\\partial\\mathcal{L}}{\\partial y},\\frac{\\partial\\mathcal{L}}{\\partial z}$$\n",
    "\n",
    "OK now we have all the **analytical \"local\" partial derivatives, we can compute something**\n",
    "\n",
    "$$\\frac{\\partial\\mathcal{L}}{\\partial q}=z, \\frac{\\partial\\mathcal{L}}{\\partial z}=q, \\frac{\\partial\\mathcal{q}}{\\partial x}=1, \\frac{\\partial\\mathcal{q}}{\\partial y}=1$$"
   ]
  },
  {
   "cell_type": "markdown",
   "metadata": {
    "slideshow": {
     "slide_type": "subslide"
    }
   },
   "source": [
    "# Forward Pass\n",
    "\n",
    "<div align='center'><img src=\"figs/dag_01.png\" width='37%' ></div>\n",
    "\n",
    "\n",
    "$$\\frac{\\partial\\mathcal{L}}{\\partial x},\\frac{\\partial\\mathcal{L}}{\\partial y},\\frac{\\partial\\mathcal{L}}{\\partial z}$$\n",
    "\n",
    "OK now we have all the **analytical partial derivatives, we can compute something**\n",
    "\n",
    "$$\\frac{\\partial\\mathcal{L}}{\\partial q}=z, \\frac{\\partial\\mathcal{L}}{\\partial z}=q, \\frac{\\partial\\mathcal{q}}{\\partial x}=1, \\frac{\\partial\\mathcal{q}}{\\partial y}=1$$"
   ]
  },
  {
   "cell_type": "markdown",
   "metadata": {
    "slideshow": {
     "slide_type": "subslide"
    }
   },
   "source": [
    "# Forward Pass\n",
    "\n",
    "<div align='center'><img src=\"figs/dag_02.png\" width='37%' ></div>\n",
    "\n",
    "\n",
    "$$\\frac{\\partial\\mathcal{L}}{\\partial x},\\frac{\\partial\\mathcal{L}}{\\partial y},\\frac{\\partial\\mathcal{L}}{\\partial z}$$\n",
    "\n",
    "OK now we have all the **analytical partial derivatives, we can compute something**\n",
    "\n",
    "$$\\frac{\\partial\\mathcal{L}}{\\partial q}=z, \\frac{\\partial\\mathcal{L}}{\\partial z}=q, \\frac{\\partial\\mathcal{q}}{\\partial x}=1, \\frac{\\partial\\mathcal{q}}{\\partial y}=1$$"
   ]
  },
  {
   "cell_type": "markdown",
   "metadata": {
    "slideshow": {
     "slide_type": "subslide"
    }
   },
   "source": [
    "# Forward Pass\n",
    "\n",
    "<div align='center'><img src=\"figs/dag_03.png\" width='37%' ></div>\n",
    "\n",
    "**This is what we wanted:**\n",
    "$$\\frac{\\partial\\mathcal{L}}{\\partial x},\\frac{\\partial\\mathcal{L}}{\\partial y},\\frac{\\partial\\mathcal{L}}{\\partial z}$$\n",
    "\n",
    "**This is what we have**\n",
    "\n",
    "$$\\frac{\\partial\\mathcal{L}}{\\partial q}=z, \\frac{\\partial\\mathcal{L}}{\\partial z}=q, \\frac{\\partial\\mathcal{q}}{\\partial x}=1, \\frac{\\partial\\mathcal{q}}{\\partial y}=1$$"
   ]
  },
  {
   "cell_type": "markdown",
   "metadata": {
    "slideshow": {
     "slide_type": "subslide"
    }
   },
   "source": [
    "# Backward Pass\n",
    "\n",
    "<div align='center'><img src=\"figs/dag_03.png\" width='37%' ></div>\n",
    "\n",
    "**Act as a base case for the recursion:** $$\\frac{\\partial\\mathcal{L}}{\\partial \\mathcal{L}}=?$$\n",
    "\n",
    "**This is what we wanted:**\n",
    "$$\\frac{\\partial\\mathcal{L}}{\\partial x},\\frac{\\partial\\mathcal{L}}{\\partial y},\\frac{\\partial\\mathcal{L}}{\\partial z}$$\n",
    "\n",
    "**This is what we have**\n",
    "\n",
    "$$\\frac{\\partial\\mathcal{L}}{\\partial q}=z, \\frac{\\partial\\mathcal{L}}{\\partial z}=q, \\frac{\\partial\\mathcal{q}}{\\partial x}=1, \\frac{\\partial\\mathcal{q}}{\\partial y}=1$$"
   ]
  },
  {
   "cell_type": "markdown",
   "metadata": {
    "slideshow": {
     "slide_type": "subslide"
    }
   },
   "source": [
    "# Backward Pass\n",
    "\n",
    "<div align='center'><img src=\"figs/dag_04.png\" width='37%' ></div>\n",
    "\n",
    "**Act as a base case for the recursion:** $$\\frac{\\partial\\mathcal{L}}{\\partial \\mathcal{L}}=1$$\n",
    "\n",
    "**This is what we wanted:**\n",
    "$$\\frac{\\partial\\mathcal{L}}{\\partial x},\\frac{\\partial\\mathcal{L}}{\\partial y},\\frac{\\partial\\mathcal{L}}{\\partial z}$$\n",
    "\n",
    "**This is what we have**\n",
    "\n",
    "$$\\frac{\\partial\\mathcal{L}}{\\partial q}=z, \\frac{\\partial\\mathcal{L}}{\\partial z}=q, \\frac{\\partial\\mathcal{q}}{\\partial x}=1, \\frac{\\partial\\mathcal{q}}{\\partial y}=1$$"
   ]
  },
  {
   "cell_type": "markdown",
   "metadata": {
    "slideshow": {
     "slide_type": "subslide"
    }
   },
   "source": [
    "# Backward Pass\n",
    "\n",
    "<div align='center'><img src=\"figs/dag_04.png\" width='37%' ></div>\n",
    "\n",
    "**What is the value of the gradient of $\\mathcal{L}$ on $z$?**: \n",
    "\n",
    "\n",
    "**This is what we wanted:**\n",
    "$$\\frac{\\partial\\mathcal{L}}{\\partial x},\\frac{\\partial\\mathcal{L}}{\\partial y},\\frac{\\partial\\mathcal{L}}{\\partial z}$$\n",
    "\n",
    "**This is what we have**\n",
    "\n",
    "$$\\frac{\\partial\\mathcal{L}}{\\partial q}=z, \\frac{\\partial\\mathcal{L}}{\\partial z}=q, \\frac{\\partial\\mathcal{q}}{\\partial x}=1, \\frac{\\partial\\mathcal{q}}{\\partial y}=1$$"
   ]
  },
  {
   "cell_type": "markdown",
   "metadata": {
    "slideshow": {
     "slide_type": "subslide"
    }
   },
   "source": [
    "# Backward Pass\n",
    "\n",
    "<div align='center'><img src=\"figs/dag_05.png\" width='37%' ></div>\n",
    "\n",
    "**What is the value of the gradient of $\\mathcal{L}$ on $z$?**: \n",
    "\n",
    "$$\\frac{\\partial\\mathcal{L}}{\\partial z}= q = 3$$\n",
    "\n",
    "**This is what we wanted:**\n",
    "$$\\frac{\\partial\\mathcal{L}}{\\partial x},\\frac{\\partial\\mathcal{L}}{\\partial y},\\frac{\\partial\\mathcal{L}}{\\partial z}$$\n",
    "\n",
    "**This is what we have**\n",
    "\n",
    "$$\\frac{\\partial\\mathcal{L}}{\\partial q}=z, \\frac{\\partial\\mathcal{L}}{\\partial z}=q, \\frac{\\partial\\mathcal{q}}{\\partial x}=1, \\frac{\\partial\\mathcal{q}}{\\partial y}=1$$"
   ]
  },
  {
   "cell_type": "markdown",
   "metadata": {
    "slideshow": {
     "slide_type": "subslide"
    }
   },
   "source": [
    "# Backward Pass\n",
    "\n",
    "<div align='center'><img src=\"figs/dag_05.png\" width='37%' ></div>\n",
    "\n",
    "**What is the value of the gradient of $\\mathcal{L}$ on $q$?**: \n",
    "\n",
    "\n",
    "**This is what we wanted:**\n",
    "$$\\frac{\\partial\\mathcal{L}}{\\partial x},\\frac{\\partial\\mathcal{L}}{\\partial y},\\frac{\\partial\\mathcal{L}}{\\partial z}$$\n",
    "\n",
    "**This is what we have**\n",
    "\n",
    "$$\\frac{\\partial\\mathcal{L}}{\\partial q}=z, \\frac{\\partial\\mathcal{L}}{\\partial z}=q, \\frac{\\partial\\mathcal{q}}{\\partial x}=1, \\frac{\\partial\\mathcal{q}}{\\partial y}=1$$"
   ]
  },
  {
   "cell_type": "markdown",
   "metadata": {
    "slideshow": {
     "slide_type": "subslide"
    }
   },
   "source": [
    "# Backward Pass\n",
    "\n",
    "<div align='center'><img src=\"figs/dag_06.png\" width='37%' ></div>\n",
    "\n",
    "**What is the value of the gradient of $\\mathcal{L}$ on $q$?**: \n",
    "\n",
    "$$\\frac{\\partial\\mathcal{L}}{\\partial q}= z = -4$$\n",
    "\n",
    "**This is what we wanted:**\n",
    "$$\\frac{\\partial\\mathcal{L}}{\\partial x},\\frac{\\partial\\mathcal{L}}{\\partial y},\\frac{\\partial\\mathcal{L}}{\\partial z}$$\n",
    "\n",
    "**This is what we have**\n",
    "\n",
    "$$\\frac{\\partial\\mathcal{L}}{\\partial q}=z, \\frac{\\partial\\mathcal{L}}{\\partial z}=q, \\frac{\\partial\\mathcal{q}}{\\partial x}=1, \\frac{\\partial\\mathcal{q}}{\\partial y}=1$$"
   ]
  },
  {
   "cell_type": "markdown",
   "metadata": {
    "slideshow": {
     "slide_type": "subslide"
    }
   },
   "source": [
    "# Backward Pass\n",
    "\n",
    "<div align='center'><img src=\"figs/dag_06.png\" width='37%' ></div>\n",
    "\n",
    "**What is the value of the gradient of $\\mathcal{L}$ on $y$?**: \n",
    "\n",
    "\n",
    "**This is what we wanted:**\n",
    "$$\\frac{\\partial\\mathcal{L}}{\\partial x},\\frac{\\partial\\mathcal{L}}{\\partial y},\\frac{\\partial\\mathcal{L}}{\\partial z}$$\n",
    "\n",
    "**This is what we have**\n",
    "\n",
    "$$\\frac{\\partial\\mathcal{L}}{\\partial q}=z, \\frac{\\partial\\mathcal{L}}{\\partial z}=q, \\frac{\\partial\\mathcal{q}}{\\partial x}=1, \\frac{\\partial\\mathcal{q}}{\\partial y}=1$$"
   ]
  },
  {
   "cell_type": "markdown",
   "metadata": {
    "slideshow": {
     "slide_type": "subslide"
    }
   },
   "source": [
    "# Backward Pass\n",
    "\n",
    "<div align='center'><img src=\"figs/dag_06.png\" width='37%' ></div>\n",
    "\n",
    "**What is the value of the gradient of $\\mathcal{L}$ on $y$?**: \n",
    "$$\\frac{\\partial\\mathcal{L}}{\\partial y} = \\frac{\\partial\\mathcal{L}}{\\partial q}\\frac{\\partial q}{\\partial y} = z\\cdot 1= -4$$\n",
    "\n",
    "**This is what we wanted:**\n",
    "$$\\frac{\\partial\\mathcal{L}}{\\partial x},\\frac{\\partial\\mathcal{L}}{\\partial y},\\frac{\\partial\\mathcal{L}}{\\partial z}$$\n",
    "\n",
    "**This is what we have**\n",
    "\n",
    "$$\\frac{\\partial\\mathcal{L}}{\\partial q}=z, \\frac{\\partial\\mathcal{L}}{\\partial z}=q, \\frac{\\partial\\mathcal{q}}{\\partial x}=1, \\frac{\\partial\\mathcal{q}}{\\partial y}=1$$"
   ]
  },
  {
   "cell_type": "markdown",
   "metadata": {
    "slideshow": {
     "slide_type": "subslide"
    }
   },
   "source": [
    "# Backward Pass\n",
    "<div align='center'><img src=\"figs/dag_07.png\" width='37%' ></div>\n",
    "\n",
    "**This is what we wanted:**\n",
    "$$\\frac{\\partial\\mathcal{L}}{\\partial x},\\frac{\\partial\\mathcal{L}}{\\partial y},\\frac{\\partial\\mathcal{L}}{\\partial z}$$\n",
    "\n",
    "**This is what we have**\n",
    "\n",
    "$$\\frac{\\partial\\mathcal{L}}{\\partial q}=z, \\frac{\\partial\\mathcal{L}}{\\partial z}=q, \\frac{\\partial\\mathcal{q}}{\\partial x}=1, \\frac{\\partial\\mathcal{q}}{\\partial y}=1$$"
   ]
  },
  {
   "cell_type": "markdown",
   "metadata": {
    "slideshow": {
     "slide_type": "subslide"
    }
   },
   "source": [
    "# Check with our manual derivation ✅\n",
    "\n",
    "<div align='center'><img src=\"figs/dag_08.png\" width='37%' ></div>\n",
    "\n",
    "The high school way (as we did until now):\n",
    "\n",
    "$$\\frac{\\partial\\mathcal{L}(x,y,z)}{\\partial x} =  (\\mbf{x}z+yz)^{\\prime}=(\\mbf{x}z)^{\\prime}+(yz)^{\\prime} = z = -4$$\n",
    "$$\\frac{\\partial\\mathcal{L}(x,y,z)}{\\partial y} =  (xz+\\mbf{y}z)^{\\prime}=(xz)^{\\prime}+(\\mbf{y}z)^{\\prime} = z = -4$$\n",
    "$$\\frac{\\partial\\mathcal{L}(x,y,z)}{\\partial z} =  x+y = +3 $$"
   ]
  },
  {
   "cell_type": "markdown",
   "metadata": {
    "slideshow": {
     "slide_type": "subslide"
    }
   },
   "source": [
    "# You know what? I do not trust math, I want to verify with a machine ✅"
   ]
  },
  {
   "cell_type": "markdown",
   "metadata": {
    "slideshow": {
     "slide_type": "subslide"
    }
   },
   "source": [
    "# Pytorch check\n",
    "```python\n",
    "from torch import tensor\n",
    "\n",
    "def neural_net(x,y,z):\n",
    "    return (x+y)*z\n",
    "\n",
    "x, y, z = tensor(-2., requires_grad=True), tensor(5.,requires_grad=True), tensor(-4., requires_grad=True)\n",
    "loss = neural_net(x,y,z) # forward pass\n",
    "loss.backward()          # backward (after this I can check the gradients)\n",
    "for el in [x,y,z]:\n",
    "    print(el.grad)\n",
    "```\n",
    "```\n",
    "tensor(-4.)\n",
    "tensor(-4.)\n",
    "tensor(3.)\n",
    "```"
   ]
  },
  {
   "cell_type": "code",
   "execution_count": 16,
   "metadata": {
    "slideshow": {
     "slide_type": "skip"
    }
   },
   "outputs": [
    {
     "name": "stdout",
     "output_type": "stream",
     "text": [
      "tensor(-4.)\n",
      "tensor(-4.)\n",
      "tensor(3.)\n"
     ]
    }
   ],
   "source": [
    "from torch import tensor\n",
    "\n",
    "def neural_net(x,y,z):\n",
    "    loss = (x+y)*z\n",
    "    return loss\n",
    "\n",
    "x, y, z = tensor(-2., requires_grad=True), tensor(5.,requires_grad=True), tensor(-4., requires_grad=True)\n",
    "loss = neural_net(x,y,z) # forward pass\n",
    "\n",
    "loss.backward() #backward (ok now I can check the gradients)\n",
    "for el in [x,y,z]:\n",
    "    print(el.grad)"
   ]
  },
  {
   "cell_type": "markdown",
   "metadata": {
    "slideshow": {
     "slide_type": "subslide"
    }
   },
   "source": [
    "# General Recipe for Chain Rule over DAGs [Forward]\n",
    "\n",
    "**Just remember what you have to do at a generic gate:**\n",
    "\n",
    "\n",
    "<div align='center'><img src=\"figs/local_grad.png\" width='52%' ></div>"
   ]
  },
  {
   "cell_type": "markdown",
   "metadata": {
    "slideshow": {
     "slide_type": "subslide"
    }
   },
   "source": [
    "# General Recipe for Chain Rule over DAGs  [Backward]\n",
    "\n",
    "**Multiply the gradient that you receive with your local gradient**\n",
    "\n",
    "\n",
    "<div align='center'><img src=\"figs/local_grad_01.png\" width='52%' ></div>"
   ]
  },
  {
   "cell_type": "markdown",
   "metadata": {
    "slideshow": {
     "slide_type": "subslide"
    }
   },
   "source": [
    "# Logistic Regression Computational Graph could be simplified\n",
    "\n",
    "$$\n",
    "f(w, x)=\\frac{1}{1+e^{-\\left(w_{0} x_{0}+w_{1} x_{1}+b\\right)}}\n",
    "$$\n",
    "\n",
    "This is what implement the **Sigmoid Layer in Pytorch:**\n",
    "\n",
    "<div align='center'><img src=\"figs/dag_logistic_reg.png\" width='57%' ></div>\n"
   ]
  },
  {
   "cell_type": "markdown",
   "metadata": {
    "slideshow": {
     "slide_type": "subslide"
    }
   },
   "source": [
    "# Are we done with training neural nets?"
   ]
  },
  {
   "cell_type": "markdown",
   "metadata": {
    "slideshow": {
     "slide_type": "fragment"
    }
   },
   "source": [
    "# Not completely: till now scalars, but we have matrices and vectors!"
   ]
  },
  {
   "cell_type": "markdown",
   "metadata": {
    "slideshow": {
     "slide_type": "subslide"
    }
   },
   "source": [
    "# Now this looks more familiar\n",
    "\n",
    "$\\forall l \\in [1\\ldots,L]$:\n",
    "1. $\\mbf{W}^l \\leftarrow \\mbf{W}^l - \\gamma \\nabla_{\\mbf{W}^l}\\mathcal{L}(\\mbf{x},y;\\{\\mbf{W},b\\})$\n",
    "1. $\\mbf{b}^l \\leftarrow \\mbf{b}^l - \\gamma \\nabla_{\\mbf{b}^l}\\mathcal{L}(\\mbf{x},y;\\{\\mbf{W},b\\})$\n",
    "<br><br>\n",
    "<div align='center'><img src=\"figs/graph_01.png\" width='80%' ></div>"
   ]
  },
  {
   "cell_type": "markdown",
   "metadata": {
    "slideshow": {
     "slide_type": "subslide"
    }
   },
   "source": [
    "$$\\chain{\\mathcal{L}}{\\mbf{W}^1} = \\chain{\\loss}{\\mbf{z}}\\chain{\\mbf{z}}{\\mbf{W}^1}$$"
   ]
  },
  {
   "cell_type": "markdown",
   "metadata": {
    "slideshow": {
     "slide_type": "fragment"
    }
   },
   "source": [
    "$$\\chain{\\mathcal{L}}{\\mbf{W}^1} = \\chain{\\loss}{\\mbf{z}}\\underbrace{\\chain{\\mbf{z}}{\\sigma}\\chain{\\mbf{\\sigma}}{\\mbf{W}^1}}_{\\chain{\\mbf{z}}{\\mbf{W}^1}}$$"
   ]
  },
  {
   "cell_type": "markdown",
   "metadata": {
    "slideshow": {
     "slide_type": "fragment"
    }
   },
   "source": [
    "$$\\chain{\\mathcal{L}}{\\mbf{W}^1} = \\chain{\\loss}{\\mbf{z}}\\chain{\\mbf{z}}{\\sigma}\\underbrace{\\chain{\\mbf{\\sigma}}{\\mbf{h}}\\chain{\\mbf{h}}{\\mbf{W}^1}}_{\\chain{\\mbf{\\sigma}}{\\mbf{W}^1}}$$"
   ]
  },
  {
   "cell_type": "markdown",
   "metadata": {
    "slideshow": {
     "slide_type": "subslide"
    }
   },
   "source": [
    "# Backprop $\\loss$ to $\\mbf{W}_{ij}^{[1]}$\n",
    "\n",
    "<div align='center'><img src=\"figs/graph_02.png\" width='80%' ></div>"
   ]
  }
 ],
 "metadata": {
  "celltoolbar": "Slideshow",
  "kernelspec": {
   "display_name": "Python 3 (ipykernel)",
   "language": "python",
   "name": "python3"
  },
  "language_info": {
   "codemirror_mode": {
    "name": "ipython",
    "version": 3
   },
   "file_extension": ".py",
   "mimetype": "text/x-python",
   "name": "python",
   "nbconvert_exporter": "python",
   "pygments_lexer": "ipython3",
   "version": "3.8.13"
  },
  "latex_envs": {
   "LaTeX_envs_menu_present": true,
   "autoclose": false,
   "autocomplete": false,
   "bibliofile": "biblio.bib",
   "cite_by": "key",
   "current_citInitial": 1,
   "eqLabelWithNumbers": true,
   "eqNumInitial": 1,
   "hotkeys": {
    "equation": "Ctrl-E",
    "itemize": "Ctrl-I"
   },
   "labels_anchors": false,
   "latex_user_defs": false,
   "report_style_numbering": false,
   "user_envs_cfg": false
  },
  "notify_time": "30",
  "rise": {
   "autolaunch": true,
   "overlay": "<div class='myheader'>Natural Language Processing<img src='../sapienza_logo.png'/></div>",
   "transition": "linear"
  },
  "toc": {
   "base_numbering": 1,
   "nav_menu": {},
   "number_sections": true,
   "sideBar": true,
   "skip_h1_title": false,
   "title_cell": "Table of Contents",
   "title_sidebar": "Summary",
   "toc_cell": false,
   "toc_position": {
    "height": "47px",
    "left": "1143px",
    "top": "173px",
    "width": "210.344px"
   },
   "toc_section_display": false,
   "toc_window_display": false
  },
  "varInspector": {
   "cols": {
    "lenName": 16,
    "lenType": 16,
    "lenVar": 40
   },
   "kernels_config": {
    "python": {
     "delete_cmd_postfix": "",
     "delete_cmd_prefix": "del ",
     "library": "var_list.py",
     "varRefreshCmd": "print(var_dic_list())"
    },
    "r": {
     "delete_cmd_postfix": ") ",
     "delete_cmd_prefix": "rm(",
     "library": "var_list.r",
     "varRefreshCmd": "cat(var_dic_list()) "
    }
   },
   "types_to_exclude": [
    "module",
    "function",
    "builtin_function_or_method",
    "instance",
    "_Feature"
   ],
   "window_display": false
  }
 },
 "nbformat": 4,
 "nbformat_minor": 4
}
