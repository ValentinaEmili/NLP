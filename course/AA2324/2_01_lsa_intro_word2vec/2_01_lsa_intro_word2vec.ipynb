{
 "cells": [
  {
   "cell_type": "markdown",
   "metadata": {
    "slideshow": {
     "slide_type": "slide"
    }
   },
   "source": [
    "# Natural Language Processing\n",
    "\n",
    "### 2.1 Distributional Semantics, Latent Semantic Analysis and Word2Vec\n",
    "<br><br>\n",
    "Prof. Iacopo Masi and Prof. Stefano Faralli"
   ]
  },
  {
   "cell_type": "code",
   "execution_count": 1,
   "metadata": {
    "hide_input": true,
    "slideshow": {
     "slide_type": "skip"
    }
   },
   "outputs": [],
   "source": [
    "import matplotlib.pyplot as plt\n",
    "import scipy\n",
    "import random\n",
    "import numpy as np\n",
    "import pandas as pd\n",
    "pd.set_option('display.colheader_justify', 'center')"
   ]
  },
  {
   "cell_type": "code",
   "execution_count": 2,
   "metadata": {
    "hide_input": true,
    "run_control": {
     "marked": false
    },
    "scrolled": true,
    "slideshow": {
     "slide_type": "skip"
    }
   },
   "outputs": [],
   "source": [
    "import matplotlib\n",
    "import matplotlib.pyplot as plt\n",
    "import numpy as np\n",
    "%matplotlib inline\n",
    "#plt.style.use('seaborn-whitegrid')\n",
    "\n",
    "font = {'family' : 'Times',\n",
    "        'weight' : 'bold',\n",
    "        'size'   : 12}\n",
    "\n",
    "matplotlib.rc('font', **font)\n",
    "\n",
    "\n",
    "# Aux functions\n",
    "\n",
    "def plot_grid(Xs, Ys, axs=None):\n",
    "    ''' Aux function to plot a grid'''\n",
    "    t = np.arange(Xs.size) # define progression of int for indexing colormap\n",
    "    if axs:\n",
    "        axs.plot(0, 0, marker='*', color='r', linestyle='none') #plot origin\n",
    "        axs.scatter(Xs,Ys, c=t, cmap='jet', marker='.') # scatter x vs y\n",
    "        axs.axis('scaled') # axis scaled\n",
    "    else:\n",
    "        plt.plot(0, 0, marker='*', color='r', linestyle='none') #plot origin\n",
    "        plt.scatter(Xs,Ys, c=t, cmap='jet', marker='.') # scatter x vs y\n",
    "        plt.axis('scaled') # axis scaled\n",
    "        \n",
    "def linear_map(A, Xs, Ys):\n",
    "    '''Map src points with A'''\n",
    "    # [NxN,NxN] -> NxNx2 # add 3-rd axis, like adding another layer\n",
    "    src = np.stack((Xs,Ys), axis=Xs.ndim)\n",
    "    # flatten first two dimension\n",
    "    # (NN)x2\n",
    "    src_r = src.reshape(-1,src.shape[-1]) #ask reshape to keep last dimension and adjust the rest\n",
    "    # 2x2 @ 2x(NN)\n",
    "    dst = A @ src_r.T # 2xNN\n",
    "    #(NN)x2 and then reshape as NxNx2\n",
    "    dst = (dst.T).reshape(src.shape)\n",
    "    # Access X and Y\n",
    "    return dst[...,0], dst[...,1]\n",
    "\n",
    "\n",
    "def plot_points(ax, Xs, Ys, col='red', unit=None, linestyle='solid'):\n",
    "    '''Plots points'''\n",
    "    ax.set_aspect('equal')\n",
    "    ax.grid(True, which='both')\n",
    "    ax.axhline(y=0, color='gray', linestyle=\"--\")\n",
    "    ax.axvline(x=0, color='gray',  linestyle=\"--\")\n",
    "    ax.plot(Xs, Ys, color=col)\n",
    "    if unit is None:\n",
    "        plotVectors(ax, [[0,1],[1,0]], ['gray']*2, alpha=1, linestyle=linestyle)\n",
    "    else:\n",
    "        plotVectors(ax, unit, [col]*2, alpha=1, linestyle=linestyle)\n",
    "\n",
    "def plotVectors(ax, vecs, cols, alpha=1, linestyle='solid'):\n",
    "    '''Plot set of vectors.'''\n",
    "    for i in range(len(vecs)):\n",
    "        x = np.concatenate([[0,0], vecs[i]])\n",
    "        ax.quiver([x[0]],\n",
    "                   [x[1]],\n",
    "                   [x[2]],\n",
    "                   [x[3]],\n",
    "                   angles='xy', scale_units='xy', scale=1, color=cols[i],\n",
    "                   alpha=alpha, linestyle=linestyle, linewidth=2)"
   ]
  },
  {
   "cell_type": "markdown",
   "metadata": {
    "hide_input": true,
    "slideshow": {
     "slide_type": "skip"
    }
   },
   "source": [
    "## My own latex definitions\n",
    "\n",
    "$$\\def\\mbf#1{\\mathbf{#1}}$$\n",
    "$$\\def\\bmf#1{\\boldsymbol{#1}}$$\n",
    "$$\\def\\bx{\\mbf{x}}$$\n",
    "$$\\def\\bxt#1{\\mbf{x}_{\\text{#1}}}$$\n",
    "$$\\def\\bv{\\mbf{v}}$$\n",
    "$$\\def\\bz{\\mbf{z}}$$\n",
    "$$\\def\\bmu{\\bmf{\\mu}}$$\n",
    "$$\\def\\bsigma{\\bmf{\\Sigma}}$$\n",
    "$$\\def\\Rd#1{\\in \\mathbb{R}^{#1}}$$\n",
    "$$\\def\\chain#1#2{\\frac{\\partial #1}{\\partial #2}}$$\n",
    "$$\\def\\loss{\\mathcal{L}}$$"
   ]
  },
  {
   "cell_type": "markdown",
   "metadata": {
    "slideshow": {
     "slide_type": "slide"
    }
   },
   "source": [
    "# Very Brief Introduction"
   ]
  },
  {
   "cell_type": "markdown",
   "metadata": {
    "cell_style": "split",
    "slideshow": {
     "slide_type": "slide"
    }
   },
   "source": [
    "<img width=\"250\" src=\"https://github.com/iacopomasi/iacopomasi.github.io/blob/master/imgs/iacopomasi_res.jpg?raw=true\">"
   ]
  },
  {
   "cell_type": "markdown",
   "metadata": {
    "cell_style": "split",
    "slideshow": {
     "slide_type": "fragment"
    }
   },
   "source": [
    "## 👨🏼‍🏫 About Me\n",
    "\n",
    "- **Associate Professor** with Sapienza since late 2020\n",
    "- **Adjunct Research Assistant Professor** with University of Southern California (USC), Los Angeles **till August 2022**\n",
    "\n",
    "- Worked as Research Scientist on big DARPA projects (Dept. of Defense) of USA.\n",
    "\n",
    "\n",
    "- My Background:\n",
    " - Computer Vision\n",
    " - Machine Learning\n"
   ]
  },
  {
   "cell_type": "markdown",
   "metadata": {
    "slideshow": {
     "slide_type": "subslide"
    }
   },
   "source": [
    "# I do research in AI\n",
    "\n",
    "## Biometrics, Face Recognition, Adversarial Robustness, Generative Models \n",
    "### Mainly visual domain (images) but I am broadening my range (e.g. NLP!) 😛\n",
    "\n"
   ]
  },
  {
   "cell_type": "markdown",
   "metadata": {
    "slideshow": {
     "slide_type": "subslide"
    }
   },
   "source": [
    "# OmnAI Lab\n",
    "<br>\n",
    "<div align='center'><img src=\"figs/lab.png\" width='50%'></div>"
   ]
  },
  {
   "cell_type": "markdown",
   "metadata": {
    "slideshow": {
     "slide_type": "subslide"
    }
   },
   "source": [
    "# Research Group\n",
    "<br>\n",
    "<div align='center'><img src=\"figs/people.png\" width='40%'></div>"
   ]
  },
  {
   "cell_type": "markdown",
   "metadata": {
    "slideshow": {
     "slide_type": "subslide"
    }
   },
   "source": [
    "# My Path\n",
    "<div align='center'><img src=\"figs/path.png\" width='80%'></div>"
   ]
  },
  {
   "cell_type": "markdown",
   "metadata": {
    "slideshow": {
     "slide_type": "subslide"
    }
   },
   "source": [
    "# Latest Research Effort (Sapienza)\n",
    "## Shedding More Light on Robust Classifiers under the lens of Energy-based Models\n",
    "\n",
    "<div align='center'><img src=\"figs/shed_1.png\" width='60%'></div>\n",
    "<div align='center'><img src=\"figs/shed_2.png\" width='60%'></div>"
   ]
  },
  {
   "cell_type": "markdown",
   "metadata": {
    "cell_style": "split",
    "slideshow": {
     "slide_type": "slide"
    }
   },
   "source": [
    "# Stanford NLP Course \n",
    "<div align='center'><img src=\"figs/stanford.png\" width='85%' ></div>\n"
   ]
  },
  {
   "cell_type": "markdown",
   "metadata": {
    "cell_style": "split",
    "slideshow": {
     "slide_type": "fragment"
    }
   },
   "source": [
    "# Sapienza NLP Course 2023\n",
    "\n",
    "<div align='center'><img src=\"figs/sapienza_nlp.png\" width='85%' ></div>"
   ]
  },
  {
   "cell_type": "markdown",
   "metadata": {
    "cell_style": "split",
    "slideshow": {
     "slide_type": "slide"
    }
   },
   "source": [
    "# Sapienza NLP Course 2023\n",
    "<br>\n",
    "<div align='center'><img src=\"figs/sapienza_nlp.png\" width='85%' ></div>"
   ]
  },
  {
   "cell_type": "markdown",
   "metadata": {
    "cell_style": "split",
    "slideshow": {
     "slide_type": "fragment"
    }
   },
   "source": [
    "# Sapienza NLP Course 2024\n",
    "\n",
    "Welcome **Adrian**!\n",
    "<div align='center'><img src=\"figs/sapienza_nlp2.png\" width='85%' ></div>"
   ]
  },
  {
   "cell_type": "markdown",
   "metadata": {
    "slideshow": {
     "slide_type": "slide"
    }
   },
   "source": [
    "# Today's lecture\n",
    "## - From Sparse to Distributed Representations\n",
    "## - Latent Semantic Analysis (LSA)\n",
    "## - Introduction to Word2Vec"
   ]
  },
  {
   "cell_type": "markdown",
   "metadata": {
    "slideshow": {
     "slide_type": "slide"
    }
   },
   "source": [
    "# This lecture material is taken from\n",
    "📘 **Chapter 5 and 6 Jurafsky Book**\n",
    "\n",
    "📘 **Chapter 14.5 Eisenstein Book**\n",
    "- [Stanford Slide Word2Vec](http://web.stanford.edu/class/cs224n/slides/cs224n-2022-lecture01-wordvecs1.pdf)\n",
    "- [Stanford Lecture Word2Vec](https://www.youtube.com/watch?v=rmVRLeJRkl4&list=PLoROMvodv4rOSH4v6133s9LFPRHjEmbmJ&index=1)\n",
    "- [Stanford Notes on Word2Vec](http://web.stanford.edu/class/cs224n/readings/cs224n-2019-notes01-wordvecs1.pdf)\n",
    "\n",
    "**LSA** part is taken from **[Introduction to Information Retrieval by Manning](https://nlp.stanford.edu/IR-book/pdf/18lsi.pdf)**\n",
    "\n",
    "**Truncated SVD** from [sklearn](https://scikit-learn.org/stable/modules/decomposition.html#truncated-singular-value-decomposition-and-latent-semantic-analysis)\n",
    "\n",
    "📝 Research papers on word2vec:\n",
    "- [First paper: word2vec + hierarchical softmax](https://arxiv.org/pdf/1301.3781.pdf)\n",
    "- [Negative Sampling paper](https://proceedings.neurips.cc/paper/2013/file/9aa42b31882ec039965f3c4923ce901b-Paper.pdf)"
   ]
  },
  {
   "cell_type": "markdown",
   "metadata": {
    "slideshow": {
     "slide_type": "slide"
    }
   },
   "source": [
    "# Word2vec and Distributed Representations\n",
    "\n",
    "- Word2vec is a method for learning **distributed representations** of words (also called **word embeddings**).\n",
    "- These representations capture the **meanings of words** in a continuous vector space, where similar words are mapped to nearby points.\n",
    "- This allows words to be used in natural language processing tasks like **language translation** and **text classification**, in a way that reflects their meanings."
   ]
  },
  {
   "cell_type": "markdown",
   "metadata": {
    "slideshow": {
     "slide_type": "subslide"
    }
   },
   "source": [
    "# Word2vec and Distributed Representations\n",
    "\n",
    "- Distributed representations are useful because they **encode words in a way that preserves relationships** between them.\n",
    "- Word2vec uses a **shallow neural network** to learn these representations from large amounts of unannotated text data.\n",
    "- The word2vec model has two main learning algorithms: **continuous bag-of-words (CBOW)** and **skip-gram**. These algorithms have different strengths and are suitable for different tasks."
   ]
  },
  {
   "cell_type": "markdown",
   "metadata": {
    "slideshow": {
     "slide_type": "subslide"
    }
   },
   "source": [
    "...but there is a problem with the slides before 🤨 "
   ]
  },
  {
   "cell_type": "markdown",
   "metadata": {
    "slideshow": {
     "slide_type": "fragment"
    }
   },
   "source": [
    "...does anyone spot any problem?"
   ]
  },
  {
   "cell_type": "markdown",
   "metadata": {
    "slideshow": {
     "slide_type": "fragment"
    }
   },
   "source": [
    "well, they have been generated by a **large NLP language model optimized for dialogue 🤖**"
   ]
  },
  {
   "cell_type": "markdown",
   "metadata": {
    "slideshow": {
     "slide_type": "subslide"
    }
   },
   "source": [
    "# ChatGPT, if you do not believe me\n",
    "\n",
    "<br>\n",
    "<div align='center'><img src=\"figs/chatgpt_01.png\" width='45%' ></div>\n"
   ]
  },
  {
   "cell_type": "markdown",
   "metadata": {
    "slideshow": {
     "slide_type": "subslide"
    }
   },
   "source": [
    "# To keep you motivated, let me entertain you...\n",
    "\n",
    "Let's try latest NLP success **[ChatGPT](https://chat.openai.com/chat) by OpenAI**\n",
    "<br><br>\n",
    "<div align='center'><img src=\"figs/chatgpt_02.png\" width='45%' ></div>"
   ]
  },
  {
   "cell_type": "markdown",
   "metadata": {
    "slideshow": {
     "slide_type": "slide"
    }
   },
   "source": [
    "# NLP\n",
    "\n",
    "\n",
    "- Human (natural) language is different than Computer (Artificial) languages\n",
    "- Human language is a system specifically constructed to **convey meaning**\n",
    "- Vision is produced by a **physical manifestation of a signal**, **NLP is not**\n",
    "- Human language uses symbols to indicate extra-linguistic entities\n",
    "\n",
    "<br><br>\n",
    "<center>\n",
    "<h2>Word : Signifier = Idea : Signified</h2>\n",
    "<h2>\"tree\" = {🎄,🌳,🌴,🌲,🏝,}</h2>\n",
    "</center>\n",
    "\n",
    "\n",
    "<br>\n",
    "\n",
    "_Stat rosa pristina nomine, nomina nuda tenemus_"
   ]
  },
  {
   "cell_type": "markdown",
   "metadata": {
    "slideshow": {
     "slide_type": "subslide"
    }
   },
   "source": [
    "# NLP models discrete symbols\n",
    "\n",
    "\n",
    "- Vision and Audio are modeled as continuous signals that are then discretized (e.g. images)\n",
    "- NLP instead is a **discrete/symbolic/categorical** domain.\n",
    "    - This is why so far you have seen a lot of `count()`. \n",
    "    - All the math involved in NLP is mostly **discrete math**."
   ]
  },
  {
   "cell_type": "markdown",
   "metadata": {
    "slideshow": {
     "slide_type": "subslide"
    }
   },
   "source": [
    "# Let's take a quick grasp of the difference between NLP and Vision"
   ]
  },
  {
   "cell_type": "markdown",
   "metadata": {
    "slideshow": {
     "slide_type": "subslide"
    }
   },
   "source": [
    "# Let's sample from a English Corpus"
   ]
  },
  {
   "cell_type": "code",
   "execution_count": 3,
   "metadata": {
    "slideshow": {
     "slide_type": "slide"
    }
   },
   "outputs": [],
   "source": [
    "# downloaded from https://www.nltk.org/nltk_data/\n",
    "# https://raw.githubusercontent.com/nltk/nltk_data/gh-pages/packages/corpora/words.zip\n",
    "with open('data/en-basic.txt') as fr: words = fr.read().split('\\n')"
   ]
  },
  {
   "cell_type": "markdown",
   "metadata": {
    "slideshow": {
     "slide_type": "slide"
    }
   },
   "source": [
    "```python\n",
    "print(*random.choices(words, k=100), sep=' ')\n",
    "```"
   ]
  },
  {
   "cell_type": "markdown",
   "metadata": {
    "slideshow": {
     "slide_type": "subslide"
    },
    "variables": {
     "len(words)": "851",
     "random.seed(42);print(*random.choices(words,k=100), sep=' ')": "pot and enough deep secret rat thunder black industry answer death material angle crime probable nation debt organization spade acid soup reward free circle west forward board bone substance parcel south scissors move window hanging needle sticky pipe table old river attack design expert between different bottle error poor grass group cut education voice prison peace comfort science coat hanging writing pot news receipt street sky desire any first education damage warm the fire property help tray lead east do normal early opposite tin history death you measure blue attention breath pleasure so industry basket harbour yesterday moon will system"
    }
   },
   "source": [
    "# \"Unigram\" model (no use of frequency)\n",
    "\n",
    "Sampling from a corpus of **#{{len(words)}} words**\n",
    "\n",
    "```\n",
    "{{random.seed(42);print(*random.choices(words,k=100), sep=' ')}}\n",
    "```"
   ]
  },
  {
   "cell_type": "markdown",
   "metadata": {
    "slideshow": {
     "slide_type": "fragment"
    }
   },
   "source": [
    "The text **globally does not make sense** but we still understand each word.\n",
    "\n",
    "At times, **a few parts seem almost meaningful**:\n",
    "- `and enough deep secret`\n",
    "- `warm the fire property`\n",
    "- `so industry basket`"
   ]
  },
  {
   "cell_type": "markdown",
   "metadata": {
    "slideshow": {
     "slide_type": "subslide"
    }
   },
   "source": [
    "# now  with Vision"
   ]
  },
  {
   "cell_type": "code",
   "execution_count": 4,
   "metadata": {
    "slideshow": {
     "slide_type": "subslide"
    }
   },
   "outputs": [
    {
     "name": "stdout",
     "output_type": "stream",
     "text": [
      "Image shape is (120, 120, 4) --> HxWx(RGBA)\n"
     ]
    },
    {
     "data": {
      "image/png": "[encoded data removed]",
      "text/plain": [
       "<Figure size 700x700 with 1 Axes>"
      ]
     },
     "metadata": {},
     "output_type": "display_data"
    }
   ],
   "source": [
    "import matplotlib.pyplot as plt\n",
    "import matplotlib.image as mpimg\n",
    "img = mpimg.imread('data/mario.png')\n",
    "plt.figure(figsize=(7,7));\n",
    "imgplot = plt.imshow(img)\n",
    "plt.axis('off');\n",
    "print(f'Image shape is {img.shape} --> HxWx(RGBA)');"
   ]
  },
  {
   "cell_type": "markdown",
   "metadata": {
    "slideshow": {
     "slide_type": "subslide"
    },
    "variables": {
     "plt.figure(figsize=(5,5));_=plt.imshow(img);_=plt.axis('off');": "<img src=\"data:image/png;base64,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\n\"/>"
    }
   },
   "source": [
    "# Vision\n",
    "\n",
    "Mario below is an instance in space of $\\mathbb{Z}_{[0,255]}^{120\\times120\\times3}$,  if we do not consider the alpha channel.\n",
    "- each pixel takes value in $[0,255]$\n",
    "- we have HxWx3 cell grid to fill\n",
    "\n",
    "<center>\n",
    "{{plt.figure(figsize=(5,5));_=plt.imshow(img);_=plt.axis('off');}}\n",
    "</center>"
   ]
  },
  {
   "cell_type": "markdown",
   "metadata": {
    "slideshow": {
     "slide_type": "subslide"
    }
   },
   "source": [
    "# Let's sample randomly in the \"visual\" space\n",
    "\n",
    "```python\n",
    "import numpy as np\n",
    "rand_im = random.choices(range(0, 256), k=120*120*3)\n",
    "rand_im = np.array(rand_im).reshape(120, 120, 3)\n",
    "imgplot = plt.imshow(rand_im)\n",
    "plt.axis('off');\n",
    "```\n",
    "## What would you expect?"
   ]
  },
  {
   "cell_type": "code",
   "execution_count": 5,
   "metadata": {
    "hide_input": false,
    "slideshow": {
     "slide_type": "subslide"
    }
   },
   "outputs": [
    {
     "data": {
      "image/png": "[encoded data removed]",
      "text/plain": [
       "<Figure size 500x500 with 1 Axes>"
      ]
     },
     "metadata": {},
     "output_type": "display_data"
    }
   ],
   "source": [
    "import numpy as np\n",
    "rand_im = random.choices(range(0, 256), k=120*120*3)\n",
    "rand_im = np.array(rand_im).reshape(120, 120, 3)\n",
    "plt.figure(figsize=(5,5))\n",
    "imgplot=plt.imshow(rand_im)\n",
    "_=plt.axis('off')"
   ]
  },
  {
   "cell_type": "markdown",
   "metadata": {
    "slideshow": {
     "slide_type": "fragment"
    }
   },
   "source": [
    "# Much more non-sense than with text, right?\n"
   ]
  },
  {
   "cell_type": "markdown",
   "metadata": {
    "slideshow": {
     "slide_type": "subslide"
    }
   },
   "source": [
    "# Vision\n",
    "\n",
    "- No notion of discrete symbols. What is the semantic of a pixel?\n",
    "- Continuous signal that is discretized on a grid"
   ]
  },
  {
   "cell_type": "markdown",
   "metadata": {
    "slideshow": {
     "slide_type": "slide"
    }
   },
   "source": [
    "# NLP meets Vision will return at the end of the course"
   ]
  },
  {
   "cell_type": "markdown",
   "metadata": {
    "slideshow": {
     "slide_type": "slide"
    }
   },
   "source": [
    "#  A bit of Linguistics to start\n",
    "\n",
    "Definition of mouse from a dictionary:\n",
    "```text\n",
    "mouse (N)\n",
    "1.  any of numerous small rodents...\n",
    "2.  a hand-operated device that controls a cursor...\n",
    "```\n",
    "\n",
    "- **mouse** is called a **lemma or citation form**; for verbs usually the **lemma** is the infinite form\n",
    "- **mice**  is a **wordform** (in this case the, irregular, plural form of mouse)"
   ]
  },
  {
   "cell_type": "markdown",
   "metadata": {
    "slideshow": {
     "slide_type": "subslide"
    }
   },
   "source": [
    "# Word Sense\n",
    "\n",
    "Multiple aspects of the meaning of a word\n",
    "\n",
    "```text\n",
    "mouse (N)\n",
    "1.  any of numerous small rodents...\n",
    "2.  a hand-operated device that controls a cursor...\n",
    "```\n",
    "\n",
    "without **context** it is difficult to say if `mouse` refers to `1.` or `2.`\n"
   ]
  },
  {
   "cell_type": "markdown",
   "metadata": {
    "cell_style": "split",
    "slideshow": {
     "slide_type": "subslide"
    }
   },
   "source": [
    "<div align='center'><img src=\"figs/mouse.png\" width='45%' ></div>"
   ]
  },
  {
   "cell_type": "markdown",
   "metadata": {
    "cell_style": "split",
    "slideshow": {
     "slide_type": "fragment"
    }
   },
   "source": [
    "<div align='center'><img src=\"figs/mouse_animal.png\" width='45%' ></div>"
   ]
  },
  {
   "cell_type": "markdown",
   "metadata": {
    "slideshow": {
     "slide_type": "subslide"
    }
   },
   "source": [
    "# Word Sense Disambiguation\n",
    "\n",
    "<div align='center'><img src=\"figs/google.png\" width='45%' ></div>"
   ]
  },
  {
   "cell_type": "markdown",
   "metadata": {
    "slideshow": {
     "slide_type": "subslide"
    }
   },
   "source": [
    "# Synonym\n",
    "\n",
    "- One important component of **word meaning** is the relationship between word senses. \n",
    "- For example when **one word has a sense whose meaning** is _identical_ to a **sense of another word** we say the two senses of those two words are **synonyms**.\n",
    "\n",
    "| **Word A** \t| **Word B** \t|\n",
    "|:----------:\t|-----------:\t|\n",
    "| couch      \t|       sofa \t|\n",
    "| car        \t| automobile \t|\n",
    "| hazelnut   \t|    filbert \t|"
   ]
  },
  {
   "cell_type": "markdown",
   "metadata": {
    "slideshow": {
     "slide_type": "subslide"
    }
   },
   "source": [
    "# Word Similarity: what this lecture is about\n",
    "\n",
    "- While words do not have many synonyms, most words do have lots of similar words\n",
    "- Cat is not a synonym of dog, but **cats and dogs are certainly similar words** (for sure more than **cat vs airplane**)\n",
    "- The notion of **word similarity** is very useful in larger semantic tasks\n",
    "\n",
    "|       |            |         |\n",
    "|:----- | -------:   | -------:\t\n",
    "vanish \t| disappear  | 9.8 \n",
    "belief  | impression | 5.95\n",
    "muscle  | bone       | 3.65 \n",
    "modest  | flexible   | 0.98\n",
    "hole \t| agreement  | 0.3  "
   ]
  },
  {
   "cell_type": "markdown",
   "metadata": {
    "slideshow": {
     "slide_type": "subslide"
    }
   },
   "source": [
    "# Representing Words as Discrete Symbols: One-Hot Encoding\n",
    "\n",
    "In traditional NLP, we regard words as discrete symbols.\n",
    "\n",
    "`hotel, conference, motel` can be represented with a vector $\\bx$:\n",
    "- of dimension $|V|$\n",
    "- each component indexes a word in the vocabulary $V$\n",
    "- if we are dealing with a word present in $V$ at index $i$ then:\n",
    "\n",
    "$$\n",
    "\\bx_j = \\begin{cases} 1, & \\mbox{if } i=j \\\\\n",
    "                       0  & \\forall j \\neq i\n",
    "          \\end{cases}\n",
    "$$\n",
    "\n",
    "visually this is something as:\n",
    "\n",
    "   0   |   0   |   0   |    0   |   1    |   ...    |    0   |       |       |       |\n",
    ":----- |:----- |:----- |:----- |:----- |:----- |:----- |:----- |:----- |:----- |\n",
    " cat   |  airplane     |   dog     |  beer     |  hotel      |  ....     |   garden    |       |       |       |\n",
    "\n",
    "\n"
   ]
  },
  {
   "cell_type": "markdown",
   "metadata": {
    "slideshow": {
     "slide_type": "subslide"
    }
   },
   "source": [
    "# Representing Words as Discrete Symbols: One-Hot Encoding\n",
    "\n",
    "In traditional NLP, we regard words as discrete symbols.\n",
    "\n",
    "`hotel, conference, motel` can be represented with a vector $\\bx$:\n",
    "- of dimension $|V|$\n",
    "- each component indexes a word in the vocabulary $V$\n",
    "- if we are dealing with a word present in $V$ at index $i$ then:\n",
    "\n",
    "$$\n",
    "\\bx_j = \\begin{cases} 1, & \\mbox{if } i=j \\\\\n",
    "                       0  & \\forall j \\neq i\n",
    "          \\end{cases}\n",
    "$$\n",
    "\n",
    "More formally:\n",
    "$$\n",
    "\\bxt{hotel} = \\underbrace{[0~0~0~0~1~0~0\\ldots 0~0~0~0~0~0]}_{|V|}\n",
    "$$\n",
    "\n",
    "\n"
   ]
  },
  {
   "cell_type": "markdown",
   "metadata": {
    "slideshow": {
     "slide_type": "fragment"
    }
   },
   "source": [
    "Is the same as saying that the word `hotel` appears at index 4 in the vocabulary (starting from zero)"
   ]
  },
  {
   "cell_type": "markdown",
   "metadata": {
    "slideshow": {
     "slide_type": "slide"
    }
   },
   "source": [
    "# Brief recap on Linear Algebra"
   ]
  },
  {
   "cell_type": "markdown",
   "metadata": {
    "slideshow": {
     "slide_type": "slide"
    }
   },
   "source": [
    "# Vectors: Geometric Interpretation 1 \n",
    "## Point in space\n",
    "\n",
    "- Given a vector, the first interpretation\n",
    "that we should give it is as a **point in space.**\n",
    "\n",
    "- In two or three dimensions, we can visualize these points\n",
    "by using the components of the vectors to define\n",
    "the location of the points in space compared\n",
    "to a fixed reference called the *origin*.\n",
    "\n",
    "<img class=\"center\" src=\"https://raw.githubusercontent.com/d2l-ai/d2l-en/master/img/grid-points.svg\" width=\"30%\">\n"
   ]
  },
  {
   "cell_type": "markdown",
   "metadata": {
    "slideshow": {
     "slide_type": "subslide"
    }
   },
   "source": [
    "##### Formalizing problems\n",
    "This geometric point of view allows us to consider the problem on a more abstract level.\n",
    "No longer faced with some insurmountable seeming problem\n",
    "like classifying pictures as either cats or dogs but separate points in space.\n",
    "\n",
    "`Problem -> Formalization -> Math -> Computational System`\n",
    "\n",
    "<small>Taken from [d2l.ai](https://d2l.ai)<small>"
   ]
  },
  {
   "cell_type": "markdown",
   "metadata": {
    "slideshow": {
     "slide_type": "subslide"
    }
   },
   "source": [
    "# Vectors: Geometric Interpretation 2 \n",
    "## Direction in space\n",
    "\n",
    "In parallel, there is a second point of view\n",
    "that people often take of vectors: **as directions in space.**\n",
    "Not only can we think of the vector $\\mathbf{v} = [3,2]^\\top$\n",
    "as the location $3$ units to the right and $2$ units up from the origin,\n",
    "we can also think of it as the direction itself\n",
    "to take $3$ steps to the right and $2$ steps up.\n",
    "In this way, we consider all the vectors in figure the same.\n",
    "<img src=\"https://raw.githubusercontent.com/d2l-ai/d2l-en/master/img/par-vec.svg\" width=\"30%\">"
   ]
  },
  {
   "cell_type": "markdown",
   "metadata": {
    "slideshow": {
     "slide_type": "subslide"
    }
   },
   "source": [
    "## Direction in space\n",
    "\n",
    "One of the benefits of this shift is that\n",
    "we can make visual sense of the act of vector addition.\n",
    "In particular, we follow the directions given by one vector,\n",
    "and then follow the directions given by the other, as is seen below.\n",
    "\n",
    "<img src=\"https://raw.githubusercontent.com/d2l-ai/d2l-en/master/img/vec-add.svg\" width=\"30%\">\n",
    "\n",
    "Difference is just $\\mathbf{A}-\\mathbf{B}=\\mathbf{A}+(-\\mathbf{B})$\n",
    "\n",
    "<small>Taken from [d2l.ai]<small>"
   ]
  },
  {
   "cell_type": "markdown",
   "metadata": {
    "slideshow": {
     "slide_type": "subslide"
    }
   },
   "source": [
    "# Inner Product (Dot Product)\n",
    "\n",
    "\\begin{equation} \\mathbf{x}, \\mathbf{y} \\in \\mathbb{R}^D ~~~~~~~~~\\quad \n",
    "\\mathbf{x}^T \\mathbf{y} = \\left\\langle\\mathbf{x}, \\mathbf{y}\\right\\rangle = \\sum_i^D \\mathbf{x}_i \\cdot \\mathbf{y}_i\n",
    "\\end{equation}\n",
    "\n",
    "```\n",
    "x1 x2 x3 x4 \n",
    "           y1\n",
    "           y2   =    result (dot_product)\n",
    "           y3\n",
    "           y4\n",
    "\n",
    "\n",
    "dot_product = x1y1 + x2y2 + x3y3 + x4y4\n",
    "```\n",
    "\n",
    "- The result is a **scalar** (not a vector anymore).\n",
    "- $\\mathbf{x}, \\mathbf{y}$ must live in the same dimension\n",
    "- It is **commutative**\n",
    "- The data is **paired**: just muliply elementwise and sum across axis."
   ]
  },
  {
   "cell_type": "markdown",
   "metadata": {
    "slideshow": {
     "slide_type": "subslide"
    }
   },
   "source": [
    "# Inner product: Geometric Interpretation\n",
    "\n",
    "- The dot product also admits a geometric interpretation: **it is closely related to the angle between two vectors.** \n",
    "- It is biased by the norm (\"length\") of the vectors (it favors \"long\" vectors)\n",
    "\n",
    "\n",
    "<img src=\"https://raw.githubusercontent.com/d2l-ai/d2l-en/master/img/vec-angle.svg\" width=\"30%\">\n",
    "\n",
    "$$\n",
    "\\mathbf{v}\\cdot\\mathbf{w} = \\|\\mathbf{v}\\|\\|\\mathbf{w}\\|\\cos(\\theta).\n",
    "$$"
   ]
  },
  {
   "cell_type": "markdown",
   "metadata": {
    "slideshow": {
     "slide_type": "subslide"
    }
   },
   "source": [
    "With some simple algebraic manipulation, we can rearrange terms to obtain\n",
    "\n",
    "$$\n",
    "\\theta = \\arccos\\left(\\frac{\\mathbf{v}\\cdot\\mathbf{w}}{\\|\\mathbf{v}\\|\\|\\mathbf{w}\\|}\\right).\n",
    "$$\n",
    "\n",
    "\n",
    "This is a nice result since nothing in the computation references two-dimensions.\n",
    "\n",
    "**Indeed, we can use this in three or three million dimensions without issue.**"
   ]
  },
  {
   "cell_type": "markdown",
   "metadata": {
    "slideshow": {
     "slide_type": "subslide"
    }
   },
   "source": [
    "### Cosine Similarity\n",
    "In ML contexts where the **angle is employed\n",
    "to measure the closeness of two vectors**,\n",
    "practitioners adopt the term **cosine similarity**\n",
    "to refer to the portion\n",
    "$$\n",
    "\\cos(\\theta) = \\underbrace{\\frac{\\mathbf{v}\\cdot\\mathbf{w}}{\\|\\mathbf{v}\\|\\|\\mathbf{w}\\|}}_{\\text{cosine similarity}}.\n",
    "$$\n",
    "\n",
    "- What happens if cosine similarity is 1?\n",
    "- Notice any similarity with some concept we saw in previous lecture?"
   ]
  },
  {
   "cell_type": "markdown",
   "metadata": {
    "slideshow": {
     "slide_type": "subslide"
    }
   },
   "source": [
    "# The problem of Dot Product and One-Hot Encoding\n",
    "\n",
    "Assume a vocabulary of words $V$\n",
    "\n",
    "$$\n",
    "\\bxt{motel} =  \n",
    "\\begin{bmatrix}\n",
    "0 \\\\\n",
    "1 \\\\\n",
    "\\ldots, \\\\\n",
    "0 \\\\\n",
    "\\end{bmatrix} \\quad\n",
    "\\bxt{hotel} =  \n",
    "\\begin{bmatrix}\n",
    "0 \\\\\n",
    "1 \\\\\n",
    "\\ldots, \\\\\n",
    "0 \\\\\n",
    "\\end{bmatrix} \\quad \\ldots\n",
    "\\quad\n",
    "\\bxt{car} =  \n",
    "\\begin{bmatrix}\n",
    "0 \\\\\n",
    "1 \\\\\n",
    "\\ldots, \\\\\n",
    "0 \\\\\n",
    "\\end{bmatrix}\n",
    "$$"
   ]
  },
  {
   "cell_type": "markdown",
   "metadata": {
    "slideshow": {
     "slide_type": "fragment"
    }
   },
   "source": [
    " $$ \\bxt{motel}^T \\bxt{hotel} = \\bxt{motel}^T\\bxt{car}=0$$\n",
    " \n",
    "There is no notion of similarity and vectors are very long--size of $|V|$."
   ]
  },
  {
   "cell_type": "markdown",
   "metadata": {
    "slideshow": {
     "slide_type": "subslide"
    }
   },
   "source": [
    "# The Distributional Hypothesis\n",
    "\n",
    "<div align='center'><img src=\"figs/firth.png\" width='10%' ></div>\n",
    "    \n",
    "Stated by J. R. Firth (1957) as: \n",
    "\n",
    "> \"You shall know a word by the company it keeps\"\n",
    "\n",
    "Distributional statistics have a striking ability to capture lexical semantic relationships such as **analogies**."
   ]
  },
  {
   "cell_type": "markdown",
   "metadata": {
    "slideshow": {
     "slide_type": "subslide"
    }
   },
   "source": [
    "# Distributional statistics and unsupervised learning\n",
    "\n",
    "The distributional hypothesis has stood the test of time: \n",
    "- distributional statistics are a core part of language technology today\n",
    "- they make it possible to leverage large amounts of **unlabeled data** to learn about rare words that do not appear in labeled training data"
   ]
  },
  {
   "cell_type": "markdown",
   "metadata": {
    "slideshow": {
     "slide_type": "slide"
    }
   },
   "source": [
    "# The meaning of the word `tezguino`"
   ]
  },
  {
   "cell_type": "markdown",
   "metadata": {
    "slideshow": {
     "slide_type": "fragment"
    }
   },
   "source": [
    "<div align='center'><img src=\"figs/tezguino.png\" width='45%' ></div>"
   ]
  },
  {
   "cell_type": "markdown",
   "metadata": {
    "slideshow": {
     "slide_type": "subslide"
    }
   },
   "source": [
    "# The context plays a big role\n",
    "\n",
    "We evince that `tezguino` may be an **alcoholic beverage made from corn mash.**\n",
    "\n",
    "<div align='center'><img src=\"figs/tezguino.png\" width='45%' ></div>"
   ]
  },
  {
   "cell_type": "markdown",
   "metadata": {
    "cell_style": "split",
    "slideshow": {
     "slide_type": "subslide"
    }
   },
   "source": [
    "# Long, Sparse\n",
    "\n",
    "- One-Hot Encoding\n",
    "- TF-IDF\n",
    "- Term-Document matrix\n",
    "- PPMI (Point-wise Mutual Information)"
   ]
  },
  {
   "cell_type": "markdown",
   "metadata": {
    "cell_style": "split",
    "slideshow": {
     "slide_type": "fragment"
    }
   },
   "source": [
    "# Short, Dense\n",
    "\n",
    "- Latent Semantic Analysis (LSA)\n",
    "- word2vec"
   ]
  },
  {
   "cell_type": "markdown",
   "metadata": {
    "slideshow": {
     "slide_type": "subslide"
    }
   },
   "source": [
    "# Long, Sparse: Term-Document Matrix"
   ]
  },
  {
   "cell_type": "markdown",
   "metadata": {
    "slideshow": {
     "slide_type": "subslide"
    }
   },
   "source": [
    "```python\n",
    "corpus = [\n",
    "    'This document is the second document.', #document 0\n",
    "    'And this is the third one.',            #document 1\n",
    "    'Is this the first document?',           #document 2\n",
    "]\n",
    "```"
   ]
  },
  {
   "cell_type": "code",
   "execution_count": 6,
   "metadata": {
    "run_control": {
     "marked": false
    },
    "slideshow": {
     "slide_type": "skip"
    }
   },
   "outputs": [],
   "source": [
    "from sklearn.feature_extraction.text import CountVectorizer\n",
    "corpus = [\n",
    "    'This document is the second document.', #0\n",
    "    'And this is the third one.',            #1\n",
    "    'Is this the first document?',           #2\n",
    "]\n",
    "vectorizer = CountVectorizer()\n",
    "X = vectorizer.fit_transform(corpus)\n",
    "td_matrix=pd.DataFrame(data=X.todense(), \n",
    "             index=[f'doc-{i}' for i in range(X.shape[0])],\n",
    "             columns=vectorizer.get_feature_names_out(),)"
   ]
  },
  {
   "cell_type": "markdown",
   "metadata": {
    "slideshow": {
     "slide_type": "subslide"
    },
    "variables": {
     "td_matrix": "<div>\n<style scoped>\n    .dataframe tbody tr th:only-of-type {\n        vertical-align: middle;\n    }\n\n    .dataframe tbody tr th {\n        vertical-align: top;\n    }\n\n    .dataframe thead th {\n        text-align: right;\n    }\n</style>\n<table border=\"1\" class=\"dataframe\">\n  <thead>\n    <tr style=\"text-align: center;\">\n      <th></th>\n      <th>and</th>\n      <th>document</th>\n      <th>first</th>\n      <th>is</th>\n      <th>one</th>\n      <th>second</th>\n      <th>the</th>\n      <th>third</th>\n      <th>this</th>\n    </tr>\n  </thead>\n  <tbody>\n    <tr>\n      <th>doc-0</th>\n      <td>0</td>\n      <td>2</td>\n      <td>0</td>\n      <td>1</td>\n      <td>0</td>\n      <td>1</td>\n      <td>1</td>\n      <td>0</td>\n      <td>1</td>\n    </tr>\n    <tr>\n      <th>doc-1</th>\n      <td>1</td>\n      <td>0</td>\n      <td>0</td>\n      <td>1</td>\n      <td>1</td>\n      <td>0</td>\n      <td>1</td>\n      <td>1</td>\n      <td>1</td>\n    </tr>\n    <tr>\n      <th>doc-2</th>\n      <td>0</td>\n      <td>1</td>\n      <td>1</td>\n      <td>1</td>\n      <td>0</td>\n      <td>0</td>\n      <td>1</td>\n      <td>0</td>\n      <td>1</td>\n    </tr>\n  </tbody>\n</table>\n</div>"
    }
   },
   "source": [
    "# Term-Document Matrix\n",
    "\n",
    "$|V|=9$ is the vocabulary size and $|D|=3$ is the number of documents\n",
    "\n",
    "$$ \\text{count}(t,d)\\quad  t \\in V$$\n",
    "\n",
    "{{td_matrix}}\n",
    "\n",
    "You can interpret it two ways:\n",
    "1. $|D|=3$ documents vectors that lives in a $|V|$ dimensional space (row-wise)\n",
    "    - An axis of the space indicates a **word**\n",
    "2. $V$ word vectors that lives in a $|D|=3$ dimensional space (column-wise)\n",
    "    - An axis of the space indicates a **document**"
   ]
  },
  {
   "cell_type": "markdown",
   "metadata": {
    "slideshow": {
     "slide_type": "subslide"
    }
   },
   "source": [
    "# Long, Sparse: TF-IDF Matrix"
   ]
  },
  {
   "cell_type": "code",
   "execution_count": 7,
   "metadata": {
    "run_control": {
     "marked": false
    },
    "slideshow": {
     "slide_type": "skip"
    }
   },
   "outputs": [],
   "source": [
    "from sklearn.feature_extraction.text import TfidfVectorizer\n",
    "corpus = [\n",
    "    'This document is the second document.', #0\n",
    "    'And this is the third one.',            #1\n",
    "    'Is this the first document?',           #2\n",
    "]\n",
    "vectorizer = TfidfVectorizer()\n",
    "X = vectorizer.fit_transform(corpus)\n",
    "tfidf_matrix=pd.DataFrame(data=X.todense(), \n",
    "             index=[f'doc-{i}' for i in range(X.shape[0])],\n",
    "             columns=vectorizer.get_feature_names_out(),)"
   ]
  },
  {
   "cell_type": "markdown",
   "metadata": {
    "slideshow": {
     "slide_type": "subslide"
    },
    "variables": {
     "tfidf_matrix": "<div>\n<style scoped>\n    .dataframe tbody tr th:only-of-type {\n        vertical-align: middle;\n    }\n\n    .dataframe tbody tr th {\n        vertical-align: top;\n    }\n\n    .dataframe thead th {\n        text-align: right;\n    }\n</style>\n<table border=\"1\" class=\"dataframe\">\n  <thead>\n    <tr style=\"text-align: center;\">\n      <th></th>\n      <th>and</th>\n      <th>document</th>\n      <th>first</th>\n      <th>is</th>\n      <th>one</th>\n      <th>second</th>\n      <th>the</th>\n      <th>third</th>\n      <th>this</th>\n    </tr>\n  </thead>\n  <tbody>\n    <tr>\n      <th>doc-0</th>\n      <td>0.00000</td>\n      <td>0.728445</td>\n      <td>0.000000</td>\n      <td>0.282851</td>\n      <td>0.00000</td>\n      <td>0.478909</td>\n      <td>0.282851</td>\n      <td>0.00000</td>\n      <td>0.282851</td>\n    </tr>\n    <tr>\n      <th>doc-1</th>\n      <td>0.49712</td>\n      <td>0.000000</td>\n      <td>0.000000</td>\n      <td>0.293607</td>\n      <td>0.49712</td>\n      <td>0.000000</td>\n      <td>0.293607</td>\n      <td>0.49712</td>\n      <td>0.293607</td>\n    </tr>\n    <tr>\n      <th>doc-2</th>\n      <td>0.00000</td>\n      <td>0.469417</td>\n      <td>0.617227</td>\n      <td>0.364544</td>\n      <td>0.00000</td>\n      <td>0.000000</td>\n      <td>0.364544</td>\n      <td>0.00000</td>\n      <td>0.364544</td>\n    </tr>\n  </tbody>\n</table>\n</div>"
    }
   },
   "source": [
    "# TF-IDF Matrix\n",
    "\n",
    "$$\\text{tf}(t,d) = \\log_{10}\\big(\\text{count}(t,d)+1\\big)\\quad \\text{idf}(t) = \\log_{10}\\Big(\\frac{|D|}{\\text{df(t)}}\\Big)\\quad  df(t)= \\sum_{d=1}^{|D|} \\mathbb{1}[t \\in d] $$\n",
    "\n",
    "$$ \\text{w}(t,d) \\doteq \\text{tf}(t,d) \\cdot \\text{idf}(t)   $$\n",
    "{{tfidf_matrix}}"
   ]
  },
  {
   "cell_type": "markdown",
   "metadata": {
    "slideshow": {
     "slide_type": "slide"
    }
   },
   "source": [
    "# How do we go Short and Dense?"
   ]
  },
  {
   "cell_type": "markdown",
   "metadata": {
    "slideshow": {
     "slide_type": "slide"
    }
   },
   "source": [
    "# How do we go Short and Dense?\n",
    "\n",
    "> \"You shall know a word by the company it keeps\"\n",
    "\n",
    "**Word embeddings (dense)** are estimated by **optimizing some objective**: the reconstruction of a matrix of context count or the likelihood of a set of unlabeled data.\n",
    "\n",
    "1. **[Latent Semantic Analysis (LSA)]** Factorize your count matrix $\\mbf{X}$ by minimizing its reconstruction $|| \\mbf{X} - \\mbf{X}(\\mbf{u},\\mbf{v})||_F$ and learning $\\mbf{u}$ document embedding and $\\mbf{v}$ word embedding\n",
    "2. **[Word2vec]** we optimize the likelihood-based optimization of a model that encodes word embeddings over a corpus of training data with self-supervision.\n"
   ]
  },
  {
   "cell_type": "markdown",
   "metadata": {
    "slideshow": {
     "slide_type": "subslide"
    }
   },
   "source": [
    "# Latent Semantic Analysis (LSA)\n",
    "\n",
    "Sometimes it is called *Latent Semantic Indexing (LSI)*"
   ]
  },
  {
   "cell_type": "markdown",
   "metadata": {
    "slideshow": {
     "slide_type": "subslide"
    }
   },
   "source": [
    "# Latent Semantic Analysis (LSA)\n",
    "\n",
    "It is related to different concept of machine learning and unsupervised learning\n",
    "\n",
    "- Eigendecomposition and Singular Value Decomposition (SVD)\n",
    "- Dimensionality reduction (I have features in $N$ dimensional space I want to reduce it to $M$ dimensions $M\\ll N$)\n",
    "- **Finding latent topics in text in an unsupervised way**\n",
    "- From long, sparse representation to **short, dense**"
   ]
  },
  {
   "cell_type": "markdown",
   "metadata": {
    "slideshow": {
     "slide_type": "subslide"
    }
   },
   "source": [
    "# Decompose a matrix\n",
    "\n",
    "Assume $\\mathbf{X}$ is your term-document or tf-idf matrix computed over a corpus.\n",
    "\n",
    "$\\mathbf{X}$ dimension is $|D| \\times |V|$ so it captures some form of correlation between:\n",
    " - term vs term in a vector space defined by documents\n",
    " - document vs document in a vector space define by terms\n",
    "\n",
    "**Key idea 1:** Assume there are $k$ hidden topics that we do not know about, but seek for discovering them in unsupervised way.\n",
    "\n",
    "**Key idea 2:** Do not look at  $\\mathbf{X}$ simply as raw data yet decompose it in a way that **the decomposition gives you information and imposes constraints.**"
   ]
  },
  {
   "cell_type": "markdown",
   "metadata": {
    "slideshow": {
     "slide_type": "subslide"
    }
   },
   "source": [
    "# Decompose with SVD (Singular Value Decomposition)\n",
    "\n",
    "For now we simply seek to decompose $\\mathbf{X} = \\mathbf{U}\\mathbf{S}\\mathbf{V}^{\\top}$"
   ]
  },
  {
   "cell_type": "markdown",
   "metadata": {
    "slideshow": {
     "slide_type": "fragment"
    }
   },
   "source": [
    "$\\mathbf{X} \\in \\mathbb{R}^{|D| \\times |V|} \\qquad = \\qquad {\\mathbf{U} \\in \\mathbb{R}^{|D| \\times |D|}, ~~\\mathbf{S} \\in \\mathbb{R}^{|D| \\times |V|},~~ \\mathbf{V} \\in \\mathbb{R}^{|V| \\times |V|}}$\n",
    "\n",
    "<br>\n",
    "\\begin{equation}\n",
    "\\begin{aligned}\n",
    "\\arg\\min_{\\mathbf{U},\\mathbf{S},\\mathbf{V}}  & \\left\\|\\mathbf{X}-\\mathbf{U S V}^{\\top}\\right\\|_F \\\\\n",
    "\\text { s.t. } & \\mathbf{U}^{\\top} \\mathbf{U}=\\text{Id} \\quad \\mathbf{V}^{\\top} \\mathbf{V}=\\text{Id} \\\\\n",
    "& \\mathbf{S}=\\text{diag}(\\lambda_1,....\\lambda_s)\\\\\n",
    "& \\text{we seek  }  \\mathbf{U}\\mathbf{S}\\mathbf{V}^{\\top} \\text{to be low-rank}\n",
    "\\end{aligned}\n",
    "\\end{equation}"
   ]
  },
  {
   "cell_type": "markdown",
   "metadata": {
    "slideshow": {
     "slide_type": "fragment"
    }
   },
   "source": [
    "##### Property\n",
    "- $\\mathbf{U}^{\\top} \\mathbf{U}=\\text{Id}$ **orthonormality constraints** that all pairs of dimensions in U and V are uncorrelated, so that each dimension conveys unique information\n",
    "- $\\mbf{S}$ is a diagonal matrix containing the ordered singular values (denote the **importance** of each axis in the new  space)"
   ]
  },
  {
   "cell_type": "markdown",
   "metadata": {
    "slideshow": {
     "slide_type": "subslide"
    }
   },
   "source": [
    "# SVD Visually\n",
    "\n",
    "<div align='center'><img src=\"figs/tsvd.png\" width='65%' ></div>"
   ]
  },
  {
   "cell_type": "markdown",
   "metadata": {
    "slideshow": {
     "slide_type": "subslide"
    }
   },
   "source": [
    "# Low-rank approximation of the data with Truncated SVD\n",
    "\n",
    "**Key idea:** We assume there might be $k \\ll D$ latent topics in your data matrix $\\mbf{X}$.\n",
    "- We use **SVD** but now approximate $\\mbf{X}$ by **just considering the highest singular values**\n",
    "- In some sense, it is a way of saying we consider most of the variations in the data; \n",
    "- small variations may be related to noise and so we \"throw them away\".\n",
    "\n",
    "$$\\mbf{X} \\approx \\mbf{X}_k = \\mbf{U_k S_k V_k}^{\\top}$$\n",
    "<br><br><br>\n",
    "<div align='center'><img src=\"figs/mysvd.png\" width='65%' ></div>"
   ]
  },
  {
   "cell_type": "markdown",
   "metadata": {
    "slideshow": {
     "slide_type": "subslide"
    }
   },
   "source": [
    "# Truncated SVD - Low-rank approximation\n",
    "\n",
    "<div align='center'><img src=\"figs/tsvd2.png\" width='75%' ></div>"
   ]
  },
  {
   "cell_type": "code",
   "execution_count": 8,
   "metadata": {
    "slideshow": {
     "slide_type": "subslide"
    }
   },
   "outputs": [],
   "source": [
    "from sklearn.datasets import fetch_20newsgroups\n",
    "categories = ['alt.atheism', 'talk.religion.misc', 'comp.graphics', 'sci.space']\n",
    "remove = ('headers', 'footers', 'quotes')\n",
    "newsgroups_train = fetch_20newsgroups(subset='train', categories=categories, remove=remove)\n",
    "newsgroups_test = fetch_20newsgroups(subset='test', categories=categories, remove=remove)"
   ]
  },
  {
   "cell_type": "markdown",
   "metadata": {
    "slideshow": {
     "slide_type": "subslide"
    },
    "variables": {
     "newsgroups_train.target_names": "[&#39;alt.atheism&#39;, &#39;comp.graphics&#39;, &#39;sci.space&#39;, &#39;talk.religion.misc&#39;]"
    }
   },
   "source": [
    "# Let's look at the data\n",
    "\n",
    "- Newsgroup text from the '90s (internet was not there yet)\n",
    "- We have the **categories** but $\\underline{\\text{we set them aside from the algorithm}}$\n",
    "- We assume **we do NOT know the categories of the text**\n",
    "    - We seek to recover them in an unsupervised way\n",
    "Categories are `{{newsgroups_train.target_names}}`\n",
    "\n",
    "```python\n",
    "from sklearn.datasets import fetch_20newsgroups\n",
    "categories = ['alt.atheism', 'talk.religion.misc', 'comp.graphics', 'sci.space']\n",
    "remove = ('headers', 'footers', 'quotes')\n",
    "newsgroups_train = fetch_20newsgroups(subset='train', categories=categories, remove=remove)\n",
    "newsgroups_test = fetch_20newsgroups(subset='test', categories=categories, remove=remove)\n",
    "```"
   ]
  },
  {
   "cell_type": "code",
   "execution_count": 9,
   "metadata": {
    "hide_input": true,
    "slideshow": {
     "slide_type": "subslide"
    }
   },
   "outputs": [
    {
     "name": "stdout",
     "output_type": "stream",
     "text": [
      "Hi,\n",
      "\n",
      "I've noticed that if you only save a model (with all your mapping planes\n",
      "positioned carefully) to a .3DS file that when you reload it after restarting\n",
      "3DS, they are given a default position and orientation.  But if you save\n",
      "to a .PRJ file their positions/orientation are preserved.  Does anyone\n",
      "know why this information is not stored in the .3DS file?  Nothing is\n",
      "explicitly said in the manual about saving texture rules in the .PRJ file. \n",
      "I'd like to be able to read the texture rule information, does anyone have \n",
      "the format for the .PRJ file?\n",
      "\n",
      "Is the .CEL file format available from somewhere?\n",
      "\n",
      "Rych\n",
      "====================================================================================================\n",
      "\n",
      "\n",
      "Seems to be, barring evidence to the contrary, that Koresh was simply\n",
      "another deranged fanatic who thought it neccessary to take a whole bunch of\n",
      "folks with him, children and all, to satisfy his delusional mania. Jim\n",
      "Jones, circa 1993.\n",
      "\n",
      "\n",
      "Nope - fruitcakes like Koresh have been demonstrating such evil corruption\n",
      "for centuries.\n",
      "====================================================================================================\n",
      "\n",
      " >In article <1993Apr19.020359.26996@sq.sq.com>, msb@sq.sq.com (Mark Brader) \n",
      "\n",
      "MB>                                                             So the\n",
      "MB> 1970 figure seems unlikely to actually be anything but a perijove.\n",
      "\n",
      "JG>Sorry, _perijoves_...I'm not used to talking this language.\n",
      "\n",
      "Couldn't we just say periapsis or apoapsis?\n",
      "\n",
      " \n"
     ]
    }
   ],
   "source": [
    "print(*newsgroups_train.data[:3], sep='\\n'+'=='*50+'\\n')"
   ]
  },
  {
   "cell_type": "markdown",
   "metadata": {
    "slideshow": {
     "slide_type": "subslide"
    }
   },
   "source": [
    "# From raw text to Term-Document Matrix"
   ]
  },
  {
   "cell_type": "markdown",
   "metadata": {
    "slideshow": {
     "slide_type": "subslide"
    }
   },
   "source": [
    "# From raw text to Term-Document Matrix\n",
    "\n",
    "```python\n",
    "from sklearn.feature_extraction.text import CountVectorizer\n",
    "count_vect = CountVectorizer(stop_words='english')\n",
    "X_train_counts = count_vect.fit_transform(newsgroups_train.data)\n",
    "X_train_counts.shape # (documents, vocab)\n",
    "```"
   ]
  },
  {
   "cell_type": "code",
   "execution_count": 10,
   "metadata": {
    "slideshow": {
     "slide_type": "subslide"
    }
   },
   "outputs": [
    {
     "name": "stdout",
     "output_type": "stream",
     "text": [
      "We have 2034 documents and a vocabulary of size 26576\n"
     ]
    }
   ],
   "source": [
    "from sklearn.feature_extraction.text import CountVectorizer\n",
    "count_vect = CountVectorizer(stop_words='english')\n",
    "X_train_counts = count_vect.fit_transform(newsgroups_train.data)\n",
    "dims = X_train_counts.shape # (documents, vocab)\n",
    "print(f'We have {dims[0]} documents and a vocabulary of size {dims[1]}')"
   ]
  },
  {
   "cell_type": "markdown",
   "metadata": {
    "slideshow": {
     "slide_type": "subslide"
    },
    "variables": {
     "X_train_counts.shape": "(2034, 26576)",
     "X_train_counts.shape[0]": "2034",
     "X_train_counts.shape[1]": "26576",
     "random.seed(0); random.choices(count_vect.get_feature_names_out(), k=10)": "[&#39;specs&#39;,\n &#39;regularity&#39;,\n &#39;gillespie&#39;,\n &#39;convienent&#39;,\n &#39;ite&#39;,\n &#39;friends&#39;,\n &#39;rom&#39;,\n &#39;devotion&#39;,\n &#39;imaging&#39;,\n &#39;mayer&#39;]",
     "type(X_train_counts)": "scipy.sparse.csr.csr_matrix"
    }
   },
   "source": [
    "# Term-Document Matrix Shape\n",
    "\n",
    "X_train_counts shape is {{X_train_counts.shape}}\n",
    "\n",
    "- {{X_train_counts.shape[0]}} individual documents (in this case newsgroup posts)\n",
    "- {{X_train_counts.shape[1]}} the number of terms (i.e. vocabulary size $|V|$)\n",
    "- Note that `X_train_counts` is modeled as a sparse matrix `{{type(X_train_counts)}}`\n",
    "\n",
    "Let us see a few $k=10$ random words from the vocabulary:\n",
    "```python\n",
    "random.choices(count_vect.get_feature_names_out(), k=10) #k is the number of samples\n",
    "```\n",
    "\n",
    "{{random.seed(0); random.choices(count_vect.get_feature_names_out(), k=10)}}"
   ]
  },
  {
   "cell_type": "code",
   "execution_count": 11,
   "metadata": {
    "slideshow": {
     "slide_type": "skip"
    }
   },
   "outputs": [],
   "source": [
    "td_matrix = pd.DataFrame(data=X_train_counts.todense(), \n",
    "                         index=range(X_train_counts.shape[0]),\n",
    "                         columns=count_vect.get_feature_names_out(),)"
   ]
  },
  {
   "cell_type": "markdown",
   "metadata": {
    "slideshow": {
     "slide_type": "subslide"
    },
    "variables": {
     "td_matrix": "<div>\n<style scoped>\n    .dataframe tbody tr th:only-of-type {\n        vertical-align: middle;\n    }\n\n    .dataframe tbody tr th {\n        vertical-align: top;\n    }\n\n    .dataframe thead th {\n        text-align: right;\n    }\n</style>\n<table border=\"1\" class=\"dataframe\">\n  <thead>\n    <tr style=\"text-align: center;\">\n      <th></th>\n      <th>00</th>\n      <th>000</th>\n      <th>0000</th>\n      <th>00000</th>\n      <th>000000</th>\n      <th>000005102000</th>\n      <th>000062david42</th>\n      <th>0001</th>\n      <th>000100255pixel</th>\n      <th>00041032</th>\n      <th>...</th>\n      <th>zurich</th>\n      <th>zurvanism</th>\n      <th>zus</th>\n      <th>zvi</th>\n      <th>zwaartepunten</th>\n      <th>zwak</th>\n      <th>zwakke</th>\n      <th>zware</th>\n      <th>zwarte</th>\n      <th>zyxel</th>\n    </tr>\n  </thead>\n  <tbody>\n    <tr>\n      <th>0</th>\n      <td>0</td>\n      <td>0</td>\n      <td>0</td>\n      <td>0</td>\n      <td>0</td>\n      <td>0</td>\n      <td>0</td>\n      <td>0</td>\n      <td>0</td>\n      <td>0</td>\n      <td>...</td>\n      <td>0</td>\n      <td>0</td>\n      <td>0</td>\n      <td>0</td>\n      <td>0</td>\n      <td>0</td>\n      <td>0</td>\n      <td>0</td>\n      <td>0</td>\n      <td>0</td>\n    </tr>\n    <tr>\n      <th>1</th>\n      <td>0</td>\n      <td>0</td>\n      <td>0</td>\n      <td>0</td>\n      <td>0</td>\n      <td>0</td>\n      <td>0</td>\n      <td>0</td>\n      <td>0</td>\n      <td>0</td>\n      <td>...</td>\n      <td>0</td>\n      <td>0</td>\n      <td>0</td>\n      <td>0</td>\n      <td>0</td>\n      <td>0</td>\n      <td>0</td>\n      <td>0</td>\n      <td>0</td>\n      <td>0</td>\n    </tr>\n    <tr>\n      <th>2</th>\n      <td>0</td>\n      <td>0</td>\n      <td>0</td>\n      <td>0</td>\n      <td>0</td>\n      <td>0</td>\n      <td>0</td>\n      <td>0</td>\n      <td>0</td>\n      <td>0</td>\n      <td>...</td>\n      <td>0</td>\n      <td>0</td>\n      <td>0</td>\n      <td>0</td>\n      <td>0</td>\n      <td>0</td>\n      <td>0</td>\n      <td>0</td>\n      <td>0</td>\n      <td>0</td>\n    </tr>\n    <tr>\n      <th>3</th>\n      <td>0</td>\n      <td>0</td>\n      <td>0</td>\n      <td>0</td>\n      <td>0</td>\n      <td>0</td>\n      <td>0</td>\n      <td>0</td>\n      <td>0</td>\n      <td>0</td>\n      <td>...</td>\n      <td>0</td>\n      <td>0</td>\n      <td>0</td>\n      <td>0</td>\n      <td>0</td>\n      <td>0</td>\n      <td>0</td>\n      <td>0</td>\n      <td>0</td>\n      <td>0</td>\n    </tr>\n    <tr>\n      <th>4</th>\n      <td>0</td>\n      <td>0</td>\n      <td>0</td>\n      <td>0</td>\n      <td>0</td>\n      <td>0</td>\n      <td>0</td>\n      <td>0</td>\n      <td>0</td>\n      <td>0</td>\n      <td>...</td>\n      <td>0</td>\n      <td>0</td>\n      <td>0</td>\n      <td>0</td>\n      <td>0</td>\n      <td>0</td>\n      <td>0</td>\n      <td>0</td>\n      <td>0</td>\n      <td>0</td>\n    </tr>\n    <tr>\n      <th>...</th>\n      <td>...</td>\n      <td>...</td>\n      <td>...</td>\n      <td>...</td>\n      <td>...</td>\n      <td>...</td>\n      <td>...</td>\n      <td>...</td>\n      <td>...</td>\n      <td>...</td>\n      <td>...</td>\n      <td>...</td>\n      <td>...</td>\n      <td>...</td>\n      <td>...</td>\n      <td>...</td>\n      <td>...</td>\n      <td>...</td>\n      <td>...</td>\n      <td>...</td>\n      <td>...</td>\n    </tr>\n    <tr>\n      <th>2029</th>\n      <td>0</td>\n      <td>0</td>\n      <td>0</td>\n      <td>0</td>\n      <td>0</td>\n      <td>0</td>\n      <td>0</td>\n      <td>0</td>\n      <td>0</td>\n      <td>0</td>\n      <td>...</td>\n      <td>0</td>\n      <td>0</td>\n      <td>0</td>\n      <td>0</td>\n      <td>0</td>\n      <td>0</td>\n      <td>0</td>\n      <td>0</td>\n      <td>0</td>\n      <td>0</td>\n    </tr>\n    <tr>\n      <th>2030</th>\n      <td>0</td>\n      <td>0</td>\n      <td>0</td>\n      <td>0</td>\n      <td>0</td>\n      <td>0</td>\n      <td>0</td>\n      <td>0</td>\n      <td>0</td>\n      <td>0</td>\n      <td>...</td>\n      <td>0</td>\n      <td>0</td>\n      <td>0</td>\n      <td>0</td>\n      <td>0</td>\n      <td>0</td>\n      <td>0</td>\n      <td>0</td>\n      <td>0</td>\n      <td>0</td>\n    </tr>\n    <tr>\n      <th>2031</th>\n      <td>0</td>\n      <td>0</td>\n      <td>0</td>\n      <td>0</td>\n      <td>0</td>\n      <td>0</td>\n      <td>0</td>\n      <td>0</td>\n      <td>0</td>\n      <td>0</td>\n      <td>...</td>\n      <td>0</td>\n      <td>0</td>\n      <td>0</td>\n      <td>0</td>\n      <td>0</td>\n      <td>0</td>\n      <td>0</td>\n      <td>0</td>\n      <td>0</td>\n      <td>0</td>\n    </tr>\n    <tr>\n      <th>2032</th>\n      <td>0</td>\n      <td>0</td>\n      <td>0</td>\n      <td>0</td>\n      <td>0</td>\n      <td>0</td>\n      <td>0</td>\n      <td>0</td>\n      <td>0</td>\n      <td>0</td>\n      <td>...</td>\n      <td>0</td>\n      <td>0</td>\n      <td>0</td>\n      <td>0</td>\n      <td>0</td>\n      <td>0</td>\n      <td>0</td>\n      <td>0</td>\n      <td>0</td>\n      <td>0</td>\n    </tr>\n    <tr>\n      <th>2033</th>\n      <td>0</td>\n      <td>0</td>\n      <td>0</td>\n      <td>0</td>\n      <td>0</td>\n      <td>0</td>\n      <td>0</td>\n      <td>0</td>\n      <td>0</td>\n      <td>0</td>\n      <td>...</td>\n      <td>0</td>\n      <td>0</td>\n      <td>0</td>\n      <td>0</td>\n      <td>0</td>\n      <td>0</td>\n      <td>0</td>\n      <td>0</td>\n      <td>0</td>\n      <td>0</td>\n    </tr>\n  </tbody>\n</table>\n<p>2034 rows × 26576 columns</p>\n</div>"
    }
   },
   "source": [
    "{{td_matrix}}"
   ]
  },
  {
   "cell_type": "markdown",
   "metadata": {
    "slideshow": {
     "slide_type": "subslide"
    }
   },
   "source": [
    "# Sanity check and see the most frequent word\n",
    "\n",
    "```python\n",
    "r, c = np.unravel_index(np.argmax(X_train_counts), X_train_counts.shape)\n",
    "print(count_vect.get_feature_names_out()[c], \n",
    "      'occurred', X_train_counts[r, c], 'times')\n",
    "```"
   ]
  },
  {
   "cell_type": "code",
   "execution_count": 12,
   "metadata": {
    "slideshow": {
     "slide_type": "subslide"
    }
   },
   "outputs": [
    {
     "name": "stdout",
     "output_type": "stream",
     "text": [
      "jpeg occurred 232 times\n"
     ]
    }
   ],
   "source": [
    "r, c = np.unravel_index(np.argmax(X_train_counts), X_train_counts.shape)\n",
    "print(count_vect.get_feature_names_out()[c], 'occurred', X_train_counts[r, c], 'times')"
   ]
  },
  {
   "cell_type": "code",
   "execution_count": 13,
   "metadata": {
    "slideshow": {
     "slide_type": "skip"
    }
   },
   "outputs": [],
   "source": [
    "#%time U, S, V = np.linalg.svd(X_train_counts.todense(), full_matrices=False)"
   ]
  },
  {
   "cell_type": "code",
   "execution_count": 14,
   "metadata": {
    "slideshow": {
     "slide_type": "skip"
    }
   },
   "outputs": [],
   "source": [
    "#%time Us, Ss, Vts = scipy.sparse.linalg.svds(X_train_counts.asfptype(), k=X_train_counts.shape[0]-1)"
   ]
  },
  {
   "cell_type": "code",
   "execution_count": 15,
   "metadata": {
    "slideshow": {
     "slide_type": "subslide"
    }
   },
   "outputs": [
    {
     "name": "stdout",
     "output_type": "stream",
     "text": [
      "CPU times: user 83.2 ms, sys: 13.2 ms, total: 96.4 ms\n",
      "Wall time: 102 ms\n"
     ]
    }
   ],
   "source": [
    "%time Us, Ss, Vts = scipy.sparse.linalg.svds(X_train_counts.asfptype(), k=2)"
   ]
  },
  {
   "cell_type": "code",
   "execution_count": 16,
   "metadata": {
    "run_control": {
     "marked": false
    },
    "slideshow": {
     "slide_type": "subslide"
    }
   },
   "outputs": [
    {
     "name": "stdout",
     "output_type": "stream",
     "text": [
      "U =  (2034, 2) S =  (2,) V =  (2, 26576)\n"
     ]
    }
   ],
   "source": [
    "print(\"U = \", (Us.shape), \"S = \",  (Ss.shape), \"V = \",  (Vts.shape))"
   ]
  },
  {
   "cell_type": "markdown",
   "metadata": {
    "slideshow": {
     "slide_type": "subslide"
    },
    "variables": {
     "Ss": "array([291.51012741, 433.92698542])",
     "_=plt.bar([1,2],Ss)": "<img src=\"data:image/png;base64,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\n\"/>"
    }
   },
   "source": [
    "# 1. Singular Values give you the  \"topic\" importance\n",
    "$S=${{Ss}}\n",
    "{{_=plt.bar([1,2],Ss)}}"
   ]
  },
  {
   "cell_type": "markdown",
   "metadata": {
    "slideshow": {
     "slide_type": "subslide"
    }
   },
   "source": [
    "# 2. The embedding space ($k=2$)\n",
    "\n",
    "- Unlike before, it is now **continuous, short and dense**\n",
    "- The space encodes some notion of similarities between words\n",
    "- Cosine similarity makes more sense"
   ]
  },
  {
   "cell_type": "code",
   "execution_count": 17,
   "metadata": {
    "hide_input": false,
    "scrolled": true,
    "slideshow": {
     "slide_type": "fragment"
    }
   },
   "outputs": [
    {
     "data": {
      "image/png": "[encoded data removed]",
      "text/plain": [
       "<Figure size 1000x1000 with 1 Axes>"
      ]
     },
     "metadata": {},
     "output_type": "display_data"
    }
   ],
   "source": [
    "fig, ax = plt.subplots(figsize=(10,10))\n",
    "clip = 1\n",
    "ax.scatter(*Vts);\n",
    "vocab = count_vect.get_feature_names_out()\n",
    "for count, ((x,y), txt) in enumerate(zip(Vts.T, vocab)):\n",
    "    if np.linalg.norm([x,y]) > .5e-1:    \n",
    "        ax.annotate(txt, (x+0.01, y))\n",
    "if clip:\n",
    "    #plt.ylim(-0.175, -0.030)\n",
    "    plt.ylim(0.05, 0.15)\n",
    "plt.grid('off')"
   ]
  },
  {
   "cell_type": "markdown",
   "metadata": {
    "slideshow": {
     "slide_type": "subslide"
    }
   },
   "source": [
    "# 3. We can associate each new $k$ component (topic) with most important words\n",
    "\n",
    "<br><br>\n",
    "<div align='center'><img src=\"figs/mysvd.png?\" width='65%' ></div>"
   ]
  },
  {
   "cell_type": "markdown",
   "metadata": {
    "slideshow": {
     "slide_type": "subslide"
    }
   },
   "source": [
    "# 3. We can associate each new $k$ component (topic) with most important words using $\\mbf{V}_k$\n",
    "<br>\n",
    "<div align='center'><img src=\"figs/mysvd2.png?\" width='35%' ></div>"
   ]
  },
  {
   "cell_type": "code",
   "execution_count": 18,
   "metadata": {
    "slideshow": {
     "slide_type": "skip"
    }
   },
   "outputs": [],
   "source": [
    "k=0 #first component, first topic\n",
    "word_per_topic = 10\n",
    "topic = [vocab[idx_word] for idx_word in np.argsort(Vts[k,:])[:-word_per_topic-1:-1]]\n",
    "topic_weight = np.sort(Vts[k,:])[:-word_per_topic-1:-1]\n",
    "topic_neg = [vocab[idx_word] for idx_word in np.argsort(Vts[k,:])[:word_per_topic:]]\n",
    "#topic"
   ]
  },
  {
   "cell_type": "markdown",
   "metadata": {
    "slideshow": {
     "slide_type": "subslide"
    },
    "variables": {
     "pd.DataFrame(data=[topic])": "<div>\n<style scoped>\n    .dataframe tbody tr th:only-of-type {\n        vertical-align: middle;\n    }\n\n    .dataframe tbody tr th {\n        vertical-align: top;\n    }\n\n    .dataframe thead th {\n        text-align: right;\n    }\n</style>\n<table border=\"1\" class=\"dataframe\">\n  <thead>\n    <tr style=\"text-align: center;\">\n      <th></th>\n      <th>0</th>\n      <th>1</th>\n      <th>2</th>\n      <th>3</th>\n      <th>4</th>\n      <th>5</th>\n      <th>6</th>\n      <th>7</th>\n      <th>8</th>\n      <th>9</th>\n    </tr>\n  </thead>\n  <tbody>\n    <tr>\n      <th>0</th>\n      <td>jpeg</td>\n      <td>image</td>\n      <td>edu</td>\n      <td>file</td>\n      <td>graphics</td>\n      <td>images</td>\n      <td>gif</td>\n      <td>data</td>\n      <td>pub</td>\n      <td>ftp</td>\n    </tr>\n  </tbody>\n</table>\n</div>",
     "round(Ss[0])": "292"
    }
   },
   "source": [
    "# Topic $k=0$ associated with singular value $\\lambda_0$ = {{round(Ss[0])}}\n",
    "```python\n",
    "word_per_topic = 10\n",
    "topic = [vocab[idx_word] for idx_word in np.argsort(Vts[k,:])[:-word_per_topic-1:-1]]\n",
    "```\n",
    "\n",
    "{{pd.DataFrame(data=[topic])}}"
   ]
  },
  {
   "cell_type": "markdown",
   "metadata": {
    "slideshow": {
     "slide_type": "fragment"
    },
    "variables": {
     "pd.DataFrame(data=[topic_weight])": "<div>\n<style scoped>\n    .dataframe tbody tr th:only-of-type {\n        vertical-align: middle;\n    }\n\n    .dataframe tbody tr th {\n        vertical-align: top;\n    }\n\n    .dataframe thead th {\n        text-align: right;\n    }\n</style>\n<table border=\"1\" class=\"dataframe\">\n  <thead>\n    <tr style=\"text-align: center;\">\n      <th></th>\n      <th>0</th>\n      <th>1</th>\n      <th>2</th>\n      <th>3</th>\n      <th>4</th>\n      <th>5</th>\n      <th>6</th>\n      <th>7</th>\n      <th>8</th>\n      <th>9</th>\n    </tr>\n  </thead>\n  <tbody>\n    <tr>\n      <th>0</th>\n      <td>0.24918</td>\n      <td>0.190291</td>\n      <td>0.165357</td>\n      <td>0.164693</td>\n      <td>0.158989</td>\n      <td>0.117368</td>\n      <td>0.107684</td>\n      <td>0.10145</td>\n      <td>0.100226</td>\n      <td>0.099186</td>\n    </tr>\n  </tbody>\n</table>\n</div>"
    }
   },
   "source": [
    "####  Weights\n",
    "{{pd.DataFrame(data=[topic_weight])}}"
   ]
  },
  {
   "cell_type": "markdown",
   "metadata": {
    "slideshow": {
     "slide_type": "fragment"
    },
    "variables": {
     "pd.DataFrame(data=[topic_neg])": "<div>\n<style scoped>\n    .dataframe tbody tr th:only-of-type {\n        vertical-align: middle;\n    }\n\n    .dataframe tbody tr th {\n        vertical-align: top;\n    }\n\n    .dataframe thead th {\n        text-align: right;\n    }\n</style>\n<table border=\"1\" class=\"dataframe\">\n  <thead>\n    <tr style=\"text-align: center;\">\n      <th></th>\n      <th>0</th>\n      <th>1</th>\n      <th>2</th>\n      <th>3</th>\n      <th>4</th>\n      <th>5</th>\n      <th>6</th>\n      <th>7</th>\n      <th>8</th>\n      <th>9</th>\n    </tr>\n  </thead>\n  <tbody>\n    <tr>\n      <th>0</th>\n      <td>jpeg</td>\n      <td>gif</td>\n      <td>file</td>\n      <td>color</td>\n      <td>quality</td>\n      <td>image</td>\n      <td>jfif</td>\n      <td>format</td>\n      <td>bit</td>\n      <td>version</td>\n    </tr>\n  </tbody>\n</table>\n</div>"
    }
   },
   "source": [
    "####  Negative terms \n",
    "{{pd.DataFrame(data=[topic_neg])}}"
   ]
  },
  {
   "cell_type": "code",
   "execution_count": 19,
   "metadata": {
    "slideshow": {
     "slide_type": "skip"
    }
   },
   "outputs": [],
   "source": [
    "k=1 #second component, first topic\n",
    "topic = [vocab[idx_word] for idx_word in np.argsort(Vts[k,:])[:-word_per_topic-1:-1]]\n",
    "topic_weight = np.sort(Vts[k,:])[:-word_per_topic-1:-1]\n",
    "topic_neg = [vocab[idx_word] for idx_word in np.argsort(Vts[k,:])[:word_per_topic:]]\n",
    "#topic"
   ]
  },
  {
   "cell_type": "markdown",
   "metadata": {
    "slideshow": {
     "slide_type": "subslide"
    },
    "variables": {
     "pd.DataFrame(data=[topic])": "<div>\n<style scoped>\n    .dataframe tbody tr th:only-of-type {\n        vertical-align: middle;\n    }\n\n    .dataframe tbody tr th {\n        vertical-align: top;\n    }\n\n    .dataframe thead th {\n        text-align: right;\n    }\n</style>\n<table border=\"1\" class=\"dataframe\">\n  <thead>\n    <tr style=\"text-align: center;\">\n      <th></th>\n      <th>0</th>\n      <th>1</th>\n      <th>2</th>\n      <th>3</th>\n      <th>4</th>\n      <th>5</th>\n      <th>6</th>\n      <th>7</th>\n      <th>8</th>\n      <th>9</th>\n    </tr>\n  </thead>\n  <tbody>\n    <tr>\n      <th>0</th>\n      <td>jpeg</td>\n      <td>image</td>\n      <td>edu</td>\n      <td>file</td>\n      <td>graphics</td>\n      <td>images</td>\n      <td>gif</td>\n      <td>data</td>\n      <td>pub</td>\n      <td>ftp</td>\n    </tr>\n  </tbody>\n</table>\n</div>",
     "round(Ss[1])": "434"
    }
   },
   "source": [
    "# Topic $k=1$ associated with singular value $\\lambda_1$ = {{round(Ss[1])}}\n",
    "```python\n",
    "word_per_topic = 10\n",
    "k=1;topic = [vocab[idx_word] for idx_word in np.argsort(Vts[k,:])[:-word_per_topic-1:-1]]\n",
    "```\n",
    "\n",
    "{{pd.DataFrame(data=[topic])}}"
   ]
  },
  {
   "cell_type": "markdown",
   "metadata": {
    "slideshow": {
     "slide_type": "fragment"
    },
    "variables": {
     "pd.DataFrame(data=[topic_weight])": "<div>\n<style scoped>\n    .dataframe tbody tr th:only-of-type {\n        vertical-align: middle;\n    }\n\n    .dataframe tbody tr th {\n        vertical-align: top;\n    }\n\n    .dataframe thead th {\n        text-align: right;\n    }\n</style>\n<table border=\"1\" class=\"dataframe\">\n  <thead>\n    <tr style=\"text-align: center;\">\n      <th></th>\n      <th>0</th>\n      <th>1</th>\n      <th>2</th>\n      <th>3</th>\n      <th>4</th>\n      <th>5</th>\n      <th>6</th>\n      <th>7</th>\n      <th>8</th>\n      <th>9</th>\n    </tr>\n  </thead>\n  <tbody>\n    <tr>\n      <th>0</th>\n      <td>0.373448</td>\n      <td>0.32506</td>\n      <td>0.228827</td>\n      <td>0.187758</td>\n      <td>0.179242</td>\n      <td>0.1661</td>\n      <td>0.156232</td>\n      <td>0.154271</td>\n      <td>0.144734</td>\n      <td>0.141162</td>\n    </tr>\n  </tbody>\n</table>\n</div>"
    }
   },
   "source": [
    "####  Weights\n",
    "{{pd.DataFrame(data=[topic_weight])}}"
   ]
  },
  {
   "cell_type": "markdown",
   "metadata": {
    "slideshow": {
     "slide_type": "fragment"
    },
    "variables": {
     "pd.DataFrame(data=[topic_neg])": "<div>\n<style scoped>\n    .dataframe tbody tr th:only-of-type {\n        vertical-align: middle;\n    }\n\n    .dataframe tbody tr th {\n        vertical-align: top;\n    }\n\n    .dataframe thead th {\n        text-align: right;\n    }\n</style>\n<table border=\"1\" class=\"dataframe\">\n  <thead>\n    <tr style=\"text-align: center;\">\n      <th></th>\n      <th>0</th>\n      <th>1</th>\n      <th>2</th>\n      <th>3</th>\n      <th>4</th>\n      <th>5</th>\n      <th>6</th>\n      <th>7</th>\n      <th>8</th>\n      <th>9</th>\n    </tr>\n  </thead>\n  <tbody>\n    <tr>\n      <th>0</th>\n      <td>critus</td>\n      <td>ditto</td>\n      <td>propagandist</td>\n      <td>surname</td>\n      <td>galacticentric</td>\n      <td>kindergarten</td>\n      <td>surreal</td>\n      <td>imaginative</td>\n      <td>salvadorans</td>\n      <td>ahhh</td>\n    </tr>\n  </tbody>\n</table>\n</div>"
    }
   },
   "source": [
    "####  Negative terms \n",
    "{{pd.DataFrame(data=[topic_neg])}}"
   ]
  },
  {
   "cell_type": "markdown",
   "metadata": {
    "slideshow": {
     "slide_type": "subslide"
    }
   },
   "source": [
    "# How to think about the new embedding space\n",
    "\n",
    "If you reduce the dimension from 3 to 2, you may think that the embedding is learning something like:\n",
    "\n",
    "$$[\\text{car}, \\text{truck}, \\text{flower}] \\longrightarrow [(1.3452 * \\text{car} + 0.2828 * \\text{truck}), \\text{flower}]$$"
   ]
  },
  {
   "cell_type": "markdown",
   "metadata": {
    "slideshow": {
     "slide_type": "subslide"
    }
   },
   "source": [
    "# 4. Dimensionality Reduction: \n",
    "## Projecting a document into lower-dimensional space\n",
    "\n",
    "We treat the document as a vector $\\mbf{d}$ that lives in a $V$ dimensional space. \n",
    "- We want to use the output of SVD to project $\\mbf{d}$ from V dimension to $k$ where $k\\ll V$. \n",
    "- Usually $k$ is the order of hundreds.\n",
    "\n",
    "We take the matrix $\\mbf{V}_k$ of the SVD decomposition that has dimension $k\\times V$ (this makes sense because $\\mbf{d}$ lives in the same $V$-D space too).\n",
    "$$ \\mbf{d}_k = \\underbrace{\\mbf{V}_k^{\\top}}_{k\\times V}\\underbrace{\\mbf{d}}_{V}$$"
   ]
  },
  {
   "cell_type": "markdown",
   "metadata": {
    "slideshow": {
     "slide_type": "subslide"
    }
   },
   "source": [
    "#  Why SVD?\n",
    "\n",
    "Consider $X$ has `term by document` matrix.\n",
    "\n",
    "\\begin{matrix} \n",
    " & \\textbf{d}_j \\\\\n",
    " & \\downarrow \\\\\n",
    "\\textbf{t}_i^T \\rightarrow &\n",
    "\\begin{bmatrix} \n",
    "x_{1,1} & \\dots & x_{1,j} & \\dots & x_{1,n} \\\\\n",
    "\\vdots & \\ddots & \\vdots & \\ddots & \\vdots \\\\\n",
    "x_{i,1} & \\dots & x_{i,j} &  \\dots & x_{i,n} \\\\\n",
    "\\vdots & \\ddots & \\vdots & \\ddots & \\vdots \\\\\n",
    "x_{m,1} & \\dots & x_{m,j} & \\dots & x_{m,n} \\\\\n",
    "\\end{bmatrix}\n",
    "\\end{matrix}\n",
    "\n",
    "- Assuming that you have $\\ell_2$ normalized vectors, you can compute the **similarity** between two terms by evaluating the dot product $\\textbf{t}_i^T\\textbf{t}_j$\n",
    "- If you want to compute it for all pairs just compute the covariance matrix: $\\mbf{X}\\mbf{X}^{\\top}$ which measure all the **correlations between terms in the document space.**"
   ]
  },
  {
   "cell_type": "markdown",
   "metadata": {
    "slideshow": {
     "slide_type": "subslide"
    }
   },
   "source": [
    "# Why SVD: decompose correlation of the data\n",
    "\n",
    "$\\mbf{X}\\mbf{X}^{\\top}$ which measures all the **correlations between terms in the document space.** What if we decompose this correlation?"
   ]
  },
  {
   "cell_type": "markdown",
   "metadata": {
    "slideshow": {
     "slide_type": "fragment"
    }
   },
   "source": [
    "\\begin{matrix}\n",
    "\\mathbf{X} \\mathbf{X}^T &=& (\\mathbf{U} \\mathbf{S} \\mathbf{V}^T) (\\mathbf{U} \\mathbf{S} \\mathbf{V}^T)^T = (\\mathbf{U} \\mathbf{S} \\mathbf{V}^T) (\\mathbf{V}^{T^T} \\mathbf{S}^T \\mathbf{U}^T) = \\mathbf{U} \\mathbf{S} \\mathbf{V}^T \\mathbf{V} \\mathbf{S}^T \\mathbf{U}^T = \\mathbf{U} \\underbrace{\\mathbf{S} \\mathbf{S}^T}_{\\Sigma} \\mathbf{U}^T  \\\\\n",
    "\\end{matrix}\n",
    "\n",
    "Singular Value Decomposition of $\\mathbf{X}$ is related to **Eigendecomposition** of the covariance of $\\mathbf{X}$. \n",
    "\n",
    "Eigenvalue $\\sigma_i = \\lambda_i^2 \\quad\\longrightarrow\\quad$ Eigenvalue = squared singular value"
   ]
  },
  {
   "cell_type": "markdown",
   "metadata": {
    "slideshow": {
     "slide_type": "subslide"
    }
   },
   "source": [
    "# Eigendecomposition and Singular Value Decomposition\n",
    "\n",
    "| Method \t| X \t| Decomposition \t|\n",
    "|--------\t|---\t|---------------\t|\n",
    "|     SVD   | any  \t|   $\\mbf{X}=\\mbf{U}\\mbf{\\Sigma}\\mbf{V}^{\\top}$            \t|\n",
    "|     Eigen   | square  \t|   $\\mbf{X}=\\mbf{U}\\mbf{\\Sigma}\\mbf{U}^{-1}$            \t|"
   ]
  },
  {
   "cell_type": "markdown",
   "metadata": {
    "slideshow": {
     "slide_type": "subslide"
    }
   },
   "source": [
    "# Decomposition as a Geometric Pipeline\n",
    "\n",
    "$$\\mathbf{A}\\mathbf{x} = \\underbrace{(\\mathbf{U} \n",
    "\\underbrace{(\\mathbf{\\Sigma}\\underbrace{(\\mathbf{U}^{-1}\\mathbf{x})}_{\\text{1st step/rotate}})}_{\\text{2nd step/scale}})}_{\\text{3rd step/rotate}}$$"
   ]
  },
  {
   "cell_type": "markdown",
   "metadata": {
    "slideshow": {
     "slide_type": "subslide"
    }
   },
   "source": [
    "| Method   \t| Step 1 \t| Step 2             \t| Step 3 \t|\n",
    "|----------\t|--------\t|--------------------\t|--------\t|\n",
    "| Geometry \t| rotate \t| scale/reflect axis \t| rotate \t|\n",
    "| SVD      \t|   $\\mbf{V}^T$     \t|   $\\mbf{\\Sigma}$                 \t|  $\\mbf{U}$      \t|\n",
    "| Geometry \t| rotate \t| scale/reflect axis \t| rotate \t|\n",
    "| Eig      \t|  $\\mbf{V}^{-1}$        \t|     $\\mbf{\\Sigma}$                 \t| $\\mbf{U}$         \t|"
   ]
  },
  {
   "cell_type": "markdown",
   "metadata": {
    "slideshow": {
     "slide_type": "subslide"
    }
   },
   "source": [
    "# Problems with LSA and SVD\n",
    "\n",
    "The dimensions of the matrix change very often (new words are added very frequently and corpus changes in size). \n",
    "SVD based methods do not scale well for big matrices and it is hard to incorporate new words or documents.\n",
    "- The matrix is extremely sparse since most words do not co-occur.\n",
    "- The matrix is very high dimensional in general (≈ $10^6 × 10^6$)\n",
    "- Quadratic cost to train (i.e. to perform SVD)\n",
    "- Requires the incorporation of some hacks on X to account for the drastic imbalance in word frequency"
   ]
  },
  {
   "cell_type": "markdown",
   "metadata": {
    "slideshow": {
     "slide_type": "subslide"
    }
   },
   "source": [
    "# Applications: Topic modeling with Gensim\n",
    "<br/>\n",
    "<div align='center'><img src=\"figs/gensim.png\" width='65%' ></div>"
   ]
  },
  {
   "cell_type": "markdown",
   "metadata": {
    "slideshow": {
     "slide_type": "subslide"
    }
   },
   "source": [
    "# Gensim library\n",
    "\n",
    "- Free python library for topic modeling\n",
    "- It contains **LSA** and also **word2vec**\n",
    "- No deeplearning yet!\n",
    "\n",
    "<div align='center'><img src=\"figs/gen_sim_lsa.png\" width='65%' ></div>\n",
    "\n"
   ]
  },
  {
   "cell_type": "markdown",
   "metadata": {
    "slideshow": {
     "slide_type": "slide"
    }
   },
   "source": [
    "# Introduction to word2vec"
   ]
  },
  {
   "cell_type": "markdown",
   "metadata": {
    "slideshow": {
     "slide_type": "subslide"
    }
   },
   "source": [
    "# Introduction  to word2vec\n",
    "\n",
    "Word2vec [Mikolov et al. 2013] is a framework for **learning word vectors**. \n",
    "\n",
    "The objective is the same to what we saw in **LSA**."
   ]
  },
  {
   "cell_type": "markdown",
   "metadata": {
    "slideshow": {
     "slide_type": "subslide"
    }
   },
   "source": [
    "# Introduction to word2vec\n",
    "\n",
    "- Still learn short, dense and static embeddings.\n",
    "- Static embeddings: one fixed embedding for each word in the vocabulary\n",
    "\n",
    "Idea: apply **machine learning** and use the text as **self-supervision**\n",
    "\n",
    ">The intuition of word2vec is that instead of counting how often each word w occurs near, say, apricot, we’ll instead train a classifier on a binary prediction task: “Is\n",
    "word w likely to show up near apricot?” We don’t actually care about this prediction\n",
    "task; instead we’ll take the learned classifier weights as the word embeddings."
   ]
  },
  {
   "cell_type": "markdown",
   "metadata": {
    "slideshow": {
     "slide_type": "subslide"
    }
   },
   "source": [
    "# Recap of concepts to understand word2vec\n",
    "\n",
    "- Self-Supervision\n",
    "- Binary Logistic Regression\n",
    "- Softmax classifier (Multinomial Logistic Regression)\n",
    "- Optimization with Gradient Descent"
   ]
  },
  {
   "cell_type": "markdown",
   "metadata": {
    "slideshow": {
     "slide_type": "subslide"
    }
   },
   "source": [
    "# Self-Supervision\n",
    "\n",
    "Let's play a game and fill the missing word:\n",
    "\n",
    "```\n",
    "Yesterday, it was a hot summer day in Rome, so I went to a nice \n",
    "gelateria and I bought a delicious yet melting ____________\n",
    "```\n",
    "<br/>\n",
    "\n",
    "| word1   \t| word2 \t| word3             \t| word4\t| sum | \n",
    "|----------\t|--------\t|--------------------\t|--------\t| --------\t|\n",
    "| strolley | ice-cream | parrot|  gelato| |\n",
    "| prob=? | prob=? | prob=?|  prob=?| 1 |\n",
    "\n",
    "**Masking the input:** with self-supervision you have the ground-truth word because it is in the text itself. You simple remove a word and ask the machine to predict the removed word, given some context.\n",
    "\n"
   ]
  },
  {
   "cell_type": "markdown",
   "metadata": {
    "slideshow": {
     "slide_type": "subslide"
    }
   },
   "source": [
    "# Logistic Regression\n",
    "\n",
    "- The name is a bit _misleading_: it is used as a **discriminative <ins>classifier<ins>**\n",
    "- Discriminative means we model $p(y|x)$ _what is the probability for the label $\\operatorname{prob}(Y=y)$ given $x$?_\n",
    "- Very commonly used algorithm"
   ]
  },
  {
   "cell_type": "markdown",
   "metadata": {
    "slideshow": {
     "slide_type": "subslide"
    }
   },
   "source": [
    "# Logistic Regression\n",
    "\n",
    "- $\\mbf{x} \\in \\mathbb{R}^d \\quad y \\in \\{0,1\\}$\n",
    "\n",
    "$$ \\begin{cases}\n",
    "y=1  \\quad \\text{positive example}\\\\\n",
    "y=0 \\quad \\text{negative example}\\\\\n",
    "\\end{cases} $$"
   ]
  },
  {
   "cell_type": "markdown",
   "metadata": {
    "slideshow": {
     "slide_type": "subslide"
    },
    "variables": {
     "import numpy as np;import matplotlib.pyplot as plt;x = np.arange(-20.0, 20.0, 0.1);y = 1/(1+np.exp(-x));_=plt.plot(x,y);": "<img src=\"data:image/png;base64,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\n\"/>"
    }
   },
   "source": [
    "# Logistic Regression (also called Logit)\n",
    "\n",
    "\n",
    "$$f_{\\boldsymbol{\\theta}}(\\mbf{x}) \\doteq \\sigma\\left(  \\bmf{\\theta}^T\\mbf{x} \\right)$$\n",
    "\n",
    "where:\n",
    "\n",
    "$$ \\sigma(z)= \\frac{1}{1+\\exp^{-z}} \\quad \\text{sigmoid or logistic function}$$\n",
    "<br><br> <center>Smooth and Differentiable alternative to sign</center>\n",
    "{{import numpy as np;import matplotlib.pyplot as plt;x = np.arange(-20.0, 20.0, 0.1);y = 1/(1+np.exp(-x));_=plt.plot(x,y);}}"
   ]
  },
  {
   "cell_type": "markdown",
   "metadata": {
    "slideshow": {
     "slide_type": "subslide"
    }
   },
   "source": [
    "# Logistic Regression - Probabilistic View\n",
    "\n",
    "We model **conditional probability of $y|x$:**\n",
    "\n",
    "$$ \\begin{cases}\n",
    "p(y=1| \\mbf{x};\\bmf{\\theta}) = f_{\\boldsymbol{\\theta}}\\\\\n",
    "p(y=0| \\mbf{x};\\bmf{\\theta}) = ?\\\\\n",
    "\\end{cases} $$\n",
    "\n",
    "<br><br>\n",
    "$$f_{\\boldsymbol{\\theta}}(\\mbf{x}) \\doteq \\sigma\\left(  \\bmf{\\theta}^T\\mbf{x} \\right)$$\n",
    "\n",
    "where:\n",
    "\n",
    "$$ \\sigma(z)= \\frac{1}{1+\\exp^{-z}} \\quad \\text{sigmoid or logistic function}$$\n"
   ]
  },
  {
   "cell_type": "markdown",
   "metadata": {
    "slideshow": {
     "slide_type": "subslide"
    }
   },
   "source": [
    "# Logistic Regression - Probabilistic View\n",
    "\n",
    "We model **conditional probability of $y|x$:**\n",
    "\n",
    "$$ \\begin{cases}\n",
    "p(y=1| \\mbf{x};\\bmf{\\theta}) = f_{\\boldsymbol{\\theta}}\\\\\n",
    "p(y=0| \\mbf{x};\\bmf{\\theta}) = 1- f_{\\boldsymbol{\\theta}}\\\n",
    "\\end{cases} $$\n",
    "\n",
    "<br><br>\n",
    "$$f_{\\boldsymbol{\\theta}}(\\mbf{x}) \\doteq \\sigma\\left(  \\bmf{\\theta}^T\\mbf{x} \\right)$$\n",
    "\n",
    "where:\n",
    "\n",
    "$$ \\sigma(z)= \\frac{1}{1+\\exp^{-z}} \\quad \\text{sigmoid or logistic function}$$\n",
    "\n",
    "$$\\lim_{z\\mapsto \\infty}\\sigma(z)=1$$\n",
    "$$\\lim_{z\\mapsto -\\infty}\\sigma(z)=0$$"
   ]
  },
  {
   "cell_type": "markdown",
   "metadata": {
    "slideshow": {
     "slide_type": "subslide"
    }
   },
   "source": [
    "# Logistic Regression - Probabilistic View\n",
    "\n",
    "We model **conditional probability of $y|x$:**\n",
    "\n",
    "$$ \\begin{cases}\n",
    "p(y=1| \\mbf{x};\\bmf{\\theta}) = f_{\\boldsymbol{\\theta}}\\\\\n",
    "p(y=0| \\mbf{x};\\bmf{\\theta}) = 1- f_{\\boldsymbol{\\theta}}\\\n",
    "\\end{cases} $$\n",
    "\n",
    "<br><br>\n",
    "$$f_{\\boldsymbol{\\theta}}(\\mbf{x}) \\doteq \\frac{1}{1+\\exp^{-\\bmf{\\theta}^T\\mbf{x}}}$$\n"
   ]
  },
  {
   "cell_type": "markdown",
   "metadata": {
    "slideshow": {
     "slide_type": "subslide"
    }
   },
   "source": [
    "# Multinomial Logistic Regression with SoftMax\n",
    "\n",
    "We model **conditional probability of $y|x$:**\n",
    "\n",
    "$$ \\begin{cases}\n",
    "p(y=1| \\mbf{x};\\mbf{W},\\mbf{b}) = p_1 = \\bmf{\\sigma}_1\\left(  \\mbf{W}\\mbf{x} + \\mbf{b} \\right)\\\\\n",
    "p(y=2| \\mbf{x};\\mbf{W},\\mbf{b}) = p_2 =  \\bmf{\\sigma}_2\\left(  \\mbf{W}\\mbf{x} + \\mbf{b} \\right)\\\\\n",
    "\\ldots \\\\\n",
    "p(y=K| \\mbf{x};\\mbf{W},\\mbf{b}) = p_K =  \\bmf{\\sigma}_K\\left(  \\mbf{W}\\mbf{x} + \\mbf{b} \\right)\\\\\n",
    "\\end{cases} $$\n",
    "\n",
    "<br><br>\n",
    "$$f_{\\boldsymbol{\\theta}}(\\mbf{x}) \\doteq \\mbf{z} \\doteq \\bmf{\\sigma}\\left(  \\mbf{W}\\mbf{x} + \\mbf{b} \\right)$$\n",
    "\n",
    "where:\n",
    "\n",
    "$$ \\bmf{\\sigma}_i(z)= \\frac{e^{z_i}}{\\sum_{k=1}^K e^{z_k}} \\quad \\text{Softmax function}$$\n"
   ]
  },
  {
   "cell_type": "markdown",
   "metadata": {
    "slideshow": {
     "slide_type": "subslide"
    }
   },
   "source": [
    "# How SoftMax transforms logits into probability\n",
    "\n",
    "<div align='center'><img src=\"figs/softmax_prob.png\" width='75%' ></div>"
   ]
  },
  {
   "cell_type": "markdown",
   "metadata": {
    "slideshow": {
     "slide_type": "subslide"
    }
   },
   "source": [
    "# SoftMax Regression, More Compact Form\n",
    "\n",
    "\n",
    "you can think $\\mbf{z} = \\mbf{W}\\mbf{x}+\\mbf{b}$ as **unormalized log-probability** of each class.\n",
    "\n",
    "<br>\n",
    "$$ p(\\mbf{y}| \\mbf{x};\\mbf{W},\\mbf{b}) = \\frac{\\exp({\\mbf{W}\\mbf{x}+\\mbf{b})}}{\\sum_{k=1}^K\\exp({\\mbf{W}_k\\mbf{x}+\\mbf{b}_k)}} $$\n",
    "\n",
    "\n"
   ]
  },
  {
   "cell_type": "markdown",
   "metadata": {
    "slideshow": {
     "slide_type": "subslide"
    }
   },
   "source": [
    "# Learning weights through Stochastic Gradient Descent (SGD)\n",
    "\n",
    "We need to minimize $$ \\mathcal{J}(\\mbf{\\theta};\\mbf{x},y)= \\frac{1}{2} \\sum_{i=1}^{n}\\mathcal{L}\\big(y_{i}, f_{\\boldsymbol{\\theta}}(\\mbf{x}_i)\\big)$$  so to find:\n",
    "\n",
    "$$\\mbf{\\theta}^{\\star} = \\arg\\min_{\\mbf{\\theta}} \\mathcal{J}(\\mbf{\\theta};\\mbf{x},y) $$"
   ]
  },
  {
   "cell_type": "markdown",
   "metadata": {
    "slideshow": {
     "slide_type": "subslide"
    }
   },
   "source": [
    "# Gradient Descent Algorithm as an Iterative Method\n",
    "\n",
    "<ins>**Idea: make little step so that locally after each step the cost is lower than before**</ins><br>\n",
    "Input: Training set $\\{\\mbf{x}_i,y_i\\}$, learning rate  $\\gamma$, a small value in $\\{0.1,\\ldots,\\texttt{1e-6}\\}$."
   ]
  },
  {
   "cell_type": "markdown",
   "metadata": {
    "slideshow": {
     "slide_type": "fragment"
    }
   },
   "source": [
    "1. **Initialization - Very Important if the function is not strictly convex** \n",
    "$$\\bmf{\\theta} \\doteq \\mbf{0}^T$$ Set it to all zeros or random initialization from a distribution.\n",
    "2. Repeat until **convergence**:\n",
    "    - Compute the gradient of the loss wrt to the parameters $\\bmf{\\theta}$ given **all the training set**\n",
    "    - Take a small step in the opposite direction of steepest ascent **(so steepest descent).**<br/><br/>\n",
    "     $$\\bmf{\\theta} \\leftarrow  \\bmf{\\theta} -\\gamma \\bmf{\\nabla}_{\\bmf{\\theta}}\\mathcal{J}(\\mbf{\\theta};\\mbf{x},y)$$\n",
    "3. When convergence is reached, you final estimate is in $\\bmf{\\theta}$"
   ]
  },
  {
   "cell_type": "markdown",
   "metadata": {
    "slideshow": {
     "slide_type": "subslide"
    }
   },
   "source": [
    "# Convergence\n",
    "\n",
    "$$\\big\\{\\bmf{\\theta}_{t=0},\\bmf{\\theta}_{t=1}, \\ldots, \\bmf{\\theta}_{t=100} \\big\\}$$\n",
    "\n",
    "### 0) <ins>Always:</ins> validation loss/metric _(early stopping)_ (required)\n",
    "\n",
    "### 1) No significant decrease in the loss function (preferred)\n",
    "\n",
    "$$\\mid \\mathcal{J}(\\mbf{\\theta};\\mbf{x},y)_{t} - \\mathcal{J}(\\mbf{\\theta};\\mbf{x},y)_{t-1}   \\mid $$\n",
    "\n",
    "### 1) No variations in the parameters\n",
    "\n",
    "$$\\mid\\mid \\mbf{\\theta}_{t} - \\mbf{\\theta}_{t-1}   \\mid\\mid $$\n",
    "\n",
    "### 2) Gradient Norm goes to zero\n",
    "\n",
    "$$\\mid\\mid \\bmf{\\nabla}_{\\bmf{\\theta}}\\mathcal{J}(\\mbf{\\theta};\\mbf{x},y)   \\mid\\mid \\rightarrow 0 $$\n"
   ]
  },
  {
   "cell_type": "code",
   "execution_count": 20,
   "metadata": {
    "hide_input": false,
    "slideshow": {
     "slide_type": "skip"
    }
   },
   "outputs": [
    {
     "data": {
      "image/png": "[encoded data removed]",
      "text/plain": [
       "<Figure size 700x700 with 1 Axes>"
      ]
     },
     "metadata": {},
     "output_type": "display_data"
    }
   ],
   "source": [
    "%matplotlib inline\n",
    "from sklearn import linear_model, datasets\n",
    "from matplotlib import pyplot as plt\n",
    "import numpy as np\n",
    "\n",
    "n_samples = 100\n",
    "size = 7\n",
    "\n",
    "X, y, coef_gt = datasets.make_regression(\n",
    "    n_samples=n_samples,\n",
    "    n_features=1,\n",
    "    n_informative=1,\n",
    "    noise=20,\n",
    "    coef=True,\n",
    "    random_state=42,\n",
    ")\n",
    "fig = plt.figure(figsize=(size, size))\n",
    "ax = fig.add_subplot()\n",
    "# Linear Regression\n",
    "bias = np.ones((X.shape[0], 1))\n",
    "X = np.hstack((X, bias))\n",
    "theta = np.linalg.inv(X.T@X)@X.T@y\n",
    "# Now MeshGrid\n",
    "Xmin, Xmax = X.min(), X.max()\n",
    "x_interp = np.linspace(Xmin, Xmax, 100)\n",
    "x_interp = x_interp.reshape(-1,1)\n",
    "x_interp = np.c_[x_interp,np.ones_like(x_interp)]\n",
    "y_interp = np.dot(theta, x_interp.T)\n",
    "ax.scatter(x_interp[:,0], y_interp, alpha=0.7, marker='.')\n",
    "ax.scatter(X[..., 0], y, c='red', marker='o')\n",
    "ax.set_xlabel('$x$');\n",
    "ax.set_ylabel('$y$');"
   ]
  },
  {
   "cell_type": "code",
   "execution_count": 21,
   "metadata": {
    "slideshow": {
     "slide_type": "skip"
    }
   },
   "outputs": [],
   "source": [
    "# do mesh grid on possible theta, evaluate the loss and plot the countf\n",
    "theta_sampling = 50\n",
    "theta_space = np.linspace(-200, 200, theta_sampling)\n",
    "xxt, yyt = np.meshgrid(theta_space, theta_space)\n",
    "xxt = xxt.flatten()\n",
    "yyt = yyt.flatten()\n",
    "all_coeff = np.stack((xxt, yyt), axis=1)\n",
    "loss = 0.5*1"
   ]
  },
  {
   "cell_type": "code",
   "execution_count": 22,
   "metadata": {
    "slideshow": {
     "slide_type": "skip"
    }
   },
   "outputs": [],
   "source": [
    "losses = []\n",
    "for coeff in all_coeff:\n",
    "    diff = np.dot(X, coeff.T) - y\n",
    "    losses.append(0.5*np.dot(diff.T, diff))\n",
    "losses = np.array(losses)\n",
    "losses = losses.reshape(theta_sampling, theta_sampling)\n",
    "xxt = xxt.reshape(theta_sampling, theta_sampling)\n",
    "yyt = yyt.reshape(theta_sampling, theta_sampling)"
   ]
  },
  {
   "cell_type": "code",
   "execution_count": 23,
   "metadata": {
    "slideshow": {
     "slide_type": "skip"
    }
   },
   "outputs": [
    {
     "data": {
      "image/png": "[encoded data removed]",
      "text/plain": [
       "<Figure size 640x480 with 2 Axes>"
      ]
     },
     "metadata": {},
     "output_type": "display_data"
    }
   ],
   "source": [
    "plt.rcParams['axes.grid'] = False\n",
    "plt.contourf(xxt, yyt, losses, levels=50, cmap='jet')\n",
    "plt.colorbar()\n",
    "plt.scatter(coef_gt, 0, color='red', marker='o', s=50)\n",
    "plt.axis('scaled')\n",
    "plt.xlabel('$theta_1$')\n",
    "plt.ylabel('$theta_2$');"
   ]
  },
  {
   "cell_type": "markdown",
   "metadata": {
    "slideshow": {
     "slide_type": "subslide"
    }
   },
   "source": [
    "# Ready for an awesome demo?"
   ]
  },
  {
   "cell_type": "code",
   "execution_count": 24,
   "metadata": {
    "hide_input": true,
    "scrolled": true,
    "slideshow": {
     "slide_type": "subslide"
    }
   },
   "outputs": [
    {
     "data": {
      "application/javascript": [
       "/* Put everything inside the global mpl namespace */\n",
       "/* global mpl */\n",
       "window.mpl = {};\n",
       "\n",
       "mpl.get_websocket_type = function () {\n",
       "    if (typeof WebSocket !== 'undefined') {\n",
       "        return WebSocket;\n",
       "    } else if (typeof MozWebSocket !== 'undefined') {\n",
       "        return MozWebSocket;\n",
       "    } else {\n",
       "        alert(\n",
       "            'Your browser does not have WebSocket support. ' +\n",
       "                'Please try Chrome, Safari or Firefox ≥ 6. ' +\n",
       "                'Firefox 4 and 5 are also supported but you ' +\n",
       "                'have to enable WebSockets in about:config.'\n",
       "        );\n",
       "    }\n",
       "};\n",
       "\n",
       "mpl.figure = function (figure_id, websocket, ondownload, parent_element) {\n",
       "    this.id = figure_id;\n",
       "\n",
       "    this.ws = websocket;\n",
       "\n",
       "    this.supports_binary = this.ws.binaryType !== undefined;\n",
       "\n",
       "    if (!this.supports_binary) {\n",
       "        var warnings = document.getElementById('mpl-warnings');\n",
       "        if (warnings) {\n",
       "            warnings.style.display = 'block';\n",
       "            warnings.textContent =\n",
       "                'This browser does not support binary websocket messages. ' +\n",
       "                'Performance may be slow.';\n",
       "        }\n",
       "    }\n",
       "\n",
       "    this.imageObj = new Image();\n",
       "\n",
       "    this.context = undefined;\n",
       "    this.message = undefined;\n",
       "    this.canvas = undefined;\n",
       "    this.rubberband_canvas = undefined;\n",
       "    this.rubberband_context = undefined;\n",
       "    this.format_dropdown = undefined;\n",
       "\n",
       "    this.image_mode = 'full';\n",
       "\n",
       "    this.root = document.createElement('div');\n",
       "    this.root.setAttribute('style', 'display: inline-block');\n",
       "    this._root_extra_style(this.root);\n",
       "\n",
       "    parent_element.appendChild(this.root);\n",
       "\n",
       "    this._init_header(this);\n",
       "    this._init_canvas(this);\n",
       "    this._init_toolbar(this);\n",
       "\n",
       "    var fig = this;\n",
       "\n",
       "    this.waiting = false;\n",
       "\n",
       "    this.ws.onopen = function () {\n",
       "        fig.send_message('supports_binary', { value: fig.supports_binary });\n",
       "        fig.send_message('send_image_mode', {});\n",
       "        if (fig.ratio !== 1) {\n",
       "            fig.send_message('set_device_pixel_ratio', {\n",
       "                device_pixel_ratio: fig.ratio,\n",
       "            });\n",
       "        }\n",
       "        fig.send_message('refresh', {});\n",
       "    };\n",
       "\n",
       "    this.imageObj.onload = function () {\n",
       "        if (fig.image_mode === 'full') {\n",
       "            // Full images could contain transparency (where diff images\n",
       "            // almost always do), so we need to clear the canvas so that\n",
       "            // there is no ghosting.\n",
       "            fig.context.clearRect(0, 0, fig.canvas.width, fig.canvas.height);\n",
       "        }\n",
       "        fig.context.drawImage(fig.imageObj, 0, 0);\n",
       "    };\n",
       "\n",
       "    this.imageObj.onunload = function () {\n",
       "        fig.ws.close();\n",
       "    };\n",
       "\n",
       "    this.ws.onmessage = this._make_on_message_function(this);\n",
       "\n",
       "    this.ondownload = ondownload;\n",
       "};\n",
       "\n",
       "mpl.figure.prototype._init_header = function () {\n",
       "    var titlebar = document.createElement('div');\n",
       "    titlebar.classList =\n",
       "        'ui-dialog-titlebar ui-widget-header ui-corner-all ui-helper-clearfix';\n",
       "    var titletext = document.createElement('div');\n",
       "    titletext.classList = 'ui-dialog-title';\n",
       "    titletext.setAttribute(\n",
       "        'style',\n",
       "        'width: 100%; text-align: center; padding: 3px;'\n",
       "    );\n",
       "    titlebar.appendChild(titletext);\n",
       "    this.root.appendChild(titlebar);\n",
       "    this.header = titletext;\n",
       "};\n",
       "\n",
       "mpl.figure.prototype._canvas_extra_style = function (_canvas_div) {};\n",
       "\n",
       "mpl.figure.prototype._root_extra_style = function (_canvas_div) {};\n",
       "\n",
       "mpl.figure.prototype._init_canvas = function () {\n",
       "    var fig = this;\n",
       "\n",
       "    var canvas_div = (this.canvas_div = document.createElement('div'));\n",
       "    canvas_div.setAttribute('tabindex', '0');\n",
       "    canvas_div.setAttribute(\n",
       "        'style',\n",
       "        'border: 1px solid #ddd;' +\n",
       "            'box-sizing: content-box;' +\n",
       "            'clear: both;' +\n",
       "            'min-height: 1px;' +\n",
       "            'min-width: 1px;' +\n",
       "            'outline: 0;' +\n",
       "            'overflow: hidden;' +\n",
       "            'position: relative;' +\n",
       "            'resize: both;' +\n",
       "            'z-index: 2;'\n",
       "    );\n",
       "\n",
       "    function on_keyboard_event_closure(name) {\n",
       "        return function (event) {\n",
       "            return fig.key_event(event, name);\n",
       "        };\n",
       "    }\n",
       "\n",
       "    canvas_div.addEventListener(\n",
       "        'keydown',\n",
       "        on_keyboard_event_closure('key_press')\n",
       "    );\n",
       "    canvas_div.addEventListener(\n",
       "        'keyup',\n",
       "        on_keyboard_event_closure('key_release')\n",
       "    );\n",
       "\n",
       "    this._canvas_extra_style(canvas_div);\n",
       "    this.root.appendChild(canvas_div);\n",
       "\n",
       "    var canvas = (this.canvas = document.createElement('canvas'));\n",
       "    canvas.classList.add('mpl-canvas');\n",
       "    canvas.setAttribute(\n",
       "        'style',\n",
       "        'box-sizing: content-box;' +\n",
       "            'pointer-events: none;' +\n",
       "            'position: relative;' +\n",
       "            'z-index: 0;'\n",
       "    );\n",
       "\n",
       "    this.context = canvas.getContext('2d');\n",
       "\n",
       "    var backingStore =\n",
       "        this.context.backingStorePixelRatio ||\n",
       "        this.context.webkitBackingStorePixelRatio ||\n",
       "        this.context.mozBackingStorePixelRatio ||\n",
       "        this.context.msBackingStorePixelRatio ||\n",
       "        this.context.oBackingStorePixelRatio ||\n",
       "        this.context.backingStorePixelRatio ||\n",
       "        1;\n",
       "\n",
       "    this.ratio = (window.devicePixelRatio || 1) / backingStore;\n",
       "\n",
       "    var rubberband_canvas = (this.rubberband_canvas = document.createElement(\n",
       "        'canvas'\n",
       "    ));\n",
       "    rubberband_canvas.setAttribute(\n",
       "        'style',\n",
       "        'box-sizing: content-box;' +\n",
       "            'left: 0;' +\n",
       "            'pointer-events: none;' +\n",
       "            'position: absolute;' +\n",
       "            'top: 0;' +\n",
       "            'z-index: 1;'\n",
       "    );\n",
       "\n",
       "    // Apply a ponyfill if ResizeObserver is not implemented by browser.\n",
       "    if (this.ResizeObserver === undefined) {\n",
       "        if (window.ResizeObserver !== undefined) {\n",
       "            this.ResizeObserver = window.ResizeObserver;\n",
       "        } else {\n",
       "            var obs = _JSXTOOLS_RESIZE_OBSERVER({});\n",
       "            this.ResizeObserver = obs.ResizeObserver;\n",
       "        }\n",
       "    }\n",
       "\n",
       "    this.resizeObserverInstance = new this.ResizeObserver(function (entries) {\n",
       "        var nentries = entries.length;\n",
       "        for (var i = 0; i < nentries; i++) {\n",
       "            var entry = entries[i];\n",
       "            var width, height;\n",
       "            if (entry.contentBoxSize) {\n",
       "                if (entry.contentBoxSize instanceof Array) {\n",
       "                    // Chrome 84 implements new version of spec.\n",
       "                    width = entry.contentBoxSize[0].inlineSize;\n",
       "                    height = entry.contentBoxSize[0].blockSize;\n",
       "                } else {\n",
       "                    // Firefox implements old version of spec.\n",
       "                    width = entry.contentBoxSize.inlineSize;\n",
       "                    height = entry.contentBoxSize.blockSize;\n",
       "                }\n",
       "            } else {\n",
       "                // Chrome <84 implements even older version of spec.\n",
       "                width = entry.contentRect.width;\n",
       "                height = entry.contentRect.height;\n",
       "            }\n",
       "\n",
       "            // Keep the size of the canvas and rubber band canvas in sync with\n",
       "            // the canvas container.\n",
       "            if (entry.devicePixelContentBoxSize) {\n",
       "                // Chrome 84 implements new version of spec.\n",
       "                canvas.setAttribute(\n",
       "                    'width',\n",
       "                    entry.devicePixelContentBoxSize[0].inlineSize\n",
       "                );\n",
       "                canvas.setAttribute(\n",
       "                    'height',\n",
       "                    entry.devicePixelContentBoxSize[0].blockSize\n",
       "                );\n",
       "            } else {\n",
       "                canvas.setAttribute('width', width * fig.ratio);\n",
       "                canvas.setAttribute('height', height * fig.ratio);\n",
       "            }\n",
       "            /* This rescales the canvas back to display pixels, so that it\n",
       "             * appears correct on HiDPI screens. */\n",
       "            canvas.style.width = width + 'px';\n",
       "            canvas.style.height = height + 'px';\n",
       "\n",
       "            rubberband_canvas.setAttribute('width', width);\n",
       "            rubberband_canvas.setAttribute('height', height);\n",
       "\n",
       "            // And update the size in Python. We ignore the initial 0/0 size\n",
       "            // that occurs as the element is placed into the DOM, which should\n",
       "            // otherwise not happen due to the minimum size styling.\n",
       "            if (fig.ws.readyState == 1 && width != 0 && height != 0) {\n",
       "                fig.request_resize(width, height);\n",
       "            }\n",
       "        }\n",
       "    });\n",
       "    this.resizeObserverInstance.observe(canvas_div);\n",
       "\n",
       "    function on_mouse_event_closure(name) {\n",
       "        /* User Agent sniffing is bad, but WebKit is busted:\n",
       "         * https://bugs.webkit.org/show_bug.cgi?id=144526\n",
       "         * https://bugs.webkit.org/show_bug.cgi?id=181818\n",
       "         * The worst that happens here is that they get an extra browser\n",
       "         * selection when dragging, if this check fails to catch them.\n",
       "         */\n",
       "        var UA = navigator.userAgent;\n",
       "        var isWebKit = /AppleWebKit/.test(UA) && !/Chrome/.test(UA);\n",
       "        if(isWebKit) {\n",
       "            return function (event) {\n",
       "                /* This prevents the web browser from automatically changing to\n",
       "                 * the text insertion cursor when the button is pressed. We\n",
       "                 * want to control all of the cursor setting manually through\n",
       "                 * the 'cursor' event from matplotlib */\n",
       "                event.preventDefault()\n",
       "                return fig.mouse_event(event, name);\n",
       "            };\n",
       "        } else {\n",
       "            return function (event) {\n",
       "                return fig.mouse_event(event, name);\n",
       "            };\n",
       "        }\n",
       "    }\n",
       "\n",
       "    canvas_div.addEventListener(\n",
       "        'mousedown',\n",
       "        on_mouse_event_closure('button_press')\n",
       "    );\n",
       "    canvas_div.addEventListener(\n",
       "        'mouseup',\n",
       "        on_mouse_event_closure('button_release')\n",
       "    );\n",
       "    canvas_div.addEventListener(\n",
       "        'dblclick',\n",
       "        on_mouse_event_closure('dblclick')\n",
       "    );\n",
       "    // Throttle sequential mouse events to 1 every 20ms.\n",
       "    canvas_div.addEventListener(\n",
       "        'mousemove',\n",
       "        on_mouse_event_closure('motion_notify')\n",
       "    );\n",
       "\n",
       "    canvas_div.addEventListener(\n",
       "        'mouseenter',\n",
       "        on_mouse_event_closure('figure_enter')\n",
       "    );\n",
       "    canvas_div.addEventListener(\n",
       "        'mouseleave',\n",
       "        on_mouse_event_closure('figure_leave')\n",
       "    );\n",
       "\n",
       "    canvas_div.addEventListener('wheel', function (event) {\n",
       "        if (event.deltaY < 0) {\n",
       "            event.step = 1;\n",
       "        } else {\n",
       "            event.step = -1;\n",
       "        }\n",
       "        on_mouse_event_closure('scroll')(event);\n",
       "    });\n",
       "\n",
       "    canvas_div.appendChild(canvas);\n",
       "    canvas_div.appendChild(rubberband_canvas);\n",
       "\n",
       "    this.rubberband_context = rubberband_canvas.getContext('2d');\n",
       "    this.rubberband_context.strokeStyle = '#000000';\n",
       "\n",
       "    this._resize_canvas = function (width, height, forward) {\n",
       "        if (forward) {\n",
       "            canvas_div.style.width = width + 'px';\n",
       "            canvas_div.style.height = height + 'px';\n",
       "        }\n",
       "    };\n",
       "\n",
       "    // Disable right mouse context menu.\n",
       "    canvas_div.addEventListener('contextmenu', function (_e) {\n",
       "        event.preventDefault();\n",
       "        return false;\n",
       "    });\n",
       "\n",
       "    function set_focus() {\n",
       "        canvas.focus();\n",
       "        canvas_div.focus();\n",
       "    }\n",
       "\n",
       "    window.setTimeout(set_focus, 100);\n",
       "};\n",
       "\n",
       "mpl.figure.prototype._init_toolbar = function () {\n",
       "    var fig = this;\n",
       "\n",
       "    var toolbar = document.createElement('div');\n",
       "    toolbar.classList = 'mpl-toolbar';\n",
       "    this.root.appendChild(toolbar);\n",
       "\n",
       "    function on_click_closure(name) {\n",
       "        return function (_event) {\n",
       "            return fig.toolbar_button_onclick(name);\n",
       "        };\n",
       "    }\n",
       "\n",
       "    function on_mouseover_closure(tooltip) {\n",
       "        return function (event) {\n",
       "            if (!event.currentTarget.disabled) {\n",
       "                return fig.toolbar_button_onmouseover(tooltip);\n",
       "            }\n",
       "        };\n",
       "    }\n",
       "\n",
       "    fig.buttons = {};\n",
       "    var buttonGroup = document.createElement('div');\n",
       "    buttonGroup.classList = 'mpl-button-group';\n",
       "    for (var toolbar_ind in mpl.toolbar_items) {\n",
       "        var name = mpl.toolbar_items[toolbar_ind][0];\n",
       "        var tooltip = mpl.toolbar_items[toolbar_ind][1];\n",
       "        var image = mpl.toolbar_items[toolbar_ind][2];\n",
       "        var method_name = mpl.toolbar_items[toolbar_ind][3];\n",
       "\n",
       "        if (!name) {\n",
       "            /* Instead of a spacer, we start a new button group. */\n",
       "            if (buttonGroup.hasChildNodes()) {\n",
       "                toolbar.appendChild(buttonGroup);\n",
       "            }\n",
       "            buttonGroup = document.createElement('div');\n",
       "            buttonGroup.classList = 'mpl-button-group';\n",
       "            continue;\n",
       "        }\n",
       "\n",
       "        var button = (fig.buttons[name] = document.createElement('button'));\n",
       "        button.classList = 'mpl-widget';\n",
       "        button.setAttribute('role', 'button');\n",
       "        button.setAttribute('aria-disabled', 'false');\n",
       "        button.addEventListener('click', on_click_closure(method_name));\n",
       "        button.addEventListener('mouseover', on_mouseover_closure(tooltip));\n",
       "\n",
       "        var icon_img = document.createElement('img');\n",
       "        icon_img.src = '_images/' + image + '.png';\n",
       "        icon_img.srcset = '_images/' + image + '_large.png 2x';\n",
       "        icon_img.alt = tooltip;\n",
       "        button.appendChild(icon_img);\n",
       "\n",
       "        buttonGroup.appendChild(button);\n",
       "    }\n",
       "\n",
       "    if (buttonGroup.hasChildNodes()) {\n",
       "        toolbar.appendChild(buttonGroup);\n",
       "    }\n",
       "\n",
       "    var fmt_picker = document.createElement('select');\n",
       "    fmt_picker.classList = 'mpl-widget';\n",
       "    toolbar.appendChild(fmt_picker);\n",
       "    this.format_dropdown = fmt_picker;\n",
       "\n",
       "    for (var ind in mpl.extensions) {\n",
       "        var fmt = mpl.extensions[ind];\n",
       "        var option = document.createElement('option');\n",
       "        option.selected = fmt === mpl.default_extension;\n",
       "        option.innerHTML = fmt;\n",
       "        fmt_picker.appendChild(option);\n",
       "    }\n",
       "\n",
       "    var status_bar = document.createElement('span');\n",
       "    status_bar.classList = 'mpl-message';\n",
       "    toolbar.appendChild(status_bar);\n",
       "    this.message = status_bar;\n",
       "};\n",
       "\n",
       "mpl.figure.prototype.request_resize = function (x_pixels, y_pixels) {\n",
       "    // Request matplotlib to resize the figure. Matplotlib will then trigger a resize in the client,\n",
       "    // which will in turn request a refresh of the image.\n",
       "    this.send_message('resize', { width: x_pixels, height: y_pixels });\n",
       "};\n",
       "\n",
       "mpl.figure.prototype.send_message = function (type, properties) {\n",
       "    properties['type'] = type;\n",
       "    properties['figure_id'] = this.id;\n",
       "    this.ws.send(JSON.stringify(properties));\n",
       "};\n",
       "\n",
       "mpl.figure.prototype.send_draw_message = function () {\n",
       "    if (!this.waiting) {\n",
       "        this.waiting = true;\n",
       "        this.ws.send(JSON.stringify({ type: 'draw', figure_id: this.id }));\n",
       "    }\n",
       "};\n",
       "\n",
       "mpl.figure.prototype.handle_save = function (fig, _msg) {\n",
       "    var format_dropdown = fig.format_dropdown;\n",
       "    var format = format_dropdown.options[format_dropdown.selectedIndex].value;\n",
       "    fig.ondownload(fig, format);\n",
       "};\n",
       "\n",
       "mpl.figure.prototype.handle_resize = function (fig, msg) {\n",
       "    var size = msg['size'];\n",
       "    if (size[0] !== fig.canvas.width || size[1] !== fig.canvas.height) {\n",
       "        fig._resize_canvas(size[0], size[1], msg['forward']);\n",
       "        fig.send_message('refresh', {});\n",
       "    }\n",
       "};\n",
       "\n",
       "mpl.figure.prototype.handle_rubberband = function (fig, msg) {\n",
       "    var x0 = msg['x0'] / fig.ratio;\n",
       "    var y0 = (fig.canvas.height - msg['y0']) / fig.ratio;\n",
       "    var x1 = msg['x1'] / fig.ratio;\n",
       "    var y1 = (fig.canvas.height - msg['y1']) / fig.ratio;\n",
       "    x0 = Math.floor(x0) + 0.5;\n",
       "    y0 = Math.floor(y0) + 0.5;\n",
       "    x1 = Math.floor(x1) + 0.5;\n",
       "    y1 = Math.floor(y1) + 0.5;\n",
       "    var min_x = Math.min(x0, x1);\n",
       "    var min_y = Math.min(y0, y1);\n",
       "    var width = Math.abs(x1 - x0);\n",
       "    var height = Math.abs(y1 - y0);\n",
       "\n",
       "    fig.rubberband_context.clearRect(\n",
       "        0,\n",
       "        0,\n",
       "        fig.canvas.width / fig.ratio,\n",
       "        fig.canvas.height / fig.ratio\n",
       "    );\n",
       "\n",
       "    fig.rubberband_context.strokeRect(min_x, min_y, width, height);\n",
       "};\n",
       "\n",
       "mpl.figure.prototype.handle_figure_label = function (fig, msg) {\n",
       "    // Updates the figure title.\n",
       "    fig.header.textContent = msg['label'];\n",
       "};\n",
       "\n",
       "mpl.figure.prototype.handle_cursor = function (fig, msg) {\n",
       "    fig.canvas_div.style.cursor = msg['cursor'];\n",
       "};\n",
       "\n",
       "mpl.figure.prototype.handle_message = function (fig, msg) {\n",
       "    fig.message.textContent = msg['message'];\n",
       "};\n",
       "\n",
       "mpl.figure.prototype.handle_draw = function (fig, _msg) {\n",
       "    // Request the server to send over a new figure.\n",
       "    fig.send_draw_message();\n",
       "};\n",
       "\n",
       "mpl.figure.prototype.handle_image_mode = function (fig, msg) {\n",
       "    fig.image_mode = msg['mode'];\n",
       "};\n",
       "\n",
       "mpl.figure.prototype.handle_history_buttons = function (fig, msg) {\n",
       "    for (var key in msg) {\n",
       "        if (!(key in fig.buttons)) {\n",
       "            continue;\n",
       "        }\n",
       "        fig.buttons[key].disabled = !msg[key];\n",
       "        fig.buttons[key].setAttribute('aria-disabled', !msg[key]);\n",
       "    }\n",
       "};\n",
       "\n",
       "mpl.figure.prototype.handle_navigate_mode = function (fig, msg) {\n",
       "    if (msg['mode'] === 'PAN') {\n",
       "        fig.buttons['Pan'].classList.add('active');\n",
       "        fig.buttons['Zoom'].classList.remove('active');\n",
       "    } else if (msg['mode'] === 'ZOOM') {\n",
       "        fig.buttons['Pan'].classList.remove('active');\n",
       "        fig.buttons['Zoom'].classList.add('active');\n",
       "    } else {\n",
       "        fig.buttons['Pan'].classList.remove('active');\n",
       "        fig.buttons['Zoom'].classList.remove('active');\n",
       "    }\n",
       "};\n",
       "\n",
       "mpl.figure.prototype.updated_canvas_event = function () {\n",
       "    // Called whenever the canvas gets updated.\n",
       "    this.send_message('ack', {});\n",
       "};\n",
       "\n",
       "// A function to construct a web socket function for onmessage handling.\n",
       "// Called in the figure constructor.\n",
       "mpl.figure.prototype._make_on_message_function = function (fig) {\n",
       "    return function socket_on_message(evt) {\n",
       "        if (evt.data instanceof Blob) {\n",
       "            var img = evt.data;\n",
       "            if (img.type !== 'image/png') {\n",
       "                /* FIXME: We get \"Resource interpreted as Image but\n",
       "                 * transferred with MIME type text/plain:\" errors on\n",
       "                 * Chrome.  But how to set the MIME type?  It doesn't seem\n",
       "                 * to be part of the websocket stream */\n",
       "                img.type = 'image/png';\n",
       "            }\n",
       "\n",
       "            /* Free the memory for the previous frames */\n",
       "            if (fig.imageObj.src) {\n",
       "                (window.URL || window.webkitURL).revokeObjectURL(\n",
       "                    fig.imageObj.src\n",
       "                );\n",
       "            }\n",
       "\n",
       "            fig.imageObj.src = (window.URL || window.webkitURL).createObjectURL(\n",
       "                img\n",
       "            );\n",
       "            fig.updated_canvas_event();\n",
       "            fig.waiting = false;\n",
       "            return;\n",
       "        } else if (\n",
       "            typeof evt.data === 'string' &&\n",
       "            evt.data.slice(0, 21) === 'data:image/png;base64'\n",
       "        ) {\n",
       "            fig.imageObj.src = evt.data;\n",
       "            fig.updated_canvas_event();\n",
       "            fig.waiting = false;\n",
       "            return;\n",
       "        }\n",
       "\n",
       "        var msg = JSON.parse(evt.data);\n",
       "        var msg_type = msg['type'];\n",
       "\n",
       "        // Call the  \"handle_{type}\" callback, which takes\n",
       "        // the figure and JSON message as its only arguments.\n",
       "        try {\n",
       "            var callback = fig['handle_' + msg_type];\n",
       "        } catch (e) {\n",
       "            console.log(\n",
       "                \"No handler for the '\" + msg_type + \"' message type: \",\n",
       "                msg\n",
       "            );\n",
       "            return;\n",
       "        }\n",
       "\n",
       "        if (callback) {\n",
       "            try {\n",
       "                // console.log(\"Handling '\" + msg_type + \"' message: \", msg);\n",
       "                callback(fig, msg);\n",
       "            } catch (e) {\n",
       "                console.log(\n",
       "                    \"Exception inside the 'handler_\" + msg_type + \"' callback:\",\n",
       "                    e,\n",
       "                    e.stack,\n",
       "                    msg\n",
       "                );\n",
       "            }\n",
       "        }\n",
       "    };\n",
       "};\n",
       "\n",
       "\n",
       "/*\n",
       " * return a copy of an object with only non-object keys\n",
       " * we need this to avoid circular references\n",
       " * https://stackoverflow.com/a/24161582/3208463\n",
       " */\n",
       "function simpleKeys(original) {\n",
       "    return Object.keys(original).reduce(function (obj, key) {\n",
       "        if (typeof original[key] !== 'object') {\n",
       "            obj[key] = original[key];\n",
       "        }\n",
       "        return obj;\n",
       "    }, {});\n",
       "}\n",
       "\n",
       "mpl.figure.prototype.mouse_event = function (event, name) {\n",
       "    if (name === 'button_press') {\n",
       "        this.canvas.focus();\n",
       "        this.canvas_div.focus();\n",
       "    }\n",
       "\n",
       "    // from https://stackoverflow.com/q/1114465\n",
       "    var boundingRect = this.canvas.getBoundingClientRect();\n",
       "    var x = (event.clientX - boundingRect.left) * this.ratio;\n",
       "    var y = (event.clientY - boundingRect.top) * this.ratio;\n",
       "\n",
       "    this.send_message(name, {\n",
       "        x: x,\n",
       "        y: y,\n",
       "        button: event.button,\n",
       "        step: event.step,\n",
       "        guiEvent: simpleKeys(event),\n",
       "    });\n",
       "\n",
       "    return false;\n",
       "};\n",
       "\n",
       "mpl.figure.prototype._key_event_extra = function (_event, _name) {\n",
       "    // Handle any extra behaviour associated with a key event\n",
       "};\n",
       "\n",
       "mpl.figure.prototype.key_event = function (event, name) {\n",
       "    // Prevent repeat events\n",
       "    if (name === 'key_press') {\n",
       "        if (event.key === this._key) {\n",
       "            return;\n",
       "        } else {\n",
       "            this._key = event.key;\n",
       "        }\n",
       "    }\n",
       "    if (name === 'key_release') {\n",
       "        this._key = null;\n",
       "    }\n",
       "\n",
       "    var value = '';\n",
       "    if (event.ctrlKey && event.key !== 'Control') {\n",
       "        value += 'ctrl+';\n",
       "    }\n",
       "    else if (event.altKey && event.key !== 'Alt') {\n",
       "        value += 'alt+';\n",
       "    }\n",
       "    else if (event.shiftKey && event.key !== 'Shift') {\n",
       "        value += 'shift+';\n",
       "    }\n",
       "\n",
       "    value += 'k' + event.key;\n",
       "\n",
       "    this._key_event_extra(event, name);\n",
       "\n",
       "    this.send_message(name, { key: value, guiEvent: simpleKeys(event) });\n",
       "    return false;\n",
       "};\n",
       "\n",
       "mpl.figure.prototype.toolbar_button_onclick = function (name) {\n",
       "    if (name === 'download') {\n",
       "        this.handle_save(this, null);\n",
       "    } else {\n",
       "        this.send_message('toolbar_button', { name: name });\n",
       "    }\n",
       "};\n",
       "\n",
       "mpl.figure.prototype.toolbar_button_onmouseover = function (tooltip) {\n",
       "    this.message.textContent = tooltip;\n",
       "};\n",
       "\n",
       "///////////////// REMAINING CONTENT GENERATED BY embed_js.py /////////////////\n",
       "// prettier-ignore\n",
       "var _JSXTOOLS_RESIZE_OBSERVER=function(A){var t,i=new WeakMap,n=new WeakMap,a=new WeakMap,r=new WeakMap,o=new Set;function s(e){if(!(this instanceof s))throw new TypeError(\"Constructor requires 'new' operator\");i.set(this,e)}function h(){throw new TypeError(\"Function is not a constructor\")}function c(e,t,i,n){e=0 in arguments?Number(arguments[0]):0,t=1 in arguments?Number(arguments[1]):0,i=2 in arguments?Number(arguments[2]):0,n=3 in arguments?Number(arguments[3]):0,this.right=(this.x=this.left=e)+(this.width=i),this.bottom=(this.y=this.top=t)+(this.height=n),Object.freeze(this)}function d(){t=requestAnimationFrame(d);var s=new WeakMap,p=new Set;o.forEach((function(t){r.get(t).forEach((function(i){var r=t instanceof window.SVGElement,o=a.get(t),d=r?0:parseFloat(o.paddingTop),f=r?0:parseFloat(o.paddingRight),l=r?0:parseFloat(o.paddingBottom),u=r?0:parseFloat(o.paddingLeft),g=r?0:parseFloat(o.borderTopWidth),m=r?0:parseFloat(o.borderRightWidth),w=r?0:parseFloat(o.borderBottomWidth),b=u+f,F=d+l,v=(r?0:parseFloat(o.borderLeftWidth))+m,W=g+w,y=r?0:t.offsetHeight-W-t.clientHeight,E=r?0:t.offsetWidth-v-t.clientWidth,R=b+v,z=F+W,M=r?t.width:parseFloat(o.width)-R-E,O=r?t.height:parseFloat(o.height)-z-y;if(n.has(t)){var k=n.get(t);if(k[0]===M&&k[1]===O)return}n.set(t,[M,O]);var S=Object.create(h.prototype);S.target=t,S.contentRect=new c(u,d,M,O),s.has(i)||(s.set(i,[]),p.add(i)),s.get(i).push(S)}))})),p.forEach((function(e){i.get(e).call(e,s.get(e),e)}))}return s.prototype.observe=function(i){if(i instanceof window.Element){r.has(i)||(r.set(i,new Set),o.add(i),a.set(i,window.getComputedStyle(i)));var n=r.get(i);n.has(this)||n.add(this),cancelAnimationFrame(t),t=requestAnimationFrame(d)}},s.prototype.unobserve=function(i){if(i instanceof window.Element&&r.has(i)){var n=r.get(i);n.has(this)&&(n.delete(this),n.size||(r.delete(i),o.delete(i))),n.size||r.delete(i),o.size||cancelAnimationFrame(t)}},A.DOMRectReadOnly=c,A.ResizeObserver=s,A.ResizeObserverEntry=h,A}; // eslint-disable-line\n",
       "mpl.toolbar_items = [[\"Home\", \"Reset original view\", \"fa fa-home\", \"home\"], [\"Back\", \"Back to previous view\", \"fa fa-arrow-left\", \"back\"], [\"Forward\", \"Forward to next view\", \"fa fa-arrow-right\", \"forward\"], [\"\", \"\", \"\", \"\"], [\"Pan\", \"Left button pans, Right button zooms\\nx/y fixes axis, CTRL fixes aspect\", \"fa fa-arrows\", \"pan\"], [\"Zoom\", \"Zoom to rectangle\\nx/y fixes axis\", \"fa fa-square-o\", \"zoom\"], [\"\", \"\", \"\", \"\"], [\"Download\", \"Download plot\", \"fa fa-floppy-o\", \"download\"]];\n",
       "\n",
       "mpl.extensions = [\"eps\", \"jpeg\", \"pgf\", \"pdf\", \"png\", \"ps\", \"raw\", \"svg\", \"tif\", \"webp\"];\n",
       "\n",
       "mpl.default_extension = \"png\";/* global mpl */\n",
       "\n",
       "var comm_websocket_adapter = function (comm) {\n",
       "    // Create a \"websocket\"-like object which calls the given IPython comm\n",
       "    // object with the appropriate methods. Currently this is a non binary\n",
       "    // socket, so there is still some room for performance tuning.\n",
       "    var ws = {};\n",
       "\n",
       "    ws.binaryType = comm.kernel.ws.binaryType;\n",
       "    ws.readyState = comm.kernel.ws.readyState;\n",
       "    function updateReadyState(_event) {\n",
       "        if (comm.kernel.ws) {\n",
       "            ws.readyState = comm.kernel.ws.readyState;\n",
       "        } else {\n",
       "            ws.readyState = 3; // Closed state.\n",
       "        }\n",
       "    }\n",
       "    comm.kernel.ws.addEventListener('open', updateReadyState);\n",
       "    comm.kernel.ws.addEventListener('close', updateReadyState);\n",
       "    comm.kernel.ws.addEventListener('error', updateReadyState);\n",
       "\n",
       "    ws.close = function () {\n",
       "        comm.close();\n",
       "    };\n",
       "    ws.send = function (m) {\n",
       "        //console.log('sending', m);\n",
       "        comm.send(m);\n",
       "    };\n",
       "    // Register the callback with on_msg.\n",
       "    comm.on_msg(function (msg) {\n",
       "        //console.log('receiving', msg['content']['data'], msg);\n",
       "        var data = msg['content']['data'];\n",
       "        if (data['blob'] !== undefined) {\n",
       "            data = {\n",
       "                data: new Blob(msg['buffers'], { type: data['blob'] }),\n",
       "            };\n",
       "        }\n",
       "        // Pass the mpl event to the overridden (by mpl) onmessage function.\n",
       "        ws.onmessage(data);\n",
       "    });\n",
       "    return ws;\n",
       "};\n",
       "\n",
       "mpl.mpl_figure_comm = function (comm, msg) {\n",
       "    // This is the function which gets called when the mpl process\n",
       "    // starts-up an IPython Comm through the \"matplotlib\" channel.\n",
       "\n",
       "    var id = msg.content.data.id;\n",
       "    // Get hold of the div created by the display call when the Comm\n",
       "    // socket was opened in Python.\n",
       "    var element = document.getElementById(id);\n",
       "    var ws_proxy = comm_websocket_adapter(comm);\n",
       "\n",
       "    function ondownload(figure, _format) {\n",
       "        window.open(figure.canvas.toDataURL());\n",
       "    }\n",
       "\n",
       "    var fig = new mpl.figure(id, ws_proxy, ondownload, element);\n",
       "\n",
       "    // Call onopen now - mpl needs it, as it is assuming we've passed it a real\n",
       "    // web socket which is closed, not our websocket->open comm proxy.\n",
       "    ws_proxy.onopen();\n",
       "\n",
       "    fig.parent_element = element;\n",
       "    fig.cell_info = mpl.find_output_cell(\"<div id='\" + id + \"'></div>\");\n",
       "    if (!fig.cell_info) {\n",
       "        console.error('Failed to find cell for figure', id, fig);\n",
       "        return;\n",
       "    }\n",
       "    fig.cell_info[0].output_area.element.on(\n",
       "        'cleared',\n",
       "        { fig: fig },\n",
       "        fig._remove_fig_handler\n",
       "    );\n",
       "};\n",
       "\n",
       "mpl.figure.prototype.handle_close = function (fig, msg) {\n",
       "    var width = fig.canvas.width / fig.ratio;\n",
       "    fig.cell_info[0].output_area.element.off(\n",
       "        'cleared',\n",
       "        fig._remove_fig_handler\n",
       "    );\n",
       "    fig.resizeObserverInstance.unobserve(fig.canvas_div);\n",
       "\n",
       "    // Update the output cell to use the data from the current canvas.\n",
       "    fig.push_to_output();\n",
       "    var dataURL = fig.canvas.toDataURL();\n",
       "    // Re-enable the keyboard manager in IPython - without this line, in FF,\n",
       "    // the notebook keyboard shortcuts fail.\n",
       "    IPython.keyboard_manager.enable();\n",
       "    fig.parent_element.innerHTML =\n",
       "        '<img src=\"' + dataURL + '\" width=\"' + width + '\">';\n",
       "    fig.close_ws(fig, msg);\n",
       "};\n",
       "\n",
       "mpl.figure.prototype.close_ws = function (fig, msg) {\n",
       "    fig.send_message('closing', msg);\n",
       "    // fig.ws.close()\n",
       "};\n",
       "\n",
       "mpl.figure.prototype.push_to_output = function (_remove_interactive) {\n",
       "    // Turn the data on the canvas into data in the output cell.\n",
       "    var width = this.canvas.width / this.ratio;\n",
       "    var dataURL = this.canvas.toDataURL();\n",
       "    this.cell_info[1]['text/html'] =\n",
       "        '<img src=\"' + dataURL + '\" width=\"' + width + '\">';\n",
       "};\n",
       "\n",
       "mpl.figure.prototype.updated_canvas_event = function () {\n",
       "    // Tell IPython that the notebook contents must change.\n",
       "    IPython.notebook.set_dirty(true);\n",
       "    this.send_message('ack', {});\n",
       "    var fig = this;\n",
       "    // Wait a second, then push the new image to the DOM so\n",
       "    // that it is saved nicely (might be nice to debounce this).\n",
       "    setTimeout(function () {\n",
       "        fig.push_to_output();\n",
       "    }, 1000);\n",
       "};\n",
       "\n",
       "mpl.figure.prototype._init_toolbar = function () {\n",
       "    var fig = this;\n",
       "\n",
       "    var toolbar = document.createElement('div');\n",
       "    toolbar.classList = 'btn-toolbar';\n",
       "    this.root.appendChild(toolbar);\n",
       "\n",
       "    function on_click_closure(name) {\n",
       "        return function (_event) {\n",
       "            return fig.toolbar_button_onclick(name);\n",
       "        };\n",
       "    }\n",
       "\n",
       "    function on_mouseover_closure(tooltip) {\n",
       "        return function (event) {\n",
       "            if (!event.currentTarget.disabled) {\n",
       "                return fig.toolbar_button_onmouseover(tooltip);\n",
       "            }\n",
       "        };\n",
       "    }\n",
       "\n",
       "    fig.buttons = {};\n",
       "    var buttonGroup = document.createElement('div');\n",
       "    buttonGroup.classList = 'btn-group';\n",
       "    var button;\n",
       "    for (var toolbar_ind in mpl.toolbar_items) {\n",
       "        var name = mpl.toolbar_items[toolbar_ind][0];\n",
       "        var tooltip = mpl.toolbar_items[toolbar_ind][1];\n",
       "        var image = mpl.toolbar_items[toolbar_ind][2];\n",
       "        var method_name = mpl.toolbar_items[toolbar_ind][3];\n",
       "\n",
       "        if (!name) {\n",
       "            /* Instead of a spacer, we start a new button group. */\n",
       "            if (buttonGroup.hasChildNodes()) {\n",
       "                toolbar.appendChild(buttonGroup);\n",
       "            }\n",
       "            buttonGroup = document.createElement('div');\n",
       "            buttonGroup.classList = 'btn-group';\n",
       "            continue;\n",
       "        }\n",
       "\n",
       "        button = fig.buttons[name] = document.createElement('button');\n",
       "        button.classList = 'btn btn-default';\n",
       "        button.href = '#';\n",
       "        button.title = name;\n",
       "        button.innerHTML = '<i class=\"fa ' + image + ' fa-lg\"></i>';\n",
       "        button.addEventListener('click', on_click_closure(method_name));\n",
       "        button.addEventListener('mouseover', on_mouseover_closure(tooltip));\n",
       "        buttonGroup.appendChild(button);\n",
       "    }\n",
       "\n",
       "    if (buttonGroup.hasChildNodes()) {\n",
       "        toolbar.appendChild(buttonGroup);\n",
       "    }\n",
       "\n",
       "    // Add the status bar.\n",
       "    var status_bar = document.createElement('span');\n",
       "    status_bar.classList = 'mpl-message pull-right';\n",
       "    toolbar.appendChild(status_bar);\n",
       "    this.message = status_bar;\n",
       "\n",
       "    // Add the close button to the window.\n",
       "    var buttongrp = document.createElement('div');\n",
       "    buttongrp.classList = 'btn-group inline pull-right';\n",
       "    button = document.createElement('button');\n",
       "    button.classList = 'btn btn-mini btn-primary';\n",
       "    button.href = '#';\n",
       "    button.title = 'Stop Interaction';\n",
       "    button.innerHTML = '<i class=\"fa fa-power-off icon-remove icon-large\"></i>';\n",
       "    button.addEventListener('click', function (_evt) {\n",
       "        fig.handle_close(fig, {});\n",
       "    });\n",
       "    button.addEventListener(\n",
       "        'mouseover',\n",
       "        on_mouseover_closure('Stop Interaction')\n",
       "    );\n",
       "    buttongrp.appendChild(button);\n",
       "    var titlebar = this.root.querySelector('.ui-dialog-titlebar');\n",
       "    titlebar.insertBefore(buttongrp, titlebar.firstChild);\n",
       "};\n",
       "\n",
       "mpl.figure.prototype._remove_fig_handler = function (event) {\n",
       "    var fig = event.data.fig;\n",
       "    if (event.target !== this) {\n",
       "        // Ignore bubbled events from children.\n",
       "        return;\n",
       "    }\n",
       "    fig.close_ws(fig, {});\n",
       "};\n",
       "\n",
       "mpl.figure.prototype._root_extra_style = function (el) {\n",
       "    el.style.boxSizing = 'content-box'; // override notebook setting of border-box.\n",
       "};\n",
       "\n",
       "mpl.figure.prototype._canvas_extra_style = function (el) {\n",
       "    // this is important to make the div 'focusable\n",
       "    el.setAttribute('tabindex', 0);\n",
       "    // reach out to IPython and tell the keyboard manager to turn it's self\n",
       "    // off when our div gets focus\n",
       "\n",
       "    // location in version 3\n",
       "    if (IPython.notebook.keyboard_manager) {\n",
       "        IPython.notebook.keyboard_manager.register_events(el);\n",
       "    } else {\n",
       "        // location in version 2\n",
       "        IPython.keyboard_manager.register_events(el);\n",
       "    }\n",
       "};\n",
       "\n",
       "mpl.figure.prototype._key_event_extra = function (event, _name) {\n",
       "    // Check for shift+enter\n",
       "    if (event.shiftKey && event.which === 13) {\n",
       "        this.canvas_div.blur();\n",
       "        // select the cell after this one\n",
       "        var index = IPython.notebook.find_cell_index(this.cell_info[0]);\n",
       "        IPython.notebook.select(index + 1);\n",
       "    }\n",
       "};\n",
       "\n",
       "mpl.figure.prototype.handle_save = function (fig, _msg) {\n",
       "    fig.ondownload(fig, null);\n",
       "};\n",
       "\n",
       "mpl.find_output_cell = function (html_output) {\n",
       "    // Return the cell and output element which can be found *uniquely* in the notebook.\n",
       "    // Note - this is a bit hacky, but it is done because the \"notebook_saving.Notebook\"\n",
       "    // IPython event is triggered only after the cells have been serialised, which for\n",
       "    // our purposes (turning an active figure into a static one), is too late.\n",
       "    var cells = IPython.notebook.get_cells();\n",
       "    var ncells = cells.length;\n",
       "    for (var i = 0; i < ncells; i++) {\n",
       "        var cell = cells[i];\n",
       "        if (cell.cell_type === 'code') {\n",
       "            for (var j = 0; j < cell.output_area.outputs.length; j++) {\n",
       "                var data = cell.output_area.outputs[j];\n",
       "                if (data.data) {\n",
       "                    // IPython >= 3 moved mimebundle to data attribute of output\n",
       "                    data = data.data;\n",
       "                }\n",
       "                if (data['text/html'] === html_output) {\n",
       "                    return [cell, data, j];\n",
       "                }\n",
       "            }\n",
       "        }\n",
       "    }\n",
       "};\n",
       "\n",
       "// Register the function which deals with the matplotlib target/channel.\n",
       "// The kernel may be null if the page has been refreshed.\n",
       "if (IPython.notebook.kernel !== null) {\n",
       "    IPython.notebook.kernel.comm_manager.register_target(\n",
       "        'matplotlib',\n",
       "        mpl.mpl_figure_comm\n",
       "    );\n",
       "}\n"
      ],
      "text/plain": [
       "<IPython.core.display.Javascript object>"
      ]
     },
     "metadata": {},
     "output_type": "display_data"
    },
    {
     "data": {
      "text/html": [
       "<img src=\"data:image/png;base64,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\" width=\"1200\">"
      ],
      "text/plain": [
       "<IPython.core.display.HTML object>"
      ]
     },
     "metadata": {},
     "output_type": "display_data"
    },
    {
     "name": "stdout",
     "output_type": "stream",
     "text": [
      "[46.09610615] [1.80913084]\n"
     ]
    }
   ],
   "source": [
    "## Implementation of Gradient Descent for Logistic Regression\n",
    "\n",
    "import time\n",
    "%matplotlib notebook\n",
    "\n",
    "\n",
    "def get_diff(X, theta, y):\n",
    "    return X@theta - y[..., np.newaxis]\n",
    "\n",
    "\n",
    "def get_loss(diff): \n",
    "    return 0.5*np.dot(diff.T, diff)\n",
    "\n",
    "\n",
    "def plot_line(plot3, theta):\n",
    "    x_interp = np.linspace(Xmin, Xmax, 100)\n",
    "    x_interp = x_interp.reshape(-1, 1)\n",
    "    x_interp = np.c_[x_interp, np.ones_like(x_interp)]\n",
    "    y_interp = np.dot(x_interp, theta)\n",
    "    if plot3:\n",
    "        plot3.set_xdata(x_interp[:, 0])\n",
    "        plot3.set_ydata(y_interp)\n",
    "    else:\n",
    "        return x_interp, y_interp\n",
    "\n",
    "Xmin, Xmax = X.min(), X.max()\n",
    "plt.ion()\n",
    "figure, (axes_1, axes_2) = plt.subplots(2, 2, figsize=(12, 12))\n",
    "plt.rcParams['axes.grid'] = False\n",
    "ax0, ax1 = axes_1\n",
    "ax2, ax3 = axes_2\n",
    "ax0.contourf(xxt, yyt, losses, levels=50, cmap='jet')\n",
    "ax0.scatter(coef_gt, 0, color='red', marker='o', s=50)\n",
    "ax0.set_xlabel('$theta_1$',fontsize=18)\n",
    "ax0.set_ylabel('$theta_2$',fontsize=18)\n",
    "ax1.set_ylabel('$loss$',fontsize=18)\n",
    "ax1.set_xlabel('$iter$',fontsize=18)\n",
    "ax1.set(xlim=(0, 100), ylim=(0, 1.28e6))\n",
    "ax2.scatter(X[..., 0], y, c='red', marker='o')\n",
    "ax2.set_xlabel('$x$',fontsize=18)\n",
    "ax2.set_ylabel('$y$',fontsize=18)\n",
    "ax3.set_ylabel('$Grad. Norm.$',fontsize=18)\n",
    "ax3.set_xlabel('$iter$',fontsize=18)\n",
    "ax3.set(xlim=(0, 100), ylim=(0, 20000))\n",
    "\n",
    "theta_curr = np.array([[-100, -100]]).T\n",
    "losses_track = [get_loss(get_diff(X, theta_curr, y))]\n",
    "grad_norm_track = [1000]\n",
    "\n",
    "theta_track = np.array(theta_curr)\n",
    "lr = 1e-3\n",
    "loss_tol = 10\n",
    "\n",
    "plot1, = ax0.plot(*theta_curr, color='violet',\n",
    "                  marker='.', markersize=5, linestyle='-')\n",
    "plot2, = ax1.plot(*losses_track, color='blue',\n",
    "                  marker='.', markersize=10, linestyle='--')\n",
    "xi, yi = plot_line(None, theta_curr)\n",
    "plot3a,plot3b = ax2.plot(xi, yi, color='blue', marker='.',\n",
    "                  markersize=3, linestyle='--')\n",
    "plot4, = ax3.plot(1000, color='blue',\n",
    "                  marker='.', markersize=10, linestyle='--')\n",
    "while True:\n",
    "    diff = get_diff(X, theta_curr, y)\n",
    "    grad = (diff * X).sum(axis=0, keepdims=True).T\n",
    "    theta_curr = theta_curr - lr*grad\n",
    "    theta_track = np.append(theta_track, theta_curr, axis=1)\n",
    "    diff = get_diff(X, theta_curr, y)\n",
    "    losses_track.append(get_loss(diff))\n",
    "    grad_norm_track.append(np.linalg.norm(grad,2))\n",
    "    if abs(losses_track[-2]-losses_track[-1]) < loss_tol:\n",
    "        break\n",
    "    plot1.set_xdata(theta_track[0, :])\n",
    "    plot1.set_ydata(theta_track[1, :])\n",
    "    plot2.set_xdata(range(len(losses_track)))\n",
    "    plot2.set_ydata(losses_track)\n",
    "    plot4.set_xdata(range(len(grad_norm_track[1:])))\n",
    "    plot4.set_ydata(grad_norm_track[1:])\n",
    "    plot_line(plot3a, theta_curr)\n",
    "    plot_line(plot3b, theta_curr)\n",
    "    figure.canvas.draw()\n",
    "    figure.canvas.flush_events()\n",
    "    time.sleep(0.1)\n",
    "print(*theta_curr)\n",
    "plt.show()"
   ]
  },
  {
   "cell_type": "markdown",
   "metadata": {
    "slideshow": {
     "slide_type": "slide"
    }
   },
   "source": [
    "# Let's go back to word2vec"
   ]
  },
  {
   "cell_type": "markdown",
   "metadata": {
    "slideshow": {
     "slide_type": "subslide"
    }
   },
   "source": [
    "# Introduction to word2vec\n",
    "\n",
    "- We have a very **large corpus** on which we apply **self-supervision**\n",
    "   - The corpus defines the vocabulary $V$.\n",
    "- Every word in $V$ is represented as a vector in a $D$ dimensional    vector space \n",
    "   - e.g. D = 100.\n",
    "- The parametric model $\\bmf{\\theta}$ that we learn **depends on all vectors for all the words**"
   ]
  },
  {
   "cell_type": "markdown",
   "metadata": {
    "cell_style": "split",
    "slideshow": {
     "slide_type": "subslide"
    }
   },
   "source": [
    "# word2vec is a generic framework \n",
    "\n",
    "`word2vec` presents two algorithms:\n",
    " 1. **Skip-Gram** _(we see it today!)_\n",
    " 2. Continuous Bag-of-Word (CBOW)\n",
    " "
   ]
  },
  {
   "cell_type": "markdown",
   "metadata": {
    "cell_style": "split",
    "slideshow": {
     "slide_type": "fragment"
    }
   },
   "source": [
    "<br>\n",
    "\n",
    "Also it offers different training methods:\n",
    " - **with softmax**  _(we see it today!)_\n",
    " - negative sampling from [Mikolov et al. 2013]\n",
    " - hierarchical softmax"
   ]
  },
  {
   "cell_type": "markdown",
   "metadata": {
    "slideshow": {
     "slide_type": "subslide"
    }
   },
   "source": [
    "# word2vec: Skip-Gram with softmax\n",
    "\n",
    "Parameters to learn: $$\\bmf{\\theta} = [\\bmf{\\theta}_W;\\bmf{\\theta}_C]$$\n",
    "\n",
    "<div align='center'><img src=\"figs/word2vec_params.png\" width='65%' ></div>"
   ]
  },
  {
   "cell_type": "markdown",
   "metadata": {
    "slideshow": {
     "slide_type": "subslide"
    }
   },
   "source": [
    "# word2vec: Skip-Gram with softmax\n",
    "\n",
    "Parameters to learn:   $\\bmf{\\theta} = [\\bmf{\\theta}_W;\\bmf{\\theta}_C]$\n",
    "\n",
    "- $\\bmf{\\theta}_W$ is a matrix $|V|\\times D$ where we store a vector in D dimensions for each word of the vocabulary $V$. We store vectors when the word $w$ works as a **$\\underline{center}$**.\n",
    "- $\\bmf{\\theta}_C$ is a matrix $|V|\\times D$ where we store a vector in D dimensions for each word of the vocabulary $V$. We store vectors when the word $w$ works as the **$\\underline{context}$**.\n",
    "\n",
    "Thus the number of parameters to learn $\\bmf{\\theta}$ is $\\quad 2\\cdot|V|\\cdot D$\n"
   ]
  },
  {
   "cell_type": "markdown",
   "metadata": {
    "slideshow": {
     "slide_type": "subslide"
    }
   },
   "source": [
    "# Sample question you may find in the exam\n",
    "\n",
    "Given a **word2vec** model with **skip-gram** that learns word embedding $\\bmf{\\theta}_i\\Rd{10}$ with a vocabulary of $100$ words, how many parameters word2vec needs to be learned? What is the dimension of the matrix learned?"
   ]
  },
  {
   "cell_type": "markdown",
   "metadata": {
    "slideshow": {
     "slide_type": "fragment"
    }
   },
   "source": [
    "## Answer"
   ]
  },
  {
   "cell_type": "markdown",
   "metadata": {
    "slideshow": {
     "slide_type": "fragment"
    }
   },
   "source": [
    "word2vec learns two vectors for each word in the vocabulary. One vector in case the word is considered as target; one vector in case the word functions as context. Given that the vectors are in 10-D space, the number of params is $2\\cdot10\\cdot100 = 2000$.\n",
    "The matrix $\\bmf{\\theta}$ shape is $2\\cdot100 \\times 10$, where each row indicates a word in the vocabulary."
   ]
  },
  {
   "cell_type": "markdown",
   "metadata": {
    "slideshow": {
     "slide_type": "subslide"
    }
   },
   "source": [
    "# word2vec: Skip-Gram Self-Supervision\n",
    "\n",
    "We start from a large corpus of text:\n",
    "\n",
    "`... lemon, a tablespoon of apricot jam, a pinch ...`\n",
    "\n",
    "and a window that defines the context (let's assume window size is $m=2$ and centered at the index $t$)."
   ]
  },
  {
   "cell_type": "markdown",
   "metadata": {
    "slideshow": {
     "slide_type": "subslide"
    }
   },
   "source": [
    "# word2vec: Skip-Gram Self-Supervision\n",
    "\n",
    "Given a window size of $m=2$ words as **context**, we select:\n",
    "- the center word $w_t$, apricot in this case.\n",
    "- 2 words as context on the left of $w_t$ $\\longrightarrow$ ($w_{t-2}$, $w_{t-1}$)\n",
    "- 2 word as context on the right of $w_t$ $\\longrightarrow$ ($w_{t+1}$, $w_{t+2}$)\n",
    "\n",
    "|   | ~~lemon~~, | ~~a~~ | [tablespoon | of | apricot | jam | a] | ~~pinch~~ |\n",
    "|:-:|:------:|:-:|:-----------:|:--:|:-------:|:---:|:--:|:-----:|\n",
    "|   |        |   |      w_{t-2}     | w_{t-1} |    **$w_t$**    |  w_{t+1} | w_{t+2} |       |\n",
    "\n"
   ]
  },
  {
   "cell_type": "markdown",
   "metadata": {
    "slideshow": {
     "slide_type": "subslide"
    }
   },
   "source": [
    "# word2vec: Skip-Gram Self-Supervision\n",
    "\n",
    "|   | ~~lemon~~, | ~~a~~ | [tablespoon | of | apricot | jam | a] | ~~pinch~~ |\n",
    "|:-:|:------:|:-:|:-----------:|:--:|:-------:|:---:|:--:|:-----:|\n",
    "|   |        |   |      w_{t-2}     | w_{t-1} |    **$w_t$**    |  w_{t+1} | w_{t+2} |       |\n",
    "\n",
    "Let's assume the vocabulary is made of $|V|$ words:\n",
    "\n",
    "| word1   \t| word2 \t| word3             \t| ...\t | wordN\t|\n",
    "|----------\t|--------\t|--------------------\t|--------\t|--------\t|\n",
    "| lemon | tablespoon | gelato  | ... | jam |\n",
    "\n",
    "Note: $|V|$ is possibly in the order of millions."
   ]
  },
  {
   "cell_type": "markdown",
   "metadata": {
    "slideshow": {
     "slide_type": "subslide"
    }
   },
   "source": [
    "# word2vec: Skip-Gram Self-Supervision\n",
    "<br/>\n",
    "$$ p(w_{t-2},w_{t-1},w_{t+1},w_{t+2}|w_t=\\text{apricot};\\bmf{\\theta})$$\n",
    "<br/><br/>\n",
    "\n",
    "|   | ~~lemon~~, | ~~a~~ | [tablespoon | of | apricot | jam | a] | ~~pinch~~ |\n",
    "|:-:|:------:|:-:|:-----------:|:--:|:-------:|:---:|:--:|:-----:|\n",
    "|   |        |   |      w_{t-2}     | w_{t-1} |    **$w_t$**    |  w_{t+1} | w_{t+2} |       |\n"
   ]
  },
  {
   "cell_type": "markdown",
   "metadata": {
    "slideshow": {
     "slide_type": "subslide"
    }
   },
   "source": [
    "# word2vec: Skip-Gram Self-Supervision\n",
    "\n",
    "⚠️ With **strong naive conditional independence assumption** \n",
    "<br/>\n",
    "\n",
    "$$ p(w_{t-2},w_{t-1},w_{t+1},w_{t+2}|w_t;\\bmf{\\theta}) \\approx \\prod_{-m\\leq j\\leq m} p(c_{t+j}|w_t;\\bmf{\\theta})$$\n",
    "\n",
    "<br/>\n",
    "\n",
    "|   | ~~lemon~~, | ~~a~~ | [tablespoon | of | apricot | jam | a] | ~~pinch~~ |\n",
    "|:-:|:------:|:-:|:-----------:|:--:|:-------:|:---:|:--:|:-----:|\n",
    "|   |        |   |      w_{t-2}     | w_{t-1} |    **$w_t$**    |  w_{t+1} | w_{t+2} |       |\n"
   ]
  },
  {
   "cell_type": "markdown",
   "metadata": {
    "slideshow": {
     "slide_type": "subslide"
    }
   },
   "source": [
    "# word2vec: Skip-Gram Self-Supervision\n",
    "\n",
    "Given the example below, we have to compute:\n",
    "<br/>\n",
    "\n",
    "$$p(w_{t-2}|w_t)\\cdot p(w_{t-1}|w_t)\\cdot p(w_{t+1}|w_t)\\cdot p(w_{t+2}|w_t)$$\n",
    "<br/>\n",
    "\n",
    "|   | ~~lemon~~, | ~~a~~ | [tablespoon | of | apricot | jam | a] | ~~pinch~~ |\n",
    "|:-:|:------:|:-:|:-----------:|:--:|:-------:|:---:|:--:|:-----:|\n",
    "|   |        |   |      w_{t-2}     | w_{t-1} |    **$w_t$**    |  w_{t+1} | w_{t+2} |       |\n"
   ]
  },
  {
   "cell_type": "markdown",
   "metadata": {
    "slideshow": {
     "slide_type": "subslide"
    }
   },
   "source": [
    "# word2vec: Skip-Gram Self-Supervision\n",
    "\n",
    "Given the example below, we have to compute:\n",
    "<br/>\n",
    "\n",
    "$$p(w_{t-2}|w_t)\\cdot p(w_{t-1}|w_t)\\cdot p(w_{t+1}|w_t)\\cdot p(w_{t+2}|w_t)$$\n",
    "<br/><br/>\n",
    "<div align='center'><img src=\"figs/word2vec_skipgram.png\" width='65%' ></div>"
   ]
  },
  {
   "cell_type": "markdown",
   "metadata": {
    "slideshow": {
     "slide_type": "subslide"
    }
   },
   "source": [
    "# How to compute $p(w_{t-1}|w_{t})$?\n",
    "$$ p(w_{t-1}|w=\\text{apricot})$$\n",
    "\n",
    "We have to predict $w_{t-1}$ given the center word $w_t$. Note $w_{t-1}$ can takes values based on the words in $V$. \n",
    "\n",
    "Think $w_{t-1}$ as a **categorical variable** where its possible state spans $V$.\n",
    "\n",
    "| word1   \t| word2 \t| word3             \t| ...\t | wordN\t|\n",
    "|----------\t|--------\t|--------------------\t|--------\t|--------\t|\n",
    "| lemone | tablespoon | gelato  | ... | jam |"
   ]
  },
  {
   "cell_type": "markdown",
   "metadata": {
    "slideshow": {
     "slide_type": "subslide"
    }
   },
   "source": [
    "# How to compute $p(w_{t-1}|w_{t})$?\n",
    "1. $i$ is the index of the center word $w$ in $V$ and also $\\bmf{\\theta}_{W}$. **Compare the embedding of $w$ as center word $\\bmf{\\theta}_{W}[i]$ vs embeddings of all context words $\\bmf{\\theta}_{C}$**  with matrix to vector product.\n",
    "$$\\underbrace{\\mbf{z}}_{|V|\\times 1}=\\overbrace{\\underbrace{\\bmf{\\theta}_C}_{|V|\\times D}}^{\\text{as context}}\\cdot\\overbrace{\\underbrace{\\bmf{\\theta}_{W}[i]^T}_{D\\times 1}}^{\\text{as center}} $$\n",
    "\n",
    "2. $\\mbf{z}$ is logits and encodes the similarity via dot product of the center word embedding $\\bmf{\\theta}_{W}[i]$ **against all vocabulary words** taken as context $\\bmf{\\theta}_C$\n",
    "\n",
    "3. We pass $\\mbf{z}$ through softmax operator to get a distribution over $|V|$ as: $$\\mbf{p}=\\operatorname{softmax}(\\mbf{z}) $$\n",
    "\n",
    "You can think $\\mbf{p}$ as of this form:\n",
    "\n",
    "|    \t| lemon   \t| tablespoon \t| gelato             \t| ...\t | jam\t|\n",
    "|----------|----------\t|--------\t|--------------------\t|--------\t|--------\t|\n",
    "|**p** | 0.001 | 0.1 | 0.03  | ... | 0.15 |"
   ]
  },
  {
   "cell_type": "markdown",
   "metadata": {
    "slideshow": {
     "slide_type": "subslide"
    }
   },
   "source": [
    "# How to compute $p(w_{t-1}|w_{t})$?\n",
    " \n",
    "$$\\mbf{p}=\\operatorname{softmax}\\big(\\bmf{\\theta}_C\\cdot\\bmf{\\theta}_{W}[i]^T\\big) $$\n",
    "\n",
    "You can think $\\mbf{p}$ as of this form:\n",
    "\n",
    "|    \t| lemon   \t| tablespoon \t| gelato             \t| ...\t | jam\t|\n",
    "|----------|----------\t|--------\t|--------------------\t|--------\t|--------\t|\n",
    "|**p** | 0.001 | 0.1 | 0.03  | ... | 0.15 |\n",
    "\n",
    "🤔 Note: until now we did not used the self-supervised label! We did not use the **ground-truth index for $w_{t-1}$**. (i.e. the fact that $w_{t-1}$ is actually `tablespoon`!"
   ]
  },
  {
   "cell_type": "markdown",
   "metadata": {
    "slideshow": {
     "slide_type": "fragment"
    }
   },
   "source": [
    "|   | ~~lemon~~, | ~~a~~ | [tablespoon | of | apricot | jam | a] | ~~pinch~~ |\n",
    "|:-:|:------:|:-:|:-----------:|:--:|:-------:|:---:|:--:|:-----:|\n",
    "|   |        |   |      w_{t-2}     | w_{t-1} |    **$w_t$**    |  w_{t+1} | w_{t+2} |       |"
   ]
  },
  {
   "cell_type": "markdown",
   "metadata": {
    "slideshow": {
     "slide_type": "subslide"
    }
   },
   "source": [
    "# Loss function: compare two discrete distributions\n",
    " \n",
    "$$\\mbf{p}=\\operatorname{softmax}\\big(\\bmf{\\theta}_C\\cdot\\bmf{\\theta}_{W}[i]^T\\big) $$\n",
    "\n",
    "You can think $\\mbf{p}$ as of this form:\n",
    "\n",
    "|    \t| lemon   \t| tablespoon \t| gelato             \t| ...\t | jam\t|\n",
    "|----------|----------\t|--------\t|--------------------\t|--------\t|--------\t|\n",
    "|**p (word2vec prediction)**        | 0.001 | 0.1 | 0.03  | ... | 0.15 |\n",
    "\n",
    "\n",
    "Let's consider the label as a one-hot encoding vector where 1 is over the ground-truth word given by the text.\n",
    "\n",
    "|    \t| lemon   \t| tablespoon \t| gelato             \t| ...\t | jam\t|\n",
    "|----------|----------\t|--------\t|--------------------\t|--------\t|--------\t|\n",
    "|**y label (ground-truth $w_{t-1}$)** | 0 | 1 | 0  | ... | 0 |\n",
    "\n",
    "### We want to adjust the weights $\\bmf{\\theta}$ so that $\\mbf{p}$ matches the label!"
   ]
  },
  {
   "cell_type": "markdown",
   "metadata": {
    "slideshow": {
     "slide_type": "subslide"
    }
   },
   "source": [
    "# Loss function: compare two discrete distributions\n",
    "## In this example $V$ has two words\n",
    "\n",
    "Who can tell me how we can compare two _[discrete]_ probability distributions? We use **cross-entropy.**\n",
    "<br><br>\n",
    "<div align='center'><img src=\"figs/distributions.png\" width='65%' ></div>"
   ]
  },
  {
   "cell_type": "markdown",
   "metadata": {
    "slideshow": {
     "slide_type": "subslide"
    }
   },
   "source": [
    "# Loss function: Cross-entropy (CE)\n",
    "\n",
    "- $\\mbf{y}=[0,0,0,1,0]$ is the **one-hot encoding of the labels** $\\rightarrow$ This is self-supervised by the text itself!\n",
    "- $\\mbf{p}(w_{t-1}|w_{t})=[0.1, 0.1, 0.1, 0.35, 0.35]$ is the output from `word2vec`. We want $\\mbf{p}$ to match $\\mbf{y}$.\n",
    "<br><br>\n",
    "$$ \n",
    "\\mathcal{L}(w_{t-1},w_{t};\\mbf{\\theta})=-\\mbf{y}^{\\top} \\log\\big(\\mbf{p}(w_{t-1}|w_{t}) \\big)\n",
    "$$\n",
    "<br><br>\n",
    "$$-0\\cdot\\ln(0.1)-0\\cdot\\ln(0.1)-0\\cdot\\ln(0.1)\\underbrace{-1\\cdot\\ln(0.35)}_{\\text{only this matter}}-0\\cdot\\ln(0.35)=-1\\cdot\\ln(0.35)\\approx1.04$$"
   ]
  },
  {
   "cell_type": "markdown",
   "metadata": {
    "slideshow": {
     "slide_type": "subslide"
    }
   },
   "source": [
    "# One-hot encoding is a selector!\n",
    "\n",
    "\n",
    "- $\\mbf{y}=[0,0,0,1,0]$ $\\rightarrow$ works as a selector of probability of the actual ground-truth word that we removed!\n",
    "- Of the probabilites returned by `word2vec` select that for which the index $gt$ corresponds to the `1` in the label $\\mbf{y}$\n",
    "- in our case, $gt$ is the index of `tablespoon` in $|V|$.\n",
    "\n",
    "$$ \\mathcal{L}(w_{t-1},w_{t};\\mbf{\\theta}) = -\\log \\mbf{p}\\big(w_{t-1}|w_{t}\\big){[gt]}$$"
   ]
  },
  {
   "cell_type": "markdown",
   "metadata": {
    "slideshow": {
     "slide_type": "subslide"
    }
   },
   "source": [
    "# Loss function simplified\n",
    "\n",
    "We can select immediately $[gt]$ in the numerator.\n",
    "\n",
    "$$\n",
    "\\mathcal{L}(w_{t-1},w_{t};\\mbf{\\theta}) = -\\log \\left(\\frac{\\exp \\big( \\bmf{\\theta}_{C}[gt]\\cdot\\bmf{\\theta}_{W}[i]^T \\big)}{\\sum_{v=1}^{V} \\exp \\big(\\bmf{\\theta}_{C}[v]\\cdot\\bmf{\\theta}_{W}[i]^T\\big)}\\right)\n",
    "$$\n",
    "\n",
    "Sometimes is shown as:\n",
    "\n",
    "$$\n",
    "\\mathcal{L}(w_{t-1},w_{t};\\mbf{\\theta}) = \\underbrace{-\\bmf{\\theta}_{C}[gt]\\cdot\\bmf{\\theta}_{W}[i]^T}_{\\text{similarity center vs context}} + \\underbrace{\\log\\Big(\\sum_{v=1}^{V} \\exp \\big(\\bmf{\\theta}_{C}[v]\\cdot\\bmf{\\theta}_{W}[i]^T\\big)\\Big)}_{\\text{make sure it is a probability}}\n",
    "$$"
   ]
  },
  {
   "cell_type": "markdown",
   "metadata": {
    "slideshow": {
     "slide_type": "subslide"
    }
   },
   "source": [
    "# Exercise A: compute the loss for a center word in word2vec\n",
    " \n",
    "$$\\mbf{p}=\\operatorname{softmax}\\big(\\bmf{\\theta}_C\\cdot\\bmf{\\theta}_{W}[i]^T\\big) $$\n",
    "\n",
    "You can think $\\mbf{p}$ as of this form:\n",
    "\n",
    "|    \t| lemon   \t| tablespoon \t| gelato             \t| ...\t | jam\t|\n",
    "|----------|----------\t|--------\t|--------------------\t|--------\t|--------\t|\n",
    "|**p (word2vec prediction)**        | 0.001 | 0.1 | 0.03  | ... | 0.15 |\n",
    "\n",
    "\n",
    "Let's consider the label as a one-hot encoding vector where 1 is over the ground-truth word given by the text.\n",
    "\n",
    "|    \t| lemon   \t| tablespoon \t| gelato             \t| ...\t | jam\t|\n",
    "|----------|----------\t|--------\t|--------------------\t|--------\t|--------\t|\n",
    "|**y label (ground-truth)** | 0 | 1 | 0  | ... | 0 |\n",
    "\n",
    "$$ \\mathcal{L}(w_{t-1},w_{t};\\mbf{\\theta}) = -\\log \\mbf{p}\\big(w_{t-1}|w_{t}\\big){[gt]} = -\\ln(0.1)\\approx 2.30$$"
   ]
  },
  {
   "cell_type": "markdown",
   "metadata": {
    "slideshow": {
     "slide_type": "subslide"
    }
   },
   "source": [
    "# Exercise B: similar but more complex\n",
    "\n",
    "We give 2D matrix of $\\theta_W$ and $\\theta_C$, the position of the center word and context word, compute the loss."
   ]
  },
  {
   "cell_type": "markdown",
   "metadata": {
    "slideshow": {
     "slide_type": "subslide"
    }
   },
   "source": [
    "# Likelihood over a window\n",
    "\n",
    "Likelihood of the data given the parameters. \n",
    "$$L(\\bmf{\\theta})=p\\big(w_{t-2},w_{t-1},w_{t+1},w_{t+2}|w;\\bmf{\\theta}\\big) \\approx \\prod_{-m\\leq j\\leq m, j \\neq 0}p(w_{t+j}|w_{t};\\bmf{\\theta})$$\n",
    "\n",
    "We seek the parameters $\\bmf{\\theta}$ that maximizes the likelihood of the data.\n",
    "\n",
    "$$ \\bmf{\\theta}^{\\star} = \\arg\\max_{\\bmf{\\theta}} L(\\bmf{\\theta})=p\\big(w_{t-2},w_{t-1},w_{t+1},w_{t+2}|w;\\bmf{\\theta}\\big)$$"
   ]
  },
  {
   "cell_type": "markdown",
   "metadata": {
    "slideshow": {
     "slide_type": "subslide"
    }
   },
   "source": [
    "# Loss function over a window\n",
    "\n",
    "$$\\bmf{\\theta}^{\\star} = \\arg\\max_{\\bmf{\\theta}} L(\\bmf{\\theta})= \\prod_{-m\\leq j\\leq m, j \\neq 0}p(w_{t+j}|w_{t};\\bmf{\\theta}) $$\n",
    "\n",
    "Logarithm is a strictly monotonic function so we can flip the sign, apply the $\\log()$ and **minimize the loss instead:**\n",
    "\n",
    "### Minimize the cross-entropy loss $\\leftrightarrow$ maximizing the likelihood of the data given the parameters\n",
    "<br>\n",
    "$$\\bmf{\\theta}^{\\star} = \\arg\\min_{\\bmf{\\theta}} \\mathcal{L}(\\bmf{\\theta})=-\\sum_{-m\\leq j\\leq m, j \\neq 0} \\log\\big(p(w_{t+j}|w_t;\\bmf{\\theta})\\big)$$"
   ]
  },
  {
   "cell_type": "markdown",
   "metadata": {
    "slideshow": {
     "slide_type": "subslide"
    }
   },
   "source": [
    "# Loss over a window, over all possible windows\n",
    "\n",
    "We iterate over all possibile center words with $t \\in \\{1\\ldots T\\}$ maximizing the likelihood:\n",
    "$$\\bmf{\\theta}^{\\star} = \\arg\\max_{\\bmf{\\theta}} L(\\bmf{\\theta})= \\prod_{t=1}^T\\prod_{-m\\leq j\\leq m, j \\neq 0}p(w_{t+j}|w_{t};\\bmf{\\theta}) $$\n",
    "\n",
    "In practice, we minimize the average negative log-likelihood (loss):\n",
    "\n",
    "$$\\bmf{\\theta}^{\\star} = \\arg\\min_{\\bmf{\\theta}} \\mathcal{L}(\\bmf{\\theta})=-\\frac{1}{T}\\sum_{t=1}^T\\sum_{-m\\leq j\\leq m, j \\neq 0} \\log\\big(p(w_{t+j}|w_t;\\bmf{\\theta})\\big)$$\n",
    "\n",
    "\n",
    "### Minimize the cross-entropy loss is $\\leftrightarrow$ maximizing the likelihood of the data given the parameters"
   ]
  },
  {
   "cell_type": "markdown",
   "metadata": {
    "slideshow": {
     "slide_type": "subslide"
    }
   },
   "source": [
    "# We optimize the loss with SGD\n",
    "\n",
    "$$\\bmf{\\theta}^{\\star} = \\arg\\min_{\\bmf{\\theta}} \\mathcal{L}(\\bmf{\\theta})=-\\frac{1}{T}\\sum_{t=1}^T\\sum_{-m\\leq j\\leq m, j \\neq 0} \\log\\big(p(w_{t+j}|w_t;\\bmf{\\theta})\\big)$$\n",
    "\n",
    "To optimize our $\\bmf{\\theta}$ we have to make a small step in the negative direction of the gradient:\n",
    "\n",
    "$$\\bmf{\\theta} \\leftarrow  \\bmf{\\theta} -\\gamma \\bmf{\\nabla}_{\\bmf{\\theta}}\\mathcal{J}(\\mbf{\\theta};w_{t-1},w_t)$$"
   ]
  },
  {
   "cell_type": "markdown",
   "metadata": {
    "slideshow": {
     "slide_type": "-"
    }
   },
   "source": [
    "Pseudo-code of the training:\n",
    "\n",
    "```python\n",
    "gamma = 1e-3\n",
    "while not converged:\n",
    "    loss = word2vec(corpus, theta)\n",
    "    theta_grad = evaluate_gradient(loss, corpus, theta)\n",
    "    theta = theta - gamma*theta_grad\n",
    "```"
   ]
  },
  {
   "cell_type": "markdown",
   "metadata": {
    "slideshow": {
     "slide_type": "slide"
    }
   },
   "source": [
    "## Example: compute the gradient of the loss wrt center word embedding \n",
    "\n",
    "Define $\\mbf{u}_c\\doteq\\bmf{\\theta}_{W}[i]$ and $\\mbf{u}_o \\doteq \\bmf{\\theta}_{C}[gt]$. Compute the gradient of the loss wrt. to the embedding of the center word $\\mbf{u}_c$\n",
    "\n",
    "$$\n",
    "\\nabla_{\\mbf{u}_c} \\mathcal{L}(\\mbf{u}_c,\\mbf{u}_o) =  \\nabla_{\\mbf{u}_c} -\\log \\left(\\frac{\\exp \\big( \\mbf{u}_o\\cdot\\mbf{u}_c^T \\big)}{\\sum_{v=1}^{V} \\exp \\big(\\mbf{u}_v\\cdot\\mbf{u}_c^T\\big)}\\right)\n",
    "$$\n",
    "\n",
    "Continue on the whiteboard"
   ]
  },
  {
   "cell_type": "markdown",
   "metadata": {
    "slideshow": {
     "slide_type": "subslide"
    }
   },
   "source": [
    "# word2vec with Skip-Gram at a glance\n",
    "\n",
    "... and why it can be seen as a tiny neural net.\n",
    "\n",
    "<div align='center'><img src=\"figs/word2vec_layers.png\" width='65%' ></div>"
   ]
  },
  {
   "cell_type": "markdown",
   "metadata": {
    "slideshow": {
     "slide_type": "subslide"
    }
   },
   "source": [
    "# word2vec learned space\n",
    "\n",
    "word2vec minimizes the loss function by putting similar words (words that happen in same context) nearby in space\n",
    "\n",
    "\n",
    "<div align='center'><img src=\"figs/word2vec_space.png\" width='65%' ></div>\n",
    "<small>Taken from Stanford slide<small>"
   ]
  },
  {
   "cell_type": "markdown",
   "metadata": {
    "slideshow": {
     "slide_type": "slide"
    }
   },
   "source": [
    "# Let's play with word2vec"
   ]
  },
  {
   "cell_type": "markdown",
   "metadata": {
    "slideshow": {
     "slide_type": "subslide"
    }
   },
   "source": [
    "# Show available models in Gensim\n",
    "\n",
    "You need Gensim."
   ]
  },
  {
   "cell_type": "code",
   "execution_count": 25,
   "metadata": {
    "slideshow": {
     "slide_type": "-"
    }
   },
   "outputs": [
    {
     "data": {
      "text/plain": [
       "['fasttext-wiki-news-subwords-300',\n",
       " 'conceptnet-numberbatch-17-06-300',\n",
       " 'word2vec-ruscorpora-300',\n",
       " 'word2vec-google-news-300',\n",
       " 'glove-wiki-gigaword-50',\n",
       " 'glove-wiki-gigaword-100',\n",
       " 'glove-wiki-gigaword-200',\n",
       " 'glove-wiki-gigaword-300',\n",
       " 'glove-twitter-25',\n",
       " 'glove-twitter-50',\n",
       " 'glove-twitter-100',\n",
       " 'glove-twitter-200',\n",
       " '__testing_word2vec-matrix-synopsis']"
      ]
     },
     "execution_count": 25,
     "metadata": {},
     "output_type": "execute_result"
    }
   ],
   "source": [
    "import gensim.downloader\n",
    "# Show all available models in gensim-data\n",
    "list(gensim.downloader.info()['models'].keys())"
   ]
  },
  {
   "cell_type": "markdown",
   "metadata": {
    "slideshow": {
     "slide_type": "subslide"
    }
   },
   "source": [
    "# Let's play with word2vec\n",
    "\n",
    "This is a word2vec trained on entire Google News dataset, of about **100 billion words.**\n",
    "\n",
    "`word2vec-google-news-300`\n",
    "\n",
    "Model is 1.6GB so it will take time to download (it will show progress bar)!\n",
    "\n"
   ]
  },
  {
   "cell_type": "code",
   "execution_count": 26,
   "metadata": {
    "slideshow": {
     "slide_type": "-"
    }
   },
   "outputs": [],
   "source": [
    "import gensim.downloader as api\n",
    "wv = api.load('word2vec-google-news-300')\n",
    "# [==================================================] 100.0% 1662.8/1662.8MB downloaded"
   ]
  },
  {
   "cell_type": "markdown",
   "metadata": {
    "slideshow": {
     "slide_type": "subslide"
    }
   },
   "source": [
    "# The vocabulary"
   ]
  },
  {
   "cell_type": "code",
   "execution_count": 27,
   "metadata": {
    "slideshow": {
     "slide_type": "-"
    }
   },
   "outputs": [
    {
     "name": "stdout",
     "output_type": "stream",
     "text": [
      "vocabulary size is 3000000\n",
      "word #0 over 3000000 is </s>\n",
      "word #1 over 3000000 is in\n",
      "word #2 over 3000000 is for\n",
      "word #3 over 3000000 is that\n",
      "word #4 over 3000000 is is\n",
      "word #5 over 3000000 is on\n",
      "word #6 over 3000000 is ##\n",
      "word #7 over 3000000 is The\n",
      "word #8 over 3000000 is with\n",
      "word #9 over 3000000 is said\n"
     ]
    }
   ],
   "source": [
    "N = len(wv.index_to_key)\n",
    "print(f'vocabulary size is {N}')\n",
    "\n",
    "for index, word in enumerate(wv.index_to_key):\n",
    "    if index == 10:\n",
    "        break\n",
    "    print(f\"word #{index} over {N} is {word}\")"
   ]
  },
  {
   "cell_type": "markdown",
   "metadata": {
    "slideshow": {
     "slide_type": "subslide"
    }
   },
   "source": [
    "# Accessing a word embedding"
   ]
  },
  {
   "cell_type": "code",
   "execution_count": 28,
   "metadata": {
    "slideshow": {
     "slide_type": "-"
    }
   },
   "outputs": [
    {
     "name": "stdout",
     "output_type": "stream",
     "text": [
      "vector shape is (300,)\n"
     ]
    }
   ],
   "source": [
    "vec_king = wv['king']\n",
    "print(f'vector shape is {vec_king.shape}')"
   ]
  },
  {
   "cell_type": "code",
   "execution_count": 29,
   "metadata": {
    "slideshow": {
     "slide_type": "subslide"
    }
   },
   "outputs": [
    {
     "data": {
      "text/html": [
       "<div>\n",
       "<style scoped>\n",
       "    .dataframe tbody tr th:only-of-type {\n",
       "        vertical-align: middle;\n",
       "    }\n",
       "\n",
       "    .dataframe tbody tr th {\n",
       "        vertical-align: top;\n",
       "    }\n",
       "\n",
       "    .dataframe thead th {\n",
       "        text-align: right;\n",
       "    }\n",
       "</style>\n",
       "<table border=\"1\" class=\"dataframe\">\n",
       "  <thead>\n",
       "    <tr style=\"text-align: center;\">\n",
       "      <th></th>\n",
       "      <th>0</th>\n",
       "      <th>1</th>\n",
       "      <th>2</th>\n",
       "      <th>3</th>\n",
       "      <th>4</th>\n",
       "      <th>5</th>\n",
       "      <th>6</th>\n",
       "      <th>7</th>\n",
       "      <th>8</th>\n",
       "      <th>9</th>\n",
       "      <th>...</th>\n",
       "      <th>290</th>\n",
       "      <th>291</th>\n",
       "      <th>292</th>\n",
       "      <th>293</th>\n",
       "      <th>294</th>\n",
       "      <th>295</th>\n",
       "      <th>296</th>\n",
       "      <th>297</th>\n",
       "      <th>298</th>\n",
       "      <th>299</th>\n",
       "    </tr>\n",
       "  </thead>\n",
       "  <tbody>\n",
       "    <tr>\n",
       "      <th>king</th>\n",
       "      <td>0.125977</td>\n",
       "      <td>0.029785</td>\n",
       "      <td>0.008606</td>\n",
       "      <td>0.139648</td>\n",
       "      <td>-0.025635</td>\n",
       "      <td>-0.036133</td>\n",
       "      <td>0.111816</td>\n",
       "      <td>-0.198242</td>\n",
       "      <td>0.05127</td>\n",
       "      <td>0.363281</td>\n",
       "      <td>...</td>\n",
       "      <td>-0.004669</td>\n",
       "      <td>-0.244141</td>\n",
       "      <td>-0.209961</td>\n",
       "      <td>-0.287109</td>\n",
       "      <td>-0.04541</td>\n",
       "      <td>-0.177734</td>\n",
       "      <td>-0.279297</td>\n",
       "      <td>-0.085938</td>\n",
       "      <td>0.091309</td>\n",
       "      <td>0.251953</td>\n",
       "    </tr>\n",
       "  </tbody>\n",
       "</table>\n",
       "<p>1 rows × 300 columns</p>\n",
       "</div>"
      ],
      "text/plain": [
       "         0         1         2         3         4         5         6      \\\n",
       "king  0.125977  0.029785  0.008606  0.139648 -0.025635 -0.036133  0.111816   \n",
       "\n",
       "         7        8         9      ...     290       291       292    \\\n",
       "king -0.198242  0.05127  0.363281  ... -0.004669 -0.244141 -0.209961   \n",
       "\n",
       "         293      294       295       296       297       298       299    \n",
       "king -0.287109 -0.04541 -0.177734 -0.279297 -0.085938  0.091309  0.251953  \n",
       "\n",
       "[1 rows x 300 columns]"
      ]
     },
     "execution_count": 29,
     "metadata": {},
     "output_type": "execute_result"
    }
   ],
   "source": [
    "import pandas as pd\n",
    "pd.DataFrame(dict(king=vec_king.tolist())).T"
   ]
  },
  {
   "cell_type": "markdown",
   "metadata": {
    "slideshow": {
     "slide_type": "-"
    }
   },
   "source": [
    "Watch out if you do not pass before through the vocabulary before asking the model"
   ]
  },
  {
   "cell_type": "code",
   "execution_count": 30,
   "metadata": {
    "slideshow": {
     "slide_type": "-"
    }
   },
   "outputs": [
    {
     "name": "stdout",
     "output_type": "stream",
     "text": [
      "The word 'cameroon' does not appear in this model\n"
     ]
    }
   ],
   "source": [
    "try:\n",
    "    vec_cameroon = wv['cameroon']\n",
    "except KeyError:\n",
    "    print(\"The word 'cameroon' does not appear in this model\")"
   ]
  },
  {
   "cell_type": "markdown",
   "metadata": {
    "slideshow": {
     "slide_type": "subslide"
    }
   },
   "source": [
    "# Word similarities!"
   ]
  },
  {
   "cell_type": "code",
   "execution_count": 31,
   "metadata": {
    "slideshow": {
     "slide_type": "-"
    }
   },
   "outputs": [
    {
     "name": "stdout",
     "output_type": "stream",
     "text": [
      "'car'\t'minivan'\t0.69\n",
      "'car'\t'bicycle'\t0.54\n",
      "'car'\t'airplane'\t0.42\n",
      "'car'\t'cereal'\t0.14\n",
      "'car'\t'communism'\t0.06\n",
      "'car'\t'cartoon'\t0.03\n"
     ]
    }
   ],
   "source": [
    "pairs = [\n",
    "    ('car', 'minivan'),   # a minivan is a kind of car\n",
    "    ('car', 'bicycle'),   # still a wheeled vehicle\n",
    "    ('car', 'airplane'),  # ok, no wheels, but still a vehicle\n",
    "    ('car', 'cereal'),    # ... and so on\n",
    "    ('car', 'communism'),\n",
    "    ('car', 'cartoon'),\n",
    "]\n",
    "for w1, w2 in pairs:\n",
    "    print('%r\\t%r\\t%.2f' % (w1, w2, wv.similarity(w1, w2)))"
   ]
  },
  {
   "cell_type": "markdown",
   "metadata": {
    "slideshow": {
     "slide_type": "subslide"
    }
   },
   "source": [
    "# Most similar"
   ]
  },
  {
   "cell_type": "code",
   "execution_count": 32,
   "metadata": {
    "slideshow": {
     "slide_type": "-"
    }
   },
   "outputs": [
    {
     "data": {
      "text/plain": [
       "[('SUV', 0.8532192707061768),\n",
       " ('vehicle', 0.8175783753395081),\n",
       " ('pickup_truck', 0.7763688564300537),\n",
       " ('Jeep', 0.7567334175109863),\n",
       " ('Ford_Explorer', 0.7565720081329346)]"
      ]
     },
     "execution_count": 32,
     "metadata": {},
     "output_type": "execute_result"
    }
   ],
   "source": [
    "wv.most_similar(positive=['car', 'minivan'], topn=5)"
   ]
  },
  {
   "cell_type": "markdown",
   "metadata": {
    "slideshow": {
     "slide_type": "subslide"
    }
   },
   "source": [
    "# Outlier detection"
   ]
  },
  {
   "cell_type": "code",
   "execution_count": 33,
   "metadata": {
    "slideshow": {
     "slide_type": "-"
    }
   },
   "outputs": [
    {
     "data": {
      "text/plain": [
       "'car'"
      ]
     },
     "execution_count": 33,
     "metadata": {},
     "output_type": "execute_result"
    }
   ],
   "source": [
    "wv.doesnt_match(['fire', 'water', 'land', 'sea', 'air', 'car'])"
   ]
  },
  {
   "cell_type": "markdown",
   "metadata": {
    "slideshow": {
     "slide_type": "subslide"
    }
   },
   "source": [
    "# Analogy using the learned embedding space\n",
    "\n",
    "- word2vec learns relationships between words automatically\n",
    "- Arithmetic of the vectors has surprising properties!\n",
    "\n",
    "`a is to b as a* is to what?`\n",
    "\n",
    "`Man is to King as Woman is to ______`"
   ]
  },
  {
   "cell_type": "markdown",
   "metadata": {
    "slideshow": {
     "slide_type": "fragment"
    }
   },
   "source": [
    "### Algebric way\n",
    "\n",
    "$$\\bmf{\\theta}_W(\\text{king}) - \\bmf{\\theta}_W(\\text{man}) + \\bmf{\\theta}_W(\\text{woman}) \\approx \\bmf{\\theta}_W(\\text{queen})$$"
   ]
  },
  {
   "cell_type": "markdown",
   "metadata": {
    "slideshow": {
     "slide_type": "subslide"
    }
   },
   "source": [
    "# Analogy using the learned embedding space\n",
    "### Geometric way (parallelogram model)\n",
    "<div align='center'><img src=\"figs/word2vec_analogy.png\" width='35%' ></div>"
   ]
  },
  {
   "cell_type": "markdown",
   "metadata": {
    "slideshow": {
     "slide_type": "subslide"
    }
   },
   "source": [
    "# Analogy using the learned embedding space\n",
    "### Optimization\n",
    "$$ \\mbf{a}:\\mbf{b} = \\mbf{a}^{\\star}: \\mbf{b}^{\\star}? $$\n",
    "\n",
    "$$ \\mbf{b}^{\\star} = \\arg\\max_{\\mbf{x}} \\text{sim}(\\mbf{x},\\mbf{b}-\\mbf{a}+\\mbf{a}^{\\star})$$\n",
    " \n",
    "<div align='center'><img src=\"figs/word2vec_analogy.png\" width='35%' ></div>"
   ]
  },
  {
   "cell_type": "markdown",
   "metadata": {
    "slideshow": {
     "slide_type": "subslide"
    }
   },
   "source": [
    "# Analogy"
   ]
  },
  {
   "cell_type": "code",
   "execution_count": 34,
   "metadata": {
    "slideshow": {
     "slide_type": "-"
    }
   },
   "outputs": [],
   "source": [
    "def analogy(x1, x2, y1):\n",
    "    result = wv.most_similar(positive=[y1, x2], negative=[x1])\n",
    "    return result[0][0]"
   ]
  },
  {
   "cell_type": "code",
   "execution_count": 35,
   "metadata": {},
   "outputs": [
    {
     "data": {
      "text/plain": [
       "'queen'"
      ]
     },
     "execution_count": 35,
     "metadata": {},
     "output_type": "execute_result"
    }
   ],
   "source": [
    "analogy('man', 'king', 'woman')"
   ]
  },
  {
   "cell_type": "code",
   "execution_count": 36,
   "metadata": {
    "slideshow": {
     "slide_type": "fragment"
    }
   },
   "outputs": [
    {
     "data": {
      "text/plain": [
       "'beers'"
      ]
     },
     "execution_count": 36,
     "metadata": {},
     "output_type": "execute_result"
    }
   ],
   "source": [
    "analogy('australia', 'beer', 'france')# does not work well with Glove should give you champagne\n"
   ]
  },
  {
   "cell_type": "code",
   "execution_count": 37,
   "metadata": {
    "slideshow": {
     "slide_type": "fragment"
    }
   },
   "outputs": [
    {
     "data": {
      "text/plain": [
       "'kerry'"
      ]
     },
     "execution_count": 37,
     "metadata": {},
     "output_type": "execute_result"
    }
   ],
   "source": [
    "analogy('obama', 'clinton', 'reagan')"
   ]
  },
  {
   "cell_type": "code",
   "execution_count": 38,
   "metadata": {
    "slideshow": {
     "slide_type": "fragment"
    }
   },
   "outputs": [
    {
     "data": {
      "text/plain": [
       "'longest'"
      ]
     },
     "execution_count": 38,
     "metadata": {},
     "output_type": "execute_result"
    }
   ],
   "source": [
    "analogy('tall', 'tallest', 'long')"
   ]
  },
  {
   "cell_type": "code",
   "execution_count": 39,
   "metadata": {
    "slideshow": {
     "slide_type": "fragment"
    }
   },
   "outputs": [
    {
     "data": {
      "text/plain": [
       "'horrible'"
      ]
     },
     "execution_count": 39,
     "metadata": {},
     "output_type": "execute_result"
    }
   ],
   "source": [
    "analogy('good', 'fantastic', 'bad')"
   ]
  }
 ],
 "metadata": {
  "celltoolbar": "Slideshow",
  "kernelspec": {
   "display_name": "Python 3 (ipykernel)",
   "language": "python",
   "name": "python3"
  },
  "language_info": {
   "codemirror_mode": {
    "name": "ipython",
    "version": 3
   },
   "file_extension": ".py",
   "mimetype": "text/x-python",
   "name": "python",
   "nbconvert_exporter": "python",
   "pygments_lexer": "ipython3",
   "version": "3.8.13"
  },
  "latex_envs": {
   "LaTeX_envs_menu_present": true,
   "autoclose": false,
   "autocomplete": false,
   "bibliofile": "biblio.bib",
   "cite_by": "key",
   "current_citInitial": 1,
   "eqLabelWithNumbers": true,
   "eqNumInitial": 1,
   "hotkeys": {
    "equation": "Ctrl-E",
    "itemize": "Ctrl-I"
   },
   "labels_anchors": false,
   "latex_user_defs": false,
   "report_style_numbering": false,
   "user_envs_cfg": false
  },
  "notify_time": "5",
  "rise": {
   "autolaunch": true,
   "overlay": "<div class='myheader'>Natural Language Processing<img src='../sapienza_logo.png'/></div>",
   "transition": "linear"
  },
  "toc": {
   "base_numbering": 1,
   "nav_menu": {},
   "number_sections": true,
   "sideBar": true,
   "skip_h1_title": false,
   "title_cell": "Table of Contents",
   "title_sidebar": "Summary",
   "toc_cell": false,
   "toc_position": {
    "height": "47px",
    "left": "1143px",
    "top": "173px",
    "width": "210.344px"
   },
   "toc_section_display": false,
   "toc_window_display": false
  },
  "varInspector": {
   "cols": {
    "lenName": 16,
    "lenType": 16,
    "lenVar": 40
   },
   "kernels_config": {
    "python": {
     "delete_cmd_postfix": "",
     "delete_cmd_prefix": "del ",
     "library": "var_list.py",
     "varRefreshCmd": "print(var_dic_list())"
    },
    "r": {
     "delete_cmd_postfix": ") ",
     "delete_cmd_prefix": "rm(",
     "library": "var_list.r",
     "varRefreshCmd": "cat(var_dic_list()) "
    }
   },
   "types_to_exclude": [
    "module",
    "function",
    "builtin_function_or_method",
    "instance",
    "_Feature"
   ],
   "window_display": false
  }
 },
 "nbformat": 4,
 "nbformat_minor": 4
}
