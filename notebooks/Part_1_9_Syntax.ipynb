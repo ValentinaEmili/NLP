{
 "cells": [
  {
   "cell_type": "markdown",
   "metadata": {},
   "source": [
    "<img src='https://www.di.uniroma1.it/sites/all/themes/sapienza_bootstrap/logo.png' width=\"200\"/>  \n",
    "\n",
    "# Part_1_1_Syntax_and_CKY  \n",
    "\n",
    "In Natural Language Processing (`NLP`), syntax helps analyze and generate human language. **Context-free grammars (`CFGs`)** describe sentence structures and are used in tasks like parsing and translation.\n",
    "\n",
    "The **Cocke–Younger–Kasami (`CKY`) algorithm** is a key method for processing `CFGs`, efficiently checking if a sentence matches a grammar and building its parse tree. This notebook covers `CFGs` basics and explains the `CKY` algorithm.\n",
    "\n",
    "### **Objectives:**  \n",
    "In this notebook, Parham introduces **context-free grammars** as a foundation for syntactic parsing in `NLP` and demonstrates their role in defining sentence structure. The tutorial will then cover the `CKY` algorithm, explaining its theory and practical implementation with hands-on examples.\n",
    "\n",
    "### **References:**  \n",
    "- [https://web.stanford.edu/class/archive/cs/cs103/cs103.1164/lectures/18/Small18.pdf](https://web.stanford.edu/class/archive/cs/cs103/cs103.1164/lectures/18/Small18.pdf)  \n",
    "- [https://www.nltk.org/api/nltk.html#nltk.tree.Tree](https://www.nltk.org/api/nltk.html#nltk.tree.Tree) \n",
    "- [https://github.com/NLie2/CYK-algorithm-for-CFG](https://github.com/NLie2/CYK-algorithm-for-CFG)  \n",
    "- [https://github.com/Huntersxsx/CKY-Parser](https://github.com/Huntersxsx/CKY-Parser)\n",
    "\n",
    "### **Contributors:**  \n",
    "- Parham Membari  \n",
    "    - <img src=\"https://upload.wikimedia.org/wikipedia/commons/7/7e/Gmail_icon_%282020%29.svg\" alt=\"Logo\" width=\"20\" height=\"20\"> **Email**: p.membari96@gmail.com  \n",
    "    - <img src=\"https://www.iconsdb.com/icons/preview/red/linkedin-6-xxl.png\" alt=\"Logo\" width=\"20\" height=\"20\"> **LinkedIn**: [LinkedIn](https://www.linkedin.com/in/p-mem/)  \n",
    "    - <img src=\"https://upload.wikimedia.org/wikipedia/commons/a/ae/Github-desktop-logo-symbol.svg\" alt=\"Logo\" width=\"20\" height=\"20\"> **GitHub**: [GitHub](https://github.com/parham075)  \n",
    "    - <img src=\"https://upload.wikimedia.org/wikipedia/commons/e/ec/Medium_logo_Monogram.svg\" alt=\"Logo\" width=\"20\" height=\"20\"> **Medium**: [Medium](https://medium.com/@p.membari96)  \n",
    "\n",
    "**Table of Contents:**  \n",
    "1. Import Libraries  \n",
    "2. Introduction to Syntax in NLP  \n",
    "3. Context-Free Grammars (`CFGs`)   \n",
    "4. The Cocke–Younger–Kasami (`CKY`) Algorithm    \n",
    "5. Conclusion  "
   ]
  },
  {
   "cell_type": "markdown",
   "metadata": {},
   "source": [
    "## 1. Import Libraries "
   ]
  },
  {
   "cell_type": "code",
   "execution_count": null,
   "metadata": {
    "vscode": {
     "languageId": "plaintext"
    }
   },
   "outputs": [],
   "source": []
  },
  {
   "cell_type": "markdown",
   "metadata": {},
   "source": [
    "## 2. Introduction to Syntax in NLP"
   ]
  },
  {
   "cell_type": "code",
   "execution_count": null,
   "metadata": {
    "vscode": {
     "languageId": "plaintext"
    }
   },
   "outputs": [],
   "source": []
  },
  {
   "cell_type": "markdown",
   "metadata": {},
   "source": [
    "## 3. Context-Free Grammars (`CFGs`)   "
   ]
  },
  {
   "cell_type": "code",
   "execution_count": null,
   "metadata": {
    "vscode": {
     "languageId": "plaintext"
    }
   },
   "outputs": [],
   "source": []
  },
  {
   "cell_type": "markdown",
   "metadata": {},
   "source": [
    "## 4. The Cocke–Younger–Kasami (`CKY`) Algorithm  "
   ]
  },
  {
   "cell_type": "code",
   "execution_count": null,
   "metadata": {
    "vscode": {
     "languageId": "plaintext"
    }
   },
   "outputs": [],
   "source": []
  },
  {
   "cell_type": "markdown",
   "metadata": {},
   "source": [
    "## 5. Conclusion "
   ]
  }
 ],
 "metadata": {
  "language_info": {
   "name": "python"
  }
 },
 "nbformat": 4,
 "nbformat_minor": 2
}
