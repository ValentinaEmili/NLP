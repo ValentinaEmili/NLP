{
 "cells": [
  {
   "cell_type": "markdown",
   "metadata": {
    "slideshow": {
     "slide_type": "slide"
    }
   },
   "source": [
    "# Natural Language Processing\n",
    "\n",
    "### 2.1 Distributional Semantics, Latent Semantic Analysis and Word2Vec\n",
    "<br><br>\n",
    "Prof. Iacopo Masi and Prof. Stefano Faralli"
   ]
  },
  {
   "cell_type": "code",
   "execution_count": 1,
   "metadata": {
    "hide_input": true,
    "slideshow": {
     "slide_type": "skip"
    }
   },
   "outputs": [],
   "source": [
    "import matplotlib.pyplot as plt\n",
    "import scipy\n",
    "import random\n",
    "import numpy as np\n",
    "import pandas as pd\n",
    "pd.set_option('display.colheader_justify', 'center')"
   ]
  },
  {
   "cell_type": "code",
   "execution_count": 2,
   "metadata": {
    "hide_input": true,
    "run_control": {
     "marked": false
    },
    "scrolled": true,
    "slideshow": {
     "slide_type": "skip"
    }
   },
   "outputs": [],
   "source": [
    "import matplotlib\n",
    "import matplotlib.pyplot as plt\n",
    "import numpy as np\n",
    "%matplotlib inline\n",
    "#plt.style.use('seaborn-whitegrid')\n",
    "\n",
    "font = {'family' : 'Times',\n",
    "        'weight' : 'bold',\n",
    "        'size'   : 12}\n",
    "\n",
    "matplotlib.rc('font', **font)\n",
    "\n",
    "\n",
    "# Aux functions\n",
    "\n",
    "def plot_grid(Xs, Ys, axs=None):\n",
    "    ''' Aux function to plot a grid'''\n",
    "    t = np.arange(Xs.size) # define progression of int for indexing colormap\n",
    "    if axs:\n",
    "        axs.plot(0, 0, marker='*', color='r', linestyle='none') #plot origin\n",
    "        axs.scatter(Xs,Ys, c=t, cmap='jet', marker='.') # scatter x vs y\n",
    "        axs.axis('scaled') # axis scaled\n",
    "    else:\n",
    "        plt.plot(0, 0, marker='*', color='r', linestyle='none') #plot origin\n",
    "        plt.scatter(Xs,Ys, c=t, cmap='jet', marker='.') # scatter x vs y\n",
    "        plt.axis('scaled') # axis scaled\n",
    "        \n",
    "def linear_map(A, Xs, Ys):\n",
    "    '''Map src points with A'''\n",
    "    # [NxN,NxN] -> NxNx2 # add 3-rd axis, like adding another layer\n",
    "    src = np.stack((Xs,Ys), axis=Xs.ndim)\n",
    "    # flatten first two dimension\n",
    "    # (NN)x2\n",
    "    src_r = src.reshape(-1,src.shape[-1]) #ask reshape to keep last dimension and adjust the rest\n",
    "    # 2x2 @ 2x(NN)\n",
    "    dst = A @ src_r.T # 2xNN\n",
    "    #(NN)x2 and then reshape as NxNx2\n",
    "    dst = (dst.T).reshape(src.shape)\n",
    "    # Access X and Y\n",
    "    return dst[...,0], dst[...,1]\n",
    "\n",
    "\n",
    "def plot_points(ax, Xs, Ys, col='red', unit=None, linestyle='solid'):\n",
    "    '''Plots points'''\n",
    "    ax.set_aspect('equal')\n",
    "    ax.grid(True, which='both')\n",
    "    ax.axhline(y=0, color='gray', linestyle=\"--\")\n",
    "    ax.axvline(x=0, color='gray',  linestyle=\"--\")\n",
    "    ax.plot(Xs, Ys, color=col)\n",
    "    if unit is None:\n",
    "        plotVectors(ax, [[0,1],[1,0]], ['gray']*2, alpha=1, linestyle=linestyle)\n",
    "    else:\n",
    "        plotVectors(ax, unit, [col]*2, alpha=1, linestyle=linestyle)\n",
    "\n",
    "def plotVectors(ax, vecs, cols, alpha=1, linestyle='solid'):\n",
    "    '''Plot set of vectors.'''\n",
    "    for i in range(len(vecs)):\n",
    "        x = np.concatenate([[0,0], vecs[i]])\n",
    "        ax.quiver([x[0]],\n",
    "                   [x[1]],\n",
    "                   [x[2]],\n",
    "                   [x[3]],\n",
    "                   angles='xy', scale_units='xy', scale=1, color=cols[i],\n",
    "                   alpha=alpha, linestyle=linestyle, linewidth=2)"
   ]
  },
  {
   "cell_type": "markdown",
   "metadata": {
    "hide_input": true,
    "slideshow": {
     "slide_type": "skip"
    }
   },
   "source": [
    "## My own latex definitions\n",
    "\n",
    "$$\\def\\mbf#1{\\mathbf{#1}}$$\n",
    "$$\\def\\bmf#1{\\boldsymbol{#1}}$$\n",
    "$$\\def\\bx{\\mbf{x}}$$\n",
    "$$\\def\\bxt#1{\\mbf{x}_{\\text{#1}}}$$\n",
    "$$\\def\\bv{\\mbf{v}}$$\n",
    "$$\\def\\bz{\\mbf{z}}$$\n",
    "$$\\def\\bmu{\\bmf{\\mu}}$$\n",
    "$$\\def\\bsigma{\\bmf{\\Sigma}}$$\n",
    "$$\\def\\Rd#1{\\in \\mathbb{R}^{#1}}$$\n",
    "$$\\def\\chain#1#2{\\frac{\\partial #1}{\\partial #2}}$$\n",
    "$$\\def\\loss{\\mathcal{L}}$$"
   ]
  },
  {
   "cell_type": "markdown",
   "metadata": {
    "slideshow": {
     "slide_type": "slide"
    }
   },
   "source": [
    "# Very Brief Introduction"
   ]
  },
  {
   "cell_type": "markdown",
   "metadata": {
    "cell_style": "split",
    "slideshow": {
     "slide_type": "slide"
    }
   },
   "source": [
    "<img width=\"250\" src=\"https://github.com/iacopomasi/iacopomasi.github.io/blob/master/imgs/iacopomasi_res.jpg?raw=true\">"
   ]
  },
  {
   "cell_type": "markdown",
   "metadata": {
    "cell_style": "split",
    "slideshow": {
     "slide_type": "fragment"
    }
   },
   "source": [
    "## 👨🏼‍🏫 About Me\n",
    "\n",
    "- **Associate Professor** with Sapienza since late 2020\n",
    "- **Adjunct Research Assistant Professor** with University of Southern California (USC), Los Angeles **till August 2022**\n",
    "\n",
    "- Worked as Research Scientist on big DARPA projects (Dept. of Defense) of USA.\n",
    "\n",
    "\n",
    "- My Background:\n",
    " - Computer Vision\n",
    " - Machine Learning\n"
   ]
  },
  {
   "cell_type": "markdown",
   "metadata": {
    "slideshow": {
     "slide_type": "subslide"
    }
   },
   "source": [
    "# I do research in AI\n",
    "\n",
    "## Biometrics, Face Recognition, Adversarial Robustness, Generative Models \n",
    "### Mainly visual domain (images) but I am broadening my range (e.g. NLP!) 😛\n",
    "\n"
   ]
  },
  {
   "cell_type": "markdown",
   "metadata": {
    "slideshow": {
     "slide_type": "subslide"
    }
   },
   "source": [
    "# My Path\n",
    "<div align='center'><img src=\"figs/path.png\" width='80%'></div>"
   ]
  },
  {
   "cell_type": "markdown",
   "metadata": {
    "slideshow": {
     "slide_type": "subslide"
    }
   },
   "source": [
    "# Latest Research Effort (w/ USC, UCLA, Sapienza)\n",
    "## Image Synthesis by Inverting a Quasi-Robust Classifier in AAAI-23\n",
    "<div align='center'><img src=\"figs/aaai23.png\" width='50%'></div>"
   ]
  },
  {
   "cell_type": "markdown",
   "metadata": {
    "cell_style": "split",
    "slideshow": {
     "slide_type": "slide"
    }
   },
   "source": [
    "# Stanford NLP Course \n",
    "<div align='center'><img src=\"figs/stanford.png\" width='85%' ></div>\n"
   ]
  },
  {
   "cell_type": "markdown",
   "metadata": {
    "cell_style": "split",
    "slideshow": {
     "slide_type": "fragment"
    }
   },
   "source": [
    "# Sapienza NLP Course\n",
    "\n",
    "<div align='center'><img src=\"figs/sapienza_nlp.png\" width='85%' ></div>"
   ]
  },
  {
   "cell_type": "markdown",
   "metadata": {
    "slideshow": {
     "slide_type": "slide"
    }
   },
   "source": [
    "# Today's lecture\n",
    "## - From Sparse to Distributed Representations\n",
    "## - Latent Semantic Analysis (LSA)\n",
    "## - Introduction to Word2Vec"
   ]
  },
  {
   "cell_type": "markdown",
   "metadata": {
    "slideshow": {
     "slide_type": "slide"
    }
   },
   "source": [
    "# This lecture material is taken from\n",
    "📘 **Chapter 5 and 6 Jurafsky Book**\n",
    "\n",
    "📘 **Chapter 14.5 Eisenstein Book**\n",
    "- [Stanford Slide Word2Vec](http://web.stanford.edu/class/cs224n/slides/cs224n-2022-lecture01-wordvecs1.pdf)\n",
    "- [Stanford Lecture Word2Vec](https://www.youtube.com/watch?v=rmVRLeJRkl4&list=PLoROMvodv4rOSH4v6133s9LFPRHjEmbmJ&index=1)\n",
    "- [Stanford Notes on Word2Vec](http://web.stanford.edu/class/cs224n/readings/cs224n-2019-notes01-wordvecs1.pdf)\n",
    "\n",
    "**LSA** part is taken from **[Introduction to Information Retrieval by Manning](https://nlp.stanford.edu/IR-book/pdf/18lsi.pdf)**\n",
    "\n",
    "**Truncated SVD** from [sklearn](https://scikit-learn.org/stable/modules/decomposition.html#truncated-singular-value-decomposition-and-latent-semantic-analysis)\n",
    "\n",
    "📝 Research papers on word2vec:\n",
    "- [First paper: word2vec + hierarchical softmax](https://arxiv.org/pdf/1301.3781.pdf)\n",
    "- [Negative Sampling paper](https://proceedings.neurips.cc/paper/2013/file/9aa42b31882ec039965f3c4923ce901b-Paper.pdf)"
   ]
  },
  {
   "cell_type": "markdown",
   "metadata": {
    "slideshow": {
     "slide_type": "slide"
    }
   },
   "source": [
    "# Word2vec and Distributed Representations\n",
    "\n",
    "- Word2vec is a method for learning **distributed representations** of words (also called **word embeddings**).\n",
    "- These representations capture the **meanings of words** in a continuous vector space, where similar words are mapped to nearby points.\n",
    "- This allows words to be used in natural language processing tasks like **language translation** and **text classification**, in a way that reflects their meanings."
   ]
  },
  {
   "cell_type": "markdown",
   "metadata": {
    "slideshow": {
     "slide_type": "subslide"
    }
   },
   "source": [
    "# Word2vec and Distributed Representations\n",
    "\n",
    "- Distributed representations are useful because they **encode words in a way that preserves relationships** between them.\n",
    "- Word2vec uses a **shallow neural network** to learn these representations from large amounts of unannotated text data.\n",
    "- The word2vec model has two main learning algorithms: **continuous bag-of-words (CBOW)** and **skip-gram**. These algorithms have different strengths and are suitable for different tasks."
   ]
  },
  {
   "cell_type": "markdown",
   "metadata": {
    "slideshow": {
     "slide_type": "subslide"
    }
   },
   "source": [
    "...but there is a problem with the slides before 🤨 "
   ]
  },
  {
   "cell_type": "markdown",
   "metadata": {
    "slideshow": {
     "slide_type": "fragment"
    }
   },
   "source": [
    "...does anyone spot any problem?"
   ]
  },
  {
   "cell_type": "markdown",
   "metadata": {
    "slideshow": {
     "slide_type": "fragment"
    }
   },
   "source": [
    "well, they have been generated by a **large NLP language model optimized for dialogue 🤖**"
   ]
  },
  {
   "cell_type": "markdown",
   "metadata": {
    "slideshow": {
     "slide_type": "subslide"
    }
   },
   "source": [
    "# ChatGPT, if you do not believe me\n",
    "\n",
    "<br>\n",
    "<div align='center'><img src=\"figs/chatgpt_01.png\" width='45%' ></div>\n"
   ]
  },
  {
   "cell_type": "markdown",
   "metadata": {
    "slideshow": {
     "slide_type": "subslide"
    }
   },
   "source": [
    "# To keep you motivated, let me entertain you...\n",
    "\n",
    "Let's try latest NLP success **[ChatGPT](https://chat.openai.com/chat) by OpenAI**\n",
    "<br><br>\n",
    "<div align='center'><img src=\"figs/chatgpt_02.png\" width='45%' ></div>"
   ]
  },
  {
   "cell_type": "markdown",
   "metadata": {
    "slideshow": {
     "slide_type": "slide"
    }
   },
   "source": [
    "# NLP\n",
    "\n",
    "\n",
    "- Human (natural) language is different than Computer (Artificial) languages\n",
    "- Human language is a system specifically constructed to **convey meaning**\n",
    "- Vision is produced by a **physical manifestation of a signal**, **NLP is not**\n",
    "- Human language uses symbols to indicate extra-linguistic entities\n",
    "\n",
    "<br><br>\n",
    "<center>\n",
    "<h2>Word : Signifier = Idea : Signified</h2>\n",
    "<h2>\"tree\" = {🎄,🌳,🌴,🌲,🏝,}</h2>\n",
    "</center>\n",
    "\n",
    "\n",
    "<br>\n",
    "\n",
    "_Stat rosa pristina nomine, nomina nuda tenemus_"
   ]
  },
  {
   "cell_type": "markdown",
   "metadata": {
    "slideshow": {
     "slide_type": "subslide"
    }
   },
   "source": [
    "# NLP models discrete symbols\n",
    "\n",
    "\n",
    "- Vision and Audio are modeled as continuous signals that are then discretized (e.g. images)\n",
    "- NLP instead is a **discrete/symbolic/categorical** domain.\n",
    "    - This is why so far you have seen a lot of `count()`. \n",
    "    - All the math involved in NLP is mostly **discrete math**."
   ]
  },
  {
   "cell_type": "markdown",
   "metadata": {
    "slideshow": {
     "slide_type": "subslide"
    }
   },
   "source": [
    "# Let's take a quick grasp of the difference between NLP and Vision"
   ]
  },
  {
   "cell_type": "markdown",
   "metadata": {
    "slideshow": {
     "slide_type": "subslide"
    }
   },
   "source": [
    "# Let's sample from a English Corpus"
   ]
  },
  {
   "cell_type": "code",
   "execution_count": 3,
   "metadata": {
    "slideshow": {
     "slide_type": "slide"
    }
   },
   "outputs": [],
   "source": [
    "# downloaded from https://www.nltk.org/nltk_data/\n",
    "# https://raw.githubusercontent.com/nltk/nltk_data/gh-pages/packages/corpora/words.zip\n",
    "with open('data/en-basic.txt') as fr: words = fr.read().split('\\n')"
   ]
  },
  {
   "cell_type": "markdown",
   "metadata": {
    "slideshow": {
     "slide_type": "slide"
    }
   },
   "source": [
    "```python\n",
    "print(*random.choices(words, k=100), sep=' ')\n",
    "```"
   ]
  },
  {
   "cell_type": "markdown",
   "metadata": {
    "slideshow": {
     "slide_type": "subslide"
    }
   },
   "source": [
    "# \"Unigram\" model (no use of frequency)\n",
    "\n",
    "Sampling from a corpus of **#{{len(words)}} words**\n",
    "\n",
    "```\n",
    "{{random.seed(42);print(*random.choices(words,k=100), sep=' ')}}\n",
    "```"
   ]
  },
  {
   "cell_type": "markdown",
   "metadata": {
    "slideshow": {
     "slide_type": "fragment"
    }
   },
   "source": [
    "The text **globally does not make sense** but we still understand each word.\n",
    "\n",
    "At times, **a few parts seem almost meaningful**:\n",
    "- `and enough deep secret`\n",
    "- `warm the fire property`\n",
    "- `so industry basket`"
   ]
  },
  {
   "cell_type": "markdown",
   "metadata": {
    "slideshow": {
     "slide_type": "subslide"
    }
   },
   "source": [
    "# now  with Vision"
   ]
  },
  {
   "cell_type": "code",
   "execution_count": 4,
   "metadata": {
    "slideshow": {
     "slide_type": "subslide"
    }
   },
   "outputs": [
    {
     "name": "stdout",
     "output_type": "stream",
     "text": [
      "Image shape is (120, 120, 4) --> HxWx(RGBA)\n"
     ]
    },
    {
     "data": {
      "image/png": "[encoded data removed]",
      "text/plain": [
       "<Figure size 700x700 with 1 Axes>"
      ]
     },
     "metadata": {},
     "output_type": "display_data"
    }
   ],
   "source": [
    "import matplotlib.pyplot as plt\n",
    "import matplotlib.image as mpimg\n",
    "img = mpimg.imread('data/mario.png')\n",
    "plt.figure(figsize=(7,7));\n",
    "imgplot = plt.imshow(img)\n",
    "plt.axis('off');\n",
    "print(f'Image shape is {img.shape} --> HxWx(RGBA)');"
   ]
  },
  {
   "cell_type": "markdown",
   "metadata": {
    "slideshow": {
     "slide_type": "subslide"
    },
    "variables": {
     "plt.figure(figsize=(5,5));_=plt.imshow(img);_=plt.axis('off');": "<p><strong>NameError</strong>: name &#39;plt&#39; is not defined</p>\n"
    }
   },
   "source": [
    "# Vision\n",
    "\n",
    "Mario below is an instance in space of $\\mathbb{Z}_{[0,255]}^{120\\times120\\times3}$,  if we do not consider the alpha channel.\n",
    "- each pixel takes value in $[0,255]$\n",
    "- we have HxWx3 cell grid to fill\n",
    "\n",
    "<center>\n",
    "{{plt.figure(figsize=(5,5));_=plt.imshow(img);_=plt.axis('off');}}\n",
    "</center>"
   ]
  },
  {
   "cell_type": "markdown",
   "metadata": {
    "slideshow": {
     "slide_type": "subslide"
    }
   },
   "source": [
    "# Let's sample randomly in the \"visual\" space\n",
    "\n",
    "```python\n",
    "import numpy as np\n",
    "rand_im = random.choices(range(0, 256), k=120*120*3)\n",
    "rand_im = np.array(rand_im).reshape(120, 120, 3)\n",
    "imgplot = plt.imshow(rand_im)\n",
    "plt.axis('off');\n",
    "```\n",
    "## What would you expect?"
   ]
  },
  {
   "cell_type": "code",
   "execution_count": 5,
   "metadata": {
    "hide_input": false,
    "slideshow": {
     "slide_type": "subslide"
    }
   },
   "outputs": [
    {
     "data": {
      "image/png": "[encoded data removed]",
      "text/plain": [
       "<Figure size 500x500 with 1 Axes>"
      ]
     },
     "metadata": {},
     "output_type": "display_data"
    }
   ],
   "source": [
    "import numpy as np\n",
    "rand_im = random.choices(range(0, 256), k=120*120*3)\n",
    "rand_im = np.array(rand_im).reshape(120, 120, 3)\n",
    "plt.figure(figsize=(5,5))\n",
    "imgplot=plt.imshow(rand_im)\n",
    "_=plt.axis('off')"
   ]
  },
  {
   "cell_type": "markdown",
   "metadata": {
    "slideshow": {
     "slide_type": "fragment"
    }
   },
   "source": [
    "# Much more non-sense than with text, right?\n"
   ]
  },
  {
   "cell_type": "markdown",
   "metadata": {
    "slideshow": {
     "slide_type": "subslide"
    }
   },
   "source": [
    "# Vision\n",
    "\n",
    "- No notion of discrete symbols. What is the semantic of a pixel?\n",
    "- Continuous signal that is discretized on a grid"
   ]
  },
  {
   "cell_type": "markdown",
   "metadata": {
    "slideshow": {
     "slide_type": "slide"
    }
   },
   "source": [
    "# NLP meets Vision will return at the end of the course"
   ]
  },
  {
   "cell_type": "markdown",
   "metadata": {
    "slideshow": {
     "slide_type": "slide"
    }
   },
   "source": [
    "#  A bit of Linguistics to start\n",
    "\n",
    "Definition of mouse from a dictionary:\n",
    "```text\n",
    "mouse (N)\n",
    "1.  any of numerous small rodents...\n",
    "2.  a hand-operated device that controls a cursor...\n",
    "```\n",
    "\n",
    "- **mouse** is called a **lemma or citation form**; for verbs usually the **lemma** is the infinite form\n",
    "- **mice**  is a **wordform** (in this case the, irregular, plural form of mouse)"
   ]
  },
  {
   "cell_type": "markdown",
   "metadata": {
    "slideshow": {
     "slide_type": "subslide"
    }
   },
   "source": [
    "# Word Sense\n",
    "\n",
    "Multiple aspects of the meaning of a word\n",
    "\n",
    "```text\n",
    "mouse (N)\n",
    "1.  any of numerous small rodents...\n",
    "2.  a hand-operated device that controls a cursor...\n",
    "```\n",
    "\n",
    "without **context** it is difficult to say if `mouse` refers to `1.` or `2.`\n"
   ]
  },
  {
   "cell_type": "markdown",
   "metadata": {
    "cell_style": "split",
    "slideshow": {
     "slide_type": "subslide"
    }
   },
   "source": [
    "<div align='center'><img src=\"figs/mouse.png\" width='45%' ></div>"
   ]
  },
  {
   "cell_type": "markdown",
   "metadata": {
    "cell_style": "split",
    "slideshow": {
     "slide_type": "fragment"
    }
   },
   "source": [
    "<div align='center'><img src=\"figs/mouse_animal.png\" width='45%' ></div>"
   ]
  },
  {
   "cell_type": "markdown",
   "metadata": {
    "slideshow": {
     "slide_type": "subslide"
    }
   },
   "source": [
    "# Word Sense Disambiguation\n",
    "\n",
    "<div align='center'><img src=\"figs/google.png\" width='45%' ></div>"
   ]
  },
  {
   "cell_type": "markdown",
   "metadata": {
    "slideshow": {
     "slide_type": "subslide"
    }
   },
   "source": [
    "# Synonym\n",
    "\n",
    "- One important component of **word meaning** is the relationship between word senses. \n",
    "- For example when **one word has a sense whose meaning** is _identical_ to a **sense of another word** we say the two senses of those two words are **synonyms**.\n",
    "\n",
    "| **Word A** \t| **Word B** \t|\n",
    "|:----------:\t|-----------:\t|\n",
    "| couch      \t|       sofa \t|\n",
    "| car        \t| automobile \t|\n",
    "| hazelnut   \t|    filbert \t|"
   ]
  },
  {
   "cell_type": "markdown",
   "metadata": {
    "slideshow": {
     "slide_type": "subslide"
    }
   },
   "source": [
    "# Word Similarity: what this lecture is about\n",
    "\n",
    "- While words do not have many synonyms, most words do have lots of similar words\n",
    "- Cat is not a synonym of dog, but **cats and dogs are certainly similar words** (for sure more than **cat vs airplane**)\n",
    "- The notion of **word similarity** is very useful in larger semantic tasks\n",
    "\n",
    "|       |            |         |\n",
    "|:----- | -------:   | -------:\t\n",
    "vanish \t| disappear  | 9.8 \n",
    "belief  | impression | 5.95\n",
    "muscle  | bone       | 3.65 \n",
    "modest  | flexible   | 0.98\n",
    "hole \t| agreement  | 0.3  "
   ]
  },
  {
   "cell_type": "markdown",
   "metadata": {
    "slideshow": {
     "slide_type": "subslide"
    }
   },
   "source": [
    "# Representing Words as Discrete Symbols: One-Hot Encoding\n",
    "\n",
    "In traditional NLP, we regard words as discrete symbols.\n",
    "\n",
    "`hotel, conference, motel` can be represented with a vector $\\bx$:\n",
    "- of dimension $|V|$\n",
    "- each component indexes a word in the vocabulary $V$\n",
    "- if we are dealing with a word present in $V$ at index $i$ then:\n",
    "\n",
    "$$\n",
    "\\bx_j = \\begin{cases} 1, & \\mbox{if } i=j \\\\\n",
    "                       0  & \\forall j \\neq i\n",
    "          \\end{cases}\n",
    "$$\n",
    "\n",
    "visually this is something as:\n",
    "\n",
    "   0   |   0   |   0   |    0   |   1    |   ...    |    0   |       |       |       |\n",
    ":----- |:----- |:----- |:----- |:----- |:----- |:----- |:----- |:----- |:----- |\n",
    " cat   |  airplane     |   dog     |  beer     |  hotel      |  ....     |   garden    |       |       |       |\n",
    "\n",
    "\n"
   ]
  },
  {
   "cell_type": "markdown",
   "metadata": {
    "slideshow": {
     "slide_type": "subslide"
    }
   },
   "source": [
    "# Representing Words as Discrete Symbols: One-Hot Encoding\n",
    "\n",
    "In traditional NLP, we regard words as discrete symbols.\n",
    "\n",
    "`hotel, conference, motel` can be represented with a vector $\\bx$:\n",
    "- of dimension $|V|$\n",
    "- each component indexes a word in the vocabulary $V$\n",
    "- if we are dealing with a word present in $V$ at index $i$ then:\n",
    "\n",
    "$$\n",
    "\\bx_j = \\begin{cases} 1, & \\mbox{if } i=j \\\\\n",
    "                       0  & \\forall j \\neq i\n",
    "          \\end{cases}\n",
    "$$\n",
    "\n",
    "More formally:\n",
    "$$\n",
    "\\bxt{hotel} = \\underbrace{[0~0~0~0~1~0~0\\ldots 0~0~0~0~0~0]}_{|V|}\n",
    "$$\n",
    "\n",
    "\n"
   ]
  },
  {
   "cell_type": "markdown",
   "metadata": {
    "slideshow": {
     "slide_type": "fragment"
    }
   },
   "source": [
    "Is the same as saying that the word `hotel` appears at index 4 in the vocabulary (starting from zero)"
   ]
  },
  {
   "cell_type": "markdown",
   "metadata": {
    "slideshow": {
     "slide_type": "slide"
    }
   },
   "source": [
    "# Brief recap on Linear Algebra"
   ]
  },
  {
   "cell_type": "markdown",
   "metadata": {
    "slideshow": {
     "slide_type": "slide"
    }
   },
   "source": [
    "# Vectors: Geometric Interpretation 1 \n",
    "## Point in space\n",
    "\n",
    "- Given a vector, the first interpretation\n",
    "that we should give it is as a **point in space.**\n",
    "\n",
    "- In two or three dimensions, we can visualize these points\n",
    "by using the components of the vectors to define\n",
    "the location of the points in space compared\n",
    "to a fixed reference called the *origin*.\n",
    "\n",
    "<img class=\"center\" src=\"https://raw.githubusercontent.com/d2l-ai/d2l-en/master/img/grid-points.svg\" width=\"30%\">\n"
   ]
  },
  {
   "cell_type": "markdown",
   "metadata": {
    "slideshow": {
     "slide_type": "subslide"
    }
   },
   "source": [
    "##### Formalizing problems\n",
    "This geometric point of view allows us to consider the problem on a more abstract level.\n",
    "No longer faced with some insurmountable seeming problem\n",
    "like classifying pictures as either cats or dogs but separate points in space.\n",
    "\n",
    "`Problem -> Formalization -> Math -> Computational System`\n",
    "\n",
    "<small>Taken from [d2l.ai](https://d2l.ai)<small>"
   ]
  },
  {
   "cell_type": "markdown",
   "metadata": {
    "slideshow": {
     "slide_type": "subslide"
    }
   },
   "source": [
    "# Vectors: Geometric Interpretation 2 \n",
    "## Direction in space\n",
    "\n",
    "In parallel, there is a second point of view\n",
    "that people often take of vectors: **as directions in space.**\n",
    "Not only can we think of the vector $\\mathbf{v} = [3,2]^\\top$\n",
    "as the location $3$ units to the right and $2$ units up from the origin,\n",
    "we can also think of it as the direction itself\n",
    "to take $3$ steps to the right and $2$ steps up.\n",
    "In this way, we consider all the vectors in figure the same.\n",
    "<img src=\"https://raw.githubusercontent.com/d2l-ai/d2l-en/master/img/par-vec.svg\" width=\"30%\">"
   ]
  },
  {
   "cell_type": "markdown",
   "metadata": {
    "slideshow": {
     "slide_type": "subslide"
    }
   },
   "source": [
    "## Direction in space\n",
    "\n",
    "One of the benefits of this shift is that\n",
    "we can make visual sense of the act of vector addition.\n",
    "In particular, we follow the directions given by one vector,\n",
    "and then follow the directions given by the other, as is seen below.\n",
    "\n",
    "<img src=\"https://raw.githubusercontent.com/d2l-ai/d2l-en/master/img/vec-add.svg\" width=\"30%\">\n",
    "\n",
    "Difference is just $\\mathbf{A}-\\mathbf{B}=\\mathbf{A}+(-\\mathbf{B})$\n",
    "\n",
    "<small>Taken from [d2l.ai]<small>"
   ]
  },
  {
   "cell_type": "markdown",
   "metadata": {
    "slideshow": {
     "slide_type": "subslide"
    }
   },
   "source": [
    "# Inner Product (Dot Product)\n",
    "\n",
    "\\begin{equation} \\mathbf{x}, \\mathbf{y} \\in \\mathbb{R}^D ~~~~~~~~~\\quad \n",
    "\\mathbf{x}^T \\mathbf{y} = \\left\\langle\\mathbf{x}, \\mathbf{y}\\right\\rangle = \\sum_i^D \\mathbf{x}_i \\cdot \\mathbf{y}_i\n",
    "\\end{equation}\n",
    "\n",
    "```\n",
    "x1 x2 x3 x4 \n",
    "           y1\n",
    "           y2   =    result (dot_product)\n",
    "           y3\n",
    "           y4\n",
    "\n",
    "\n",
    "dot_product = x1y1 + x2y2 + x3y3 + x4y4\n",
    "```\n",
    "\n",
    "- The result is a **scalar** (not a vector anymore).\n",
    "- $\\mathbf{x}, \\mathbf{y}$ must live in the same dimension\n",
    "- It is **commutative**\n",
    "- The data is **paired**: just muliply elementwise and sum across axis."
   ]
  },
  {
   "cell_type": "markdown",
   "metadata": {
    "slideshow": {
     "slide_type": "subslide"
    }
   },
   "source": [
    "# Inner product: Geometric Interpretation\n",
    "\n",
    "- The dot product also admits a geometric interpretation: **it is closely related to the angle between two vectors.** \n",
    "- It is biased by the norm (\"length\") of the vectors (it favors \"long\" vectors)\n",
    "\n",
    "\n",
    "<img src=\"https://raw.githubusercontent.com/d2l-ai/d2l-en/master/img/vec-angle.svg\" width=\"30%\">\n",
    "\n",
    "$$\n",
    "\\mathbf{v}\\cdot\\mathbf{w} = \\|\\mathbf{v}\\|\\|\\mathbf{w}\\|\\cos(\\theta).\n",
    "$$"
   ]
  },
  {
   "cell_type": "markdown",
   "metadata": {
    "slideshow": {
     "slide_type": "subslide"
    }
   },
   "source": [
    "With some simple algebraic manipulation, we can rearrange terms to obtain\n",
    "\n",
    "$$\n",
    "\\theta = \\arccos\\left(\\frac{\\mathbf{v}\\cdot\\mathbf{w}}{\\|\\mathbf{v}\\|\\|\\mathbf{w}\\|}\\right).\n",
    "$$\n",
    "\n",
    "\n",
    "This is a nice result since nothing in the computation references two-dimensions.\n",
    "\n",
    "**Indeed, we can use this in three or three million dimensions without issue.**"
   ]
  },
  {
   "cell_type": "markdown",
   "metadata": {
    "slideshow": {
     "slide_type": "subslide"
    }
   },
   "source": [
    "### Cosine Similarity\n",
    "In ML contexts where the **angle is employed\n",
    "to measure the closeness of two vectors**,\n",
    "practitioners adopt the term **cosine similarity**\n",
    "to refer to the portion\n",
    "$$\n",
    "\\cos(\\theta) = \\underbrace{\\frac{\\mathbf{v}\\cdot\\mathbf{w}}{\\|\\mathbf{v}\\|\\|\\mathbf{w}\\|}}_{\\text{cosine similarity}}.\n",
    "$$\n",
    "\n",
    "- What happens if cosine similarity is 1?\n",
    "- Notice any similarity with some concept we saw in previous lecture?"
   ]
  },
  {
   "cell_type": "markdown",
   "metadata": {
    "slideshow": {
     "slide_type": "subslide"
    }
   },
   "source": [
    "# The problem of Dot Product and One-Hot Encoding\n",
    "\n",
    "Assume a vocabulary of words $V$\n",
    "\n",
    "$$\n",
    "\\bxt{motel} =  \n",
    "\\begin{bmatrix}\n",
    "0 \\\\\n",
    "1 \\\\\n",
    "\\ldots, \\\\\n",
    "0 \\\\\n",
    "\\end{bmatrix} \\quad\n",
    "\\bxt{hotel} =  \n",
    "\\begin{bmatrix}\n",
    "0 \\\\\n",
    "1 \\\\\n",
    "\\ldots, \\\\\n",
    "0 \\\\\n",
    "\\end{bmatrix} \\quad \\ldots\n",
    "\\quad\n",
    "\\bxt{car} =  \n",
    "\\begin{bmatrix}\n",
    "0 \\\\\n",
    "1 \\\\\n",
    "\\ldots, \\\\\n",
    "0 \\\\\n",
    "\\end{bmatrix}\n",
    "$$"
   ]
  },
  {
   "cell_type": "markdown",
   "metadata": {
    "slideshow": {
     "slide_type": "fragment"
    }
   },
   "source": [
    " $$ \\bxt{motel}^T \\bxt{hotel} = \\bxt{motel}^T\\bxt{car}=0$$\n",
    " \n",
    "There is no notion of similarity and vectors are very long--size of $|V|$."
   ]
  },
  {
   "cell_type": "markdown",
   "metadata": {
    "slideshow": {
     "slide_type": "subslide"
    }
   },
   "source": [
    "# The Distributional Hypothesis\n",
    "\n",
    "<div align='center'><img src=\"figs/firth.png\" width='10%' ></div>\n",
    "    \n",
    "Stated by J. R. Firth (1957) as: \n",
    "\n",
    "> \"You shall know a word by the company it keeps\"\n",
    "\n",
    "Distributional statistics have a striking ability to capture lexical semantic relationships such as **analogies**."
   ]
  },
  {
   "cell_type": "markdown",
   "metadata": {
    "slideshow": {
     "slide_type": "subslide"
    }
   },
   "source": [
    "# Distributional statistics and unsupervised learning\n",
    "\n",
    "The distributional hypothesis has stood the test of time: \n",
    "- distributional statistics are a core part of language technology today\n",
    "- they make it possible to leverage large amounts of **unlabeled data** to learn about rare words that do not appear in labeled training data"
   ]
  },
  {
   "cell_type": "markdown",
   "metadata": {
    "slideshow": {
     "slide_type": "slide"
    }
   },
   "source": [
    "# The meaning of the word `tezguino`"
   ]
  },
  {
   "cell_type": "markdown",
   "metadata": {
    "slideshow": {
     "slide_type": "fragment"
    }
   },
   "source": [
    "<div align='center'><img src=\"figs/tezguino.png\" width='45%' ></div>"
   ]
  },
  {
   "cell_type": "markdown",
   "metadata": {
    "slideshow": {
     "slide_type": "subslide"
    }
   },
   "source": [
    "# The context plays a big role\n",
    "\n",
    "We evince that `tezguino` may be an **alcoholic beverage made from corn mash.**\n",
    "\n",
    "<div align='center'><img src=\"figs/tezguino.png\" width='45%' ></div>"
   ]
  },
  {
   "cell_type": "markdown",
   "metadata": {
    "cell_style": "split",
    "slideshow": {
     "slide_type": "subslide"
    }
   },
   "source": [
    "# Long, Sparse\n",
    "\n",
    "- One-Hot Encoding\n",
    "- TF-IDF\n",
    "- Term-Document matrix\n",
    "- PPMI (Point-wise Mutual Information)"
   ]
  },
  {
   "cell_type": "markdown",
   "metadata": {
    "cell_style": "split",
    "slideshow": {
     "slide_type": "fragment"
    }
   },
   "source": [
    "# Short, Dense\n",
    "\n",
    "- Latent Semantic Analysis (LSA)\n",
    "- word2vec"
   ]
  },
  {
   "cell_type": "markdown",
   "metadata": {
    "slideshow": {
     "slide_type": "subslide"
    }
   },
   "source": [
    "# Long, Sparse: Term-Document Matrix"
   ]
  },
  {
   "cell_type": "markdown",
   "metadata": {
    "slideshow": {
     "slide_type": "subslide"
    }
   },
   "source": [
    "```python\n",
    "corpus = [\n",
    "    'This document is the second document.', #document 0\n",
    "    'And this is the third one.',            #document 1\n",
    "    'Is this the first document?',           #document 2\n",
    "]\n",
    "```"
   ]
  },
  {
   "cell_type": "code",
   "execution_count": 6,
   "metadata": {
    "run_control": {
     "marked": false
    },
    "slideshow": {
     "slide_type": "skip"
    }
   },
   "outputs": [],
   "source": [
    "from sklearn.feature_extraction.text import CountVectorizer\n",
    "corpus = [\n",
    "    'This document is the second document.', #0\n",
    "    'And this is the third one.',            #1\n",
    "    'Is this the first document?',           #2\n",
    "]\n",
    "vectorizer = CountVectorizer()\n",
    "X = vectorizer.fit_transform(corpus)\n",
    "td_matrix=pd.DataFrame(data=X.todense(), \n",
    "             index=[f'doc-{i}' for i in range(X.shape[0])],\n",
    "             columns=vectorizer.get_feature_names_out(),)"
   ]
  },
  {
   "cell_type": "markdown",
   "metadata": {
    "slideshow": {
     "slide_type": "subslide"
    },
    "variables": {
     "td_matrix": "<p><strong>NameError</strong>: name &#39;td_matrix&#39; is not defined</p>\n"
    }
   },
   "source": [
    "# Term-Document Matrix\n",
    "\n",
    "$|V|=9$ is the vocabulary size and $|D|=3$ is the number of documents\n",
    "\n",
    "$$ \\text{count}(t,d)\\quad  t \\in V$$\n",
    "\n",
    "{{td_matrix}}\n",
    "\n",
    "You can interpret it two ways:\n",
    "1. $|D|=3$ documents vectors that lives in a $|V|$ dimensional space (row-wise)\n",
    "    - An axis of the space indicates a **word**\n",
    "2. $V$ word vectors that lives in a $|D|=3$ dimensional space (column-wise)\n",
    "    - An axis of the space indicates a **document**"
   ]
  },
  {
   "cell_type": "markdown",
   "metadata": {
    "slideshow": {
     "slide_type": "subslide"
    }
   },
   "source": [
    "# Long, Sparse: TF-IDF Matrix"
   ]
  },
  {
   "cell_type": "code",
   "execution_count": 7,
   "metadata": {
    "run_control": {
     "marked": false
    },
    "slideshow": {
     "slide_type": "skip"
    }
   },
   "outputs": [],
   "source": [
    "from sklearn.feature_extraction.text import TfidfVectorizer\n",
    "corpus = [\n",
    "    'This document is the second document.', #0\n",
    "    'And this is the third one.',            #1\n",
    "    'Is this the first document?',           #2\n",
    "]\n",
    "vectorizer = TfidfVectorizer()\n",
    "X = vectorizer.fit_transform(corpus)\n",
    "tfidf_matrix=pd.DataFrame(data=X.todense(), \n",
    "             index=[f'doc-{i}' for i in range(X.shape[0])],\n",
    "             columns=vectorizer.get_feature_names_out(),)"
   ]
  },
  {
   "cell_type": "markdown",
   "metadata": {
    "slideshow": {
     "slide_type": "subslide"
    },
    "variables": {
     "tfidf_matrix": "<p><strong>NameError</strong>: name &#39;tfidf_matrix&#39; is not defined</p>\n"
    }
   },
   "source": [
    "# TF-IDF Matrix\n",
    "\n",
    "$$\\text{tf}(t,d) = \\log_{10}\\big(\\text{count}(t,d)+1\\big)\\quad \\text{idf}(t) = \\log_{10}\\Big(\\frac{|D|}{\\text{df(t)}}\\Big)\\quad  df(t)= \\sum_{d=1}^{|D|} \\mathbb{1}[t \\in d] $$\n",
    "\n",
    "$$ \\text{w}(t,d) \\doteq \\text{tf}(t,d) \\cdot \\text{idf}(t)   $$\n",
    "{{tfidf_matrix}}"
   ]
  },
  {
   "cell_type": "markdown",
   "metadata": {
    "slideshow": {
     "slide_type": "slide"
    }
   },
   "source": [
    "# How do we go Short and Dense?"
   ]
  },
  {
   "cell_type": "markdown",
   "metadata": {
    "slideshow": {
     "slide_type": "slide"
    }
   },
   "source": [
    "# How do we go Short and Dense?\n",
    "\n",
    "> \"You shall know a word by the company it keeps\"\n",
    "\n",
    "**Word embeddings (dense)** are estimated by **optimizing some objective**: the reconstruction of a matrix of context count or the likelihood of a set of unlabeled data.\n",
    "\n",
    "1. **[Latent Semantic Analysis (LSA)]** Factorize your count matrix $\\mbf{X}$ by minimizing its reconstruction $|| \\mbf{X} - \\mbf{X}(\\mbf{u},\\mbf{v})||_F$ and learning $\\mbf{u}$ document embedding and $\\mbf{v}$ word embedding\n",
    "2. **[Word2vec]** we optimize the likelihood-based optimization of a model that encodes word embeddings over a corpus of training data with self-supervision.\n"
   ]
  },
  {
   "cell_type": "markdown",
   "metadata": {
    "slideshow": {
     "slide_type": "subslide"
    }
   },
   "source": [
    "# Latent Semantic Analysis (LSA)\n",
    "\n",
    "Sometimes it is called *Latent Semantic Indexing (LSI)*"
   ]
  },
  {
   "cell_type": "markdown",
   "metadata": {
    "slideshow": {
     "slide_type": "subslide"
    }
   },
   "source": [
    "# Latent Semantic Analysis (LSA)\n",
    "\n",
    "It is related to different concept of machine learning and unsupervised learning\n",
    "\n",
    "- Eigendecomposition and Singular Value Decomposition (SVD)\n",
    "- Dimensionality reduction (I have features in $N$ dimensional space I want to reduce it to $M$ dimensions $M\\ll N$)\n",
    "- **Finding latent topics in text in an unsupervised way**\n",
    "- From long, sparse representation to **short, dense**"
   ]
  },
  {
   "cell_type": "markdown",
   "metadata": {
    "slideshow": {
     "slide_type": "subslide"
    }
   },
   "source": [
    "# Decompose a matrix\n",
    "\n",
    "Assume $\\mathbf{X}$ is your term-document or tf-idf matrix computed over a corpus.\n",
    "\n",
    "$\\mathbf{X}$ dimension is $|D| \\times |V|$ so it captures some form of correlation between:\n",
    " - term vs term in a vector space defined by documents\n",
    " - document vs document in a vector space define by terms\n",
    "\n",
    "**Key idea 1:** Assume there are $k$ hidden topics that we do not know about, but seek for discovering them in unsupervised way.\n",
    "\n",
    "**Key idea 2:** Do not look at  $\\mathbf{X}$ simply as raw data yet decompose it in a way that **the decomposition gives you information and imposes constraints.**"
   ]
  },
  {
   "cell_type": "markdown",
   "metadata": {
    "slideshow": {
     "slide_type": "subslide"
    }
   },
   "source": [
    "# Decompose with SVD (Singular Value Decomposition)\n",
    "\n",
    "For now we simply seek to decompose $\\mathbf{X} = \\mathbf{U}\\mathbf{S}\\mathbf{V}^{\\top}$"
   ]
  },
  {
   "cell_type": "markdown",
   "metadata": {
    "slideshow": {
     "slide_type": "fragment"
    }
   },
   "source": [
    "$\\mathbf{X} \\in \\mathbb{R}^{|D| \\times |V|} \\qquad = \\qquad {\\mathbf{U} \\in \\mathbb{R}^{|D| \\times |D|}, ~~\\mathbf{S} \\in \\mathbb{R}^{|D| \\times |V|},~~ \\mathbf{V} \\in \\mathbb{R}^{|V| \\times |V|}}$\n",
    "\n",
    "<br>\n",
    "\\begin{equation}\n",
    "\\begin{aligned}\n",
    "\\arg\\min_{\\mathbf{U},\\mathbf{S},\\mathbf{V}}  & \\left\\|\\mathbf{X}-\\mathbf{U S V}^{\\top}\\right\\|_F \\\\\n",
    "\\text { s.t. } & \\mathbf{U}^{\\top} \\mathbf{U}=\\text{Id} \\quad \\mathbf{V}^{\\top} \\mathbf{V}=\\text{Id} \\\\\n",
    "& \\mathbf{S}=\\text{diag}(\\lambda_1,....\\lambda_s)\\\\\n",
    "& \\text{we seek  }  \\mathbf{U}\\mathbf{S}\\mathbf{V}^{\\top} \\text{to be low-rank}\n",
    "\\end{aligned}\n",
    "\\end{equation}"
   ]
  },
  {
   "cell_type": "markdown",
   "metadata": {
    "slideshow": {
     "slide_type": "fragment"
    }
   },
   "source": [
    "##### Property\n",
    "- $\\mathbf{U}^{\\top} \\mathbf{U}=\\text{Id}$ **orthonormality constraints** that all pairs of dimensions in U and V are uncorrelated, so that each dimension conveys unique information\n",
    "- $\\mbf{S}$ is a diagonal matrix containing the ordered singular values (denote the **importance** of each axis in the new  space)"
   ]
  },
  {
   "cell_type": "markdown",
   "metadata": {
    "slideshow": {
     "slide_type": "subslide"
    }
   },
   "source": [
    "# SVD Visually\n",
    "\n",
    "<div align='center'><img src=\"figs/tsvd.png\" width='65%' ></div>"
   ]
  },
  {
   "cell_type": "markdown",
   "metadata": {
    "slideshow": {
     "slide_type": "subslide"
    }
   },
   "source": [
    "# Low-rank approximation of the data with Truncated SVD\n",
    "\n",
    "**Key idea:** We assume there might be $k \\ll D$ latent topics in your data matrix $\\mbf{X}$.\n",
    "- We use **SVD** but now approximate $\\mbf{X}$ by **just considering the highest singular values**\n",
    "- In some sense, it is a way of saying we consider most of the variations in the data; \n",
    "- small variations may be related to noise and so we \"throw them away\".\n",
    "\n",
    "$$\\mbf{X} \\approx \\mbf{X}_k = \\mbf{U_k S_k V_k}^{\\top}$$\n",
    "<br><br><br>\n",
    "<div align='center'><img src=\"figs/mysvd.png\" width='65%' ></div>"
   ]
  },
  {
   "cell_type": "markdown",
   "metadata": {
    "slideshow": {
     "slide_type": "subslide"
    }
   },
   "source": [
    "# Truncated SVD - Low-rank approximation\n",
    "\n",
    "<div align='center'><img src=\"figs/tsvd2.png\" width='75%' ></div>"
   ]
  },
  {
   "cell_type": "code",
   "execution_count": 8,
   "metadata": {
    "slideshow": {
     "slide_type": "subslide"
    }
   },
   "outputs": [],
   "source": [
    "from sklearn.datasets import fetch_20newsgroups\n",
    "categories = ['alt.atheism', 'talk.religion.misc', 'comp.graphics', 'sci.space']\n",
    "remove = ('headers', 'footers', 'quotes')\n",
    "newsgroups_train = fetch_20newsgroups(subset='train', categories=categories, remove=remove)\n",
    "newsgroups_test = fetch_20newsgroups(subset='test', categories=categories, remove=remove)"
   ]
  },
  {
   "cell_type": "markdown",
   "metadata": {
    "slideshow": {
     "slide_type": "subslide"
    }
   },
   "source": [
    "# Let's look at the data\n",
    "\n",
    "- Newsgroup text from the '90s (internet was not there yet)\n",
    "- We have the **categories** but $\\underline{\\text{we set them aside from the algorithm}}$\n",
    "- We assume **we do NOT know the categories of the text**\n",
    "    - We seek to recover them in an unsupervised way\n",
    "Categories are `{{newsgroups_train.target_names}}`\n",
    "\n",
    "```python\n",
    "from sklearn.datasets import fetch_20newsgroups\n",
    "categories = ['alt.atheism', 'talk.religion.misc', 'comp.graphics', 'sci.space']\n",
    "remove = ('headers', 'footers', 'quotes')\n",
    "newsgroups_train = fetch_20newsgroups(subset='train', categories=categories, remove=remove)\n",
    "newsgroups_test = fetch_20newsgroups(subset='test', categories=categories, remove=remove)\n",
    "```"
   ]
  },
  {
   "cell_type": "code",
   "execution_count": 9,
   "metadata": {
    "hide_input": true,
    "slideshow": {
     "slide_type": "subslide"
    }
   },
   "outputs": [
    {
     "name": "stdout",
     "output_type": "stream",
     "text": [
      "Hi,\n",
      "\n",
      "I've noticed that if you only save a model (with all your mapping planes\n",
      "positioned carefully) to a .3DS file that when you reload it after restarting\n",
      "3DS, they are given a default position and orientation.  But if you save\n",
      "to a .PRJ file their positions/orientation are preserved.  Does anyone\n",
      "know why this information is not stored in the .3DS file?  Nothing is\n",
      "explicitly said in the manual about saving texture rules in the .PRJ file. \n",
      "I'd like to be able to read the texture rule information, does anyone have \n",
      "the format for the .PRJ file?\n",
      "\n",
      "Is the .CEL file format available from somewhere?\n",
      "\n",
      "Rych\n",
      "====================================================================================================\n",
      "\n",
      "\n",
      "Seems to be, barring evidence to the contrary, that Koresh was simply\n",
      "another deranged fanatic who thought it neccessary to take a whole bunch of\n",
      "folks with him, children and all, to satisfy his delusional mania. Jim\n",
      "Jones, circa 1993.\n",
      "\n",
      "\n",
      "Nope - fruitcakes like Koresh have been demonstrating such evil corruption\n",
      "for centuries.\n",
      "====================================================================================================\n",
      "\n",
      " >In article <1993Apr19.020359.26996@sq.sq.com>, msb@sq.sq.com (Mark Brader) \n",
      "\n",
      "MB>                                                             So the\n",
      "MB> 1970 figure seems unlikely to actually be anything but a perijove.\n",
      "\n",
      "JG>Sorry, _perijoves_...I'm not used to talking this language.\n",
      "\n",
      "Couldn't we just say periapsis or apoapsis?\n",
      "\n",
      " \n"
     ]
    }
   ],
   "source": [
    "print(*newsgroups_train.data[:3], sep='\\n'+'=='*50+'\\n')"
   ]
  },
  {
   "cell_type": "markdown",
   "metadata": {
    "slideshow": {
     "slide_type": "subslide"
    }
   },
   "source": [
    "# From raw text to Term-Document Matrix"
   ]
  },
  {
   "cell_type": "markdown",
   "metadata": {
    "slideshow": {
     "slide_type": "subslide"
    }
   },
   "source": [
    "# From raw text to Term-Document Matrix\n",
    "\n",
    "```python\n",
    "from sklearn.feature_extraction.text import CountVectorizer\n",
    "count_vect = CountVectorizer(stop_words='english')\n",
    "X_train_counts = count_vect.fit_transform(newsgroups_train.data)\n",
    "X_train_counts.shape # (documents, vocab)\n",
    "```"
   ]
  },
  {
   "cell_type": "code",
   "execution_count": 10,
   "metadata": {
    "slideshow": {
     "slide_type": "subslide"
    }
   },
   "outputs": [
    {
     "name": "stdout",
     "output_type": "stream",
     "text": [
      "We have 2034 documents and a vocabulary of size 26576\n"
     ]
    }
   ],
   "source": [
    "from sklearn.feature_extraction.text import CountVectorizer\n",
    "count_vect = CountVectorizer(stop_words='english')\n",
    "X_train_counts = count_vect.fit_transform(newsgroups_train.data)\n",
    "dims = X_train_counts.shape # (documents, vocab)\n",
    "print(f'We have {dims[0]} documents and a vocabulary of size {dims[1]}')"
   ]
  },
  {
   "cell_type": "markdown",
   "metadata": {
    "slideshow": {
     "slide_type": "subslide"
    }
   },
   "source": [
    "# Term-Document Matrix Shape\n",
    "\n",
    "X_train_counts shape is {{X_train_counts.shape}}\n",
    "\n",
    "- {{X_train_counts.shape[0]}} individual documents (in this case newsgroup posts)\n",
    "- {{X_train_counts.shape[1]}} the number of terms (i.e. vocabulary size $|V|$)\n",
    "- Note that `X_train_counts` is modeled as a sparse matrix `{{type(X_train_counts)}}`\n",
    "\n",
    "Let us see a few $k=10$ random words from the vocabulary:\n",
    "```python\n",
    "random.choices(count_vect.get_feature_names_out(), k=10) #k is the number of samples\n",
    "```\n",
    "\n",
    "{{random.seed(0); random.choices(count_vect.get_feature_names_out(), k=10)}}"
   ]
  },
  {
   "cell_type": "code",
   "execution_count": 11,
   "metadata": {
    "slideshow": {
     "slide_type": "skip"
    }
   },
   "outputs": [],
   "source": [
    "td_matrix = pd.DataFrame(data=X_train_counts.todense(), \n",
    "                         index=range(X_train_counts.shape[0]),\n",
    "                         columns=count_vect.get_feature_names_out(),)"
   ]
  },
  {
   "cell_type": "markdown",
   "metadata": {
    "slideshow": {
     "slide_type": "subslide"
    },
    "variables": {
     "td_matrix": "<p><strong>NameError</strong>: name &#39;td_matrix&#39; is not defined</p>\n"
    }
   },
   "source": [
    "{{td_matrix}}"
   ]
  },
  {
   "cell_type": "markdown",
   "metadata": {
    "slideshow": {
     "slide_type": "subslide"
    }
   },
   "source": [
    "# Sanity check and see the most frequent word\n",
    "\n",
    "```python\n",
    "r, c = np.unravel_index(np.argmax(X_train_counts), X_train_counts.shape)\n",
    "print(count_vect.get_feature_names_out()[c], \n",
    "      'occurred', X_train_counts[r, c], 'times')\n",
    "```"
   ]
  },
  {
   "cell_type": "code",
   "execution_count": 12,
   "metadata": {
    "slideshow": {
     "slide_type": "subslide"
    }
   },
   "outputs": [
    {
     "name": "stdout",
     "output_type": "stream",
     "text": [
      "jpeg occurred 232 times\n"
     ]
    }
   ],
   "source": [
    "r, c = np.unravel_index(np.argmax(X_train_counts), X_train_counts.shape)\n",
    "print(count_vect.get_feature_names_out()[c], 'occurred', X_train_counts[r, c], 'times')"
   ]
  },
  {
   "cell_type": "code",
   "execution_count": 13,
   "metadata": {
    "slideshow": {
     "slide_type": "skip"
    }
   },
   "outputs": [],
   "source": [
    "#%time U, S, V = np.linalg.svd(X_train_counts.todense(), full_matrices=False)"
   ]
  },
  {
   "cell_type": "code",
   "execution_count": 14,
   "metadata": {
    "slideshow": {
     "slide_type": "skip"
    }
   },
   "outputs": [],
   "source": [
    "#%time Us, Ss, Vts = scipy.sparse.linalg.svds(X_train_counts.asfptype(), k=X_train_counts.shape[0]-1)"
   ]
  },
  {
   "cell_type": "code",
   "execution_count": 15,
   "metadata": {
    "slideshow": {
     "slide_type": "subslide"
    }
   },
   "outputs": [
    {
     "name": "stdout",
     "output_type": "stream",
     "text": [
      "CPU times: user 71.9 ms, sys: 5.13 ms, total: 77 ms\n",
      "Wall time: 40.3 ms\n"
     ]
    }
   ],
   "source": [
    "%time Us, Ss, Vts = scipy.sparse.linalg.svds(X_train_counts.asfptype(), k=2)"
   ]
  },
  {
   "cell_type": "code",
   "execution_count": 16,
   "metadata": {
    "run_control": {
     "marked": false
    },
    "slideshow": {
     "slide_type": "subslide"
    }
   },
   "outputs": [
    {
     "name": "stdout",
     "output_type": "stream",
     "text": [
      "U =  (2034, 2) S =  (2,) V =  (2, 26576)\n"
     ]
    }
   ],
   "source": [
    "print(\"U = \", (Us.shape), \"S = \",  (Ss.shape), \"V = \",  (Vts.shape))"
   ]
  },
  {
   "cell_type": "markdown",
   "metadata": {
    "slideshow": {
     "slide_type": "subslide"
    },
    "variables": {
     "Ss": "<p><strong>NameError</strong>: name &#39;Ss&#39; is not defined</p>\n",
     "_=plt.bar([1,2],Ss)": "<p><strong>NameError</strong>: name &#39;plt&#39; is not defined</p>\n"
    }
   },
   "source": [
    "# 1. Singular Values give you the  \"topic\" importance\n",
    "$S=${{Ss}}\n",
    "{{_=plt.bar([1,2],Ss)}}"
   ]
  },
  {
   "cell_type": "markdown",
   "metadata": {
    "slideshow": {
     "slide_type": "subslide"
    }
   },
   "source": [
    "# 2. The embedding space ($k=2$)\n",
    "\n",
    "- Unlike before, it is now **continuous, short and dense**\n",
    "- The space encodes some notion of similarities between words\n",
    "- Cosine similarity makes more sense"
   ]
  },
  {
   "cell_type": "code",
   "execution_count": 17,
   "metadata": {
    "hide_input": false,
    "scrolled": true,
    "slideshow": {
     "slide_type": "fragment"
    }
   },
   "outputs": [
    {
     "data": {
      "image/png": "[encoded data removed]",
      "text/plain": [
       "<Figure size 1000x1000 with 1 Axes>"
      ]
     },
     "metadata": {},
     "output_type": "display_data"
    }
   ],
   "source": [
    "fig, ax = plt.subplots(figsize=(10,10))\n",
    "clip = 1\n",
    "ax.scatter(*Vts);\n",
    "vocab = count_vect.get_feature_names_out()\n",
    "for count, ((x,y), txt) in enumerate(zip(Vts.T, vocab)):\n",
    "    if np.linalg.norm([x,y]) > .5e-1:    \n",
    "        ax.annotate(txt, (x+0.01, y))\n",
    "if clip:\n",
    "    #plt.ylim(-0.175, -0.030)\n",
    "    plt.ylim(0.05, 0.15)\n",
    "plt.grid('off')"
   ]
  },
  {
   "cell_type": "markdown",
   "metadata": {
    "slideshow": {
     "slide_type": "subslide"
    }
   },
   "source": [
    "# 3. We can associate each new $k$ component (topic) with most important words\n",
    "\n",
    "<br><br>\n",
    "<div align='center'><img src=\"figs/mysvd.png\" width='65%' ></div>"
   ]
  },
  {
   "cell_type": "markdown",
   "metadata": {
    "slideshow": {
     "slide_type": "subslide"
    }
   },
   "source": [
    "# 3. We can associate each new $k$ component (topic) with most important words using $\\mbf{V}_k$\n",
    "<br>\n",
    "<div align='center'><img src=\"figs/mysvd2.png\" width='35%' ></div>"
   ]
  },
  {
   "cell_type": "code",
   "execution_count": 18,
   "metadata": {
    "slideshow": {
     "slide_type": "skip"
    }
   },
   "outputs": [],
   "source": [
    "k=0 #first component, first topic\n",
    "word_per_topic = 10\n",
    "topic = [vocab[idx_word] for idx_word in np.argsort(Vts[k,:])[:-word_per_topic-1:-1]]\n",
    "topic_weight = np.sort(Vts[k,:])[:-word_per_topic-1:-1]\n",
    "topic_neg = [vocab[idx_word] for idx_word in np.argsort(Vts[k,:])[:word_per_topic:]]\n",
    "#topic"
   ]
  },
  {
   "cell_type": "markdown",
   "metadata": {
    "slideshow": {
     "slide_type": "subslide"
    }
   },
   "source": [
    "# Topic $k=0$ associated with singular value $\\lambda_0$ = {{round(Ss[0])}}\n",
    "```python\n",
    "word_per_topic = 10\n",
    "topic = [vocab[idx_word] for idx_word in np.argsort(Vts[k,:])[:-word_per_topic-1:-1]]\n",
    "```\n",
    "\n",
    "{{pd.DataFrame(data=[topic])}}"
   ]
  },
  {
   "cell_type": "markdown",
   "metadata": {
    "slideshow": {
     "slide_type": "fragment"
    },
    "variables": {
     "pd.DataFrame(data=[topic_weight])": "<p><strong>NameError</strong>: name &#39;pd&#39; is not defined</p>\n"
    }
   },
   "source": [
    "####  Weights\n",
    "{{pd.DataFrame(data=[topic_weight])}}"
   ]
  },
  {
   "cell_type": "markdown",
   "metadata": {
    "slideshow": {
     "slide_type": "fragment"
    },
    "variables": {
     "pd.DataFrame(data=[topic_neg])": "<p><strong>NameError</strong>: name &#39;pd&#39; is not defined</p>\n"
    }
   },
   "source": [
    "####  Negative terms \n",
    "{{pd.DataFrame(data=[topic_neg])}}"
   ]
  },
  {
   "cell_type": "code",
   "execution_count": 19,
   "metadata": {
    "slideshow": {
     "slide_type": "skip"
    }
   },
   "outputs": [],
   "source": [
    "k=1 #second component, first topic\n",
    "topic = [vocab[idx_word] for idx_word in np.argsort(Vts[k,:])[:-word_per_topic-1:-1]]\n",
    "topic_weight = np.sort(Vts[k,:])[:-word_per_topic-1:-1]\n",
    "topic_neg = [vocab[idx_word] for idx_word in np.argsort(Vts[k,:])[:word_per_topic:]]\n",
    "#topic"
   ]
  },
  {
   "cell_type": "markdown",
   "metadata": {
    "slideshow": {
     "slide_type": "subslide"
    }
   },
   "source": [
    "# Topic $k=1$ associated with singular value $\\lambda_1$ = {{round(Ss[1])}}\n",
    "```python\n",
    "word_per_topic = 10\n",
    "k=1;topic = [vocab[idx_word] for idx_word in np.argsort(Vts[k,:])[:-word_per_topic-1:-1]]\n",
    "```\n",
    "\n",
    "{{pd.DataFrame(data=[topic])}}"
   ]
  },
  {
   "cell_type": "markdown",
   "metadata": {
    "slideshow": {
     "slide_type": "fragment"
    },
    "variables": {
     "pd.DataFrame(data=[topic_weight])": "<p><strong>NameError</strong>: name &#39;pd&#39; is not defined</p>\n"
    }
   },
   "source": [
    "####  Weights\n",
    "{{pd.DataFrame(data=[topic_weight])}}"
   ]
  },
  {
   "cell_type": "markdown",
   "metadata": {
    "slideshow": {
     "slide_type": "fragment"
    },
    "variables": {
     "pd.DataFrame(data=[topic_neg])": "<p><strong>NameError</strong>: name &#39;pd&#39; is not defined</p>\n"
    }
   },
   "source": [
    "####  Negative terms \n",
    "{{pd.DataFrame(data=[topic_neg])}}"
   ]
  },
  {
   "cell_type": "markdown",
   "metadata": {
    "slideshow": {
     "slide_type": "subslide"
    }
   },
   "source": [
    "# How to think about the new embedding space\n",
    "\n",
    "If you reduce the dimension from 3 to 2, you may think that the embedding is learning something like:\n",
    "\n",
    "$$[\\text{car}, \\text{truck}, \\text{flower}] \\longrightarrow [(1.3452 * \\text{car} + 0.2828 * \\text{truck}), \\text{flower}]$$"
   ]
  },
  {
   "cell_type": "markdown",
   "metadata": {
    "slideshow": {
     "slide_type": "subslide"
    }
   },
   "source": [
    "# 4. Dimensionality Reduction: \n",
    "## Projecting a document into lower-dimensional space\n",
    "\n",
    "We treat the document as a vector $\\mbf{d}$ that lives in a $V$ dimensional space. \n",
    "- We want to use the output of SVD to project $\\mbf{d}$ from V dimension to $k$ where $k\\ll V$. \n",
    "- Usually $k$ is the order of hundreds.\n",
    "\n",
    "We take the matrix $\\mbf{V}_k$ of the SVD decomposition that has dimension $k\\times V$ (this makes sense because $\\mbf{d}$ lives in the same $V$-D space too).\n",
    "$$ \\mbf{d}_k = \\underbrace{\\mbf{V}_k^{\\top}}_{k\\times V}\\underbrace{\\mbf{d}}_{V}$$"
   ]
  },
  {
   "cell_type": "markdown",
   "metadata": {
    "slideshow": {
     "slide_type": "subslide"
    }
   },
   "source": [
    "#  Why SVD?\n",
    "\n",
    "Consider $X$ has `term by document` matrix.\n",
    "\n",
    "\\begin{matrix} \n",
    " & \\textbf{d}_j \\\\\n",
    " & \\downarrow \\\\\n",
    "\\textbf{t}_i^T \\rightarrow &\n",
    "\\begin{bmatrix} \n",
    "x_{1,1} & \\dots & x_{1,j} & \\dots & x_{1,n} \\\\\n",
    "\\vdots & \\ddots & \\vdots & \\ddots & \\vdots \\\\\n",
    "x_{i,1} & \\dots & x_{i,j} &  \\dots & x_{i,n} \\\\\n",
    "\\vdots & \\ddots & \\vdots & \\ddots & \\vdots \\\\\n",
    "x_{m,1} & \\dots & x_{m,j} & \\dots & x_{m,n} \\\\\n",
    "\\end{bmatrix}\n",
    "\\end{matrix}\n",
    "\n",
    "- Assuming that you have $\\ell_2$ normalized vectors, you can compute the **similarity** between two terms by evaluating the dot product $\\textbf{t}_i^T\\textbf{t}_j$\n",
    "- If you want to compute it for all pairs just compute the covariance matrix: $\\mbf{X}\\mbf{X}^{\\top}$ which measure all the **correlations between terms in the document space.**"
   ]
  },
  {
   "cell_type": "markdown",
   "metadata": {
    "slideshow": {
     "slide_type": "subslide"
    }
   },
   "source": [
    "# Why SVD: decompose correlation of the data\n",
    "\n",
    "$\\mbf{X}\\mbf{X}^{\\top}$ which measures all the **correlations between terms in the document space.** What if we decompose this correlation?"
   ]
  },
  {
   "cell_type": "markdown",
   "metadata": {
    "slideshow": {
     "slide_type": "fragment"
    }
   },
   "source": [
    "\\begin{matrix}\n",
    "\\mathbf{X} \\mathbf{X}^T &=& (\\mathbf{U} \\mathbf{S} \\mathbf{V}^T) (\\mathbf{U} \\mathbf{S} \\mathbf{V}^T)^T = (\\mathbf{U} \\mathbf{S} \\mathbf{V}^T) (\\mathbf{V}^{T^T} \\mathbf{S}^T \\mathbf{U}^T) = \\mathbf{U} \\mathbf{S} \\mathbf{V}^T \\mathbf{V} \\mathbf{S}^T \\mathbf{U}^T = \\mathbf{U} \\underbrace{\\mathbf{S} \\mathbf{S}^T}_{\\Sigma} \\mathbf{U}^T  \\\\\n",
    "\\end{matrix}\n",
    "\n",
    "Singular Value Decomposition of $\\mathbf{X}$ is related to **Eigendecomposition** of the covariance of $\\mathbf{X}$. \n",
    "\n",
    "Eigenvalue $\\sigma_i = \\lambda_i^2 \\quad\\longrightarrow\\quad$ Eigenvalue = squared singular value"
   ]
  },
  {
   "cell_type": "markdown",
   "metadata": {
    "slideshow": {
     "slide_type": "subslide"
    }
   },
   "source": [
    "# Eigendecomposition and Singular Value Decomposition\n",
    "\n",
    "| Method \t| X \t| Decomposition \t|\n",
    "|--------\t|---\t|---------------\t|\n",
    "|     SVD   | any  \t|   $\\mbf{X}=\\mbf{U}\\mbf{\\Sigma}\\mbf{V}^{\\top}$            \t|\n",
    "|     Eigen   | square  \t|   $\\mbf{X}=\\mbf{U}\\mbf{\\Sigma}\\mbf{U}^{-1}$            \t|"
   ]
  },
  {
   "cell_type": "markdown",
   "metadata": {
    "slideshow": {
     "slide_type": "subslide"
    }
   },
   "source": [
    "# Decomposition as a Geometric Pipeline\n",
    "\n",
    "$$\\mathbf{A}\\mathbf{x} = \\underbrace{(\\mathbf{U} \n",
    "\\underbrace{(\\mathbf{\\Sigma}\\underbrace{(\\mathbf{U}^{-1}\\mathbf{x})}_{\\text{1st step/rotate}})}_{\\text{2nd step/scale}})}_{\\text{3rd step/rotate}}$$"
   ]
  },
  {
   "cell_type": "markdown",
   "metadata": {
    "slideshow": {
     "slide_type": "subslide"
    }
   },
   "source": [
    "| Method   \t| Step 1 \t| Step 2             \t| Step 3 \t|\n",
    "|----------\t|--------\t|--------------------\t|--------\t|\n",
    "| Geometry \t| rotate \t| scale/reflect axis \t| rotate \t|\n",
    "| SVD      \t|   $\\mbf{V}^T$     \t|   $\\mbf{\\Sigma}$                 \t|  $\\mbf{U}$      \t|\n",
    "| Geometry \t| rotate \t| scale/reflect axis \t| rotate \t|\n",
    "| Eig      \t|  $\\mbf{V}^{-1}$        \t|     $\\mbf{\\Sigma}$                 \t| $\\mbf{U}$         \t|"
   ]
  },
  {
   "cell_type": "markdown",
   "metadata": {
    "slideshow": {
     "slide_type": "subslide"
    }
   },
   "source": [
    "# Problems with LSA and SVD\n",
    "\n",
    "The dimensions of the matrix change very often (new words are added very frequently and corpus changes in size). \n",
    "SVD based methods do not scale well for big matrices and it is hard to incorporate new words or documents.\n",
    "- The matrix is extremely sparse since most words do not co-occur.\n",
    "- The matrix is very high dimensional in general (≈ $10^6 × 10^6$)\n",
    "- Quadratic cost to train (i.e. to perform SVD)\n",
    "- Requires the incorporation of some hacks on X to account for the drastic imbalance in word frequency"
   ]
  },
  {
   "cell_type": "markdown",
   "metadata": {
    "slideshow": {
     "slide_type": "subslide"
    }
   },
   "source": [
    "# Applications: Topic modeling with Gensim\n",
    "<br/>\n",
    "<div align='center'><img src=\"figs/gensim.png\" width='65%' ></div>"
   ]
  },
  {
   "cell_type": "markdown",
   "metadata": {
    "slideshow": {
     "slide_type": "subslide"
    }
   },
   "source": [
    "# Gensim library\n",
    "\n",
    "- Free python library for topic modeling\n",
    "- It contains **LSA** and also **word2vec**\n",
    "- No deeplearning yet!\n",
    "\n",
    "<div align='center'><img src=\"figs/gen_sim_lsa.png\" width='65%' ></div>\n",
    "\n"
   ]
  },
  {
   "cell_type": "markdown",
   "metadata": {
    "slideshow": {
     "slide_type": "slide"
    }
   },
   "source": [
    "# Introduction to word2vec"
   ]
  },
  {
   "cell_type": "markdown",
   "metadata": {
    "slideshow": {
     "slide_type": "subslide"
    }
   },
   "source": [
    "# Introduction  to word2vec\n",
    "\n",
    "Word2vec [Mikolov et al. 2013] is a framework for **learning word vectors**. \n",
    "\n",
    "The objective is the same to what we saw in **LSA**."
   ]
  },
  {
   "cell_type": "markdown",
   "metadata": {
    "slideshow": {
     "slide_type": "subslide"
    }
   },
   "source": [
    "# Introduction to word2vec\n",
    "\n",
    "- Still learn short, dense and static embeddings.\n",
    "- Static embeddings: one fixed embedding for each word in the vocabulary\n",
    "\n",
    "Idea: apply **machine learning** and use the text as **self-supervision**\n",
    "\n",
    ">The intuition of word2vec is that instead of counting how often each word w occurs near, say, apricot, we’ll instead train a classifier on a binary prediction task: “Is\n",
    "word w likely to show up near apricot?” We don’t actually care about this prediction\n",
    "task; instead we’ll take the learned classifier weights as the word embeddings."
   ]
  },
  {
   "cell_type": "markdown",
   "metadata": {
    "slideshow": {
     "slide_type": "subslide"
    }
   },
   "source": [
    "# Recap of concepts to understand word2vec\n",
    "\n",
    "- Self-Supervision\n",
    "- Binary Logistic Regression\n",
    "- Softmax classifier (Multinomial Logistic Regression)\n",
    "- Optimization with Gradient Descent"
   ]
  },
  {
   "cell_type": "markdown",
   "metadata": {
    "slideshow": {
     "slide_type": "subslide"
    }
   },
   "source": [
    "# Self-Supervision\n",
    "\n",
    "Let's play a game and fill the missing word:\n",
    "\n",
    "```\n",
    "Yesterday, it was a hot summer day in Rome, so I went to a nice \n",
    "gelateria and I bought a delicious yet melting ____________\n",
    "```\n",
    "<br/>\n",
    "\n",
    "| word1   \t| word2 \t| word3             \t| word4\t| sum | \n",
    "|----------\t|--------\t|--------------------\t|--------\t| --------\t|\n",
    "| strolley | ice-cream | parrot|  gelato| |\n",
    "| prob=? | prob=? | prob=?|  prob=?| 1 |\n",
    "\n",
    "**Masking the input:** with self-supervision you have the ground-truth word because it is in the text itself. You simple remove a word and ask the machine to predict the removed word, given some context.\n",
    "\n"
   ]
  },
  {
   "cell_type": "markdown",
   "metadata": {
    "slideshow": {
     "slide_type": "subslide"
    }
   },
   "source": [
    "# Logistic Regression\n",
    "\n",
    "- The name is a bit _misleading_: it is used as a **discriminative <ins>classifier<ins>**\n",
    "- Discriminative means we model $p(y|x)$ _what is the probability for the label $\\operatorname{prob}(Y=y)$ given $x$?_\n",
    "- Very commonly used algorithm"
   ]
  },
  {
   "cell_type": "markdown",
   "metadata": {
    "slideshow": {
     "slide_type": "subslide"
    }
   },
   "source": [
    "# Logistic Regression\n",
    "\n",
    "- $\\mbf{x} \\in \\mathbb{R}^d \\quad y \\in \\{0,1\\}$\n",
    "\n",
    "$$ \\begin{cases}\n",
    "y=1  \\quad \\text{positive example}\\\\\n",
    "y=0 \\quad \\text{negative example}\\\\\n",
    "\\end{cases} $$"
   ]
  },
  {
   "cell_type": "markdown",
   "metadata": {
    "slideshow": {
     "slide_type": "subslide"
    },
    "variables": {
     "import numpy as np;import matplotlib.pyplot as plt;x = np.arange(-20.0, 20.0, 0.1);y = 1/(1+np.exp(-x));_=plt.plot(x,y);": "<img src=\"data:image/png;base64,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\n\"/>"
    }
   },
   "source": [
    "# Logistic Regression (also called Logit)\n",
    "\n",
    "\n",
    "$$f_{\\boldsymbol{\\theta}}(\\mbf{x}) \\doteq \\sigma\\left(  \\bmf{\\theta}^T\\mbf{x} \\right)$$\n",
    "\n",
    "where:\n",
    "\n",
    "$$ \\sigma(z)= \\frac{1}{1+\\exp^{-z}} \\quad \\text{sigmoid or logistic function}$$\n",
    "<br><br> <center>Smooth and Differentiable alternative to sign</center>\n",
    "{{import numpy as np;import matplotlib.pyplot as plt;x = np.arange(-20.0, 20.0, 0.1);y = 1/(1+np.exp(-x));_=plt.plot(x,y);}}"
   ]
  },
  {
   "cell_type": "markdown",
   "metadata": {
    "slideshow": {
     "slide_type": "subslide"
    }
   },
   "source": [
    "# Logistic Regression - Probabilistic View\n",
    "\n",
    "We model **conditional probability of $y|x$:**\n",
    "\n",
    "$$ \\begin{cases}\n",
    "p(y=1| \\mbf{x};\\bmf{\\theta}) = f_{\\boldsymbol{\\theta}}\\\\\n",
    "p(y=0| \\mbf{x};\\bmf{\\theta}) = ?\\\\\n",
    "\\end{cases} $$\n",
    "\n",
    "<br><br>\n",
    "$$f_{\\boldsymbol{\\theta}}(\\mbf{x}) \\doteq \\sigma\\left(  \\bmf{\\theta}^T\\mbf{x} \\right)$$\n",
    "\n",
    "where:\n",
    "\n",
    "$$ \\sigma(z)= \\frac{1}{1+\\exp^{-z}} \\quad \\text{sigmoid or logistic function}$$\n"
   ]
  },
  {
   "cell_type": "markdown",
   "metadata": {
    "slideshow": {
     "slide_type": "subslide"
    }
   },
   "source": [
    "# Logistic Regression - Probabilistic View\n",
    "\n",
    "We model **conditional probability of $y|x$:**\n",
    "\n",
    "$$ \\begin{cases}\n",
    "p(y=1| \\mbf{x};\\bmf{\\theta}) = f_{\\boldsymbol{\\theta}}\\\\\n",
    "p(y=0| \\mbf{x};\\bmf{\\theta}) = 1- f_{\\boldsymbol{\\theta}}\\\n",
    "\\end{cases} $$\n",
    "\n",
    "<br><br>\n",
    "$$f_{\\boldsymbol{\\theta}}(\\mbf{x}) \\doteq \\sigma\\left(  \\bmf{\\theta}^T\\mbf{x} \\right)$$\n",
    "\n",
    "where:\n",
    "\n",
    "$$ \\sigma(z)= \\frac{1}{1+\\exp^{-z}} \\quad \\text{sigmoid or logistic function}$$\n",
    "\n",
    "$$\\lim_{z\\mapsto \\infty}\\sigma(z)=1$$\n",
    "$$\\lim_{z\\mapsto -\\infty}\\sigma(z)=0$$"
   ]
  },
  {
   "cell_type": "markdown",
   "metadata": {
    "slideshow": {
     "slide_type": "subslide"
    }
   },
   "source": [
    "# Logistic Regression - Probabilistic View\n",
    "\n",
    "We model **conditional probability of $y|x$:**\n",
    "\n",
    "$$ \\begin{cases}\n",
    "p(y=1| \\mbf{x};\\bmf{\\theta}) = f_{\\boldsymbol{\\theta}}\\\\\n",
    "p(y=0| \\mbf{x};\\bmf{\\theta}) = 1- f_{\\boldsymbol{\\theta}}\\\n",
    "\\end{cases} $$\n",
    "\n",
    "<br><br>\n",
    "$$f_{\\boldsymbol{\\theta}}(\\mbf{x}) \\doteq \\frac{1}{1+\\exp^{-\\bmf{\\theta}^T\\mbf{x}}}$$\n"
   ]
  },
  {
   "cell_type": "markdown",
   "metadata": {
    "slideshow": {
     "slide_type": "subslide"
    }
   },
   "source": [
    "# Multinomial Logistic Regression with SoftMax\n",
    "\n",
    "We model **conditional probability of $y|x$:**\n",
    "\n",
    "$$ \\begin{cases}\n",
    "p(y=1| \\mbf{x};\\mbf{W},\\mbf{b}) = p_1 = \\bmf{\\sigma}_1\\left(  \\mbf{W}\\mbf{x} + \\mbf{b} \\right)\\\\\n",
    "p(y=2| \\mbf{x};\\mbf{W},\\mbf{b}) = p_2 =  \\bmf{\\sigma}_2\\left(  \\mbf{W}\\mbf{x} + \\mbf{b} \\right)\\\\\n",
    "\\ldots \\\\\n",
    "p(y=K| \\mbf{x};\\mbf{W},\\mbf{b}) = p_K =  \\bmf{\\sigma}_K\\left(  \\mbf{W}\\mbf{x} + \\mbf{b} \\right)\\\\\n",
    "\\end{cases} $$\n",
    "\n",
    "<br><br>\n",
    "$$f_{\\boldsymbol{\\theta}}(\\mbf{x}) \\doteq \\mbf{z} \\doteq \\bmf{\\sigma}\\left(  \\mbf{W}\\mbf{x} + \\mbf{b} \\right)$$\n",
    "\n",
    "where:\n",
    "\n",
    "$$ \\bmf{\\sigma}_i(z)= \\frac{e^{z_i}}{\\sum_{k=1}^K e^{z_k}} \\quad \\text{Softmax function}$$\n"
   ]
  },
  {
   "cell_type": "markdown",
   "metadata": {
    "slideshow": {
     "slide_type": "subslide"
    }
   },
   "source": [
    "# How SoftMax transforms logits into probability\n",
    "\n",
    "<div align='center'><img src=\"figs/softmax_prob.png\" width='75%' ></div>"
   ]
  },
  {
   "cell_type": "markdown",
   "metadata": {
    "slideshow": {
     "slide_type": "subslide"
    }
   },
   "source": [
    "# SoftMax Regression, More Compact Form\n",
    "\n",
    "\n",
    "you can think $\\mbf{z} = \\mbf{W}\\mbf{x}+\\mbf{b}$ as **unormalized log-probability** of each class.\n",
    "\n",
    "<br>\n",
    "$$ p(\\mbf{y}| \\mbf{x};\\mbf{W},\\mbf{b}) = \\frac{\\exp({\\mbf{W}\\mbf{x}+\\mbf{b})}}{\\sum_{k=1}^K\\exp({\\mbf{W}_k\\mbf{x}+\\mbf{b}_k)}} $$\n",
    "\n",
    "\n"
   ]
  },
  {
   "cell_type": "markdown",
   "metadata": {
    "slideshow": {
     "slide_type": "subslide"
    }
   },
   "source": [
    "# Learning weights through Stochastic Gradient Descent (SGD)\n",
    "\n",
    "We need to minimize $$ \\mathcal{J}(\\mbf{\\theta};\\mbf{x},y)= \\frac{1}{2} \\sum_{i=1}^{n}\\mathcal{L}\\big(y_{i}, f_{\\boldsymbol{\\theta}}(\\mbf{x}_i)\\big)$$  so to find:\n",
    "\n",
    "$$\\mbf{\\theta}^{\\star} = \\arg\\min_{\\mbf{\\theta}} \\mathcal{J}(\\mbf{\\theta};\\mbf{x},y) $$"
   ]
  },
  {
   "cell_type": "markdown",
   "metadata": {
    "slideshow": {
     "slide_type": "subslide"
    }
   },
   "source": [
    "# Gradient Descent Algorithm as an Iterative Method\n",
    "\n",
    "<ins>**Idea: make little step so that locally after each step the cost is lower than before**</ins><br>\n",
    "Input: Training set $\\{\\mbf{x}_i,y_i\\}$, learning rate  $\\gamma$, a small value in $\\{0.1,\\ldots,\\texttt{1e-6}\\}$."
   ]
  },
  {
   "cell_type": "markdown",
   "metadata": {
    "slideshow": {
     "slide_type": "fragment"
    }
   },
   "source": [
    "1. **Initialization - Very Important if the function is not strictly convex** \n",
    "$$\\bmf{\\theta} \\doteq \\mbf{0}^T$$ Set it to all zeros or random initialization from a distribution.\n",
    "2. Repeat until **convergence**:\n",
    "    - Compute the gradient of the loss wrt to the parameters $\\bmf{\\theta}$ given **all the training set**\n",
    "    - Take a small step in the opposite direction of steepest ascent **(so steepest descent).**<br/><br/>\n",
    "     $$\\bmf{\\theta} \\leftarrow  \\bmf{\\theta} -\\gamma \\bmf{\\nabla}_{\\bmf{\\theta}}\\mathcal{J}(\\mbf{\\theta};\\mbf{x},y)$$\n",
    "3. When convergence is reached, you final estimate is in $\\bmf{\\theta}$"
   ]
  },
  {
   "cell_type": "markdown",
   "metadata": {
    "slideshow": {
     "slide_type": "subslide"
    }
   },
   "source": [
    "# Convergence\n",
    "\n",
    "$$\\big\\{\\bmf{\\theta}_{t=0},\\bmf{\\theta}_{t=1}, \\ldots, \\bmf{\\theta}_{t=100} \\big\\}$$\n",
    "\n",
    "### 0) <ins>Always:</ins> validation loss/metric _(early stopping)_ (required)\n",
    "\n",
    "### 1) No significant decrease in the loss function (preferred)\n",
    "\n",
    "$$\\mid \\mathcal{J}(\\mbf{\\theta};\\mbf{x},y)_{t} - \\mathcal{J}(\\mbf{\\theta};\\mbf{x},y)_{t-1}   \\mid $$\n",
    "\n",
    "### 1) No variations in the parameters\n",
    "\n",
    "$$\\mid\\mid \\mbf{\\theta}_{t} - \\mbf{\\theta}_{t-1}   \\mid\\mid $$\n",
    "\n",
    "### 2) Gradient Norm goes to zero\n",
    "\n",
    "$$\\mid\\mid \\bmf{\\nabla}_{\\bmf{\\theta}}\\mathcal{J}(\\mbf{\\theta};\\mbf{x},y)   \\mid\\mid \\rightarrow 0 $$\n"
   ]
  },
  {
   "cell_type": "code",
   "execution_count": 20,
   "metadata": {
    "hide_input": false,
    "slideshow": {
     "slide_type": "skip"
    }
   },
   "outputs": [
    {
     "data": {
      "image/png": "[encoded data removed]",
      "text/plain": [
       "<Figure size 700x700 with 1 Axes>"
      ]
     },
     "metadata": {},
     "output_type": "display_data"
    }
   ],
   "source": [
    "%matplotlib inline\n",
    "from sklearn import linear_model, datasets\n",
    "from matplotlib import pyplot as plt\n",
    "import numpy as np\n",
    "\n",
    "n_samples = 100\n",
    "size = 7\n",
    "\n",
    "X, y, coef_gt = datasets.make_regression(\n",
    "    n_samples=n_samples,\n",
    "    n_features=1,\n",
    "    n_informative=1,\n",
    "    noise=20,\n",
    "    coef=True,\n",
    "    random_state=42,\n",
    ")\n",
    "fig = plt.figure(figsize=(size, size))\n",
    "ax = fig.add_subplot()\n",
    "# Linear Regression\n",
    "bias = np.ones((X.shape[0], 1))\n",
    "X = np.hstack((X, bias))\n",
    "theta = np.linalg.inv(X.T@X)@X.T@y\n",
    "# Now MeshGrid\n",
    "Xmin, Xmax = X.min(), X.max()\n",
    "x_interp = np.linspace(Xmin, Xmax, 100)\n",
    "x_interp = x_interp.reshape(-1,1)\n",
    "x_interp = np.c_[x_interp,np.ones_like(x_interp)]\n",
    "y_interp = np.dot(theta, x_interp.T)\n",
    "ax.scatter(x_interp[:,0], y_interp, alpha=0.7, marker='.')\n",
    "ax.scatter(X[..., 0], y, c='red', marker='o')\n",
    "ax.set_xlabel('$x$');\n",
    "ax.set_ylabel('$y$');"
   ]
  },
  {
   "cell_type": "code",
   "execution_count": 21,
   "metadata": {
    "slideshow": {
     "slide_type": "skip"
    }
   },
   "outputs": [],
   "source": [
    "# do mesh grid on possible theta, evaluate the loss and plot the countf\n",
    "theta_sampling = 50\n",
    "theta_space = np.linspace(-200, 200, theta_sampling)\n",
    "xxt, yyt = np.meshgrid(theta_space, theta_space)\n",
    "xxt = xxt.flatten()\n",
    "yyt = yyt.flatten()\n",
    "all_coeff = np.stack((xxt, yyt), axis=1)\n",
    "loss = 0.5*1"
   ]
  },
  {
   "cell_type": "code",
   "execution_count": 22,
   "metadata": {
    "slideshow": {
     "slide_type": "skip"
    }
   },
   "outputs": [],
   "source": [
    "losses = []\n",
    "for coeff in all_coeff:\n",
    "    diff = np.dot(X, coeff.T) - y\n",
    "    losses.append(0.5*np.dot(diff.T, diff))\n",
    "losses = np.array(losses)\n",
    "losses = losses.reshape(theta_sampling, theta_sampling)\n",
    "xxt = xxt.reshape(theta_sampling, theta_sampling)\n",
    "yyt = yyt.reshape(theta_sampling, theta_sampling)"
   ]
  },
  {
   "cell_type": "code",
   "execution_count": 23,
   "metadata": {
    "slideshow": {
     "slide_type": "skip"
    }
   },
   "outputs": [
    {
     "data": {
      "image/png": "[encoded data removed]",
      "text/plain": [
       "<Figure size 640x480 with 2 Axes>"
      ]
     },
     "metadata": {},
     "output_type": "display_data"
    }
   ],
   "source": [
    "plt.rcParams['axes.grid'] = False\n",
    "plt.contourf(xxt, yyt, losses, levels=50, cmap='jet')\n",
    "plt.colorbar()\n",
    "plt.scatter(coef_gt, 0, color='red', marker='o', s=50)\n",
    "plt.axis('scaled')\n",
    "plt.xlabel('$theta_1$')\n",
    "plt.ylabel('$theta_2$');"
   ]
  },
  {
   "cell_type": "markdown",
   "metadata": {
    "slideshow": {
     "slide_type": "subslide"
    }
   },
   "source": [
    "# Ready for an awesome demo?"
   ]
  },
  {
   "cell_type": "code",
   "execution_count": 24,
   "metadata": {
    "hide_input": true,
    "scrolled": true,
    "slideshow": {
     "slide_type": "subslide"
    }
   },
   "outputs": [
    {
     "data": {
      "application/javascript": [
       "/* Put everything inside the global mpl namespace */\n",
       "/* global mpl */\n",
       "window.mpl = {};\n",
       "\n",
       "mpl.get_websocket_type = function () {\n",
       "    if (typeof WebSocket !== 'undefined') {\n",
       "        return WebSocket;\n",
       "    } else if (typeof MozWebSocket !== 'undefined') {\n",
       "        return MozWebSocket;\n",
       "    } else {\n",
       "        alert(\n",
       "            'Your browser does not have WebSocket support. ' +\n",
       "                'Please try Chrome, Safari or Firefox ≥ 6. ' +\n",
       "                'Firefox 4 and 5 are also supported but you ' +\n",
       "                'have to enable WebSockets in about:config.'\n",
       "        );\n",
       "    }\n",
       "};\n",
       "\n",
       "mpl.figure = function (figure_id, websocket, ondownload, parent_element) {\n",
       "    this.id = figure_id;\n",
       "\n",
       "    this.ws = websocket;\n",
       "\n",
       "    this.supports_binary = this.ws.binaryType !== undefined;\n",
       "\n",
       "    if (!this.supports_binary) {\n",
       "        var warnings = document.getElementById('mpl-warnings');\n",
       "        if (warnings) {\n",
       "            warnings.style.display = 'block';\n",
       "            warnings.textContent =\n",
       "                'This browser does not support binary websocket messages. ' +\n",
       "                'Performance may be slow.';\n",
       "        }\n",
       "    }\n",
       "\n",
       "    this.imageObj = new Image();\n",
       "\n",
       "    this.context = undefined;\n",
       "    this.message = undefined;\n",
       "    this.canvas = undefined;\n",
       "    this.rubberband_canvas = undefined;\n",
       "    this.rubberband_context = undefined;\n",
       "    this.format_dropdown = undefined;\n",
       "\n",
       "    this.image_mode = 'full';\n",
       "\n",
       "    this.root = document.createElement('div');\n",
       "    this.root.setAttribute('style', 'display: inline-block');\n",
       "    this._root_extra_style(this.root);\n",
       "\n",
       "    parent_element.appendChild(this.root);\n",
       "\n",
       "    this._init_header(this);\n",
       "    this._init_canvas(this);\n",
       "    this._init_toolbar(this);\n",
       "\n",
       "    var fig = this;\n",
       "\n",
       "    this.waiting = false;\n",
       "\n",
       "    this.ws.onopen = function () {\n",
       "        fig.send_message('supports_binary', { value: fig.supports_binary });\n",
       "        fig.send_message('send_image_mode', {});\n",
       "        if (fig.ratio !== 1) {\n",
       "            fig.send_message('set_device_pixel_ratio', {\n",
       "                device_pixel_ratio: fig.ratio,\n",
       "            });\n",
       "        }\n",
       "        fig.send_message('refresh', {});\n",
       "    };\n",
       "\n",
       "    this.imageObj.onload = function () {\n",
       "        if (fig.image_mode === 'full') {\n",
       "            // Full images could contain transparency (where diff images\n",
       "            // almost always do), so we need to clear the canvas so that\n",
       "            // there is no ghosting.\n",
       "            fig.context.clearRect(0, 0, fig.canvas.width, fig.canvas.height);\n",
       "        }\n",
       "        fig.context.drawImage(fig.imageObj, 0, 0);\n",
       "    };\n",
       "\n",
       "    this.imageObj.onunload = function () {\n",
       "        fig.ws.close();\n",
       "    };\n",
       "\n",
       "    this.ws.onmessage = this._make_on_message_function(this);\n",
       "\n",
       "    this.ondownload = ondownload;\n",
       "};\n",
       "\n",
       "mpl.figure.prototype._init_header = function () {\n",
       "    var titlebar = document.createElement('div');\n",
       "    titlebar.classList =\n",
       "        'ui-dialog-titlebar ui-widget-header ui-corner-all ui-helper-clearfix';\n",
       "    var titletext = document.createElement('div');\n",
       "    titletext.classList = 'ui-dialog-title';\n",
       "    titletext.setAttribute(\n",
       "        'style',\n",
       "        'width: 100%; text-align: center; padding: 3px;'\n",
       "    );\n",
       "    titlebar.appendChild(titletext);\n",
       "    this.root.appendChild(titlebar);\n",
       "    this.header = titletext;\n",
       "};\n",
       "\n",
       "mpl.figure.prototype._canvas_extra_style = function (_canvas_div) {};\n",
       "\n",
       "mpl.figure.prototype._root_extra_style = function (_canvas_div) {};\n",
       "\n",
       "mpl.figure.prototype._init_canvas = function () {\n",
       "    var fig = this;\n",
       "\n",
       "    var canvas_div = (this.canvas_div = document.createElement('div'));\n",
       "    canvas_div.setAttribute('tabindex', '0');\n",
       "    canvas_div.setAttribute(\n",
       "        'style',\n",
       "        'border: 1px solid #ddd;' +\n",
       "            'box-sizing: content-box;' +\n",
       "            'clear: both;' +\n",
       "            'min-height: 1px;' +\n",
       "            'min-width: 1px;' +\n",
       "            'outline: 0;' +\n",
       "            'overflow: hidden;' +\n",
       "            'position: relative;' +\n",
       "            'resize: both;' +\n",
       "            'z-index: 2;'\n",
       "    );\n",
       "\n",
       "    function on_keyboard_event_closure(name) {\n",
       "        return function (event) {\n",
       "            return fig.key_event(event, name);\n",
       "        };\n",
       "    }\n",
       "\n",
       "    canvas_div.addEventListener(\n",
       "        'keydown',\n",
       "        on_keyboard_event_closure('key_press')\n",
       "    );\n",
       "    canvas_div.addEventListener(\n",
       "        'keyup',\n",
       "        on_keyboard_event_closure('key_release')\n",
       "    );\n",
       "\n",
       "    this._canvas_extra_style(canvas_div);\n",
       "    this.root.appendChild(canvas_div);\n",
       "\n",
       "    var canvas = (this.canvas = document.createElement('canvas'));\n",
       "    canvas.classList.add('mpl-canvas');\n",
       "    canvas.setAttribute(\n",
       "        'style',\n",
       "        'box-sizing: content-box;' +\n",
       "            'pointer-events: none;' +\n",
       "            'position: relative;' +\n",
       "            'z-index: 0;'\n",
       "    );\n",
       "\n",
       "    this.context = canvas.getContext('2d');\n",
       "\n",
       "    var backingStore =\n",
       "        this.context.backingStorePixelRatio ||\n",
       "        this.context.webkitBackingStorePixelRatio ||\n",
       "        this.context.mozBackingStorePixelRatio ||\n",
       "        this.context.msBackingStorePixelRatio ||\n",
       "        this.context.oBackingStorePixelRatio ||\n",
       "        this.context.backingStorePixelRatio ||\n",
       "        1;\n",
       "\n",
       "    this.ratio = (window.devicePixelRatio || 1) / backingStore;\n",
       "\n",
       "    var rubberband_canvas = (this.rubberband_canvas = document.createElement(\n",
       "        'canvas'\n",
       "    ));\n",
       "    rubberband_canvas.setAttribute(\n",
       "        'style',\n",
       "        'box-sizing: content-box;' +\n",
       "            'left: 0;' +\n",
       "            'pointer-events: none;' +\n",
       "            'position: absolute;' +\n",
       "            'top: 0;' +\n",
       "            'z-index: 1;'\n",
       "    );\n",
       "\n",
       "    // Apply a ponyfill if ResizeObserver is not implemented by browser.\n",
       "    if (this.ResizeObserver === undefined) {\n",
       "        if (window.ResizeObserver !== undefined) {\n",
       "            this.ResizeObserver = window.ResizeObserver;\n",
       "        } else {\n",
       "            var obs = _JSXTOOLS_RESIZE_OBSERVER({});\n",
       "            this.ResizeObserver = obs.ResizeObserver;\n",
       "        }\n",
       "    }\n",
       "\n",
       "    this.resizeObserverInstance = new this.ResizeObserver(function (entries) {\n",
       "        var nentries = entries.length;\n",
       "        for (var i = 0; i < nentries; i++) {\n",
       "            var entry = entries[i];\n",
       "            var width, height;\n",
       "            if (entry.contentBoxSize) {\n",
       "                if (entry.contentBoxSize instanceof Array) {\n",
       "                    // Chrome 84 implements new version of spec.\n",
       "                    width = entry.contentBoxSize[0].inlineSize;\n",
       "                    height = entry.contentBoxSize[0].blockSize;\n",
       "                } else {\n",
       "                    // Firefox implements old version of spec.\n",
       "                    width = entry.contentBoxSize.inlineSize;\n",
       "                    height = entry.contentBoxSize.blockSize;\n",
       "                }\n",
       "            } else {\n",
       "                // Chrome <84 implements even older version of spec.\n",
       "                width = entry.contentRect.width;\n",
       "                height = entry.contentRect.height;\n",
       "            }\n",
       "\n",
       "            // Keep the size of the canvas and rubber band canvas in sync with\n",
       "            // the canvas container.\n",
       "            if (entry.devicePixelContentBoxSize) {\n",
       "                // Chrome 84 implements new version of spec.\n",
       "                canvas.setAttribute(\n",
       "                    'width',\n",
       "                    entry.devicePixelContentBoxSize[0].inlineSize\n",
       "                );\n",
       "                canvas.setAttribute(\n",
       "                    'height',\n",
       "                    entry.devicePixelContentBoxSize[0].blockSize\n",
       "                );\n",
       "            } else {\n",
       "                canvas.setAttribute('width', width * fig.ratio);\n",
       "                canvas.setAttribute('height', height * fig.ratio);\n",
       "            }\n",
       "            /* This rescales the canvas back to display pixels, so that it\n",
       "             * appears correct on HiDPI screens. */\n",
       "            canvas.style.width = width + 'px';\n",
       "            canvas.style.height = height + 'px';\n",
       "\n",
       "            rubberband_canvas.setAttribute('width', width);\n",
       "            rubberband_canvas.setAttribute('height', height);\n",
       "\n",
       "            // And update the size in Python. We ignore the initial 0/0 size\n",
       "            // that occurs as the element is placed into the DOM, which should\n",
       "            // otherwise not happen due to the minimum size styling.\n",
       "            if (fig.ws.readyState == 1 && width != 0 && height != 0) {\n",
       "                fig.request_resize(width, height);\n",
       "            }\n",
       "        }\n",
       "    });\n",
       "    this.resizeObserverInstance.observe(canvas_div);\n",
       "\n",
       "    function on_mouse_event_closure(name) {\n",
       "        /* User Agent sniffing is bad, but WebKit is busted:\n",
       "         * https://bugs.webkit.org/show_bug.cgi?id=144526\n",
       "         * https://bugs.webkit.org/show_bug.cgi?id=181818\n",
       "         * The worst that happens here is that they get an extra browser\n",
       "         * selection when dragging, if this check fails to catch them.\n",
       "         */\n",
       "        var UA = navigator.userAgent;\n",
       "        var isWebKit = /AppleWebKit/.test(UA) && !/Chrome/.test(UA);\n",
       "        if(isWebKit) {\n",
       "            return function (event) {\n",
       "                /* This prevents the web browser from automatically changing to\n",
       "                 * the text insertion cursor when the button is pressed. We\n",
       "                 * want to control all of the cursor setting manually through\n",
       "                 * the 'cursor' event from matplotlib */\n",
       "                event.preventDefault()\n",
       "                return fig.mouse_event(event, name);\n",
       "            };\n",
       "        } else {\n",
       "            return function (event) {\n",
       "                return fig.mouse_event(event, name);\n",
       "            };\n",
       "        }\n",
       "    }\n",
       "\n",
       "    canvas_div.addEventListener(\n",
       "        'mousedown',\n",
       "        on_mouse_event_closure('button_press')\n",
       "    );\n",
       "    canvas_div.addEventListener(\n",
       "        'mouseup',\n",
       "        on_mouse_event_closure('button_release')\n",
       "    );\n",
       "    canvas_div.addEventListener(\n",
       "        'dblclick',\n",
       "        on_mouse_event_closure('dblclick')\n",
       "    );\n",
       "    // Throttle sequential mouse events to 1 every 20ms.\n",
       "    canvas_div.addEventListener(\n",
       "        'mousemove',\n",
       "        on_mouse_event_closure('motion_notify')\n",
       "    );\n",
       "\n",
       "    canvas_div.addEventListener(\n",
       "        'mouseenter',\n",
       "        on_mouse_event_closure('figure_enter')\n",
       "    );\n",
       "    canvas_div.addEventListener(\n",
       "        'mouseleave',\n",
       "        on_mouse_event_closure('figure_leave')\n",
       "    );\n",
       "\n",
       "    canvas_div.addEventListener('wheel', function (event) {\n",
       "        if (event.deltaY < 0) {\n",
       "            event.step = 1;\n",
       "        } else {\n",
       "            event.step = -1;\n",
       "        }\n",
       "        on_mouse_event_closure('scroll')(event);\n",
       "    });\n",
       "\n",
       "    canvas_div.appendChild(canvas);\n",
       "    canvas_div.appendChild(rubberband_canvas);\n",
       "\n",
       "    this.rubberband_context = rubberband_canvas.getContext('2d');\n",
       "    this.rubberband_context.strokeStyle = '#000000';\n",
       "\n",
       "    this._resize_canvas = function (width, height, forward) {\n",
       "        if (forward) {\n",
       "            canvas_div.style.width = width + 'px';\n",
       "            canvas_div.style.height = height + 'px';\n",
       "        }\n",
       "    };\n",
       "\n",
       "    // Disable right mouse context menu.\n",
       "    canvas_div.addEventListener('contextmenu', function (_e) {\n",
       "        event.preventDefault();\n",
       "        return false;\n",
       "    });\n",
       "\n",
       "    function set_focus() {\n",
       "        canvas.focus();\n",
       "        canvas_div.focus();\n",
       "    }\n",
       "\n",
       "    window.setTimeout(set_focus, 100);\n",
       "};\n",
       "\n",
       "mpl.figure.prototype._init_toolbar = function () {\n",
       "    var fig = this;\n",
       "\n",
       "    var toolbar = document.createElement('div');\n",
       "    toolbar.classList = 'mpl-toolbar';\n",
       "    this.root.appendChild(toolbar);\n",
       "\n",
       "    function on_click_closure(name) {\n",
       "        return function (_event) {\n",
       "            return fig.toolbar_button_onclick(name);\n",
       "        };\n",
       "    }\n",
       "\n",
       "    function on_mouseover_closure(tooltip) {\n",
       "        return function (event) {\n",
       "            if (!event.currentTarget.disabled) {\n",
       "                return fig.toolbar_button_onmouseover(tooltip);\n",
       "            }\n",
       "        };\n",
       "    }\n",
       "\n",
       "    fig.buttons = {};\n",
       "    var buttonGroup = document.createElement('div');\n",
       "    buttonGroup.classList = 'mpl-button-group';\n",
       "    for (var toolbar_ind in mpl.toolbar_items) {\n",
       "        var name = mpl.toolbar_items[toolbar_ind][0];\n",
       "        var tooltip = mpl.toolbar_items[toolbar_ind][1];\n",
       "        var image = mpl.toolbar_items[toolbar_ind][2];\n",
       "        var method_name = mpl.toolbar_items[toolbar_ind][3];\n",
       "\n",
       "        if (!name) {\n",
       "            /* Instead of a spacer, we start a new button group. */\n",
       "            if (buttonGroup.hasChildNodes()) {\n",
       "                toolbar.appendChild(buttonGroup);\n",
       "            }\n",
       "            buttonGroup = document.createElement('div');\n",
       "            buttonGroup.classList = 'mpl-button-group';\n",
       "            continue;\n",
       "        }\n",
       "\n",
       "        var button = (fig.buttons[name] = document.createElement('button'));\n",
       "        button.classList = 'mpl-widget';\n",
       "        button.setAttribute('role', 'button');\n",
       "        button.setAttribute('aria-disabled', 'false');\n",
       "        button.addEventListener('click', on_click_closure(method_name));\n",
       "        button.addEventListener('mouseover', on_mouseover_closure(tooltip));\n",
       "\n",
       "        var icon_img = document.createElement('img');\n",
       "        icon_img.src = '_images/' + image + '.png';\n",
       "        icon_img.srcset = '_images/' + image + '_large.png 2x';\n",
       "        icon_img.alt = tooltip;\n",
       "        button.appendChild(icon_img);\n",
       "\n",
       "        buttonGroup.appendChild(button);\n",
       "    }\n",
       "\n",
       "    if (buttonGroup.hasChildNodes()) {\n",
       "        toolbar.appendChild(buttonGroup);\n",
       "    }\n",
       "\n",
       "    var fmt_picker = document.createElement('select');\n",
       "    fmt_picker.classList = 'mpl-widget';\n",
       "    toolbar.appendChild(fmt_picker);\n",
       "    this.format_dropdown = fmt_picker;\n",
       "\n",
       "    for (var ind in mpl.extensions) {\n",
       "        var fmt = mpl.extensions[ind];\n",
       "        var option = document.createElement('option');\n",
       "        option.selected = fmt === mpl.default_extension;\n",
       "        option.innerHTML = fmt;\n",
       "        fmt_picker.appendChild(option);\n",
       "    }\n",
       "\n",
       "    var status_bar = document.createElement('span');\n",
       "    status_bar.classList = 'mpl-message';\n",
       "    toolbar.appendChild(status_bar);\n",
       "    this.message = status_bar;\n",
       "};\n",
       "\n",
       "mpl.figure.prototype.request_resize = function (x_pixels, y_pixels) {\n",
       "    // Request matplotlib to resize the figure. Matplotlib will then trigger a resize in the client,\n",
       "    // which will in turn request a refresh of the image.\n",
       "    this.send_message('resize', { width: x_pixels, height: y_pixels });\n",
       "};\n",
       "\n",
       "mpl.figure.prototype.send_message = function (type, properties) {\n",
       "    properties['type'] = type;\n",
       "    properties['figure_id'] = this.id;\n",
       "    this.ws.send(JSON.stringify(properties));\n",
       "};\n",
       "\n",
       "mpl.figure.prototype.send_draw_message = function () {\n",
       "    if (!this.waiting) {\n",
       "        this.waiting = true;\n",
       "        this.ws.send(JSON.stringify({ type: 'draw', figure_id: this.id }));\n",
       "    }\n",
       "};\n",
       "\n",
       "mpl.figure.prototype.handle_save = function (fig, _msg) {\n",
       "    var format_dropdown = fig.format_dropdown;\n",
       "    var format = format_dropdown.options[format_dropdown.selectedIndex].value;\n",
       "    fig.ondownload(fig, format);\n",
       "};\n",
       "\n",
       "mpl.figure.prototype.handle_resize = function (fig, msg) {\n",
       "    var size = msg['size'];\n",
       "    if (size[0] !== fig.canvas.width || size[1] !== fig.canvas.height) {\n",
       "        fig._resize_canvas(size[0], size[1], msg['forward']);\n",
       "        fig.send_message('refresh', {});\n",
       "    }\n",
       "};\n",
       "\n",
       "mpl.figure.prototype.handle_rubberband = function (fig, msg) {\n",
       "    var x0 = msg['x0'] / fig.ratio;\n",
       "    var y0 = (fig.canvas.height - msg['y0']) / fig.ratio;\n",
       "    var x1 = msg['x1'] / fig.ratio;\n",
       "    var y1 = (fig.canvas.height - msg['y1']) / fig.ratio;\n",
       "    x0 = Math.floor(x0) + 0.5;\n",
       "    y0 = Math.floor(y0) + 0.5;\n",
       "    x1 = Math.floor(x1) + 0.5;\n",
       "    y1 = Math.floor(y1) + 0.5;\n",
       "    var min_x = Math.min(x0, x1);\n",
       "    var min_y = Math.min(y0, y1);\n",
       "    var width = Math.abs(x1 - x0);\n",
       "    var height = Math.abs(y1 - y0);\n",
       "\n",
       "    fig.rubberband_context.clearRect(\n",
       "        0,\n",
       "        0,\n",
       "        fig.canvas.width / fig.ratio,\n",
       "        fig.canvas.height / fig.ratio\n",
       "    );\n",
       "\n",
       "    fig.rubberband_context.strokeRect(min_x, min_y, width, height);\n",
       "};\n",
       "\n",
       "mpl.figure.prototype.handle_figure_label = function (fig, msg) {\n",
       "    // Updates the figure title.\n",
       "    fig.header.textContent = msg['label'];\n",
       "};\n",
       "\n",
       "mpl.figure.prototype.handle_cursor = function (fig, msg) {\n",
       "    fig.canvas_div.style.cursor = msg['cursor'];\n",
       "};\n",
       "\n",
       "mpl.figure.prototype.handle_message = function (fig, msg) {\n",
       "    fig.message.textContent = msg['message'];\n",
       "};\n",
       "\n",
       "mpl.figure.prototype.handle_draw = function (fig, _msg) {\n",
       "    // Request the server to send over a new figure.\n",
       "    fig.send_draw_message();\n",
       "};\n",
       "\n",
       "mpl.figure.prototype.handle_image_mode = function (fig, msg) {\n",
       "    fig.image_mode = msg['mode'];\n",
       "};\n",
       "\n",
       "mpl.figure.prototype.handle_history_buttons = function (fig, msg) {\n",
       "    for (var key in msg) {\n",
       "        if (!(key in fig.buttons)) {\n",
       "            continue;\n",
       "        }\n",
       "        fig.buttons[key].disabled = !msg[key];\n",
       "        fig.buttons[key].setAttribute('aria-disabled', !msg[key]);\n",
       "    }\n",
       "};\n",
       "\n",
       "mpl.figure.prototype.handle_navigate_mode = function (fig, msg) {\n",
       "    if (msg['mode'] === 'PAN') {\n",
       "        fig.buttons['Pan'].classList.add('active');\n",
       "        fig.buttons['Zoom'].classList.remove('active');\n",
       "    } else if (msg['mode'] === 'ZOOM') {\n",
       "        fig.buttons['Pan'].classList.remove('active');\n",
       "        fig.buttons['Zoom'].classList.add('active');\n",
       "    } else {\n",
       "        fig.buttons['Pan'].classList.remove('active');\n",
       "        fig.buttons['Zoom'].classList.remove('active');\n",
       "    }\n",
       "};\n",
       "\n",
       "mpl.figure.prototype.updated_canvas_event = function () {\n",
       "    // Called whenever the canvas gets updated.\n",
       "    this.send_message('ack', {});\n",
       "};\n",
       "\n",
       "// A function to construct a web socket function for onmessage handling.\n",
       "// Called in the figure constructor.\n",
       "mpl.figure.prototype._make_on_message_function = function (fig) {\n",
       "    return function socket_on_message(evt) {\n",
       "        if (evt.data instanceof Blob) {\n",
       "            var img = evt.data;\n",
       "            if (img.type !== 'image/png') {\n",
       "                /* FIXME: We get \"Resource interpreted as Image but\n",
       "                 * transferred with MIME type text/plain:\" errors on\n",
       "                 * Chrome.  But how to set the MIME type?  It doesn't seem\n",
       "                 * to be part of the websocket stream */\n",
       "                img.type = 'image/png';\n",
       "            }\n",
       "\n",
       "            /* Free the memory for the previous frames */\n",
       "            if (fig.imageObj.src) {\n",
       "                (window.URL || window.webkitURL).revokeObjectURL(\n",
       "                    fig.imageObj.src\n",
       "                );\n",
       "            }\n",
       "\n",
       "            fig.imageObj.src = (window.URL || window.webkitURL).createObjectURL(\n",
       "                img\n",
       "            );\n",
       "            fig.updated_canvas_event();\n",
       "            fig.waiting = false;\n",
       "            return;\n",
       "        } else if (\n",
       "            typeof evt.data === 'string' &&\n",
       "            evt.data.slice(0, 21) === 'data:image/png;base64'\n",
       "        ) {\n",
       "            fig.imageObj.src = evt.data;\n",
       "            fig.updated_canvas_event();\n",
       "            fig.waiting = false;\n",
       "            return;\n",
       "        }\n",
       "\n",
       "        var msg = JSON.parse(evt.data);\n",
       "        var msg_type = msg['type'];\n",
       "\n",
       "        // Call the  \"handle_{type}\" callback, which takes\n",
       "        // the figure and JSON message as its only arguments.\n",
       "        try {\n",
       "            var callback = fig['handle_' + msg_type];\n",
       "        } catch (e) {\n",
       "            console.log(\n",
       "                \"No handler for the '\" + msg_type + \"' message type: \",\n",
       "                msg\n",
       "            );\n",
       "            return;\n",
       "        }\n",
       "\n",
       "        if (callback) {\n",
       "            try {\n",
       "                // console.log(\"Handling '\" + msg_type + \"' message: \", msg);\n",
       "                callback(fig, msg);\n",
       "            } catch (e) {\n",
       "                console.log(\n",
       "                    \"Exception inside the 'handler_\" + msg_type + \"' callback:\",\n",
       "                    e,\n",
       "                    e.stack,\n",
       "                    msg\n",
       "                );\n",
       "            }\n",
       "        }\n",
       "    };\n",
       "};\n",
       "\n",
       "\n",
       "/*\n",
       " * return a copy of an object with only non-object keys\n",
       " * we need this to avoid circular references\n",
       " * https://stackoverflow.com/a/24161582/3208463\n",
       " */\n",
       "function simpleKeys(original) {\n",
       "    return Object.keys(original).reduce(function (obj, key) {\n",
       "        if (typeof original[key] !== 'object') {\n",
       "            obj[key] = original[key];\n",
       "        }\n",
       "        return obj;\n",
       "    }, {});\n",
       "}\n",
       "\n",
       "mpl.figure.prototype.mouse_event = function (event, name) {\n",
       "    if (name === 'button_press') {\n",
       "        this.canvas.focus();\n",
       "        this.canvas_div.focus();\n",
       "    }\n",
       "\n",
       "    // from https://stackoverflow.com/q/1114465\n",
       "    var boundingRect = this.canvas.getBoundingClientRect();\n",
       "    var x = (event.clientX - boundingRect.left) * this.ratio;\n",
       "    var y = (event.clientY - boundingRect.top) * this.ratio;\n",
       "\n",
       "    this.send_message(name, {\n",
       "        x: x,\n",
       "        y: y,\n",
       "        button: event.button,\n",
       "        step: event.step,\n",
       "        guiEvent: simpleKeys(event),\n",
       "    });\n",
       "\n",
       "    return false;\n",
       "};\n",
       "\n",
       "mpl.figure.prototype._key_event_extra = function (_event, _name) {\n",
       "    // Handle any extra behaviour associated with a key event\n",
       "};\n",
       "\n",
       "mpl.figure.prototype.key_event = function (event, name) {\n",
       "    // Prevent repeat events\n",
       "    if (name === 'key_press') {\n",
       "        if (event.key === this._key) {\n",
       "            return;\n",
       "        } else {\n",
       "            this._key = event.key;\n",
       "        }\n",
       "    }\n",
       "    if (name === 'key_release') {\n",
       "        this._key = null;\n",
       "    }\n",
       "\n",
       "    var value = '';\n",
       "    if (event.ctrlKey && event.key !== 'Control') {\n",
       "        value += 'ctrl+';\n",
       "    }\n",
       "    else if (event.altKey && event.key !== 'Alt') {\n",
       "        value += 'alt+';\n",
       "    }\n",
       "    else if (event.shiftKey && event.key !== 'Shift') {\n",
       "        value += 'shift+';\n",
       "    }\n",
       "\n",
       "    value += 'k' + event.key;\n",
       "\n",
       "    this._key_event_extra(event, name);\n",
       "\n",
       "    this.send_message(name, { key: value, guiEvent: simpleKeys(event) });\n",
       "    return false;\n",
       "};\n",
       "\n",
       "mpl.figure.prototype.toolbar_button_onclick = function (name) {\n",
       "    if (name === 'download') {\n",
       "        this.handle_save(this, null);\n",
       "    } else {\n",
       "        this.send_message('toolbar_button', { name: name });\n",
       "    }\n",
       "};\n",
       "\n",
       "mpl.figure.prototype.toolbar_button_onmouseover = function (tooltip) {\n",
       "    this.message.textContent = tooltip;\n",
       "};\n",
       "\n",
       "///////////////// REMAINING CONTENT GENERATED BY embed_js.py /////////////////\n",
       "// prettier-ignore\n",
       "var _JSXTOOLS_RESIZE_OBSERVER=function(A){var t,i=new WeakMap,n=new WeakMap,a=new WeakMap,r=new WeakMap,o=new Set;function s(e){if(!(this instanceof s))throw new TypeError(\"Constructor requires 'new' operator\");i.set(this,e)}function h(){throw new TypeError(\"Function is not a constructor\")}function c(e,t,i,n){e=0 in arguments?Number(arguments[0]):0,t=1 in arguments?Number(arguments[1]):0,i=2 in arguments?Number(arguments[2]):0,n=3 in arguments?Number(arguments[3]):0,this.right=(this.x=this.left=e)+(this.width=i),this.bottom=(this.y=this.top=t)+(this.height=n),Object.freeze(this)}function d(){t=requestAnimationFrame(d);var s=new WeakMap,p=new Set;o.forEach((function(t){r.get(t).forEach((function(i){var r=t instanceof window.SVGElement,o=a.get(t),d=r?0:parseFloat(o.paddingTop),f=r?0:parseFloat(o.paddingRight),l=r?0:parseFloat(o.paddingBottom),u=r?0:parseFloat(o.paddingLeft),g=r?0:parseFloat(o.borderTopWidth),m=r?0:parseFloat(o.borderRightWidth),w=r?0:parseFloat(o.borderBottomWidth),b=u+f,F=d+l,v=(r?0:parseFloat(o.borderLeftWidth))+m,W=g+w,y=r?0:t.offsetHeight-W-t.clientHeight,E=r?0:t.offsetWidth-v-t.clientWidth,R=b+v,z=F+W,M=r?t.width:parseFloat(o.width)-R-E,O=r?t.height:parseFloat(o.height)-z-y;if(n.has(t)){var k=n.get(t);if(k[0]===M&&k[1]===O)return}n.set(t,[M,O]);var S=Object.create(h.prototype);S.target=t,S.contentRect=new c(u,d,M,O),s.has(i)||(s.set(i,[]),p.add(i)),s.get(i).push(S)}))})),p.forEach((function(e){i.get(e).call(e,s.get(e),e)}))}return s.prototype.observe=function(i){if(i instanceof window.Element){r.has(i)||(r.set(i,new Set),o.add(i),a.set(i,window.getComputedStyle(i)));var n=r.get(i);n.has(this)||n.add(this),cancelAnimationFrame(t),t=requestAnimationFrame(d)}},s.prototype.unobserve=function(i){if(i instanceof window.Element&&r.has(i)){var n=r.get(i);n.has(this)&&(n.delete(this),n.size||(r.delete(i),o.delete(i))),n.size||r.delete(i),o.size||cancelAnimationFrame(t)}},A.DOMRectReadOnly=c,A.ResizeObserver=s,A.ResizeObserverEntry=h,A}; // eslint-disable-line\n",
       "mpl.toolbar_items = [[\"Home\", \"Reset original view\", \"fa fa-home\", \"home\"], [\"Back\", \"Back to previous view\", \"fa fa-arrow-left\", \"back\"], [\"Forward\", \"Forward to next view\", \"fa fa-arrow-right\", \"forward\"], [\"\", \"\", \"\", \"\"], [\"Pan\", \"Left button pans, Right button zooms\\nx/y fixes axis, CTRL fixes aspect\", \"fa fa-arrows\", \"pan\"], [\"Zoom\", \"Zoom to rectangle\\nx/y fixes axis\", \"fa fa-square-o\", \"zoom\"], [\"\", \"\", \"\", \"\"], [\"Download\", \"Download plot\", \"fa fa-floppy-o\", \"download\"]];\n",
       "\n",
       "mpl.extensions = [\"eps\", \"jpeg\", \"pgf\", \"pdf\", \"png\", \"ps\", \"raw\", \"svg\", \"tif\", \"webp\"];\n",
       "\n",
       "mpl.default_extension = \"png\";/* global mpl */\n",
       "\n",
       "var comm_websocket_adapter = function (comm) {\n",
       "    // Create a \"websocket\"-like object which calls the given IPython comm\n",
       "    // object with the appropriate methods. Currently this is a non binary\n",
       "    // socket, so there is still some room for performance tuning.\n",
       "    var ws = {};\n",
       "\n",
       "    ws.binaryType = comm.kernel.ws.binaryType;\n",
       "    ws.readyState = comm.kernel.ws.readyState;\n",
       "    function updateReadyState(_event) {\n",
       "        if (comm.kernel.ws) {\n",
       "            ws.readyState = comm.kernel.ws.readyState;\n",
       "        } else {\n",
       "            ws.readyState = 3; // Closed state.\n",
       "        }\n",
       "    }\n",
       "    comm.kernel.ws.addEventListener('open', updateReadyState);\n",
       "    comm.kernel.ws.addEventListener('close', updateReadyState);\n",
       "    comm.kernel.ws.addEventListener('error', updateReadyState);\n",
       "\n",
       "    ws.close = function () {\n",
       "        comm.close();\n",
       "    };\n",
       "    ws.send = function (m) {\n",
       "        //console.log('sending', m);\n",
       "        comm.send(m);\n",
       "    };\n",
       "    // Register the callback with on_msg.\n",
       "    comm.on_msg(function (msg) {\n",
       "        //console.log('receiving', msg['content']['data'], msg);\n",
       "        var data = msg['content']['data'];\n",
       "        if (data['blob'] !== undefined) {\n",
       "            data = {\n",
       "                data: new Blob(msg['buffers'], { type: data['blob'] }),\n",
       "            };\n",
       "        }\n",
       "        // Pass the mpl event to the overridden (by mpl) onmessage function.\n",
       "        ws.onmessage(data);\n",
       "    });\n",
       "    return ws;\n",
       "};\n",
       "\n",
       "mpl.mpl_figure_comm = function (comm, msg) {\n",
       "    // This is the function which gets called when the mpl process\n",
       "    // starts-up an IPython Comm through the \"matplotlib\" channel.\n",
       "\n",
       "    var id = msg.content.data.id;\n",
       "    // Get hold of the div created by the display call when the Comm\n",
       "    // socket was opened in Python.\n",
       "    var element = document.getElementById(id);\n",
       "    var ws_proxy = comm_websocket_adapter(comm);\n",
       "\n",
       "    function ondownload(figure, _format) {\n",
       "        window.open(figure.canvas.toDataURL());\n",
       "    }\n",
       "\n",
       "    var fig = new mpl.figure(id, ws_proxy, ondownload, element);\n",
       "\n",
       "    // Call onopen now - mpl needs it, as it is assuming we've passed it a real\n",
       "    // web socket which is closed, not our websocket->open comm proxy.\n",
       "    ws_proxy.onopen();\n",
       "\n",
       "    fig.parent_element = element;\n",
       "    fig.cell_info = mpl.find_output_cell(\"<div id='\" + id + \"'></div>\");\n",
       "    if (!fig.cell_info) {\n",
       "        console.error('Failed to find cell for figure', id, fig);\n",
       "        return;\n",
       "    }\n",
       "    fig.cell_info[0].output_area.element.on(\n",
       "        'cleared',\n",
       "        { fig: fig },\n",
       "        fig._remove_fig_handler\n",
       "    );\n",
       "};\n",
       "\n",
       "mpl.figure.prototype.handle_close = function (fig, msg) {\n",
       "    var width = fig.canvas.width / fig.ratio;\n",
       "    fig.cell_info[0].output_area.element.off(\n",
       "        'cleared',\n",
       "        fig._remove_fig_handler\n",
       "    );\n",
       "    fig.resizeObserverInstance.unobserve(fig.canvas_div);\n",
       "\n",
       "    // Update the output cell to use the data from the current canvas.\n",
       "    fig.push_to_output();\n",
       "    var dataURL = fig.canvas.toDataURL();\n",
       "    // Re-enable the keyboard manager in IPython - without this line, in FF,\n",
       "    // the notebook keyboard shortcuts fail.\n",
       "    IPython.keyboard_manager.enable();\n",
       "    fig.parent_element.innerHTML =\n",
       "        '<img src=\"' + dataURL + '\" width=\"' + width + '\">';\n",
       "    fig.close_ws(fig, msg);\n",
       "};\n",
       "\n",
       "mpl.figure.prototype.close_ws = function (fig, msg) {\n",
       "    fig.send_message('closing', msg);\n",
       "    // fig.ws.close()\n",
       "};\n",
       "\n",
       "mpl.figure.prototype.push_to_output = function (_remove_interactive) {\n",
       "    // Turn the data on the canvas into data in the output cell.\n",
       "    var width = this.canvas.width / this.ratio;\n",
       "    var dataURL = this.canvas.toDataURL();\n",
       "    this.cell_info[1]['text/html'] =\n",
       "        '<img src=\"' + dataURL + '\" width=\"' + width + '\">';\n",
       "};\n",
       "\n",
       "mpl.figure.prototype.updated_canvas_event = function () {\n",
       "    // Tell IPython that the notebook contents must change.\n",
       "    IPython.notebook.set_dirty(true);\n",
       "    this.send_message('ack', {});\n",
       "    var fig = this;\n",
       "    // Wait a second, then push the new image to the DOM so\n",
       "    // that it is saved nicely (might be nice to debounce this).\n",
       "    setTimeout(function () {\n",
       "        fig.push_to_output();\n",
       "    }, 1000);\n",
       "};\n",
       "\n",
       "mpl.figure.prototype._init_toolbar = function () {\n",
       "    var fig = this;\n",
       "\n",
       "    var toolbar = document.createElement('div');\n",
       "    toolbar.classList = 'btn-toolbar';\n",
       "    this.root.appendChild(toolbar);\n",
       "\n",
       "    function on_click_closure(name) {\n",
       "        return function (_event) {\n",
       "            return fig.toolbar_button_onclick(name);\n",
       "        };\n",
       "    }\n",
       "\n",
       "    function on_mouseover_closure(tooltip) {\n",
       "        return function (event) {\n",
       "            if (!event.currentTarget.disabled) {\n",
       "                return fig.toolbar_button_onmouseover(tooltip);\n",
       "            }\n",
       "        };\n",
       "    }\n",
       "\n",
       "    fig.buttons = {};\n",
       "    var buttonGroup = document.createElement('div');\n",
       "    buttonGroup.classList = 'btn-group';\n",
       "    var button;\n",
       "    for (var toolbar_ind in mpl.toolbar_items) {\n",
       "        var name = mpl.toolbar_items[toolbar_ind][0];\n",
       "        var tooltip = mpl.toolbar_items[toolbar_ind][1];\n",
       "        var image = mpl.toolbar_items[toolbar_ind][2];\n",
       "        var method_name = mpl.toolbar_items[toolbar_ind][3];\n",
       "\n",
       "        if (!name) {\n",
       "            /* Instead of a spacer, we start a new button group. */\n",
       "            if (buttonGroup.hasChildNodes()) {\n",
       "                toolbar.appendChild(buttonGroup);\n",
       "            }\n",
       "            buttonGroup = document.createElement('div');\n",
       "            buttonGroup.classList = 'btn-group';\n",
       "            continue;\n",
       "        }\n",
       "\n",
       "        button = fig.buttons[name] = document.createElement('button');\n",
       "        button.classList = 'btn btn-default';\n",
       "        button.href = '#';\n",
       "        button.title = name;\n",
       "        button.innerHTML = '<i class=\"fa ' + image + ' fa-lg\"></i>';\n",
       "        button.addEventListener('click', on_click_closure(method_name));\n",
       "        button.addEventListener('mouseover', on_mouseover_closure(tooltip));\n",
       "        buttonGroup.appendChild(button);\n",
       "    }\n",
       "\n",
       "    if (buttonGroup.hasChildNodes()) {\n",
       "        toolbar.appendChild(buttonGroup);\n",
       "    }\n",
       "\n",
       "    // Add the status bar.\n",
       "    var status_bar = document.createElement('span');\n",
       "    status_bar.classList = 'mpl-message pull-right';\n",
       "    toolbar.appendChild(status_bar);\n",
       "    this.message = status_bar;\n",
       "\n",
       "    // Add the close button to the window.\n",
       "    var buttongrp = document.createElement('div');\n",
       "    buttongrp.classList = 'btn-group inline pull-right';\n",
       "    button = document.createElement('button');\n",
       "    button.classList = 'btn btn-mini btn-primary';\n",
       "    button.href = '#';\n",
       "    button.title = 'Stop Interaction';\n",
       "    button.innerHTML = '<i class=\"fa fa-power-off icon-remove icon-large\"></i>';\n",
       "    button.addEventListener('click', function (_evt) {\n",
       "        fig.handle_close(fig, {});\n",
       "    });\n",
       "    button.addEventListener(\n",
       "        'mouseover',\n",
       "        on_mouseover_closure('Stop Interaction')\n",
       "    );\n",
       "    buttongrp.appendChild(button);\n",
       "    var titlebar = this.root.querySelector('.ui-dialog-titlebar');\n",
       "    titlebar.insertBefore(buttongrp, titlebar.firstChild);\n",
       "};\n",
       "\n",
       "mpl.figure.prototype._remove_fig_handler = function (event) {\n",
       "    var fig = event.data.fig;\n",
       "    if (event.target !== this) {\n",
       "        // Ignore bubbled events from children.\n",
       "        return;\n",
       "    }\n",
       "    fig.close_ws(fig, {});\n",
       "};\n",
       "\n",
       "mpl.figure.prototype._root_extra_style = function (el) {\n",
       "    el.style.boxSizing = 'content-box'; // override notebook setting of border-box.\n",
       "};\n",
       "\n",
       "mpl.figure.prototype._canvas_extra_style = function (el) {\n",
       "    // this is important to make the div 'focusable\n",
       "    el.setAttribute('tabindex', 0);\n",
       "    // reach out to IPython and tell the keyboard manager to turn it's self\n",
       "    // off when our div gets focus\n",
       "\n",
       "    // location in version 3\n",
       "    if (IPython.notebook.keyboard_manager) {\n",
       "        IPython.notebook.keyboard_manager.register_events(el);\n",
       "    } else {\n",
       "        // location in version 2\n",
       "        IPython.keyboard_manager.register_events(el);\n",
       "    }\n",
       "};\n",
       "\n",
       "mpl.figure.prototype._key_event_extra = function (event, _name) {\n",
       "    // Check for shift+enter\n",
       "    if (event.shiftKey && event.which === 13) {\n",
       "        this.canvas_div.blur();\n",
       "        // select the cell after this one\n",
       "        var index = IPython.notebook.find_cell_index(this.cell_info[0]);\n",
       "        IPython.notebook.select(index + 1);\n",
       "    }\n",
       "};\n",
       "\n",
       "mpl.figure.prototype.handle_save = function (fig, _msg) {\n",
       "    fig.ondownload(fig, null);\n",
       "};\n",
       "\n",
       "mpl.find_output_cell = function (html_output) {\n",
       "    // Return the cell and output element which can be found *uniquely* in the notebook.\n",
       "    // Note - this is a bit hacky, but it is done because the \"notebook_saving.Notebook\"\n",
       "    // IPython event is triggered only after the cells have been serialised, which for\n",
       "    // our purposes (turning an active figure into a static one), is too late.\n",
       "    var cells = IPython.notebook.get_cells();\n",
       "    var ncells = cells.length;\n",
       "    for (var i = 0; i < ncells; i++) {\n",
       "        var cell = cells[i];\n",
       "        if (cell.cell_type === 'code') {\n",
       "            for (var j = 0; j < cell.output_area.outputs.length; j++) {\n",
       "                var data = cell.output_area.outputs[j];\n",
       "                if (data.data) {\n",
       "                    // IPython >= 3 moved mimebundle to data attribute of output\n",
       "                    data = data.data;\n",
       "                }\n",
       "                if (data['text/html'] === html_output) {\n",
       "                    return [cell, data, j];\n",
       "                }\n",
       "            }\n",
       "        }\n",
       "    }\n",
       "};\n",
       "\n",
       "// Register the function which deals with the matplotlib target/channel.\n",
       "// The kernel may be null if the page has been refreshed.\n",
       "if (IPython.notebook.kernel !== null) {\n",
       "    IPython.notebook.kernel.comm_manager.register_target(\n",
       "        'matplotlib',\n",
       "        mpl.mpl_figure_comm\n",
       "    );\n",
       "}\n"
      ],
      "text/plain": [
       "<IPython.core.display.Javascript object>"
      ]
     },
     "metadata": {},
     "output_type": "display_data"
    },
    {
     "data": {
      "text/html": [
       "<img src=\"data:image/png;base64,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\" width=\"1200\">"
      ],
      "text/plain": [
       "<IPython.core.display.HTML object>"
      ]
     },
     "metadata": {},
     "output_type": "display_data"
    },
    {
     "name": "stdout",
     "output_type": "stream",
     "text": [
      "[46.09610615] [1.80913084]\n"
     ]
    }
   ],
   "source": [
    "## Implementation of Gradient Descent for Logistic Regression\n",
    "\n",
    "import time\n",
    "%matplotlib notebook\n",
    "\n",
    "\n",
    "def get_diff(X, theta, y):\n",
    "    return X@theta - y[..., np.newaxis]\n",
    "\n",
    "\n",
    "def get_loss(diff): \n",
    "    return 0.5*np.dot(diff.T, diff)\n",
    "\n",
    "\n",
    "def plot_line(plot3, theta):\n",
    "    x_interp = np.linspace(Xmin, Xmax, 100)\n",
    "    x_interp = x_interp.reshape(-1, 1)\n",
    "    x_interp = np.c_[x_interp, np.ones_like(x_interp)]\n",
    "    y_interp = np.dot(x_interp, theta)\n",
    "    if plot3:\n",
    "        plot3.set_xdata(x_interp[:, 0])\n",
    "        plot3.set_ydata(y_interp)\n",
    "    else:\n",
    "        return x_interp, y_interp\n",
    "\n",
    "Xmin, Xmax = X.min(), X.max()\n",
    "plt.ion()\n",
    "figure, (axes_1, axes_2) = plt.subplots(2, 2, figsize=(12, 12))\n",
    "plt.rcParams['axes.grid'] = False\n",
    "ax0, ax1 = axes_1\n",
    "ax2, ax3 = axes_2\n",
    "ax0.contourf(xxt, yyt, losses, levels=50, cmap='jet')\n",
    "ax0.scatter(coef_gt, 0, color='red', marker='o', s=50)\n",
    "ax0.set_xlabel('$theta_1$',fontsize=18)\n",
    "ax0.set_ylabel('$theta_2$',fontsize=18)\n",
    "ax1.set_ylabel('$loss$',fontsize=18)\n",
    "ax1.set_xlabel('$iter$',fontsize=18)\n",
    "ax1.set(xlim=(0, 100), ylim=(0, 1.28e6))\n",
    "ax2.scatter(X[..., 0], y, c='red', marker='o')\n",
    "ax2.set_xlabel('$x$',fontsize=18)\n",
    "ax2.set_ylabel('$y$',fontsize=18)\n",
    "ax3.set_ylabel('$Grad. Norm.$',fontsize=18)\n",
    "ax3.set_xlabel('$iter$',fontsize=18)\n",
    "ax3.set(xlim=(0, 100), ylim=(0, 20000))\n",
    "\n",
    "theta_curr = np.array([[-100, -100]]).T\n",
    "losses_track = [get_loss(get_diff(X, theta_curr, y))]\n",
    "grad_norm_track = [1000]\n",
    "\n",
    "theta_track = np.array(theta_curr)\n",
    "lr = 1e-3\n",
    "loss_tol = 10\n",
    "\n",
    "plot1, = ax0.plot(*theta_curr, color='violet',\n",
    "                  marker='.', markersize=5, linestyle='-')\n",
    "plot2, = ax1.plot(*losses_track, color='blue',\n",
    "                  marker='.', markersize=10, linestyle='--')\n",
    "xi, yi = plot_line(None, theta_curr)\n",
    "plot3a,plot3b = ax2.plot(xi, yi, color='blue', marker='.',\n",
    "                  markersize=3, linestyle='--')\n",
    "plot4, = ax3.plot(1000, color='blue',\n",
    "                  marker='.', markersize=10, linestyle='--')\n",
    "while True:\n",
    "    diff = get_diff(X, theta_curr, y)\n",
    "    grad = (diff * X).sum(axis=0, keepdims=True).T\n",
    "    theta_curr = theta_curr - lr*grad\n",
    "    theta_track = np.append(theta_track, theta_curr, axis=1)\n",
    "    diff = get_diff(X, theta_curr, y)\n",
    "    losses_track.append(get_loss(diff))\n",
    "    grad_norm_track.append(np.linalg.norm(grad,2))\n",
    "    if abs(losses_track[-2]-losses_track[-1]) < loss_tol:\n",
    "        break\n",
    "    plot1.set_xdata(theta_track[0, :])\n",
    "    plot1.set_ydata(theta_track[1, :])\n",
    "    plot2.set_xdata(range(len(losses_track)))\n",
    "    plot2.set_ydata(losses_track)\n",
    "    plot4.set_xdata(range(len(grad_norm_track[1:])))\n",
    "    plot4.set_ydata(grad_norm_track[1:])\n",
    "    plot_line(plot3a, theta_curr)\n",
    "    plot_line(plot3b, theta_curr)\n",
    "    figure.canvas.draw()\n",
    "    figure.canvas.flush_events()\n",
    "    time.sleep(0.1)\n",
    "print(*theta_curr)\n",
    "plt.show()"
   ]
  },
  {
   "cell_type": "markdown",
   "metadata": {
    "slideshow": {
     "slide_type": "slide"
    }
   },
   "source": [
    "# Let's go back to word2vec"
   ]
  },
  {
   "cell_type": "markdown",
   "metadata": {
    "slideshow": {
     "slide_type": "subslide"
    }
   },
   "source": [
    "# Introduction to word2vec\n",
    "\n",
    "- We have a very **large corpus** on which we apply **self-supervision**\n",
    "   - The corpus defines the vocabulary $V$.\n",
    "- Every word in $V$ is represented as a vector in a $D$ dimensional    vector space \n",
    "   - e.g. D = 100.\n",
    "- The parametric model $\\bmf{\\theta}$ that we learn **depends on all vectors for all the words**"
   ]
  },
  {
   "cell_type": "markdown",
   "metadata": {
    "cell_style": "split",
    "slideshow": {
     "slide_type": "subslide"
    }
   },
   "source": [
    "# word2vec is a generic framework \n",
    "\n",
    "`word2vec` presents two algorithms:\n",
    " 1. **Skip-Gram** _(we see it today!)_\n",
    " 2. Continuous Bag-of-Word (CBOW)\n",
    " "
   ]
  },
  {
   "cell_type": "markdown",
   "metadata": {
    "cell_style": "split",
    "slideshow": {
     "slide_type": "fragment"
    }
   },
   "source": [
    "<br>\n",
    "\n",
    "Also it offers different training methods:\n",
    " - **with softmax**  _(we see it today!)_\n",
    " - negative sampling from [Mikolov et al. 2013]\n",
    " - hierarchical softmax"
   ]
  },
  {
   "cell_type": "markdown",
   "metadata": {
    "slideshow": {
     "slide_type": "subslide"
    }
   },
   "source": [
    "# word2vec: Skip-Gram with softmax\n",
    "\n",
    "Parameters to learn: $$\\bmf{\\theta} = [\\bmf{\\theta}_W;\\bmf{\\theta}_C]$$\n",
    "\n",
    "<div align='center'><img src=\"figs/word2vec_params.png\" width='65%' ></div>"
   ]
  },
  {
   "cell_type": "markdown",
   "metadata": {
    "slideshow": {
     "slide_type": "subslide"
    }
   },
   "source": [
    "# word2vec: Skip-Gram with softmax\n",
    "\n",
    "Parameters to learn:   $\\bmf{\\theta} = [\\bmf{\\theta}_W;\\bmf{\\theta}_C]$\n",
    "\n",
    "- $\\bmf{\\theta}_W$ is a matrix $|V|\\times D$ where we store a vector in D dimensions for each word of the vocabulary $V$. We store vectors when the word $w$ works as a **$\\underline{center}$**.\n",
    "- $\\bmf{\\theta}_C$ is a matrix $|V|\\times D$ where we store a vector in D dimensions for each word of the vocabulary $V$. We store vectors when the word $w$ works as the **$\\underline{context}$**.\n",
    "\n",
    "Thus the number of parameters to learn $\\bmf{\\theta}$ is $\\quad 2\\cdot|V|\\cdot D$\n"
   ]
  },
  {
   "cell_type": "markdown",
   "metadata": {
    "slideshow": {
     "slide_type": "subslide"
    }
   },
   "source": [
    "# Sample question you may find in the exam\n",
    "\n",
    "Given a **word2vec** model with **skip-gram** that learns word embedding $\\bmf{\\theta}_i\\Rd{10}$ with a vocabulary of $100$ words, how many parameters word2vec needs to be learned? What is the dimension of the matrix learned?"
   ]
  },
  {
   "cell_type": "markdown",
   "metadata": {
    "slideshow": {
     "slide_type": "fragment"
    }
   },
   "source": [
    "## Answer"
   ]
  },
  {
   "cell_type": "markdown",
   "metadata": {
    "slideshow": {
     "slide_type": "fragment"
    }
   },
   "source": [
    "word2vec learns two vectors for each word in the vocabulary. One vector in case the word is considered as target; one vector in case the word functions as context. Given that the vectors are in 10-D space, the number of params is $2\\cdot10\\cdot100 = 2000$.\n",
    "The matrix $\\bmf{\\theta}$ shape is $2\\cdot100 \\times 10$, where each row indicates a word in the vocabulary."
   ]
  },
  {
   "cell_type": "markdown",
   "metadata": {
    "slideshow": {
     "slide_type": "subslide"
    }
   },
   "source": [
    "# word2vec: Skip-Gram Self-Supervision\n",
    "\n",
    "We start from a large corpus of text:\n",
    "\n",
    "`... lemon, a tablespoon of apricot jam, a pinch ...`\n",
    "\n",
    "and a window that defines the context (let's assume window size is $m=2$ and centered at the index $t$)."
   ]
  },
  {
   "cell_type": "markdown",
   "metadata": {
    "slideshow": {
     "slide_type": "subslide"
    }
   },
   "source": [
    "# word2vec: Skip-Gram Self-Supervision\n",
    "\n",
    "Given a window size of $m=2$ words as **context**, we select:\n",
    "- the center word $w_t$, apricot in this case.\n",
    "- 2 words as context on the left of $w_t$ $\\longrightarrow$ ($w_{t-2}$, $w_{t-1}$)\n",
    "- 2 word as context on the right of $w_t$ $\\longrightarrow$ ($w_{t+1}$, $w_{t+2}$)\n",
    "\n",
    "|   | ~~lemon~~, | ~~a~~ | [tablespoon | of | apricot | jam | a] | ~~pinch~~ |\n",
    "|:-:|:------:|:-:|:-----------:|:--:|:-------:|:---:|:--:|:-----:|\n",
    "|   |        |   |      w_{t-2}     | w_{t-1} |    **$w_t$**    |  w_{t+1} | w_{t+2} |       |\n",
    "\n"
   ]
  },
  {
   "cell_type": "markdown",
   "metadata": {
    "slideshow": {
     "slide_type": "subslide"
    }
   },
   "source": [
    "# word2vec: Skip-Gram Self-Supervision\n",
    "\n",
    "|   | ~~lemon~~, | ~~a~~ | [tablespoon | of | apricot | jam | a] | ~~pinch~~ |\n",
    "|:-:|:------:|:-:|:-----------:|:--:|:-------:|:---:|:--:|:-----:|\n",
    "|   |        |   |      w_{t-2}     | w_{t-1} |    **$w_t$**    |  w_{t+1} | w_{t+2} |       |\n",
    "\n",
    "Let's assume the vocabulary is made of $|V|$ words:\n",
    "\n",
    "| word1   \t| word2 \t| word3             \t| ...\t | wordN\t|\n",
    "|----------\t|--------\t|--------------------\t|--------\t|--------\t|\n",
    "| lemon | tablespoon | gelato  | ... | jam |\n",
    "\n",
    "Note: $|V|$ is possibly in the order of millions."
   ]
  },
  {
   "cell_type": "markdown",
   "metadata": {
    "slideshow": {
     "slide_type": "subslide"
    }
   },
   "source": [
    "# word2vec: Skip-Gram Self-Supervision\n",
    "<br/>\n",
    "$$ p(w_{t-2},w_{t-1},w_{t+1},w_{t+2}|w_t=\\text{apricot};\\bmf{\\theta})$$\n",
    "<br/><br/>\n",
    "\n",
    "|   | ~~lemon~~, | ~~a~~ | [tablespoon | of | apricot | jam | a] | ~~pinch~~ |\n",
    "|:-:|:------:|:-:|:-----------:|:--:|:-------:|:---:|:--:|:-----:|\n",
    "|   |        |   |      w_{t-2}     | w_{t-1} |    **$w_t$**    |  w_{t+1} | w_{t+2} |       |\n"
   ]
  },
  {
   "cell_type": "markdown",
   "metadata": {
    "slideshow": {
     "slide_type": "subslide"
    }
   },
   "source": [
    "# word2vec: Skip-Gram Self-Supervision\n",
    "\n",
    "⚠️ With **strong naive conditional independence assumption** \n",
    "<br/>\n",
    "\n",
    "$$ p(w_{t-2},w_{t-1},w_{t+1},w_{t+2}|w_t;\\bmf{\\theta}) \\approx \\prod_{-m\\leq j\\leq m} p(c_{t+j}|w_t;\\bmf{\\theta})$$\n",
    "\n",
    "<br/>\n",
    "\n",
    "|   | ~~lemon~~, | ~~a~~ | [tablespoon | of | apricot | jam | a] | ~~pinch~~ |\n",
    "|:-:|:------:|:-:|:-----------:|:--:|:-------:|:---:|:--:|:-----:|\n",
    "|   |        |   |      w_{t-2}     | w_{t-1} |    **$w_t$**    |  w_{t+1} | w_{t+2} |       |\n"
   ]
  },
  {
   "cell_type": "markdown",
   "metadata": {
    "slideshow": {
     "slide_type": "subslide"
    }
   },
   "source": [
    "# word2vec: Skip-Gram Self-Supervision\n",
    "\n",
    "Given the example below, we have to compute:\n",
    "<br/>\n",
    "\n",
    "$$p(w_{t-2}|w_t)\\cdot p(w_{t-1}|w_t)\\cdot p(w_{t+1}|w_t)\\cdot p(w_{t+2}|w_t)$$\n",
    "<br/>\n",
    "\n",
    "|   | ~~lemon~~, | ~~a~~ | [tablespoon | of | apricot | jam | a] | ~~pinch~~ |\n",
    "|:-:|:------:|:-:|:-----------:|:--:|:-------:|:---:|:--:|:-----:|\n",
    "|   |        |   |      w_{t-2}     | w_{t-1} |    **$w_t$**    |  w_{t+1} | w_{t+2} |       |\n"
   ]
  },
  {
   "cell_type": "markdown",
   "metadata": {
    "slideshow": {
     "slide_type": "subslide"
    }
   },
   "source": [
    "# word2vec: Skip-Gram Self-Supervision\n",
    "\n",
    "Given the example below, we have to compute:\n",
    "<br/>\n",
    "\n",
    "$$p(w_{t-2}|w_t)\\cdot p(w_{t-1}|w_t)\\cdot p(w_{t+1}|w_t)\\cdot p(w_{t+2}|w_t)$$\n",
    "<br/><br/>\n",
    "<div align='center'><img src=\"figs/word2vec_skipgram.png\" width='65%' ></div>"
   ]
  },
  {
   "cell_type": "markdown",
   "metadata": {
    "slideshow": {
     "slide_type": "subslide"
    }
   },
   "source": [
    "# How to compute $p(w_{t-1}|w_{t})$?\n",
    "$$ p(w_{t-1}|w=\\text{apricot})$$\n",
    "\n",
    "We have to predict $w_{t-1}$ given the center word $w_t$. Note $w_{t-1}$ can takes values based on the words in $V$. \n",
    "\n",
    "Think $w_{t-1}$ as a **categorical variable** where its possible state spans $V$.\n",
    "\n",
    "| word1   \t| word2 \t| word3             \t| ...\t | wordN\t|\n",
    "|----------\t|--------\t|--------------------\t|--------\t|--------\t|\n",
    "| lemone | tablespoon | gelato  | ... | jam |"
   ]
  },
  {
   "cell_type": "markdown",
   "metadata": {
    "slideshow": {
     "slide_type": "subslide"
    }
   },
   "source": [
    "# How to compute $p(w_{t-1}|w_{t})$?\n",
    "1. $i$ is the index of the center word $w$ in $V$ and also $\\bmf{\\theta}_{W}$. **Compare the embedding of $w$ as center word $\\bmf{\\theta}_{W}[i]$ vs embeddings of all context words $\\bmf{\\theta}_{C}$**  with matrix to vector product.\n",
    "$$\\underbrace{\\mbf{z}}_{|V|\\times 1}=\\overbrace{\\underbrace{\\bmf{\\theta}_C}_{|V|\\times D}}^{\\text{as context}}\\cdot\\overbrace{\\underbrace{\\bmf{\\theta}_{W}[i]^T}_{D\\times 1}}^{\\text{as center}} $$\n",
    "\n",
    "2. $\\mbf{z}$ is logits and encodes the similarity via dot product of the center word embedding $\\bmf{\\theta}_{W}[i]$ **against all vocabulary words** taken as context $\\bmf{\\theta}_C$\n",
    "\n",
    "3. We pass $\\mbf{z}$ through softmax operator to get a distribution over $|V|$ as: $$\\mbf{p}=\\operatorname{softmax}(\\mbf{z}) $$\n",
    "\n",
    "You can think $\\mbf{p}$ as of this form:\n",
    "\n",
    "|    \t| lemon   \t| tablespoon \t| gelato             \t| ...\t | jam\t|\n",
    "|----------|----------\t|--------\t|--------------------\t|--------\t|--------\t|\n",
    "|**p** | 0.001 | 0.1 | 0.03  | ... | 0.15 |"
   ]
  },
  {
   "cell_type": "markdown",
   "metadata": {
    "slideshow": {
     "slide_type": "subslide"
    }
   },
   "source": [
    "# How to compute $p(w_{t-1}|w_{t})$?\n",
    " \n",
    "$$\\mbf{p}=\\operatorname{softmax}\\big(\\bmf{\\theta}_C\\cdot\\bmf{\\theta}_{W}[i]^T\\big) $$\n",
    "\n",
    "You can think $\\mbf{p}$ as of this form:\n",
    "\n",
    "|    \t| lemon   \t| tablespoon \t| gelato             \t| ...\t | jam\t|\n",
    "|----------|----------\t|--------\t|--------------------\t|--------\t|--------\t|\n",
    "|**p** | 0.001 | 0.1 | 0.03  | ... | 0.15 |\n",
    "\n",
    "🤔 Note: until now we did not used the self-supervised label! We did not use the **ground-truth index for $w_{t-1}$**. (i.e. the fact that $w_{t-1}$ is actually `tablespoon`!"
   ]
  },
  {
   "cell_type": "markdown",
   "metadata": {
    "slideshow": {
     "slide_type": "fragment"
    }
   },
   "source": [
    "|   | ~~lemon~~, | ~~a~~ | [tablespoon | of | apricot | jam | a] | ~~pinch~~ |\n",
    "|:-:|:------:|:-:|:-----------:|:--:|:-------:|:---:|:--:|:-----:|\n",
    "|   |        |   |      w_{t-2}     | w_{t-1} |    **$w_t$**    |  w_{t+1} | w_{t+2} |       |"
   ]
  },
  {
   "cell_type": "markdown",
   "metadata": {
    "slideshow": {
     "slide_type": "subslide"
    }
   },
   "source": [
    "# Loss function: compare two discrete distributions\n",
    " \n",
    "$$\\mbf{p}=\\operatorname{softmax}\\big(\\bmf{\\theta}_C\\cdot\\bmf{\\theta}_{W}[i]^T\\big) $$\n",
    "\n",
    "You can think $\\mbf{p}$ as of this form:\n",
    "\n",
    "|    \t| lemon   \t| tablespoon \t| gelato             \t| ...\t | jam\t|\n",
    "|----------|----------\t|--------\t|--------------------\t|--------\t|--------\t|\n",
    "|**p (word2vec prediction)**        | 0.001 | 0.1 | 0.03  | ... | 0.15 |\n",
    "\n",
    "\n",
    "Let's consider the label as a one-hot encoding vector where 1 is over the ground-truth word given by the text.\n",
    "\n",
    "|    \t| lemon   \t| tablespoon \t| gelato             \t| ...\t | jam\t|\n",
    "|----------|----------\t|--------\t|--------------------\t|--------\t|--------\t|\n",
    "|**y label (ground-truth $w_{t-1}$)** | 0 | 1 | 0  | ... | 0 |\n",
    "\n",
    "### We want to adjust the weights $\\bmf{\\theta}$ so that $\\mbf{p}$ matches the label!"
   ]
  },
  {
   "cell_type": "markdown",
   "metadata": {
    "slideshow": {
     "slide_type": "subslide"
    }
   },
   "source": [
    "# Loss function: compare two discrete distributions\n",
    "## In this example $V$ has two words\n",
    "\n",
    "Who can tell me how we can compare two _[discrete]_ probability distributions? We use **cross-entropy.**\n",
    "<br><br>\n",
    "<div align='center'><img src=\"figs/distributions.png\" width='65%' ></div>"
   ]
  },
  {
   "cell_type": "markdown",
   "metadata": {
    "slideshow": {
     "slide_type": "subslide"
    }
   },
   "source": [
    "# Loss function: Cross-entropy (CE)\n",
    "\n",
    "- $\\mbf{y}=[0,0,0,1,0]$ is the **one-hot encoding of the labels** $\\rightarrow$ This is self-supervised by the text itself!\n",
    "- $\\mbf{p}(w_{t-1}|w_{t})=[0.1, 0.1, 0.1, 0.35, 0.35]$ is the output from `word2vec`. We want $\\mbf{p}$ to match $\\mbf{y}$.\n",
    "<br><br>\n",
    "$$ \n",
    "\\mathcal{L}(w_{t-1},w_{t};\\mbf{\\theta})=-\\mbf{y}^{\\top} \\log\\big(\\mbf{p}(w_{t-1}|w_{t}) \\big)\n",
    "$$\n",
    "<br><br>\n",
    "$$-0\\cdot\\ln(0.1)-0\\cdot\\ln(0.1)-0\\cdot\\ln(0.1)\\underbrace{-1\\cdot\\ln(0.35)}_{\\text{only this matter}}-0\\cdot\\ln(0.35)=-1\\cdot\\ln(0.35)\\approx1.04$$"
   ]
  },
  {
   "cell_type": "markdown",
   "metadata": {
    "slideshow": {
     "slide_type": "subslide"
    }
   },
   "source": [
    "# One-hot encoding is a selector!\n",
    "\n",
    "\n",
    "- $\\mbf{y}=[0,0,0,1,0]$ $\\rightarrow$ works as a selector of probability of the actual ground-truth word that we removed!\n",
    "- Of the probabilites returned by `word2vec` select that for which the index $gt$ corresponds to the `1` in the label $\\mbf{y}$\n",
    "- in our case, $gt$ is the index of `tablespoon` in $|V|$.\n",
    "\n",
    "$$ \\mathcal{L}(w_{t-1},w_{t};\\mbf{\\theta}) = -\\log \\mbf{p}\\big(w_{t-1}|w_{t}\\big){[gt]}$$"
   ]
  },
  {
   "cell_type": "markdown",
   "metadata": {
    "slideshow": {
     "slide_type": "subslide"
    }
   },
   "source": [
    "# Loss function simplified\n",
    "\n",
    "We can select immediately $[gt]$ in the numerator.\n",
    "\n",
    "$$\n",
    "\\mathcal{L}(w_{t-1},w_{t};\\mbf{\\theta}) = -\\log \\left(\\frac{\\exp \\big( \\bmf{\\theta}_{C}[gt]\\cdot\\bmf{\\theta}_{W}[i]^T \\big)}{\\sum_{v=1}^{V} \\exp \\big(\\bmf{\\theta}_{C}[v]\\cdot\\bmf{\\theta}_{W}[i]^T\\big)}\\right)\n",
    "$$\n",
    "\n",
    "Sometimes is shown as:\n",
    "\n",
    "$$\n",
    "\\mathcal{L}(w_{t-1},w_{t};\\mbf{\\theta}) = \\underbrace{-\\bmf{\\theta}_{C}[gt]\\cdot\\bmf{\\theta}_{W}[i]^T}_{\\text{similarity center vs context}} + \\underbrace{\\log\\Big(\\sum_{v=1}^{V} \\exp \\big(\\bmf{\\theta}_{C}[v]\\cdot\\bmf{\\theta}_{W}[i]^T\\big)\\Big)}_{\\text{make sure it is a probability}}\n",
    "$$"
   ]
  },
  {
   "cell_type": "markdown",
   "metadata": {
    "slideshow": {
     "slide_type": "subslide"
    }
   },
   "source": [
    "# Exercise A: compute the loss for a center word in word2vec\n",
    " \n",
    "$$\\mbf{p}=\\operatorname{softmax}\\big(\\bmf{\\theta}_C\\cdot\\bmf{\\theta}_{W}[i]^T\\big) $$\n",
    "\n",
    "You can think $\\mbf{p}$ as of this form:\n",
    "\n",
    "|    \t| lemon   \t| tablespoon \t| gelato             \t| ...\t | jam\t|\n",
    "|----------|----------\t|--------\t|--------------------\t|--------\t|--------\t|\n",
    "|**p (word2vec prediction)**        | 0.001 | 0.1 | 0.03  | ... | 0.15 |\n",
    "\n",
    "\n",
    "Let's consider the label as a one-hot encoding vector where 1 is over the ground-truth word given by the text.\n",
    "\n",
    "|    \t| lemon   \t| tablespoon \t| gelato             \t| ...\t | jam\t|\n",
    "|----------|----------\t|--------\t|--------------------\t|--------\t|--------\t|\n",
    "|**y label (ground-truth)** | 0 | 1 | 0  | ... | 0 |\n",
    "\n",
    "$$ \\mathcal{L}(w_{t-1},w_{t};\\mbf{\\theta}) = -\\log \\mbf{p}\\big(w_{t-1}|w_{t}\\big){[gt]} = -\\ln(0.1)\\approx 2.30$$"
   ]
  },
  {
   "cell_type": "markdown",
   "metadata": {
    "slideshow": {
     "slide_type": "subslide"
    }
   },
   "source": [
    "# Exercise B: similar but more complex\n",
    "\n",
    "We give 2D matrix of $\\theta_W$ and $\\theta_C$, the position of the center word and context word, compute the loss."
   ]
  },
  {
   "cell_type": "markdown",
   "metadata": {
    "slideshow": {
     "slide_type": "subslide"
    }
   },
   "source": [
    "# Likelihood over a window\n",
    "\n",
    "Likelihood of the data given the parameters. \n",
    "$$L(\\bmf{\\theta})=p\\big(w_{t-2},w_{t-1},w_{t+1},w_{t+2}|w;\\bmf{\\theta}\\big) \\approx \\prod_{-m\\leq j\\leq m, j \\neq 0}p(w_{t+j}|w_{t};\\bmf{\\theta})$$\n",
    "\n",
    "We seek the parameters $\\bmf{\\theta}$ that maximizes the likelihood of the data.\n",
    "\n",
    "$$ \\bmf{\\theta}^{\\star} = \\arg\\max_{\\bmf{\\theta}} L(\\bmf{\\theta})=p\\big(w_{t-2},w_{t-1},w_{t+1},w_{t+2}|w;\\bmf{\\theta}\\big)$$"
   ]
  },
  {
   "cell_type": "markdown",
   "metadata": {
    "slideshow": {
     "slide_type": "subslide"
    }
   },
   "source": [
    "# Loss function over a window\n",
    "\n",
    "$$\\bmf{\\theta}^{\\star} = \\arg\\max_{\\bmf{\\theta}} L(\\bmf{\\theta})= \\prod_{-m\\leq j\\leq m, j \\neq 0}p(w_{t+j}|w_{t};\\bmf{\\theta}) $$\n",
    "\n",
    "Logarithm is a strictly monotonic function so we can flip the sign, apply the $\\log()$ and **minimize the loss instead:**\n",
    "\n",
    "### Minimize the cross-entropy loss $\\leftrightarrow$ maximizing the likelihood of the data given the parameters\n",
    "<br>\n",
    "$$\\bmf{\\theta}^{\\star} = \\arg\\min_{\\bmf{\\theta}} \\mathcal{L}(\\bmf{\\theta})=-\\sum_{-m\\leq j\\leq m, j \\neq 0} \\log\\big(p(w_{t+j}|w_t;\\bmf{\\theta})\\big)$$"
   ]
  },
  {
   "cell_type": "markdown",
   "metadata": {
    "slideshow": {
     "slide_type": "subslide"
    }
   },
   "source": [
    "# Loss over a window, over all possible windows\n",
    "\n",
    "We iterate over all possibile center words with $t \\in \\{1\\ldots T\\}$ maximizing the likelihood:\n",
    "$$\\bmf{\\theta}^{\\star} = \\arg\\max_{\\bmf{\\theta}} L(\\bmf{\\theta})= \\prod_{t=1}^T\\prod_{-m\\leq j\\leq m, j \\neq 0}p(w_{t+j}|w_{t};\\bmf{\\theta}) $$\n",
    "\n",
    "In practice, we minimize the average negative log-likelihood (loss):\n",
    "\n",
    "$$\\bmf{\\theta}^{\\star} = \\arg\\min_{\\bmf{\\theta}} \\mathcal{L}(\\bmf{\\theta})=-\\frac{1}{T}\\sum_{t=1}^T\\sum_{-m\\leq j\\leq m, j \\neq 0} \\log\\big(p(w_{t+j}|w_t;\\bmf{\\theta})\\big)$$\n",
    "\n",
    "\n",
    "### Minimize the cross-entropy loss is $\\leftrightarrow$ maximizing the likelihood of the data given the parameters"
   ]
  },
  {
   "cell_type": "markdown",
   "metadata": {
    "slideshow": {
     "slide_type": "subslide"
    }
   },
   "source": [
    "# We optimize the loss with SGD\n",
    "\n",
    "$$\\bmf{\\theta}^{\\star} = \\arg\\min_{\\bmf{\\theta}} \\mathcal{L}(\\bmf{\\theta})=-\\frac{1}{T}\\sum_{t=1}^T\\sum_{-m\\leq j\\leq m, j \\neq 0} \\log\\big(p(w_{t+j}|w_t;\\bmf{\\theta})\\big)$$\n",
    "\n",
    "To optimize our $\\bmf{\\theta}$ we have to make a small step in the negative direction of the gradient:\n",
    "\n",
    "$$\\bmf{\\theta} \\leftarrow  \\bmf{\\theta} -\\gamma \\bmf{\\nabla}_{\\bmf{\\theta}}\\mathcal{J}(\\mbf{\\theta};w_{t-1},w_t)$$"
   ]
  },
  {
   "cell_type": "markdown",
   "metadata": {
    "slideshow": {
     "slide_type": "-"
    }
   },
   "source": [
    "Pseudo-code of the training:\n",
    "\n",
    "```python\n",
    "gamma = 1e-3\n",
    "while not converged:\n",
    "    loss = word2vec(corpus, theta)\n",
    "    theta_grad = evaluate_gradient(loss, corpus, theta)\n",
    "    theta = theta - gamma*theta_grad\n",
    "```"
   ]
  },
  {
   "cell_type": "markdown",
   "metadata": {
    "slideshow": {
     "slide_type": "slide"
    }
   },
   "source": [
    "## Example: compute the gradient of the loss wrt center word embedding \n",
    "\n",
    "Define $\\mbf{u}_c\\doteq\\bmf{\\theta}_{W}[i]$ and $\\mbf{u}_o \\doteq \\bmf{\\theta}_{C}[gt]$. Compute the gradient of the loss wrt. to the embedding of the center word $\\mbf{u}_c$\n",
    "\n",
    "$$\n",
    "\\nabla_{\\mbf{u}_c} \\mathcal{L}(\\mbf{u}_c,\\mbf{u}_o) =  \\nabla_{\\mbf{u}_c} -\\log \\left(\\frac{\\exp \\big( \\mbf{u}_o\\cdot\\mbf{u}_c^T \\big)}{\\sum_{v=1}^{V} \\exp \\big(\\mbf{u}_v\\cdot\\mbf{u}_c^T\\big)}\\right)\n",
    "$$\n",
    "\n",
    "Continue on the whiteboard"
   ]
  },
  {
   "cell_type": "markdown",
   "metadata": {
    "slideshow": {
     "slide_type": "subslide"
    }
   },
   "source": [
    "# word2vec with Skip-Gram at a glance\n",
    "\n",
    "... and why it can be seen as a tiny neural net.\n",
    "\n",
    "<div align='center'><img src=\"figs/word2vec_layers.png\" width='65%' ></div>"
   ]
  },
  {
   "cell_type": "markdown",
   "metadata": {
    "slideshow": {
     "slide_type": "subslide"
    }
   },
   "source": [
    "# word2vec learned space\n",
    "\n",
    "word2vec minimizes the loss function by putting similar words (words that happen in same context) nearby in space\n",
    "\n",
    "\n",
    "<div align='center'><img src=\"figs/word2vec_space.png\" width='65%' ></div>\n",
    "<small>Taken from Stanford slide<small>"
   ]
  },
  {
   "cell_type": "markdown",
   "metadata": {
    "slideshow": {
     "slide_type": "slide"
    }
   },
   "source": [
    "# Let's play with word2vec"
   ]
  },
  {
   "cell_type": "markdown",
   "metadata": {
    "slideshow": {
     "slide_type": "subslide"
    }
   },
   "source": [
    "# Show available models in Gensim\n",
    "\n",
    "You need Gensim."
   ]
  },
  {
   "cell_type": "code",
   "execution_count": 25,
   "metadata": {
    "slideshow": {
     "slide_type": "-"
    }
   },
   "outputs": [
    {
     "data": {
      "text/plain": [
       "['fasttext-wiki-news-subwords-300',\n",
       " 'conceptnet-numberbatch-17-06-300',\n",
       " 'word2vec-ruscorpora-300',\n",
       " 'word2vec-google-news-300',\n",
       " 'glove-wiki-gigaword-50',\n",
       " 'glove-wiki-gigaword-100',\n",
       " 'glove-wiki-gigaword-200',\n",
       " 'glove-wiki-gigaword-300',\n",
       " 'glove-twitter-25',\n",
       " 'glove-twitter-50',\n",
       " 'glove-twitter-100',\n",
       " 'glove-twitter-200',\n",
       " '__testing_word2vec-matrix-synopsis']"
      ]
     },
     "execution_count": 25,
     "metadata": {},
     "output_type": "execute_result"
    }
   ],
   "source": [
    "import gensim.downloader\n",
    "# Show all available models in gensim-data\n",
    "list(gensim.downloader.info()['models'].keys())"
   ]
  },
  {
   "cell_type": "markdown",
   "metadata": {
    "slideshow": {
     "slide_type": "subslide"
    }
   },
   "source": [
    "# Let's play with word2vec\n",
    "\n",
    "This is a word2vec trained on entire Google News dataset, of about **100 billion words.**\n",
    "\n",
    "`word2vec-google-news-300`\n",
    "\n",
    "Model is 1.6GB so it will take time to download (it will show progress bar)!\n",
    "\n"
   ]
  },
  {
   "cell_type": "code",
   "execution_count": 26,
   "metadata": {
    "slideshow": {
     "slide_type": "-"
    }
   },
   "outputs": [],
   "source": [
    "import gensim.downloader as api\n",
    "wv = api.load('word2vec-google-news-300')\n",
    "# [==================================================] 100.0% 1662.8/1662.8MB downloaded"
   ]
  },
  {
   "cell_type": "markdown",
   "metadata": {
    "slideshow": {
     "slide_type": "subslide"
    }
   },
   "source": [
    "# The vocabulary"
   ]
  },
  {
   "cell_type": "code",
   "execution_count": 27,
   "metadata": {
    "slideshow": {
     "slide_type": "-"
    }
   },
   "outputs": [
    {
     "name": "stdout",
     "output_type": "stream",
     "text": [
      "vocabulary size is 3000000\n",
      "word #0 over 3000000 is </s>\n",
      "word #1 over 3000000 is in\n",
      "word #2 over 3000000 is for\n",
      "word #3 over 3000000 is that\n",
      "word #4 over 3000000 is is\n",
      "word #5 over 3000000 is on\n",
      "word #6 over 3000000 is ##\n",
      "word #7 over 3000000 is The\n",
      "word #8 over 3000000 is with\n",
      "word #9 over 3000000 is said\n"
     ]
    }
   ],
   "source": [
    "N = len(wv.index_to_key)\n",
    "print(f'vocabulary size is {N}')\n",
    "\n",
    "for index, word in enumerate(wv.index_to_key):\n",
    "    if index == 10:\n",
    "        break\n",
    "    print(f\"word #{index} over {N} is {word}\")"
   ]
  },
  {
   "cell_type": "markdown",
   "metadata": {
    "slideshow": {
     "slide_type": "subslide"
    }
   },
   "source": [
    "# Accessing a word embedding"
   ]
  },
  {
   "cell_type": "code",
   "execution_count": 28,
   "metadata": {
    "slideshow": {
     "slide_type": "-"
    }
   },
   "outputs": [
    {
     "name": "stdout",
     "output_type": "stream",
     "text": [
      "vector shape is (300,)\n"
     ]
    }
   ],
   "source": [
    "vec_king = wv['king']\n",
    "print(f'vector shape is {vec_king.shape}')"
   ]
  },
  {
   "cell_type": "code",
   "execution_count": 29,
   "metadata": {
    "slideshow": {
     "slide_type": "subslide"
    }
   },
   "outputs": [
    {
     "data": {
      "text/html": [
       "<div>\n",
       "<style scoped>\n",
       "    .dataframe tbody tr th:only-of-type {\n",
       "        vertical-align: middle;\n",
       "    }\n",
       "\n",
       "    .dataframe tbody tr th {\n",
       "        vertical-align: top;\n",
       "    }\n",
       "\n",
       "    .dataframe thead th {\n",
       "        text-align: right;\n",
       "    }\n",
       "</style>\n",
       "<table border=\"1\" class=\"dataframe\">\n",
       "  <thead>\n",
       "    <tr style=\"text-align: center;\">\n",
       "      <th></th>\n",
       "      <th>0</th>\n",
       "      <th>1</th>\n",
       "      <th>2</th>\n",
       "      <th>3</th>\n",
       "      <th>4</th>\n",
       "      <th>5</th>\n",
       "      <th>6</th>\n",
       "      <th>7</th>\n",
       "      <th>8</th>\n",
       "      <th>9</th>\n",
       "      <th>...</th>\n",
       "      <th>290</th>\n",
       "      <th>291</th>\n",
       "      <th>292</th>\n",
       "      <th>293</th>\n",
       "      <th>294</th>\n",
       "      <th>295</th>\n",
       "      <th>296</th>\n",
       "      <th>297</th>\n",
       "      <th>298</th>\n",
       "      <th>299</th>\n",
       "    </tr>\n",
       "  </thead>\n",
       "  <tbody>\n",
       "    <tr>\n",
       "      <th>king</th>\n",
       "      <td>0.125977</td>\n",
       "      <td>0.029785</td>\n",
       "      <td>0.008606</td>\n",
       "      <td>0.139648</td>\n",
       "      <td>-0.025635</td>\n",
       "      <td>-0.036133</td>\n",
       "      <td>0.111816</td>\n",
       "      <td>-0.198242</td>\n",
       "      <td>0.05127</td>\n",
       "      <td>0.363281</td>\n",
       "      <td>...</td>\n",
       "      <td>-0.004669</td>\n",
       "      <td>-0.244141</td>\n",
       "      <td>-0.209961</td>\n",
       "      <td>-0.287109</td>\n",
       "      <td>-0.04541</td>\n",
       "      <td>-0.177734</td>\n",
       "      <td>-0.279297</td>\n",
       "      <td>-0.085938</td>\n",
       "      <td>0.091309</td>\n",
       "      <td>0.251953</td>\n",
       "    </tr>\n",
       "  </tbody>\n",
       "</table>\n",
       "<p>1 rows × 300 columns</p>\n",
       "</div>"
      ],
      "text/plain": [
       "         0         1         2         3         4         5         6      \\\n",
       "king  0.125977  0.029785  0.008606  0.139648 -0.025635 -0.036133  0.111816   \n",
       "\n",
       "         7        8         9      ...     290       291       292    \\\n",
       "king -0.198242  0.05127  0.363281  ... -0.004669 -0.244141 -0.209961   \n",
       "\n",
       "         293      294       295       296       297       298       299    \n",
       "king -0.287109 -0.04541 -0.177734 -0.279297 -0.085938  0.091309  0.251953  \n",
       "\n",
       "[1 rows x 300 columns]"
      ]
     },
     "execution_count": 29,
     "metadata": {},
     "output_type": "execute_result"
    }
   ],
   "source": [
    "import pandas as pd\n",
    "pd.DataFrame(dict(king=vec_king.tolist())).T"
   ]
  },
  {
   "cell_type": "markdown",
   "metadata": {
    "slideshow": {
     "slide_type": "-"
    }
   },
   "source": [
    "Watch out if you do not pass before through the vocabulary before asking the model"
   ]
  },
  {
   "cell_type": "code",
   "execution_count": 30,
   "metadata": {
    "slideshow": {
     "slide_type": "-"
    }
   },
   "outputs": [
    {
     "name": "stdout",
     "output_type": "stream",
     "text": [
      "The word 'cameroon' does not appear in this model\n"
     ]
    }
   ],
   "source": [
    "try:\n",
    "    vec_cameroon = wv['cameroon']\n",
    "except KeyError:\n",
    "    print(\"The word 'cameroon' does not appear in this model\")"
   ]
  },
  {
   "cell_type": "markdown",
   "metadata": {
    "slideshow": {
     "slide_type": "subslide"
    }
   },
   "source": [
    "# Word similarities!"
   ]
  },
  {
   "cell_type": "code",
   "execution_count": 31,
   "metadata": {
    "slideshow": {
     "slide_type": "-"
    }
   },
   "outputs": [
    {
     "name": "stdout",
     "output_type": "stream",
     "text": [
      "'car'\t'minivan'\t0.69\n",
      "'car'\t'bicycle'\t0.54\n",
      "'car'\t'airplane'\t0.42\n",
      "'car'\t'cereal'\t0.14\n",
      "'car'\t'communism'\t0.06\n",
      "'car'\t'cartoon'\t0.03\n"
     ]
    }
   ],
   "source": [
    "pairs = [\n",
    "    ('car', 'minivan'),   # a minivan is a kind of car\n",
    "    ('car', 'bicycle'),   # still a wheeled vehicle\n",
    "    ('car', 'airplane'),  # ok, no wheels, but still a vehicle\n",
    "    ('car', 'cereal'),    # ... and so on\n",
    "    ('car', 'communism'),\n",
    "    ('car', 'cartoon'),\n",
    "]\n",
    "for w1, w2 in pairs:\n",
    "    print('%r\\t%r\\t%.2f' % (w1, w2, wv.similarity(w1, w2)))"
   ]
  },
  {
   "cell_type": "markdown",
   "metadata": {
    "slideshow": {
     "slide_type": "subslide"
    }
   },
   "source": [
    "# Most similar"
   ]
  },
  {
   "cell_type": "code",
   "execution_count": 32,
   "metadata": {
    "slideshow": {
     "slide_type": "-"
    }
   },
   "outputs": [
    {
     "data": {
      "text/plain": [
       "[('SUV', 0.8532192707061768),\n",
       " ('vehicle', 0.8175783753395081),\n",
       " ('pickup_truck', 0.7763688564300537),\n",
       " ('Jeep', 0.7567334175109863),\n",
       " ('Ford_Explorer', 0.7565720081329346)]"
      ]
     },
     "execution_count": 32,
     "metadata": {},
     "output_type": "execute_result"
    }
   ],
   "source": [
    "wv.most_similar(positive=['car', 'minivan'], topn=5)"
   ]
  },
  {
   "cell_type": "markdown",
   "metadata": {
    "slideshow": {
     "slide_type": "subslide"
    }
   },
   "source": [
    "# Outlier detection"
   ]
  },
  {
   "cell_type": "code",
   "execution_count": 33,
   "metadata": {
    "slideshow": {
     "slide_type": "-"
    }
   },
   "outputs": [
    {
     "data": {
      "text/plain": [
       "'car'"
      ]
     },
     "execution_count": 33,
     "metadata": {},
     "output_type": "execute_result"
    }
   ],
   "source": [
    "wv.doesnt_match(['fire', 'water', 'land', 'sea', 'air', 'car'])"
   ]
  },
  {
   "cell_type": "markdown",
   "metadata": {
    "slideshow": {
     "slide_type": "subslide"
    }
   },
   "source": [
    "# Analogy using the learned embedding space\n",
    "\n",
    "- word2vec learns relationships between words automatically\n",
    "- Arithmetic of the vectors has surprising properties!\n",
    "\n",
    "`a is to b as a* is to what?`\n",
    "\n",
    "`Man is to King as Woman is to ______`"
   ]
  },
  {
   "cell_type": "markdown",
   "metadata": {
    "slideshow": {
     "slide_type": "fragment"
    }
   },
   "source": [
    "### Algebric way\n",
    "\n",
    "$$\\bmf{\\theta}_W(\\text{king}) - \\bmf{\\theta}_W(\\text{man}) + \\bmf{\\theta}_W(\\text{woman}) \\approx \\bmf{\\theta}_W(\\text{queen})$$"
   ]
  },
  {
   "cell_type": "markdown",
   "metadata": {
    "slideshow": {
     "slide_type": "subslide"
    }
   },
   "source": [
    "# Analogy using the learned embedding space\n",
    "### Geometric way (parallelogram model)\n",
    "<div align='center'><img src=\"figs/word2vec_analogy.png\" width='35%' ></div>"
   ]
  },
  {
   "cell_type": "markdown",
   "metadata": {
    "slideshow": {
     "slide_type": "subslide"
    }
   },
   "source": [
    "# Analogy using the learned embedding space\n",
    "### Optimization\n",
    "$$ \\mbf{a}:\\mbf{b} = \\mbf{a}^{\\star}: \\mbf{b}^{\\star}? $$\n",
    "\n",
    "$$ \\mbf{b}^{\\star} = \\arg\\max_{\\mbf{x}} \\text{sim}(\\mbf{x},\\mbf{b}-\\mbf{a}+\\mbf{a}^{\\star})$$\n",
    " \n",
    "<div align='center'><img src=\"figs/word2vec_analogy.png\" width='35%' ></div>"
   ]
  },
  {
   "cell_type": "markdown",
   "metadata": {
    "slideshow": {
     "slide_type": "subslide"
    }
   },
   "source": [
    "# Analogy"
   ]
  },
  {
   "cell_type": "code",
   "execution_count": 34,
   "metadata": {
    "slideshow": {
     "slide_type": "-"
    }
   },
   "outputs": [],
   "source": [
    "def analogy(x1, x2, y1):\n",
    "    result = wv.most_similar(positive=[y1, x2], negative=[x1])\n",
    "    return result[0][0]"
   ]
  },
  {
   "cell_type": "code",
   "execution_count": 35,
   "metadata": {},
   "outputs": [
    {
     "data": {
      "text/plain": [
       "'queen'"
      ]
     },
     "execution_count": 35,
     "metadata": {},
     "output_type": "execute_result"
    }
   ],
   "source": [
    "analogy('man', 'king', 'woman')"
   ]
  },
  {
   "cell_type": "code",
   "execution_count": 36,
   "metadata": {
    "slideshow": {
     "slide_type": "fragment"
    }
   },
   "outputs": [
    {
     "data": {
      "text/plain": [
       "'beers'"
      ]
     },
     "execution_count": 36,
     "metadata": {},
     "output_type": "execute_result"
    }
   ],
   "source": [
    "analogy('australia', 'beer', 'france')# does not work well with Glove should give you champagne\n"
   ]
  },
  {
   "cell_type": "code",
   "execution_count": 37,
   "metadata": {
    "slideshow": {
     "slide_type": "fragment"
    }
   },
   "outputs": [
    {
     "data": {
      "text/plain": [
       "'kerry'"
      ]
     },
     "execution_count": 37,
     "metadata": {},
     "output_type": "execute_result"
    }
   ],
   "source": [
    "analogy('obama', 'clinton', 'reagan')"
   ]
  },
  {
   "cell_type": "code",
   "execution_count": 38,
   "metadata": {
    "slideshow": {
     "slide_type": "fragment"
    }
   },
   "outputs": [
    {
     "data": {
      "text/plain": [
       "'longest'"
      ]
     },
     "execution_count": 38,
     "metadata": {},
     "output_type": "execute_result"
    }
   ],
   "source": [
    "analogy('tall', 'tallest', 'long')"
   ]
  },
  {
   "cell_type": "code",
   "execution_count": 39,
   "metadata": {
    "slideshow": {
     "slide_type": "fragment"
    }
   },
   "outputs": [
    {
     "data": {
      "text/plain": [
       "'horrible'"
      ]
     },
     "execution_count": 39,
     "metadata": {},
     "output_type": "execute_result"
    }
   ],
   "source": [
    "analogy('good', 'fantastic', 'bad')"
   ]
  }
 ],
 "metadata": {
  "celltoolbar": "Slideshow",
  "kernelspec": {
   "display_name": "Python 3 (ipykernel)",
   "language": "python",
   "name": "python3"
  },
  "language_info": {
   "codemirror_mode": {
    "name": "ipython",
    "version": 3
   },
   "file_extension": ".py",
   "mimetype": "text/x-python",
   "name": "python",
   "nbconvert_exporter": "python",
   "pygments_lexer": "ipython3",
   "version": "3.8.13"
  },
  "latex_envs": {
   "LaTeX_envs_menu_present": true,
   "autoclose": false,
   "autocomplete": false,
   "bibliofile": "biblio.bib",
   "cite_by": "key",
   "current_citInitial": 1,
   "eqLabelWithNumbers": true,
   "eqNumInitial": 1,
   "hotkeys": {
    "equation": "Ctrl-E",
    "itemize": "Ctrl-I"
   },
   "labels_anchors": false,
   "latex_user_defs": false,
   "report_style_numbering": false,
   "user_envs_cfg": false
  },
  "notify_time": "5",
  "rise": {
   "autolaunch": true,
   "overlay": "<div class='myheader'>Natural Language Processing<img src='../sapienza_logo.png'/></div>",
   "transition": "linear"
  },
  "toc": {
   "base_numbering": 1,
   "nav_menu": {},
   "number_sections": true,
   "sideBar": true,
   "skip_h1_title": false,
   "title_cell": "Table of Contents",
   "title_sidebar": "Summary",
   "toc_cell": false,
   "toc_position": {
    "height": "47px",
    "left": "1143px",
    "top": "173px",
    "width": "210.344px"
   },
   "toc_section_display": false,
   "toc_window_display": false
  },
  "varInspector": {
   "cols": {
    "lenName": 16,
    "lenType": 16,
    "lenVar": 40
   },
   "kernels_config": {
    "python": {
     "delete_cmd_postfix": "",
     "delete_cmd_prefix": "del ",
     "library": "var_list.py",
     "varRefreshCmd": "print(var_dic_list())"
    },
    "r": {
     "delete_cmd_postfix": ") ",
     "delete_cmd_prefix": "rm(",
     "library": "var_list.r",
     "varRefreshCmd": "cat(var_dic_list()) "
    }
   },
   "types_to_exclude": [
    "module",
    "function",
    "builtin_function_or_method",
    "instance",
    "_Feature"
   ],
   "window_display": false
  }
 },
 "nbformat": 4,
 "nbformat_minor": 4
}
