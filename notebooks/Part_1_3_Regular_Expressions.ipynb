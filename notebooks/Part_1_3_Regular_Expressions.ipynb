{
  "cells": [
    {
      "cell_type": "markdown",
      "metadata": {
        "id": "QdhvdUzmtkzI"
      },
      "source": [
        "# Part 1.3 - Regular Expressions\n",
        "A regular expression (shortened as regex or `RegEx`), sometimes referred to as a rational expression, is a sequence of characters that specifies a match pattern in text. Usually, such patterns are used by string-searching algorithms for \"**find**\" or \"**find & replace**\" operations on strings, or for input validation. Regular expression techniques are developed in theoretical computer science and formal language theory.\n",
        "\n",
        "**Objectives:**\n",
        "\n",
        "By the end of this notebook, Parham will have learned what `Regular Expressions` are and their use cases in `NLP`. He will acquire the basic concepts and syntax, such as **Quantifiers**, **Anchors**, **Groups**, etc. Subsequently, he will dive into more practical problems, such as **Matching and Extracting data**, and **Substitution and Splitting**. Last but not least, Parham will grasp some advanced techniques in the aforementioned scope, including **Named Groups**, **Non-Capturing Groups**, and **Conditional Statements**. Finally, he will challenge himself with a set of small tasks in this context.\n",
        "\n",
        "**Tabel of Content:**\n",
        "\n",
        "1. Import Libraries\n",
        "2. Introduction to Regular Expressions\n",
        "3. Basic Concepts and Syntax\n",
        "4. Practical Applications\n",
        "5. Advanced Techniques\n",
        "6. Exercises and Challenges\n",
        "7.  Closing Thoughts"
      ]
    },
    {
      "cell_type": "markdown",
      "metadata": {
        "id": "WUmX7sO71Hra"
      },
      "source": [
        "## 1) Import Libraries"
      ]
    },
    {
      "cell_type": "code",
      "execution_count": 1,
      "metadata": {
        "id": "-vf7lt-Z1w9F"
      },
      "outputs": [],
      "source": [
        "# @title\n",
        "import re\n",
        "from loguru import logger\n",
        "import os \n",
        "import sys\n",
        "# Configure logging\n"
      ]
    },
    {
      "cell_type": "markdown",
      "metadata": {
        "id": "9MnBh_WJ17a9"
      },
      "source": [
        "## 2) Introduction to Regular Expressions\n",
        "\n",
        "In this part of the notebook, Parham will gain basic knowledge about `RegEx`, and some of his questions will be answered. These answers will help him understand the core concepts of `RegEx` and prepare him to dive into practical tasks with more confidence.\n",
        "\n",
        "### 1. What are Regular Expressions? \n",
        "Regular expressions (shortened as `regex` or `regexp`) are sequences of characters that define a search pattern. Some operations such as searching, matching, and manipulating text based on specific condition can be achieved by leveraging these patterns. `RegEx` are integral to string-processing algorithms and are used extensively for tasks such as:\n",
        "\n",
        "- **Finding and Replacing:** Searching for specific patterns within text and replacing them with new strings.\n",
        "- **Input Validation:** Ensuring that input strings meet specific formats (e.g., email addresses, phone numbers).\n",
        "- **Text Parsing and Extraction:** Extracting specific data from larger text structures, such as dates, URLs, or particular text segments.\n",
        "\n",
        "Regular expressions are supported by various programming languages and tools, making them a versatile and powerful tool in text processing and data analysis.\n",
        "\n",
        "### 2. How are `RegEx` useful in NLP?\n",
        "\n",
        "Regular expressions are extremely useful in Natural Language Processing (NLP) for several reasons:\n",
        "\n",
        "- **Text Cleaning and Preprocessing:** Regular expressions help in removing irrelevant and redundant characters, normalizing text, and preparing data for further analysis.\n",
        "- **Tokenization:** Splitting text into tokens (words, sentences) based on patterns is a crucial step in many NLP tasks.\n",
        "- **Pattern Matching:** Identifying specific patterns in text, such as dates, phone numbers, email addresses, etc.\n",
        "- **Information Extraction:** Extracting structured information from unstructured text data.\n",
        "- **Data Validation:** Ensuring that input data conforms to expected formats, such as validating email addresses and phone numbers.\n",
        "\n",
        "### 3. How `RegEx` works in the core?\n",
        "\n",
        "To address this question the user will expand his knowledge about the `Regex Engine`. A RegEx engine is the software component that interprets and executes regular expressions. It processes the pattern specified by the `RegEx` and performs the matching operation against the target text. Understanding how the regex engine works can help in writing efficient and effective regular expressions. \n",
        "\n",
        "There are primarily two types of regex engines:\n",
        "\n",
        "- **DFA (Deterministic Finite Automaton) Engine:**\n",
        "  - **Characteristics:** \n",
        "    - Processes the input text in a single pass.\n",
        "    - Always finds the longest possible match.\n",
        "    - No backtracking is involved.\n",
        "  - **Advantages:**\n",
        "    - Fast and efficient, especially for simple patterns.\n",
        "  - **Disadvantages:**\n",
        "    - Limited in terms of features and flexibility.\n",
        "  - **Examples:** Lexical analyzers in compilers often use DFA engines.\n",
        "\n",
        "- **NFA (Non-deterministic Finite Automaton) Engine:**\n",
        "  - **Characteristics:**\n",
        "    - Can backtrack to find matches.\n",
        "    - Supports more complex patterns, including those with nested and recursive structures.\n",
        "  - **Advantages:**\n",
        "    - More flexible and powerful, supporting advanced regex features.\n",
        "  - **Disadvantages:**\n",
        "    - Can be slower due to backtracking, especially with complex patterns.\n",
        "  - **Examples:** Most modern regex implementations, such as those in Perl, Python, and JavaScript, use NFA engines.\n",
        "\n",
        "When you use a regular expression to search through text, the regex engine follows these general steps:\n",
        "\n",
        "- **Compile the Pattern:**\n",
        "  - The regex pattern is parsed and compiled into an internal representation that the engine can work with.\n",
        "\n",
        "- **Search the Text:**\n",
        "  - The engine begins scanning the target text from the start (or from the specified position).\n",
        "  - It tries to match the pattern against the text character by character.\n",
        "\n",
        "- **Backtracking (NFA Engines):**\n",
        "  - If a partial match fails, the engine backtracks to try alternative paths in the pattern. This allows it to handle more complex matching scenarios.\n",
        "\n",
        "- **Return the Result:**\n",
        "  - Once a match is found, the engine returns the match object.\n",
        "  - If no match is found, the engine returns a result indicating no match.\n",
        "\n",
        "**Explain with an example:**\n",
        "\n",
        "  Suppose the user is looking for a specific pattern in a text, namely `/coding/`, in the following sentence:\n",
        "\n",
        "  `coding is a cool hobby.`\n",
        "\n",
        "  Steps Followed by the Regex Engine:\n",
        "\n",
        "  0. **Encoding the Pattern:** The pattern `/coding/` is encoded into tokens that can be interpreted by the regex engine.\n",
        "    \n",
        "  1. **Searching for the Pattern:** The engine begins to search for the specific pattern in the text. In this example, the first character `c` is the first matched candidate, followed by `o` as the second, and so on, until the entire pattern is matched. \n",
        "  \n",
        "  - > The `/g` at the end of the pattern stands for a **global** match, indicating that the engine should find all matches in the text. Without the global flag, the regex engine would return only the first match.\n",
        "\n",
        "  2. **Backtracking:** If a partial match is found but not completed, the engine backtracks. For example, when matching `coding` in `cool`, the engine matches `c` and `o`, but `o` does not match the third character `d` in `coding`. Therefore, the engine backtracks to the beginning of `cool` and continues searching.\n",
        "\n",
        "  3. **Returning Match Objects:** Once all global matches are found, the engine returns the match object(s).\n",
        "\n",
        "  **Step-by-Step Matching**\n",
        "\n",
        "  - The engine starts at the beginning of the text: `coding is a cool hobby.`\n",
        "  - It matches `c`, `o`, `d`, `i`, `n`, `g` with the corresponding characters in `coding` and completes the pattern match.\n",
        "  - The global flag `/g` ensures the engine continues searching through the text, but since there are no other instances of `coding`, the search ends.\n",
        "\n",
        "  **Diagram Illustration**\n",
        "\n",
        "  1. Initial Matching:\n",
        "\n",
        "  ```\n",
        "  coding is a cool hobby.\n",
        "  ^\n",
        "  c\n",
        "  ```\n",
        "\n",
        "  2. Continuing Match:\n",
        "\n",
        "  ```\n",
        "  coding is a cool hobby.\n",
        "  ^^^^^^\n",
        "  coding\n",
        "  ```\n",
        "\n",
        "  3. Backtracking (if needed):\n",
        "\n",
        "  ```\n",
        "  coding is a cool hobby.\n",
        "                ^\n",
        "                d (does not match next part of \"coding\")\n",
        "  ```\n",
        "\n",
        "  4. Completion:\n",
        "  - Once all matches are found, the engine returns the results.\n",
        "\n"
      ]
    },
    {
      "cell_type": "markdown",
      "metadata": {},
      "source": [
        "## 3) Basic Concepts and Syntax\n",
        "\n",
        "In this section, Parham will learn about fundamental concepts and syntax used in `RegEx` including:\n",
        "- Literals and Meta-characters\n",
        "- Character Classes and Sets\n",
        "- Quantifiers\n",
        "- Anchors\n",
        "- Groups and Ranges\n",
        "- Escape Sequences"
      ]
    },
    {
      "cell_type": "markdown",
      "metadata": {},
      "source": [
        "### 3.1) Literals and Meta-characters\n"
      ]
    },
    {
      "cell_type": "markdown",
      "metadata": {},
      "source": [
        "#### 3.1.1) Literals\n",
        "The most basic regular expression consists of a single literal character, such as `a`. It matches the first occurrence of that character in the string. If the string is `Jack is a boy`, it matches the `a` after the `J`. The fact that this `a` is in the middle of the word does not matter to the regex engine. If it matters to you, you will need to tell that to the regex engine by using [word boundaries](https://www.regular-expressions.info/wordboundaries.html). We will get to that later.\n",
        "\n",
        ">The re module offers a set of functions that allows us to search a string for a match:\n",
        "> \n",
        ">| Function  | Description                                                   |\n",
        ">|-----------|---------------------------------------------------------------|\n",
        ">| findall   | Returns a list containing all matches                         |\n",
        ">| search    | Returns a Match object if there is a match anywhere in the string |\n",
        ">| split     | Returns a list where the string has been split at each match  |\n",
        ">| sub       | Replaces one or many matches with a string                    |\n",
        ">| find      | Returns the lowest index of the substring if found in the string |\n",
        ">| finditer  | Returns an iterator yielding Match objects for all matches    |\n",
        "\n"
      ]
    },
    {
      "cell_type": "code",
      "execution_count": 2,
      "metadata": {},
      "outputs": [
        {
          "name": "stdout",
          "output_type": "stream",
          "text": [
            "Pattern: 'a' is found\n"
          ]
        }
      ],
      "source": [
        "import re\n",
        "\n",
        "# Define the text to search\n",
        "text = \"Jack is a boy\"\n",
        "\n",
        "# Define the pattern to search for\n",
        "pattern = r\"a\"\n",
        "\n",
        "# Use re.search to find the first match of the pattern in the text\n",
        "match = re.search(pattern, text)\n",
        "\n",
        "# Check if a match is found and print the matched text\n",
        "if match:\n",
        "    print(f\"Pattern: '{match[0]}' is found\")\n",
        "else:\n",
        "    print(\"No match found.\")\n"
      ]
    },
    {
      "cell_type": "code",
      "execution_count": 3,
      "metadata": {},
      "outputs": [],
      "source": [
        "# @title 🧑🏿‍💻 Your code here"
      ]
    },
    {
      "cell_type": "markdown",
      "metadata": {},
      "source": [
        "**Excercise 1:**\n",
        "\n",
        "Given the following text, find all occurrences of the letter `a`, and count how many times it appears before the first occurrence of the word `apple`. Return both the matches and their positions."
      ]
    },
    {
      "cell_type": "code",
      "execution_count": 103,
      "metadata": {},
      "outputs": [
        {
          "data": {
            "text/plain": [
              "470"
            ]
          },
          "execution_count": 103,
          "metadata": {},
          "output_type": "execute_result"
        }
      ],
      "source": [
        "text = (\"\"\"In a faraway land, \n",
        "        there was a magical forest where apple treees grew abundantly. \n",
        "        One sunny afternoon, \n",
        "        a young adventurer found herself wandering among the apple treees. \n",
        "        She marveled at the vibrant colors and sweet scents. \n",
        "        The apples seemed to be glowing in the sunlight, \n",
        "        and she picked a few to enjoy later. \n",
        "        As she continued her journey, \n",
        "        she found that the apples had a mysterious quality to them.\"\"\")\n",
        "pattern = r\"a\"\n",
        "len(text)"
      ]
    },
    {
      "cell_type": "code",
      "execution_count": 13,
      "metadata": {},
      "outputs": [],
      "source": [
        "# @title 🧑🏿‍💻 Your code here"
      ]
    },
    {
      "cell_type": "code",
      "execution_count": 104,
      "metadata": {},
      "outputs": [
        {
          "name": "stdout",
          "output_type": "stream",
          "text": [
            "Matched text: a, Location: 3\n",
            "Matched text: a, Location: 6\n",
            "Matched text: a, Location: 8\n",
            "Matched text: a, Location: 10\n",
            "Matched text: a, Location: 14\n",
            "Matched text: a, Location: 35\n",
            "Matched text: a, Location: 38\n",
            "Matched text: a, Location: 41\n",
            "Matched text: a, Location: 45\n",
            "Count of 'a' before the first occurrence of 'apple': 9\n"
          ]
        }
      ],
      "source": [
        "# @title 👀 Solution\n",
        "\n",
        "# Find the position of the first occurrence of the word 'apple'\n",
        "apple_position = text.find(\"apple\")\n",
        "\n",
        "# Use re.finditer to find all matches of the pattern in the text\n",
        "matches = re.finditer(pattern, text)\n",
        "\n",
        "# Initialize the count of 'a' before 'apple'\n",
        "count_before_apple = 0\n",
        "\n",
        "# Iterate over the matches and print their positions\n",
        "for match in matches:\n",
        "    position = match.start()\n",
        "    # Increment the count if the position is before 'apple'\n",
        "    if position < apple_position:\n",
        "        print(f\"Matched text: {match[0]}, Location: {position}\")\n",
        "        count_before_apple += 1\n",
        "\n",
        "print(f\"Count of 'a' before the first occurrence of 'apple': {count_before_apple}\")"
      ]
    },
    {
      "cell_type": "markdown",
      "metadata": {},
      "source": [
        "**Exercise 2**: \n",
        "\n",
        "Find all occurrences of the letter a, and count how many times it appears between the first and second occurrences of the word apple. Return both the matches and their positions, and the count of a characters between the two occurrences of apple."
      ]
    },
    {
      "cell_type": "code",
      "execution_count": 105,
      "metadata": {},
      "outputs": [],
      "source": [
        "# @title 🧑🏿‍💻 Your code here"
      ]
    },
    {
      "cell_type": "code",
      "execution_count": 106,
      "metadata": {},
      "outputs": [
        {
          "name": "stdout",
          "output_type": "stream",
          "text": [
            "Matched text: a, Location: 79\n",
            "Matched text: a, Location: 84\n",
            "Matched text: a, Location: 110\n",
            "Matched text: a, Location: 130\n",
            "Matched text: a, Location: 138\n",
            "Matched text: a, Location: 164\n",
            "Matched text: a, Location: 173\n",
            "Count of 'a' between the first and second occurrences of 'apple': 7\n"
          ]
        }
      ],
      "source": [
        "# @title 👀 Solution\n",
        "# Find the positions of the first and second occurrences of the word 'apple'\n",
        "apple_positions = [m.start() for m in re.finditer(r\"apple\", text)]\n",
        "\n",
        "\n",
        "first_apple_position = apple_positions[0] + len(\"apple\")\n",
        "second_apple_position = apple_positions[1]\n",
        "\n",
        "# Use re.finditer to find all matches of the pattern in the text\n",
        "matches = re.finditer(pattern, text)\n",
        "\n",
        "# Initialize the count of 'a' between the two 'apple'\n",
        "count_between_apples = 0\n",
        "\n",
        "# Iterate over the matches and count 'a' between the two 'apple'\n",
        "for match in matches:\n",
        "    position = match.start()\n",
        "    if first_apple_position <= position < second_apple_position:\n",
        "        count_between_apples += 1\n",
        "        print(f\"Matched text: {match[0]}, Location: {position}\")\n",
        "\n",
        "print(f\"Count of 'a' between the first and second occurrences of 'apple': {count_between_apples}\")"
      ]
    },
    {
      "cell_type": "markdown",
      "metadata": {},
      "source": [
        "#### 3.1.2) Meta-characters\n",
        "\n",
        "Meta-characters are special characters in regular expressions that have specific meanings and functions. They help define complex patterns and provide powerful matching capabilities. Here are some common meta-characters and their meanings:\n",
        "\n",
        "| Symbol                      | Description                                       | Pattern  | Text Examples               | Matches        |\n",
        "|-----------------------------|---------------------------------------------------|----------|-----------------------------|-----------------|\n",
        "| **Dot (`.`)**               | Matches any single character except a newline.   | `c.t`    | `cat`, `cot`, `cut`         | Matches all     |\n",
        "| **Caret (`^`)**             | Matches the start of a string.                   | `^The`   | `The cat`, `A cat`          | `The cat`       |\n",
        "| **Dollar (`$`)**            | Matches the end of a string.                     | `cat$`   | `The cat`, `The cat is here`| `The cat`       |\n",
        "| **Asterisk (`*`)**          | It specifies that the preceding element may occur zero or more times. | `ca*t`   | `ct`, `cat`, `caat`         | Matches all     |\n",
        "| **Plus (`+`)**              | Matches one or more of the preceding character.  | `ca+t`   | `cat`, `caat`, `ct`         | `cat`, `caat`   |\n",
        "| **Question Mark (`?`)**     | Matches zero or one of the preceding character.  | `ca?t`   | `cat`, `ct`                 | `cat`, `ct`     |\n",
        "| **Braces (`{n,m}`)**        | Matches between `n` and `m` occurrences of the preceding character. | `a{2,4}` | `aa`, `aaa`, `aaaa` | Matches all     |\n",
        "| **Square Brackets (`[]`)**  | Matches any one of the characters inside the brackets. | `[abc]` | `a`, `b`, `c`            | Matches all     |\n",
        "| **Pipe (`\\|`)**             | Acts as an OR operator.                         | `cat\\|dog` | `cat`, `dog`               | Matches either  |\n",
        "| **Parentheses (`()`)**      | Groups patterns and captures the matched text.  | `(ab)+`  | `ab`, `abab`               | Matches both    |\n",
        "\n",
        "\n"
      ]
    },
    {
      "cell_type": "code",
      "execution_count": 121,
      "metadata": {},
      "outputs": [
        {
          "name": "stderr",
          "output_type": "stream",
          "text": [
            "\u001b[32m2024-08-09 01:32:00.832\u001b[0m | \u001b[1mINFO    \u001b[0m | \u001b[36m__main__\u001b[0m:\u001b[36m<module>\u001b[0m:\u001b[36m2\u001b[0m - \u001b[1mExample for Dot (.)\u001b[0m\n"
          ]
        },
        {
          "name": "stdout",
          "output_type": "stream",
          "text": [
            "Dot matches: ['and', 'and', 'and', 'and']\n"
          ]
        },
        {
          "name": "stderr",
          "output_type": "stream",
          "text": [
            "\u001b[32m2024-08-09 01:32:00.834\u001b[0m | \u001b[1mINFO    \u001b[0m | \u001b[36m__main__\u001b[0m:\u001b[36m<module>\u001b[0m:\u001b[36m8\u001b[0m - \u001b[1mExample for Caret (^)\u001b[0m\n"
          ]
        },
        {
          "name": "stdout",
          "output_type": "stream",
          "text": [
            "Caret match: I\n"
          ]
        },
        {
          "name": "stderr",
          "output_type": "stream",
          "text": [
            "\u001b[32m2024-08-09 01:32:00.836\u001b[0m | \u001b[1mINFO    \u001b[0m | \u001b[36m__main__\u001b[0m:\u001b[36m<module>\u001b[0m:\u001b[36m14\u001b[0m - \u001b[1mExample for Dollar ($)\u001b[0m\n"
          ]
        },
        {
          "name": "stdout",
          "output_type": "stream",
          "text": [
            "Dollar match: them.\n"
          ]
        },
        {
          "name": "stderr",
          "output_type": "stream",
          "text": [
            "\u001b[32m2024-08-09 01:32:00.837\u001b[0m | \u001b[1mINFO    \u001b[0m | \u001b[36m__main__\u001b[0m:\u001b[36m<module>\u001b[0m:\u001b[36m20\u001b[0m - \u001b[1mExample for Asterisk (*)\u001b[0m\n"
          ]
        },
        {
          "name": "stdout",
          "output_type": "stream",
          "text": [
            "Asterisk matches: ['a', 'a', 'a', 'a', 'a', 'a', 'a', 'a', 'a', 'app', 'a', 'a', 'a', 'a', 'a', 'a', 'a', 'app', 'a', 'a', 'a', 'a', 'app', 'a', 'a', 'a', 'a', 'app', 'a', 'a', 'a']\n"
          ]
        },
        {
          "name": "stderr",
          "output_type": "stream",
          "text": [
            "\u001b[32m2024-08-09 01:32:00.838\u001b[0m | \u001b[1mINFO    \u001b[0m | \u001b[36m__main__\u001b[0m:\u001b[36m<module>\u001b[0m:\u001b[36m27\u001b[0m - \u001b[1mExample for Plus (+)\u001b[0m\n"
          ]
        },
        {
          "name": "stdout",
          "output_type": "stream",
          "text": [
            "Plus matches: ['s', 's', 's', 's', 's', 's', 's', 's', 's', 's', 's', 's', 's', 's', 's', 's', 's', 's', 's', 's']\n"
          ]
        },
        {
          "name": "stderr",
          "output_type": "stream",
          "text": [
            "\u001b[32m2024-08-09 01:32:00.838\u001b[0m | \u001b[1mINFO    \u001b[0m | \u001b[36m__main__\u001b[0m:\u001b[36m<module>\u001b[0m:\u001b[36m33\u001b[0m - \u001b[1mExample for Question Mark (?)\u001b[0m\n"
          ]
        },
        {
          "name": "stdout",
          "output_type": "stream",
          "text": [
            "Question Mark matches: ['the', 'tre', 'te', 'the', 'tre', 'the', 'the', 'te', 'the', 'te', 'the']\n"
          ]
        },
        {
          "name": "stderr",
          "output_type": "stream",
          "text": [
            "\u001b[32m2024-08-09 01:32:00.839\u001b[0m | \u001b[1mINFO    \u001b[0m | \u001b[36m__main__\u001b[0m:\u001b[36m<module>\u001b[0m:\u001b[36m39\u001b[0m - \u001b[1mExample for Braces (`{n,m}`)\u001b[0m\n"
          ]
        },
        {
          "name": "stdout",
          "output_type": "stream",
          "text": [
            "Match: 'pp' found in positions 62:64\n",
            "Match: 'pp' found in positions 184:186\n",
            "Match: 'pp' found in positions 273:275\n",
            "Match: 'p' found in positions 334:335\n",
            "Match: 'pp' found in positions 431:433\n"
          ]
        },
        {
          "name": "stderr",
          "output_type": "stream",
          "text": [
            "\u001b[32m2024-08-09 01:32:00.840\u001b[0m | \u001b[1mINFO    \u001b[0m | \u001b[36m__main__\u001b[0m:\u001b[36m<module>\u001b[0m:\u001b[36m52\u001b[0m - \u001b[1mExample for Square Brackets (`[]`)\u001b[0m\n"
          ]
        },
        {
          "name": "stdout",
          "output_type": "stream",
          "text": [
            "['h', 'e', 'a', 'i', 'i', 'm', 'e']\n"
          ]
        },
        {
          "name": "stderr",
          "output_type": "stream",
          "text": [
            "\u001b[32m2024-08-09 01:32:00.841\u001b[0m | \u001b[1mINFO    \u001b[0m | \u001b[36m__main__\u001b[0m:\u001b[36m<module>\u001b[0m:\u001b[36m59\u001b[0m - \u001b[1mExample for Pipe (`|`)\u001b[0m\n"
          ]
        },
        {
          "name": "stdout",
          "output_type": "stream",
          "text": [
            "['there', 'tree', 'tree']\n",
            "Yes, there is/are 3 match(es)!\n"
          ]
        },
        {
          "name": "stderr",
          "output_type": "stream",
          "text": [
            "\u001b[32m2024-08-09 01:32:00.842\u001b[0m | \u001b[1mINFO    \u001b[0m | \u001b[36m__main__\u001b[0m:\u001b[36m<module>\u001b[0m:\u001b[36m68\u001b[0m - \u001b[1mExample for Parentheses (`()`)\u001b[0m\n"
          ]
        },
        {
          "name": "stdout",
          "output_type": "stream",
          "text": [
            "Match: 'race in 2 hours and 30 minutes.'\n",
            "Group 1 (race): 'race'\n",
            "Group 2 (time): '2 hours'\n",
            "Group 3 (time): '30 minutes.'\n"
          ]
        }
      ],
      "source": [
        "# Dot (.)\n",
        "logger.info(\"Example for Dot (.)\")\n",
        "pattern = r\"a.d\"\n",
        "matches = re.findall(pattern, text)\n",
        "print(f\"Dot matches: {matches if matches else 'No match'}\")\n",
        "sys.stdout.flush() \n",
        "# Caret (^)\n",
        "logger.info(\"Example for Caret (^)\")\n",
        "pattern = r\"^I\"\n",
        "match = re.search(pattern, text)\n",
        "print(f\"Caret match: {match[0] if match else 'No match'}\")\n",
        "sys.stdout.flush() \n",
        "# Dollar ($)\n",
        "logger.info(\"Example for Dollar ($)\")\n",
        "pattern = r\"them\\.$\"\n",
        "match = re.search(pattern, text)\n",
        "print(f\"Dollar match: {match[0] if match else 'No match'}\")\n",
        "sys.stdout.flush() \n",
        "# Asterisk (*)\n",
        "logger.info(\"Example for Asterisk (*)\")\n",
        "pattern = r\"ap*\"\n",
        "matches = re.findall(pattern, text)\n",
        "print(f\"Asterisk matches: {matches}\")\n",
        "sys.stdout.flush() \n",
        "\n",
        "# Plus (+)\n",
        "logger.info(\"Example for Plus (+)\")\n",
        "pattern = r\"s+\"\n",
        "matches = re.findall(pattern, text)\n",
        "print(f\"Plus matches: {matches}\")\n",
        "sys.stdout.flush() \n",
        "# Question Mark (?) make the previous character optional\n",
        "logger.info(\"Example for Question Mark (?)\")\n",
        "pattern = r\"t.?e\" # find zero/one char between \"t\" and the \"e\"\n",
        "matches = re.findall(pattern, text)\n",
        "print(f\"Question Mark matches: {matches}\")\n",
        "sys.stdout.flush() \n",
        "\n",
        "logger.info(\"Example for Braces (`{n,m}`)\")\n",
        "# Define the pattern to match sequences of 2 to 3 'l's\n",
        "pattern = r\"p{1,3}\"\n",
        "# Find all matches of the pattern\n",
        "matches = re.finditer(pattern, text)\n",
        "# Print the matches and the words containing them\n",
        "for match in matches:\n",
        "    # Find the start and end indices of the match\n",
        "    start_index = match.start()\n",
        "    end_index = match.end()\n",
        "    print(f\"Match: '{text[start_index:end_index]}' found in positions {start_index}:{end_index}\")\n",
        "\n",
        "sys.stdout.flush()\n",
        "logger.info(\"Example for Square Brackets (`[]`)\") \n",
        "txt = \"The rain in Rome\"\n",
        "#Find all lower case characters alphabetically between \"a\" and \"m\":\n",
        "matches = re.findall(\"[a-m]\", txt)\n",
        "print(matches)\n",
        "sys.stdout.flush()\n",
        "\n",
        "logger.info(\"Example for Pipe (`|`)\") \n",
        "pattern = r\"tree|there\"\n",
        "matches = re.findall(pattern, text)\n",
        "if matches:\n",
        "  print(matches)\n",
        "  print(f\"Yes, there is/are {len(matches)} match(es)!\")\n",
        "else:\n",
        "  print(\"No match\")\n",
        "sys.stdout.flush()\n",
        "logger.info(\"Example for Parentheses (`()`)\")\n",
        "\n",
        "# Define the pattern to match the word \"race\" followed by \"in\" and a time (e.g., \"2 hours\")\n",
        "txt = \"The runner finished the race in 2 hours and 30 minutes.\"\n",
        "\n",
        "pattern = r\"(race) in (\\d+ hours) and (\\d+ minutes.)\"\n",
        "\n",
        "# Find all matches of the pattern\n",
        "matches = re.finditer(pattern, txt)\n",
        "\n",
        "# Print the matches and the groups\n",
        "for match in matches:\n",
        "    # Print the entire match\n",
        "    print(f\"Match: '{match.group(0)}'\")\n",
        "    # Print the captured groups\n",
        "    print(f\"Group 1 (race): '{match.group(1)}'\")\n",
        "    print(f\"Group 2 (time): '{match.group(2)}'\")\n",
        "    print(f\"Group 3 (time): '{match.group(3)}'\")\n"
      ]
    },
    {
      "cell_type": "code",
      "execution_count": null,
      "metadata": {
        "id": "BadqVnjB1HRc"
      },
      "outputs": [],
      "source": []
    }
  ],
  "metadata": {
    "colab": {
      "provenance": []
    },
    "kernelspec": {
      "display_name": "Python 3",
      "name": "python3"
    },
    "language_info": {
      "codemirror_mode": {
        "name": "ipython",
        "version": 3
      },
      "file_extension": ".py",
      "mimetype": "text/x-python",
      "name": "python",
      "nbconvert_exporter": "python",
      "pygments_lexer": "ipython3",
      "version": "3.10.14"
    }
  },
  "nbformat": 4,
  "nbformat_minor": 0
}
