{
 "cells": [
  {
   "cell_type": "markdown",
   "metadata": {},
   "source": [
    "# Part 1.4 - REs and finite state automata\n",
    "\n",
    "In Natural Language Processing (`NLP`), Finite Automata plays a crucial role in recognizing and processing patterns within text. They are used to model the sequence of states and transitions that a system undergoes in response to a string of inputs, making them particularly effective for tasks like lexical analysis, tokenization, and syntax parsing. The theory of Finite Automata is deeply intertwined with Regular Expressions (`Regex`), as every regular expression can be converted into an equivalent finite automaton, and vice versa. This relationship is significant because it provides a formal and efficient way to implement regex patterns using finite state machines. By understanding Finite Automata, Parham can gain insight into how `Regex` operate at a fundamental level, allowing him to better grasp how patterns are matched and how text is processed in various NLP tasks.\n",
    "\n",
    "\n",
    "**Objectives:**\n",
    "\n",
    "By the end of this notebook, Parham will have learned the theory of finite automata and how to apply it in code. He will leverage the well-known Python library, `automata-lib`, to gain hands-on experience with the `Automaton` class. Subsequently, Parham will use the available functions of the library to convert finite automata patterns into `Regex` patterns. Additionally, various exception classes will be discussed to ensure that errors are handled appropriately.\n",
    "\n",
    "**Tabel of Content:**\n",
    "\n",
    "1. Import Libraries\n",
    "2. Introduction to the theory of finit-autonama\n",
    "3. Class Automation\n",
    "4. Regular Expressions\n",
    "5. Exceptions and Errors\n",
    "6. Closing Thoughts"
   ]
  },
  {
   "cell_type": "code",
   "execution_count": null,
   "metadata": {},
   "outputs": [],
   "source": []
  }
 ],
 "metadata": {
  "language_info": {
   "name": "python"
  }
 },
 "nbformat": 4,
 "nbformat_minor": 2
}
