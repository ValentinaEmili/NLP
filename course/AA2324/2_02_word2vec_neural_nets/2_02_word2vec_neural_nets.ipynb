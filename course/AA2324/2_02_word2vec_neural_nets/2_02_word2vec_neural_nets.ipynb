{
 "cells": [
  {
   "cell_type": "markdown",
   "metadata": {
    "slideshow": {
     "slide_type": "slide"
    }
   },
   "source": [
    "# Natural Language Processing\n",
    "\n",
    "### 2.2 Scaling word2vec and introduction to Neural Nets for NLP\n",
    "<br><br>\n",
    "Prof. Iacopo Masi and Prof. Stefano Faralli"
   ]
  },
  {
   "cell_type": "code",
   "execution_count": 1,
   "metadata": {
    "hide_input": true,
    "slideshow": {
     "slide_type": "skip"
    }
   },
   "outputs": [],
   "source": [
    "import matplotlib.pyplot as plt\n",
    "import scipy\n",
    "import random\n",
    "import numpy as np\n",
    "import pandas as pd\n",
    "pd.set_option('display.colheader_justify', 'center')"
   ]
  },
  {
   "cell_type": "code",
   "execution_count": 2,
   "metadata": {
    "hide_input": true,
    "run_control": {
     "marked": false
    },
    "scrolled": true,
    "slideshow": {
     "slide_type": "skip"
    }
   },
   "outputs": [],
   "source": [
    "import matplotlib\n",
    "import matplotlib.pyplot as plt\n",
    "import numpy as np\n",
    "%matplotlib inline\n",
    "#plt.style.use('seaborn-whitegrid')\n",
    "\n",
    "font = {'family' : 'Times',\n",
    "        'weight' : 'bold',\n",
    "        'size'   : 12}\n",
    "\n",
    "matplotlib.rc('font', **font)\n",
    "\n",
    "\n",
    "# Aux functions\n",
    "\n",
    "def plot_grid(Xs, Ys, axs=None):\n",
    "    ''' Aux function to plot a grid'''\n",
    "    t = np.arange(Xs.size) # define progression of int for indexing colormap\n",
    "    if axs:\n",
    "        axs.plot(0, 0, marker='*', color='r', linestyle='none') #plot origin\n",
    "        axs.scatter(Xs,Ys, c=t, cmap='jet', marker='.') # scatter x vs y\n",
    "        axs.axis('scaled') # axis scaled\n",
    "    else:\n",
    "        plt.plot(0, 0, marker='*', color='r', linestyle='none') #plot origin\n",
    "        plt.scatter(Xs,Ys, c=t, cmap='jet', marker='.') # scatter x vs y\n",
    "        plt.axis('scaled') # axis scaled\n",
    "        \n",
    "def linear_map(A, Xs, Ys):\n",
    "    '''Map src points with A'''\n",
    "    # [NxN,NxN] -> NxNx2 # add 3-rd axis, like adding another layer\n",
    "    src = np.stack((Xs,Ys), axis=Xs.ndim)\n",
    "    # flatten first two dimension\n",
    "    # (NN)x2\n",
    "    src_r = src.reshape(-1,src.shape[-1]) #ask reshape to keep last dimension and adjust the rest\n",
    "    # 2x2 @ 2x(NN)\n",
    "    dst = A @ src_r.T # 2xNN\n",
    "    #(NN)x2 and then reshape as NxNx2\n",
    "    dst = (dst.T).reshape(src.shape)\n",
    "    # Access X and Y\n",
    "    return dst[...,0], dst[...,1]\n",
    "\n",
    "\n",
    "def plot_points(ax, Xs, Ys, col='red', unit=None, linestyle='solid'):\n",
    "    '''Plots points'''\n",
    "    ax.set_aspect('equal')\n",
    "    ax.grid(True, which='both')\n",
    "    ax.axhline(y=0, color='gray', linestyle=\"--\")\n",
    "    ax.axvline(x=0, color='gray',  linestyle=\"--\")\n",
    "    ax.plot(Xs, Ys, color=col)\n",
    "    if unit is None:\n",
    "        plotVectors(ax, [[0,1],[1,0]], ['gray']*2, alpha=1, linestyle=linestyle)\n",
    "    else:\n",
    "        plotVectors(ax, unit, [col]*2, alpha=1, linestyle=linestyle)\n",
    "\n",
    "def plotVectors(ax, vecs, cols, alpha=1, linestyle='solid'):\n",
    "    '''Plot set of vectors.'''\n",
    "    for i in range(len(vecs)):\n",
    "        x = np.concatenate([[0,0], vecs[i]])\n",
    "        ax.quiver([x[0]],\n",
    "                   [x[1]],\n",
    "                   [x[2]],\n",
    "                   [x[3]],\n",
    "                   angles='xy', scale_units='xy', scale=1, color=cols[i],\n",
    "                   alpha=alpha, linestyle=linestyle, linewidth=2)"
   ]
  },
  {
   "cell_type": "markdown",
   "metadata": {
    "hide_input": true,
    "slideshow": {
     "slide_type": "skip"
    }
   },
   "source": [
    "## My own latex definitions\n",
    "\n",
    "$$\\def\\mbf#1{\\mathbf{#1}}$$\n",
    "$$\\def\\bmf#1{\\boldsymbol{#1}}$$\n",
    "$$\\def\\bx{\\mbf{x}}$$\n",
    "$$\\def\\bxt#1{\\mbf{x}_{\\text{#1}}}$$\n",
    "$$\\def\\bv{\\mbf{v}}$$\n",
    "$$\\def\\bz{\\mbf{z}}$$\n",
    "$$\\def\\bmu{\\bmf{\\mu}}$$\n",
    "$$\\def\\bsigma{\\bmf{\\Sigma}}$$\n",
    "$$\\def\\Rd#1{\\in \\mathbb{R}^{#1}}$$\n",
    "$$\\def\\chain#1#2{\\frac{\\partial #1}{\\partial #2}}$$\n",
    "$$\\def\\loss{\\mathcal{L}}$$\n",
    "$$\\def\\params{\\bmf{\\theta}}$$\n"
   ]
  },
  {
   "cell_type": "markdown",
   "metadata": {
    "slideshow": {
     "slide_type": "slide"
    }
   },
   "source": [
    "# Today's lecture\n",
    "## - Skip-Gram and Continuous Bag of Words (CBOW)\n",
    "## - How to scale word2vec\n",
    "### - Negative Sampling\n",
    "### - Hierarchical Softmax\n",
    "## - Introduction to Neural Nets for NLP"
   ]
  },
  {
   "cell_type": "markdown",
   "metadata": {
    "slideshow": {
     "slide_type": "slide"
    }
   },
   "source": [
    "# This lecture material is taken from\n",
    "📘 **Chapter 6 Jurafsky Book**\n",
    "\n",
    "📘 **Chapter 14.5 Eisenstein Book**\n",
    "- [Stanford Slide Word2Vec](http://web.stanford.edu/class/cs224n/slides/cs224n-2022-lecture01-wordvecs2.pdf)\n",
    "- [Stanford Lecture Word2Vec](https://www.youtube.com/watch?v=rmVRLeJRkl4&list=PLoROMvodv4rOSH4v6133s9LFPRHjEmbmJ&index=1)\n",
    "- [Stanford Notes on Word2Vec](http://web.stanford.edu/class/cs224n/readings/cs224n-2019-notes01-wordvecs1.pdf)\n",
    "\n",
    "Another good yet short resource is [[d2l.ai] Word embedding](https://d2l.ai/chapter_natural-language-processing-pretraining/word2vec.html)\n",
    "\n",
    "📝 Research papers on word2vec and hierarchical softmax:\n",
    "- [First paper: word2vec + hierarchical softmax](https://arxiv.org/pdf/1301.3781.pdf)\n",
    "- [Negative Sampling paper](https://proceedings.neurips.cc/paper/2013/file/9aa42b31882ec039965f3c4923ce901b-Paper.pdf)\n",
    "- [A Scalable Hierarchical Distributed Language Model](http://papers.nips.cc/paper/3583-a-scalable-hierarchical-distributed-language-model.pdf)"
   ]
  },
  {
   "cell_type": "markdown",
   "metadata": {
    "cell_style": "split",
    "slideshow": {
     "slide_type": "subslide"
    }
   },
   "source": [
    "# word2vec is a generic framework \n",
    "\n",
    "`word2vec` presents two algorithms:\n",
    " 1. ~~Skip-Gram~~\n",
    " 2. **Continuous Bag-of-Word** (CBOW)  _(we see it today!)_\n",
    " "
   ]
  },
  {
   "cell_type": "markdown",
   "metadata": {
    "cell_style": "split",
    "slideshow": {
     "slide_type": "fragment"
    }
   },
   "source": [
    "<br><br>\n",
    "\n",
    "Also it offers different training methods:\n",
    " - ~~with naive softmax~~  \n",
    " - **negative sampling** from [Mikolov et al. 2013]\n",
    " - **hierarchical softmax** _(we see them today!)_"
   ]
  },
  {
   "cell_type": "markdown",
   "metadata": {
    "slideshow": {
     "slide_type": "subslide"
    }
   },
   "source": [
    "# word2vec: Skip-Gram Self-Supervision\n",
    "\n",
    "⚠️ With **strong naive conditional independence assumption** \n",
    "<br/>\n",
    "\n",
    "$$ p(w_{t-2},w_{t-1},w_{t+1},w_{t+2}|w_t;\\bmf{\\theta}) \\approx \\prod_{-m\\leq j\\leq m}^m p(c_{t+j}|w_t;\\bmf{\\theta})$$\n",
    "\n",
    "<br/>\n",
    "\n",
    "|   | ~~lemon~~, | ~~a~~ | [tablespoon | of | apricot | jam | a] | ~~pinch~~ |\n",
    "|:-:|:------:|:-:|:-----------:|:--:|:-------:|:---:|:--:|:-----:|\n",
    "|   |        |   |      w_{t-2}     | w_{t-1} |    **$w_t$**    |  w_{t+1} | w_{t+2} |       |\n"
   ]
  },
  {
   "cell_type": "markdown",
   "metadata": {
    "slideshow": {
     "slide_type": "subslide"
    }
   },
   "source": [
    "# word2vec: Skip-Gram Self-Supervision\n",
    "\n",
    "Given the example below, we have to compute:\n",
    "<br/>\n",
    "\n",
    "$$p(w_{t-2}|w_t)\\cdot p(w_{t-1}|w_t)\\cdot p(w_{t+1}|w_t)\\cdot p(w_{t+2}|w_t)$$\n",
    "<br/><br/>\n",
    "<div align='center'><img src=\"figs/word2vec_skipgram.png\" width='65%' ></div>"
   ]
  },
  {
   "cell_type": "markdown",
   "metadata": {
    "slideshow": {
     "slide_type": "subslide"
    }
   },
   "source": [
    "# word2vec: Skip-Gram with softmax\n",
    "\n",
    "Parameters to learn: $$\\bmf{\\theta} = [\\bmf{\\theta}_W;\\bmf{\\theta}_C]$$\n",
    "\n",
    "<div align='center'><img src=\"figs/word2vec_params.png\" width='45%' ></div>"
   ]
  },
  {
   "cell_type": "markdown",
   "metadata": {
    "slideshow": {
     "slide_type": "subslide"
    }
   },
   "source": [
    "# word2vec with Skip-Gram at a glance\n",
    "\n",
    "... and why it can be seen as a tiny neural net.\n",
    "\n",
    "<div align='center'><img src=\"figs/word2vec_layers.png\" width='65%' ></div>"
   ]
  },
  {
   "cell_type": "markdown",
   "metadata": {
    "slideshow": {
     "slide_type": "subslide"
    }
   },
   "source": [
    "# Loss function: compare two discrete distributions\n",
    " \n",
    "$$\\mbf{p}=\\operatorname{softmax}\\big(\\bmf{\\theta}_C\\cdot\\bmf{\\theta}_{W}[i]^T\\big) $$\n",
    "\n",
    "You can think $\\mbf{p}$ as of this form:\n",
    "\n",
    "|    \t| lemon   \t| tablespoon \t| gelato             \t| ...\t | jam\t|\n",
    "|----------|----------\t|--------\t|--------------------\t|--------\t|--------\t|\n",
    "|**p (word2vec prediction)**        | 0.001 | 0.1 | 0.03  | ... | 0.15 |\n",
    "\n",
    "\n",
    "Let's consider the label as a one-hot encoding vector where 1 is over the ground-truth word given by the text.\n",
    "\n",
    "|    \t| lemon   \t| tablespoon \t| gelato             \t| ...\t | jam\t|\n",
    "|----------|----------\t|--------\t|--------------------\t|--------\t|--------\t|\n",
    "|**y label (ground-truth $w_{t-1}$)** | 0 | 1 | 0  | ... | 0 |\n",
    "\n",
    "### We want to adjust the weights $\\bmf{\\theta}$ so that $\\mbf{p}$ matches the label!"
   ]
  },
  {
   "cell_type": "markdown",
   "metadata": {
    "slideshow": {
     "slide_type": "subslide"
    }
   },
   "source": [
    "# One-hot encoding is a selector!\n",
    "\n",
    "\n",
    "- $\\mbf{y}=[0,0,0,1,0]$ $\\rightarrow$ works as a selector of probability of the actual ground-truth word that we removed!\n",
    "- Of the probabilites returned by `word2vec` select that for which the index $gt$ corresponds to the `1` in the label $\\mbf{y}$\n",
    "- in our case, $gt$ is the index of `tablespoon` in $|V|$.\n",
    "\n",
    "$$ \\mathcal{L}(w_{t-1},w_{t};\\mbf{\\theta}) = -\\log \\big[\\mbf{p}\\big(w_{t-1}|w_{t}\\big)\\big]{[gt]}$$"
   ]
  },
  {
   "cell_type": "markdown",
   "metadata": {
    "slideshow": {
     "slide_type": "subslide"
    }
   },
   "source": [
    "# Loss function simplified\n",
    "\n",
    "We can select immediately $[gt]$ in the numerator.\n",
    "\n",
    "$$\n",
    "\\mathcal{L}(w_{t-1},w_{t};\\mbf{\\theta}) = -\\log \\left(\\frac{\\exp \\big( \\bmf{\\theta}_{C}[gt]\\cdot\\bmf{\\theta}_{W}[i]^T \\big)}{\\sum_{v=1}^{V} \\exp \\big(\\bmf{\\theta}_{C}[v]\\cdot\\bmf{\\theta}_{W}[i]^T\\big)}\\right)\n",
    "$$\n",
    "\n",
    "Sometimes is shown as:\n",
    "\n",
    "$$\n",
    "\\mathcal{L}(w_{t-1},w_{t};\\mbf{\\theta}) = \\underbrace{-\\bmf{\\theta}_{C}[gt]\\cdot\\bmf{\\theta}_{W}[i]^T}_{\\text{similarity center vs context}} + \\underbrace{\\log\\Big(\\sum_{v=1}^{V} \\exp \\big(\\bmf{\\theta}_{C}[v]\\cdot\\bmf{\\theta}_{W}[i]^T\\big)\\Big)}_{\\text{make sure it is a probability}}\n",
    "$$"
   ]
  },
  {
   "cell_type": "markdown",
   "metadata": {
    "slideshow": {
     "slide_type": "slide"
    }
   },
   "source": [
    "# word2vec: Continuous Bag-of-Word (C-BOW)"
   ]
  },
  {
   "cell_type": "markdown",
   "metadata": {
    "cell_style": "split",
    "slideshow": {
     "slide_type": "subslide"
    }
   },
   "source": [
    "# Skip-Gram\n",
    "\n",
    "$$ p(w_{t-2},w_{t-1},w_{t+1},w_{t+2}|w_t;\\bmf{\\theta})$$"
   ]
  },
  {
   "cell_type": "markdown",
   "metadata": {
    "cell_style": "split",
    "slideshow": {
     "slide_type": "fragment"
    }
   },
   "source": [
    "# C-BOW\n",
    "\n",
    "$$ p(w_t|w_{t-2},w_{t-1},w_{t+1},w_{t+2};\\bmf{\\theta})$$"
   ]
  },
  {
   "cell_type": "markdown",
   "metadata": {
    "slideshow": {
     "slide_type": "subslide"
    }
   },
   "source": [
    "# word2vec: C-BOW\n",
    "\n",
    "Given the context $w_{t-2},w_{t-1},w_{t+1},w_{t+2} \\longrightarrow p(w_t)$\n",
    "<br><br>\n",
    "\n",
    "\n",
    "|   | ~~lemon~~, | ~~a~~ | [tablespoon | of | ----?---| jam | a] | ~~pinch~~ |\n",
    "|:-:|:------:|:-:|:-----------:|:--:|:-------:|:---:|:--:|:-----:|\n",
    "|   |        |   |      w_{t-2}     | w_{t-1} |    **$w_t$**    |  w_{t+1} | w_{t+2} |       |"
   ]
  },
  {
   "cell_type": "markdown",
   "metadata": {
    "slideshow": {
     "slide_type": "slide"
    }
   },
   "source": [
    "# word2vec: Continuous Bag-of-Word (CBOW)\n",
    "\n",
    "$$w_{t-2},w_{t-1},w_{t+1},w_{t+2} \\longrightarrow p(w_t)$$<br>\n",
    " \n",
    "$$\\bmf{\\theta}_{C_{avg}} = \\sum_{-m\\leq j\\leq m,~j \\neq 0} \\bmf{\\theta}_{C}[t+j]$$\n",
    "<br>\n",
    "<div align='center'><img src=\"figs/word2vec_cbow.png\" width='65%' ></div>"
   ]
  },
  {
   "cell_type": "markdown",
   "metadata": {
    "slideshow": {
     "slide_type": "subslide"
    }
   },
   "source": [
    "# word2vec: Continuous Bag-of-Word (CBOW)\n",
    "\n",
    "<div align='center'><img src=\"figs/word2vec_layers_cbow.png\" width='65%' ></div>"
   ]
  },
  {
   "cell_type": "markdown",
   "metadata": {
    "slideshow": {
     "slide_type": "subslide"
    }
   },
   "source": [
    "# How to compute $p(w_{t-1}|w_{avg})$?\n",
    "1. $\\bmf{\\theta}_{C_{avg}}$ is the average embedding from the context parameters $\\bmf{\\theta}_{C}$. The average is computed once defined the context window size.\n",
    "\n",
    "$$\\underbrace{\\mbf{z}}_{|V|\\times 1}=\\overbrace{\\underbrace{\\bmf{\\theta}_C}_{|V|\\times D}}^{\\text{as center}}\\cdot\\overbrace{\\underbrace{\\bmf{\\theta}_{C_{avg}}^T}_{D\\times 1}}^{\\text{as context}} $$\n",
    "\n",
    "2. $\\mbf{z}$ is logits and encodes the similarity via dot product of the average context word embedding $\\bmf{\\theta}_{C_{avg}}$ **against all vocabulary words** taken as center $\\bmf{\\theta}_C$\n",
    "\n",
    "3. We pass $\\mbf{z}$ through softmax operator to get a distribution over $|V|$ as: $$\\mbf{p}=\\operatorname{softmax}(\\mbf{z}) $$\n",
    "\n",
    "You can think $\\mbf{p}$ as of this form:\n",
    "\n",
    "|    \t| lemon   \t| tablespoon \t| gelato             \t| ...\t | jam\t|\n",
    "|----------|----------\t|--------\t|--------------------\t|--------\t|--------\t|\n",
    "|**p** | 0.001 | 0.1 | 0.03  | ... | 0.15 |"
   ]
  },
  {
   "cell_type": "markdown",
   "metadata": {
    "slideshow": {
     "slide_type": "slide"
    }
   },
   "source": [
    "# Skipgram vs CBOW at a glance\n",
    "\n",
    "<div align='center'><img src=\"figs/skip_vs_cbow.png\" width='65%' ></div>"
   ]
  },
  {
   "cell_type": "markdown",
   "metadata": {
    "slideshow": {
     "slide_type": "subslide"
    }
   },
   "source": [
    "# Computational Complexity\n",
    "\n",
    "- word2vec computes a **normalized probability over\n",
    "word tokens (over the vocabulary $V$)**\n",
    "- A naive  implementation of this probability requires <ins>summing over the entire vocabulary $V$</ins>\n",
    "\n",
    "$$\n",
    "\\mathcal{L}(w_{t-1},w_{t};\\mbf{\\theta}) = -\\log \\left(\\frac{\\exp \\big( \\bmf{\\theta}_{C}[gt]\\cdot\\bmf{\\theta}_{W}[i]^T \\big)}{\\sum_{v=1}^{V} \\exp \\big(\\bmf{\\theta}_{C}[v]\\cdot\\bmf{\\theta}_{W}[i]^T\\big)}\\right)\n",
    "$$\n",
    "\n",
    "The normalization in the denominator is of the order of: $$ \\mathcal{O}(|V|\\times D)$$ where:\n",
    "- $|V|$ is the vocabulary size and e.g. $|V|=3M$ \n",
    "- $D$ is the dimension of the embeddings e.g. $D=300$."
   ]
  },
  {
   "cell_type": "markdown",
   "metadata": {
    "slideshow": {
     "slide_type": "subslide"
    }
   },
   "source": [
    "# Two solutions to approximate the denominator\n",
    "\n",
    "\n",
    "1. Negative sampling (Contrastive method)\n",
    "2. Hierarchical Softmax (Tree-based solution)"
   ]
  },
  {
   "cell_type": "markdown",
   "metadata": {
    "slideshow": {
     "slide_type": "slide"
    }
   },
   "source": [
    "# Scaling word2vec with Negative Sampling"
   ]
  },
  {
   "cell_type": "markdown",
   "metadata": {
    "slideshow": {
     "slide_type": "subslide"
    }
   },
   "source": [
    "# Skip-gram with Negative Sampling (SGNS)\n",
    "\n",
    "Instead of doing:\n",
    "\n",
    "1. **Center word vs ground-truth context embedding** $\\longrightarrow \\bmf{\\theta}_{C}[gt]\\cdot\\bmf{\\theta}_{W}[i]^T$\n",
    "2. normalize as a distribution: **all context vs center word** $\\longrightarrow \\sum_{v=1}^{V} \\exp \\big(\\bmf{\\theta}_{C}[v]\\cdot\\bmf{\\theta}_{W}[i]^T\\big)$\n",
    "\n",
    "$$\n",
    "\\mathcal{L}(w_{t-1},w_{t};\\mbf{\\theta}) = \\underbrace{-\\bmf{\\theta}_{C}[gt]\\cdot\\bmf{\\theta}_{W}[i]^T}_{\\text{similarity center vs context}} + \\underbrace{\\log\\Big(\\sum_{v=1}^{V} \\exp \\big(\\bmf{\\theta}_{C}[v]\\cdot\\bmf{\\theta}_{W}[i]^T\\big)\\Big)}_{\\text{make sure it is a probability}}\n",
    "$$"
   ]
  },
  {
   "cell_type": "markdown",
   "metadata": {
    "slideshow": {
     "slide_type": "subslide"
    }
   },
   "source": [
    "# Skip-gram with Negative Sampling (SGNS)\n",
    "\n",
    "We \"relax\" the denominator and do:\n",
    "\n",
    "1. _[Same as before]_ **Center word vs ground-truth context embedding** $\\longrightarrow \\bmf{\\theta}_{C}[gt]\\cdot\\bmf{\\theta}_{W}[i]^T$\n",
    "2. Approximate the denominator as:\n",
    " - Sample a $k$ context words from $V$.\n",
    " - Compare **each $k$-th sampled word vs center word**"
   ]
  },
  {
   "cell_type": "markdown",
   "metadata": {
    "slideshow": {
     "slide_type": "subslide"
    }
   },
   "source": [
    "# Negative Sampling is a form of Contrastive Method\n",
    "\n",
    "<br><div align='center'><img src=\"figs/word2vec_contrastive.png?1\" width='45%' ></div>"
   ]
  },
  {
   "cell_type": "markdown",
   "metadata": {
    "slideshow": {
     "slide_type": "subslide"
    }
   },
   "source": [
    "# Negative Sampling is a form of Contrastive Method\n",
    "\n",
    "- **Positive Constraint:**\n",
    "    - Pull $\\bmf{\\theta}_{C}[gt]$ and $\\bmf{\\theta}_{W}$ to be \"close\" in space (give high dot-product score)\n",
    "    - Center and ground-truth context need to have high similarity\n",
    "    - In doing so we may make other words unrelated to be close in the space, so **we have to push them away**\n",
    "- **Negative Constraint:**\n",
    "    - We have to push away $\\bmf{\\theta}_{W}$ for any other remaining $\\bmf{\\theta}_{C}[i] \\quad \\forall i \\in V, i \\neq gt$ \n",
    "    - Before, this was done by forcing the total \"mass\" over the vocabulary distribution to sum to 1."
   ]
  },
  {
   "cell_type": "markdown",
   "metadata": {
    "slideshow": {
     "slide_type": "subslide"
    }
   },
   "source": [
    "# Consider the simplified case: a center vs a context word\n",
    "\n",
    "<br><div align='center'><img src=\"figs/word2vec_negative_onesample.png\" width='65%' ></div>"
   ]
  },
  {
   "cell_type": "markdown",
   "metadata": {
    "slideshow": {
     "slide_type": "subslide"
    }
   },
   "source": [
    "# Skip-gram with Negative Sampling (SGNS)\n",
    "\n",
    "- Given $w_t$ the center word and $w_{t-2}$ the context word to be predicted; \n",
    "- Assuming $gt$ is the index of $w_{t-2}$ in $V$ and $i$ is the index of $w_t$ in $V$: \n",
    "<br><br>\n",
    "1. **[Positive] Center word vs ground-truth context embedding** $\\longrightarrow \\bmf{\\theta}_{C}[gt]\\cdot\\bmf{\\theta}_{W}[i]^T$\n",
    "2. **[Negative]** Sample $k$ negative indexes $v$ from $V$ such that: $v \\in V, v \\neq gt$\n",
    "\n",
    "### Dot Products:\n",
    "$$ \\underbrace{1}_{\\text{positive; center vs context}} ~~~\\text{vs}~~~ \\underbrace{k}_{\\text{negative; center vs non-context}}$$"
   ]
  },
  {
   "cell_type": "markdown",
   "metadata": {
    "slideshow": {
     "slide_type": "subslide"
    }
   },
   "source": [
    "# Skip-gram with Negative Sampling (SGNS) over a window\n",
    "- Window size is $m=2$ ($m$ is one side of the window, so total context words are $2m$)\n",
    "- Number of negative $k=2$\n",
    "\n",
    "|   | ~~lemon~~, | ~~a~~ | [tablespoon | of | apricot| jam | a] | ~~pinch~~ |\n",
    "|:-:|:------:|:-:|:-----------:|:--:|:-------:|:---:|:--:|:-----:|\n",
    "|   |        |   |      w_{t-2}     | w_{t-1} |    **$w_t$**    |  w_{t+1} | w_{t+2} |       |"
   ]
  },
  {
   "cell_type": "markdown",
   "metadata": {
    "cell_style": "split",
    "slideshow": {
     "slide_type": "-"
    }
   },
   "source": [
    "<br>\n",
    "<div align='center'><img src=\"figs/positive.png\" width='35%' ></div>"
   ]
  },
  {
   "cell_type": "markdown",
   "metadata": {
    "cell_style": "split",
    "slideshow": {
     "slide_type": "-"
    }
   },
   "source": [
    "<br>\n",
    "<div align='center'><img src=\"figs/negative.png\" width='55%' ></div>"
   ]
  },
  {
   "cell_type": "markdown",
   "metadata": {
    "slideshow": {
     "slide_type": "subslide"
    }
   },
   "source": [
    "# so, how do we model that?"
   ]
  },
  {
   "cell_type": "markdown",
   "metadata": {
    "slideshow": {
     "slide_type": "subslide"
    }
   },
   "source": [
    "# From global softmax to binary classification for each pair\n",
    "\n",
    "Recall: words are assumed all conditionally independent [it is not true in pratice!]\n",
    "\n",
    "1. We instantiate a **binary classifier as Logistic Regression** (same as softmax but just two classes, either positive pair $y=+1$ or negative pair $y=0$)\n",
    "2. We use the sigmoid function $\\bmf{\\sigma}$ to map the dot-product result to a probability"
   ]
  },
  {
   "cell_type": "markdown",
   "metadata": {
    "cell_style": "split",
    "slideshow": {
     "slide_type": "subslide"
    }
   },
   "source": [
    "# Binary Logistic Regression\n",
    "\n",
    "\n",
    "$$f_{\\boldsymbol{\\theta}}(\\mbf{x}) \\doteq \\sigma\\left(  \\bmf{\\theta}^T\\mbf{x} \\right)$$\n",
    "\n",
    "where:\n",
    "\n",
    "$$ \\sigma(z)= \\frac{1}{1+\\exp^{-z}} \\quad \\text{sigmoid or logistic function}$$\n",
    "\n",
    "Other important properties:\n",
    "\n",
    "$$\\sigma(z)= \\frac{\\exp^{z}}{1+\\exp^{z}}; \\quad \\sigma(z)= 1-\\sigma(-z) $$"
   ]
  },
  {
   "cell_type": "markdown",
   "metadata": {
    "cell_style": "split",
    "slideshow": {
     "slide_type": "-"
    },
    "variables": {
     "import numpy as np;import matplotlib.pyplot as plt;x = np.arange(-20.0, 20.0, 0.1);y = 1/(1+np.exp(-x));_=plt.plot(x,y);": "<img src=\"data:image/png;base64,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\n\"/>"
    }
   },
   "source": [
    "<br><br> <center>Smooth and Differentiable alternative to sign</center>\n",
    "{{import numpy as np;import matplotlib.pyplot as plt;x = np.arange(-20.0, 20.0, 0.1);y = 1/(1+np.exp(-x));_=plt.plot(x,y);}}"
   ]
  },
  {
   "cell_type": "markdown",
   "metadata": {
    "slideshow": {
     "slide_type": "subslide"
    }
   },
   "source": [
    "# Likelihood with negative sampling\n",
    "<br>\n",
    "<div align='center'><img src=\"figs/word2vec_negative_onesample.png\" width='45%' ></div>\n",
    "<br>\n",
    "$$ \\max_{\\params} \\underbrace{p(y=+1|w_{t-1},w_t;\\params)}_{\\text{pos. center vs context}}\\cdot \\underbrace{\\prod_{k=1}^K p(y=0|w_k,w_t;\\params)}_{\\text{neg. center vs k samples}}$$"
   ]
  },
  {
   "cell_type": "markdown",
   "metadata": {
    "slideshow": {
     "slide_type": "subslide"
    }
   },
   "source": [
    "# Likelihood with negative sampling\n",
    "\n",
    "$$ \\max_{\\params} \\underbrace{p(y=+1|w_{t-1},w_t;\\params)}_{\\text{pos. center vs context}}\\cdot \\underbrace{\\prod_{k=1}^K p(y=0|w_k,w_t;\\params)}_{\\text{neg. center vs k samples}}$$\n",
    "\n",
    "We can apply $\\log$ since is strictly monotonic, will not change the optimization:\n",
    "\n",
    "$$ \\max_{\\params} \\log p(y=+1|w_{t-1},w_t;\\params)+ \\log \\sum_{k=1}^K p(y=0|w_k,w_t;\\params)$$"
   ]
  },
  {
   "cell_type": "markdown",
   "metadata": {
    "slideshow": {
     "slide_type": "fragment"
    }
   },
   "source": [
    "$$ \\max_{\\params} \\log p(y=+1|w_{t-1},w_t;\\params)+ \\log \\sum_{k=1}^K \\underbrace{1- p(y=+1|w_k,w_t;\\params)}_{\\text{it is a binary classifier!}}$$"
   ]
  },
  {
   "cell_type": "markdown",
   "metadata": {
    "slideshow": {
     "slide_type": "subslide"
    }
   },
   "source": [
    "# Likelihood with negative sampling\n",
    "\n",
    "$$ \\max_{\\params} \\log p(y=+1|w_{t-1},w_t;\\params)+  \\sum_{k=1}^K \\log\\big[1- p(y=+1|w_k,w_t;\\params)\\big]$$\n",
    "\n",
    "We replace $p(\\cdot)$ with the logistic regression and using $\\sigma(-z)= 1-\\sigma(z)$, we get:\n",
    "\n",
    "$$ \\max_{\\params} \\log \\sigma \\left(\\params_{C}[gt]^T\\params_W[i]\\right)+ \\sum_{k=1}^K \\log \\big[ \\sigma\\left(-\\params_{C}[k]^T\\params_W[i]\\right)\\big]$$"
   ]
  },
  {
   "cell_type": "markdown",
   "metadata": {
    "slideshow": {
     "slide_type": "subslide"
    }
   },
   "source": [
    "# Loss with negative sampling\n",
    "\n",
    "If we minimize, we have to invert the sign:\n",
    "\n",
    "$$ \\min_{\\params} -\\log \\sigma \\left(\\params_{C}[gt]^T\\params_W[i]\\right) - \\sum_{k=1}^K \\log \\big[ \\sigma\\left(-\\params_{C}[k]^T\\params_W[i]\\right)\\big]$$"
   ]
  },
  {
   "cell_type": "markdown",
   "metadata": {
    "slideshow": {
     "slide_type": "subslide"
    }
   },
   "source": [
    "# Visualization\n",
    "\n",
    "\n",
    "<div align='center'><img src=\"figs/negative_params.png\" width='65%' ></div>"
   ]
  },
  {
   "cell_type": "markdown",
   "metadata": {
    "slideshow": {
     "slide_type": "subslide"
    }
   },
   "source": [
    "# How to sample the negatives\n",
    "\n",
    "Which is, how to select the indexes $k \\in \\{1\\ldots K\\}, k \\neq gt$ in $\\sum_{k=1}^K \\log \\big[ \\sigma\\left(-\\params_{C}[k]^T\\params_W[i]\\right)\\big]$ ?\n",
    "\n",
    "We sample from an **Unigram model** defined over the corpus $V$ as:\n",
    "\n",
    "$$ P(v)_{\\alpha} = \\frac{\\operatorname{count(v)^\\alpha}}{\\sum_{v^{\\prime}}\\operatorname{count(v^{\\prime})^\\alpha}}$$\n",
    "and fixing $\\alpha=\\frac{3}{4}=0.75$\n",
    "\n",
    "<br>\n",
    "Setting $\\alpha=0.75$ gives better performance because <b>gives rare noise words slightly\n",
    "higher probability.</b> For rare words, $P(v)_{\\alpha} > P(v)$ while <b>common words are more or less kept the same.</b>"
   ]
  },
  {
   "cell_type": "markdown",
   "metadata": {
    "slideshow": {
     "slide_type": "slide"
    }
   },
   "source": [
    "# How to sample the negatives\n",
    "\n",
    "$$ P(v)_{\\alpha} = \\frac{\\operatorname{count(v)^\\alpha}}{\\sum_{v^{\\prime}}\\operatorname{count(v^{\\prime})^\\alpha}}$$\n",
    "and fixing $\\alpha=\\frac{3}{4}=0.75$\n",
    "<br><br>\n",
    "**Example:**\n",
    "$$\\text{is:} \\quad {0.9}^{.75} = 0.92\\\\\n",
    "\\text{Constitution:} \\quad {0.09}^{.75} = 0.16\\\\\n",
    "\\text{bombastic:} \\quad 0.01^{.75} = 0.032$$"
   ]
  },
  {
   "cell_type": "markdown",
   "metadata": {
    "slideshow": {
     "slide_type": "subslide"
    }
   },
   "source": [
    "# Sparse Gradients\n",
    "\n",
    "- We iteratively take gradients at each window for SGD\n",
    "- In each window, we only have at most $2m + 1$ words plus $2km$ negative words with negative sampling, so the gradient over a window $\\nabla_{\\params}\\mathcal{L}_t({\\params})$ is very sparse!\n",
    "- Computationally, it is important to not have to send gigantic updates around.\n",
    "\n",
    "$$\n",
    "\\nabla_\\theta \\mathcal{L}(\\theta)=\\left[\\begin{array}{l}\n",
    "\\mbf{0} \\\\\n",
    "\\vdots \\\\\n",
    "\\nabla_{\\params_W{_{l i k e}}} \\\\\n",
    "\\vdots \\\\\n",
    "\\mbf{0} \\\\\n",
    "\\nabla_{\\params_W{_{am}}} \\\\\n",
    "\\vdots \\\\\n",
    "\\nabla_{\\params_W{_{learning}}} \\\\\n",
    "\\vdots\n",
    "\\end{array}\\right] \\in \\mathbb{R}^{2 d V}\n",
    "$$"
   ]
  },
  {
   "cell_type": "markdown",
   "metadata": {
    "slideshow": {
     "slide_type": "slide"
    }
   },
   "source": [
    "# Scaling word2vec with Hierarchical Softmax"
   ]
  },
  {
   "cell_type": "markdown",
   "metadata": {
    "slideshow": {
     "slide_type": "slide"
    }
   },
   "source": [
    "# Hierarchical Softmax in NLP\n",
    "\n",
    "It is an alternative to **Negative Sampling.** We do not use a contrastive method yet we approximate the normalization over the large vocabulary with a **balanced binary tree structure**.\n",
    "\n",
    "Computational cost reduces from $\\mathcal{O} \\big( |V| \\big)$ to $\\mathcal{O}\\big(\\log_2(|V|)\\big)$ **in the best case.**\n"
   ]
  },
  {
   "cell_type": "markdown",
   "metadata": {
    "slideshow": {
     "slide_type": "subslide"
    }
   },
   "source": [
    "# Regular Softmax is a degenerate tree!\n",
    "\n",
    "We change point of view: softmax is a tree of depth=1 and $|V|$ children that are leaf too!\n",
    "\n",
    "Corpus `this is an example of a huffman tree` and assume <ins>**word tokens are characters** to simplify.</ins>\n",
    "<br><br>\n",
    "<div align='center'><img src=\"figs/softmax_tree_linear.png\" width='45%' ></div>\n"
   ]
  },
  {
   "cell_type": "markdown",
   "metadata": {
    "slideshow": {
     "slide_type": "subslide"
    }
   },
   "source": [
    "# Hierarchical Softmax in NLP\n",
    "\n",
    "1. Given a vocabulary of word token $V$ how to construct the tree (there are multiple ways of doing it)\n",
    "2. How to train with the tree\n",
    "3. How to perform inference"
   ]
  },
  {
   "cell_type": "markdown",
   "metadata": {
    "slideshow": {
     "slide_type": "subslide"
    }
   },
   "source": [
    "# Huffman tree\n",
    "\n",
    "Given a vocabulary of word token $V$ how to construct the tree? We use **Huffman trees**\n",
    "\n",
    "The corpus is `this is an example of a huffman tree` and assume <ins>**word tokens are characters** to simplify.</ins>\n",
    "\n",
    "| **chars** | **e** | **a** | **n** | **t** | **m** | **o** | **u** | **i** | **h** | **s** | **x** | **p** | **' '** | **f** | **r** | **l** |\n",
    "|-----------|-------|-------|-------|-------|-------|-------|-------|-------|-------|-------|-------|-------|---------|-------|-------|-------|\n",
    "| **freq**  | 4     | 4     | 2     | 2     | 2     | 1     | 1     | 2     | 2     | 2     | 1     | 1     | 7       | 3     | 1     | 1     |\n",
    "\n",
    "<div align='center'><img src=\"https://upload.wikimedia.org/wikipedia/commons/thumb/8/82/Huffman_tree_2.svg/938px-Huffman_tree_2.svg.png\" width='35%' ></div>\n",
    "\n",
    "<small>picture from Wikipedia</small>"
   ]
  },
  {
   "cell_type": "markdown",
   "metadata": {
    "cell_style": "split",
    "slideshow": {
     "slide_type": "subslide"
    }
   },
   "source": [
    "# Huffman tree\n",
    "\n",
    "- vocabulary $V \\rightarrow$ word frequencies with **Unigram model.**\n",
    "- More frequent word tokens are placed closer to the root; rare words are at deeper layers.\n",
    "    - If you think Information Theory, we \"spend\" less in encoding frequent words and each word has a variable code length.\n",
    "    - We want to encode `'e'` with a bit string. Convention: left is `0` and right is `1`\n",
    "    -  Then encoding of `'e'` is `left->left->left` which is `000` 3 bits\n",
    "    - Yet the encoding of `'p'` is `right->left->left->right->right` which is `10011` 5 bits\n",
    "- Each node has always two children"
   ]
  },
  {
   "cell_type": "markdown",
   "metadata": {
    "cell_style": "split",
    "slideshow": {
     "slide_type": "-"
    }
   },
   "source": [
    "# Huffman tree\n",
    "\n",
    "| **chars** | **e** | **a** | **n** | **t** | **m** | **o** | **u** | **i** | **h** | **s** | **x** | **p** | **' '** | **f** | **r** | **l** |\n",
    "|-----------|-------|-------|-------|-------|-------|-------|-------|-------|-------|-------|-------|-------|---------|-------|-------|-------|\n",
    "| **freq**  | 4     | 4     | 2     | 2     | 2     | 1     | 1     | 2     | 2     | 2     | 1     | 1     | 7       | 3     | 1     | 1     |\n",
    "\n",
    "<br><br>\n",
    "<div align='center'><img src=\"https://upload.wikimedia.org/wikipedia/commons/thumb/8/82/Huffman_tree_2.svg/938px-Huffman_tree_2.svg.png\" width='55%' ></div>\n",
    "\n",
    "<small>picture from Wikipedia</small>"
   ]
  },
  {
   "cell_type": "markdown",
   "metadata": {
    "slideshow": {
     "slide_type": "subslide"
    }
   },
   "source": [
    "# Training with Hierarchical Softmax\n",
    "\n",
    "We do not model anymore $\\params$ as the number of words in $V$, yet we model $\\params$ as the number of internal nodes in the tree $V-1$.\n",
    "\n",
    "We have a feature vector to be learned at each node $i$ of the tree for a total of $2V-1$ vectors to be learned (context and center).\n",
    "\n",
    "We assume Skip-gram and we want to compute $p(w_{t-1}|w_t = \\text{natural})$; we also assume the ground-truth $w_{t-1}$ is language.\n",
    "\n",
    "<div align='center'><img src=\"figs/hsoftmax_1.png\" width='35%' ></div>\n"
   ]
  },
  {
   "cell_type": "markdown",
   "metadata": {
    "slideshow": {
     "slide_type": "subslide"
    }
   },
   "source": [
    "# Training with Hierarchical Softmax\n",
    "\n",
    "Assume Skip-gram and we want to compute $p(w_{t-1}|w_t = \\text{natural})$ and we assume the ground-truth $w_{t-1}$ is language. \n",
    "\n",
    "So we \"bypass\" all paths except the one that from root leads to `language`.\n",
    "\n",
    "<div align='center'><img src=\"figs/hsoftmax_2.png\" width='35%' ></div>\n"
   ]
  },
  {
   "cell_type": "markdown",
   "metadata": {
    "cell_style": "split",
    "slideshow": {
     "slide_type": "subslide"
    }
   },
   "source": [
    "# Training with Hierarchical Softmax\n",
    "\n",
    "$p(w_{t-1}|w_t = \\text{natural})$ and we assume the ground-truth $w_{t-1}$ is \"language\". \n",
    "\n",
    "$$p(w_{t-1}|w_t = \\text{natural}) = \\prod_{n~\\in~path(\\text{root}\\rightarrow \\text{language})} p_{\\operatorname{branch}}\\big(n,i\\big)$$\n",
    "\n",
    "where: \n",
    "$$ \n",
    "p_{\\operatorname{branch}}(n,i) = \\begin{cases} \\sigma\\big(\\boldsymbol{\\theta}_C[n]^T\\boldsymbol{\\theta}_W[i])\\big), & \\mbox{if } \\mbox{left} \\\\ \n",
    "1-\\sigma\\big(\\boldsymbol{\\theta}_C[n]^T\\boldsymbol{\\theta}_W[i])\\big), & \\mbox{if } \\mbox{right} \\end{cases} \n",
    "$$\n",
    "<br>"
   ]
  },
  {
   "cell_type": "markdown",
   "metadata": {
    "cell_style": "split",
    "slideshow": {
     "slide_type": "-"
    }
   },
   "source": [
    "<div align='center'><img src=\"figs/hsoftmax_3.png?2\" width='65%' ></div>"
   ]
  },
  {
   "cell_type": "markdown",
   "metadata": {
    "slideshow": {
     "slide_type": "subslide"
    }
   },
   "source": [
    "# Exercise: compute the loss with Hierarchical Softmax\n",
    "\n",
    "$p(w_{t-1}|w_t = \\text{natural})$ and we assume the ground-truth $w_{t-1}$ is language. \n",
    "\n",
    "<div align='center'><img src=\"figs/hsoftmax_3a.png?2\" width='45%' ></div>"
   ]
  },
  {
   "cell_type": "markdown",
   "metadata": {
    "cell_style": "split",
    "slideshow": {
     "slide_type": "subslide"
    }
   },
   "source": [
    "# Exercise: compute the loss with Hierarchical Softmax\n",
    "<br>\n",
    "<div align='center'><img src=\"figs/hsoftmax_3b.png?2\" width='75%' ></div>"
   ]
  },
  {
   "cell_type": "markdown",
   "metadata": {
    "cell_style": "split",
    "slideshow": {
     "slide_type": "-"
    }
   },
   "source": [
    "# Embeddings as a Matrix\n",
    "\n",
    "The embedding $\\params_C$ are still in a matrix, where each row of the matrix is indexed by the node $n$ index.\n",
    "\n",
    "<div align='center'><img src=\"figs/hsoftmax_matrix.png?2\" width='45%' ></div>"
   ]
  },
  {
   "cell_type": "markdown",
   "metadata": {
    "slideshow": {
     "slide_type": "subslide"
    }
   },
   "source": [
    "# Exercise: compute the loss with Hierarchical Softmax\n",
    "\n",
    "$p(w_{t-1}|w_t = \\text{natural})$ and we assume the ground-truth $w_{t-1}$ is language. \n",
    "\n",
    "<div align='center'><img src=\"figs/hsoftmax_3b.png?2\" width='45%' ></div>"
   ]
  },
  {
   "cell_type": "markdown",
   "metadata": {
    "slideshow": {
     "slide_type": "subslide"
    }
   },
   "source": [
    "# Exercise: compute the loss with Hierarchical Softmax\n",
    "\n",
    "$p(w_{t-1}|w_t = \\text{natural})$ and we assume the ground-truth $w_{t-1}$ is language. \n",
    "\n",
    "<div align='center'><img src=\"figs/hsoftmax_3c.png?2\" width='45%' ></div>"
   ]
  },
  {
   "cell_type": "markdown",
   "metadata": {
    "slideshow": {
     "slide_type": "subslide"
    }
   },
   "source": [
    "# Exercise: compute the loss with Hierarchical Softmax\n",
    "\n",
    "$p(w_{t-1}|w_t = \\text{natural})$ and we assume the ground-truth $w_{t-1}$ is language. \n",
    "\n",
    "<div align='center'><img src=\"figs/hsoftmax_3d.png?2\" width='45%' ></div>"
   ]
  },
  {
   "cell_type": "markdown",
   "metadata": {
    "slideshow": {
     "slide_type": "subslide"
    }
   },
   "source": [
    "# Exercise: compute the loss with Hierarchical Softmax\n",
    "\n",
    "$p(w_{t-1}|w_t = \\text{natural})$ and we assume the ground-truth $w_{t-1}$ is language. \n",
    "\n",
    "<div align='center'><img src=\"figs/hsoftmax_3e.png?2\" width='45%' ></div>"
   ]
  },
  {
   "cell_type": "markdown",
   "metadata": {
    "slideshow": {
     "slide_type": "subslide"
    }
   },
   "source": [
    "# Exercise: compute the loss with Hierarchical Softmax\n",
    "\n",
    "$p(w_{t-1}|w_t = \\text{natural})$ and we assume the ground-truth $w_{t-1}$ is language. \n",
    "\n",
    "<div align='center'><img src=\"figs/hsoftmax_3f.png?2\" width='45%' ></div>"
   ]
  },
  {
   "cell_type": "markdown",
   "metadata": {
    "slideshow": {
     "slide_type": "subslide"
    }
   },
   "source": [
    "# Exercise: compute the loss with Hierarchical Softmax\n",
    "\n",
    "$p(w_{t-1}|w_t = \\text{natural})$ and we assume the ground-truth $w_{t-1}$ is language. \n",
    "\n",
    "<div align='center'><img src=\"figs/hsoftmax_3g.png?2\" width='45%' ></div>"
   ]
  },
  {
   "cell_type": "markdown",
   "metadata": {
    "slideshow": {
     "slide_type": "subslide"
    }
   },
   "source": [
    "# Exercise: compute the loss with Hierarchical Softmax\n",
    "\n",
    "$p(w_{t-1}|w_t = \\text{natural}) = 1 \\cdot 0.9\\cdot0.95\\cdot0.65\\cdot0.2 = 0.11115$\n",
    "\n",
    "Loss is $-\\log\\big(p(w_{t-1}|w_t = \\text{natural})\\big) = -\\log(0.11115)$\n",
    "\n",
    "<div align='center'><img src=\"figs/hsoftmax_3g.png?2\" width='45%' ></div>"
   ]
  },
  {
   "cell_type": "markdown",
   "metadata": {
    "slideshow": {
     "slide_type": "subslide"
    }
   },
   "source": [
    "# Inference with Hierarchical Softmax\n",
    "\n",
    "**Important:** In inference with do not have the label!\n",
    "\n",
    "1. Exhaustive search [too complex]\n",
    "2. Greedy search (at each branch take the branch at maximum probability) [too greedy]\n",
    "3. **Beam search** (we will cover later on)\n",
    "\n"
   ]
  },
  {
   "cell_type": "markdown",
   "metadata": {
    "slideshow": {
     "slide_type": "subslide"
    }
   },
   "source": [
    "# Google Allo project used Beam search/Hierarchical Softmax\n",
    "Google (now dead ☠️ ) project Allo used a Hierarchical tree to speed up inference.\n",
    "<br>\n",
    "<div align='center'><img src=\"figs/allo_2016.png\" width='35%' ></div>\n",
    "\n",
    "<small>Taken from https://ai.googleblog.com/2016/05/chat-smarter-with-allo.html</small>"
   ]
  },
  {
   "cell_type": "markdown",
   "metadata": {
    "slideshow": {
     "slide_type": "subslide"
    }
   },
   "source": [
    "# Google Allo project used Beam search/Hierarchical Softmax\n",
    "\n",
    "Google (now dead ☠️ ) project Allo used a Hierarchical tree to speed up inference.\n",
    "<br>\n",
    "<div align='center'><img src=\"figs/allo_2016_beam_search.png\" width='45%' ></div>\n",
    "\n",
    "<small>Taken from https://ai.googleblog.com/2016/05/chat-smarter-with-allo.html</small>"
   ]
  },
  {
   "cell_type": "markdown",
   "metadata": {
    "slideshow": {
     "slide_type": "subslide"
    }
   },
   "source": [
    "# Google Allo project used Hierarchical Softmax\n",
    "\n",
    "> As with any large-scale product, there were several engineering challenges we had to solve in generating a set of high-quality responses efficiently. For example, in spite of the two staged architecture, our first few networks were very slow and required about half a second to generate a response. This was obviously a deal breaker when we are talking about real time communication apps! \n",
    "\n",
    "> So we had to evolve our neural network architecture further to reduce the latency to less than 200ms. We moved from using **a softmax layer to a hierarchical softmax layer which traverses a tree of words instead of traversing a list of words thus making it more efficient.**\n",
    "\n",
    "<small>Taken from https://ai.googleblog.com/2016/05/chat-smarter-with-allo.html</small>"
   ]
  },
  {
   "cell_type": "markdown",
   "metadata": {
    "slideshow": {
     "slide_type": "slide"
    }
   },
   "source": [
    "# Hints on fastText\n",
    "\n",
    "<div align='center'><img src=https://radimrehurek.com/gensim/_images/sphx_glr_run_fasttext_001.png width='25%' ></div>\n",
    "\n",
    "- Morphological structure of a word carries important information about the meaning of the word.\n",
    "- fastText attempts to solve this by treating **each word as the aggregation of its subwords.**\n",
    "- Morphologically rich languages (German, Turkish) in which a single word can have a large number of morphological forms, each of which might occur rarely, thus making it hard to train good word embeddings.\n"
   ]
  },
  {
   "cell_type": "markdown",
   "metadata": {
    "slideshow": {
     "slide_type": "subslide"
    }
   },
   "source": [
    "\n",
    "# Subword Embedding\n",
    "\n",
    "In English,\n",
    "words such as\n",
    ">\"helps\", \"helped\", and \"helping\" are \n",
    "\n",
    "**inflected forms of the same word \"help\".**\n",
    "The relationship \n",
    "between \"dog\" and \"dogs\"\n",
    "is the same as \n",
    "that between \"cat\" and \"cats\",\n",
    "and \n",
    "the relationship \n",
    "between \"boy\" and \"boyfriend\"\n",
    "is the same as \n",
    "that between \"girl\" and \"girlfriend\".\n",
    "\n",
    "In other languages\n",
    "such as French and Spanish,\n",
    "**many verbs have over 40 inflected forms,**\n",
    "while in Finnish,\n",
    "a noun may have up to 15 cases.\n",
    "\n",
    "**In linguistics,\n",
    "morphology studies word formation and word relationships.**\n",
    "However,\n",
    "the internal structure of words\n",
    "was neither explored in word2vec\n",
    "nor in GloVe."
   ]
  },
  {
   "cell_type": "markdown",
   "metadata": {
    "slideshow": {
     "slide_type": "subslide"
    }
   },
   "source": [
    "## The fastText Model\n",
    "\n",
    "To use morphological information,\n",
    "the *fastText* model\n",
    "proposed a *subword embedding* approach,\n",
    "where a **subword is a character $n$-gram**.\n",
    "\n",
    "Instead of learning word-level vector representations,\n",
    "fastText can be considered as:\n",
    "- the **subword-level skip-gram**,\n",
    "- where each *center word* is represented by the **sum of  its subword vectors**."
   ]
  },
  {
   "cell_type": "markdown",
   "metadata": {
    "slideshow": {
     "slide_type": "subslide"
    }
   },
   "source": [
    "## The fastText Model\n",
    "\n",
    "Let's illustrate how to obtain \n",
    "subwords for each center word in fastText\n",
    "using the word \"where\".\n",
    "1. First, add special characters “&lt;” and “&gt;” \n",
    "at the beginning and end of the word to distinguish prefixes and suffixes from other subwords. \n",
    "2. Then, extract character $n$-grams from the word.\n",
    "For example, when $n=3$,\n",
    "we obtain all subwords of length 3: \"&lt;wh\", \"whe\", \"her\", \"ere\", \"re&gt;\", and the **special subword \"&lt;where&gt;\".**\n",
    "\n",
    "```python\n",
    "S = '<where>'; n=3;\n",
    "for i in range(0, len(S)-n+1):\n",
    "    print(S[i:i+n])\n",
    "```"
   ]
  },
  {
   "cell_type": "markdown",
   "metadata": {
    "slideshow": {
     "slide_type": "subslide"
    }
   },
   "source": [
    "## The fastText Model\n",
    "\n",
    "In fastText, for any word $w$,\n",
    "denote by $\\mathcal{G}_w$\n",
    "the **union of all its subwords of length between 3 and 6\n",
    "and its special subword.**\n",
    "<ins>The vocabulary \n",
    "is the union of the subwords of all words.</ins>\n",
    "Letting $\\mathbf{z}_g$\n",
    "be the vector of subword $g$ in the dictionary,\n",
    "the vector $\\mathbf{v}_w$ for \n",
    "word $w$ as a center word\n",
    "in the skip-gram model\n",
    "is the sum of its subword vectors:\n",
    "\n",
    "$$\\mathbf{v}_w = \\sum_{g\\in\\mathcal{G}_w} \\mathbf{z}_g.$$"
   ]
  },
  {
   "cell_type": "markdown",
   "metadata": {
    "slideshow": {
     "slide_type": "fragment"
    }
   },
   "source": [
    "The rest of fastText is the same as the skip-gram model. Compared with the skip-gram model, \n",
    "**the vocabulary in fastText is larger,**\n",
    "resulting in **more model parameters.**\n",
    "Besides, \n",
    "to calculate the representation of a word,\n",
    "all its subword vectors\n",
    "have to be summed,\n",
    "leading to higher computational complexity.\n",
    "**However,\n",
    "thanks to shared parameters from subwords among words with similar structures,\n",
    "rare words and even out-of-vocabulary words\n",
    "may obtain better vector representations in fastText.**"
   ]
  },
  {
   "cell_type": "markdown",
   "metadata": {
    "slideshow": {
     "slide_type": "slide"
    }
   },
   "source": [
    "# Evaluating Word Embeddings\n",
    "\n",
    "Related to general evaluation in NLP/Machine Learning: **Intrinsic vs. Extrinsic**\n",
    "\n",
    "- **Intrinsic**:\n",
    "\t- Evaluation on a specific/intermediate subtask\n",
    "\t- Fast to compute\n",
    "\t- Helps to understand that system\n",
    "\t- Not clear if really helpful unless correlation to real task is established\n",
    "    - Often involve **correlation with human judgments**\n"
   ]
  },
  {
   "cell_type": "markdown",
   "metadata": {
    "slideshow": {
     "slide_type": "subslide"
    }
   },
   "source": [
    "# Evaluating Word Embeddings\n",
    "\n",
    "Related to general evaluation in NLP/Machine Learning: **Intrinsic vs. Extrinsic**\n",
    "\n",
    "- **Extrinsic**:\n",
    "\t- Evaluation on a real downstream task\n",
    "\t- Can take a long time to compute accuracy\n",
    "\t- Unclear if the subsystem is the problem or its interaction or other subsystems\n",
    "\t- If replacing exactly one subsystem with another improves accuracy $\\rightarrow$ Winner! **(Ablation study)**\n",
    "\t- Always perform validation of the hyper-parameter on a validation (or dev) set; when you are sure then test once.\n",
    "\n",
    "<small>Taken from cs224n Stanford NLP with Deep learning</small>"
   ]
  },
  {
   "cell_type": "markdown",
   "metadata": {
    "slideshow": {
     "slide_type": "slide"
    }
   },
   "source": [
    "# Embedding and Historical Semantics\n",
    "<br>\n",
    "<div align='center'><img src=\"figs/historical.png\" width='65%' ></div>\n"
   ]
  },
  {
   "cell_type": "markdown",
   "metadata": {
    "slideshow": {
     "slide_type": "slide"
    }
   },
   "source": [
    "# Bias and Embeddings ⚠️\n",
    "\n",
    "In addition to their ability to learn word meaning from text, embeddings, alas, also **reproduce the implicit biases and stereotypes** that were **latent in the text**\n",
    "\n",
    "Besides the notorious $$ \\text{man} : \\text{king} = \\text{woman} : \\text{queen}  $$\n",
    "\n",
    "the same embeddings analogies also **exhibit gender bias**"
   ]
  },
  {
   "cell_type": "markdown",
   "metadata": {
    "slideshow": {
     "slide_type": "fragment"
    }
   },
   "source": [
    "$$ \\text{man} : \\text{computer programmer} = \\text{woman} : \\text{homemaker}  $$"
   ]
  },
  {
   "cell_type": "markdown",
   "metadata": {
    "slideshow": {
     "slide_type": "fragment"
    }
   },
   "source": [
    "$$ \\text{father} : \\text{doctor} = \\text{mother} : \\text{nurse}  $$"
   ]
  },
  {
   "cell_type": "markdown",
   "metadata": {
    "slideshow": {
     "slide_type": "subslide"
    }
   },
   "source": [
    "# Bias and Embeddings ⚠️\n",
    "\n",
    "Bias in the embeddings can cause **allocational harm**\n",
    "\n",
    ">when a system allocates resources (jobs or credit) unfairly to different groups. For example algorithms\n",
    "that use embeddings as part of a search for hiring potential programmers or doctors\n",
    "might thus incorrectly downweight documents with women's names"
   ]
  },
  {
   "cell_type": "markdown",
   "metadata": {
    "slideshow": {
     "slide_type": "subslide"
    }
   },
   "source": [
    "# Bias and Embeddings ⚠️\n",
    "\n",
    "Bias in the embeddings can cause **representational harm** as in bias towards the ethnicity groups\n",
    "\n",
    "> Using such methods, people\n",
    "in the United States have been shown to associate African-American names with\n",
    "unpleasant words (more than European-American names), male names more with\n",
    "mathematics and female names with the arts, and old people’s names with unpleasant words"
   ]
  },
  {
   "cell_type": "markdown",
   "metadata": {
    "slideshow": {
     "slide_type": "slide"
    }
   },
   "source": [
    "# Debiasing and Fairness in NLP/Machine Learning \n",
    "# is an Open-Problem"
   ]
  },
  {
   "cell_type": "markdown",
   "metadata": {
    "slideshow": {
     "slide_type": "subslide"
    }
   },
   "source": [
    "# Word Embedding: Topics we did NOT cover\n",
    "\n",
    "- **Global Vector - GloVe** Model: taking the best of both word (SVD-based and iterative, word2vec based). Invented by Stanford.\n",
    "- We only skimmed through **[fastext](https://fasttext.cc/)**: extension of word2vec to deal with the **Out of Vocabulary (OOV) problem**\n",
    "    - [Fastext demo with Gensim](https://radimrehurek.com/gensim/auto_examples/tutorials/run_fasttext.html#sphx-glr-auto-examples-tutorials-run-fasttext-py)"
   ]
  },
  {
   "cell_type": "markdown",
   "metadata": {
    "slideshow": {
     "slide_type": "slide"
    }
   },
   "source": [
    "# Natural Language Processing with Deep Learning"
   ]
  },
  {
   "cell_type": "markdown",
   "metadata": {
    "slideshow": {
     "slide_type": "subslide"
    }
   },
   "source": [
    "# NLP Task\n",
    "# Sentiment Analysis as a classification problem"
   ]
  },
  {
   "cell_type": "markdown",
   "metadata": {
    "slideshow": {
     "slide_type": "subslide"
    }
   },
   "source": [
    "# Sentiment Analysis\n",
    "\n",
    "- We focus on one common text **categorization task: sentiment analysis**. \n",
    "- The extraction of sentiment, the positive or negative orientation that a writer expresses toward some object\n",
    "\n",
    "> A review of a movie, book, or product on the web expresses the\n",
    "author’s sentiment toward the product, while an editorial or political text expresses\n",
    "sentiment toward a candidate or political action. Extracting consumer or public sentiment is thus relevant for fields from marketing to politics."
   ]
  },
  {
   "cell_type": "markdown",
   "metadata": {
    "slideshow": {
     "slide_type": "subslide"
    }
   },
   "source": [
    "# Sentiment Analysis\n",
    "\n",
    "<div align='center'><img src=\"figs/reviews.png\" width='45%' ></div>"
   ]
  },
  {
   "cell_type": "markdown",
   "metadata": {
    "slideshow": {
     "slide_type": "subslide"
    }
   },
   "source": [
    "# Sentiment Analysis: what we want\n",
    "<br>\n",
    "<div align='center'><img src=\"figs/sentiment_analysis.png\" width='80%' ></div>"
   ]
  },
  {
   "cell_type": "markdown",
   "metadata": {
    "slideshow": {
     "slide_type": "subslide"
    }
   },
   "source": [
    "# Sentiment Analysis: what we have\n",
    "<br>\n",
    "<div align='center'><img src=\"figs/sentiment_analysis_training.png\" width='60%' ></div>"
   ]
  },
  {
   "cell_type": "markdown",
   "metadata": {
    "cell_style": "split",
    "slideshow": {
     "slide_type": "subslide"
    }
   },
   "source": [
    "#  Feedforward Neural Net for Sentiment Analysis \n",
    "## w/ \"hand-designed features\"\n",
    "\n",
    "<br>\n",
    "$$\n",
    "\\begin{aligned}\n",
    "& \\mathbf{x}=\\left[\\mathbf{x}_1, \\mathbf{x}_2, \\ldots \\mathbf{x}_N\\right] \\quad\\left(\\text { each } \\mathbf{x}_i \\text { is a hand-designed feature }\\right)\\\\\n",
    "& \\mathbf{h}=\\boldsymbol{\\sigma}(\\mathbf{W} \\mathbf{x}+\\mathbf{b}) \\quad\\left(\\text{ hidden layer }\\right) \\\\\n",
    "& \\mathbf{z}=\\mathbf{U h} \\quad\\left(\\text{ classification layer }\\right) \\\\\n",
    "& \\hat{\\mathbf{y}}=\\operatorname{softmax}(\\mathbf{z})\n",
    "\\end{aligned}\n",
    "$$"
   ]
  },
  {
   "cell_type": "markdown",
   "metadata": {
    "cell_style": "split",
    "slideshow": {
     "slide_type": "-"
    }
   },
   "source": [
    "<div align='center'><img src=\"figs/sentiment_analysis_NN_01.png\" width='110%' ></div>"
   ]
  },
  {
   "cell_type": "markdown",
   "metadata": {
    "slideshow": {
     "slide_type": "subslide"
    }
   },
   "source": [
    "<div align='center'><img src=\"figs/sentiment_analysis_NN_01.png\" width='50%' ></div>"
   ]
  },
  {
   "cell_type": "markdown",
   "metadata": {
    "cell_style": "split",
    "slideshow": {
     "slide_type": "subslide"
    }
   },
   "source": [
    "#  Feedforward Neural Net for Sentiment Analysis \n",
    "## w/ word embeddings\n",
    "\n",
    "We **pool** all the embeddings across the $N$ word tokens we have, using arithmetic mean **(early fusion).**\n",
    "\n",
    "$$\n",
    "\\begin{aligned}\n",
    "& \\mathbf{x}=\\text{mean}\\left(\\mathbf{e}_1, \\mathbf{e}_2, \\ldots \\mathbf{e}_N\\right) \\quad\\left(\\text { each } \\mathbf{e}_i \\text { is a word2vec embedding}\\right) \\\\\n",
    "& \\mathbf{h}=\\boldsymbol{\\sigma}(\\mathbf{W} \\mathbf{x}+\\mathbf{b}) \\quad\\left(\\text{ hidden layer }\\right) \\\\\n",
    "& \\mathbf{z}=\\mathbf{U h} \\quad\\left(\\text{ classification layer }\\right) \\\\\n",
    "& \\hat{\\mathbf{y}}=\\operatorname{softmax}(\\mathbf{z})\n",
    "\\end{aligned}\n",
    "$$\n"
   ]
  },
  {
   "cell_type": "markdown",
   "metadata": {
    "cell_style": "split",
    "slideshow": {
     "slide_type": "-"
    }
   },
   "source": [
    "<br><br><br>\n",
    "<div align='center'><img src=\"figs/sentiment_analysis_NN_02.png\" width='120%' ></div>"
   ]
  },
  {
   "cell_type": "markdown",
   "metadata": {
    "slideshow": {
     "slide_type": "subslide"
    }
   },
   "source": [
    "# Pretraining\n",
    "\n",
    "Learning a representation on top of another is a very important concept which is related to **pretraining** in Deep Learning. \n",
    "You can think of two alternatives:\n",
    "- **Pretrain** word2vec (**offline**); then tune a 2 layer NN on top of them\n",
    "- **Pretrain** word2vec (**offline**) but also tune the word2vec embeddings as you train the 2 layer NN\n",
    "<div align='center'><img src=\"figs/sentiment_analysis_NN_02.png\" width='50%' ></div>\n"
   ]
  },
  {
   "cell_type": "markdown",
   "metadata": {
    "slideshow": {
     "slide_type": "subslide"
    }
   },
   "source": [
    "# NLP Task\n",
    "# Neural Language Model with Feedforward Neural Net\n",
    "\n",
    "<small>Bengio et al, 2003</small>"
   ]
  },
  {
   "cell_type": "markdown",
   "metadata": {
    "cell_style": "split",
    "slideshow": {
     "slide_type": "subslide"
    }
   },
   "source": [
    "# Neural Language Model (Pros)\n",
    "\n",
    "\n",
    "Neural language models can handle:\n",
    "- much longer histories, can generalize better over contexts of similar words and;\n",
    "- are more accurate at word-prediction. "
   ]
  },
  {
   "cell_type": "markdown",
   "metadata": {
    "cell_style": "split",
    "slideshow": {
     "slide_type": "fragment"
    }
   },
   "source": [
    "# Neural Language Model (Cons)\n",
    "\n",
    "On the other hand, neural net language models\n",
    "are:\n",
    "- much more complex, are slower and need more energy to train\n",
    "- are less interpretable than n-gram models"
   ]
  },
  {
   "cell_type": "markdown",
   "metadata": {
    "slideshow": {
     "slide_type": "subslide"
    }
   },
   "source": [
    "# Language Model (LM)\n",
    "\n",
    "**Language Modeling (LM)** is the task of predicting what word comes next:\n",
    "\n",
    "> the students opened their _________"
   ]
  },
  {
   "cell_type": "markdown",
   "metadata": {
    "slideshow": {
     "slide_type": "fragment"
    }
   },
   "source": [
    "books, laptops, exams, minds?"
   ]
  },
  {
   "cell_type": "markdown",
   "metadata": {
    "slideshow": {
     "slide_type": "subslide"
    }
   },
   "source": [
    "# Language Model (LM)\n",
    "More formally, given a sequence of words $w_1,\\ldots,w_t$, compute the probabilities distributions over the text words $w_{t+1}$ where the support of the probability is a vocabulary $V$.\n",
    "\n",
    "$$ p(w_{t+1}|w_t,\\ldots,w_1)$$\n",
    "\n",
    "where $w_{t+1}$ can be any word in $V = \\{w_1,\\ldots,w_{|V|}\\}$\n",
    "\n",
    "A system that does this is called a **Language Model**"
   ]
  },
  {
   "cell_type": "markdown",
   "metadata": {
    "slideshow": {
     "slide_type": "subslide"
    }
   },
   "source": [
    "# Language Model (LM)\n",
    "\n",
    "You can also think a LM as a **machinery that assign a probability to a piece of text of T words:**\n",
    "\n",
    "$$ p(w_t,\\ldots,w_1) = \\underbrace{p(w_t,\\ldots,w_2|w_1)}_{\\text{recursion}} \\cdot \\underbrace{p(w_1)}_{\\text{base case}}$$"
   ]
  },
  {
   "cell_type": "markdown",
   "metadata": {
    "slideshow": {
     "slide_type": "fragment"
    }
   },
   "source": [
    "$$ = p(w_t,\\ldots,w_2|w_1) \\cdot p(w_1) = p(w_t,\\ldots,w_3|w_1,w_2)\\cdot p(w_2|w_1) \\cdot p(w_1) $$"
   ]
  },
  {
   "cell_type": "markdown",
   "metadata": {
    "slideshow": {
     "slide_type": "fragment"
    }
   },
   "source": [
    "$$= p(w_t,\\ldots,w_3|w_1,w_2)\\cdot p(w_2|w_1) \\cdot p(w_1) = \\prod_{t=2}^N p(w_{t}|w_{t-1},\\ldots,w_1) \\cdot p(w_1)$$"
   ]
  },
  {
   "cell_type": "markdown",
   "metadata": {
    "slideshow": {
     "slide_type": "subslide"
    }
   },
   "source": [
    "# We use LM everyday!\n",
    "\n",
    "<div align='center'><img src=\"figs/swiftk_lm.png\" width='50%' ></div>"
   ]
  },
  {
   "cell_type": "markdown",
   "metadata": {
    "slideshow": {
     "slide_type": "subslide"
    }
   },
   "source": [
    "# We use LM everyday!\n",
    "\n",
    "<div align='center'><img src=\"figs/google_lm.png\" width='50%' ></div>"
   ]
  },
  {
   "cell_type": "markdown",
   "metadata": {
    "slideshow": {
     "slide_type": "subslide"
    }
   },
   "source": [
    "# Language Model: the order matters!\n",
    "\n",
    "> the cat is small\n",
    "\n",
    "| 0   | 1   | 2  | 3     |\n",
    "|-----|-----|----|-------|\n",
    "| the | cat | is | small |\n",
    "\n",
    "$$p(\\text{the}, \\text{cat}, \\text{is}, \\text{small}) = 0.035$$\n",
    "\n",
    ">small the is cat\n",
    "\n",
    "| 0     | 1   | 2   | 3  |\n",
    "|-------|-----|-----|----|\n",
    "| small | the | cat | is |\n",
    "\n",
    "$$p(\\text{small}, \\text{the}, \\text{cat}, \\text{is}) = 0.000001$$"
   ]
  },
  {
   "cell_type": "markdown",
   "metadata": {
    "slideshow": {
     "slide_type": "subslide"
    }
   },
   "source": [
    "# Language Model:  N-gram\n",
    "\n",
    "\n",
    "> the students opened their _________\n",
    "\n",
    "- unigrams: \"the\", \"students\", \"opened\", \"their\"\n",
    "- bigrams: \"the students\", \"students opened\", \"opened their\"\n",
    "- trigrams: \"the students opened\", \"students opened their\"\n",
    "- four-grams: \"the students opened their\"\n",
    "\n",
    "\\begin{equation} \\label{eq1}\n",
    "\\begin{split}\n",
    "p(\\text{the}|\\text{its water is so transparent that})=\\\\\n",
    "\\frac{\\text{count}(\\text{its water is so transparent that the})}{\\text{count}(\\text{its water is so transparent that)}}\n",
    "\\end{split}\n",
    "\\end{equation}"
   ]
  },
  {
   "cell_type": "markdown",
   "metadata": {
    "slideshow": {
     "slide_type": "subslide"
    }
   },
   "source": [
    "# Language Model:  N-gram problems\n",
    "\n",
    "As you increase the \"window\" of your context:\n",
    "\n",
    "1. ❌  Sparsity issue increases\n",
    "2. ❌  Storage problem increases\n",
    "\n",
    "**Neural LM** took over N-gram"
   ]
  },
  {
   "cell_type": "markdown",
   "metadata": {
    "slideshow": {
     "slide_type": "subslide"
    }
   },
   "source": [
    "# A fixed-window Neural LM\n",
    "\n",
    "- Like in N-gram, we consider only a portion of text $N$ **window or context size, not the entire text.**\n",
    "\n",
    "$$ p(w_{t+1}|w_t,\\ldots,w_1) \\approx p(w_{t+1}|w_t,\\ldots,w_{t-N})$$\n",
    "- Given the context we use a Feedforward NN to predict the next word (similarly to word2vec).\n",
    "\n",
    "> ~~As the proctor started the clock,~~ the students opened their ______________\n",
    "\n",
    "- Unlike N-gram, it uses **distributed representations**"
   ]
  },
  {
   "cell_type": "markdown",
   "metadata": {
    "slideshow": {
     "slide_type": "subslide"
    }
   },
   "source": [
    "# A fixed-window Neural LM\n",
    "\n",
    "<div align='center'><img src=\"figs/NL_01.png\" width='30%' ></div>"
   ]
  },
  {
   "cell_type": "markdown",
   "metadata": {
    "cell_style": "split",
    "slideshow": {
     "slide_type": "subslide"
    }
   },
   "source": [
    "# A fixed-window Neural LM\n",
    "\n",
    "<div align='center'><img src=\"figs/NL_math_00.png\" width='50%' ></div>"
   ]
  },
  {
   "cell_type": "markdown",
   "metadata": {
    "cell_style": "split",
    "slideshow": {
     "slide_type": "fragment"
    }
   },
   "source": [
    "<br><br><div align='center'><img src=\"figs/NL_01.png\" width='50%' ></div>"
   ]
  },
  {
   "cell_type": "markdown",
   "metadata": {
    "cell_style": "split",
    "slideshow": {
     "slide_type": "subslide"
    }
   },
   "source": [
    "# A fixed-window Neural LM\n",
    "\n",
    "✅ Improvements over n-gram LM \n",
    "- No sparsity problem\n",
    "- No need to store all observed n-grams!\n",
    "\n",
    "❌ Remaining problems:\n",
    "- Fixed window is too small\n",
    "- Enlarging window enlarges $\\mbf{W}$\n",
    "- Window can never be large enough!\n",
    "- No symmetry in how the inputs are processed."
   ]
  },
  {
   "cell_type": "markdown",
   "metadata": {
    "cell_style": "split",
    "slideshow": {
     "slide_type": "fragment"
    }
   },
   "source": [
    "<br><br><div align='center'><img src=\"figs/NL_01.png\" width='50%' ></div>"
   ]
  },
  {
   "cell_type": "markdown",
   "metadata": {
    "slideshow": {
     "slide_type": "subslide"
    }
   },
   "source": [
    "# A fixed-window Neural LM: \n",
    "\n",
    "<br><div align='center'><img src=\"figs/bengio_2003_00.png\" width='50%' ></div>"
   ]
  },
  {
   "cell_type": "markdown",
   "metadata": {
    "slideshow": {
     "slide_type": "subslide"
    }
   },
   "source": [
    "# A fixed-window Neural LM: \n",
    "<br><div align='center'><img src=\"figs/bengio_2003_01.png\" width='60%' ></div>"
   ]
  },
  {
   "cell_type": "markdown",
   "metadata": {
    "slideshow": {
     "slide_type": "subslide"
    }
   },
   "source": [
    "# Training the Neural LM: sliding window\n",
    "\n",
    "<br><div align='center'><img src=\"figs/NL_03.png\" width='50%' ></div>"
   ]
  },
  {
   "cell_type": "markdown",
   "metadata": {
    "slideshow": {
     "slide_type": "subslide"
    }
   },
   "source": [
    "# A fixed-window Neural LM: What we need to move forward\n",
    "\n",
    "- An architecture that can process **any arbitrary length of context**\n",
    "- **Handle word order in a better way** than concatenating embeddings."
   ]
  },
  {
   "cell_type": "markdown",
   "metadata": {
    "slideshow": {
     "slide_type": "subslide"
    }
   },
   "source": [
    "# Appendix on Deep Learning"
   ]
  },
  {
   "cell_type": "markdown",
   "metadata": {
    "cell_style": "split",
    "slideshow": {
     "slide_type": "subslide"
    }
   },
   "source": [
    "# Gradient Descent or Batch GD\n",
    "\n",
    "- Compute the gradient of the loss wrt to params for **all $n$ training samples**\n",
    "- $\\bmf{\\theta} -\\gamma \\sum_{i=1}^n \\bmf{\\nabla}_{\\bmf{\\theta}}\\mathcal{J}(\\mbf{\\theta};\\mbf{x}_i,y_i)$"
   ]
  },
  {
   "cell_type": "markdown",
   "metadata": {
    "cell_style": "split",
    "slideshow": {
     "slide_type": "fragment"
    }
   },
   "source": [
    "# Stochastic Gradient Descent or SGD\n",
    "\n",
    "- Compute the gradient of the loss wrt to params for **a single random training samples**\n",
    "- $\\bmf{\\theta} -\\gamma \\bmf{\\nabla}_{\\bmf{\\theta}}\\mathcal{J}(\\mbf{\\theta};\\mbf{x}_i,y_i)$"
   ]
  },
  {
   "cell_type": "markdown",
   "metadata": {
    "slideshow": {
     "slide_type": "subslide"
    }
   },
   "source": [
    "# How to optimize a Neural Net - SGD over mini-batches\n",
    "\n",
    "\n",
    "1. In-between Batch GD and SGD with a single sample\n",
    "2. We load randomly $k$ samples over the $n$; usually $k$ is a power of 2.\n",
    "    - mini batch of `32, 64, 128` but could also be `100`\n",
    "3. $\\bmf{\\theta} -\\gamma \\sum_{i=1}^k \\bmf{\\nabla}_{\\bmf{\\theta}}\\mathcal{J}(\\mbf{\\theta};\\mbf{x}_i,y_i)$\n",
    "4. Practically you take your training set $\\mathcal{X}$ and you **shuffle** it, then go over it $k$ by $k$. _Simulate uniform random sampling without replacement._\n",
    "    - When the list is over, re-start and shuffle again.\n",
    "5. When you have perfomed a full pass on the shuffled data, this is called an **EPOCH**\n",
    "6. You can train NN over iterations or over **EPOCHS**"
   ]
  },
  {
   "cell_type": "markdown",
   "metadata": {
    "slideshow": {
     "slide_type": "subslide"
    }
   },
   "source": [
    "# Training scheme Pseudo-code\n",
    "\n",
    "```python\n",
    "from random import shuffle\n",
    "training = list(range(1,11)) # each index points to a training sample, could be a matrix x=HxWx3, label y\n",
    "shuffle(training)\n",
    "converge, it, max_it, k, epoch = False, 0, 100, 3, 0\n",
    "while not converge and it < max_it: # you training convergence scheme\n",
    "    print(f'[Epoch {epoch}]')\n",
    "    for b in range(0, len(training), k): # Data Loader gives you a batch k x matrices\n",
    "        mini_batch = training[b:b+k] # so mini-batch is a tensor HxWx3xk\n",
    "        if len(mini_batch) != k: # a possible way of handling the offset\n",
    "            continue\n",
    "        print('SGD step taken over', mini_batch) # compute the loss/gradients and upate your model\n",
    "        loss.backward()  # get the gradients\n",
    "        optimizer.step() # incorporate in the model\n",
    "        # check convergence and set it to True\n",
    "        it += 1\n",
    "    epoch += 1 # an epoch is done, we reshuffle the training set\n",
    "    shuffle(training)\n",
    "```"
   ]
  },
  {
   "cell_type": "markdown",
   "metadata": {
    "slideshow": {
     "slide_type": "subslide"
    }
   },
   "source": [
    "```python\n",
    "> Original unshuffled training set [1, 2, 3, 4, 5, 6, 7, 8, 9, 10]\n",
    "> Training set [10, 8, 1, 2, 6, 4, 9, 7, 5, 3]\n",
    "[Epoch 0]\n",
    "SGD step taken over [10, 8, 1]\n",
    "SGD step taken over [2, 6, 4]\n",
    "SGD step taken over [9, 7, 5]\n",
    "> Training set [1, 10, 6, 9, 3, 7, 8, 4, 5, 2]\n",
    "[Epoch 1]\n",
    "SGD step taken over [1, 10, 6]\n",
    "SGD step taken over [9, 3, 7]\n",
    "SGD step taken over [8, 4, 5]\n",
    "> Training set [6, 3, 10, 5, 9, 8, 4, 7, 2, 1]\n",
    "[Epoch 2]\n",
    "SGD step taken over [6, 3, 10]\n",
    "SGD step taken over [5, 9, 8]\n",
    "SGD step taken over [4, 7, 2]\n",
    "> Training set [1, 2, 5, 10, 6, 7, 9, 8, 3, 4]\n",
    "[Epoch 3]\n",
    "SGD step taken over [1, 2, 5]\n",
    "SGD step taken over [10, 6, 7]\n",
    "SGD step taken over [9, 8, 3]\n",
    "> Training set [2, 3, 1, 9, 6, 8, 4, 10, 7, 5]\n",
    "[Epoch 4]\n",
    "```"
   ]
  },
  {
   "cell_type": "markdown",
   "metadata": {
    "slideshow": {
     "slide_type": "subslide"
    }
   },
   "source": [
    "# Images - Mini-batch is a tensor `HxWx3xk`\n",
    "### as an example with RGB images of size $H\\times W$, you have a tensor that contains $k$ images in the mini-batch"
   ]
  },
  {
   "cell_type": "markdown",
   "metadata": {
    "slideshow": {
     "slide_type": "subslide"
    }
   },
   "source": [
    "# Video Frames - Mini-batch is a tensor `HxWx3xtxk` \n",
    "### as set of frames from a video, you have a tensor that contains $k$ frames over $t$ time instants of the videos in the mini-batch\n"
   ]
  },
  {
   "cell_type": "code",
   "execution_count": 13,
   "metadata": {
    "slideshow": {
     "slide_type": "skip"
    }
   },
   "outputs": [
    {
     "name": "stdout",
     "output_type": "stream",
     "text": [
      "> Training set [2, 7, 9, 1, 4, 8, 6, 10, 3, 5]\n",
      "[Epoch 0]\n",
      "SGD step taken over [2, 7, 9]\n",
      "SGD step taken over [1, 4, 8]\n",
      "SGD step taken over [6, 10, 3]\n",
      "> Training set [10, 4, 8, 6, 7, 9, 3, 2, 1, 5]\n",
      "[Epoch 1]\n",
      "SGD step taken over [10, 4, 8]\n",
      "SGD step taken over [6, 7, 9]\n",
      "SGD step taken over [3, 2, 1]\n",
      "> Training set [7, 1, 10, 8, 9, 3, 5, 4, 6, 2]\n",
      "[Epoch 2]\n",
      "SGD step taken over [7, 1, 10]\n",
      "SGD step taken over [8, 9, 3]\n",
      "SGD step taken over [5, 4, 6]\n",
      "> Training set [2, 10, 5, 8, 7, 9, 6, 4, 3, 1]\n",
      "[Epoch 3]\n",
      "SGD step taken over [2, 10, 5]\n",
      "SGD step taken over [8, 7, 9]\n",
      "SGD step taken over [6, 4, 3]\n",
      "> Training set [8, 6, 1, 7, 3, 9, 4, 2, 10, 5]\n",
      "[Epoch 4]\n",
      "SGD step taken over [8, 6, 1]\n",
      "SGD step taken over [7, 3, 9]\n",
      "SGD step taken over [4, 2, 10]\n",
      "> Training set [8, 5, 7, 4, 2, 3, 6, 1, 10, 9]\n",
      "[Epoch 5]\n",
      "SGD step taken over [8, 5, 7]\n",
      "SGD step taken over [4, 2, 3]\n",
      "SGD step taken over [6, 1, 10]\n",
      "> Training set [9, 1, 8, 7, 2, 3, 10, 6, 4, 5]\n",
      "[Epoch 6]\n",
      "SGD step taken over [9, 1, 8]\n",
      "SGD step taken over [7, 2, 3]\n",
      "SGD step taken over [10, 6, 4]\n",
      "> Training set [1, 10, 2, 6, 3, 9, 8, 4, 5, 7]\n",
      "[Epoch 7]\n",
      "SGD step taken over [1, 10, 2]\n",
      "SGD step taken over [6, 3, 9]\n",
      "SGD step taken over [8, 4, 5]\n",
      "> Training set [5, 2, 3, 6, 7, 1, 4, 10, 9, 8]\n",
      "[Epoch 8]\n",
      "SGD step taken over [5, 2, 3]\n",
      "SGD step taken over [6, 7, 1]\n",
      "SGD step taken over [4, 10, 9]\n",
      "> Training set [7, 1, 5, 4, 3, 8, 10, 9, 6, 2]\n",
      "[Epoch 9]\n",
      "SGD step taken over [7, 1, 5]\n",
      "SGD step taken over [4, 3, 8]\n",
      "SGD step taken over [10, 9, 6]\n",
      "> Training set [5, 6, 10, 4, 2, 8, 1, 7, 3, 9]\n",
      "[Epoch 10]\n",
      "SGD step taken over [5, 6, 10]\n",
      "SGD step taken over [4, 2, 8]\n",
      "SGD step taken over [1, 7, 3]\n",
      "> Training set [5, 3, 1, 10, 7, 9, 6, 4, 2, 8]\n",
      "[Epoch 11]\n",
      "SGD step taken over [5, 3, 1]\n",
      "SGD step taken over [10, 7, 9]\n",
      "SGD step taken over [6, 4, 2]\n",
      "> Training set [8, 4, 9, 6, 2, 5, 10, 1, 7, 3]\n",
      "[Epoch 12]\n",
      "SGD step taken over [8, 4, 9]\n",
      "SGD step taken over [6, 2, 5]\n",
      "SGD step taken over [10, 1, 7]\n",
      "> Training set [9, 8, 3, 4, 6, 10, 5, 1, 2, 7]\n",
      "[Epoch 13]\n",
      "SGD step taken over [9, 8, 3]\n",
      "SGD step taken over [4, 6, 10]\n",
      "SGD step taken over [5, 1, 2]\n",
      "> Training set [1, 10, 9, 2, 3, 7, 8, 6, 5, 4]\n",
      "[Epoch 14]\n",
      "SGD step taken over [1, 10, 9]\n",
      "SGD step taken over [2, 3, 7]\n",
      "SGD step taken over [8, 6, 5]\n",
      "> Training set [4, 5, 3, 2, 6, 1, 10, 8, 9, 7]\n",
      "[Epoch 15]\n",
      "SGD step taken over [4, 5, 3]\n",
      "SGD step taken over [2, 6, 1]\n",
      "SGD step taken over [10, 8, 9]\n",
      "> Training set [3, 4, 6, 8, 1, 10, 9, 5, 2, 7]\n",
      "[Epoch 16]\n",
      "SGD step taken over [3, 4, 6]\n",
      "SGD step taken over [8, 1, 10]\n",
      "SGD step taken over [9, 5, 2]\n",
      "> Training set [1, 5, 8, 6, 2, 4, 7, 10, 9, 3]\n",
      "[Epoch 17]\n",
      "SGD step taken over [1, 5, 8]\n",
      "SGD step taken over [6, 2, 4]\n",
      "SGD step taken over [7, 10, 9]\n",
      "> Training set [6, 5, 9, 10, 7, 1, 2, 4, 8, 3]\n",
      "[Epoch 18]\n",
      "SGD step taken over [6, 5, 9]\n",
      "SGD step taken over [10, 7, 1]\n",
      "SGD step taken over [2, 4, 8]\n",
      "> Training set [3, 1, 10, 9, 5, 7, 6, 2, 8, 4]\n",
      "[Epoch 19]\n",
      "SGD step taken over [3, 1, 10]\n",
      "SGD step taken over [9, 5, 7]\n",
      "SGD step taken over [6, 2, 8]\n",
      "> Training set [3, 8, 6, 7, 5, 10, 9, 1, 4, 2]\n",
      "[Epoch 20]\n",
      "SGD step taken over [3, 8, 6]\n",
      "SGD step taken over [7, 5, 10]\n",
      "SGD step taken over [9, 1, 4]\n",
      "> Training set [8, 1, 9, 5, 2, 7, 10, 4, 6, 3]\n",
      "[Epoch 21]\n",
      "SGD step taken over [8, 1, 9]\n",
      "SGD step taken over [5, 2, 7]\n",
      "SGD step taken over [10, 4, 6]\n",
      "> Training set [2, 8, 3, 5, 4, 9, 7, 10, 6, 1]\n",
      "[Epoch 22]\n",
      "SGD step taken over [2, 8, 3]\n",
      "SGD step taken over [5, 4, 9]\n",
      "SGD step taken over [7, 10, 6]\n",
      "> Training set [5, 9, 10, 8, 2, 7, 6, 1, 4, 3]\n",
      "[Epoch 23]\n",
      "SGD step taken over [5, 9, 10]\n",
      "SGD step taken over [8, 2, 7]\n",
      "SGD step taken over [6, 1, 4]\n",
      "> Training set [10, 4, 6, 8, 2, 5, 7, 1, 3, 9]\n",
      "[Epoch 24]\n",
      "SGD step taken over [10, 4, 6]\n",
      "SGD step taken over [8, 2, 5]\n",
      "SGD step taken over [7, 1, 3]\n",
      "> Training set [8, 7, 5, 1, 4, 3, 9, 6, 10, 2]\n",
      "[Epoch 25]\n",
      "SGD step taken over [8, 7, 5]\n",
      "SGD step taken over [1, 4, 3]\n",
      "SGD step taken over [9, 6, 10]\n",
      "> Training set [7, 1, 3, 4, 9, 5, 6, 8, 2, 10]\n",
      "[Epoch 26]\n",
      "SGD step taken over [7, 1, 3]\n",
      "SGD step taken over [4, 9, 5]\n",
      "SGD step taken over [6, 8, 2]\n",
      "> Training set [5, 3, 4, 6, 10, 8, 1, 7, 9, 2]\n",
      "[Epoch 27]\n",
      "SGD step taken over [5, 3, 4]\n",
      "SGD step taken over [6, 10, 8]\n",
      "SGD step taken over [1, 7, 9]\n",
      "> Training set [4, 1, 8, 3, 9, 6, 2, 7, 10, 5]\n",
      "[Epoch 28]\n",
      "SGD step taken over [4, 1, 8]\n",
      "SGD step taken over [3, 9, 6]\n",
      "SGD step taken over [2, 7, 10]\n",
      "> Training set [9, 4, 10, 3, 7, 1, 5, 6, 8, 2]\n",
      "[Epoch 29]\n",
      "SGD step taken over [9, 4, 10]\n",
      "SGD step taken over [3, 7, 1]\n",
      "SGD step taken over [5, 6, 8]\n",
      "> Training set [3, 6, 2, 8, 10, 4, 9, 1, 7, 5]\n",
      "[Epoch 30]\n",
      "SGD step taken over [3, 6, 2]\n",
      "SGD step taken over [8, 10, 4]\n",
      "SGD step taken over [9, 1, 7]\n",
      "> Training set [3, 2, 4, 10, 1, 5, 8, 9, 6, 7]\n",
      "[Epoch 31]\n",
      "SGD step taken over [3, 2, 4]\n",
      "SGD step taken over [10, 1, 5]\n",
      "SGD step taken over [8, 9, 6]\n",
      "> Training set [6, 10, 1, 4, 3, 8, 9, 7, 2, 5]\n",
      "[Epoch 32]\n",
      "SGD step taken over [6, 10, 1]\n",
      "SGD step taken over [4, 3, 8]\n",
      "SGD step taken over [9, 7, 2]\n",
      "> Training set [4, 8, 2, 7, 3, 10, 5, 9, 1, 6]\n",
      "[Epoch 33]\n",
      "SGD step taken over [4, 8, 2]\n",
      "SGD step taken over [7, 3, 10]\n",
      "SGD step taken over [5, 9, 1]\n",
      "> Training set [9, 7, 1, 4, 8, 5, 2, 3, 6, 10]\n"
     ]
    }
   ],
   "source": [
    "from random import shuffle\n",
    "training = list(range(1,11))\n",
    "shuffle(training)\n",
    "print('> Training set', training)\n",
    "converge, it, max_it, k, epoch = False, 0, 100, 3, 0\n",
    "while not converge and it < max_it: # you training converge scheme\n",
    "    print(f'[Epoch {epoch}]')\n",
    "    for b in range(0, len(training), k): # Data Loader\n",
    "        mini_batch = training[b:b+k]\n",
    "        if len(mini_batch) != k:\n",
    "            continue\n",
    "        print('SGD step taken over', mini_batch) # compute the loss and upate your model\n",
    "        it += 1\n",
    "    epoch += 1 # epoch is done we reshuffle the training set\n",
    "    shuffle(training)\n",
    "    print('> Training set', training)"
   ]
  },
  {
   "cell_type": "markdown",
   "metadata": {
    "slideshow": {
     "slide_type": "subslide"
    }
   },
   "source": [
    "# 1) SGD over mini-batches\n",
    "\n",
    "\n",
    "1. **<ins>Initialization - Very Important if the function is not strictly convex</ins>** \n",
    "$$\\bmf{\\theta} \\sim \\mathcal{N}(\\cdot)~~~\\text{omit details for now}$$ With NN random initialization from a distribution (There are different methods). **We do not set them all to zero**\n",
    "2. Repeat until **convergence**:\n",
    "    - Compute the gradient of the loss wrt to the parameters $\\bmf{\\theta}$ given **the mini-batch**\n",
    "    - Take a small step in the opposite direction of steepest ascent **(so steepest descent).**<br/><br/>\n",
    "     $$\\bmf{\\theta} \\leftarrow  \\bmf{\\theta} -\\sum_{i=1}^k \\gamma \\bmf{\\nabla}_{\\bmf{\\theta}}\\mathcal{J}(\\mbf{\\theta};\\mbf{x},y)$$\n",
    "3. When convergence is reached, you final estimate is in $\\bmf{\\theta}$"
   ]
  },
  {
   "cell_type": "markdown",
   "metadata": {
    "slideshow": {
     "slide_type": "subslide"
    }
   },
   "source": [
    "# Change of vocabulary - A bunch of training samples is a mini-batch\n",
    "\n",
    "- We train NN **Stochastic Gradient Descent** over mini-batches with momentum (or variations thereof)\n",
    "- When you train NN you 'sample' a mini-batch $\\mbf{X}_b$ from your big dataset $\\mbf{X}$.\n",
    "\n",
    "\n",
    "Below this holds for the final linear layer:\n",
    "$$ \\underbrace{\\mbf{Y}}_{\\mathbb{R}^{Kxn}} = \\underbrace{\\mbf{W}}_{\\mathbb{R}^{K\\times d}}\\underbrace{\\mbf{X}_b}_{\\mathbb{R}^{d\\times n}} + \\underbrace{\\mbf{b}}_{\\mathbb{R}^K}$$"
   ]
  },
  {
   "cell_type": "markdown",
   "metadata": {
    "slideshow": {
     "slide_type": "subslide"
    }
   },
   "source": [
    "# Mini-Batch, Visually\n",
    "<br>\n",
    "<div align='center'><img src=\"figs/batch_SGD_01.png\" width='75%' ></div>"
   ]
  },
  {
   "cell_type": "markdown",
   "metadata": {
    "slideshow": {
     "slide_type": "subslide"
    }
   },
   "source": [
    "# Mini-Batch SGD vs ~~[Batch]~~ GD\n",
    "\n",
    "Loss in NN in **non-convex** with lots of local-minima so stochasticity adds noise that let the optmization escape from local minima.\n",
    "\n",
    "<div align='center'><img src=\"figs/batch_SGD_02.png\" width='75%' ></div>"
   ]
  },
  {
   "cell_type": "markdown",
   "metadata": {
    "slideshow": {
     "slide_type": "subslide"
    }
   },
   "source": [
    "# Mini-batch is a sort of smoothing of the single point SGD"
   ]
  },
  {
   "cell_type": "markdown",
   "metadata": {
    "slideshow": {
     "slide_type": "subslide"
    }
   },
   "source": [
    "# There is another smoothing technique: Momentum"
   ]
  },
  {
   "cell_type": "markdown",
   "metadata": {
    "slideshow": {
     "slide_type": "subslide"
    }
   },
   "source": [
    "**Top:** SGD: **Bottom:** SGD with momentum increasing memory of previous steps\n",
    "<div align='center'><img src=\"figs/batch_SGD_03.png\" width='65%' ></div>"
   ]
  },
  {
   "cell_type": "markdown",
   "metadata": {
    "slideshow": {
     "slide_type": "subslide"
    }
   },
   "source": [
    "# SGD over mini-batches with Momentum\n",
    "\n",
    "- We introduce an additional term **to remember what happened to the gradient in the\n",
    "previous iteration.** \n",
    "- This memory dampens oscillations and smoothes out the gradient updates.\n",
    "- The memory is implemented with a **exponential moving average**\n",
    "- Usualy $\\alpha$ (the memory param) is set to $0.9$, is a good value.\n",
    "\n",
    "\n",
    "$$\\bmf{\\Delta}_{t} = \\alpha\\bmf{\\Delta}_{t-1} + (1-\\alpha)\\underbrace{\\sum_{i=1}^k\\bmf{\\nabla}_{\\bmf{\\theta}}\\mathcal{J}(\\mbf{\\theta};\\mbf{x}_i,y_i)}_{\\text{new update}}$$\n",
    "\n",
    " $$\\bmf{\\theta} \\leftarrow  \\bmf{\\theta} - \\gamma \\bmf{\\Delta}_{t}$$"
   ]
  },
  {
   "cell_type": "markdown",
   "metadata": {
    "slideshow": {
     "slide_type": "subslide"
    }
   },
   "source": [
    "# SGD over mini-batches with Momentum\n",
    "\n",
    "\n",
    "1. **Initialization - Very Important if the function is not strictly convex** \n",
    "$$\\bmf{\\theta} \\sim \\mathcal{N}~~~\\text{omit details}$$ With NN random initialization from a distribution (There are different methods). **We do not set them all to zero**\n",
    "2. Repeat until **convergence**:\n",
    "    - Compute the gradient of the loss wrt to the parameters $\\bmf{\\theta}$ given **the mini-batch**\n",
    "    - Take a small step in the opposite direction of steepest ascent **(so steepest descent).**<br/><br/>\n",
    "$$\\bmf{\\Delta}_{t+1} = \\alpha\\bmf{\\Delta}_{t} + (1-\\alpha)\\underbrace{\\sum_{i=1}^k\\bmf{\\nabla}_{\\bmf{\\theta}}\\mathcal{J}(\\mbf{\\theta};\\mbf{x}_i,y_i)}_{\\text{new update}}$$\n",
    "\n",
    " $$\\bmf{\\theta} \\leftarrow  \\bmf{\\theta} - \\gamma \\bmf{\\Delta}_{t+1}$$\n",
    "3. When convergence is reached (or **EARLY STOPPING**), you final estimate is in $\\bmf{\\theta}$"
   ]
  },
  {
   "cell_type": "markdown",
   "metadata": {
    "slideshow": {
     "slide_type": "subslide"
    }
   },
   "source": [
    "# Loss Surface for Linear Regression $\\ell_2^2$ loss with $d=2$ parameters in $\\bmf{\\theta}$\n",
    "\n",
    "<div align='center'><img src=\"figs/loss.png\" width='50%' ></div>"
   ]
  },
  {
   "cell_type": "markdown",
   "metadata": {
    "slideshow": {
     "slide_type": "subslide"
    }
   },
   "source": [
    "# With Deep Learning optimization is highly non-convex and #params explode!"
   ]
  },
  {
   "cell_type": "markdown",
   "metadata": {
    "slideshow": {
     "slide_type": "subslide"
    }
   },
   "source": [
    "# Loss Surface for ResNet-20 with no skip connection on ImageNet\n",
    "\n",
    "## ResNet-20, number of parameters $\\bmf{\\theta}$ of the order of.....millions!\n",
    "## GPT-3 (LM behind chatpGPT) has 150 billions parameters\n",
    "\n",
    "Visualization of mode connectivity for ResNet-20 with no skip connections on ImageNet dataset. The visualization by Javier Ideami\n",
    "\n",
    "<center><img src=https://izmailovpavel.github.io/curves_blogpost/images/image34.jpg width='50%'/></center>\n",
    "\n",
    "Taken from [https://izmailovpavel.github.io/curves_blogpost/](https://izmailovpavel.github.io/curves_blogpost/)\n",
    "\n",
    "[Video for the curious student](https://www.youtube.com/watch?time_continue=5&v=dqX2LBcp5Hs&feature=emb_title)\n"
   ]
  },
  {
   "cell_type": "markdown",
   "metadata": {
    "slideshow": {
     "slide_type": "subslide"
    }
   },
   "source": [
    "# Learning rate is very important\n",
    "<br><br>\n",
    "<center><img src=https://github.com/jermwatt/machine_learning_refined/blob/gh-pages/html/gifs/steplength_1D.gif?raw=true width='85%'/></center>"
   ]
  },
  {
   "cell_type": "markdown",
   "metadata": {
    "slideshow": {
     "slide_type": "subslide"
    }
   },
   "source": [
    "# Babysitting the training process\n",
    "### Loss in function of epochs\n",
    "\n",
    "<div align='center'><img src=\"figs/loss_types.png\" width='35%' ></div>"
   ]
  },
  {
   "cell_type": "markdown",
   "metadata": {
    "slideshow": {
     "slide_type": "subslide"
    }
   },
   "source": [
    "# Valleys, Hills, Noisy Surface\n",
    "<br>\n",
    "<center><img src=https://izmailovpavel.github.io/curves_blogpost/images/image1.jpg width='80%'/></center>"
   ]
  },
  {
   "cell_type": "markdown",
   "metadata": {
    "slideshow": {
     "slide_type": "subslide"
    }
   },
   "source": [
    "# Dynamics  of Training\n",
    "\n",
    "<center><img src='http://2.bp.blogspot.com/-q6l20Vs4P_w/VPmIC7sEhnI/AAAAAAAACC4/g3UOUX2r_yA/s400/s25RsOr%2B-%2BImgur.gif' width='30%'><center/>\n",
    "    \n",
    "_**Noisy moons**: This is logistic regression on noisy moons dataset from sklearn which shows the smoothing effects of momentum based techniques (which also results in over shooting and correction). The error surface is visualized as an average over the whole dataset empirically, but the trajectories show the dynamics of minibatches on noisy data. The bottom chart is an accuracy plot._\n",
    "    \n",
    "[taken from here](http://www.denizyuret.com/2015/03/alec-radfords-animations-for.html)"
   ]
  },
  {
   "cell_type": "markdown",
   "metadata": {
    "slideshow": {
     "slide_type": "subslide"
    }
   },
   "source": [
    "# Dynamics  of Training\n",
    "\n",
    "<center><img src='http://3.bp.blogspot.com/-nrtJPrdBWuE/VPmIB46F2aI/AAAAAAAACCw/vaE_B0SVy5k/s400/Long%2BValley%2B-%2BImgur.gif' width='30%'><center/>\n",
    "   \n",
    "_**Long valley**: Algos without scaling based on gradient information really struggle to break symmetry here - SGD gets no where and Nesterov Accelerated Gradient / Momentum exhibits oscillations until they build up velocity in the optimization direction. Algos that scale step size based on the gradient quickly break symmetry and begin descent._"
   ]
  },
  {
   "cell_type": "markdown",
   "metadata": {
    "slideshow": {
     "slide_type": "subslide"
    }
   },
   "source": [
    "# Just to give you an hint on where the community is headed with Deep Learning"
   ]
  },
  {
   "cell_type": "markdown",
   "metadata": {
    "slideshow": {
     "slide_type": "subslide"
    }
   },
   "source": [
    "# DALL-E OpenAI (January 2021)\n",
    "<br>\n",
    "<div align='center'><img src=\"figs/dalle.png\" width='85%' ></div>"
   ]
  },
  {
   "cell_type": "markdown",
   "metadata": {
    "slideshow": {
     "slide_type": "subslide"
    }
   },
   "source": [
    "# DALL-E OpenAI \n",
    "\n",
    "<div align='center'><img src=\"figs/dalle2.png\" width='85%' ></div>"
   ]
  },
  {
   "cell_type": "markdown",
   "metadata": {
    "slideshow": {
     "slide_type": "subslide"
    }
   },
   "source": [
    "# OpenAI DALL-E - 12-billion parameters trained with self-supervision\n",
    "\n",
    "Yikes! $12\\times 10^9$ floating points parameters to train\n",
    "\n",
    "> DALL·E is a **12-billion parameter** version of GPT-3 trained to generate images from text descriptions, using a dataset of text–image pairs. We’ve found that it has a diverse set of capabilities, including creating anthropomorphized versions of animals and objects, combining unrelated concepts in plausible ways, rendering text, and applying transformations to existing images."
   ]
  },
  {
   "cell_type": "markdown",
   "metadata": {
    "slideshow": {
     "slide_type": "subslide"
    }
   },
   "source": [
    "### ~~0) Quick Intro to Optimization in Deep Learning~~\n",
    "### 1) Network Structure: Multi-Layer Perceptron (MLP) is a Fully-Connected Neural Net\n",
    "### 2) Backpropagation "
   ]
  },
  {
   "cell_type": "markdown",
   "metadata": {
    "slideshow": {
     "slide_type": "slide"
    }
   },
   "source": [
    "# 1) Network Structure: Multi-Layer Perceptron (MLP) \n",
    "# is a Fully-Connected Neural Net"
   ]
  },
  {
   "cell_type": "markdown",
   "metadata": {
    "slideshow": {
     "slide_type": "subslide"
    }
   },
   "source": [
    "# Networks and Topics that we do NOT cover\n",
    "\n",
    "You will meet them at **Deep Learning** course\n",
    "\n",
    "- **Convolutional** Neural Nets (good for images or any matrix data like as input)\n",
    "- Generative Adversarial Networks **(GAN)** and adversarial training\n",
    "- AutoEncoders or Variational Autoencoders\n",
    "- Adversarial Attacks to NN"
   ]
  },
  {
   "cell_type": "markdown",
   "metadata": {
    "slideshow": {
     "slide_type": "subslide"
    }
   },
   "source": [
    "# Networks and Topics we will cover\n",
    "\n",
    "- Brief Recap on Feedforward NN\n",
    "- Recurrent Neural Nets (RNN such as GRU, LSTM)\n",
    "- Transformer Networks\n",
    "- BERT, GPT-3"
   ]
  },
  {
   "cell_type": "markdown",
   "metadata": {
    "slideshow": {
     "slide_type": "subslide"
    }
   },
   "source": [
    "# Let's go back to single layer, linear soft-max regression or \"linear\" neural network"
   ]
  },
  {
   "cell_type": "markdown",
   "metadata": {
    "slideshow": {
     "slide_type": "subslide"
    }
   },
   "source": [
    "# Let's recall last classification layer of a neural net as pipeline\n",
    "## $\\mbf{x} \\implies \\mbf{z}= \\mbf{W}\\mbf{x} + \\mbf{b} \\implies e^{\\mbf{z}}  \\implies \\mbf{p} = \\frac{e^{\\mbf{z}}}{\\sum_k e^{\\mbf{z}}} \\implies -\\ln(\\mbf{p}_y) $"
   ]
  },
  {
   "cell_type": "markdown",
   "metadata": {
    "slideshow": {
     "slide_type": "subslide"
    }
   },
   "source": [
    "# word2vec with Skip-Gram at a glance\n",
    "\n",
    "... and why it can be seen as a tiny neural net.\n",
    "\n",
    "<div align='center'><img src=\"figs/word2vec_layers.png\" width='65%' ></div>"
   ]
  },
  {
   "cell_type": "markdown",
   "metadata": {
    "slideshow": {
     "slide_type": "subslide"
    }
   },
   "source": [
    "# Representation of a Single Layer\n",
    "\n",
    "Let's consider our linear softmax regressor\n",
    "\n",
    "$$ \\underbrace{\\mbf{z}}_{\\mathbb{R}^{Kx1}} = \\underbrace{\\mbf{W}}_{\\mathbb{R}^{K\\times d}}\\underbrace{\\mbf{x}}_{\\mathbb{R}^{d\\times1}} + \\underbrace{\\mbf{b}}_{\\mathbb{R}^K}$$\n",
    "\n",
    "We interpret as **Linear Layer** $\\mathbf{W} \\mathbf{x}+\\bmf{b}$  followed by  **Non-Linear Activation function** $\\sigma$\n",
    "\n",
    "$$\n",
    "\\sigma(\\mathbf{W} \\mathbf{x}  + \\bmf{b})=\\sigma \\circ\\left(\\begin{array}{cccc}\n",
    "w_{11} & w_{12} & \\cdots & w_{1 d} \\\\\n",
    "w_{21} & w_{22} & \\cdots & w_{2 d} \\\\\n",
    "\\vdots & \\cdots & \\ddots & \\vdots \\\\\n",
    "w_{k 1} & w_{m 2} & \\cdots & w_{k d}\n",
    "\\end{array}\\right)\\left(\\begin{array}{c}\n",
    "x_{1} \\\\\n",
    "x_{2} \\\\\n",
    "\\vdots \\\\\n",
    "x_{d}\n",
    "\\end{array}\\right)+\n",
    "\\left(\\begin{array}{c}\n",
    "b_{1} \\\\\n",
    "b_{2} \\\\\n",
    "\\vdots \\\\\n",
    "b_{k}\n",
    "\\end{array}\\right)\n",
    "=\\sigma \\circ\\left(\\begin{array}{c}\n",
    "z_{1} \\\\\n",
    "z_{2} \\\\\n",
    "\\vdots \\\\\n",
    "z_{k}\n",
    "\\end{array}\\right)\n",
    "$$"
   ]
  },
  {
   "cell_type": "markdown",
   "metadata": {
    "slideshow": {
     "slide_type": "subslide"
    }
   },
   "source": [
    "# Representation of a Single Layer\n",
    "\n",
    "$$\n",
    "\\sigma(\\mathbf{W} \\mathbf{x}  + \\bmf{b})=\\sigma \\circ\\left(\\begin{array}{cccc}\n",
    "\\underline{w_{11}} & \\underline{w_{12}} & \\cdots & \\underline{w_{1 d}} \\\\\n",
    "w_{21} & w_{22} & \\cdots & w_{2 d} \\\\\n",
    "\\vdots & \\cdots & \\ddots & \\vdots \\\\\n",
    "w_{k 1} & w_{m 2} & \\cdots & w_{k d}\n",
    "\\end{array}\\right)\\left(\\begin{array}{c}\n",
    "x_{1} \\\\\n",
    "x_{2} \\\\\n",
    "\\vdots \\\\\n",
    "x_{d}\n",
    "\\end{array}\\right)+\n",
    "\\left(\\begin{array}{c}\n",
    "b_{1} \\\\\n",
    "b_{2} \\\\\n",
    "\\vdots \\\\\n",
    "b_{k}\n",
    "\\end{array}\\right)\n",
    "=\\sigma \\circ\\left(\\begin{array}{c}\n",
    "z_{1} \\\\\n",
    "z_{2} \\\\\n",
    "\\vdots \\\\\n",
    "z_{k}\n",
    "\\end{array}\\right)\n",
    "$$\n",
    "\n",
    "\n",
    "<br><br>\n",
    "<center><img src='figs/neuron.png' width='70%'/></center>"
   ]
  },
  {
   "cell_type": "markdown",
   "metadata": {
    "slideshow": {
     "slide_type": "subslide"
    }
   },
   "source": [
    "# Representation of a Single Layer\n",
    "\n",
    "$$\n",
    "\\sigma(\\mathbf{W} \\mathbf{x}  + \\bmf{b})=\\sigma \\circ\\left(\\begin{array}{cccc}\n",
    "{w_{11}} & {w_{12}} & \\cdots & {w_{1 d}} \\\\\n",
    "w_{21} & w_{22} & \\cdots & w_{2 d} \\\\\n",
    "\\vdots & \\cdots & \\ddots & \\vdots \\\\\n",
    "\\underline{w_{k 1}} & \\underline{w_{m 2}} & \\cdots & \\underline{w_{k d}}\n",
    "\\end{array}\\right)\\left(\\begin{array}{c}\n",
    "x_{1} \\\\\n",
    "x_{2} \\\\\n",
    "\\vdots \\\\\n",
    "x_{d}\n",
    "\\end{array}\\right)+\n",
    "\\left(\\begin{array}{c}\n",
    "b_{1} \\\\\n",
    "b_{2} \\\\\n",
    "\\vdots \\\\\n",
    "b_{k}\n",
    "\\end{array}\\right)\n",
    "=\\sigma \\circ\\left(\\begin{array}{c}\n",
    "z_{1} \\\\\n",
    "z_{2} \\\\\n",
    "\\vdots \\\\\n",
    "z_{k}\n",
    "\\end{array}\\right)\n",
    "$$\n",
    "\n",
    "\n",
    "<br><br>\n",
    "<center><img src='figs/neuron_2.png' width='70%'/></center>"
   ]
  },
  {
   "cell_type": "markdown",
   "metadata": {
    "slideshow": {
     "slide_type": "subslide"
    }
   },
   "source": [
    "# Representation of a Single Layer: Linear plus non-Linear\n",
    "\n",
    "$$\n",
    "\\sigma(\\mathbf{W} \\mathbf{x}  + \\bmf{b})=\\sigma \\circ\\left(\\begin{array}{cccc}\n",
    "{w_{11}} & {w_{12}} & \\cdots & {w_{1 d}} \\\\\n",
    "w_{21} & w_{22} & \\cdots & w_{2 d} \\\\\n",
    "\\vdots & \\cdots & \\ddots & \\vdots \\\\\n",
    "\\underline{w_{k 1}} & \\underline{w_{m 2}} & \\cdots & \\underline{w_{k d}}\n",
    "\\end{array}\\right)\\left(\\begin{array}{c}\n",
    "x_{1} \\\\\n",
    "x_{2} \\\\\n",
    "\\vdots \\\\\n",
    "x_{d}\n",
    "\\end{array}\\right)+\n",
    "\\left(\\begin{array}{c}\n",
    "b_{1} \\\\\n",
    "b_{2} \\\\\n",
    "\\vdots \\\\\n",
    "b_{k}\n",
    "\\end{array}\\right)\n",
    "=\\sigma \\circ\\left(\\begin{array}{c}\n",
    "z_{1} \\\\\n",
    "z_{2} \\\\\n",
    "\\vdots \\\\\n",
    "z_{k}\n",
    "\\end{array}\\right)\n",
    "$$\n",
    "\n",
    "\n",
    "<br><br>\n",
    "<center><img src='figs/neuron_3.png' width='70%'/></center>"
   ]
  },
  {
   "cell_type": "markdown",
   "metadata": {
    "slideshow": {
     "slide_type": "subslide"
    }
   },
   "source": [
    "# Representation of a Single Layer: Linear plus non-Linear\n",
    "\n",
    "$$\n",
    "\\mathbf{W} \\mathbf{x}=\\left(\\begin{array}{c}\n",
    "-\\text { unit - } \\\\\n",
    "\\vdots \\\\\n",
    "-\\text { unit }-\n",
    "\\end{array}\\right)\\left(\\begin{array}{c}\n",
    "\\mid \\\\\n",
    "\\mathbf{x} \\\\\n",
    "\\mid\n",
    "\\end{array}\\right)\n",
    "$$\n",
    "\n",
    "\n",
    "<br><br>\n",
    "<center><img src='figs/neuron_4.png' width='70%'/></center>"
   ]
  },
  {
   "cell_type": "markdown",
   "metadata": {
    "slideshow": {
     "slide_type": "subslide"
    }
   },
   "source": [
    "# Representation as a computational graph\n",
    "<br>\n",
    "\n",
    "<div align='center'><img src=\"figs/graph_00.png\" width='60%' ></div>"
   ]
  },
  {
   "cell_type": "markdown",
   "metadata": {
    "slideshow": {
     "slide_type": "subslide"
    }
   },
   "source": [
    "# Damn, until now is all linear. So now the \"Deep\"!\n",
    "\n",
    "- Damn, until now is all linear.\n",
    "- Our **beloved SoftMax+CE linear layer** is there **in the end (classifier).**\n",
    "\n",
    "<br>\n",
    "<center><img src=https://www.datasciencecentral.com/wp-content/uploads/2021/10/1-19.png width='70%'/></center>\n"
   ]
  },
  {
   "cell_type": "markdown",
   "metadata": {
    "slideshow": {
     "slide_type": "subslide"
    }
   },
   "source": [
    "# A single linear layer is not enough for highly  non-linear problems\n",
    "\n",
    "<br><br>\n",
    "<center><img src='https://media-exp1.licdn.com/dms/image/C5112AQEt1wEHRWi21w/article-cover_image-shrink_600_2000/0/1533914799998?e=2147483647&v=beta&t=GsPd5qJePijN7BPx2BEkNiu2OmcixkJGFA5u_XjukVg' width='50%'></center>"
   ]
  },
  {
   "cell_type": "markdown",
   "metadata": {
    "slideshow": {
     "slide_type": "subslide"
    }
   },
   "source": [
    "# Adding another non-linear layer before the classifier\n",
    "\n",
    "- We improve the _expressivness_ of our learned function by adding another linear layer **before** the classification layer.\n",
    "- Think this new layer as a feature map $\\mbf{x}  \\mapsto \\phi(\\mbf{x})$; it maps our attribute to a feature space\n",
    "- Now the classifier does not classify anymore directly $\\mbf{x}$ but the feature $\\phi(x)$.\n",
    "- Sorry, notation becomes complex. Upper script means layer index; lower-script selects the unit\n",
    "- $\\mathbf{W}^1 \\in \\mathbb{R}^{d\\times p}$, $\\bmf{b}^1 \\in \\mathbb{R}^{p}$ so then $\\mathbf{W}^2 \\in \\mathbb{R}^{p\\times k}$,   $\\bmf{b}^2 \\in \\mathbb{R}^{k}$\n",
    "\n",
    "$$\\mbf{p}=\\sigma(\\mathbf{W}^2\\underbrace{\\left(\\sigma(\\mathbf{W}^1 \\mathbf{x}  + \\bmf{b}^1) \\right)}_{\\bmf{\\phi}(x)}   + \\bmf{b}^2)$$\n",
    "\n",
    "$$\\text{dim. analysis:} \\quad d \\mapsto p \\mapsto k$$"
   ]
  },
  {
   "cell_type": "markdown",
   "metadata": {
    "slideshow": {
     "slide_type": "subslide"
    }
   },
   "source": [
    "# $\\mathbf{W}^1 \\in \\mathbb{R}^{d\\times p}$ is an Hidden Layer\n",
    "\n",
    "Because it maps the original attribute in $d$ from an dimensionality $p$ and then $p$ is used for classifying.\n",
    "\n",
    "A priori you do not know what $\\mathbf{W}^1$ may learn.\n",
    "\n",
    "$$\\mbf{p}=\\sigma(\\mathbf{W}^2\\underbrace{\\left(\\sigma(\\mathbf{W}^1 \\mathbf{x}  + \\bmf{b}^1) \\right)}_{\\bmf{\\phi}(x)}   + \\bmf{b}^2)$$\n",
    "\n",
    "$$\\text{dim. analysis:} \\quad d \\mapsto p \\mapsto k$$"
   ]
  },
  {
   "cell_type": "markdown",
   "metadata": {
    "slideshow": {
     "slide_type": "subslide"
    }
   },
   "source": [
    "# Let's update our visualizations"
   ]
  },
  {
   "cell_type": "markdown",
   "metadata": {
    "slideshow": {
     "slide_type": "subslide"
    }
   },
   "source": [
    "# Multi-Layer Perceptron (MLP) with one hidden layer\n",
    "\n",
    "## Given the nature of these layers, they're called Fully-Connected NN\n",
    "\n",
    "<br><br>\n",
    "<center><img src='figs/neuron_5.png' width='70%'/></center>"
   ]
  },
  {
   "cell_type": "markdown",
   "metadata": {
    "slideshow": {
     "slide_type": "subslide"
    }
   },
   "source": [
    "# Multi-Layer Perceptron with one hidden layer\n",
    "<br><br>\n",
    "<center><img src='figs/neuron_6.png' width='90%'/></center>"
   ]
  },
  {
   "cell_type": "markdown",
   "metadata": {
    "slideshow": {
     "slide_type": "subslide"
    }
   },
   "source": [
    "# Non-linear activation functions:  Sigmoid\n",
    "\n",
    "Very important: **Activation Functions are computed element-wise.**\n",
    "\n",
    "$$ \\sigma(z)= \\frac{1}{1+\\exp^{-z}} \\quad \\text{sigmoid or logistic function}$$\n",
    "\n",
    "<br><br> \n",
    "<div align='center'>Smooth and Differentiable alternative to sign<img src=\"figs/sigmoid.png\" width='35%' ></div>\n"
   ]
  },
  {
   "cell_type": "markdown",
   "metadata": {
    "slideshow": {
     "slide_type": "subslide"
    },
    "variables": {
     "import numpy as np; import matplotlib.pyplot as plt; step=0.1; x = np.arange(-20.0, 20.0, step); fig, axes = plt.subplots(1,2,figsize=(12,5)); y = 1/(1+np.exp(-x)); dy = np.diff(y); axes[0].plot(x,y); axes[0].legend(['sigmoid']); axes[1].plot(x[1:],dy/step); _=axes[1].legend(['derivative of sigmoid']);": "<img src=\"data:image/png;base64,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\n\"/>"
    }
   },
   "source": [
    "# Non-linear activation functions:  Sigmoid\n",
    "\n",
    "Very important: **Activation Functions are computed element-wise.**\n",
    "\n",
    "$$ \\sigma(z)= \\frac{1}{1+\\exp^{-z}} \\quad \\text{sigmoid or logistic function}$$\n",
    "<br><br> <center>Smooth and Differentiable alternative to sign</center>\n",
    "\n",
    "{{import numpy as np; import matplotlib.pyplot as plt; step=0.1; x = np.arange(-20.0, 20.0, step); fig, axes = plt.subplots(1,2,figsize=(12,5)); y = 1/(1+np.exp(-x)); dy = np.diff(y); axes[0].plot(x,y); axes[0].legend(['sigmoid']); axes[1].plot(x[1:],dy/step); _=axes[1].legend(['derivative of sigmoid']);}}\n"
   ]
  },
  {
   "cell_type": "code",
   "execution_count": 14,
   "metadata": {
    "slideshow": {
     "slide_type": "skip"
    }
   },
   "outputs": [
    {
     "data": {
      "image/png": "[encoded data removed]",
      "text/plain": [
       "<Figure size 1200x500 with 2 Axes>"
      ]
     },
     "metadata": {},
     "output_type": "display_data"
    }
   ],
   "source": [
    "import numpy as np;\n",
    "import matplotlib.pyplot as plt; step=0.1;\n",
    "x = np.arange(-20.0, 20.0, step);\n",
    "fig, axes = plt.subplots(1,2,figsize=(12,5));\n",
    "y = 1/(1+np.exp(-x));\n",
    "dy = np.diff(y);\n",
    "axes[0].plot(x,y)\n",
    "axes[0].legend(['sigmoid'])\n",
    "axes[1].plot(x[1:],dy/step);\n",
    "axes[1].legend(['derivative of sigmoid']);"
   ]
  },
  {
   "cell_type": "markdown",
   "metadata": {
    "slideshow": {
     "slide_type": "subslide"
    },
    "variables": {
     "import numpy as np; import matplotlib.pyplot as plt; step=0.1; x = np.arange(-20.0, 20.0, step); fig, axes = plt.subplots(1,2,figsize=(12,5)); y = np.maximum(0,x); dy = np.diff(y); axes[0].plot(x,y); axes[1].plot(x[1:],dy/step); axes[0].legend(['ReLu']); _=axes[1].legend(['Deriv of ReLU']);": "<img src=\"data:image/png;base64,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\n\"/>"
    }
   },
   "source": [
    "# Non-linear activation functions:  ReLu - Rectified Linear Unit\n",
    "\n",
    "Very important: **Activation Functions are computed element-wise.**\n",
    "\n",
    "$$ \\sigma(z)= \\max(0,z) \\quad \\text{ReLu}$$\n",
    "<br> <center>ReLu is piece-wise linear function</center>\n",
    "{{import numpy as np; import matplotlib.pyplot as plt; step=0.1; x = np.arange(-20.0, 20.0, step); fig, axes = plt.subplots(1,2,figsize=(12,5)); y = np.maximum(0,x); dy = np.diff(y); axes[0].plot(x,y); axes[1].plot(x[1:],dy/step); axes[0].legend(['ReLu']); _=axes[1].legend(['Deriv of ReLU']);}}"
   ]
  },
  {
   "cell_type": "code",
   "execution_count": 15,
   "metadata": {
    "slideshow": {
     "slide_type": "skip"
    }
   },
   "outputs": [
    {
     "data": {
      "image/png": "[encoded data removed]",
      "text/plain": [
       "<Figure size 1200x500 with 2 Axes>"
      ]
     },
     "metadata": {},
     "output_type": "display_data"
    }
   ],
   "source": [
    "import numpy as np;\n",
    "import matplotlib.pyplot as plt; step=0.1;\n",
    "x = np.arange(-20.0, 20.0, step);\n",
    "fig, axes = plt.subplots(1,2,figsize=(12,5));\n",
    "y = np.maximum(0,x);\n",
    "dy = np.diff(y);\n",
    "axes[0].plot(x,y)\n",
    "axes[1].plot(x[1:],dy/step);\n",
    "axes[0].legend(['ReLu'])\n",
    "_=axes[1].legend(['Deriv of ReLU']);"
   ]
  },
  {
   "cell_type": "markdown",
   "metadata": {
    "cell_style": "split",
    "slideshow": {
     "slide_type": "subslide"
    }
   },
   "source": [
    "# Sigmoid\n",
    "\n",
    "- Used to model output probability\n",
    "- Nowdays not used in middle layers\n",
    "- Have to compute $\\exp()$\n",
    "- **Vanishing gradients** for large input magnitude"
   ]
  },
  {
   "cell_type": "markdown",
   "metadata": {
    "cell_style": "split",
    "slideshow": {
     "slide_type": "fragment"
    }
   },
   "source": [
    "# ReLU\n",
    "\n",
    "- Computationally efficient (no exp!)\n",
    "- No vanishing gradients but do not let pass gradients for negative values\n",
    "- Converge much faster than sigmoid (6x)\n",
    "- Not differentiable in zero (subgradients)"
   ]
  },
  {
   "cell_type": "markdown",
   "metadata": {
    "slideshow": {
     "slide_type": "subslide"
    }
   },
   "source": [
    "# There are other activation functions we do not cover\n",
    "###  TanH, Leaky ReLU, parametrized ReLU, ELU"
   ]
  },
  {
   "cell_type": "markdown",
   "metadata": {
    "slideshow": {
     "slide_type": "subslide"
    }
   },
   "source": [
    "# Backpropagation and Differential Programming"
   ]
  },
  {
   "cell_type": "markdown",
   "metadata": {
    "slideshow": {
     "slide_type": "subslide"
    }
   },
   "source": [
    "# NN can be huge composition of functions! 😱\n",
    "<br>\n",
    "<center><img src=https://www.researchgate.net/profile/Tiago-Carvalho-8/publication/330478807/figure/fig1/AS:756995804110849@1557493272678/VGG16-VGG19-Inception-V3-Xception-and-ResNet-50-architectures_W640.jpg width='35%'/></center>\n",
    "\n"
   ]
  },
  {
   "cell_type": "markdown",
   "metadata": {
    "cell_style": "center",
    "slideshow": {
     "slide_type": "subslide"
    }
   },
   "source": [
    "# Three ways of computing the gradients $\\nabla_{\\mbf{w}}\\mathcal{L}(x,y;\\mbf{w})$\n",
    "\n",
    "1. **Manually** (if we change the network, we have to adjust it for a 100 layer neural net) maybe not a good idea, does not scale, even if we use symbolic derivation tools such as Mathematica ✍🏼\n",
    "2. **Finite Difference** good to check the gradients once you have an automatic way of computing it; **very slow, unfeasible in training!** 👩🏾‍💻\n",
    "3. **Backpropagation**: application of chain rule of calculus to tensors with a computational graph with caching **(differential programming with automatic differentiation)** 💻"
   ]
  },
  {
   "cell_type": "markdown",
   "metadata": {
    "slideshow": {
     "slide_type": "slide"
    }
   },
   "source": [
    "# Backpropagation"
   ]
  },
  {
   "cell_type": "markdown",
   "metadata": {
    "slideshow": {
     "slide_type": "subslide"
    }
   },
   "source": [
    "# Let's be clear on what we need to compute\n",
    "\n",
    "$\\forall l \\in [1\\ldots,L]$:\n",
    "1. $\\nabla_{\\mbf{W}^l}\\mathcal{L}(\\mbf{x},y;\\{\\mbf{W},b\\})$\n",
    "1. $\\nabla_{\\mbf{b}^l}\\mathcal{L}(\\mbf{x},y;\\{\\mbf{W},b\\})$\n",
    "<br><br>\n",
    "<center><img src='figs/neuron_6.png' width='90%'/></center>"
   ]
  },
  {
   "cell_type": "markdown",
   "metadata": {
    "slideshow": {
     "slide_type": "subslide"
    }
   },
   "source": [
    "# Once you have gradients on ALL weights $\\implies$ We can update\n",
    "\n",
    "$\\forall l \\in [1\\ldots,L]$:\n",
    "1. $\\mbf{W}^l \\leftarrow \\mbf{W}^l - \\gamma \\nabla_{\\mbf{W}^l}\\mathcal{L}(\\mbf{x},y;\\{\\mbf{W},b\\})$\n",
    "1. $\\mbf{b}^l \\leftarrow \\mbf{b}^l - \\gamma \\nabla_{\\mbf{b}^l}\\mathcal{L}(\\mbf{x},y;\\{\\mbf{W},b\\})$\n",
    "<br><br>\n",
    "\n",
    "\n",
    "<center><img src='figs/neuron_7.png' width='90%'/></center>"
   ]
  },
  {
   "cell_type": "markdown",
   "metadata": {
    "slideshow": {
     "slide_type": "subslide"
    }
   },
   "source": [
    "# How do we get all the weight updates?\n",
    "\n",
    "[Mostly taken from here](https://www.youtube.com/watch?v=i94OvYb6noo)"
   ]
  },
  {
   "cell_type": "markdown",
   "metadata": {
    "slideshow": {
     "slide_type": "subslide"
    }
   },
   "source": [
    "# Chain Rule\n",
    "\n",
    "Returning to functions of a single variable,\n",
    "suppose that $y = f(g(x))$\n",
    "and that the underlying functions \n",
    "$y=f(u)$ and $u=g(x)$ \n",
    "are both differentiable.\n",
    "The chain rule states that \n",
    "\n",
    "\n",
    "$$\\frac{dy}{dx} = \\frac{dy}{du} \\frac{du}{dx}.$$\n",
    "\n",
    "\n",
    "What is the **derivative of loss wrt to x in the equation below**? $$y = loss\\big(g(h(i(x)))\\big)$$"
   ]
  },
  {
   "cell_type": "markdown",
   "metadata": {
    "slideshow": {
     "slide_type": "fragment"
    }
   },
   "source": [
    "$$\\frac{\\partial loss}{\\partial x} = \\frac{\\partial loss}{\\partial g} \\frac{\\partial g}{\\partial h}\\frac{\\partial h}{\\partial i}\\frac{\\partial i}{\\partial x}$$"
   ]
  },
  {
   "cell_type": "markdown",
   "metadata": {
    "slideshow": {
     "slide_type": "subslide"
    }
   },
   "source": [
    "# Chain Rule on Directed Acyclic Graph (DAG)\n",
    "\n",
    "### Automate the computation of derivatives with computer science\n",
    "\n"
   ]
  },
  {
   "cell_type": "markdown",
   "metadata": {
    "slideshow": {
     "slide_type": "subslide"
    }
   },
   "source": [
    "$$\\mathcal{L}(x,y,z) = (x+y)z$$\n",
    "\n",
    "$$x=-2;~y=5;~z=-4;$$\n",
    "\n",
    "The high school way\n",
    "\n",
    "$$\\frac{\\partial\\mathcal{L}(x,y,z)}{\\partial x} =  ?$$"
   ]
  },
  {
   "cell_type": "markdown",
   "metadata": {
    "slideshow": {
     "slide_type": "subslide"
    }
   },
   "source": [
    "$$\\mathcal{L}(x,y,z) = (x+y)z$$\n",
    "\n",
    "$$x=-2;~y=5;~z=-4;$$\n",
    "\n",
    "The high school way (as we did until now):\n",
    "\n",
    "$$\\frac{\\partial\\mathcal{L}(x,y,z)}{\\partial x} =  (\\mbf{x}z+yz)^{\\prime}=(\\mbf{x}z)^{\\prime}+(yz)^{\\prime} = z$$\n",
    "$$\\frac{\\partial\\mathcal{L}(x,y,z)}{\\partial y} =  (xz+\\mbf{y}z)^{\\prime}=(xz)^{\\prime}+(\\mbf{y}z)^{\\prime} = z$$\n",
    "$$\\frac{\\partial\\mathcal{L}(x,y,z)}{\\partial z} =  x+y $$"
   ]
  },
  {
   "cell_type": "markdown",
   "metadata": {
    "slideshow": {
     "slide_type": "subslide"
    }
   },
   "source": [
    "# Now with Chain Rule\n",
    "$$\\mathcal{L}(x,y,z) = (x+y)z$$\n",
    "\n",
    "$$x=-2;~y=5;~z=-4;$$\n",
    "\n",
    "but we can re-write it with the chain rule:\n",
    "\n",
    "$$\\frac{\\partial\\mathcal{L}(x,y,z)}{\\partial x} =  \\big(\\underbrace{(\\mbf{x}+y)}_{q}z\\big)^{\\prime}=\\frac{\\partial\\mathcal{L}}{\\partial q}\\frac{\\partial q}{\\partial x}$$"
   ]
  },
  {
   "cell_type": "markdown",
   "metadata": {
    "slideshow": {
     "slide_type": "subslide"
    }
   },
   "source": [
    "# Now with Chain Rule\n",
    "$$\\mathcal{L}(x,y,z) = (x+y)z$$\n",
    "\n",
    "$$x=-2;~y=5;~z=-4;$$\n",
    "\n",
    "but we can re-write it with the chain rule:\n",
    "\n",
    "$$\\frac{\\partial\\mathcal{L}(x,y,z)}{\\partial x} =  \\big(\\underbrace{(\\mbf{x}+y)}_{q}z\\big)^{\\prime}=\\frac{\\partial\\mathcal{L}}{\\partial q}\\frac{\\partial q}{\\partial x} = z\\frac{\\partial q}{\\partial x} $$"
   ]
  },
  {
   "cell_type": "markdown",
   "metadata": {
    "slideshow": {
     "slide_type": "subslide"
    }
   },
   "source": [
    "# Now with Chain Rule\n",
    "$$\\mathcal{L}(x,y,z) = (x+y)z$$\n",
    "\n",
    "$$x=-2;~y=5;~z=-4;$$\n",
    "\n",
    "but we can re-write it with the chain rule:\n",
    "\n",
    "$$\\frac{\\partial\\mathcal{L}(x,y,z)}{\\partial x} =  \\big(\\underbrace{(\\mbf{x}+y)}_{q}z\\big)^{\\prime}=\\frac{\\partial\\mathcal{L}}{\\partial q}\\frac{\\partial q}{\\partial x} = z\\cdot 1= z $$"
   ]
  },
  {
   "cell_type": "markdown",
   "metadata": {
    "slideshow": {
     "slide_type": "subslide"
    }
   },
   "source": [
    "# Chain Rule on Directed Acyclic Graph (DAG)\n",
    "\n",
    "$$\\mathcal{L}(x,y,z) = (x+y)z$$\n",
    "\n",
    "$$x=-2;~y=5;~z=-4;$$\n",
    "\n",
    "**The computer science way:**\n",
    "\n",
    "<div align='center'><img src=\"figs/dag_00.png\" width='35%' ></div>\n",
    "\n",
    "$$\\frac{\\partial\\mathcal{L}}{\\partial x},\\frac{\\partial\\mathcal{L}}{\\partial y},\\frac{\\partial\\mathcal{L}}{\\partial z}$$"
   ]
  },
  {
   "cell_type": "markdown",
   "metadata": {
    "slideshow": {
     "slide_type": "subslide"
    }
   },
   "source": [
    "# Chain Rule on Directed Acyclic Graph (DAG)\n",
    "Even if the problem is very small, we break it down to subproblem so that we can **automate** it:\n",
    "<div align='center'><img src=\"figs/dag_00.png\" width='35%' ></div>\n",
    "\n",
    "\n",
    "$$\\frac{\\partial\\mathcal{L}}{\\partial x},\\frac{\\partial\\mathcal{L}}{\\partial y},\\frac{\\partial\\mathcal{L}}{\\partial z}$$\n",
    " Who is input of $\\mathcal{L}$?"
   ]
  },
  {
   "cell_type": "markdown",
   "metadata": {
    "slideshow": {
     "slide_type": "fragment"
    }
   },
   "source": [
    "$q$ and $z$ are input of $\\mathcal{L}$.\n",
    "$$\\frac{\\partial\\mathcal{L}}{\\partial q}, \\frac{\\partial\\mathcal{L}}{\\partial z}$$"
   ]
  },
  {
   "cell_type": "markdown",
   "metadata": {
    "slideshow": {
     "slide_type": "subslide"
    }
   },
   "source": [
    "# Chain Rule on Directed Acyclic Graph (DAG)\n",
    "Even if the problem is very small, we break it down to subproblem so that we can **automate** it:\n",
    "<div align='center'><img src=\"figs/dag_00.png\" width='35%' ></div>\n",
    "\n",
    "$$\\frac{\\partial\\mathcal{L}}{\\partial x},\\frac{\\partial\\mathcal{L}}{\\partial y},\\frac{\\partial\\mathcal{L}}{\\partial z}$$\n",
    "\n",
    "What is the derivate? (Just check the operation at the gate)\n",
    "$$\\frac{\\partial\\mathcal{L}}{\\partial q}, \\frac{\\partial\\mathcal{L}}{\\partial z}$$"
   ]
  },
  {
   "cell_type": "markdown",
   "metadata": {
    "slideshow": {
     "slide_type": "subslide"
    }
   },
   "source": [
    "# Chain Rule on Directed Acyclic Graph (DAG)\n",
    "Even if the problem is very small, we break it down to subproblem so that we can **automate** it:\n",
    "<div align='center'><img src=\"figs/dag_00.png\" width='35%' ></div>>\n",
    "\n",
    "\n",
    "$$\\frac{\\partial\\mathcal{L}}{\\partial x},\\frac{\\partial\\mathcal{L}}{\\partial y},\\frac{\\partial\\mathcal{L}}{\\partial z}$$\n",
    "\n",
    "What is the derivate? (Just check the operation at the gate)?\n",
    "$$\\frac{\\partial\\mathcal{L}}{\\partial q}=z, \\frac{\\partial\\mathcal{L}}{\\partial z}=q$$"
   ]
  },
  {
   "cell_type": "markdown",
   "metadata": {
    "slideshow": {
     "slide_type": "subslide"
    }
   },
   "source": [
    "# Chain Rule on Directed Acyclic Graph (DAG)\n",
    "Even if the problem is very small, we break it down to subproblem so that we can **automate** it:\n",
    "<div align='center'><img src=\"figs/dag_00.png\" width='35%' ></div>\n",
    "\n",
    "\n",
    "$$\\frac{\\partial\\mathcal{L}}{\\partial x},\\frac{\\partial\\mathcal{L}}{\\partial y},\\frac{\\partial\\mathcal{L}}{\\partial z}$$\n",
    "\n",
    "What is the derivate? (Just check the operation at the gate)?\n",
    "$$\\frac{\\partial\\mathcal{q}}{\\partial x}=1, \\frac{\\partial\\mathcal{q}}{\\partial y}=1$$"
   ]
  },
  {
   "cell_type": "markdown",
   "metadata": {
    "slideshow": {
     "slide_type": "subslide"
    }
   },
   "source": [
    "# Chain Rule on Directed Acyclic Graph (DAG)\n",
    "Even if the problem is very small, we break it down to subproblem so that we can **automate** it:\n",
    "<div align='center'><img src=\"figs/dag_00.png\" width='35%' ></div>\n",
    "\n",
    "\n",
    "$$\\frac{\\partial\\mathcal{L}}{\\partial x},\\frac{\\partial\\mathcal{L}}{\\partial y},\\frac{\\partial\\mathcal{L}}{\\partial z}$$\n",
    "\n",
    "OK now we have all the **analytical \"local\" partial derivatives, we can compute something**\n",
    "\n",
    "$$\\frac{\\partial\\mathcal{L}}{\\partial q}=z, \\frac{\\partial\\mathcal{L}}{\\partial z}=q, \\frac{\\partial\\mathcal{q}}{\\partial x}=1, \\frac{\\partial\\mathcal{q}}{\\partial y}=1$$"
   ]
  },
  {
   "cell_type": "markdown",
   "metadata": {
    "slideshow": {
     "slide_type": "subslide"
    }
   },
   "source": [
    "# Forward Pass\n",
    "\n",
    "<div align='center'><img src=\"figs/dag_01.png\" width='37%' ></div>\n",
    "\n",
    "\n",
    "$$\\frac{\\partial\\mathcal{L}}{\\partial x},\\frac{\\partial\\mathcal{L}}{\\partial y},\\frac{\\partial\\mathcal{L}}{\\partial z}$$\n",
    "\n",
    "OK now we have all the **analytical partial derivatives, we can compute something**\n",
    "\n",
    "$$\\frac{\\partial\\mathcal{L}}{\\partial q}=z, \\frac{\\partial\\mathcal{L}}{\\partial z}=q, \\frac{\\partial\\mathcal{q}}{\\partial x}=1, \\frac{\\partial\\mathcal{q}}{\\partial y}=1$$"
   ]
  },
  {
   "cell_type": "markdown",
   "metadata": {
    "slideshow": {
     "slide_type": "subslide"
    }
   },
   "source": [
    "# Forward Pass\n",
    "\n",
    "<div align='center'><img src=\"figs/dag_02.png\" width='37%' ></div>\n",
    "\n",
    "\n",
    "$$\\frac{\\partial\\mathcal{L}}{\\partial x},\\frac{\\partial\\mathcal{L}}{\\partial y},\\frac{\\partial\\mathcal{L}}{\\partial z}$$\n",
    "\n",
    "OK now we have all the **analytical partial derivatives, we can compute something**\n",
    "\n",
    "$$\\frac{\\partial\\mathcal{L}}{\\partial q}=z, \\frac{\\partial\\mathcal{L}}{\\partial z}=q, \\frac{\\partial\\mathcal{q}}{\\partial x}=1, \\frac{\\partial\\mathcal{q}}{\\partial y}=1$$"
   ]
  },
  {
   "cell_type": "markdown",
   "metadata": {
    "slideshow": {
     "slide_type": "subslide"
    }
   },
   "source": [
    "# Forward Pass\n",
    "\n",
    "<div align='center'><img src=\"figs/dag_03.png\" width='37%' ></div>\n",
    "\n",
    "**This is what we wanted:**\n",
    "$$\\frac{\\partial\\mathcal{L}}{\\partial x},\\frac{\\partial\\mathcal{L}}{\\partial y},\\frac{\\partial\\mathcal{L}}{\\partial z}$$\n",
    "\n",
    "**This is what we have**\n",
    "\n",
    "$$\\frac{\\partial\\mathcal{L}}{\\partial q}=z, \\frac{\\partial\\mathcal{L}}{\\partial z}=q, \\frac{\\partial\\mathcal{q}}{\\partial x}=1, \\frac{\\partial\\mathcal{q}}{\\partial y}=1$$"
   ]
  },
  {
   "cell_type": "markdown",
   "metadata": {
    "slideshow": {
     "slide_type": "subslide"
    }
   },
   "source": [
    "# Backward Pass\n",
    "\n",
    "<div align='center'><img src=\"figs/dag_03.png\" width='37%' ></div>\n",
    "\n",
    "**Act as a base case for the recursion:** $$\\frac{\\partial\\mathcal{L}}{\\partial \\mathcal{L}}=?$$\n",
    "\n",
    "**This is what we wanted:**\n",
    "$$\\frac{\\partial\\mathcal{L}}{\\partial x},\\frac{\\partial\\mathcal{L}}{\\partial y},\\frac{\\partial\\mathcal{L}}{\\partial z}$$\n",
    "\n",
    "**This is what we have**\n",
    "\n",
    "$$\\frac{\\partial\\mathcal{L}}{\\partial q}=z, \\frac{\\partial\\mathcal{L}}{\\partial z}=q, \\frac{\\partial\\mathcal{q}}{\\partial x}=1, \\frac{\\partial\\mathcal{q}}{\\partial y}=1$$"
   ]
  },
  {
   "cell_type": "markdown",
   "metadata": {
    "slideshow": {
     "slide_type": "subslide"
    }
   },
   "source": [
    "# Backward Pass\n",
    "\n",
    "<div align='center'><img src=\"figs/dag_04.png\" width='37%' ></div>\n",
    "\n",
    "**Act as a base case for the recursion:** $$\\frac{\\partial\\mathcal{L}}{\\partial \\mathcal{L}}=1$$\n",
    "\n",
    "**This is what we wanted:**\n",
    "$$\\frac{\\partial\\mathcal{L}}{\\partial x},\\frac{\\partial\\mathcal{L}}{\\partial y},\\frac{\\partial\\mathcal{L}}{\\partial z}$$\n",
    "\n",
    "**This is what we have**\n",
    "\n",
    "$$\\frac{\\partial\\mathcal{L}}{\\partial q}=z, \\frac{\\partial\\mathcal{L}}{\\partial z}=q, \\frac{\\partial\\mathcal{q}}{\\partial x}=1, \\frac{\\partial\\mathcal{q}}{\\partial y}=1$$"
   ]
  },
  {
   "cell_type": "markdown",
   "metadata": {
    "slideshow": {
     "slide_type": "subslide"
    }
   },
   "source": [
    "# Backward Pass\n",
    "\n",
    "<div align='center'><img src=\"figs/dag_04.png\" width='37%' ></div>\n",
    "\n",
    "**What is the value of the gradient of $\\mathcal{L}$ on $z$?**: \n",
    "\n",
    "\n",
    "**This is what we wanted:**\n",
    "$$\\frac{\\partial\\mathcal{L}}{\\partial x},\\frac{\\partial\\mathcal{L}}{\\partial y},\\frac{\\partial\\mathcal{L}}{\\partial z}$$\n",
    "\n",
    "**This is what we have**\n",
    "\n",
    "$$\\frac{\\partial\\mathcal{L}}{\\partial q}=z, \\frac{\\partial\\mathcal{L}}{\\partial z}=q, \\frac{\\partial\\mathcal{q}}{\\partial x}=1, \\frac{\\partial\\mathcal{q}}{\\partial y}=1$$"
   ]
  },
  {
   "cell_type": "markdown",
   "metadata": {
    "slideshow": {
     "slide_type": "subslide"
    }
   },
   "source": [
    "# Backward Pass\n",
    "\n",
    "<div align='center'><img src=\"figs/dag_05.png\" width='37%' ></div>\n",
    "\n",
    "**What is the value of the gradient of $\\mathcal{L}$ on $z$?**: \n",
    "\n",
    "$$\\frac{\\partial\\mathcal{L}}{\\partial z}= q = 3$$\n",
    "\n",
    "**This is what we wanted:**\n",
    "$$\\frac{\\partial\\mathcal{L}}{\\partial x},\\frac{\\partial\\mathcal{L}}{\\partial y},\\frac{\\partial\\mathcal{L}}{\\partial z}$$\n",
    "\n",
    "**This is what we have**\n",
    "\n",
    "$$\\frac{\\partial\\mathcal{L}}{\\partial q}=z, \\frac{\\partial\\mathcal{L}}{\\partial z}=q, \\frac{\\partial\\mathcal{q}}{\\partial x}=1, \\frac{\\partial\\mathcal{q}}{\\partial y}=1$$"
   ]
  },
  {
   "cell_type": "markdown",
   "metadata": {
    "slideshow": {
     "slide_type": "subslide"
    }
   },
   "source": [
    "# Backward Pass\n",
    "\n",
    "<div align='center'><img src=\"figs/dag_05.png\" width='37%' ></div>\n",
    "\n",
    "**What is the value of the gradient of $\\mathcal{L}$ on $q$?**: \n",
    "\n",
    "\n",
    "**This is what we wanted:**\n",
    "$$\\frac{\\partial\\mathcal{L}}{\\partial x},\\frac{\\partial\\mathcal{L}}{\\partial y},\\frac{\\partial\\mathcal{L}}{\\partial z}$$\n",
    "\n",
    "**This is what we have**\n",
    "\n",
    "$$\\frac{\\partial\\mathcal{L}}{\\partial q}=z, \\frac{\\partial\\mathcal{L}}{\\partial z}=q, \\frac{\\partial\\mathcal{q}}{\\partial x}=1, \\frac{\\partial\\mathcal{q}}{\\partial y}=1$$"
   ]
  },
  {
   "cell_type": "markdown",
   "metadata": {
    "slideshow": {
     "slide_type": "subslide"
    }
   },
   "source": [
    "# Backward Pass\n",
    "\n",
    "<div align='center'><img src=\"figs/dag_06.png\" width='37%' ></div>\n",
    "\n",
    "**What is the value of the gradient of $\\mathcal{L}$ on $q$?**: \n",
    "\n",
    "$$\\frac{\\partial\\mathcal{L}}{\\partial q}= z = -4$$\n",
    "\n",
    "**This is what we wanted:**\n",
    "$$\\frac{\\partial\\mathcal{L}}{\\partial x},\\frac{\\partial\\mathcal{L}}{\\partial y},\\frac{\\partial\\mathcal{L}}{\\partial z}$$\n",
    "\n",
    "**This is what we have**\n",
    "\n",
    "$$\\frac{\\partial\\mathcal{L}}{\\partial q}=z, \\frac{\\partial\\mathcal{L}}{\\partial z}=q, \\frac{\\partial\\mathcal{q}}{\\partial x}=1, \\frac{\\partial\\mathcal{q}}{\\partial y}=1$$"
   ]
  },
  {
   "cell_type": "markdown",
   "metadata": {
    "slideshow": {
     "slide_type": "subslide"
    }
   },
   "source": [
    "# Backward Pass\n",
    "\n",
    "<div align='center'><img src=\"figs/dag_06.png\" width='37%' ></div>\n",
    "\n",
    "**What is the value of the gradient of $\\mathcal{L}$ on $y$?**: \n",
    "\n",
    "\n",
    "**This is what we wanted:**\n",
    "$$\\frac{\\partial\\mathcal{L}}{\\partial x},\\frac{\\partial\\mathcal{L}}{\\partial y},\\frac{\\partial\\mathcal{L}}{\\partial z}$$\n",
    "\n",
    "**This is what we have**\n",
    "\n",
    "$$\\frac{\\partial\\mathcal{L}}{\\partial q}=z, \\frac{\\partial\\mathcal{L}}{\\partial z}=q, \\frac{\\partial\\mathcal{q}}{\\partial x}=1, \\frac{\\partial\\mathcal{q}}{\\partial y}=1$$"
   ]
  },
  {
   "cell_type": "markdown",
   "metadata": {
    "slideshow": {
     "slide_type": "subslide"
    }
   },
   "source": [
    "# Backward Pass\n",
    "\n",
    "<div align='center'><img src=\"figs/dag_06.png\" width='37%' ></div>\n",
    "\n",
    "**What is the value of the gradient of $\\mathcal{L}$ on $y$?**: \n",
    "$$\\frac{\\partial\\mathcal{L}}{\\partial y} = \\frac{\\partial\\mathcal{L}}{\\partial q}\\frac{\\partial q}{\\partial y} = z\\cdot 1= -4$$\n",
    "\n",
    "**This is what we wanted:**\n",
    "$$\\frac{\\partial\\mathcal{L}}{\\partial x},\\frac{\\partial\\mathcal{L}}{\\partial y},\\frac{\\partial\\mathcal{L}}{\\partial z}$$\n",
    "\n",
    "**This is what we have**\n",
    "\n",
    "$$\\frac{\\partial\\mathcal{L}}{\\partial q}=z, \\frac{\\partial\\mathcal{L}}{\\partial z}=q, \\frac{\\partial\\mathcal{q}}{\\partial x}=1, \\frac{\\partial\\mathcal{q}}{\\partial y}=1$$"
   ]
  },
  {
   "cell_type": "markdown",
   "metadata": {
    "slideshow": {
     "slide_type": "subslide"
    }
   },
   "source": [
    "# Backward Pass\n",
    "<div align='center'><img src=\"figs/dag_07.png\" width='37%' ></div>\n",
    "\n",
    "**This is what we wanted:**\n",
    "$$\\frac{\\partial\\mathcal{L}}{\\partial x},\\frac{\\partial\\mathcal{L}}{\\partial y},\\frac{\\partial\\mathcal{L}}{\\partial z}$$\n",
    "\n",
    "**This is what we have**\n",
    "\n",
    "$$\\frac{\\partial\\mathcal{L}}{\\partial q}=z, \\frac{\\partial\\mathcal{L}}{\\partial z}=q, \\frac{\\partial\\mathcal{q}}{\\partial x}=1, \\frac{\\partial\\mathcal{q}}{\\partial y}=1$$"
   ]
  },
  {
   "cell_type": "markdown",
   "metadata": {
    "slideshow": {
     "slide_type": "subslide"
    }
   },
   "source": [
    "# Check with our manual derivation ✅\n",
    "\n",
    "<div align='center'><img src=\"figs/dag_08.png\" width='37%' ></div>\n",
    "\n",
    "The high school way (as we did until now):\n",
    "\n",
    "$$\\frac{\\partial\\mathcal{L}(x,y,z)}{\\partial x} =  (\\mbf{x}z+yz)^{\\prime}=(\\mbf{x}z)^{\\prime}+(yz)^{\\prime} = z = -4$$\n",
    "$$\\frac{\\partial\\mathcal{L}(x,y,z)}{\\partial y} =  (xz+\\mbf{y}z)^{\\prime}=(xz)^{\\prime}+(\\mbf{y}z)^{\\prime} = z = -4$$\n",
    "$$\\frac{\\partial\\mathcal{L}(x,y,z)}{\\partial z} =  x+y = +3 $$"
   ]
  },
  {
   "cell_type": "markdown",
   "metadata": {
    "slideshow": {
     "slide_type": "subslide"
    }
   },
   "source": [
    "# You know what? I do not trust math, I want to verify with a machine ✅"
   ]
  },
  {
   "cell_type": "markdown",
   "metadata": {
    "slideshow": {
     "slide_type": "subslide"
    }
   },
   "source": [
    "# Pytorch check\n",
    "```python\n",
    "from torch import tensor\n",
    "\n",
    "def neural_net(x,y,z):\n",
    "    return (x+y)*z\n",
    "\n",
    "x, y, z = tensor(-2., requires_grad=True), tensor(5.,requires_grad=True), tensor(-4., requires_grad=True)\n",
    "loss = neural_net(x,y,z) # forward pass\n",
    "loss.backward()          # backward (after this I can check the gradients)\n",
    "for el in [x,y,z]:\n",
    "    print(el.grad)\n",
    "```\n",
    "```\n",
    "tensor(-4.)\n",
    "tensor(-4.)\n",
    "tensor(3.)\n",
    "```"
   ]
  },
  {
   "cell_type": "code",
   "execution_count": 16,
   "metadata": {
    "slideshow": {
     "slide_type": "skip"
    }
   },
   "outputs": [
    {
     "name": "stdout",
     "output_type": "stream",
     "text": [
      "tensor(-4.)\n",
      "tensor(-4.)\n",
      "tensor(3.)\n"
     ]
    }
   ],
   "source": [
    "from torch import tensor\n",
    "\n",
    "def neural_net(x,y,z):\n",
    "    loss = (x+y)*z\n",
    "    return loss\n",
    "\n",
    "x, y, z = tensor(-2., requires_grad=True), tensor(5.,requires_grad=True), tensor(-4., requires_grad=True)\n",
    "loss = neural_net(x,y,z) # forward pass\n",
    "\n",
    "loss.backward() #backward (ok now I can check the gradients)\n",
    "for el in [x,y,z]:\n",
    "    print(el.grad)"
   ]
  },
  {
   "cell_type": "markdown",
   "metadata": {
    "slideshow": {
     "slide_type": "subslide"
    }
   },
   "source": [
    "# General Recipe for Chain Rule over DAGs [Forward]\n",
    "\n",
    "**Just remember what you have to do at a generic gate:**\n",
    "\n",
    "\n",
    "<div align='center'><img src=\"figs/local_grad.png\" width='52%' ></div>"
   ]
  },
  {
   "cell_type": "markdown",
   "metadata": {
    "slideshow": {
     "slide_type": "subslide"
    }
   },
   "source": [
    "# General Recipe for Chain Rule over DAGs  [Backward]\n",
    "\n",
    "**Multiply the gradient that you receive with your local gradient**\n",
    "\n",
    "\n",
    "<div align='center'><img src=\"figs/local_grad_01.png\" width='52%' ></div>"
   ]
  },
  {
   "cell_type": "markdown",
   "metadata": {
    "slideshow": {
     "slide_type": "subslide"
    }
   },
   "source": [
    "# Logistic Regression Computational Graph could be simplified\n",
    "\n",
    "$$\n",
    "f(w, x)=\\frac{1}{1+e^{-\\left(w_{0} x_{0}+w_{1} x_{1}+b\\right)}}\n",
    "$$\n",
    "\n",
    "This is what implement the **Sigmoid Layer in Pytorch:**\n",
    "\n",
    "<div align='center'><img src=\"figs/dag_logistic_reg.png\" width='57%' ></div>\n"
   ]
  },
  {
   "cell_type": "markdown",
   "metadata": {
    "slideshow": {
     "slide_type": "subslide"
    }
   },
   "source": [
    "# Are we done with training neural nets?"
   ]
  },
  {
   "cell_type": "markdown",
   "metadata": {
    "slideshow": {
     "slide_type": "fragment"
    }
   },
   "source": [
    "# Not completely: till now scalars, but we have matrices and vectors!"
   ]
  },
  {
   "cell_type": "markdown",
   "metadata": {
    "slideshow": {
     "slide_type": "subslide"
    }
   },
   "source": [
    "# Now this looks more familiar\n",
    "\n",
    "$\\forall l \\in [1\\ldots,L]$:\n",
    "1. $\\mbf{W}^l \\leftarrow \\mbf{W}^l - \\gamma \\nabla_{\\mbf{W}^l}\\mathcal{L}(\\mbf{x},y;\\{\\mbf{W},b\\})$\n",
    "1. $\\mbf{b}^l \\leftarrow \\mbf{b}^l - \\gamma \\nabla_{\\mbf{b}^l}\\mathcal{L}(\\mbf{x},y;\\{\\mbf{W},b\\})$\n",
    "<br><br>\n",
    "<div align='center'><img src=\"figs/graph_01.png\" width='80%' ></div>"
   ]
  },
  {
   "cell_type": "markdown",
   "metadata": {
    "slideshow": {
     "slide_type": "subslide"
    }
   },
   "source": [
    "$$\\chain{\\mathcal{L}}{\\mbf{W}^1} = \\chain{\\loss}{\\mbf{z}}\\chain{\\mbf{z}}{\\mbf{W}^1}$$"
   ]
  },
  {
   "cell_type": "markdown",
   "metadata": {
    "slideshow": {
     "slide_type": "fragment"
    }
   },
   "source": [
    "$$\\chain{\\mathcal{L}}{\\mbf{W}^1} = \\chain{\\loss}{\\mbf{z}}\\underbrace{\\chain{\\mbf{z}}{\\sigma}\\chain{\\mbf{\\sigma}}{\\mbf{W}^1}}_{\\chain{\\mbf{z}}{\\mbf{W}^1}}$$"
   ]
  },
  {
   "cell_type": "markdown",
   "metadata": {
    "slideshow": {
     "slide_type": "fragment"
    }
   },
   "source": [
    "$$\\chain{\\mathcal{L}}{\\mbf{W}^1} = \\chain{\\loss}{\\mbf{z}}\\chain{\\mbf{z}}{\\sigma}\\underbrace{\\chain{\\mbf{\\sigma}}{\\mbf{h}}\\chain{\\mbf{h}}{\\mbf{W}^1}}_{\\chain{\\mbf{\\sigma}}{\\mbf{W}^1}}$$"
   ]
  },
  {
   "cell_type": "markdown",
   "metadata": {
    "slideshow": {
     "slide_type": "subslide"
    }
   },
   "source": [
    "# Backprop $\\loss$ to $\\mbf{W}_{ij}^{[1]}$\n",
    "\n",
    "<div align='center'><img src=\"figs/graph_02.png\" width='80%' ></div>"
   ]
  }
 ],
 "metadata": {
  "celltoolbar": "Slideshow",
  "kernelspec": {
   "display_name": "Python 3 (ipykernel)",
   "language": "python",
   "name": "python3"
  },
  "language_info": {
   "codemirror_mode": {
    "name": "ipython",
    "version": 3
   },
   "file_extension": ".py",
   "mimetype": "text/x-python",
   "name": "python",
   "nbconvert_exporter": "python",
   "pygments_lexer": "ipython3",
   "version": "3.8.13"
  },
  "latex_envs": {
   "LaTeX_envs_menu_present": true,
   "autoclose": false,
   "autocomplete": false,
   "bibliofile": "biblio.bib",
   "cite_by": "key",
   "current_citInitial": 1,
   "eqLabelWithNumbers": true,
   "eqNumInitial": 1,
   "hotkeys": {
    "equation": "Ctrl-E",
    "itemize": "Ctrl-I"
   },
   "labels_anchors": false,
   "latex_user_defs": false,
   "report_style_numbering": false,
   "user_envs_cfg": false
  },
  "notify_time": "30",
  "rise": {
   "autolaunch": true,
   "overlay": "<div class='myheader'>Natural Language Processing<img src='../sapienza_logo.png'/></div>",
   "transition": "linear"
  },
  "toc": {
   "base_numbering": 1,
   "nav_menu": {},
   "number_sections": true,
   "sideBar": true,
   "skip_h1_title": false,
   "title_cell": "Table of Contents",
   "title_sidebar": "Summary",
   "toc_cell": false,
   "toc_position": {
    "height": "47px",
    "left": "1143px",
    "top": "173px",
    "width": "210.344px"
   },
   "toc_section_display": false,
   "toc_window_display": false
  },
  "varInspector": {
   "cols": {
    "lenName": 16,
    "lenType": 16,
    "lenVar": 40
   },
   "kernels_config": {
    "python": {
     "delete_cmd_postfix": "",
     "delete_cmd_prefix": "del ",
     "library": "var_list.py",
     "varRefreshCmd": "print(var_dic_list())"
    },
    "r": {
     "delete_cmd_postfix": ") ",
     "delete_cmd_prefix": "rm(",
     "library": "var_list.r",
     "varRefreshCmd": "cat(var_dic_list()) "
    }
   },
   "types_to_exclude": [
    "module",
    "function",
    "builtin_function_or_method",
    "instance",
    "_Feature"
   ],
   "window_display": false
  }
 },
 "nbformat": 4,
 "nbformat_minor": 4
}
